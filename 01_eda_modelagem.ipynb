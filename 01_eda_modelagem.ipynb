{
 "cells": [
  {
   "attachments": {},
   "cell_type": "markdown",
   "id": "9a9123e2",
   "metadata": {},
   "source": [
    "Neste notebook faremos uma análise exploratória dos dados pré-processados da Wyscout, em seguida treinaremos dois modelos de classificação - Regressão Logística e Random Forest"
   ]
  },
  {
   "cell_type": "code",
   "execution_count": 1,
   "id": "c506243d",
   "metadata": {
    "ExecuteTime": {
     "end_time": "2023-04-27T11:41:17.427089Z",
     "start_time": "2023-04-27T11:41:15.826728Z"
    }
   },
   "outputs": [],
   "source": [
    "import pandas as pd\n",
    "import matplotlib.pyplot as plt\n",
    "import seaborn as sns\n",
    "import numpy as np\n",
    "from mplsoccer import VerticalPitch\n",
    "%matplotlib inline\n",
    "\n",
    "pd.set_option('display.max_columns', None)\n",
    "pd.set_option('display.max_rows', None)\n",
    "\n",
    "#other\n",
    "import aux_functions_plot as p\n",
    "\n",
    "#ml / stats\n",
    "\n",
    "import sklearn.metrics as sk_metrics\n",
    "from sklearn.model_selection import  KFold\n",
    "from sklearn.model_selection import train_test_split\n",
    "from sklearn.linear_model import LogisticRegression\n",
    "from sklearn.preprocessing import StandardScaler\n",
    "from sklearn.ensemble import RandomForestClassifier\n",
    "\n"
   ]
  },
  {
   "attachments": {},
   "cell_type": "markdown",
   "id": "c9e666f9",
   "metadata": {},
   "source": [
    "## Leitura dos dados\n"
   ]
  },
  {
   "cell_type": "code",
   "execution_count": 2,
   "id": "a6e051f4",
   "metadata": {},
   "outputs": [],
   "source": [
    "shots = pd.read_parquet('./data/shots_dataframe.parquet')"
   ]
  },
  {
   "cell_type": "code",
   "execution_count": 3,
   "id": "a818cf41",
   "metadata": {},
   "outputs": [],
   "source": [
    "goals = shots[shots[\"goal\"] == 1].copy()"
   ]
  },
  {
   "cell_type": "code",
   "execution_count": 4,
   "id": "5a5c9aa0",
   "metadata": {},
   "outputs": [
    {
     "data": {
      "text/html": [
       "<div>\n",
       "<style scoped>\n",
       "    .dataframe tbody tr th:only-of-type {\n",
       "        vertical-align: middle;\n",
       "    }\n",
       "\n",
       "    .dataframe tbody tr th {\n",
       "        vertical-align: top;\n",
       "    }\n",
       "\n",
       "    .dataframe thead th {\n",
       "        text-align: right;\n",
       "    }\n",
       "</style>\n",
       "<table border=\"1\" class=\"dataframe\">\n",
       "  <thead>\n",
       "    <tr style=\"text-align: right;\">\n",
       "      <th></th>\n",
       "      <th>eventId</th>\n",
       "      <th>subEventName</th>\n",
       "      <th>tags</th>\n",
       "      <th>playerId</th>\n",
       "      <th>positions</th>\n",
       "      <th>matchId</th>\n",
       "      <th>eventName</th>\n",
       "      <th>teamId</th>\n",
       "      <th>matchPeriod</th>\n",
       "      <th>eventSec</th>\n",
       "      <th>subEventId</th>\n",
       "      <th>id</th>\n",
       "      <th>league</th>\n",
       "      <th>foot</th>\n",
       "      <th>firstName</th>\n",
       "      <th>lastName</th>\n",
       "      <th>label</th>\n",
       "      <th>venue</th>\n",
       "      <th>date</th>\n",
       "      <th>previous_event</th>\n",
       "      <th>x</th>\n",
       "      <th>y</th>\n",
       "      <th>c</th>\n",
       "      <th>distance</th>\n",
       "      <th>angle</th>\n",
       "      <th>goal</th>\n",
       "      <th>free_kick</th>\n",
       "      <th>counter_attack</th>\n",
       "      <th>rebound</th>\n",
       "      <th>prev_cross</th>\n",
       "      <th>prev_touch</th>\n",
       "      <th>prev_pass</th>\n",
       "      <th>prev_smart_pass</th>\n",
       "      <th>prev_duel</th>\n",
       "    </tr>\n",
       "  </thead>\n",
       "  <tbody>\n",
       "    <tr>\n",
       "      <th>257339</th>\n",
       "      <td>10</td>\n",
       "      <td>Shot</td>\n",
       "      <td>[{'id': 402}, {'id': 1401}, {'id': 1203}, {'id...</td>\n",
       "      <td>25437</td>\n",
       "      <td>[{'x': 91, 'y': 29}, {'x': 0, 'y': 0}]</td>\n",
       "      <td>1694390</td>\n",
       "      <td>Shot</td>\n",
       "      <td>4418</td>\n",
       "      <td>1H</td>\n",
       "      <td>31.226217</td>\n",
       "      <td>100</td>\n",
       "      <td>88178649</td>\n",
       "      <td>European_Championship</td>\n",
       "      <td>left</td>\n",
       "      <td>Blaise</td>\n",
       "      <td>Matuidi</td>\n",
       "      <td>France - Romania, 2 - 1</td>\n",
       "      <td>Stade de France</td>\n",
       "      <td>June 10, 2016 at 9:00:00 PM GMT+2</td>\n",
       "      <td>Head pass</td>\n",
       "      <td>9.45</td>\n",
       "      <td>19.72</td>\n",
       "      <td>14.28</td>\n",
       "      <td>17.123694</td>\n",
       "      <td>0.242346</td>\n",
       "      <td>0</td>\n",
       "      <td>0</td>\n",
       "      <td>0</td>\n",
       "      <td>0</td>\n",
       "      <td>0</td>\n",
       "      <td>0</td>\n",
       "      <td>1</td>\n",
       "      <td>0</td>\n",
       "      <td>0</td>\n",
       "    </tr>\n",
       "    <tr>\n",
       "      <th>257923</th>\n",
       "      <td>10</td>\n",
       "      <td>Shot</td>\n",
       "      <td>[{'id': 402}, {'id': 201}, {'id': 1216}, {'id'...</td>\n",
       "      <td>83824</td>\n",
       "      <td>[{'x': 71, 'y': 29}, {'x': 100, 'y': 100}]</td>\n",
       "      <td>1694390</td>\n",
       "      <td>Shot</td>\n",
       "      <td>11944</td>\n",
       "      <td>1H</td>\n",
       "      <td>143.119551</td>\n",
       "      <td>100</td>\n",
       "      <td>88178722</td>\n",
       "      <td>European_Championship</td>\n",
       "      <td>right</td>\n",
       "      <td>Mihai Doru</td>\n",
       "      <td>Pintilii</td>\n",
       "      <td>France - Romania, 2 - 1</td>\n",
       "      <td>Stade de France</td>\n",
       "      <td>June 10, 2016 at 9:00:00 PM GMT+2</td>\n",
       "      <td>Simple pass</td>\n",
       "      <td>30.45</td>\n",
       "      <td>19.72</td>\n",
       "      <td>14.28</td>\n",
       "      <td>33.632141</td>\n",
       "      <td>0.196835</td>\n",
       "      <td>0</td>\n",
       "      <td>0</td>\n",
       "      <td>0</td>\n",
       "      <td>0</td>\n",
       "      <td>0</td>\n",
       "      <td>0</td>\n",
       "      <td>1</td>\n",
       "      <td>0</td>\n",
       "      <td>0</td>\n",
       "    </tr>\n",
       "    <tr>\n",
       "      <th>258172</th>\n",
       "      <td>10</td>\n",
       "      <td>Shot</td>\n",
       "      <td>[{'id': 402}, {'id': 201}, {'id': 1201}, {'id'...</td>\n",
       "      <td>33235</td>\n",
       "      <td>[{'x': 96, 'y': 57}, {'x': 100, 'y': 100}]</td>\n",
       "      <td>1694390</td>\n",
       "      <td>Shot</td>\n",
       "      <td>11944</td>\n",
       "      <td>1H</td>\n",
       "      <td>219.576026</td>\n",
       "      <td>100</td>\n",
       "      <td>88178751</td>\n",
       "      <td>European_Championship</td>\n",
       "      <td>right</td>\n",
       "      <td>Bogdan Sorin</td>\n",
       "      <td>Stancu</td>\n",
       "      <td>France - Romania, 2 - 1</td>\n",
       "      <td>Stade de France</td>\n",
       "      <td>June 10, 2016 at 9:00:00 PM GMT+2</td>\n",
       "      <td>Air duel</td>\n",
       "      <td>4.20</td>\n",
       "      <td>38.76</td>\n",
       "      <td>4.76</td>\n",
       "      <td>6.348039</td>\n",
       "      <td>0.851948</td>\n",
       "      <td>0</td>\n",
       "      <td>0</td>\n",
       "      <td>0</td>\n",
       "      <td>0</td>\n",
       "      <td>0</td>\n",
       "      <td>0</td>\n",
       "      <td>0</td>\n",
       "      <td>0</td>\n",
       "      <td>1</td>\n",
       "    </tr>\n",
       "    <tr>\n",
       "      <th>257684</th>\n",
       "      <td>10</td>\n",
       "      <td>Shot</td>\n",
       "      <td>[{'id': 403}, {'id': 201}, {'id': 1215}, {'id'...</td>\n",
       "      <td>6165</td>\n",
       "      <td>[{'x': 96, 'y': 61}, {'x': 100, 'y': 100}]</td>\n",
       "      <td>1694390</td>\n",
       "      <td>Shot</td>\n",
       "      <td>11944</td>\n",
       "      <td>1H</td>\n",
       "      <td>247.532561</td>\n",
       "      <td>100</td>\n",
       "      <td>88373458</td>\n",
       "      <td>European_Championship</td>\n",
       "      <td>right</td>\n",
       "      <td>Florin</td>\n",
       "      <td>Andone</td>\n",
       "      <td>France - Romania, 2 - 1</td>\n",
       "      <td>Stade de France</td>\n",
       "      <td>June 10, 2016 at 9:00:00 PM GMT+2</td>\n",
       "      <td>Air duel</td>\n",
       "      <td>4.20</td>\n",
       "      <td>41.48</td>\n",
       "      <td>7.48</td>\n",
       "      <td>8.578485</td>\n",
       "      <td>0.472204</td>\n",
       "      <td>0</td>\n",
       "      <td>0</td>\n",
       "      <td>0</td>\n",
       "      <td>0</td>\n",
       "      <td>0</td>\n",
       "      <td>0</td>\n",
       "      <td>0</td>\n",
       "      <td>0</td>\n",
       "      <td>1</td>\n",
       "    </tr>\n",
       "    <tr>\n",
       "      <th>257303</th>\n",
       "      <td>10</td>\n",
       "      <td>Shot</td>\n",
       "      <td>[{'id': 401}, {'id': 2101}, {'id': 1802}]</td>\n",
       "      <td>3682</td>\n",
       "      <td>[{'x': 75, 'y': 33}, {'x': 0, 'y': 0}]</td>\n",
       "      <td>1694390</td>\n",
       "      <td>Shot</td>\n",
       "      <td>4418</td>\n",
       "      <td>1H</td>\n",
       "      <td>557.319065</td>\n",
       "      <td>100</td>\n",
       "      <td>88178811</td>\n",
       "      <td>European_Championship</td>\n",
       "      <td>left</td>\n",
       "      <td>Antoine</td>\n",
       "      <td>Griezmann</td>\n",
       "      <td>France - Romania, 2 - 1</td>\n",
       "      <td>Stade de France</td>\n",
       "      <td>June 10, 2016 at 9:00:00 PM GMT+2</td>\n",
       "      <td>Simple pass</td>\n",
       "      <td>26.25</td>\n",
       "      <td>22.44</td>\n",
       "      <td>11.56</td>\n",
       "      <td>28.682679</td>\n",
       "      <td>0.233111</td>\n",
       "      <td>0</td>\n",
       "      <td>0</td>\n",
       "      <td>0</td>\n",
       "      <td>0</td>\n",
       "      <td>0</td>\n",
       "      <td>0</td>\n",
       "      <td>1</td>\n",
       "      <td>0</td>\n",
       "      <td>0</td>\n",
       "    </tr>\n",
       "  </tbody>\n",
       "</table>\n",
       "</div>"
      ],
      "text/plain": [
       "        eventId subEventName  \\\n",
       "257339       10         Shot   \n",
       "257923       10         Shot   \n",
       "258172       10         Shot   \n",
       "257684       10         Shot   \n",
       "257303       10         Shot   \n",
       "\n",
       "                                                     tags  playerId  \\\n",
       "257339  [{'id': 402}, {'id': 1401}, {'id': 1203}, {'id...     25437   \n",
       "257923  [{'id': 402}, {'id': 201}, {'id': 1216}, {'id'...     83824   \n",
       "258172  [{'id': 402}, {'id': 201}, {'id': 1201}, {'id'...     33235   \n",
       "257684  [{'id': 403}, {'id': 201}, {'id': 1215}, {'id'...      6165   \n",
       "257303          [{'id': 401}, {'id': 2101}, {'id': 1802}]      3682   \n",
       "\n",
       "                                         positions  matchId eventName  teamId  \\\n",
       "257339      [{'x': 91, 'y': 29}, {'x': 0, 'y': 0}]  1694390      Shot    4418   \n",
       "257923  [{'x': 71, 'y': 29}, {'x': 100, 'y': 100}]  1694390      Shot   11944   \n",
       "258172  [{'x': 96, 'y': 57}, {'x': 100, 'y': 100}]  1694390      Shot   11944   \n",
       "257684  [{'x': 96, 'y': 61}, {'x': 100, 'y': 100}]  1694390      Shot   11944   \n",
       "257303      [{'x': 75, 'y': 33}, {'x': 0, 'y': 0}]  1694390      Shot    4418   \n",
       "\n",
       "       matchPeriod    eventSec  subEventId        id                 league  \\\n",
       "257339          1H   31.226217         100  88178649  European_Championship   \n",
       "257923          1H  143.119551         100  88178722  European_Championship   \n",
       "258172          1H  219.576026         100  88178751  European_Championship   \n",
       "257684          1H  247.532561         100  88373458  European_Championship   \n",
       "257303          1H  557.319065         100  88178811  European_Championship   \n",
       "\n",
       "         foot     firstName   lastName                    label  \\\n",
       "257339   left        Blaise    Matuidi  France - Romania, 2 - 1   \n",
       "257923  right    Mihai Doru   Pintilii  France - Romania, 2 - 1   \n",
       "258172  right  Bogdan Sorin     Stancu  France - Romania, 2 - 1   \n",
       "257684  right        Florin     Andone  France - Romania, 2 - 1   \n",
       "257303   left       Antoine  Griezmann  France - Romania, 2 - 1   \n",
       "\n",
       "                  venue                               date previous_event  \\\n",
       "257339  Stade de France  June 10, 2016 at 9:00:00 PM GMT+2      Head pass   \n",
       "257923  Stade de France  June 10, 2016 at 9:00:00 PM GMT+2    Simple pass   \n",
       "258172  Stade de France  June 10, 2016 at 9:00:00 PM GMT+2       Air duel   \n",
       "257684  Stade de France  June 10, 2016 at 9:00:00 PM GMT+2       Air duel   \n",
       "257303  Stade de France  June 10, 2016 at 9:00:00 PM GMT+2    Simple pass   \n",
       "\n",
       "            x      y      c   distance     angle  goal  free_kick  \\\n",
       "257339   9.45  19.72  14.28  17.123694  0.242346     0          0   \n",
       "257923  30.45  19.72  14.28  33.632141  0.196835     0          0   \n",
       "258172   4.20  38.76   4.76   6.348039  0.851948     0          0   \n",
       "257684   4.20  41.48   7.48   8.578485  0.472204     0          0   \n",
       "257303  26.25  22.44  11.56  28.682679  0.233111     0          0   \n",
       "\n",
       "        counter_attack  rebound  prev_cross  prev_touch  prev_pass  \\\n",
       "257339               0        0           0           0          1   \n",
       "257923               0        0           0           0          1   \n",
       "258172               0        0           0           0          0   \n",
       "257684               0        0           0           0          0   \n",
       "257303               0        0           0           0          1   \n",
       "\n",
       "        prev_smart_pass  prev_duel  \n",
       "257339                0          0  \n",
       "257923                0          0  \n",
       "258172                0          1  \n",
       "257684                0          1  \n",
       "257303                0          0  "
      ]
     },
     "execution_count": 4,
     "metadata": {},
     "output_type": "execute_result"
    }
   ],
   "source": [
    "shots.head()"
   ]
  },
  {
   "attachments": {},
   "cell_type": "markdown",
   "id": "a54a8ce6",
   "metadata": {},
   "source": [
    "### Checando data types / NaNs"
   ]
  },
  {
   "cell_type": "code",
   "execution_count": 5,
   "id": "72d4f5a7",
   "metadata": {},
   "outputs": [
    {
     "name": "stdout",
     "output_type": "stream",
     "text": [
      "<class 'pandas.core.frame.DataFrame'>\n",
      "Int64Index: 45284 entries, 257339 to 2988607\n",
      "Data columns (total 34 columns):\n",
      " #   Column           Non-Null Count  Dtype  \n",
      "---  ------           --------------  -----  \n",
      " 0   eventId          45284 non-null  int64  \n",
      " 1   subEventName     45284 non-null  object \n",
      " 2   tags             45284 non-null  object \n",
      " 3   playerId         45284 non-null  int64  \n",
      " 4   positions        45284 non-null  object \n",
      " 5   matchId          45284 non-null  int64  \n",
      " 6   eventName        45284 non-null  object \n",
      " 7   teamId           45284 non-null  int64  \n",
      " 8   matchPeriod      45284 non-null  object \n",
      " 9   eventSec         45284 non-null  float64\n",
      " 10  subEventId       45284 non-null  int64  \n",
      " 11  id               45284 non-null  int64  \n",
      " 12  league           45284 non-null  object \n",
      " 13  foot             45284 non-null  object \n",
      " 14  firstName        45284 non-null  object \n",
      " 15  lastName         45284 non-null  object \n",
      " 16  label            45284 non-null  object \n",
      " 17  venue            45284 non-null  object \n",
      " 18  date             45284 non-null  object \n",
      " 19  previous_event   45284 non-null  object \n",
      " 20  x                45284 non-null  float64\n",
      " 21  y                45284 non-null  float64\n",
      " 22  c                45284 non-null  float64\n",
      " 23  distance         45284 non-null  float64\n",
      " 24  angle            45284 non-null  float64\n",
      " 25  goal             45284 non-null  int64  \n",
      " 26  free_kick        45284 non-null  int64  \n",
      " 27  counter_attack   45284 non-null  int64  \n",
      " 28  rebound          45284 non-null  int64  \n",
      " 29  prev_cross       45284 non-null  int64  \n",
      " 30  prev_touch       45284 non-null  int64  \n",
      " 31  prev_pass        45284 non-null  int64  \n",
      " 32  prev_smart_pass  45284 non-null  int64  \n",
      " 33  prev_duel        45284 non-null  int64  \n",
      "dtypes: float64(6), int64(15), object(13)\n",
      "memory usage: 12.1+ MB\n"
     ]
    }
   ],
   "source": [
    "shots.info()"
   ]
  },
  {
   "cell_type": "code",
   "execution_count": 6,
   "id": "d373b3ab",
   "metadata": {},
   "outputs": [
    {
     "data": {
      "text/plain": [
       "eventId            0.0\n",
       "subEventName       0.0\n",
       "tags               0.0\n",
       "playerId           0.0\n",
       "positions          0.0\n",
       "matchId            0.0\n",
       "eventName          0.0\n",
       "teamId             0.0\n",
       "matchPeriod        0.0\n",
       "eventSec           0.0\n",
       "subEventId         0.0\n",
       "id                 0.0\n",
       "league             0.0\n",
       "foot               0.0\n",
       "firstName          0.0\n",
       "lastName           0.0\n",
       "label              0.0\n",
       "venue              0.0\n",
       "date               0.0\n",
       "previous_event     0.0\n",
       "x                  0.0\n",
       "y                  0.0\n",
       "c                  0.0\n",
       "distance           0.0\n",
       "angle              0.0\n",
       "goal               0.0\n",
       "free_kick          0.0\n",
       "counter_attack     0.0\n",
       "rebound            0.0\n",
       "prev_cross         0.0\n",
       "prev_touch         0.0\n",
       "prev_pass          0.0\n",
       "prev_smart_pass    0.0\n",
       "prev_duel          0.0\n",
       "dtype: float64"
      ]
     },
     "execution_count": 6,
     "metadata": {},
     "output_type": "execute_result"
    }
   ],
   "source": [
    "shots.isna().mean()"
   ]
  },
  {
   "cell_type": "code",
   "execution_count": 7,
   "id": "8bd02317",
   "metadata": {},
   "outputs": [
    {
     "data": {
      "text/plain": [
       "Index(['eventId', 'subEventName', 'tags', 'playerId', 'positions', 'matchId',\n",
       "       'eventName', 'teamId', 'matchPeriod', 'eventSec', 'subEventId', 'id',\n",
       "       'league', 'foot', 'firstName', 'lastName', 'label', 'venue', 'date',\n",
       "       'previous_event', 'x', 'y', 'c', 'distance', 'angle', 'goal',\n",
       "       'free_kick', 'counter_attack', 'rebound', 'prev_cross', 'prev_touch',\n",
       "       'prev_pass', 'prev_smart_pass', 'prev_duel'],\n",
       "      dtype='object')"
      ]
     },
     "execution_count": 7,
     "metadata": {},
     "output_type": "execute_result"
    }
   ],
   "source": [
    "shots.columns"
   ]
  },
  {
   "attachments": {},
   "cell_type": "markdown",
   "id": "a9edb27b",
   "metadata": {},
   "source": [
    "### Checando o tipo de dados das features"
   ]
  },
  {
   "cell_type": "code",
   "execution_count": 8,
   "id": "99bf229c",
   "metadata": {},
   "outputs": [
    {
     "data": {
      "text/plain": [
       "Index(['eventId', 'playerId', 'matchId', 'teamId', 'subEventId', 'id', 'goal',\n",
       "       'free_kick', 'counter_attack', 'rebound', 'prev_cross', 'prev_touch',\n",
       "       'prev_pass', 'prev_smart_pass', 'prev_duel'],\n",
       "      dtype='object')"
      ]
     },
     "execution_count": 8,
     "metadata": {},
     "output_type": "execute_result"
    }
   ],
   "source": [
    "shots.select_dtypes(\"int\").columns\n"
   ]
  },
  {
   "cell_type": "code",
   "execution_count": 9,
   "id": "e79ab2a6",
   "metadata": {},
   "outputs": [
    {
     "data": {
      "text/plain": [
       "Index(['eventSec', 'x', 'y', 'c', 'distance', 'angle'], dtype='object')"
      ]
     },
     "execution_count": 9,
     "metadata": {},
     "output_type": "execute_result"
    }
   ],
   "source": [
    "shots.select_dtypes(\"float\").columns"
   ]
  },
  {
   "cell_type": "code",
   "execution_count": 10,
   "id": "f0a88e0c",
   "metadata": {},
   "outputs": [
    {
     "data": {
      "text/plain": [
       "Index(['subEventName', 'tags', 'positions', 'eventName', 'matchPeriod',\n",
       "       'league', 'foot', 'firstName', 'lastName', 'label', 'venue', 'date',\n",
       "       'previous_event'],\n",
       "      dtype='object')"
      ]
     },
     "execution_count": 10,
     "metadata": {},
     "output_type": "execute_result"
    }
   ],
   "source": [
    "shots.select_dtypes(\"object\").columns"
   ]
  },
  {
   "attachments": {},
   "cell_type": "markdown",
   "id": "97d918ec",
   "metadata": {},
   "source": [
    "Todas as colunas do dataframe estão com o data type correto. Além disso, verificamos que não temos ocorrência de NaNs em nenhuma das features"
   ]
  },
  {
   "cell_type": "code",
   "execution_count": 11,
   "id": "534b928a",
   "metadata": {},
   "outputs": [
    {
     "name": "stdout",
     "output_type": "stream",
     "text": [
      "O dataset contém 34 features (colunas) e 45284 linhas\n"
     ]
    }
   ],
   "source": [
    "print(f\"O dataset contém {shots.shape[1]} features (colunas) e {shots.shape[0]} linhas\")"
   ]
  },
  {
   "attachments": {},
   "cell_type": "markdown",
   "id": "6a45fd85",
   "metadata": {},
   "source": [
    "## Análise Univaridada"
   ]
  },
  {
   "attachments": {},
   "cell_type": "markdown",
   "id": "8c1ae3de",
   "metadata": {},
   "source": [
    "Das variáveis do tipo 'int' iremos olhar apenas os gols (target). As demais variáveis são ou binárias ou de id."
   ]
  },
  {
   "attachments": {},
   "cell_type": "markdown",
   "id": "a6ba536f",
   "metadata": {},
   "source": [
    "### Avaliando o target (goals)"
   ]
  },
  {
   "cell_type": "code",
   "execution_count": 12,
   "id": "9a598160",
   "metadata": {},
   "outputs": [
    {
     "data": {
      "text/plain": [
       "goal\n",
       "1     4629\n",
       "0    40655\n",
       "dtype: int64"
      ]
     },
     "execution_count": 12,
     "metadata": {},
     "output_type": "execute_result"
    }
   ],
   "source": [
    "shots.groupby('goal').size().sort_values()"
   ]
  },
  {
   "cell_type": "code",
   "execution_count": 13,
   "id": "a4ceb4aa",
   "metadata": {},
   "outputs": [
    {
     "data": {
      "text/plain": [
       "Text(0.5, 1.0, 'Distribuição do número de gols marcados')"
      ]
     },
     "execution_count": 13,
     "metadata": {},
     "output_type": "execute_result"
    },
    {
     "data": {
      "image/png": "[encoded data removed]",
      "text/plain": [
       "<Figure size 640x480 with 1 Axes>"
      ]
     },
     "metadata": {},
     "output_type": "display_data"
    }
   ],
   "source": [
    "sns.histplot(shots['goal'])\n",
    "plt.title(\"Distribuição do número de gols marcados\")"
   ]
  },
  {
   "attachments": {},
   "cell_type": "markdown",
   "id": "10de93ed",
   "metadata": {},
   "source": [
    "### Avaliando as features do tipo object mais relevantes"
   ]
  },
  {
   "cell_type": "code",
   "execution_count": 14,
   "id": "a785bc7b",
   "metadata": {},
   "outputs": [
    {
     "data": {
      "text/plain": [
       "subEventName\n",
       "Free kick shot     2209\n",
       "Shot              43075\n",
       "dtype: int64"
      ]
     },
     "execution_count": 14,
     "metadata": {},
     "output_type": "execute_result"
    }
   ],
   "source": [
    "shots.groupby('subEventName').size().sort_values()"
   ]
  },
  {
   "cell_type": "code",
   "execution_count": 15,
   "id": "b76103e7",
   "metadata": {},
   "outputs": [
    {
     "data": {
      "text/plain": [
       "eventName\n",
       "Free Kick     2209\n",
       "Shot         43075\n",
       "dtype: int64"
      ]
     },
     "execution_count": 15,
     "metadata": {},
     "output_type": "execute_result"
    }
   ],
   "source": [
    "shots.groupby('eventName').size().sort_values()"
   ]
  },
  {
   "attachments": {},
   "cell_type": "markdown",
   "id": "8e6e5308",
   "metadata": {},
   "source": [
    "Estas 2 variáveis estão redundantes, e podemos excluir ambas, dado que já temos encoding para free_kick. Além disso, vamos excluir também position pois já extraimos as coordenadas x e y na etapa anterior."
   ]
  },
  {
   "cell_type": "code",
   "execution_count": 16,
   "id": "cab54d84",
   "metadata": {},
   "outputs": [],
   "source": [
    "excluir = ['eventName', 'subEventName', 'position', 'match_period']"
   ]
  },
  {
   "cell_type": "code",
   "execution_count": 17,
   "id": "b754fba0",
   "metadata": {},
   "outputs": [
    {
     "data": {
      "text/plain": [
       "previous_event\n",
       "Simple pass                10615\n",
       "Air duel                    5263\n",
       "Ground attacking duel       4711\n",
       "Ground defending duel       4553\n",
       "Cross                       4057\n",
       "Touch                       3003\n",
       "Foul                        2099\n",
       "Clearance                   2059\n",
       "Smart pass                  1809\n",
       "Ground loose ball duel      1446\n",
       "Corner                       989\n",
       "Head pass                    939\n",
       "High pass                    915\n",
       "Acceleration                 777\n",
       "Reflexes                     526\n",
       "Free kick cross              484\n",
       "Shot                         216\n",
       "Goalkeeper leaving line      162\n",
       "Free Kick                    150\n",
       "Save attempt                 131\n",
       "Throw in                     126\n",
       "Hand foul                     87\n",
       "Launch                        60\n",
       "Free kick shot                32\n",
       "Protest                       23\n",
       "Goal kick                     19\n",
       "Out of game foul              12\n",
       "Hand pass                      7\n",
       "Late card foul                 6\n",
       "Violent Foul                   3\n",
       "Penalty                        3\n",
       "Time lost foul                 1\n",
       "                               1\n",
       "dtype: int64"
      ]
     },
     "execution_count": 17,
     "metadata": {},
     "output_type": "execute_result"
    }
   ],
   "source": [
    "shots.groupby('previous_event').size().sort_values(ascending = False)"
   ]
  },
  {
   "attachments": {},
   "cell_type": "markdown",
   "id": "fa74e279",
   "metadata": {},
   "source": [
    "### Avaliando as features do tipo float"
   ]
  },
  {
   "cell_type": "code",
   "execution_count": 18,
   "id": "291b9fbf",
   "metadata": {},
   "outputs": [
    {
     "data": {
      "text/plain": [
       "Text(0.5, 1.0, 'Distribuição de chutes ao longo da distância horizontal do campo (x)')"
      ]
     },
     "execution_count": 18,
     "metadata": {},
     "output_type": "execute_result"
    },
    {
     "data": {
      "image/png": "[encoded data removed]",
      "text/plain": [
       "<Figure size 640x480 with 1 Axes>"
      ]
     },
     "metadata": {},
     "output_type": "display_data"
    }
   ],
   "source": [
    "sns.histplot(x = shots['x'], hue = shots['goal'])\n",
    "plt.title(\"Distribuição de chutes ao longo da distância horizontal do campo (x)\")"
   ]
  },
  {
   "cell_type": "code",
   "execution_count": 19,
   "id": "2856a175",
   "metadata": {},
   "outputs": [
    {
     "data": {
      "text/plain": [
       "Text(0.5, 1.0, 'Distribuição da distribuição de chutes ao longo da distância vertical do campo (y)')"
      ]
     },
     "execution_count": 19,
     "metadata": {},
     "output_type": "execute_result"
    },
    {
     "data": {
      "image/png": "[encoded data removed]",
      "text/plain": [
       "<Figure size 640x480 with 1 Axes>"
      ]
     },
     "metadata": {},
     "output_type": "display_data"
    }
   ],
   "source": [
    "sns.histplot(x = shots['y'], hue = shots['goal'])\n",
    "plt.title(\"Distribuição da distribuição de chutes ao longo da distância vertical do campo (y)\")"
   ]
  },
  {
   "cell_type": "code",
   "execution_count": 20,
   "id": "6fba0414",
   "metadata": {},
   "outputs": [
    {
     "data": {
      "text/plain": [
       "Text(0.5, 1.0, 'Distribuição da quantidade chutes por angulo (radianos)')"
      ]
     },
     "execution_count": 20,
     "metadata": {},
     "output_type": "execute_result"
    },
    {
     "data": {
      "image/png": "[encoded data removed]",
      "text/plain": [
       "<Figure size 640x480 with 1 Axes>"
      ]
     },
     "metadata": {},
     "output_type": "display_data"
    }
   ],
   "source": [
    "sns.histplot(x = shots['angle'], hue = shots['goal'])\n",
    "plt.title(\"Distribuição da quantidade chutes por angulo (radianos)\")"
   ]
  },
  {
   "cell_type": "code",
   "execution_count": 21,
   "id": "ac3c7abb",
   "metadata": {},
   "outputs": [
    {
     "data": {
      "text/plain": [
       "Text(0.5, 1.0, 'Distribuição da quantidade chutes pela distancia')"
      ]
     },
     "execution_count": 21,
     "metadata": {},
     "output_type": "execute_result"
    },
    {
     "data": {
      "image/png": "[encoded data removed]",
      "text/plain": [
       "<Figure size 640x480 with 1 Axes>"
      ]
     },
     "metadata": {},
     "output_type": "display_data"
    }
   ],
   "source": [
    "sns.histplot(x = shots['distance'], hue = shots['goal'])\n",
    "plt.title(\"Distribuição da quantidade chutes pela distancia\")"
   ]
  },
  {
   "attachments": {},
   "cell_type": "markdown",
   "id": "8a51698e",
   "metadata": {},
   "source": [
    "## Análise multivariada"
   ]
  },
  {
   "attachments": {},
   "cell_type": "markdown",
   "id": "9941d84a",
   "metadata": {},
   "source": [
    "### Avaliando a posição de onde os chutes partem e hipóteses iniciais"
   ]
  },
  {
   "cell_type": "code",
   "execution_count": 22,
   "id": "ebdaf110",
   "metadata": {},
   "outputs": [
    {
     "name": "stderr",
     "output_type": "stream",
     "text": [
      "/Users/lucasmaretti/Documents/repos/football_analytics_master/aux_functions_plot.py:500: FutureWarning: In a future version of pandas all arguments of DataFrame.pivot will be keyword-only.\n",
      "  df_img = df_pos.pivot(col_y + \"ZoneMean\", col_x + \"ZoneMean\", \"aggVal\")\n"
     ]
    }
   ],
   "source": [
    "nb_shots, x,y, df_shots = p.prepare_heatmap(shots, 'x', 'y', 24,17, return_df = True)\n",
    "share_shots = nb_shots / nb_shots.sum() * 100"
   ]
  },
  {
   "cell_type": "code",
   "execution_count": 23,
   "id": "1c367770",
   "metadata": {},
   "outputs": [
    {
     "data": {
      "application/vnd.plotly.v1+json": {
       "config": {
        "plotlyServerURL": "https://plot.ly"
       },
       "data": [
        {
         "hoverinfo": "text",
         "text": [
          [
           "Proporção de chutes (em %): 0.00<br />Número de chutes: 0<br />",
           "Proporção de chutes (em %): 0.01<br />Número de chutes: 3<br />",
           "Proporção de chutes (em %): 0.00<br />Número de chutes: 0<br />",
           "Proporção de chutes (em %): 0.00<br />Número de chutes: 2<br />",
           "Proporção de chutes (em %): 0.00<br />Número de chutes: 1<br />",
           "Proporção de chutes (em %): 0.00<br />Número de chutes: 2<br />",
           "Proporção de chutes (em %): 0.00<br />Número de chutes: 0<br />",
           "Proporção de chutes (em %): 0.00<br />Número de chutes: 1<br />",
           "Proporção de chutes (em %): 0.00<br />Número de chutes: 0<br />",
           "Proporção de chutes (em %): 0.00<br />Número de chutes: 0<br />",
           "Proporção de chutes (em %): 0.00<br />Número de chutes: 0<br />",
           "Proporção de chutes (em %): 0.00<br />Número de chutes: 1<br />",
           "Proporção de chutes (em %): 0.00<br />Número de chutes: 1<br />",
           "Proporção de chutes (em %): 0.01<br />Número de chutes: 6<br />",
           "Proporção de chutes (em %): 0.00<br />Número de chutes: 1<br />",
           "Proporção de chutes (em %): 0.00<br />Número de chutes: 1<br />",
           "Proporção de chutes (em %): 0.00<br />Número de chutes: 0<br />",
           "Proporção de chutes (em %): 0.00<br />Número de chutes: 0<br />",
           "Proporção de chutes (em %): 0.00<br />Número de chutes: 0<br />",
           "Proporção de chutes (em %): 0.00<br />Número de chutes: 0<br />",
           "Proporção de chutes (em %): 0.00<br />Número de chutes: 0<br />",
           "Proporção de chutes (em %): 0.00<br />Número de chutes: 0<br />",
           "Proporção de chutes (em %): 0.00<br />Número de chutes: 0<br />",
           "Proporção de chutes (em %): 0.00<br />Número de chutes: 0<br />"
          ],
          [
           "Proporção de chutes (em %): 0.00<br />Número de chutes: 0<br />",
           "Proporção de chutes (em %): 0.02<br />Número de chutes: 7<br />",
           "Proporção de chutes (em %): 0.01<br />Número de chutes: 5<br />",
           "Proporção de chutes (em %): 0.01<br />Número de chutes: 6<br />",
           "Proporção de chutes (em %): 0.01<br />Número de chutes: 6<br />",
           "Proporção de chutes (em %): 0.02<br />Número de chutes: 11<br />",
           "Proporção de chutes (em %): 0.01<br />Número de chutes: 6<br />",
           "Proporção de chutes (em %): 0.01<br />Número de chutes: 4<br />",
           "Proporção de chutes (em %): 0.01<br />Número de chutes: 4<br />",
           "Proporção de chutes (em %): 0.00<br />Número de chutes: 2<br />",
           "Proporção de chutes (em %): 0.00<br />Número de chutes: 0<br />",
           "Proporção de chutes (em %): 0.00<br />Número de chutes: 0<br />",
           "Proporção de chutes (em %): 0.00<br />Número de chutes: 1<br />",
           "Proporção de chutes (em %): 0.00<br />Número de chutes: 0<br />",
           "Proporção de chutes (em %): 0.00<br />Número de chutes: 1<br />",
           "Proporção de chutes (em %): 0.00<br />Número de chutes: 0<br />",
           "Proporção de chutes (em %): 0.00<br />Número de chutes: 0<br />",
           "Proporção de chutes (em %): 0.00<br />Número de chutes: 0<br />",
           "Proporção de chutes (em %): 0.00<br />Número de chutes: 0<br />",
           "Proporção de chutes (em %): 0.00<br />Número de chutes: 0<br />",
           "Proporção de chutes (em %): 0.00<br />Número de chutes: 0<br />",
           "Proporção de chutes (em %): 0.00<br />Número de chutes: 0<br />",
           "Proporção de chutes (em %): 0.00<br />Número de chutes: 0<br />",
           "Proporção de chutes (em %): 0.00<br />Número de chutes: 0<br />"
          ],
          [
           "Proporção de chutes (em %): 0.01<br />Número de chutes: 5<br />",
           "Proporção de chutes (em %): 0.04<br />Número de chutes: 19<br />",
           "Proporção de chutes (em %): 0.09<br />Número de chutes: 40<br />",
           "Proporção de chutes (em %): 0.05<br />Número de chutes: 24<br />",
           "Proporção de chutes (em %): 0.05<br />Número de chutes: 22<br />",
           "Proporção de chutes (em %): 0.09<br />Número de chutes: 39<br />",
           "Proporção de chutes (em %): 0.07<br />Número de chutes: 33<br />",
           "Proporção de chutes (em %): 0.02<br />Número de chutes: 10<br />",
           "Proporção de chutes (em %): 0.01<br />Número de chutes: 6<br />",
           "Proporção de chutes (em %): 0.00<br />Número de chutes: 0<br />",
           "Proporção de chutes (em %): 0.00<br />Número de chutes: 1<br />",
           "Proporção de chutes (em %): 0.00<br />Número de chutes: 2<br />",
           "Proporção de chutes (em %): 0.00<br />Número de chutes: 1<br />",
           "Proporção de chutes (em %): 0.00<br />Número de chutes: 0<br />",
           "Proporção de chutes (em %): 0.00<br />Número de chutes: 0<br />",
           "Proporção de chutes (em %): 0.00<br />Número de chutes: 0<br />",
           "Proporção de chutes (em %): 0.00<br />Número de chutes: 0<br />",
           "Proporção de chutes (em %): 0.00<br />Número de chutes: 0<br />",
           "Proporção de chutes (em %): 0.00<br />Número de chutes: 0<br />",
           "Proporção de chutes (em %): 0.00<br />Número de chutes: 0<br />",
           "Proporção de chutes (em %): 0.00<br />Número de chutes: 0<br />",
           "Proporção de chutes (em %): 0.00<br />Número de chutes: 0<br />",
           "Proporção de chutes (em %): 0.00<br />Número de chutes: 0<br />",
           "Proporção de chutes (em %): 0.00<br />Número de chutes: 0<br />"
          ],
          [
           "Proporção de chutes (em %): 0.00<br />Número de chutes: 2<br />",
           "Proporção de chutes (em %): 0.06<br />Número de chutes: 26<br />",
           "Proporção de chutes (em %): 0.17<br />Número de chutes: 76<br />",
           "Proporção de chutes (em %): 0.15<br />Número de chutes: 70<br />",
           "Proporção de chutes (em %): 0.21<br />Número de chutes: 96<br />",
           "Proporção de chutes (em %): 0.46<br />Número de chutes: 207<br />",
           "Proporção de chutes (em %): 0.29<br />Número de chutes: 130<br />",
           "Proporção de chutes (em %): 0.10<br />Número de chutes: 46<br />",
           "Proporção de chutes (em %): 0.02<br />Número de chutes: 7<br />",
           "Proporção de chutes (em %): 0.01<br />Número de chutes: 3<br />",
           "Proporção de chutes (em %): 0.01<br />Número de chutes: 3<br />",
           "Proporção de chutes (em %): 0.00<br />Número de chutes: 1<br />",
           "Proporção de chutes (em %): 0.00<br />Número de chutes: 1<br />",
           "Proporção de chutes (em %): 0.00<br />Número de chutes: 0<br />",
           "Proporção de chutes (em %): 0.00<br />Número de chutes: 1<br />",
           "Proporção de chutes (em %): 0.00<br />Número de chutes: 0<br />",
           "Proporção de chutes (em %): 0.00<br />Número de chutes: 0<br />",
           "Proporção de chutes (em %): 0.00<br />Número de chutes: 0<br />",
           "Proporção de chutes (em %): 0.00<br />Número de chutes: 0<br />",
           "Proporção de chutes (em %): 0.00<br />Número de chutes: 0<br />",
           "Proporção de chutes (em %): 0.00<br />Número de chutes: 0<br />",
           "Proporção de chutes (em %): 0.00<br />Número de chutes: 0<br />",
           "Proporção de chutes (em %): 0.00<br />Número de chutes: 0<br />",
           "Proporção de chutes (em %): 0.00<br />Número de chutes: 0<br />"
          ],
          [
           "Proporção de chutes (em %): 0.11<br />Número de chutes: 49<br />",
           "Proporção de chutes (em %): 0.53<br />Número de chutes: 239<br />",
           "Proporção de chutes (em %): 1.32<br />Número de chutes: 600<br />",
           "Proporção de chutes (em %): 0.86<br />Número de chutes: 388<br />",
           "Proporção de chutes (em %): 0.87<br />Número de chutes: 393<br />",
           "Proporção de chutes (em %): 1.35<br />Número de chutes: 613<br />",
           "Proporção de chutes (em %): 0.69<br />Número de chutes: 311<br />",
           "Proporção de chutes (em %): 0.21<br />Número de chutes: 94<br />",
           "Proporção de chutes (em %): 0.02<br />Número de chutes: 8<br />",
           "Proporção de chutes (em %): 0.01<br />Número de chutes: 3<br />",
           "Proporção de chutes (em %): 0.00<br />Número de chutes: 2<br />",
           "Proporção de chutes (em %): 0.01<br />Número de chutes: 4<br />",
           "Proporção de chutes (em %): 0.00<br />Número de chutes: 1<br />",
           "Proporção de chutes (em %): 0.01<br />Número de chutes: 3<br />",
           "Proporção de chutes (em %): 0.01<br />Número de chutes: 3<br />",
           "Proporção de chutes (em %): 0.00<br />Número de chutes: 1<br />",
           "Proporção de chutes (em %): 0.00<br />Número de chutes: 1<br />",
           "Proporção de chutes (em %): 0.00<br />Número de chutes: 0<br />",
           "Proporção de chutes (em %): 0.00<br />Número de chutes: 0<br />",
           "Proporção de chutes (em %): 0.00<br />Número de chutes: 0<br />",
           "Proporção de chutes (em %): 0.00<br />Número de chutes: 0<br />",
           "Proporção de chutes (em %): 0.00<br />Número de chutes: 0<br />",
           "Proporção de chutes (em %): 0.00<br />Número de chutes: 0<br />",
           "Proporção de chutes (em %): 0.00<br />Número de chutes: 0<br />"
          ],
          [
           "Proporção de chutes (em %): 0.37<br />Número de chutes: 167<br />",
           "Proporção de chutes (em %): 1.39<br />Número de chutes: 628<br />",
           "Proporção de chutes (em %): 3.01<br />Número de chutes: 1365<br />",
           "Proporção de chutes (em %): 1.63<br />Número de chutes: 739<br />",
           "Proporção de chutes (em %): 1.42<br />Número de chutes: 645<br />",
           "Proporção de chutes (em %): 1.98<br />Número de chutes: 897<br />",
           "Proporção de chutes (em %): 1.05<br />Número de chutes: 476<br />",
           "Proporção de chutes (em %): 0.29<br />Número de chutes: 130<br />",
           "Proporção de chutes (em %): 0.04<br />Número de chutes: 19<br />",
           "Proporção de chutes (em %): 0.01<br />Número de chutes: 5<br />",
           "Proporção de chutes (em %): 0.01<br />Número de chutes: 3<br />",
           "Proporção de chutes (em %): 0.01<br />Número de chutes: 3<br />",
           "Proporção de chutes (em %): 0.00<br />Número de chutes: 0<br />",
           "Proporção de chutes (em %): 0.01<br />Número de chutes: 4<br />",
           "Proporção de chutes (em %): 0.01<br />Número de chutes: 4<br />",
           "Proporção de chutes (em %): 0.00<br />Número de chutes: 1<br />",
           "Proporção de chutes (em %): 0.00<br />Número de chutes: 0<br />",
           "Proporção de chutes (em %): 0.00<br />Número de chutes: 0<br />",
           "Proporção de chutes (em %): 0.00<br />Número de chutes: 0<br />",
           "Proporção de chutes (em %): 0.00<br />Número de chutes: 0<br />",
           "Proporção de chutes (em %): 0.00<br />Número de chutes: 0<br />",
           "Proporção de chutes (em %): 0.00<br />Número de chutes: 1<br />",
           "Proporção de chutes (em %): 0.00<br />Número de chutes: 0<br />",
           "Proporção de chutes (em %): 0.00<br />Número de chutes: 0<br />"
          ],
          [
           "Proporção de chutes (em %): 0.65<br />Número de chutes: 296<br />",
           "Proporção de chutes (em %): 1.71<br />Número de chutes: 776<br />",
           "Proporção de chutes (em %): 3.41<br />Número de chutes: 1543<br />",
           "Proporção de chutes (em %): 1.67<br />Número de chutes: 755<br />",
           "Proporção de chutes (em %): 1.29<br />Número de chutes: 583<br />",
           "Proporção de chutes (em %): 2.08<br />Número de chutes: 941<br />",
           "Proporção de chutes (em %): 1.15<br />Número de chutes: 522<br />",
           "Proporção de chutes (em %): 0.39<br />Número de chutes: 178<br />",
           "Proporção de chutes (em %): 0.05<br />Número de chutes: 22<br />",
           "Proporção de chutes (em %): 0.01<br />Número de chutes: 4<br />",
           "Proporção de chutes (em %): 0.00<br />Número de chutes: 2<br />",
           "Proporção de chutes (em %): 0.00<br />Número de chutes: 2<br />",
           "Proporção de chutes (em %): 0.00<br />Número de chutes: 2<br />",
           "Proporção de chutes (em %): 0.01<br />Número de chutes: 3<br />",
           "Proporção de chutes (em %): 0.00<br />Número de chutes: 1<br />",
           "Proporção de chutes (em %): 0.00<br />Número de chutes: 1<br />",
           "Proporção de chutes (em %): 0.00<br />Número de chutes: 0<br />",
           "Proporção de chutes (em %): 0.00<br />Número de chutes: 0<br />",
           "Proporção de chutes (em %): 0.00<br />Número de chutes: 0<br />",
           "Proporção de chutes (em %): 0.00<br />Número de chutes: 1<br />",
           "Proporção de chutes (em %): 0.00<br />Número de chutes: 0<br />",
           "Proporção de chutes (em %): 0.00<br />Número de chutes: 0<br />",
           "Proporção de chutes (em %): 0.00<br />Número de chutes: 1<br />",
           "Proporção de chutes (em %): 0.00<br />Número de chutes: 1<br />"
          ],
          [
           "Proporção de chutes (em %): 0.92<br />Número de chutes: 418<br />",
           "Proporção de chutes (em %): 2.65<br />Número de chutes: 1198<br />",
           "Proporção de chutes (em %): 3.83<br />Número de chutes: 1736<br />",
           "Proporção de chutes (em %): 1.67<br />Número de chutes: 757<br />",
           "Proporção de chutes (em %): 1.26<br />Número de chutes: 571<br />",
           "Proporção de chutes (em %): 1.86<br />Número de chutes: 841<br />",
           "Proporção de chutes (em %): 1.27<br />Número de chutes: 576<br />",
           "Proporção de chutes (em %): 0.44<br />Número de chutes: 199<br />",
           "Proporção de chutes (em %): 0.04<br />Número de chutes: 16<br />",
           "Proporção de chutes (em %): 0.01<br />Número de chutes: 5<br />",
           "Proporção de chutes (em %): 0.00<br />Número de chutes: 0<br />",
           "Proporção de chutes (em %): 0.01<br />Número de chutes: 4<br />",
           "Proporção de chutes (em %): 0.00<br />Número de chutes: 1<br />",
           "Proporção de chutes (em %): 0.00<br />Número de chutes: 1<br />",
           "Proporção de chutes (em %): 0.00<br />Número de chutes: 1<br />",
           "Proporção de chutes (em %): 0.00<br />Número de chutes: 0<br />",
           "Proporção de chutes (em %): 0.00<br />Número de chutes: 1<br />",
           "Proporção de chutes (em %): 0.00<br />Número de chutes: 0<br />",
           "Proporção de chutes (em %): 0.00<br />Número de chutes: 1<br />",
           "Proporção de chutes (em %): 0.00<br />Número de chutes: 0<br />",
           "Proporção de chutes (em %): 0.00<br />Número de chutes: 0<br />",
           "Proporção de chutes (em %): 0.00<br />Número de chutes: 0<br />",
           "Proporção de chutes (em %): 0.00<br />Número de chutes: 1<br />",
           "Proporção de chutes (em %): 0.00<br />Número de chutes: 0<br />"
          ],
          [
           "Proporção de chutes (em %): 0.82<br />Número de chutes: 373<br />",
           "Proporção de chutes (em %): 2.56<br />Número de chutes: 1160<br />",
           "Proporção de chutes (em %): 2.85<br />Número de chutes: 1291<br />",
           "Proporção de chutes (em %): 1.61<br />Número de chutes: 730<br />",
           "Proporção de chutes (em %): 1.61<br />Número de chutes: 728<br />",
           "Proporção de chutes (em %): 1.57<br />Número de chutes: 711<br />",
           "Proporção de chutes (em %): 1.30<br />Número de chutes: 589<br />",
           "Proporção de chutes (em %): 0.42<br />Número de chutes: 190<br />",
           "Proporção de chutes (em %): 0.02<br />Número de chutes: 10<br />",
           "Proporção de chutes (em %): 0.00<br />Número de chutes: 2<br />",
           "Proporção de chutes (em %): 0.00<br />Número de chutes: 1<br />",
           "Proporção de chutes (em %): 0.02<br />Número de chutes: 7<br />",
           "Proporção de chutes (em %): 0.01<br />Número de chutes: 4<br />",
           "Proporção de chutes (em %): 0.02<br />Número de chutes: 9<br />",
           "Proporção de chutes (em %): 0.00<br />Número de chutes: 0<br />",
           "Proporção de chutes (em %): 0.00<br />Número de chutes: 0<br />",
           "Proporção de chutes (em %): 0.00<br />Número de chutes: 0<br />",
           "Proporção de chutes (em %): 0.00<br />Número de chutes: 1<br />",
           "Proporção de chutes (em %): 0.00<br />Número de chutes: 0<br />",
           "Proporção de chutes (em %): 0.00<br />Número de chutes: 0<br />",
           "Proporção de chutes (em %): 0.00<br />Número de chutes: 0<br />",
           "Proporção de chutes (em %): 0.00<br />Número de chutes: 0<br />",
           "Proporção de chutes (em %): 0.01<br />Número de chutes: 3<br />",
           "Proporção de chutes (em %): 0.00<br />Número de chutes: 2<br />"
          ],
          [
           "Proporção de chutes (em %): 0.81<br />Número de chutes: 369<br />",
           "Proporção de chutes (em %): 2.54<br />Número de chutes: 1151<br />",
           "Proporção de chutes (em %): 3.65<br />Número de chutes: 1653<br />",
           "Proporção de chutes (em %): 1.56<br />Número de chutes: 708<br />",
           "Proporção de chutes (em %): 1.19<br />Número de chutes: 537<br />",
           "Proporção de chutes (em %): 1.81<br />Número de chutes: 821<br />",
           "Proporção de chutes (em %): 1.38<br />Número de chutes: 627<br />",
           "Proporção de chutes (em %): 0.42<br />Número de chutes: 190<br />",
           "Proporção de chutes (em %): 0.03<br />Número de chutes: 13<br />",
           "Proporção de chutes (em %): 0.01<br />Número de chutes: 4<br />",
           "Proporção de chutes (em %): 0.01<br />Número de chutes: 3<br />",
           "Proporção de chutes (em %): 0.00<br />Número de chutes: 0<br />",
           "Proporção de chutes (em %): 0.02<br />Número de chutes: 8<br />",
           "Proporção de chutes (em %): 0.00<br />Número de chutes: 2<br />",
           "Proporção de chutes (em %): 0.00<br />Número de chutes: 0<br />",
           "Proporção de chutes (em %): 0.00<br />Número de chutes: 2<br />",
           "Proporção de chutes (em %): 0.00<br />Número de chutes: 1<br />",
           "Proporção de chutes (em %): 0.00<br />Número de chutes: 0<br />",
           "Proporção de chutes (em %): 0.00<br />Número de chutes: 0<br />",
           "Proporção de chutes (em %): 0.00<br />Número de chutes: 0<br />",
           "Proporção de chutes (em %): 0.00<br />Número de chutes: 0<br />",
           "Proporção de chutes (em %): 0.00<br />Número de chutes: 2<br />",
           "Proporção de chutes (em %): 0.00<br />Número de chutes: 1<br />",
           "Proporção de chutes (em %): 0.00<br />Número de chutes: 0<br />"
          ],
          [
           "Proporção de chutes (em %): 0.64<br />Número de chutes: 292<br />",
           "Proporção de chutes (em %): 1.64<br />Número de chutes: 741<br />",
           "Proporção de chutes (em %): 3.25<br />Número de chutes: 1473<br />",
           "Proporção de chutes (em %): 1.51<br />Número de chutes: 682<br />",
           "Proporção de chutes (em %): 1.12<br />Número de chutes: 505<br />",
           "Proporção de chutes (em %): 2.09<br />Número de chutes: 946<br />",
           "Proporção de chutes (em %): 1.22<br />Número de chutes: 552<br />",
           "Proporção de chutes (em %): 0.30<br />Número de chutes: 138<br />",
           "Proporção de chutes (em %): 0.06<br />Número de chutes: 26<br />",
           "Proporção de chutes (em %): 0.01<br />Número de chutes: 4<br />",
           "Proporção de chutes (em %): 0.01<br />Número de chutes: 3<br />",
           "Proporção de chutes (em %): 0.00<br />Número de chutes: 2<br />",
           "Proporção de chutes (em %): 0.00<br />Número de chutes: 2<br />",
           "Proporção de chutes (em %): 0.00<br />Número de chutes: 2<br />",
           "Proporção de chutes (em %): 0.00<br />Número de chutes: 0<br />",
           "Proporção de chutes (em %): 0.00<br />Número de chutes: 0<br />",
           "Proporção de chutes (em %): 0.00<br />Número de chutes: 0<br />",
           "Proporção de chutes (em %): 0.00<br />Número de chutes: 0<br />",
           "Proporção de chutes (em %): 0.00<br />Número de chutes: 0<br />",
           "Proporção de chutes (em %): 0.00<br />Número de chutes: 0<br />",
           "Proporção de chutes (em %): 0.00<br />Número de chutes: 1<br />",
           "Proporção de chutes (em %): 0.00<br />Número de chutes: 2<br />",
           "Proporção de chutes (em %): 0.00<br />Número de chutes: 0<br />",
           "Proporção de chutes (em %): 0.00<br />Número de chutes: 1<br />"
          ],
          [
           "Proporção de chutes (em %): 0.39<br />Número de chutes: 177<br />",
           "Proporção de chutes (em %): 1.36<br />Número de chutes: 618<br />",
           "Proporção de chutes (em %): 2.53<br />Número de chutes: 1147<br />",
           "Proporção de chutes (em %): 1.35<br />Número de chutes: 613<br />",
           "Proporção de chutes (em %): 1.25<br />Número de chutes: 568<br />",
           "Proporção de chutes (em %): 1.86<br />Número de chutes: 842<br />",
           "Proporção de chutes (em %): 0.85<br />Número de chutes: 385<br />",
           "Proporção de chutes (em %): 0.25<br />Número de chutes: 114<br />",
           "Proporção de chutes (em %): 0.04<br />Número de chutes: 16<br />",
           "Proporção de chutes (em %): 0.01<br />Número de chutes: 3<br />",
           "Proporção de chutes (em %): 0.00<br />Número de chutes: 2<br />",
           "Proporção de chutes (em %): 0.00<br />Número de chutes: 1<br />",
           "Proporção de chutes (em %): 0.01<br />Número de chutes: 4<br />",
           "Proporção de chutes (em %): 0.00<br />Número de chutes: 1<br />",
           "Proporção de chutes (em %): 0.00<br />Número de chutes: 0<br />",
           "Proporção de chutes (em %): 0.00<br />Número de chutes: 0<br />",
           "Proporção de chutes (em %): 0.00<br />Número de chutes: 1<br />",
           "Proporção de chutes (em %): 0.00<br />Número de chutes: 0<br />",
           "Proporção de chutes (em %): 0.00<br />Número de chutes: 0<br />",
           "Proporção de chutes (em %): 0.00<br />Número de chutes: 1<br />",
           "Proporção de chutes (em %): 0.00<br />Número de chutes: 1<br />",
           "Proporção de chutes (em %): 0.00<br />Número de chutes: 2<br />",
           "Proporção de chutes (em %): 0.00<br />Número de chutes: 0<br />",
           "Proporção de chutes (em %): 0.00<br />Número de chutes: 0<br />"
          ],
          [
           "Proporção de chutes (em %): 0.09<br />Número de chutes: 42<br />",
           "Proporção de chutes (em %): 0.52<br />Número de chutes: 234<br />",
           "Proporção de chutes (em %): 0.99<br />Número de chutes: 448<br />",
           "Proporção de chutes (em %): 0.64<br />Número de chutes: 289<br />",
           "Proporção de chutes (em %): 0.79<br />Número de chutes: 358<br />",
           "Proporção de chutes (em %): 1.02<br />Número de chutes: 462<br />",
           "Proporção de chutes (em %): 0.52<br />Número de chutes: 235<br />",
           "Proporção de chutes (em %): 0.13<br />Número de chutes: 58<br />",
           "Proporção de chutes (em %): 0.02<br />Número de chutes: 9<br />",
           "Proporção de chutes (em %): 0.02<br />Número de chutes: 9<br />",
           "Proporção de chutes (em %): 0.00<br />Número de chutes: 2<br />",
           "Proporção de chutes (em %): 0.00<br />Número de chutes: 1<br />",
           "Proporção de chutes (em %): 0.00<br />Número de chutes: 0<br />",
           "Proporção de chutes (em %): 0.00<br />Número de chutes: 0<br />",
           "Proporção de chutes (em %): 0.00<br />Número de chutes: 1<br />",
           "Proporção de chutes (em %): 0.00<br />Número de chutes: 0<br />",
           "Proporção de chutes (em %): 0.00<br />Número de chutes: 0<br />",
           "Proporção de chutes (em %): 0.00<br />Número de chutes: 1<br />",
           "Proporção de chutes (em %): 0.00<br />Número de chutes: 0<br />",
           "Proporção de chutes (em %): 0.00<br />Número de chutes: 0<br />",
           "Proporção de chutes (em %): 0.00<br />Número de chutes: 0<br />",
           "Proporção de chutes (em %): 0.00<br />Número de chutes: 0<br />",
           "Proporção de chutes (em %): 0.00<br />Número de chutes: 0<br />",
           "Proporção de chutes (em %): 0.00<br />Número de chutes: 0<br />"
          ],
          [
           "Proporção de chutes (em %): 0.00<br />Número de chutes: 2<br />",
           "Proporção de chutes (em %): 0.03<br />Número de chutes: 15<br />",
           "Proporção de chutes (em %): 0.10<br />Número de chutes: 47<br />",
           "Proporção de chutes (em %): 0.10<br />Número de chutes: 46<br />",
           "Proporção de chutes (em %): 0.16<br />Número de chutes: 71<br />",
           "Proporção de chutes (em %): 0.31<br />Número de chutes: 140<br />",
           "Proporção de chutes (em %): 0.23<br />Número de chutes: 104<br />",
           "Proporção de chutes (em %): 0.06<br />Número de chutes: 25<br />",
           "Proporção de chutes (em %): 0.01<br />Número de chutes: 5<br />",
           "Proporção de chutes (em %): 0.01<br />Número de chutes: 5<br />",
           "Proporção de chutes (em %): 0.01<br />Número de chutes: 5<br />",
           "Proporção de chutes (em %): 0.00<br />Número de chutes: 2<br />",
           "Proporção de chutes (em %): 0.00<br />Número de chutes: 0<br />",
           "Proporção de chutes (em %): 0.00<br />Número de chutes: 1<br />",
           "Proporção de chutes (em %): 0.00<br />Número de chutes: 0<br />",
           "Proporção de chutes (em %): 0.00<br />Número de chutes: 0<br />",
           "Proporção de chutes (em %): 0.00<br />Número de chutes: 0<br />",
           "Proporção de chutes (em %): 0.00<br />Número de chutes: 0<br />",
           "Proporção de chutes (em %): 0.00<br />Número de chutes: 0<br />",
           "Proporção de chutes (em %): 0.00<br />Número de chutes: 0<br />",
           "Proporção de chutes (em %): 0.00<br />Número de chutes: 0<br />",
           "Proporção de chutes (em %): 0.00<br />Número de chutes: 0<br />",
           "Proporção de chutes (em %): 0.00<br />Número de chutes: 1<br />",
           "Proporção de chutes (em %): 0.00<br />Número de chutes: 0<br />"
          ],
          [
           "Proporção de chutes (em %): 0.00<br />Número de chutes: 1<br />",
           "Proporção de chutes (em %): 0.03<br />Número de chutes: 12<br />",
           "Proporção de chutes (em %): 0.04<br />Número de chutes: 20<br />",
           "Proporção de chutes (em %): 0.04<br />Número de chutes: 17<br />",
           "Proporção de chutes (em %): 0.03<br />Número de chutes: 13<br />",
           "Proporção de chutes (em %): 0.08<br />Número de chutes: 34<br />",
           "Proporção de chutes (em %): 0.04<br />Número de chutes: 18<br />",
           "Proporção de chutes (em %): 0.01<br />Número de chutes: 6<br />",
           "Proporção de chutes (em %): 0.00<br />Número de chutes: 2<br />",
           "Proporção de chutes (em %): 0.00<br />Número de chutes: 0<br />",
           "Proporção de chutes (em %): 0.00<br />Número de chutes: 1<br />",
           "Proporção de chutes (em %): 0.00<br />Número de chutes: 0<br />",
           "Proporção de chutes (em %): 0.00<br />Número de chutes: 2<br />",
           "Proporção de chutes (em %): 0.00<br />Número de chutes: 0<br />",
           "Proporção de chutes (em %): 0.00<br />Número de chutes: 1<br />",
           "Proporção de chutes (em %): 0.00<br />Número de chutes: 0<br />",
           "Proporção de chutes (em %): 0.00<br />Número de chutes: 0<br />",
           "Proporção de chutes (em %): 0.00<br />Número de chutes: 0<br />",
           "Proporção de chutes (em %): 0.00<br />Número de chutes: 0<br />",
           "Proporção de chutes (em %): 0.00<br />Número de chutes: 0<br />",
           "Proporção de chutes (em %): 0.00<br />Número de chutes: 0<br />",
           "Proporção de chutes (em %): 0.00<br />Número de chutes: 0<br />",
           "Proporção de chutes (em %): 0.00<br />Número de chutes: 0<br />",
           "Proporção de chutes (em %): 0.00<br />Número de chutes: 0<br />"
          ],
          [
           "Proporção de chutes (em %): 0.00<br />Número de chutes: 1<br />",
           "Proporção de chutes (em %): 0.01<br />Número de chutes: 3<br />",
           "Proporção de chutes (em %): 0.00<br />Número de chutes: 2<br />",
           "Proporção de chutes (em %): 0.02<br />Número de chutes: 9<br />",
           "Proporção de chutes (em %): 0.00<br />Número de chutes: 2<br />",
           "Proporção de chutes (em %): 0.02<br />Número de chutes: 10<br />",
           "Proporção de chutes (em %): 0.01<br />Número de chutes: 6<br />",
           "Proporção de chutes (em %): 0.00<br />Número de chutes: 1<br />",
           "Proporção de chutes (em %): 0.00<br />Número de chutes: 0<br />",
           "Proporção de chutes (em %): 0.00<br />Número de chutes: 2<br />",
           "Proporção de chutes (em %): 0.00<br />Número de chutes: 1<br />",
           "Proporção de chutes (em %): 0.00<br />Número de chutes: 2<br />",
           "Proporção de chutes (em %): 0.00<br />Número de chutes: 1<br />",
           "Proporção de chutes (em %): 0.00<br />Número de chutes: 1<br />",
           "Proporção de chutes (em %): 0.00<br />Número de chutes: 0<br />",
           "Proporção de chutes (em %): 0.00<br />Número de chutes: 0<br />",
           "Proporção de chutes (em %): 0.00<br />Número de chutes: 0<br />",
           "Proporção de chutes (em %): 0.00<br />Número de chutes: 0<br />",
           "Proporção de chutes (em %): 0.00<br />Número de chutes: 0<br />",
           "Proporção de chutes (em %): 0.00<br />Número de chutes: 0<br />",
           "Proporção de chutes (em %): 0.00<br />Número de chutes: 0<br />",
           "Proporção de chutes (em %): 0.00<br />Número de chutes: 0<br />",
           "Proporção de chutes (em %): 0.00<br />Número de chutes: 0<br />",
           "Proporção de chutes (em %): 0.00<br />Número de chutes: 0<br />"
          ],
          [
           "Proporção de chutes (em %): 0.00<br />Número de chutes: 0<br />",
           "Proporção de chutes (em %): 0.00<br />Número de chutes: 1<br />",
           "Proporção de chutes (em %): 0.00<br />Número de chutes: 0<br />",
           "Proporção de chutes (em %): 0.00<br />Número de chutes: 1<br />",
           "Proporção de chutes (em %): 0.00<br />Número de chutes: 2<br />",
           "Proporção de chutes (em %): 0.00<br />Número de chutes: 2<br />",
           "Proporção de chutes (em %): 0.00<br />Número de chutes: 1<br />",
           "Proporção de chutes (em %): 0.00<br />Número de chutes: 0<br />",
           "Proporção de chutes (em %): 0.01<br />Número de chutes: 3<br />",
           "Proporção de chutes (em %): 0.00<br />Número de chutes: 2<br />",
           "Proporção de chutes (em %): 0.00<br />Número de chutes: 1<br />",
           "Proporção de chutes (em %): 0.01<br />Número de chutes: 6<br />",
           "Proporção de chutes (em %): 0.01<br />Número de chutes: 3<br />",
           "Proporção de chutes (em %): 0.00<br />Número de chutes: 0<br />",
           "Proporção de chutes (em %): 0.00<br />Número de chutes: 0<br />",
           "Proporção de chutes (em %): 0.00<br />Número de chutes: 1<br />",
           "Proporção de chutes (em %): 0.00<br />Número de chutes: 0<br />",
           "Proporção de chutes (em %): 0.00<br />Número de chutes: 0<br />",
           "Proporção de chutes (em %): 0.00<br />Número de chutes: 0<br />",
           "Proporção de chutes (em %): 0.00<br />Número de chutes: 0<br />",
           "Proporção de chutes (em %): 0.00<br />Número de chutes: 0<br />",
           "Proporção de chutes (em %): 0.00<br />Número de chutes: 0<br />",
           "Proporção de chutes (em %): 0.00<br />Número de chutes: 0<br />",
           "Proporção de chutes (em %): 0.00<br />Número de chutes: 0<br />"
          ]
         ],
         "type": "heatmap",
         "x": [
          2.1875,
          6.5625,
          10.9375,
          15.3125,
          19.6875,
          24.0625,
          28.4375,
          32.8125,
          37.1875,
          41.5625,
          45.9375,
          50.3125,
          54.6875,
          59.0625,
          63.4375,
          67.8125,
          72.1875,
          76.5625,
          80.9375,
          85.3125,
          89.6875,
          94.0625,
          98.4375,
          102.8125
         ],
         "y": [
          66,
          62,
          58,
          54,
          50,
          46,
          42,
          38,
          34,
          30,
          26,
          22,
          18,
          14,
          10,
          6,
          2
         ],
         "z": [
          [
           0,
           0.006624856461443335,
           0,
           0.004416570974295557,
           0.0022082854871477786,
           0.004416570974295557,
           0,
           0.0022082854871477786,
           0,
           0,
           0,
           0.0022082854871477786,
           0.0022082854871477786,
           0.01324971292288667,
           0.0022082854871477786,
           0.0022082854871477786,
           0,
           0,
           0,
           0,
           0,
           0,
           0,
           0
          ],
          [
           0,
           0.01545799841003445,
           0.011041427435738892,
           0.01324971292288667,
           0.01324971292288667,
           0.024291140358625563,
           0.01324971292288667,
           0.008833141948591115,
           0.008833141948591115,
           0.004416570974295557,
           0,
           0,
           0.0022082854871477786,
           0,
           0.0022082854871477786,
           0,
           0,
           0,
           0,
           0,
           0,
           0,
           0,
           0
          ],
          [
           0.011041427435738892,
           0.04195742425580779,
           0.08833141948591114,
           0.05299885169154668,
           0.048582280717251125,
           0.08612313399876335,
           0.07287342107587669,
           0.022082854871477785,
           0.01324971292288667,
           0,
           0.0022082854871477786,
           0.004416570974295557,
           0.0022082854871477786,
           0,
           0,
           0,
           0,
           0,
           0,
           0,
           0,
           0,
           0,
           0
          ],
          [
           0.004416570974295557,
           0.057415422665842236,
           0.16782969702323117,
           0.1545799841003445,
           0.21199540676618672,
           0.45711509583959015,
           0.2870771133292112,
           0.10158113240879782,
           0.01545799841003445,
           0.006624856461443335,
           0.006624856461443335,
           0.0022082854871477786,
           0.0022082854871477786,
           0,
           0.0022082854871477786,
           0,
           0,
           0,
           0,
           0,
           0,
           0,
           0,
           0
          ],
          [
           0.10820598887024113,
           0.5277802314283191,
           1.324971292288667,
           0.8568147690133381,
           0.867856196449077,
           1.3536790036215882,
           0.686776786502959,
           0.20757883579189118,
           0.01766628389718223,
           0.006624856461443335,
           0.004416570974295557,
           0.008833141948591115,
           0.0022082854871477786,
           0.006624856461443335,
           0.006624856461443335,
           0.0022082854871477786,
           0.0022082854871477786,
           0,
           0,
           0,
           0,
           0,
           0,
           0
          ],
          [
           0.36878367635367904,
           1.3868032859288049,
           3.0143096899567174,
           1.6319229750022084,
           1.424344139210317,
           1.9808320819715575,
           1.0511438918823426,
           0.2870771133292112,
           0.04195742425580779,
           0.011041427435738892,
           0.006624856461443335,
           0.006624856461443335,
           0,
           0.008833141948591115,
           0.008833141948591115,
           0.0022082854871477786,
           0,
           0,
           0,
           0,
           0,
           0.0022082854871477786,
           0,
           0
          ],
          [
           0.6536525041957424,
           1.7136295380266762,
           3.4073845066690223,
           1.6672555427965727,
           1.2874304390071547,
           2.0779966434060597,
           1.1527250242911404,
           0.3930748167123046,
           0.048582280717251125,
           0.008833141948591115,
           0.004416570974295557,
           0.004416570974295557,
           0.004416570974295557,
           0.006624856461443335,
           0.0022082854871477786,
           0.0022082854871477786,
           0,
           0,
           0,
           0.0022082854871477786,
           0,
           0,
           0.0022082854871477786,
           0.0022082854871477786
          ],
          [
           0.9230633336277714,
           2.6455260136030385,
           3.8335836056885433,
           1.671672113770868,
           1.2609310131613816,
           1.8571680946912816,
           1.2719724405971204,
           0.4394488119424079,
           0.03533256779436446,
           0.011041427435738892,
           0,
           0.008833141948591115,
           0.0022082854871477786,
           0.0022082854871477786,
           0.0022082854871477786,
           0,
           0.0022082854871477786,
           0,
           0.0022082854871477786,
           0,
           0,
           0,
           0.0022082854871477786,
           0
          ],
          [
           0.8236904867061214,
           2.561611165091423,
           2.850896563907782,
           1.612048405617878,
           1.6076318346435827,
           1.5700909813620705,
           1.3006801519300415,
           0.41957424255807785,
           0.022082854871477785,
           0.004416570974295557,
           0.0022082854871477786,
           0.01545799841003445,
           0.008833141948591115,
           0.019874569384330007,
           0,
           0,
           0,
           0.0022082854871477786,
           0,
           0,
           0,
           0,
           0.006624856461443335,
           0.004416570974295557
          ],
          [
           0.8148573447575302,
           2.541736595707093,
           3.650295910255278,
           1.5634661249006272,
           1.185849306598357,
           1.813002384948326,
           1.384595000441657,
           0.41957424255807785,
           0.028707711332921118,
           0.008833141948591115,
           0.006624856461443335,
           0,
           0.01766628389718223,
           0.004416570974295557,
           0,
           0.004416570974295557,
           0.0022082854871477786,
           0,
           0,
           0,
           0,
           0.004416570974295557,
           0.0022082854871477786,
           0
          ],
          [
           0.6448193622471513,
           1.6363395459765038,
           3.252804522568678,
           1.5060507022347849,
           1.1151841710096282,
           2.0890380708417986,
           1.2189735889055737,
           0.30474339722639343,
           0.057415422665842236,
           0.008833141948591115,
           0.006624856461443335,
           0.004416570974295557,
           0.004416570974295557,
           0.004416570974295557,
           0,
           0,
           0,
           0,
           0,
           0,
           0.0022082854871477786,
           0.004416570974295557,
           0,
           0.0022082854871477786
          ],
          [
           0.3908665312251568,
           1.364720431057327,
           2.532903453758502,
           1.3536790036215882,
           1.254306156699938,
           1.8593763801784295,
           0.8501899125518948,
           0.2517445455348467,
           0.03533256779436446,
           0.006624856461443335,
           0.004416570974295557,
           0.0022082854871477786,
           0.008833141948591115,
           0.0022082854871477786,
           0,
           0,
           0.0022082854871477786,
           0,
           0,
           0.0022082854871477786,
           0.0022082854871477786,
           0.004416570974295557,
           0,
           0
          ],
          [
           0.0927479904602067,
           0.5167388039925802,
           0.9893118982422048,
           0.6381945057857079,
           0.7905662043989048,
           1.0202278950622736,
           0.5189470894797279,
           0.12808055825457115,
           0.019874569384330007,
           0.019874569384330007,
           0.004416570974295557,
           0.0022082854871477786,
           0,
           0,
           0.0022082854871477786,
           0,
           0,
           0.0022082854871477786,
           0,
           0,
           0,
           0,
           0,
           0
          ],
          [
           0.004416570974295557,
           0.03312428230721668,
           0.10378941789594559,
           0.10158113240879782,
           0.15678826958749226,
           0.309159968200689,
           0.22966169066336894,
           0.055207137178694465,
           0.011041427435738892,
           0.011041427435738892,
           0.011041427435738892,
           0.004416570974295557,
           0,
           0.0022082854871477786,
           0,
           0,
           0,
           0,
           0,
           0,
           0,
           0,
           0.0022082854871477786,
           0
          ],
          [
           0.0022082854871477786,
           0.02649942584577334,
           0.04416570974295557,
           0.037540853281512236,
           0.028707711332921118,
           0.07508170656302447,
           0.039749138768660014,
           0.01324971292288667,
           0.004416570974295557,
           0,
           0.0022082854871477786,
           0,
           0.004416570974295557,
           0,
           0.0022082854871477786,
           0,
           0,
           0,
           0,
           0,
           0,
           0,
           0,
           0
          ],
          [
           0.0022082854871477786,
           0.006624856461443335,
           0.004416570974295557,
           0.019874569384330007,
           0.004416570974295557,
           0.022082854871477785,
           0.01324971292288667,
           0.0022082854871477786,
           0,
           0.004416570974295557,
           0.0022082854871477786,
           0.004416570974295557,
           0.0022082854871477786,
           0.0022082854871477786,
           0,
           0,
           0,
           0,
           0,
           0,
           0,
           0,
           0,
           0
          ],
          [
           0,
           0.0022082854871477786,
           0,
           0.0022082854871477786,
           0.004416570974295557,
           0.004416570974295557,
           0.0022082854871477786,
           0,
           0.006624856461443335,
           0.004416570974295557,
           0.0022082854871477786,
           0.01324971292288667,
           0.006624856461443335,
           0,
           0,
           0.0022082854871477786,
           0,
           0,
           0,
           0,
           0,
           0,
           0,
           0
          ]
         ],
         "zsmooth": false
        }
       ],
       "layout": {
        "autosize": false,
        "height": 612,
        "plot_bgcolor": "white",
        "shapes": [
         {
          "line": {
           "color": "white",
           "width": 2
          },
          "type": "line",
          "x0": 52.5,
          "x1": 52.5,
          "y0": 0,
          "y1": 68
         },
         {
          "line": {
           "color": "white",
           "width": 2
          },
          "type": "line",
          "x0": 0,
          "x1": 16,
          "y0": 54.16,
          "y1": 54.16
         },
         {
          "line": {
           "color": "white",
           "width": 2
          },
          "type": "line",
          "x0": 16,
          "x1": 16,
          "y0": 54.16,
          "y1": 13.84
         },
         {
          "line": {
           "color": "white",
           "width": 2
          },
          "type": "line",
          "x0": 16,
          "x1": 0,
          "y0": 13.84,
          "y1": 13.84
         },
         {
          "line": {
           "color": "white",
           "width": 2
          },
          "type": "line",
          "x0": 0,
          "x1": 5.5,
          "y0": 24.84,
          "y1": 24.84
         },
         {
          "line": {
           "color": "white",
           "width": 2
          },
          "type": "line",
          "x0": 5.5,
          "x1": 5.5,
          "y0": 24.84,
          "y1": 43.16
         },
         {
          "line": {
           "color": "white",
           "width": 2
          },
          "type": "line",
          "x0": 5.5,
          "x1": 0,
          "y0": 43.16,
          "y1": 43.16
         },
         {
          "line": {
           "color": "white",
           "width": 2
          },
          "type": "line",
          "x0": 105,
          "x1": 89,
          "y0": 54.16,
          "y1": 54.16
         },
         {
          "line": {
           "color": "white",
           "width": 2
          },
          "type": "line",
          "x0": 89,
          "x1": 89,
          "y0": 54.16,
          "y1": 13.84
         },
         {
          "line": {
           "color": "white",
           "width": 2
          },
          "type": "line",
          "x0": 89,
          "x1": 105,
          "y0": 13.84,
          "y1": 13.84
         },
         {
          "line": {
           "color": "white",
           "width": 2
          },
          "type": "line",
          "x0": 105,
          "x1": 99.5,
          "y0": 24.84,
          "y1": 24.84
         },
         {
          "line": {
           "color": "white",
           "width": 2
          },
          "type": "line",
          "x0": 99.5,
          "x1": 99.5,
          "y0": 24.84,
          "y1": 43.16
         },
         {
          "line": {
           "color": "white",
           "width": 2
          },
          "type": "line",
          "x0": 99.5,
          "x1": 105,
          "y0": 43.16,
          "y1": 43.16
         },
         {
          "fillcolor": "white",
          "line": {
           "color": "white"
          },
          "type": "circle",
          "x0": 10.5,
          "x1": 11.5,
          "xref": "x",
          "y0": 33.5,
          "y1": 34.5,
          "yref": "y"
         },
         {
          "fillcolor": "white",
          "line": {
           "color": "white"
          },
          "type": "circle",
          "x0": 93.5,
          "x1": 94.5,
          "xref": "x",
          "y0": 33.5,
          "y1": 34.5,
          "yref": "y"
         },
         {
          "fillcolor": "white",
          "line": {
           "color": "white"
          },
          "type": "circle",
          "x0": 52,
          "x1": 53,
          "xref": "x",
          "y0": 33.5,
          "y1": 34.5,
          "yref": "y"
         },
         {
          "line": {
           "color": "white"
          },
          "type": "circle",
          "x0": 43.35,
          "x1": 61.65,
          "xref": "x",
          "y0": 24.85,
          "y1": 43.15,
          "yref": "y"
         },
         {
          "line": {
           "color": "white",
           "width": 2
          },
          "type": "line",
          "x0": 0,
          "x1": 105,
          "y0": 0,
          "y1": 0
         },
         {
          "line": {
           "color": "white",
           "width": 2
          },
          "type": "line",
          "x0": 0,
          "x1": 0,
          "y0": 0,
          "y1": 68
         },
         {
          "line": {
           "color": "white",
           "width": 2
          },
          "type": "line",
          "x0": 0,
          "x1": 105,
          "y0": 68,
          "y1": 68
         },
         {
          "line": {
           "color": "white",
           "width": 2
          },
          "type": "line",
          "x0": 105,
          "x1": 105,
          "y0": 0,
          "y1": 68
         },
         {
          "line": {
           "color": "white",
           "width": 2
          },
          "type": "line",
          "x0": 0,
          "x1": -2,
          "y0": 30.34,
          "y1": 30.34
         },
         {
          "line": {
           "color": "white",
           "width": 2
          },
          "type": "line",
          "x0": 0,
          "x1": -2,
          "y0": 37.66,
          "y1": 37.66
         },
         {
          "line": {
           "color": "white",
           "width": 2
          },
          "type": "line",
          "x0": -2,
          "x1": -2,
          "y0": 30.34,
          "y1": 37.66
         },
         {
          "line": {
           "color": "white",
           "width": 2
          },
          "type": "line",
          "x0": 105,
          "x1": 107,
          "y0": 30.34,
          "y1": 30.34
         },
         {
          "line": {
           "color": "white",
           "width": 2
          },
          "type": "line",
          "x0": 105,
          "x1": 107,
          "y0": 37.66,
          "y1": 37.66
         },
         {
          "line": {
           "color": "white",
           "width": 2
          },
          "type": "line",
          "x0": 107,
          "x1": 107,
          "y0": 30.34,
          "y1": 37.66
         }
        ],
        "template": {
         "data": {
          "bar": [
           {
            "error_x": {
             "color": "#2a3f5f"
            },
            "error_y": {
             "color": "#2a3f5f"
            },
            "marker": {
             "line": {
              "color": "#E5ECF6",
              "width": 0.5
             },
             "pattern": {
              "fillmode": "overlay",
              "size": 10,
              "solidity": 0.2
             }
            },
            "type": "bar"
           }
          ],
          "barpolar": [
           {
            "marker": {
             "line": {
              "color": "#E5ECF6",
              "width": 0.5
             },
             "pattern": {
              "fillmode": "overlay",
              "size": 10,
              "solidity": 0.2
             }
            },
            "type": "barpolar"
           }
          ],
          "carpet": [
           {
            "aaxis": {
             "endlinecolor": "#2a3f5f",
             "gridcolor": "white",
             "linecolor": "white",
             "minorgridcolor": "white",
             "startlinecolor": "#2a3f5f"
            },
            "baxis": {
             "endlinecolor": "#2a3f5f",
             "gridcolor": "white",
             "linecolor": "white",
             "minorgridcolor": "white",
             "startlinecolor": "#2a3f5f"
            },
            "type": "carpet"
           }
          ],
          "choropleth": [
           {
            "colorbar": {
             "outlinewidth": 0,
             "ticks": ""
            },
            "type": "choropleth"
           }
          ],
          "contour": [
           {
            "colorbar": {
             "outlinewidth": 0,
             "ticks": ""
            },
            "colorscale": [
             [
              0,
              "#0d0887"
             ],
             [
              0.1111111111111111,
              "#46039f"
             ],
             [
              0.2222222222222222,
              "#7201a8"
             ],
             [
              0.3333333333333333,
              "#9c179e"
             ],
             [
              0.4444444444444444,
              "#bd3786"
             ],
             [
              0.5555555555555556,
              "#d8576b"
             ],
             [
              0.6666666666666666,
              "#ed7953"
             ],
             [
              0.7777777777777778,
              "#fb9f3a"
             ],
             [
              0.8888888888888888,
              "#fdca26"
             ],
             [
              1,
              "#f0f921"
             ]
            ],
            "type": "contour"
           }
          ],
          "contourcarpet": [
           {
            "colorbar": {
             "outlinewidth": 0,
             "ticks": ""
            },
            "type": "contourcarpet"
           }
          ],
          "heatmap": [
           {
            "colorbar": {
             "outlinewidth": 0,
             "ticks": ""
            },
            "colorscale": [
             [
              0,
              "#0d0887"
             ],
             [
              0.1111111111111111,
              "#46039f"
             ],
             [
              0.2222222222222222,
              "#7201a8"
             ],
             [
              0.3333333333333333,
              "#9c179e"
             ],
             [
              0.4444444444444444,
              "#bd3786"
             ],
             [
              0.5555555555555556,
              "#d8576b"
             ],
             [
              0.6666666666666666,
              "#ed7953"
             ],
             [
              0.7777777777777778,
              "#fb9f3a"
             ],
             [
              0.8888888888888888,
              "#fdca26"
             ],
             [
              1,
              "#f0f921"
             ]
            ],
            "type": "heatmap"
           }
          ],
          "heatmapgl": [
           {
            "colorbar": {
             "outlinewidth": 0,
             "ticks": ""
            },
            "colorscale": [
             [
              0,
              "#0d0887"
             ],
             [
              0.1111111111111111,
              "#46039f"
             ],
             [
              0.2222222222222222,
              "#7201a8"
             ],
             [
              0.3333333333333333,
              "#9c179e"
             ],
             [
              0.4444444444444444,
              "#bd3786"
             ],
             [
              0.5555555555555556,
              "#d8576b"
             ],
             [
              0.6666666666666666,
              "#ed7953"
             ],
             [
              0.7777777777777778,
              "#fb9f3a"
             ],
             [
              0.8888888888888888,
              "#fdca26"
             ],
             [
              1,
              "#f0f921"
             ]
            ],
            "type": "heatmapgl"
           }
          ],
          "histogram": [
           {
            "marker": {
             "pattern": {
              "fillmode": "overlay",
              "size": 10,
              "solidity": 0.2
             }
            },
            "type": "histogram"
           }
          ],
          "histogram2d": [
           {
            "colorbar": {
             "outlinewidth": 0,
             "ticks": ""
            },
            "colorscale": [
             [
              0,
              "#0d0887"
             ],
             [
              0.1111111111111111,
              "#46039f"
             ],
             [
              0.2222222222222222,
              "#7201a8"
             ],
             [
              0.3333333333333333,
              "#9c179e"
             ],
             [
              0.4444444444444444,
              "#bd3786"
             ],
             [
              0.5555555555555556,
              "#d8576b"
             ],
             [
              0.6666666666666666,
              "#ed7953"
             ],
             [
              0.7777777777777778,
              "#fb9f3a"
             ],
             [
              0.8888888888888888,
              "#fdca26"
             ],
             [
              1,
              "#f0f921"
             ]
            ],
            "type": "histogram2d"
           }
          ],
          "histogram2dcontour": [
           {
            "colorbar": {
             "outlinewidth": 0,
             "ticks": ""
            },
            "colorscale": [
             [
              0,
              "#0d0887"
             ],
             [
              0.1111111111111111,
              "#46039f"
             ],
             [
              0.2222222222222222,
              "#7201a8"
             ],
             [
              0.3333333333333333,
              "#9c179e"
             ],
             [
              0.4444444444444444,
              "#bd3786"
             ],
             [
              0.5555555555555556,
              "#d8576b"
             ],
             [
              0.6666666666666666,
              "#ed7953"
             ],
             [
              0.7777777777777778,
              "#fb9f3a"
             ],
             [
              0.8888888888888888,
              "#fdca26"
             ],
             [
              1,
              "#f0f921"
             ]
            ],
            "type": "histogram2dcontour"
           }
          ],
          "mesh3d": [
           {
            "colorbar": {
             "outlinewidth": 0,
             "ticks": ""
            },
            "type": "mesh3d"
           }
          ],
          "parcoords": [
           {
            "line": {
             "colorbar": {
              "outlinewidth": 0,
              "ticks": ""
             }
            },
            "type": "parcoords"
           }
          ],
          "pie": [
           {
            "automargin": true,
            "type": "pie"
           }
          ],
          "scatter": [
           {
            "fillpattern": {
             "fillmode": "overlay",
             "size": 10,
             "solidity": 0.2
            },
            "type": "scatter"
           }
          ],
          "scatter3d": [
           {
            "line": {
             "colorbar": {
              "outlinewidth": 0,
              "ticks": ""
             }
            },
            "marker": {
             "colorbar": {
              "outlinewidth": 0,
              "ticks": ""
             }
            },
            "type": "scatter3d"
           }
          ],
          "scattercarpet": [
           {
            "marker": {
             "colorbar": {
              "outlinewidth": 0,
              "ticks": ""
             }
            },
            "type": "scattercarpet"
           }
          ],
          "scattergeo": [
           {
            "marker": {
             "colorbar": {
              "outlinewidth": 0,
              "ticks": ""
             }
            },
            "type": "scattergeo"
           }
          ],
          "scattergl": [
           {
            "marker": {
             "colorbar": {
              "outlinewidth": 0,
              "ticks": ""
             }
            },
            "type": "scattergl"
           }
          ],
          "scattermapbox": [
           {
            "marker": {
             "colorbar": {
              "outlinewidth": 0,
              "ticks": ""
             }
            },
            "type": "scattermapbox"
           }
          ],
          "scatterpolar": [
           {
            "marker": {
             "colorbar": {
              "outlinewidth": 0,
              "ticks": ""
             }
            },
            "type": "scatterpolar"
           }
          ],
          "scatterpolargl": [
           {
            "marker": {
             "colorbar": {
              "outlinewidth": 0,
              "ticks": ""
             }
            },
            "type": "scatterpolargl"
           }
          ],
          "scatterternary": [
           {
            "marker": {
             "colorbar": {
              "outlinewidth": 0,
              "ticks": ""
             }
            },
            "type": "scatterternary"
           }
          ],
          "surface": [
           {
            "colorbar": {
             "outlinewidth": 0,
             "ticks": ""
            },
            "colorscale": [
             [
              0,
              "#0d0887"
             ],
             [
              0.1111111111111111,
              "#46039f"
             ],
             [
              0.2222222222222222,
              "#7201a8"
             ],
             [
              0.3333333333333333,
              "#9c179e"
             ],
             [
              0.4444444444444444,
              "#bd3786"
             ],
             [
              0.5555555555555556,
              "#d8576b"
             ],
             [
              0.6666666666666666,
              "#ed7953"
             ],
             [
              0.7777777777777778,
              "#fb9f3a"
             ],
             [
              0.8888888888888888,
              "#fdca26"
             ],
             [
              1,
              "#f0f921"
             ]
            ],
            "type": "surface"
           }
          ],
          "table": [
           {
            "cells": {
             "fill": {
              "color": "#EBF0F8"
             },
             "line": {
              "color": "white"
             }
            },
            "header": {
             "fill": {
              "color": "#C8D4E3"
             },
             "line": {
              "color": "white"
             }
            },
            "type": "table"
           }
          ]
         },
         "layout": {
          "annotationdefaults": {
           "arrowcolor": "#2a3f5f",
           "arrowhead": 0,
           "arrowwidth": 1
          },
          "autotypenumbers": "strict",
          "coloraxis": {
           "colorbar": {
            "outlinewidth": 0,
            "ticks": ""
           }
          },
          "colorscale": {
           "diverging": [
            [
             0,
             "#8e0152"
            ],
            [
             0.1,
             "#c51b7d"
            ],
            [
             0.2,
             "#de77ae"
            ],
            [
             0.3,
             "#f1b6da"
            ],
            [
             0.4,
             "#fde0ef"
            ],
            [
             0.5,
             "#f7f7f7"
            ],
            [
             0.6,
             "#e6f5d0"
            ],
            [
             0.7,
             "#b8e186"
            ],
            [
             0.8,
             "#7fbc41"
            ],
            [
             0.9,
             "#4d9221"
            ],
            [
             1,
             "#276419"
            ]
           ],
           "sequential": [
            [
             0,
             "#0d0887"
            ],
            [
             0.1111111111111111,
             "#46039f"
            ],
            [
             0.2222222222222222,
             "#7201a8"
            ],
            [
             0.3333333333333333,
             "#9c179e"
            ],
            [
             0.4444444444444444,
             "#bd3786"
            ],
            [
             0.5555555555555556,
             "#d8576b"
            ],
            [
             0.6666666666666666,
             "#ed7953"
            ],
            [
             0.7777777777777778,
             "#fb9f3a"
            ],
            [
             0.8888888888888888,
             "#fdca26"
            ],
            [
             1,
             "#f0f921"
            ]
           ],
           "sequentialminus": [
            [
             0,
             "#0d0887"
            ],
            [
             0.1111111111111111,
             "#46039f"
            ],
            [
             0.2222222222222222,
             "#7201a8"
            ],
            [
             0.3333333333333333,
             "#9c179e"
            ],
            [
             0.4444444444444444,
             "#bd3786"
            ],
            [
             0.5555555555555556,
             "#d8576b"
            ],
            [
             0.6666666666666666,
             "#ed7953"
            ],
            [
             0.7777777777777778,
             "#fb9f3a"
            ],
            [
             0.8888888888888888,
             "#fdca26"
            ],
            [
             1,
             "#f0f921"
            ]
           ]
          },
          "colorway": [
           "#636efa",
           "#EF553B",
           "#00cc96",
           "#ab63fa",
           "#FFA15A",
           "#19d3f3",
           "#FF6692",
           "#B6E880",
           "#FF97FF",
           "#FECB52"
          ],
          "font": {
           "color": "#2a3f5f"
          },
          "geo": {
           "bgcolor": "white",
           "lakecolor": "white",
           "landcolor": "#E5ECF6",
           "showlakes": true,
           "showland": true,
           "subunitcolor": "white"
          },
          "hoverlabel": {
           "align": "left"
          },
          "hovermode": "closest",
          "mapbox": {
           "style": "light"
          },
          "paper_bgcolor": "white",
          "plot_bgcolor": "#E5ECF6",
          "polar": {
           "angularaxis": {
            "gridcolor": "white",
            "linecolor": "white",
            "ticks": ""
           },
           "bgcolor": "#E5ECF6",
           "radialaxis": {
            "gridcolor": "white",
            "linecolor": "white",
            "ticks": ""
           }
          },
          "scene": {
           "xaxis": {
            "backgroundcolor": "#E5ECF6",
            "gridcolor": "white",
            "gridwidth": 2,
            "linecolor": "white",
            "showbackground": true,
            "ticks": "",
            "zerolinecolor": "white"
           },
           "yaxis": {
            "backgroundcolor": "#E5ECF6",
            "gridcolor": "white",
            "gridwidth": 2,
            "linecolor": "white",
            "showbackground": true,
            "ticks": "",
            "zerolinecolor": "white"
           },
           "zaxis": {
            "backgroundcolor": "#E5ECF6",
            "gridcolor": "white",
            "gridwidth": 2,
            "linecolor": "white",
            "showbackground": true,
            "ticks": "",
            "zerolinecolor": "white"
           }
          },
          "shapedefaults": {
           "line": {
            "color": "#2a3f5f"
           }
          },
          "ternary": {
           "aaxis": {
            "gridcolor": "white",
            "linecolor": "white",
            "ticks": ""
           },
           "baxis": {
            "gridcolor": "white",
            "linecolor": "white",
            "ticks": ""
           },
           "bgcolor": "#E5ECF6",
           "caxis": {
            "gridcolor": "white",
            "linecolor": "white",
            "ticks": ""
           }
          },
          "title": {
           "x": 0.05
          },
          "xaxis": {
           "automargin": true,
           "gridcolor": "white",
           "linecolor": "white",
           "ticks": "",
           "title": {
            "standoff": 15
           },
           "zerolinecolor": "white",
           "zerolinewidth": 2
          },
          "yaxis": {
           "automargin": true,
           "gridcolor": "white",
           "linecolor": "white",
           "ticks": "",
           "title": {
            "standoff": 15
           },
           "zerolinecolor": "white",
           "zerolinewidth": 2
          }
         }
        },
        "title": {
         "text": "Posição dos chutes",
         "x": 0.5,
         "xanchor": "center",
         "y": 0.9,
         "yanchor": "top"
        },
        "width": 840,
        "xaxis": {
         "range": [
          -5,
          110
         ],
         "showgrid": false,
         "showticklabels": false,
         "zeroline": false
        },
        "yaxis": {
         "range": [
          -5,
          73
         ],
         "showgrid": false,
         "showticklabels": false,
         "zeroline": false
        }
       }
      }
     },
     "metadata": {},
     "output_type": "display_data"
    }
   ],
   "source": [
    "share_shots = nb_shots / nb_shots.sum() * 100\n",
    "# plot the heatmap\n",
    "dict_info = {\"Proporção de chutes (em %)\": {\"values\": share_shots, \"display_type\": \".2f\"},\n",
    "             \"Número de chutes\": {\"values\": nb_shots, \"display_type\": \".0f\"}}\n",
    "fig = p.create_heatmap(x, y, share_shots, dict_info, title_name=\"Posição dos chutes\")\n",
    "fig.show()"
   ]
  },
  {
   "attachments": {},
   "cell_type": "markdown",
   "id": "1f51cd10",
   "metadata": {},
   "source": [
    "Podemos observar que a maioria dos chutes parte de dentro da área adversária, o que faz sentido. Vamos plotar agora de onde saíram os chutes que de fato resultaram em gol"
   ]
  },
  {
   "cell_type": "code",
   "execution_count": 24,
   "id": "4f93e523",
   "metadata": {},
   "outputs": [
    {
     "name": "stderr",
     "output_type": "stream",
     "text": [
      "/Users/lucasmaretti/Documents/repos/football_analytics_master/aux_functions_plot.py:500: FutureWarning:\n",
      "\n",
      "In a future version of pandas all arguments of DataFrame.pivot will be keyword-only.\n",
      "\n"
     ]
    },
    {
     "data": {
      "application/vnd.plotly.v1+json": {
       "config": {
        "plotlyServerURL": "https://plot.ly"
       },
       "data": [
        {
         "hoverinfo": "text",
         "text": [
          [
           "Probabilidade de marcar (em %): 0.0<br />Fração de chutes (em %): 0.00<br />Numero de chutes: 0<br />Numero de goals: 0<br />",
           "Probabilidade de marcar (em %): 66.7<br />Fração de chutes (em %): 0.01<br />Numero de chutes: 3<br />Numero de goals: 2<br />",
           "Probabilidade de marcar (em %): 0.0<br />Fração de chutes (em %): 0.00<br />Numero de chutes: 0<br />Numero de goals: 0<br />",
           "Probabilidade de marcar (em %): 0.0<br />Fração de chutes (em %): 0.00<br />Numero de chutes: 2<br />Numero de goals: 0<br />",
           "Probabilidade de marcar (em %): 0.0<br />Fração de chutes (em %): 0.00<br />Numero de chutes: 1<br />Numero de goals: 0<br />",
           "Probabilidade de marcar (em %): 0.0<br />Fração de chutes (em %): 0.00<br />Numero de chutes: 2<br />Numero de goals: 0<br />",
           "Probabilidade de marcar (em %): 0.0<br />Fração de chutes (em %): 0.00<br />Numero de chutes: 0<br />Numero de goals: 0<br />",
           "Probabilidade de marcar (em %): 0.0<br />Fração de chutes (em %): 0.00<br />Numero de chutes: 1<br />Numero de goals: 0<br />",
           "Probabilidade de marcar (em %): 0.0<br />Fração de chutes (em %): 0.00<br />Numero de chutes: 0<br />Numero de goals: 0<br />",
           "Probabilidade de marcar (em %): 0.0<br />Fração de chutes (em %): 0.00<br />Numero de chutes: 0<br />Numero de goals: 0<br />",
           "Probabilidade de marcar (em %): 0.0<br />Fração de chutes (em %): 0.00<br />Numero de chutes: 0<br />Numero de goals: 0<br />",
           "Probabilidade de marcar (em %): 0.0<br />Fração de chutes (em %): 0.00<br />Numero de chutes: 1<br />Numero de goals: 0<br />",
           "Probabilidade de marcar (em %): 0.0<br />Fração de chutes (em %): 0.00<br />Numero de chutes: 1<br />Numero de goals: 0<br />",
           "Probabilidade de marcar (em %): 0.0<br />Fração de chutes (em %): 0.01<br />Numero de chutes: 6<br />Numero de goals: 0<br />",
           "Probabilidade de marcar (em %): 0.0<br />Fração de chutes (em %): 0.00<br />Numero de chutes: 1<br />Numero de goals: 0<br />",
           "Probabilidade de marcar (em %): 0.0<br />Fração de chutes (em %): 0.00<br />Numero de chutes: 1<br />Numero de goals: 0<br />",
           "Probabilidade de marcar (em %): 0.0<br />Fração de chutes (em %): 0.00<br />Numero de chutes: 0<br />Numero de goals: 0<br />",
           "Probabilidade de marcar (em %): 0.0<br />Fração de chutes (em %): 0.00<br />Numero de chutes: 0<br />Numero de goals: 0<br />",
           "Probabilidade de marcar (em %): 0.0<br />Fração de chutes (em %): 0.00<br />Numero de chutes: 0<br />Numero de goals: 0<br />",
           "Probabilidade de marcar (em %): 0.0<br />Fração de chutes (em %): 0.00<br />Numero de chutes: 0<br />Numero de goals: 0<br />",
           "Probabilidade de marcar (em %): 0.0<br />Fração de chutes (em %): 0.00<br />Numero de chutes: 0<br />Numero de goals: 0<br />",
           "Probabilidade de marcar (em %): 0.0<br />Fração de chutes (em %): 0.00<br />Numero de chutes: 0<br />Numero de goals: 0<br />",
           "Probabilidade de marcar (em %): 0.0<br />Fração de chutes (em %): 0.00<br />Numero de chutes: 0<br />Numero de goals: 0<br />",
           "Probabilidade de marcar (em %): 0.0<br />Fração de chutes (em %): 0.00<br />Numero de chutes: 0<br />Numero de goals: 0<br />"
          ],
          [
           "Probabilidade de marcar (em %): 0.0<br />Fração de chutes (em %): 0.00<br />Numero de chutes: 0<br />Numero de goals: 0<br />",
           "Probabilidade de marcar (em %): 0.0<br />Fração de chutes (em %): 0.02<br />Numero de chutes: 7<br />Numero de goals: 0<br />",
           "Probabilidade de marcar (em %): 0.0<br />Fração de chutes (em %): 0.01<br />Numero de chutes: 5<br />Numero de goals: 0<br />",
           "Probabilidade de marcar (em %): 0.0<br />Fração de chutes (em %): 0.01<br />Numero de chutes: 6<br />Numero de goals: 0<br />",
           "Probabilidade de marcar (em %): 0.0<br />Fração de chutes (em %): 0.01<br />Numero de chutes: 6<br />Numero de goals: 0<br />",
           "Probabilidade de marcar (em %): 9.1<br />Fração de chutes (em %): 0.02<br />Numero de chutes: 11<br />Numero de goals: 1<br />",
           "Probabilidade de marcar (em %): 16.7<br />Fração de chutes (em %): 0.01<br />Numero de chutes: 6<br />Numero de goals: 1<br />",
           "Probabilidade de marcar (em %): 0.0<br />Fração de chutes (em %): 0.01<br />Numero de chutes: 4<br />Numero de goals: 0<br />",
           "Probabilidade de marcar (em %): 25.0<br />Fração de chutes (em %): 0.01<br />Numero de chutes: 4<br />Numero de goals: 1<br />",
           "Probabilidade de marcar (em %): 0.0<br />Fração de chutes (em %): 0.00<br />Numero de chutes: 2<br />Numero de goals: 0<br />",
           "Probabilidade de marcar (em %): 0.0<br />Fração de chutes (em %): 0.00<br />Numero de chutes: 0<br />Numero de goals: 0<br />",
           "Probabilidade de marcar (em %): 0.0<br />Fração de chutes (em %): 0.00<br />Numero de chutes: 0<br />Numero de goals: 0<br />",
           "Probabilidade de marcar (em %): 0.0<br />Fração de chutes (em %): 0.00<br />Numero de chutes: 1<br />Numero de goals: 0<br />",
           "Probabilidade de marcar (em %): 0.0<br />Fração de chutes (em %): 0.00<br />Numero de chutes: 0<br />Numero de goals: 0<br />",
           "Probabilidade de marcar (em %): 0.0<br />Fração de chutes (em %): 0.00<br />Numero de chutes: 1<br />Numero de goals: 0<br />",
           "Probabilidade de marcar (em %): 0.0<br />Fração de chutes (em %): 0.00<br />Numero de chutes: 0<br />Numero de goals: 0<br />",
           "Probabilidade de marcar (em %): 0.0<br />Fração de chutes (em %): 0.00<br />Numero de chutes: 0<br />Numero de goals: 0<br />",
           "Probabilidade de marcar (em %): 0.0<br />Fração de chutes (em %): 0.00<br />Numero de chutes: 0<br />Numero de goals: 0<br />",
           "Probabilidade de marcar (em %): 0.0<br />Fração de chutes (em %): 0.00<br />Numero de chutes: 0<br />Numero de goals: 0<br />",
           "Probabilidade de marcar (em %): 0.0<br />Fração de chutes (em %): 0.00<br />Numero de chutes: 0<br />Numero de goals: 0<br />",
           "Probabilidade de marcar (em %): 0.0<br />Fração de chutes (em %): 0.00<br />Numero de chutes: 0<br />Numero de goals: 0<br />",
           "Probabilidade de marcar (em %): 0.0<br />Fração de chutes (em %): 0.00<br />Numero de chutes: 0<br />Numero de goals: 0<br />",
           "Probabilidade de marcar (em %): 0.0<br />Fração de chutes (em %): 0.00<br />Numero de chutes: 0<br />Numero de goals: 0<br />",
           "Probabilidade de marcar (em %): 0.0<br />Fração de chutes (em %): 0.00<br />Numero de chutes: 0<br />Numero de goals: 0<br />"
          ],
          [
           "Probabilidade de marcar (em %): 0.0<br />Fração de chutes (em %): 0.01<br />Numero de chutes: 5<br />Numero de goals: 0<br />",
           "Probabilidade de marcar (em %): 0.0<br />Fração de chutes (em %): 0.04<br />Numero de chutes: 19<br />Numero de goals: 0<br />",
           "Probabilidade de marcar (em %): 12.5<br />Fração de chutes (em %): 0.09<br />Numero de chutes: 40<br />Numero de goals: 5<br />",
           "Probabilidade de marcar (em %): 16.7<br />Fração de chutes (em %): 0.05<br />Numero de chutes: 24<br />Numero de goals: 4<br />",
           "Probabilidade de marcar (em %): 4.5<br />Fração de chutes (em %): 0.05<br />Numero de chutes: 22<br />Numero de goals: 1<br />",
           "Probabilidade de marcar (em %): 0.0<br />Fração de chutes (em %): 0.09<br />Numero de chutes: 39<br />Numero de goals: 0<br />",
           "Probabilidade de marcar (em %): 0.0<br />Fração de chutes (em %): 0.07<br />Numero de chutes: 33<br />Numero de goals: 0<br />",
           "Probabilidade de marcar (em %): 10.0<br />Fração de chutes (em %): 0.02<br />Numero de chutes: 10<br />Numero de goals: 1<br />",
           "Probabilidade de marcar (em %): 16.7<br />Fração de chutes (em %): 0.01<br />Numero de chutes: 6<br />Numero de goals: 1<br />",
           "Probabilidade de marcar (em %): 0.0<br />Fração de chutes (em %): 0.00<br />Numero de chutes: 0<br />Numero de goals: 0<br />",
           "Probabilidade de marcar (em %): 0.0<br />Fração de chutes (em %): 0.00<br />Numero de chutes: 1<br />Numero de goals: 0<br />",
           "Probabilidade de marcar (em %): 0.0<br />Fração de chutes (em %): 0.00<br />Numero de chutes: 2<br />Numero de goals: 0<br />",
           "Probabilidade de marcar (em %): 0.0<br />Fração de chutes (em %): 0.00<br />Numero de chutes: 1<br />Numero de goals: 0<br />",
           "Probabilidade de marcar (em %): 0.0<br />Fração de chutes (em %): 0.00<br />Numero de chutes: 0<br />Numero de goals: 0<br />",
           "Probabilidade de marcar (em %): 0.0<br />Fração de chutes (em %): 0.00<br />Numero de chutes: 0<br />Numero de goals: 0<br />",
           "Probabilidade de marcar (em %): 0.0<br />Fração de chutes (em %): 0.00<br />Numero de chutes: 0<br />Numero de goals: 0<br />",
           "Probabilidade de marcar (em %): 0.0<br />Fração de chutes (em %): 0.00<br />Numero de chutes: 0<br />Numero de goals: 0<br />",
           "Probabilidade de marcar (em %): 0.0<br />Fração de chutes (em %): 0.00<br />Numero de chutes: 0<br />Numero de goals: 0<br />",
           "Probabilidade de marcar (em %): 0.0<br />Fração de chutes (em %): 0.00<br />Numero de chutes: 0<br />Numero de goals: 0<br />",
           "Probabilidade de marcar (em %): 0.0<br />Fração de chutes (em %): 0.00<br />Numero de chutes: 0<br />Numero de goals: 0<br />",
           "Probabilidade de marcar (em %): 0.0<br />Fração de chutes (em %): 0.00<br />Numero de chutes: 0<br />Numero de goals: 0<br />",
           "Probabilidade de marcar (em %): 0.0<br />Fração de chutes (em %): 0.00<br />Numero de chutes: 0<br />Numero de goals: 0<br />",
           "Probabilidade de marcar (em %): 0.0<br />Fração de chutes (em %): 0.00<br />Numero de chutes: 0<br />Numero de goals: 0<br />",
           "Probabilidade de marcar (em %): 0.0<br />Fração de chutes (em %): 0.00<br />Numero de chutes: 0<br />Numero de goals: 0<br />"
          ],
          [
           "Probabilidade de marcar (em %): 0.0<br />Fração de chutes (em %): 0.00<br />Numero de chutes: 2<br />Numero de goals: 0<br />",
           "Probabilidade de marcar (em %): 3.8<br />Fração de chutes (em %): 0.06<br />Numero de chutes: 26<br />Numero de goals: 1<br />",
           "Probabilidade de marcar (em %): 5.3<br />Fração de chutes (em %): 0.17<br />Numero de chutes: 76<br />Numero de goals: 4<br />",
           "Probabilidade de marcar (em %): 4.3<br />Fração de chutes (em %): 0.15<br />Numero de chutes: 70<br />Numero de goals: 3<br />",
           "Probabilidade de marcar (em %): 2.1<br />Fração de chutes (em %): 0.21<br />Numero de chutes: 96<br />Numero de goals: 2<br />",
           "Probabilidade de marcar (em %): 0.5<br />Fração de chutes (em %): 0.46<br />Numero de chutes: 207<br />Numero de goals: 1<br />",
           "Probabilidade de marcar (em %): 0.8<br />Fração de chutes (em %): 0.29<br />Numero de chutes: 130<br />Numero de goals: 1<br />",
           "Probabilidade de marcar (em %): 2.2<br />Fração de chutes (em %): 0.10<br />Numero de chutes: 46<br />Numero de goals: 1<br />",
           "Probabilidade de marcar (em %): 0.0<br />Fração de chutes (em %): 0.02<br />Numero de chutes: 7<br />Numero de goals: 0<br />",
           "Probabilidade de marcar (em %): 0.0<br />Fração de chutes (em %): 0.01<br />Numero de chutes: 3<br />Numero de goals: 0<br />",
           "Probabilidade de marcar (em %): 0.0<br />Fração de chutes (em %): 0.01<br />Numero de chutes: 3<br />Numero de goals: 0<br />",
           "Probabilidade de marcar (em %): 0.0<br />Fração de chutes (em %): 0.00<br />Numero de chutes: 1<br />Numero de goals: 0<br />",
           "Probabilidade de marcar (em %): 0.0<br />Fração de chutes (em %): 0.00<br />Numero de chutes: 1<br />Numero de goals: 0<br />",
           "Probabilidade de marcar (em %): 0.0<br />Fração de chutes (em %): 0.00<br />Numero de chutes: 0<br />Numero de goals: 0<br />",
           "Probabilidade de marcar (em %): 0.0<br />Fração de chutes (em %): 0.00<br />Numero de chutes: 1<br />Numero de goals: 0<br />",
           "Probabilidade de marcar (em %): 0.0<br />Fração de chutes (em %): 0.00<br />Numero de chutes: 0<br />Numero de goals: 0<br />",
           "Probabilidade de marcar (em %): 0.0<br />Fração de chutes (em %): 0.00<br />Numero de chutes: 0<br />Numero de goals: 0<br />",
           "Probabilidade de marcar (em %): 0.0<br />Fração de chutes (em %): 0.00<br />Numero de chutes: 0<br />Numero de goals: 0<br />",
           "Probabilidade de marcar (em %): 0.0<br />Fração de chutes (em %): 0.00<br />Numero de chutes: 0<br />Numero de goals: 0<br />",
           "Probabilidade de marcar (em %): 0.0<br />Fração de chutes (em %): 0.00<br />Numero de chutes: 0<br />Numero de goals: 0<br />",
           "Probabilidade de marcar (em %): 0.0<br />Fração de chutes (em %): 0.00<br />Numero de chutes: 0<br />Numero de goals: 0<br />",
           "Probabilidade de marcar (em %): 0.0<br />Fração de chutes (em %): 0.00<br />Numero de chutes: 0<br />Numero de goals: 0<br />",
           "Probabilidade de marcar (em %): 0.0<br />Fração de chutes (em %): 0.00<br />Numero de chutes: 0<br />Numero de goals: 0<br />",
           "Probabilidade de marcar (em %): 0.0<br />Fração de chutes (em %): 0.00<br />Numero de chutes: 0<br />Numero de goals: 0<br />"
          ],
          [
           "Probabilidade de marcar (em %): 2.0<br />Fração de chutes (em %): 0.11<br />Numero de chutes: 49<br />Numero de goals: 1<br />",
           "Probabilidade de marcar (em %): 1.3<br />Fração de chutes (em %): 0.53<br />Numero de chutes: 239<br />Numero de goals: 3<br />",
           "Probabilidade de marcar (em %): 6.0<br />Fração de chutes (em %): 1.32<br />Numero de chutes: 600<br />Numero de goals: 36<br />",
           "Probabilidade de marcar (em %): 3.9<br />Fração de chutes (em %): 0.86<br />Numero de chutes: 388<br />Numero de goals: 15<br />",
           "Probabilidade de marcar (em %): 2.5<br />Fração de chutes (em %): 0.87<br />Numero de chutes: 393<br />Numero de goals: 10<br />",
           "Probabilidade de marcar (em %): 2.1<br />Fração de chutes (em %): 1.35<br />Numero de chutes: 613<br />Numero de goals: 13<br />",
           "Probabilidade de marcar (em %): 1.9<br />Fração de chutes (em %): 0.69<br />Numero de chutes: 311<br />Numero de goals: 6<br />",
           "Probabilidade de marcar (em %): 0.0<br />Fração de chutes (em %): 0.21<br />Numero de chutes: 94<br />Numero de goals: 0<br />",
           "Probabilidade de marcar (em %): 0.0<br />Fração de chutes (em %): 0.02<br />Numero de chutes: 8<br />Numero de goals: 0<br />",
           "Probabilidade de marcar (em %): 0.0<br />Fração de chutes (em %): 0.01<br />Numero de chutes: 3<br />Numero de goals: 0<br />",
           "Probabilidade de marcar (em %): 0.0<br />Fração de chutes (em %): 0.00<br />Numero de chutes: 2<br />Numero de goals: 0<br />",
           "Probabilidade de marcar (em %): 25.0<br />Fração de chutes (em %): 0.01<br />Numero de chutes: 4<br />Numero de goals: 1<br />",
           "Probabilidade de marcar (em %): 0.0<br />Fração de chutes (em %): 0.00<br />Numero de chutes: 1<br />Numero de goals: 0<br />",
           "Probabilidade de marcar (em %): 0.0<br />Fração de chutes (em %): 0.01<br />Numero de chutes: 3<br />Numero de goals: 0<br />",
           "Probabilidade de marcar (em %): 0.0<br />Fração de chutes (em %): 0.01<br />Numero de chutes: 3<br />Numero de goals: 0<br />",
           "Probabilidade de marcar (em %): 0.0<br />Fração de chutes (em %): 0.00<br />Numero de chutes: 1<br />Numero de goals: 0<br />",
           "Probabilidade de marcar (em %): 0.0<br />Fração de chutes (em %): 0.00<br />Numero de chutes: 1<br />Numero de goals: 0<br />",
           "Probabilidade de marcar (em %): 0.0<br />Fração de chutes (em %): 0.00<br />Numero de chutes: 0<br />Numero de goals: 0<br />",
           "Probabilidade de marcar (em %): 0.0<br />Fração de chutes (em %): 0.00<br />Numero de chutes: 0<br />Numero de goals: 0<br />",
           "Probabilidade de marcar (em %): 0.0<br />Fração de chutes (em %): 0.00<br />Numero de chutes: 0<br />Numero de goals: 0<br />",
           "Probabilidade de marcar (em %): 0.0<br />Fração de chutes (em %): 0.00<br />Numero de chutes: 0<br />Numero de goals: 0<br />",
           "Probabilidade de marcar (em %): 0.0<br />Fração de chutes (em %): 0.00<br />Numero de chutes: 0<br />Numero de goals: 0<br />",
           "Probabilidade de marcar (em %): 0.0<br />Fração de chutes (em %): 0.00<br />Numero de chutes: 0<br />Numero de goals: 0<br />",
           "Probabilidade de marcar (em %): 0.0<br />Fração de chutes (em %): 0.00<br />Numero de chutes: 0<br />Numero de goals: 0<br />"
          ],
          [
           "Probabilidade de marcar (em %): 7.8<br />Fração de chutes (em %): 0.37<br />Numero de chutes: 167<br />Numero de goals: 13<br />",
           "Probabilidade de marcar (em %): 8.1<br />Fração de chutes (em %): 1.39<br />Numero de chutes: 628<br />Numero de goals: 51<br />",
           "Probabilidade de marcar (em %): 9.7<br />Fração de chutes (em %): 3.01<br />Numero de chutes: 1365<br />Numero de goals: 132<br />",
           "Probabilidade de marcar (em %): 5.5<br />Fração de chutes (em %): 1.63<br />Numero de chutes: 739<br />Numero de goals: 41<br />",
           "Probabilidade de marcar (em %): 3.4<br />Fração de chutes (em %): 1.42<br />Numero de chutes: 645<br />Numero de goals: 22<br />",
           "Probabilidade de marcar (em %): 2.9<br />Fração de chutes (em %): 1.98<br />Numero de chutes: 897<br />Numero de goals: 26<br />",
           "Probabilidade de marcar (em %): 1.3<br />Fração de chutes (em %): 1.05<br />Numero de chutes: 476<br />Numero de goals: 6<br />",
           "Probabilidade de marcar (em %): 1.5<br />Fração de chutes (em %): 0.29<br />Numero de chutes: 130<br />Numero de goals: 2<br />",
           "Probabilidade de marcar (em %): 0.0<br />Fração de chutes (em %): 0.04<br />Numero de chutes: 19<br />Numero de goals: 0<br />",
           "Probabilidade de marcar (em %): 0.0<br />Fração de chutes (em %): 0.01<br />Numero de chutes: 5<br />Numero de goals: 0<br />",
           "Probabilidade de marcar (em %): 0.0<br />Fração de chutes (em %): 0.01<br />Numero de chutes: 3<br />Numero de goals: 0<br />",
           "Probabilidade de marcar (em %): 33.3<br />Fração de chutes (em %): 0.01<br />Numero de chutes: 3<br />Numero de goals: 1<br />",
           "Probabilidade de marcar (em %): 0.0<br />Fração de chutes (em %): 0.00<br />Numero de chutes: 0<br />Numero de goals: 0<br />",
           "Probabilidade de marcar (em %): 0.0<br />Fração de chutes (em %): 0.01<br />Numero de chutes: 4<br />Numero de goals: 0<br />",
           "Probabilidade de marcar (em %): 0.0<br />Fração de chutes (em %): 0.01<br />Numero de chutes: 4<br />Numero de goals: 0<br />",
           "Probabilidade de marcar (em %): 0.0<br />Fração de chutes (em %): 0.00<br />Numero de chutes: 1<br />Numero de goals: 0<br />",
           "Probabilidade de marcar (em %): 0.0<br />Fração de chutes (em %): 0.00<br />Numero de chutes: 0<br />Numero de goals: 0<br />",
           "Probabilidade de marcar (em %): 0.0<br />Fração de chutes (em %): 0.00<br />Numero de chutes: 0<br />Numero de goals: 0<br />",
           "Probabilidade de marcar (em %): 0.0<br />Fração de chutes (em %): 0.00<br />Numero de chutes: 0<br />Numero de goals: 0<br />",
           "Probabilidade de marcar (em %): 0.0<br />Fração de chutes (em %): 0.00<br />Numero de chutes: 0<br />Numero de goals: 0<br />",
           "Probabilidade de marcar (em %): 0.0<br />Fração de chutes (em %): 0.00<br />Numero de chutes: 0<br />Numero de goals: 0<br />",
           "Probabilidade de marcar (em %): 0.0<br />Fração de chutes (em %): 0.00<br />Numero de chutes: 1<br />Numero de goals: 0<br />",
           "Probabilidade de marcar (em %): 0.0<br />Fração de chutes (em %): 0.00<br />Numero de chutes: 0<br />Numero de goals: 0<br />",
           "Probabilidade de marcar (em %): 0.0<br />Fração de chutes (em %): 0.00<br />Numero de chutes: 0<br />Numero de goals: 0<br />"
          ],
          [
           "Probabilidade de marcar (em %): 18.6<br />Fração de chutes (em %): 0.65<br />Numero de chutes: 296<br />Numero de goals: 55<br />",
           "Probabilidade de marcar (em %): 17.0<br />Fração de chutes (em %): 1.71<br />Numero de chutes: 776<br />Numero de goals: 132<br />",
           "Probabilidade de marcar (em %): 14.0<br />Fração de chutes (em %): 3.41<br />Numero de chutes: 1543<br />Numero de goals: 216<br />",
           "Probabilidade de marcar (em %): 8.9<br />Fração de chutes (em %): 1.67<br />Numero de chutes: 755<br />Numero de goals: 67<br />",
           "Probabilidade de marcar (em %): 5.5<br />Fração de chutes (em %): 1.29<br />Numero de chutes: 583<br />Numero de goals: 32<br />",
           "Probabilidade de marcar (em %): 3.3<br />Fração de chutes (em %): 2.08<br />Numero de chutes: 941<br />Numero de goals: 31<br />",
           "Probabilidade de marcar (em %): 2.5<br />Fração de chutes (em %): 1.15<br />Numero de chutes: 522<br />Numero de goals: 13<br />",
           "Probabilidade de marcar (em %): 3.4<br />Fração de chutes (em %): 0.39<br />Numero de chutes: 178<br />Numero de goals: 6<br />",
           "Probabilidade de marcar (em %): 0.0<br />Fração de chutes (em %): 0.05<br />Numero de chutes: 22<br />Numero de goals: 0<br />",
           "Probabilidade de marcar (em %): 0.0<br />Fração de chutes (em %): 0.01<br />Numero de chutes: 4<br />Numero de goals: 0<br />",
           "Probabilidade de marcar (em %): 0.0<br />Fração de chutes (em %): 0.00<br />Numero de chutes: 2<br />Numero de goals: 0<br />",
           "Probabilidade de marcar (em %): 0.0<br />Fração de chutes (em %): 0.00<br />Numero de chutes: 2<br />Numero de goals: 0<br />",
           "Probabilidade de marcar (em %): 0.0<br />Fração de chutes (em %): 0.00<br />Numero de chutes: 2<br />Numero de goals: 0<br />",
           "Probabilidade de marcar (em %): 33.3<br />Fração de chutes (em %): 0.01<br />Numero de chutes: 3<br />Numero de goals: 1<br />",
           "Probabilidade de marcar (em %): 0.0<br />Fração de chutes (em %): 0.00<br />Numero de chutes: 1<br />Numero de goals: 0<br />",
           "Probabilidade de marcar (em %): 0.0<br />Fração de chutes (em %): 0.00<br />Numero de chutes: 1<br />Numero de goals: 0<br />",
           "Probabilidade de marcar (em %): 0.0<br />Fração de chutes (em %): 0.00<br />Numero de chutes: 0<br />Numero de goals: 0<br />",
           "Probabilidade de marcar (em %): 0.0<br />Fração de chutes (em %): 0.00<br />Numero de chutes: 0<br />Numero de goals: 0<br />",
           "Probabilidade de marcar (em %): 0.0<br />Fração de chutes (em %): 0.00<br />Numero de chutes: 0<br />Numero de goals: 0<br />",
           "Probabilidade de marcar (em %): 0.0<br />Fração de chutes (em %): 0.00<br />Numero de chutes: 1<br />Numero de goals: 0<br />",
           "Probabilidade de marcar (em %): 0.0<br />Fração de chutes (em %): 0.00<br />Numero de chutes: 0<br />Numero de goals: 0<br />",
           "Probabilidade de marcar (em %): 0.0<br />Fração de chutes (em %): 0.00<br />Numero de chutes: 0<br />Numero de goals: 0<br />",
           "Probabilidade de marcar (em %): 0.0<br />Fração de chutes (em %): 0.00<br />Numero de chutes: 1<br />Numero de goals: 0<br />",
           "Probabilidade de marcar (em %): 0.0<br />Fração de chutes (em %): 0.00<br />Numero de chutes: 1<br />Numero de goals: 0<br />"
          ],
          [
           "Probabilidade de marcar (em %): 52.4<br />Fração de chutes (em %): 0.92<br />Numero de chutes: 418<br />Numero de goals: 219<br />",
           "Probabilidade de marcar (em %): 25.1<br />Fração de chutes (em %): 2.65<br />Numero de chutes: 1198<br />Numero de goals: 301<br />",
           "Probabilidade de marcar (em %): 14.6<br />Fração de chutes (em %): 3.83<br />Numero de chutes: 1736<br />Numero de goals: 253<br />",
           "Probabilidade de marcar (em %): 10.3<br />Fração de chutes (em %): 1.67<br />Numero de chutes: 757<br />Numero de goals: 78<br />",
           "Probabilidade de marcar (em %): 8.8<br />Fração de chutes (em %): 1.26<br />Numero de chutes: 571<br />Numero de goals: 50<br />",
           "Probabilidade de marcar (em %): 4.4<br />Fração de chutes (em %): 1.86<br />Numero de chutes: 841<br />Numero de goals: 37<br />",
           "Probabilidade de marcar (em %): 3.0<br />Fração de chutes (em %): 1.27<br />Numero de chutes: 576<br />Numero de goals: 17<br />",
           "Probabilidade de marcar (em %): 2.5<br />Fração de chutes (em %): 0.44<br />Numero de chutes: 199<br />Numero de goals: 5<br />",
           "Probabilidade de marcar (em %): 0.0<br />Fração de chutes (em %): 0.04<br />Numero de chutes: 16<br />Numero de goals: 0<br />",
           "Probabilidade de marcar (em %): 0.0<br />Fração de chutes (em %): 0.01<br />Numero de chutes: 5<br />Numero de goals: 0<br />",
           "Probabilidade de marcar (em %): 0.0<br />Fração de chutes (em %): 0.00<br />Numero de chutes: 0<br />Numero de goals: 0<br />",
           "Probabilidade de marcar (em %): 0.0<br />Fração de chutes (em %): 0.01<br />Numero de chutes: 4<br />Numero de goals: 0<br />",
           "Probabilidade de marcar (em %): 0.0<br />Fração de chutes (em %): 0.00<br />Numero de chutes: 1<br />Numero de goals: 0<br />",
           "Probabilidade de marcar (em %): 0.0<br />Fração de chutes (em %): 0.00<br />Numero de chutes: 1<br />Numero de goals: 0<br />",
           "Probabilidade de marcar (em %): 0.0<br />Fração de chutes (em %): 0.00<br />Numero de chutes: 1<br />Numero de goals: 0<br />",
           "Probabilidade de marcar (em %): 0.0<br />Fração de chutes (em %): 0.00<br />Numero de chutes: 0<br />Numero de goals: 0<br />",
           "Probabilidade de marcar (em %): 0.0<br />Fração de chutes (em %): 0.00<br />Numero de chutes: 1<br />Numero de goals: 0<br />",
           "Probabilidade de marcar (em %): 0.0<br />Fração de chutes (em %): 0.00<br />Numero de chutes: 0<br />Numero de goals: 0<br />",
           "Probabilidade de marcar (em %): 0.0<br />Fração de chutes (em %): 0.00<br />Numero de chutes: 1<br />Numero de goals: 0<br />",
           "Probabilidade de marcar (em %): 0.0<br />Fração de chutes (em %): 0.00<br />Numero de chutes: 0<br />Numero de goals: 0<br />",
           "Probabilidade de marcar (em %): 0.0<br />Fração de chutes (em %): 0.00<br />Numero de chutes: 0<br />Numero de goals: 0<br />",
           "Probabilidade de marcar (em %): 0.0<br />Fração de chutes (em %): 0.00<br />Numero de chutes: 0<br />Numero de goals: 0<br />",
           "Probabilidade de marcar (em %): 0.0<br />Fração de chutes (em %): 0.00<br />Numero de chutes: 1<br />Numero de goals: 0<br />",
           "Probabilidade de marcar (em %): 0.0<br />Fração de chutes (em %): 0.00<br />Numero de chutes: 0<br />Numero de goals: 0<br />"
          ],
          [
           "Probabilidade de marcar (em %): 61.4<br />Fração de chutes (em %): 0.82<br />Numero de chutes: 373<br />Numero de goals: 229<br />",
           "Probabilidade de marcar (em %): 29.7<br />Fração de chutes (em %): 2.56<br />Numero de chutes: 1160<br />Numero de goals: 345<br />",
           "Probabilidade de marcar (em %): 17.0<br />Fração de chutes (em %): 2.85<br />Numero de chutes: 1291<br />Numero de goals: 220<br />",
           "Probabilidade de marcar (em %): 11.2<br />Fração de chutes (em %): 1.61<br />Numero de chutes: 730<br />Numero de goals: 82<br />",
           "Probabilidade de marcar (em %): 8.7<br />Fração de chutes (em %): 1.61<br />Numero de chutes: 728<br />Numero de goals: 63<br />",
           "Probabilidade de marcar (em %): 2.7<br />Fração de chutes (em %): 1.57<br />Numero de chutes: 711<br />Numero de goals: 19<br />",
           "Probabilidade de marcar (em %): 2.9<br />Fração de chutes (em %): 1.30<br />Numero de chutes: 589<br />Numero de goals: 17<br />",
           "Probabilidade de marcar (em %): 2.6<br />Fração de chutes (em %): 0.42<br />Numero de chutes: 190<br />Numero de goals: 5<br />",
           "Probabilidade de marcar (em %): 0.0<br />Fração de chutes (em %): 0.02<br />Numero de chutes: 10<br />Numero de goals: 0<br />",
           "Probabilidade de marcar (em %): 0.0<br />Fração de chutes (em %): 0.00<br />Numero de chutes: 2<br />Numero de goals: 0<br />",
           "Probabilidade de marcar (em %): 0.0<br />Fração de chutes (em %): 0.00<br />Numero de chutes: 1<br />Numero de goals: 0<br />",
           "Probabilidade de marcar (em %): 0.0<br />Fração de chutes (em %): 0.02<br />Numero de chutes: 7<br />Numero de goals: 0<br />",
           "Probabilidade de marcar (em %): 0.0<br />Fração de chutes (em %): 0.01<br />Numero de chutes: 4<br />Numero de goals: 0<br />",
           "Probabilidade de marcar (em %): 0.0<br />Fração de chutes (em %): 0.02<br />Numero de chutes: 9<br />Numero de goals: 0<br />",
           "Probabilidade de marcar (em %): 0.0<br />Fração de chutes (em %): 0.00<br />Numero de chutes: 0<br />Numero de goals: 0<br />",
           "Probabilidade de marcar (em %): 0.0<br />Fração de chutes (em %): 0.00<br />Numero de chutes: 0<br />Numero de goals: 0<br />",
           "Probabilidade de marcar (em %): 0.0<br />Fração de chutes (em %): 0.00<br />Numero de chutes: 0<br />Numero de goals: 0<br />",
           "Probabilidade de marcar (em %): 0.0<br />Fração de chutes (em %): 0.00<br />Numero de chutes: 1<br />Numero de goals: 0<br />",
           "Probabilidade de marcar (em %): 0.0<br />Fração de chutes (em %): 0.00<br />Numero de chutes: 0<br />Numero de goals: 0<br />",
           "Probabilidade de marcar (em %): 0.0<br />Fração de chutes (em %): 0.00<br />Numero de chutes: 0<br />Numero de goals: 0<br />",
           "Probabilidade de marcar (em %): 0.0<br />Fração de chutes (em %): 0.00<br />Numero de chutes: 0<br />Numero de goals: 0<br />",
           "Probabilidade de marcar (em %): 0.0<br />Fração de chutes (em %): 0.00<br />Numero de chutes: 0<br />Numero de goals: 0<br />",
           "Probabilidade de marcar (em %): 33.3<br />Fração de chutes (em %): 0.01<br />Numero de chutes: 3<br />Numero de goals: 1<br />",
           "Probabilidade de marcar (em %): 100.0<br />Fração de chutes (em %): 0.00<br />Numero de chutes: 2<br />Numero de goals: 2<br />"
          ],
          [
           "Probabilidade de marcar (em %): 41.7<br />Fração de chutes (em %): 0.81<br />Numero de chutes: 369<br />Numero de goals: 154<br />",
           "Probabilidade de marcar (em %): 25.6<br />Fração de chutes (em %): 2.54<br />Numero de chutes: 1151<br />Numero de goals: 295<br />",
           "Probabilidade de marcar (em %): 15.7<br />Fração de chutes (em %): 3.65<br />Numero de chutes: 1653<br />Numero de goals: 259<br />",
           "Probabilidade de marcar (em %): 12.7<br />Fração de chutes (em %): 1.56<br />Numero de chutes: 708<br />Numero de goals: 90<br />",
           "Probabilidade de marcar (em %): 7.1<br />Fração de chutes (em %): 1.19<br />Numero de chutes: 537<br />Numero de goals: 38<br />",
           "Probabilidade de marcar (em %): 3.7<br />Fração de chutes (em %): 1.81<br />Numero de chutes: 821<br />Numero de goals: 30<br />",
           "Probabilidade de marcar (em %): 3.0<br />Fração de chutes (em %): 1.38<br />Numero de chutes: 627<br />Numero de goals: 19<br />",
           "Probabilidade de marcar (em %): 1.6<br />Fração de chutes (em %): 0.42<br />Numero de chutes: 190<br />Numero de goals: 3<br />",
           "Probabilidade de marcar (em %): 0.0<br />Fração de chutes (em %): 0.03<br />Numero de chutes: 13<br />Numero de goals: 0<br />",
           "Probabilidade de marcar (em %): 25.0<br />Fração de chutes (em %): 0.01<br />Numero de chutes: 4<br />Numero de goals: 1<br />",
           "Probabilidade de marcar (em %): 0.0<br />Fração de chutes (em %): 0.01<br />Numero de chutes: 3<br />Numero de goals: 0<br />",
           "Probabilidade de marcar (em %): 0.0<br />Fração de chutes (em %): 0.00<br />Numero de chutes: 0<br />Numero de goals: 0<br />",
           "Probabilidade de marcar (em %): 0.0<br />Fração de chutes (em %): 0.02<br />Numero de chutes: 8<br />Numero de goals: 0<br />",
           "Probabilidade de marcar (em %): 0.0<br />Fração de chutes (em %): 0.00<br />Numero de chutes: 2<br />Numero de goals: 0<br />",
           "Probabilidade de marcar (em %): 0.0<br />Fração de chutes (em %): 0.00<br />Numero de chutes: 0<br />Numero de goals: 0<br />",
           "Probabilidade de marcar (em %): 0.0<br />Fração de chutes (em %): 0.00<br />Numero de chutes: 2<br />Numero de goals: 0<br />",
           "Probabilidade de marcar (em %): 0.0<br />Fração de chutes (em %): 0.00<br />Numero de chutes: 1<br />Numero de goals: 0<br />",
           "Probabilidade de marcar (em %): 0.0<br />Fração de chutes (em %): 0.00<br />Numero de chutes: 0<br />Numero de goals: 0<br />",
           "Probabilidade de marcar (em %): 0.0<br />Fração de chutes (em %): 0.00<br />Numero de chutes: 0<br />Numero de goals: 0<br />",
           "Probabilidade de marcar (em %): 0.0<br />Fração de chutes (em %): 0.00<br />Numero de chutes: 0<br />Numero de goals: 0<br />",
           "Probabilidade de marcar (em %): 0.0<br />Fração de chutes (em %): 0.00<br />Numero de chutes: 0<br />Numero de goals: 0<br />",
           "Probabilidade de marcar (em %): 0.0<br />Fração de chutes (em %): 0.00<br />Numero de chutes: 2<br />Numero de goals: 0<br />",
           "Probabilidade de marcar (em %): 0.0<br />Fração de chutes (em %): 0.00<br />Numero de chutes: 1<br />Numero de goals: 0<br />",
           "Probabilidade de marcar (em %): 0.0<br />Fração de chutes (em %): 0.00<br />Numero de chutes: 0<br />Numero de goals: 0<br />"
          ],
          [
           "Probabilidade de marcar (em %): 16.4<br />Fração de chutes (em %): 0.64<br />Numero de chutes: 292<br />Numero de goals: 48<br />",
           "Probabilidade de marcar (em %): 16.1<br />Fração de chutes (em %): 1.64<br />Numero de chutes: 741<br />Numero de goals: 119<br />",
           "Probabilidade de marcar (em %): 12.8<br />Fração de chutes (em %): 3.25<br />Numero de chutes: 1473<br />Numero de goals: 189<br />",
           "Probabilidade de marcar (em %): 8.9<br />Fração de chutes (em %): 1.51<br />Numero de chutes: 682<br />Numero de goals: 61<br />",
           "Probabilidade de marcar (em %): 5.0<br />Fração de chutes (em %): 1.12<br />Numero de chutes: 505<br />Numero de goals: 25<br />",
           "Probabilidade de marcar (em %): 3.6<br />Fração de chutes (em %): 2.09<br />Numero de chutes: 946<br />Numero de goals: 34<br />",
           "Probabilidade de marcar (em %): 2.2<br />Fração de chutes (em %): 1.22<br />Numero de chutes: 552<br />Numero de goals: 12<br />",
           "Probabilidade de marcar (em %): 2.9<br />Fração de chutes (em %): 0.30<br />Numero de chutes: 138<br />Numero de goals: 4<br />",
           "Probabilidade de marcar (em %): 0.0<br />Fração de chutes (em %): 0.06<br />Numero de chutes: 26<br />Numero de goals: 0<br />",
           "Probabilidade de marcar (em %): 0.0<br />Fração de chutes (em %): 0.01<br />Numero de chutes: 4<br />Numero de goals: 0<br />",
           "Probabilidade de marcar (em %): 0.0<br />Fração de chutes (em %): 0.01<br />Numero de chutes: 3<br />Numero de goals: 0<br />",
           "Probabilidade de marcar (em %): 0.0<br />Fração de chutes (em %): 0.00<br />Numero de chutes: 2<br />Numero de goals: 0<br />",
           "Probabilidade de marcar (em %): 0.0<br />Fração de chutes (em %): 0.00<br />Numero de chutes: 2<br />Numero de goals: 0<br />",
           "Probabilidade de marcar (em %): 0.0<br />Fração de chutes (em %): 0.00<br />Numero de chutes: 2<br />Numero de goals: 0<br />",
           "Probabilidade de marcar (em %): 0.0<br />Fração de chutes (em %): 0.00<br />Numero de chutes: 0<br />Numero de goals: 0<br />",
           "Probabilidade de marcar (em %): 0.0<br />Fração de chutes (em %): 0.00<br />Numero de chutes: 0<br />Numero de goals: 0<br />",
           "Probabilidade de marcar (em %): 0.0<br />Fração de chutes (em %): 0.00<br />Numero de chutes: 0<br />Numero de goals: 0<br />",
           "Probabilidade de marcar (em %): 0.0<br />Fração de chutes (em %): 0.00<br />Numero de chutes: 0<br />Numero de goals: 0<br />",
           "Probabilidade de marcar (em %): 0.0<br />Fração de chutes (em %): 0.00<br />Numero de chutes: 0<br />Numero de goals: 0<br />",
           "Probabilidade de marcar (em %): 0.0<br />Fração de chutes (em %): 0.00<br />Numero de chutes: 0<br />Numero de goals: 0<br />",
           "Probabilidade de marcar (em %): 0.0<br />Fração de chutes (em %): 0.00<br />Numero de chutes: 1<br />Numero de goals: 0<br />",
           "Probabilidade de marcar (em %): 0.0<br />Fração de chutes (em %): 0.00<br />Numero de chutes: 2<br />Numero de goals: 0<br />",
           "Probabilidade de marcar (em %): 0.0<br />Fração de chutes (em %): 0.00<br />Numero de chutes: 0<br />Numero de goals: 0<br />",
           "Probabilidade de marcar (em %): 0.0<br />Fração de chutes (em %): 0.00<br />Numero de chutes: 1<br />Numero de goals: 0<br />"
          ],
          [
           "Probabilidade de marcar (em %): 3.4<br />Fração de chutes (em %): 0.39<br />Numero de chutes: 177<br />Numero de goals: 6<br />",
           "Probabilidade de marcar (em %): 8.6<br />Fração de chutes (em %): 1.36<br />Numero de chutes: 618<br />Numero de goals: 53<br />",
           "Probabilidade de marcar (em %): 8.6<br />Fração de chutes (em %): 2.53<br />Numero de chutes: 1147<br />Numero de goals: 99<br />",
           "Probabilidade de marcar (em %): 5.7<br />Fração de chutes (em %): 1.35<br />Numero de chutes: 613<br />Numero de goals: 35<br />",
           "Probabilidade de marcar (em %): 3.5<br />Fração de chutes (em %): 1.25<br />Numero de chutes: 568<br />Numero de goals: 20<br />",
           "Probabilidade de marcar (em %): 3.3<br />Fração de chutes (em %): 1.86<br />Numero de chutes: 842<br />Numero de goals: 28<br />",
           "Probabilidade de marcar (em %): 2.6<br />Fração de chutes (em %): 0.85<br />Numero de chutes: 385<br />Numero de goals: 10<br />",
           "Probabilidade de marcar (em %): 2.6<br />Fração de chutes (em %): 0.25<br />Numero de chutes: 114<br />Numero de goals: 3<br />",
           "Probabilidade de marcar (em %): 0.0<br />Fração de chutes (em %): 0.04<br />Numero de chutes: 16<br />Numero de goals: 0<br />",
           "Probabilidade de marcar (em %): 0.0<br />Fração de chutes (em %): 0.01<br />Numero de chutes: 3<br />Numero de goals: 0<br />",
           "Probabilidade de marcar (em %): 0.0<br />Fração de chutes (em %): 0.00<br />Numero de chutes: 2<br />Numero de goals: 0<br />",
           "Probabilidade de marcar (em %): 0.0<br />Fração de chutes (em %): 0.00<br />Numero de chutes: 1<br />Numero de goals: 0<br />",
           "Probabilidade de marcar (em %): 0.0<br />Fração de chutes (em %): 0.01<br />Numero de chutes: 4<br />Numero de goals: 0<br />",
           "Probabilidade de marcar (em %): 0.0<br />Fração de chutes (em %): 0.00<br />Numero de chutes: 1<br />Numero de goals: 0<br />",
           "Probabilidade de marcar (em %): 0.0<br />Fração de chutes (em %): 0.00<br />Numero de chutes: 0<br />Numero de goals: 0<br />",
           "Probabilidade de marcar (em %): 0.0<br />Fração de chutes (em %): 0.00<br />Numero de chutes: 0<br />Numero de goals: 0<br />",
           "Probabilidade de marcar (em %): 0.0<br />Fração de chutes (em %): 0.00<br />Numero de chutes: 1<br />Numero de goals: 0<br />",
           "Probabilidade de marcar (em %): 0.0<br />Fração de chutes (em %): 0.00<br />Numero de chutes: 0<br />Numero de goals: 0<br />",
           "Probabilidade de marcar (em %): 0.0<br />Fração de chutes (em %): 0.00<br />Numero de chutes: 0<br />Numero de goals: 0<br />",
           "Probabilidade de marcar (em %): 0.0<br />Fração de chutes (em %): 0.00<br />Numero de chutes: 1<br />Numero de goals: 0<br />",
           "Probabilidade de marcar (em %): 0.0<br />Fração de chutes (em %): 0.00<br />Numero de chutes: 1<br />Numero de goals: 0<br />",
           "Probabilidade de marcar (em %): 0.0<br />Fração de chutes (em %): 0.00<br />Numero de chutes: 2<br />Numero de goals: 0<br />",
           "Probabilidade de marcar (em %): 0.0<br />Fração de chutes (em %): 0.00<br />Numero de chutes: 0<br />Numero de goals: 0<br />",
           "Probabilidade de marcar (em %): 0.0<br />Fração de chutes (em %): 0.00<br />Numero de chutes: 0<br />Numero de goals: 0<br />"
          ],
          [
           "Probabilidade de marcar (em %): 2.4<br />Fração de chutes (em %): 0.09<br />Numero de chutes: 42<br />Numero de goals: 1<br />",
           "Probabilidade de marcar (em %): 5.1<br />Fração de chutes (em %): 0.52<br />Numero de chutes: 234<br />Numero de goals: 12<br />",
           "Probabilidade de marcar (em %): 5.4<br />Fração de chutes (em %): 0.99<br />Numero de chutes: 448<br />Numero de goals: 24<br />",
           "Probabilidade de marcar (em %): 3.8<br />Fração de chutes (em %): 0.64<br />Numero de chutes: 289<br />Numero de goals: 11<br />",
           "Probabilidade de marcar (em %): 4.7<br />Fração de chutes (em %): 0.79<br />Numero de chutes: 358<br />Numero de goals: 17<br />",
           "Probabilidade de marcar (em %): 1.1<br />Fração de chutes (em %): 1.02<br />Numero de chutes: 462<br />Numero de goals: 5<br />",
           "Probabilidade de marcar (em %): 2.1<br />Fração de chutes (em %): 0.52<br />Numero de chutes: 235<br />Numero de goals: 5<br />",
           "Probabilidade de marcar (em %): 3.4<br />Fração de chutes (em %): 0.13<br />Numero de chutes: 58<br />Numero de goals: 2<br />",
           "Probabilidade de marcar (em %): 0.0<br />Fração de chutes (em %): 0.02<br />Numero de chutes: 9<br />Numero de goals: 0<br />",
           "Probabilidade de marcar (em %): 11.1<br />Fração de chutes (em %): 0.02<br />Numero de chutes: 9<br />Numero de goals: 1<br />",
           "Probabilidade de marcar (em %): 0.0<br />Fração de chutes (em %): 0.00<br />Numero de chutes: 2<br />Numero de goals: 0<br />",
           "Probabilidade de marcar (em %): 0.0<br />Fração de chutes (em %): 0.00<br />Numero de chutes: 1<br />Numero de goals: 0<br />",
           "Probabilidade de marcar (em %): 0.0<br />Fração de chutes (em %): 0.00<br />Numero de chutes: 0<br />Numero de goals: 0<br />",
           "Probabilidade de marcar (em %): 0.0<br />Fração de chutes (em %): 0.00<br />Numero de chutes: 0<br />Numero de goals: 0<br />",
           "Probabilidade de marcar (em %): 0.0<br />Fração de chutes (em %): 0.00<br />Numero de chutes: 1<br />Numero de goals: 0<br />",
           "Probabilidade de marcar (em %): 0.0<br />Fração de chutes (em %): 0.00<br />Numero de chutes: 0<br />Numero de goals: 0<br />",
           "Probabilidade de marcar (em %): 0.0<br />Fração de chutes (em %): 0.00<br />Numero de chutes: 0<br />Numero de goals: 0<br />",
           "Probabilidade de marcar (em %): 0.0<br />Fração de chutes (em %): 0.00<br />Numero de chutes: 1<br />Numero de goals: 0<br />",
           "Probabilidade de marcar (em %): 0.0<br />Fração de chutes (em %): 0.00<br />Numero de chutes: 0<br />Numero de goals: 0<br />",
           "Probabilidade de marcar (em %): 0.0<br />Fração de chutes (em %): 0.00<br />Numero de chutes: 0<br />Numero de goals: 0<br />",
           "Probabilidade de marcar (em %): 0.0<br />Fração de chutes (em %): 0.00<br />Numero de chutes: 0<br />Numero de goals: 0<br />",
           "Probabilidade de marcar (em %): 0.0<br />Fração de chutes (em %): 0.00<br />Numero de chutes: 0<br />Numero de goals: 0<br />",
           "Probabilidade de marcar (em %): 0.0<br />Fração de chutes (em %): 0.00<br />Numero de chutes: 0<br />Numero de goals: 0<br />",
           "Probabilidade de marcar (em %): 0.0<br />Fração de chutes (em %): 0.00<br />Numero de chutes: 0<br />Numero de goals: 0<br />"
          ],
          [
           "Probabilidade de marcar (em %): 0.0<br />Fração de chutes (em %): 0.00<br />Numero de chutes: 2<br />Numero de goals: 0<br />",
           "Probabilidade de marcar (em %): 0.0<br />Fração de chutes (em %): 0.03<br />Numero de chutes: 15<br />Numero de goals: 0<br />",
           "Probabilidade de marcar (em %): 2.1<br />Fração de chutes (em %): 0.10<br />Numero de chutes: 47<br />Numero de goals: 1<br />",
           "Probabilidade de marcar (em %): 2.2<br />Fração de chutes (em %): 0.10<br />Numero de chutes: 46<br />Numero de goals: 1<br />",
           "Probabilidade de marcar (em %): 0.0<br />Fração de chutes (em %): 0.16<br />Numero de chutes: 71<br />Numero de goals: 0<br />",
           "Probabilidade de marcar (em %): 0.7<br />Fração de chutes (em %): 0.31<br />Numero de chutes: 140<br />Numero de goals: 1<br />",
           "Probabilidade de marcar (em %): 0.0<br />Fração de chutes (em %): 0.23<br />Numero de chutes: 104<br />Numero de goals: 0<br />",
           "Probabilidade de marcar (em %): 0.0<br />Fração de chutes (em %): 0.06<br />Numero de chutes: 25<br />Numero de goals: 0<br />",
           "Probabilidade de marcar (em %): 0.0<br />Fração de chutes (em %): 0.01<br />Numero de chutes: 5<br />Numero de goals: 0<br />",
           "Probabilidade de marcar (em %): 0.0<br />Fração de chutes (em %): 0.01<br />Numero de chutes: 5<br />Numero de goals: 0<br />",
           "Probabilidade de marcar (em %): 0.0<br />Fração de chutes (em %): 0.01<br />Numero de chutes: 5<br />Numero de goals: 0<br />",
           "Probabilidade de marcar (em %): 0.0<br />Fração de chutes (em %): 0.00<br />Numero de chutes: 2<br />Numero de goals: 0<br />",
           "Probabilidade de marcar (em %): 0.0<br />Fração de chutes (em %): 0.00<br />Numero de chutes: 0<br />Numero de goals: 0<br />",
           "Probabilidade de marcar (em %): 0.0<br />Fração de chutes (em %): 0.00<br />Numero de chutes: 1<br />Numero de goals: 0<br />",
           "Probabilidade de marcar (em %): 0.0<br />Fração de chutes (em %): 0.00<br />Numero de chutes: 0<br />Numero de goals: 0<br />",
           "Probabilidade de marcar (em %): 0.0<br />Fração de chutes (em %): 0.00<br />Numero de chutes: 0<br />Numero de goals: 0<br />",
           "Probabilidade de marcar (em %): 0.0<br />Fração de chutes (em %): 0.00<br />Numero de chutes: 0<br />Numero de goals: 0<br />",
           "Probabilidade de marcar (em %): 0.0<br />Fração de chutes (em %): 0.00<br />Numero de chutes: 0<br />Numero de goals: 0<br />",
           "Probabilidade de marcar (em %): 0.0<br />Fração de chutes (em %): 0.00<br />Numero de chutes: 0<br />Numero de goals: 0<br />",
           "Probabilidade de marcar (em %): 0.0<br />Fração de chutes (em %): 0.00<br />Numero de chutes: 0<br />Numero de goals: 0<br />",
           "Probabilidade de marcar (em %): 0.0<br />Fração de chutes (em %): 0.00<br />Numero de chutes: 0<br />Numero de goals: 0<br />",
           "Probabilidade de marcar (em %): 0.0<br />Fração de chutes (em %): 0.00<br />Numero de chutes: 0<br />Numero de goals: 0<br />",
           "Probabilidade de marcar (em %): 0.0<br />Fração de chutes (em %): 0.00<br />Numero de chutes: 1<br />Numero de goals: 0<br />",
           "Probabilidade de marcar (em %): 0.0<br />Fração de chutes (em %): 0.00<br />Numero de chutes: 0<br />Numero de goals: 0<br />"
          ],
          [
           "Probabilidade de marcar (em %): 0.0<br />Fração de chutes (em %): 0.00<br />Numero de chutes: 1<br />Numero de goals: 0<br />",
           "Probabilidade de marcar (em %): 8.3<br />Fração de chutes (em %): 0.03<br />Numero de chutes: 12<br />Numero de goals: 1<br />",
           "Probabilidade de marcar (em %): 10.0<br />Fração de chutes (em %): 0.04<br />Numero de chutes: 20<br />Numero de goals: 2<br />",
           "Probabilidade de marcar (em %): 5.9<br />Fração de chutes (em %): 0.04<br />Numero de chutes: 17<br />Numero de goals: 1<br />",
           "Probabilidade de marcar (em %): 0.0<br />Fração de chutes (em %): 0.03<br />Numero de chutes: 13<br />Numero de goals: 0<br />",
           "Probabilidade de marcar (em %): 2.9<br />Fração de chutes (em %): 0.08<br />Numero de chutes: 34<br />Numero de goals: 1<br />",
           "Probabilidade de marcar (em %): 5.6<br />Fração de chutes (em %): 0.04<br />Numero de chutes: 18<br />Numero de goals: 1<br />",
           "Probabilidade de marcar (em %): 0.0<br />Fração de chutes (em %): 0.01<br />Numero de chutes: 6<br />Numero de goals: 0<br />",
           "Probabilidade de marcar (em %): 0.0<br />Fração de chutes (em %): 0.00<br />Numero de chutes: 2<br />Numero de goals: 0<br />",
           "Probabilidade de marcar (em %): 0.0<br />Fração de chutes (em %): 0.00<br />Numero de chutes: 0<br />Numero de goals: 0<br />",
           "Probabilidade de marcar (em %): 0.0<br />Fração de chutes (em %): 0.00<br />Numero de chutes: 1<br />Numero de goals: 0<br />",
           "Probabilidade de marcar (em %): 0.0<br />Fração de chutes (em %): 0.00<br />Numero de chutes: 0<br />Numero de goals: 0<br />",
           "Probabilidade de marcar (em %): 0.0<br />Fração de chutes (em %): 0.00<br />Numero de chutes: 2<br />Numero de goals: 0<br />",
           "Probabilidade de marcar (em %): 0.0<br />Fração de chutes (em %): 0.00<br />Numero de chutes: 0<br />Numero de goals: 0<br />",
           "Probabilidade de marcar (em %): 0.0<br />Fração de chutes (em %): 0.00<br />Numero de chutes: 1<br />Numero de goals: 0<br />",
           "Probabilidade de marcar (em %): 0.0<br />Fração de chutes (em %): 0.00<br />Numero de chutes: 0<br />Numero de goals: 0<br />",
           "Probabilidade de marcar (em %): 0.0<br />Fração de chutes (em %): 0.00<br />Numero de chutes: 0<br />Numero de goals: 0<br />",
           "Probabilidade de marcar (em %): 0.0<br />Fração de chutes (em %): 0.00<br />Numero de chutes: 0<br />Numero de goals: 0<br />",
           "Probabilidade de marcar (em %): 0.0<br />Fração de chutes (em %): 0.00<br />Numero de chutes: 0<br />Numero de goals: 0<br />",
           "Probabilidade de marcar (em %): 0.0<br />Fração de chutes (em %): 0.00<br />Numero de chutes: 0<br />Numero de goals: 0<br />",
           "Probabilidade de marcar (em %): 0.0<br />Fração de chutes (em %): 0.00<br />Numero de chutes: 0<br />Numero de goals: 0<br />",
           "Probabilidade de marcar (em %): 0.0<br />Fração de chutes (em %): 0.00<br />Numero de chutes: 0<br />Numero de goals: 0<br />",
           "Probabilidade de marcar (em %): 0.0<br />Fração de chutes (em %): 0.00<br />Numero de chutes: 0<br />Numero de goals: 0<br />",
           "Probabilidade de marcar (em %): 0.0<br />Fração de chutes (em %): 0.00<br />Numero de chutes: 0<br />Numero de goals: 0<br />"
          ],
          [
           "Probabilidade de marcar (em %): 0.0<br />Fração de chutes (em %): 0.00<br />Numero de chutes: 1<br />Numero de goals: 0<br />",
           "Probabilidade de marcar (em %): 33.3<br />Fração de chutes (em %): 0.01<br />Numero de chutes: 3<br />Numero de goals: 1<br />",
           "Probabilidade de marcar (em %): 0.0<br />Fração de chutes (em %): 0.00<br />Numero de chutes: 2<br />Numero de goals: 0<br />",
           "Probabilidade de marcar (em %): 0.0<br />Fração de chutes (em %): 0.02<br />Numero de chutes: 9<br />Numero de goals: 0<br />",
           "Probabilidade de marcar (em %): 0.0<br />Fração de chutes (em %): 0.00<br />Numero de chutes: 2<br />Numero de goals: 0<br />",
           "Probabilidade de marcar (em %): 0.0<br />Fração de chutes (em %): 0.02<br />Numero de chutes: 10<br />Numero de goals: 0<br />",
           "Probabilidade de marcar (em %): 0.0<br />Fração de chutes (em %): 0.01<br />Numero de chutes: 6<br />Numero de goals: 0<br />",
           "Probabilidade de marcar (em %): 0.0<br />Fração de chutes (em %): 0.00<br />Numero de chutes: 1<br />Numero de goals: 0<br />",
           "Probabilidade de marcar (em %): 0.0<br />Fração de chutes (em %): 0.00<br />Numero de chutes: 0<br />Numero de goals: 0<br />",
           "Probabilidade de marcar (em %): 0.0<br />Fração de chutes (em %): 0.00<br />Numero de chutes: 2<br />Numero de goals: 0<br />",
           "Probabilidade de marcar (em %): 0.0<br />Fração de chutes (em %): 0.00<br />Numero de chutes: 1<br />Numero de goals: 0<br />",
           "Probabilidade de marcar (em %): 0.0<br />Fração de chutes (em %): 0.00<br />Numero de chutes: 2<br />Numero de goals: 0<br />",
           "Probabilidade de marcar (em %): 0.0<br />Fração de chutes (em %): 0.00<br />Numero de chutes: 1<br />Numero de goals: 0<br />",
           "Probabilidade de marcar (em %): 0.0<br />Fração de chutes (em %): 0.00<br />Numero de chutes: 1<br />Numero de goals: 0<br />",
           "Probabilidade de marcar (em %): 0.0<br />Fração de chutes (em %): 0.00<br />Numero de chutes: 0<br />Numero de goals: 0<br />",
           "Probabilidade de marcar (em %): 0.0<br />Fração de chutes (em %): 0.00<br />Numero de chutes: 0<br />Numero de goals: 0<br />",
           "Probabilidade de marcar (em %): 0.0<br />Fração de chutes (em %): 0.00<br />Numero de chutes: 0<br />Numero de goals: 0<br />",
           "Probabilidade de marcar (em %): 0.0<br />Fração de chutes (em %): 0.00<br />Numero de chutes: 0<br />Numero de goals: 0<br />",
           "Probabilidade de marcar (em %): 0.0<br />Fração de chutes (em %): 0.00<br />Numero de chutes: 0<br />Numero de goals: 0<br />",
           "Probabilidade de marcar (em %): 0.0<br />Fração de chutes (em %): 0.00<br />Numero de chutes: 0<br />Numero de goals: 0<br />",
           "Probabilidade de marcar (em %): 0.0<br />Fração de chutes (em %): 0.00<br />Numero de chutes: 0<br />Numero de goals: 0<br />",
           "Probabilidade de marcar (em %): 0.0<br />Fração de chutes (em %): 0.00<br />Numero de chutes: 0<br />Numero de goals: 0<br />",
           "Probabilidade de marcar (em %): 0.0<br />Fração de chutes (em %): 0.00<br />Numero de chutes: 0<br />Numero de goals: 0<br />",
           "Probabilidade de marcar (em %): 0.0<br />Fração de chutes (em %): 0.00<br />Numero de chutes: 0<br />Numero de goals: 0<br />"
          ],
          [
           "Probabilidade de marcar (em %): 0.0<br />Fração de chutes (em %): 0.00<br />Numero de chutes: 0<br />Numero de goals: 0<br />",
           "Probabilidade de marcar (em %): 0.0<br />Fração de chutes (em %): 0.00<br />Numero de chutes: 1<br />Numero de goals: 0<br />",
           "Probabilidade de marcar (em %): 0.0<br />Fração de chutes (em %): 0.00<br />Numero de chutes: 0<br />Numero de goals: 0<br />",
           "Probabilidade de marcar (em %): 0.0<br />Fração de chutes (em %): 0.00<br />Numero de chutes: 1<br />Numero de goals: 0<br />",
           "Probabilidade de marcar (em %): 0.0<br />Fração de chutes (em %): 0.00<br />Numero de chutes: 2<br />Numero de goals: 0<br />",
           "Probabilidade de marcar (em %): 0.0<br />Fração de chutes (em %): 0.00<br />Numero de chutes: 2<br />Numero de goals: 0<br />",
           "Probabilidade de marcar (em %): 0.0<br />Fração de chutes (em %): 0.00<br />Numero de chutes: 1<br />Numero de goals: 0<br />",
           "Probabilidade de marcar (em %): 0.0<br />Fração de chutes (em %): 0.00<br />Numero de chutes: 0<br />Numero de goals: 0<br />",
           "Probabilidade de marcar (em %): 0.0<br />Fração de chutes (em %): 0.01<br />Numero de chutes: 3<br />Numero de goals: 0<br />",
           "Probabilidade de marcar (em %): 0.0<br />Fração de chutes (em %): 0.00<br />Numero de chutes: 2<br />Numero de goals: 0<br />",
           "Probabilidade de marcar (em %): 100.0<br />Fração de chutes (em %): 0.00<br />Numero de chutes: 1<br />Numero de goals: 1<br />",
           "Probabilidade de marcar (em %): 0.0<br />Fração de chutes (em %): 0.01<br />Numero de chutes: 6<br />Numero de goals: 0<br />",
           "Probabilidade de marcar (em %): 0.0<br />Fração de chutes (em %): 0.01<br />Numero de chutes: 3<br />Numero de goals: 0<br />",
           "Probabilidade de marcar (em %): 0.0<br />Fração de chutes (em %): 0.00<br />Numero de chutes: 0<br />Numero de goals: 0<br />",
           "Probabilidade de marcar (em %): 0.0<br />Fração de chutes (em %): 0.00<br />Numero de chutes: 0<br />Numero de goals: 0<br />",
           "Probabilidade de marcar (em %): 0.0<br />Fração de chutes (em %): 0.00<br />Numero de chutes: 1<br />Numero de goals: 0<br />",
           "Probabilidade de marcar (em %): 0.0<br />Fração de chutes (em %): 0.00<br />Numero de chutes: 0<br />Numero de goals: 0<br />",
           "Probabilidade de marcar (em %): 0.0<br />Fração de chutes (em %): 0.00<br />Numero de chutes: 0<br />Numero de goals: 0<br />",
           "Probabilidade de marcar (em %): 0.0<br />Fração de chutes (em %): 0.00<br />Numero de chutes: 0<br />Numero de goals: 0<br />",
           "Probabilidade de marcar (em %): 0.0<br />Fração de chutes (em %): 0.00<br />Numero de chutes: 0<br />Numero de goals: 0<br />",
           "Probabilidade de marcar (em %): 0.0<br />Fração de chutes (em %): 0.00<br />Numero de chutes: 0<br />Numero de goals: 0<br />",
           "Probabilidade de marcar (em %): 0.0<br />Fração de chutes (em %): 0.00<br />Numero de chutes: 0<br />Numero de goals: 0<br />",
           "Probabilidade de marcar (em %): 0.0<br />Fração de chutes (em %): 0.00<br />Numero de chutes: 0<br />Numero de goals: 0<br />",
           "Probabilidade de marcar (em %): 0.0<br />Fração de chutes (em %): 0.00<br />Numero de chutes: 0<br />Numero de goals: 0<br />"
          ]
         ],
         "type": "heatmap",
         "x": [
          2.1875,
          6.5625,
          10.9375,
          15.3125,
          19.6875,
          24.0625,
          28.4375,
          32.8125,
          37.1875,
          41.5625,
          45.9375,
          50.3125,
          54.6875,
          59.0625,
          63.4375,
          67.8125,
          72.1875,
          76.5625,
          80.9375,
          85.3125,
          89.6875,
          94.0625,
          98.4375,
          102.8125
         ],
         "y": [
          66,
          62,
          58,
          54,
          50,
          46,
          42,
          38,
          34,
          30,
          26,
          22,
          18,
          14,
          10,
          6,
          2
         ],
         "z": [
          [
           0,
           66.66666666666666,
           0,
           0,
           0,
           0,
           0,
           0,
           0,
           0,
           0,
           0,
           0,
           0,
           0,
           0,
           0,
           0,
           0,
           0,
           0,
           0,
           0,
           0
          ],
          [
           0,
           0,
           0,
           0,
           0,
           9.090909090909092,
           16.666666666666664,
           0,
           25,
           0,
           0,
           0,
           0,
           0,
           0,
           0,
           0,
           0,
           0,
           0,
           0,
           0,
           0,
           0
          ],
          [
           0,
           0,
           12.5,
           16.666666666666664,
           4.545454545454546,
           0,
           0,
           10,
           16.666666666666664,
           0,
           0,
           0,
           0,
           0,
           0,
           0,
           0,
           0,
           0,
           0,
           0,
           0,
           0,
           0
          ],
          [
           0,
           3.8461538461538463,
           5.263157894736842,
           4.285714285714286,
           2.083333333333333,
           0.4830917874396135,
           0.7692307692307693,
           2.1739130434782608,
           0,
           0,
           0,
           0,
           0,
           0,
           0,
           0,
           0,
           0,
           0,
           0,
           0,
           0,
           0,
           0
          ],
          [
           2.0408163265306123,
           1.2552301255230125,
           6,
           3.865979381443299,
           2.5445292620865136,
           2.1207177814029365,
           1.929260450160772,
           0,
           0,
           0,
           0,
           25,
           0,
           0,
           0,
           0,
           0,
           0,
           0,
           0,
           0,
           0,
           0,
           0
          ],
          [
           7.784431137724551,
           8.121019108280255,
           9.670329670329672,
           5.548037889039242,
           3.4108527131782944,
           2.898550724637681,
           1.2605042016806722,
           1.5384615384615385,
           0,
           0,
           0,
           33.33333333333333,
           0,
           0,
           0,
           0,
           0,
           0,
           0,
           0,
           0,
           0,
           0,
           0
          ],
          [
           18.58108108108108,
           17.010309278350515,
           13.998703823720026,
           8.874172185430464,
           5.4888507718696395,
           3.294367693942614,
           2.490421455938697,
           3.3707865168539324,
           0,
           0,
           0,
           0,
           0,
           33.33333333333333,
           0,
           0,
           0,
           0,
           0,
           0,
           0,
           0,
           0,
           0
          ],
          [
           52.39234449760766,
           25.125208681135224,
           14.573732718894009,
           10.303830911492733,
           8.756567425569177,
           4.399524375743162,
           2.951388888888889,
           2.512562814070352,
           0,
           0,
           0,
           0,
           0,
           0,
           0,
           0,
           0,
           0,
           0,
           0,
           0,
           0,
           0,
           0
          ],
          [
           61.3941018766756,
           29.74137931034483,
           17.041053446940357,
           11.232876712328768,
           8.653846153846153,
           2.6722925457102673,
           2.886247877758913,
           2.631578947368421,
           0,
           0,
           0,
           0,
           0,
           0,
           0,
           0,
           0,
           0,
           0,
           0,
           0,
           0,
           33.33333333333333,
           100
          ],
          [
           41.734417344173444,
           25.62988705473501,
           15.668481548699335,
           12.711864406779661,
           7.076350093109869,
           3.6540803897685747,
           3.0303030303030303,
           1.5789473684210527,
           0,
           25,
           0,
           0,
           0,
           0,
           0,
           0,
           0,
           0,
           0,
           0,
           0,
           0,
           0,
           0
          ],
          [
           16.43835616438356,
           16.059379217273953,
           12.830957230142568,
           8.944281524926687,
           4.9504950495049505,
           3.5940803382663846,
           2.1739130434782608,
           2.898550724637681,
           0,
           0,
           0,
           0,
           0,
           0,
           0,
           0,
           0,
           0,
           0,
           0,
           0,
           0,
           0,
           0
          ],
          [
           3.389830508474576,
           8.576051779935275,
           8.63121185701831,
           5.709624796084829,
           3.5211267605633805,
           3.32541567695962,
           2.5974025974025974,
           2.631578947368421,
           0,
           0,
           0,
           0,
           0,
           0,
           0,
           0,
           0,
           0,
           0,
           0,
           0,
           0,
           0,
           0
          ],
          [
           2.380952380952381,
           5.128205128205128,
           5.357142857142857,
           3.8062283737024223,
           4.748603351955307,
           1.0822510822510822,
           2.127659574468085,
           3.4482758620689653,
           0,
           11.11111111111111,
           0,
           0,
           0,
           0,
           0,
           0,
           0,
           0,
           0,
           0,
           0,
           0,
           0,
           0
          ],
          [
           0,
           0,
           2.127659574468085,
           2.1739130434782608,
           0,
           0.7142857142857143,
           0,
           0,
           0,
           0,
           0,
           0,
           0,
           0,
           0,
           0,
           0,
           0,
           0,
           0,
           0,
           0,
           0,
           0
          ],
          [
           0,
           8.333333333333332,
           10,
           5.88235294117647,
           0,
           2.941176470588235,
           5.555555555555555,
           0,
           0,
           0,
           0,
           0,
           0,
           0,
           0,
           0,
           0,
           0,
           0,
           0,
           0,
           0,
           0,
           0
          ],
          [
           0,
           33.33333333333333,
           0,
           0,
           0,
           0,
           0,
           0,
           0,
           0,
           0,
           0,
           0,
           0,
           0,
           0,
           0,
           0,
           0,
           0,
           0,
           0,
           0,
           0
          ],
          [
           0,
           0,
           0,
           0,
           0,
           0,
           0,
           0,
           0,
           0,
           100,
           0,
           0,
           0,
           0,
           0,
           0,
           0,
           0,
           0,
           0,
           0,
           0,
           0
          ]
         ],
         "zsmooth": false
        }
       ],
       "layout": {
        "autosize": false,
        "height": 612,
        "plot_bgcolor": "white",
        "shapes": [
         {
          "line": {
           "color": "white",
           "width": 2
          },
          "type": "line",
          "x0": 52.5,
          "x1": 52.5,
          "y0": 0,
          "y1": 68
         },
         {
          "line": {
           "color": "white",
           "width": 2
          },
          "type": "line",
          "x0": 0,
          "x1": 16,
          "y0": 54.16,
          "y1": 54.16
         },
         {
          "line": {
           "color": "white",
           "width": 2
          },
          "type": "line",
          "x0": 16,
          "x1": 16,
          "y0": 54.16,
          "y1": 13.84
         },
         {
          "line": {
           "color": "white",
           "width": 2
          },
          "type": "line",
          "x0": 16,
          "x1": 0,
          "y0": 13.84,
          "y1": 13.84
         },
         {
          "line": {
           "color": "white",
           "width": 2
          },
          "type": "line",
          "x0": 0,
          "x1": 5.5,
          "y0": 24.84,
          "y1": 24.84
         },
         {
          "line": {
           "color": "white",
           "width": 2
          },
          "type": "line",
          "x0": 5.5,
          "x1": 5.5,
          "y0": 24.84,
          "y1": 43.16
         },
         {
          "line": {
           "color": "white",
           "width": 2
          },
          "type": "line",
          "x0": 5.5,
          "x1": 0,
          "y0": 43.16,
          "y1": 43.16
         },
         {
          "line": {
           "color": "white",
           "width": 2
          },
          "type": "line",
          "x0": 105,
          "x1": 89,
          "y0": 54.16,
          "y1": 54.16
         },
         {
          "line": {
           "color": "white",
           "width": 2
          },
          "type": "line",
          "x0": 89,
          "x1": 89,
          "y0": 54.16,
          "y1": 13.84
         },
         {
          "line": {
           "color": "white",
           "width": 2
          },
          "type": "line",
          "x0": 89,
          "x1": 105,
          "y0": 13.84,
          "y1": 13.84
         },
         {
          "line": {
           "color": "white",
           "width": 2
          },
          "type": "line",
          "x0": 105,
          "x1": 99.5,
          "y0": 24.84,
          "y1": 24.84
         },
         {
          "line": {
           "color": "white",
           "width": 2
          },
          "type": "line",
          "x0": 99.5,
          "x1": 99.5,
          "y0": 24.84,
          "y1": 43.16
         },
         {
          "line": {
           "color": "white",
           "width": 2
          },
          "type": "line",
          "x0": 99.5,
          "x1": 105,
          "y0": 43.16,
          "y1": 43.16
         },
         {
          "fillcolor": "white",
          "line": {
           "color": "white"
          },
          "type": "circle",
          "x0": 10.5,
          "x1": 11.5,
          "xref": "x",
          "y0": 33.5,
          "y1": 34.5,
          "yref": "y"
         },
         {
          "fillcolor": "white",
          "line": {
           "color": "white"
          },
          "type": "circle",
          "x0": 93.5,
          "x1": 94.5,
          "xref": "x",
          "y0": 33.5,
          "y1": 34.5,
          "yref": "y"
         },
         {
          "fillcolor": "white",
          "line": {
           "color": "white"
          },
          "type": "circle",
          "x0": 52,
          "x1": 53,
          "xref": "x",
          "y0": 33.5,
          "y1": 34.5,
          "yref": "y"
         },
         {
          "line": {
           "color": "white"
          },
          "type": "circle",
          "x0": 43.35,
          "x1": 61.65,
          "xref": "x",
          "y0": 24.85,
          "y1": 43.15,
          "yref": "y"
         },
         {
          "line": {
           "color": "white",
           "width": 2
          },
          "type": "line",
          "x0": 0,
          "x1": 105,
          "y0": 0,
          "y1": 0
         },
         {
          "line": {
           "color": "white",
           "width": 2
          },
          "type": "line",
          "x0": 0,
          "x1": 0,
          "y0": 0,
          "y1": 68
         },
         {
          "line": {
           "color": "white",
           "width": 2
          },
          "type": "line",
          "x0": 0,
          "x1": 105,
          "y0": 68,
          "y1": 68
         },
         {
          "line": {
           "color": "white",
           "width": 2
          },
          "type": "line",
          "x0": 105,
          "x1": 105,
          "y0": 0,
          "y1": 68
         },
         {
          "line": {
           "color": "white",
           "width": 2
          },
          "type": "line",
          "x0": 0,
          "x1": -2,
          "y0": 30.34,
          "y1": 30.34
         },
         {
          "line": {
           "color": "white",
           "width": 2
          },
          "type": "line",
          "x0": 0,
          "x1": -2,
          "y0": 37.66,
          "y1": 37.66
         },
         {
          "line": {
           "color": "white",
           "width": 2
          },
          "type": "line",
          "x0": -2,
          "x1": -2,
          "y0": 30.34,
          "y1": 37.66
         },
         {
          "line": {
           "color": "white",
           "width": 2
          },
          "type": "line",
          "x0": 105,
          "x1": 107,
          "y0": 30.34,
          "y1": 30.34
         },
         {
          "line": {
           "color": "white",
           "width": 2
          },
          "type": "line",
          "x0": 105,
          "x1": 107,
          "y0": 37.66,
          "y1": 37.66
         },
         {
          "line": {
           "color": "white",
           "width": 2
          },
          "type": "line",
          "x0": 107,
          "x1": 107,
          "y0": 30.34,
          "y1": 37.66
         }
        ],
        "template": {
         "data": {
          "bar": [
           {
            "error_x": {
             "color": "#2a3f5f"
            },
            "error_y": {
             "color": "#2a3f5f"
            },
            "marker": {
             "line": {
              "color": "#E5ECF6",
              "width": 0.5
             },
             "pattern": {
              "fillmode": "overlay",
              "size": 10,
              "solidity": 0.2
             }
            },
            "type": "bar"
           }
          ],
          "barpolar": [
           {
            "marker": {
             "line": {
              "color": "#E5ECF6",
              "width": 0.5
             },
             "pattern": {
              "fillmode": "overlay",
              "size": 10,
              "solidity": 0.2
             }
            },
            "type": "barpolar"
           }
          ],
          "carpet": [
           {
            "aaxis": {
             "endlinecolor": "#2a3f5f",
             "gridcolor": "white",
             "linecolor": "white",
             "minorgridcolor": "white",
             "startlinecolor": "#2a3f5f"
            },
            "baxis": {
             "endlinecolor": "#2a3f5f",
             "gridcolor": "white",
             "linecolor": "white",
             "minorgridcolor": "white",
             "startlinecolor": "#2a3f5f"
            },
            "type": "carpet"
           }
          ],
          "choropleth": [
           {
            "colorbar": {
             "outlinewidth": 0,
             "ticks": ""
            },
            "type": "choropleth"
           }
          ],
          "contour": [
           {
            "colorbar": {
             "outlinewidth": 0,
             "ticks": ""
            },
            "colorscale": [
             [
              0,
              "#0d0887"
             ],
             [
              0.1111111111111111,
              "#46039f"
             ],
             [
              0.2222222222222222,
              "#7201a8"
             ],
             [
              0.3333333333333333,
              "#9c179e"
             ],
             [
              0.4444444444444444,
              "#bd3786"
             ],
             [
              0.5555555555555556,
              "#d8576b"
             ],
             [
              0.6666666666666666,
              "#ed7953"
             ],
             [
              0.7777777777777778,
              "#fb9f3a"
             ],
             [
              0.8888888888888888,
              "#fdca26"
             ],
             [
              1,
              "#f0f921"
             ]
            ],
            "type": "contour"
           }
          ],
          "contourcarpet": [
           {
            "colorbar": {
             "outlinewidth": 0,
             "ticks": ""
            },
            "type": "contourcarpet"
           }
          ],
          "heatmap": [
           {
            "colorbar": {
             "outlinewidth": 0,
             "ticks": ""
            },
            "colorscale": [
             [
              0,
              "#0d0887"
             ],
             [
              0.1111111111111111,
              "#46039f"
             ],
             [
              0.2222222222222222,
              "#7201a8"
             ],
             [
              0.3333333333333333,
              "#9c179e"
             ],
             [
              0.4444444444444444,
              "#bd3786"
             ],
             [
              0.5555555555555556,
              "#d8576b"
             ],
             [
              0.6666666666666666,
              "#ed7953"
             ],
             [
              0.7777777777777778,
              "#fb9f3a"
             ],
             [
              0.8888888888888888,
              "#fdca26"
             ],
             [
              1,
              "#f0f921"
             ]
            ],
            "type": "heatmap"
           }
          ],
          "heatmapgl": [
           {
            "colorbar": {
             "outlinewidth": 0,
             "ticks": ""
            },
            "colorscale": [
             [
              0,
              "#0d0887"
             ],
             [
              0.1111111111111111,
              "#46039f"
             ],
             [
              0.2222222222222222,
              "#7201a8"
             ],
             [
              0.3333333333333333,
              "#9c179e"
             ],
             [
              0.4444444444444444,
              "#bd3786"
             ],
             [
              0.5555555555555556,
              "#d8576b"
             ],
             [
              0.6666666666666666,
              "#ed7953"
             ],
             [
              0.7777777777777778,
              "#fb9f3a"
             ],
             [
              0.8888888888888888,
              "#fdca26"
             ],
             [
              1,
              "#f0f921"
             ]
            ],
            "type": "heatmapgl"
           }
          ],
          "histogram": [
           {
            "marker": {
             "pattern": {
              "fillmode": "overlay",
              "size": 10,
              "solidity": 0.2
             }
            },
            "type": "histogram"
           }
          ],
          "histogram2d": [
           {
            "colorbar": {
             "outlinewidth": 0,
             "ticks": ""
            },
            "colorscale": [
             [
              0,
              "#0d0887"
             ],
             [
              0.1111111111111111,
              "#46039f"
             ],
             [
              0.2222222222222222,
              "#7201a8"
             ],
             [
              0.3333333333333333,
              "#9c179e"
             ],
             [
              0.4444444444444444,
              "#bd3786"
             ],
             [
              0.5555555555555556,
              "#d8576b"
             ],
             [
              0.6666666666666666,
              "#ed7953"
             ],
             [
              0.7777777777777778,
              "#fb9f3a"
             ],
             [
              0.8888888888888888,
              "#fdca26"
             ],
             [
              1,
              "#f0f921"
             ]
            ],
            "type": "histogram2d"
           }
          ],
          "histogram2dcontour": [
           {
            "colorbar": {
             "outlinewidth": 0,
             "ticks": ""
            },
            "colorscale": [
             [
              0,
              "#0d0887"
             ],
             [
              0.1111111111111111,
              "#46039f"
             ],
             [
              0.2222222222222222,
              "#7201a8"
             ],
             [
              0.3333333333333333,
              "#9c179e"
             ],
             [
              0.4444444444444444,
              "#bd3786"
             ],
             [
              0.5555555555555556,
              "#d8576b"
             ],
             [
              0.6666666666666666,
              "#ed7953"
             ],
             [
              0.7777777777777778,
              "#fb9f3a"
             ],
             [
              0.8888888888888888,
              "#fdca26"
             ],
             [
              1,
              "#f0f921"
             ]
            ],
            "type": "histogram2dcontour"
           }
          ],
          "mesh3d": [
           {
            "colorbar": {
             "outlinewidth": 0,
             "ticks": ""
            },
            "type": "mesh3d"
           }
          ],
          "parcoords": [
           {
            "line": {
             "colorbar": {
              "outlinewidth": 0,
              "ticks": ""
             }
            },
            "type": "parcoords"
           }
          ],
          "pie": [
           {
            "automargin": true,
            "type": "pie"
           }
          ],
          "scatter": [
           {
            "fillpattern": {
             "fillmode": "overlay",
             "size": 10,
             "solidity": 0.2
            },
            "type": "scatter"
           }
          ],
          "scatter3d": [
           {
            "line": {
             "colorbar": {
              "outlinewidth": 0,
              "ticks": ""
             }
            },
            "marker": {
             "colorbar": {
              "outlinewidth": 0,
              "ticks": ""
             }
            },
            "type": "scatter3d"
           }
          ],
          "scattercarpet": [
           {
            "marker": {
             "colorbar": {
              "outlinewidth": 0,
              "ticks": ""
             }
            },
            "type": "scattercarpet"
           }
          ],
          "scattergeo": [
           {
            "marker": {
             "colorbar": {
              "outlinewidth": 0,
              "ticks": ""
             }
            },
            "type": "scattergeo"
           }
          ],
          "scattergl": [
           {
            "marker": {
             "colorbar": {
              "outlinewidth": 0,
              "ticks": ""
             }
            },
            "type": "scattergl"
           }
          ],
          "scattermapbox": [
           {
            "marker": {
             "colorbar": {
              "outlinewidth": 0,
              "ticks": ""
             }
            },
            "type": "scattermapbox"
           }
          ],
          "scatterpolar": [
           {
            "marker": {
             "colorbar": {
              "outlinewidth": 0,
              "ticks": ""
             }
            },
            "type": "scatterpolar"
           }
          ],
          "scatterpolargl": [
           {
            "marker": {
             "colorbar": {
              "outlinewidth": 0,
              "ticks": ""
             }
            },
            "type": "scatterpolargl"
           }
          ],
          "scatterternary": [
           {
            "marker": {
             "colorbar": {
              "outlinewidth": 0,
              "ticks": ""
             }
            },
            "type": "scatterternary"
           }
          ],
          "surface": [
           {
            "colorbar": {
             "outlinewidth": 0,
             "ticks": ""
            },
            "colorscale": [
             [
              0,
              "#0d0887"
             ],
             [
              0.1111111111111111,
              "#46039f"
             ],
             [
              0.2222222222222222,
              "#7201a8"
             ],
             [
              0.3333333333333333,
              "#9c179e"
             ],
             [
              0.4444444444444444,
              "#bd3786"
             ],
             [
              0.5555555555555556,
              "#d8576b"
             ],
             [
              0.6666666666666666,
              "#ed7953"
             ],
             [
              0.7777777777777778,
              "#fb9f3a"
             ],
             [
              0.8888888888888888,
              "#fdca26"
             ],
             [
              1,
              "#f0f921"
             ]
            ],
            "type": "surface"
           }
          ],
          "table": [
           {
            "cells": {
             "fill": {
              "color": "#EBF0F8"
             },
             "line": {
              "color": "white"
             }
            },
            "header": {
             "fill": {
              "color": "#C8D4E3"
             },
             "line": {
              "color": "white"
             }
            },
            "type": "table"
           }
          ]
         },
         "layout": {
          "annotationdefaults": {
           "arrowcolor": "#2a3f5f",
           "arrowhead": 0,
           "arrowwidth": 1
          },
          "autotypenumbers": "strict",
          "coloraxis": {
           "colorbar": {
            "outlinewidth": 0,
            "ticks": ""
           }
          },
          "colorscale": {
           "diverging": [
            [
             0,
             "#8e0152"
            ],
            [
             0.1,
             "#c51b7d"
            ],
            [
             0.2,
             "#de77ae"
            ],
            [
             0.3,
             "#f1b6da"
            ],
            [
             0.4,
             "#fde0ef"
            ],
            [
             0.5,
             "#f7f7f7"
            ],
            [
             0.6,
             "#e6f5d0"
            ],
            [
             0.7,
             "#b8e186"
            ],
            [
             0.8,
             "#7fbc41"
            ],
            [
             0.9,
             "#4d9221"
            ],
            [
             1,
             "#276419"
            ]
           ],
           "sequential": [
            [
             0,
             "#0d0887"
            ],
            [
             0.1111111111111111,
             "#46039f"
            ],
            [
             0.2222222222222222,
             "#7201a8"
            ],
            [
             0.3333333333333333,
             "#9c179e"
            ],
            [
             0.4444444444444444,
             "#bd3786"
            ],
            [
             0.5555555555555556,
             "#d8576b"
            ],
            [
             0.6666666666666666,
             "#ed7953"
            ],
            [
             0.7777777777777778,
             "#fb9f3a"
            ],
            [
             0.8888888888888888,
             "#fdca26"
            ],
            [
             1,
             "#f0f921"
            ]
           ],
           "sequentialminus": [
            [
             0,
             "#0d0887"
            ],
            [
             0.1111111111111111,
             "#46039f"
            ],
            [
             0.2222222222222222,
             "#7201a8"
            ],
            [
             0.3333333333333333,
             "#9c179e"
            ],
            [
             0.4444444444444444,
             "#bd3786"
            ],
            [
             0.5555555555555556,
             "#d8576b"
            ],
            [
             0.6666666666666666,
             "#ed7953"
            ],
            [
             0.7777777777777778,
             "#fb9f3a"
            ],
            [
             0.8888888888888888,
             "#fdca26"
            ],
            [
             1,
             "#f0f921"
            ]
           ]
          },
          "colorway": [
           "#636efa",
           "#EF553B",
           "#00cc96",
           "#ab63fa",
           "#FFA15A",
           "#19d3f3",
           "#FF6692",
           "#B6E880",
           "#FF97FF",
           "#FECB52"
          ],
          "font": {
           "color": "#2a3f5f"
          },
          "geo": {
           "bgcolor": "white",
           "lakecolor": "white",
           "landcolor": "#E5ECF6",
           "showlakes": true,
           "showland": true,
           "subunitcolor": "white"
          },
          "hoverlabel": {
           "align": "left"
          },
          "hovermode": "closest",
          "mapbox": {
           "style": "light"
          },
          "paper_bgcolor": "white",
          "plot_bgcolor": "#E5ECF6",
          "polar": {
           "angularaxis": {
            "gridcolor": "white",
            "linecolor": "white",
            "ticks": ""
           },
           "bgcolor": "#E5ECF6",
           "radialaxis": {
            "gridcolor": "white",
            "linecolor": "white",
            "ticks": ""
           }
          },
          "scene": {
           "xaxis": {
            "backgroundcolor": "#E5ECF6",
            "gridcolor": "white",
            "gridwidth": 2,
            "linecolor": "white",
            "showbackground": true,
            "ticks": "",
            "zerolinecolor": "white"
           },
           "yaxis": {
            "backgroundcolor": "#E5ECF6",
            "gridcolor": "white",
            "gridwidth": 2,
            "linecolor": "white",
            "showbackground": true,
            "ticks": "",
            "zerolinecolor": "white"
           },
           "zaxis": {
            "backgroundcolor": "#E5ECF6",
            "gridcolor": "white",
            "gridwidth": 2,
            "linecolor": "white",
            "showbackground": true,
            "ticks": "",
            "zerolinecolor": "white"
           }
          },
          "shapedefaults": {
           "line": {
            "color": "#2a3f5f"
           }
          },
          "ternary": {
           "aaxis": {
            "gridcolor": "white",
            "linecolor": "white",
            "ticks": ""
           },
           "baxis": {
            "gridcolor": "white",
            "linecolor": "white",
            "ticks": ""
           },
           "bgcolor": "#E5ECF6",
           "caxis": {
            "gridcolor": "white",
            "linecolor": "white",
            "ticks": ""
           }
          },
          "title": {
           "x": 0.05
          },
          "xaxis": {
           "automargin": true,
           "gridcolor": "white",
           "linecolor": "white",
           "ticks": "",
           "title": {
            "standoff": 15
           },
           "zerolinecolor": "white",
           "zerolinewidth": 2
          },
          "yaxis": {
           "automargin": true,
           "gridcolor": "white",
           "linecolor": "white",
           "ticks": "",
           "title": {
            "standoff": 15
           },
           "zerolinecolor": "white",
           "zerolinewidth": 2
          }
         }
        },
        "title": {
         "text": "Probabilidade de marcar",
         "x": 0.5,
         "xanchor": "center",
         "y": 0.9,
         "yanchor": "top"
        },
        "width": 840,
        "xaxis": {
         "range": [
          -5,
          110
         ],
         "showgrid": false,
         "showticklabels": false,
         "zeroline": false
        },
        "yaxis": {
         "range": [
          -5,
          73
         ],
         "showgrid": false,
         "showticklabels": false,
         "zeroline": false
        }
       }
      }
     },
     "metadata": {},
     "output_type": "display_data"
    }
   ],
   "source": [
    "\n",
    "# numero de chutes por grid\n",
    "nb_goals, x, y = p.prepare_heatmap(goals, \"x\", \"y\", 24, 17)\n",
    "\n",
    "goal_proba = np.divide(nb_goals, nb_shots, out=np.zeros_like(nb_goals), where=nb_shots!=0) * 100\n",
    "\n",
    "\n",
    "# plotando o heatmap\n",
    "dict_info = {\"Probabilidade de marcar (em %)\": {\"values\": goal_proba, \"display_type\": \".1f\"},\n",
    "             \"Fração de chutes (em %)\": {\"values\": share_shots, \"display_type\": \".2f\"},\n",
    "             \"Numero de chutes\": {\"values\": nb_shots, \"display_type\": \".0f\"},\n",
    "             \"Numero de goals\": {\"values\": nb_goals, \"display_type\": \".0f\"}}\n",
    "fig = p.create_heatmap(x, y, goal_proba, dict_info, title_name=\"Probabilidade de marcar\")\n",
    "fig.show()"
   ]
  },
  {
   "attachments": {},
   "cell_type": "markdown",
   "id": "ffe6a853",
   "metadata": {},
   "source": [
    "É possível notar que a probabilidade marcar é maior quando se está na área adversária. Curioso notar que parece existir alguns outliers no dataset, que são gols que são marcados de muito longe, incluindo um caso que o chute partiu da área adversária e outro da lateral do campo na altura do círculo central. Vamos olhar mais de perto dentro da área no próximo plot"
   ]
  },
  {
   "cell_type": "code",
   "execution_count": 25,
   "id": "4fe63851",
   "metadata": {},
   "outputs": [
    {
     "name": "stderr",
     "output_type": "stream",
     "text": [
      "/var/folders/d2/5n02rp0x0x72ht561l_7rrmh0000gn/T/ipykernel_75036/1474929513.py:8: RuntimeWarning:\n",
      "\n",
      "invalid value encountered in divide\n",
      "\n"
     ]
    },
    {
     "data": {
      "image/png": "[encoded data removed]",
      "text/plain": [
       "<Figure size 1071.07x900 with 4 Axes>"
      ]
     },
     "metadata": {},
     "output_type": "display_data"
    }
   ],
   "source": [
    "#plot pitch\n",
    "pitch = VerticalPitch(line_color='black', half = True, pitch_type='custom', pitch_length=105, pitch_width=68, line_zorder = 2)\n",
    "fig, ax = pitch.grid(grid_height=0.9, title_height=0.06, axis=False,\n",
    "                     endnote_height=0.04, title_space=0, endnote_space=0)\n",
    "bin_statistic = pitch.bin_statistic(105 - shots['x'], shots['y'], bins = 50)\n",
    "#normalize number of goals by number of shots\n",
    "bin_statistic_goals = pitch.bin_statistic(105 - goals['x'], goals['y'], bins=50)\n",
    "bin_statistic[\"statistic\"] = bin_statistic_goals[\"statistic\"]/bin_statistic[\"statistic\"]\n",
    "#plot heatmap\n",
    "pcm = pitch.heatmap(bin_statistic, ax=ax[\"pitch\"], cmap='Reds', edgecolor='white', vmin = 0, vmax = 0.6)\n",
    "#make legend\n",
    "ax_cbar = fig.add_axes((0.95, 0.05, 0.04, 0.8))\n",
    "cbar = plt.colorbar(pcm, cax=ax_cbar)\n",
    "fig.suptitle('Probabilidade de marcar' , fontsize = 30)\n",
    "plt.show()"
   ]
  },
  {
   "cell_type": "code",
   "execution_count": 27,
   "id": "6e20f281",
   "metadata": {},
   "outputs": [
    {
     "data": {
      "text/html": [
       "<div>\n",
       "<style scoped>\n",
       "    .dataframe tbody tr th:only-of-type {\n",
       "        vertical-align: middle;\n",
       "    }\n",
       "\n",
       "    .dataframe tbody tr th {\n",
       "        vertical-align: top;\n",
       "    }\n",
       "\n",
       "    .dataframe thead th {\n",
       "        text-align: right;\n",
       "    }\n",
       "</style>\n",
       "<table border=\"1\" class=\"dataframe\">\n",
       "  <thead>\n",
       "    <tr style=\"text-align: right;\">\n",
       "      <th></th>\n",
       "      <th>eventId</th>\n",
       "      <th>subEventName</th>\n",
       "      <th>tags</th>\n",
       "      <th>playerId</th>\n",
       "      <th>positions</th>\n",
       "      <th>matchId</th>\n",
       "      <th>eventName</th>\n",
       "      <th>teamId</th>\n",
       "      <th>matchPeriod</th>\n",
       "      <th>eventSec</th>\n",
       "      <th>subEventId</th>\n",
       "      <th>id</th>\n",
       "      <th>league</th>\n",
       "      <th>foot</th>\n",
       "      <th>firstName</th>\n",
       "      <th>lastName</th>\n",
       "      <th>label</th>\n",
       "      <th>venue</th>\n",
       "      <th>date</th>\n",
       "      <th>previous_event</th>\n",
       "      <th>x</th>\n",
       "      <th>y</th>\n",
       "      <th>c</th>\n",
       "      <th>distance</th>\n",
       "      <th>angle</th>\n",
       "      <th>goal</th>\n",
       "      <th>free_kick</th>\n",
       "      <th>counter_attack</th>\n",
       "      <th>rebound</th>\n",
       "      <th>prev_cross</th>\n",
       "      <th>prev_touch</th>\n",
       "      <th>prev_pass</th>\n",
       "      <th>prev_smart_pass</th>\n",
       "      <th>prev_duel</th>\n",
       "    </tr>\n",
       "  </thead>\n",
       "  <tbody>\n",
       "    <tr>\n",
       "      <th>595383</th>\n",
       "      <td>10</td>\n",
       "      <td>Shot</td>\n",
       "      <td>[{'id': 101}, {'id': 402}, {'id': 201}, {'id':...</td>\n",
       "      <td>8717</td>\n",
       "      <td>[{'x': 79, 'y': 85}, {'x': 100, 'y': 100}]</td>\n",
       "      <td>2499752</td>\n",
       "      <td>Shot</td>\n",
       "      <td>1624</td>\n",
       "      <td>1H</td>\n",
       "      <td>1664.160104</td>\n",
       "      <td>100</td>\n",
       "      <td>185820216</td>\n",
       "      <td>England</td>\n",
       "      <td>right</td>\n",
       "      <td>Harry</td>\n",
       "      <td>Kane</td>\n",
       "      <td>Everton - Tottenham Hotspur, 0 - 3</td>\n",
       "      <td>Goodison Park</td>\n",
       "      <td>September 9, 2017 at 4:00:00 PM GMT+2</td>\n",
       "      <td>Simple pass</td>\n",
       "      <td>22.05</td>\n",
       "      <td>57.80</td>\n",
       "      <td>23.80</td>\n",
       "      <td>32.444453</td>\n",
       "      <td>0.154080</td>\n",
       "      <td>1</td>\n",
       "      <td>0</td>\n",
       "      <td>0</td>\n",
       "      <td>0</td>\n",
       "      <td>0</td>\n",
       "      <td>0</td>\n",
       "      <td>1</td>\n",
       "      <td>0</td>\n",
       "      <td>0</td>\n",
       "    </tr>\n",
       "    <tr>\n",
       "      <th>602589</th>\n",
       "      <td>10</td>\n",
       "      <td>Shot</td>\n",
       "      <td>[{'id': 101}, {'id': 402}, {'id': 201}, {'id':...</td>\n",
       "      <td>7944</td>\n",
       "      <td>[{'x': 44, 'y': 40}, {'x': 0, 'y': 0}]</td>\n",
       "      <td>2499856</td>\n",
       "      <td>Shot</td>\n",
       "      <td>1623</td>\n",
       "      <td>2H</td>\n",
       "      <td>1254.782389</td>\n",
       "      <td>100</td>\n",
       "      <td>210484394</td>\n",
       "      <td>England</td>\n",
       "      <td>right</td>\n",
       "      <td>Wayne</td>\n",
       "      <td>Rooney</td>\n",
       "      <td>Everton - West Ham United, 4 - 0</td>\n",
       "      <td>Goodison Park</td>\n",
       "      <td>November 29, 2017 at 9:00:00 PM GMT+1</td>\n",
       "      <td>Simple pass</td>\n",
       "      <td>58.80</td>\n",
       "      <td>27.20</td>\n",
       "      <td>6.80</td>\n",
       "      <td>59.191891</td>\n",
       "      <td>0.122699</td>\n",
       "      <td>1</td>\n",
       "      <td>0</td>\n",
       "      <td>0</td>\n",
       "      <td>0</td>\n",
       "      <td>0</td>\n",
       "      <td>0</td>\n",
       "      <td>1</td>\n",
       "      <td>0</td>\n",
       "      <td>0</td>\n",
       "    </tr>\n",
       "    <tr>\n",
       "      <th>376184</th>\n",
       "      <td>10</td>\n",
       "      <td>Shot</td>\n",
       "      <td>[{'id': 101}, {'id': 402}, {'id': 201}, {'id':...</td>\n",
       "      <td>25785</td>\n",
       "      <td>[{'x': 93, 'y': 89}, {'x': 0, 'y': 0}]</td>\n",
       "      <td>2499888</td>\n",
       "      <td>Shot</td>\n",
       "      <td>1624</td>\n",
       "      <td>1H</td>\n",
       "      <td>2373.032449</td>\n",
       "      <td>100</td>\n",
       "      <td>214471078</td>\n",
       "      <td>England</td>\n",
       "      <td>right</td>\n",
       "      <td>Serge</td>\n",
       "      <td>Aurier</td>\n",
       "      <td>Tottenham Hotspur - Brighton &amp; Hove Albion, 2 - 0</td>\n",
       "      <td>Wembley Stadium</td>\n",
       "      <td>December 13, 2017 at 9:00:00 PM GMT+1</td>\n",
       "      <td>Ground attacking duel</td>\n",
       "      <td>7.35</td>\n",
       "      <td>60.52</td>\n",
       "      <td>26.52</td>\n",
       "      <td>27.519682</td>\n",
       "      <td>0.072195</td>\n",
       "      <td>1</td>\n",
       "      <td>0</td>\n",
       "      <td>0</td>\n",
       "      <td>0</td>\n",
       "      <td>0</td>\n",
       "      <td>0</td>\n",
       "      <td>0</td>\n",
       "      <td>0</td>\n",
       "      <td>1</td>\n",
       "    </tr>\n",
       "    <tr>\n",
       "      <th>634602</th>\n",
       "      <td>3</td>\n",
       "      <td>Free kick shot</td>\n",
       "      <td>[{'id': 101}, {'id': 402}, {'id': 1101}, {'id'...</td>\n",
       "      <td>54</td>\n",
       "      <td>[{'x': 71, 'y': 6}, {'x': 100, 'y': 100}]</td>\n",
       "      <td>2500046</td>\n",
       "      <td>Free Kick</td>\n",
       "      <td>1624</td>\n",
       "      <td>2H</td>\n",
       "      <td>1043.871993</td>\n",
       "      <td>33</td>\n",
       "      <td>240759185</td>\n",
       "      <td>England</td>\n",
       "      <td>right</td>\n",
       "      <td>Christian</td>\n",
       "      <td>Dannemann Eriksen</td>\n",
       "      <td>Stoke City - Tottenham Hotspur, 1 - 2</td>\n",
       "      <td>Bet365 Stadium</td>\n",
       "      <td>April 7, 2018 at 4:00:00 PM GMT+2</td>\n",
       "      <td>Foul</td>\n",
       "      <td>30.45</td>\n",
       "      <td>4.08</td>\n",
       "      <td>29.92</td>\n",
       "      <td>42.689681</td>\n",
       "      <td>0.122595</td>\n",
       "      <td>1</td>\n",
       "      <td>1</td>\n",
       "      <td>0</td>\n",
       "      <td>0</td>\n",
       "      <td>0</td>\n",
       "      <td>0</td>\n",
       "      <td>0</td>\n",
       "      <td>0</td>\n",
       "      <td>0</td>\n",
       "    </tr>\n",
       "    <tr>\n",
       "      <th>2479068</th>\n",
       "      <td>10</td>\n",
       "      <td>Shot</td>\n",
       "      <td>[{'id': 101}, {'id': 402}, {'id': 201}, {'id':...</td>\n",
       "      <td>28115</td>\n",
       "      <td>[{'x': 53, 'y': 32}, {'x': 0, 'y': 0}]</td>\n",
       "      <td>2500707</td>\n",
       "      <td>Shot</td>\n",
       "      <td>3766</td>\n",
       "      <td>1H</td>\n",
       "      <td>559.297626</td>\n",
       "      <td>100</td>\n",
       "      <td>180038263</td>\n",
       "      <td>France</td>\n",
       "      <td>left</td>\n",
       "      <td>Nabil</td>\n",
       "      <td>Fekir</td>\n",
       "      <td>Olympique Lyonnais - Bordeaux, 3 - 3</td>\n",
       "      <td>Groupama Stadium</td>\n",
       "      <td>August 19, 2017 at 5:00:00 PM GMT+2</td>\n",
       "      <td>Touch</td>\n",
       "      <td>49.35</td>\n",
       "      <td>21.76</td>\n",
       "      <td>12.24</td>\n",
       "      <td>50.845256</td>\n",
       "      <td>0.139547</td>\n",
       "      <td>1</td>\n",
       "      <td>0</td>\n",
       "      <td>0</td>\n",
       "      <td>0</td>\n",
       "      <td>0</td>\n",
       "      <td>1</td>\n",
       "      <td>0</td>\n",
       "      <td>0</td>\n",
       "      <td>0</td>\n",
       "    </tr>\n",
       "    <tr>\n",
       "      <th>1276877</th>\n",
       "      <td>10</td>\n",
       "      <td>Shot</td>\n",
       "      <td>[{'id': 101}, {'id': 401}, {'id': 201}, {'id':...</td>\n",
       "      <td>3314</td>\n",
       "      <td>[{'x': 87, 'y': 85}, {'x': 0, 'y': 0}]</td>\n",
       "      <td>2500813</td>\n",
       "      <td>Shot</td>\n",
       "      <td>3767</td>\n",
       "      <td>1H</td>\n",
       "      <td>2464.755130</td>\n",
       "      <td>100</td>\n",
       "      <td>206726309</td>\n",
       "      <td>France</td>\n",
       "      <td>left</td>\n",
       "      <td>\\u00c1ngel Fabi\\u00e1n</td>\n",
       "      <td>di Mar\\u00eda Hern\\u00e1ndez</td>\n",
       "      <td>PSG - Nantes, 4 - 1</td>\n",
       "      <td>Parc des Princes</td>\n",
       "      <td>November 18, 2017 at 5:00:00 PM GMT+1</td>\n",
       "      <td>Touch</td>\n",
       "      <td>13.65</td>\n",
       "      <td>57.80</td>\n",
       "      <td>23.80</td>\n",
       "      <td>27.436518</td>\n",
       "      <td>0.134326</td>\n",
       "      <td>1</td>\n",
       "      <td>0</td>\n",
       "      <td>0</td>\n",
       "      <td>0</td>\n",
       "      <td>0</td>\n",
       "      <td>1</td>\n",
       "      <td>0</td>\n",
       "      <td>0</td>\n",
       "      <td>0</td>\n",
       "    </tr>\n",
       "    <tr>\n",
       "      <th>2486704</th>\n",
       "      <td>10</td>\n",
       "      <td>Shot</td>\n",
       "      <td>[{'id': 101}, {'id': 401}, {'id': 201}, {'id':...</td>\n",
       "      <td>25715</td>\n",
       "      <td>[{'x': 51, 'y': 25}, {'x': 100, 'y': 100}]</td>\n",
       "      <td>2500888</td>\n",
       "      <td>Shot</td>\n",
       "      <td>3783</td>\n",
       "      <td>2H</td>\n",
       "      <td>2893.810499</td>\n",
       "      <td>100</td>\n",
       "      <td>221554614</td>\n",
       "      <td>France</td>\n",
       "      <td>right</td>\n",
       "      <td>Ronny</td>\n",
       "      <td>Rodelin</td>\n",
       "      <td>Bordeaux - Caen, 0 - 2</td>\n",
       "      <td>Stade Matmut-Atlantique</td>\n",
       "      <td>January 16, 2018 at 7:00:00 PM GMT+1</td>\n",
       "      <td>Simple pass</td>\n",
       "      <td>51.45</td>\n",
       "      <td>17.00</td>\n",
       "      <td>17.00</td>\n",
       "      <td>54.185815</td>\n",
       "      <td>0.128152</td>\n",
       "      <td>1</td>\n",
       "      <td>0</td>\n",
       "      <td>0</td>\n",
       "      <td>0</td>\n",
       "      <td>0</td>\n",
       "      <td>0</td>\n",
       "      <td>1</td>\n",
       "      <td>0</td>\n",
       "      <td>0</td>\n",
       "    </tr>\n",
       "    <tr>\n",
       "      <th>1107037</th>\n",
       "      <td>3</td>\n",
       "      <td>Free kick shot</td>\n",
       "      <td>[{'id': 101}, {'id': 401}, {'id': 1101}, {'id'...</td>\n",
       "      <td>221411</td>\n",
       "      <td>[{'x': 92, 'y': 88}, {'x': 100, 'y': 100}]</td>\n",
       "      <td>2516771</td>\n",
       "      <td>Free Kick</td>\n",
       "      <td>2481</td>\n",
       "      <td>1H</td>\n",
       "      <td>1194.796501</td>\n",
       "      <td>33</td>\n",
       "      <td>187907840</td>\n",
       "      <td>Germany</td>\n",
       "      <td>left</td>\n",
       "      <td>Philipp</td>\n",
       "      <td>Max</td>\n",
       "      <td>Eintracht Frankfurt - Augsburg, 1 - 2</td>\n",
       "      <td>Commerzbank-Arena</td>\n",
       "      <td>September 16, 2017 at 3:30:00 PM GMT+2</td>\n",
       "      <td>Foul</td>\n",
       "      <td>8.40</td>\n",
       "      <td>59.84</td>\n",
       "      <td>25.84</td>\n",
       "      <td>27.171043</td>\n",
       "      <td>0.084624</td>\n",
       "      <td>1</td>\n",
       "      <td>1</td>\n",
       "      <td>0</td>\n",
       "      <td>0</td>\n",
       "      <td>0</td>\n",
       "      <td>0</td>\n",
       "      <td>0</td>\n",
       "      <td>0</td>\n",
       "      <td>0</td>\n",
       "    </tr>\n",
       "    <tr>\n",
       "      <th>2120298</th>\n",
       "      <td>10</td>\n",
       "      <td>Shot</td>\n",
       "      <td>[{'id': 101}, {'id': 402}, {'id': 201}, {'id':...</td>\n",
       "      <td>134397</td>\n",
       "      <td>[{'x': 62, 'y': 58}, {'x': 0, 'y': 0}]</td>\n",
       "      <td>2516857</td>\n",
       "      <td>Shot</td>\n",
       "      <td>2482</td>\n",
       "      <td>2H</td>\n",
       "      <td>981.712318</td>\n",
       "      <td>100</td>\n",
       "      <td>211022059</td>\n",
       "      <td>Germany</td>\n",
       "      <td>right</td>\n",
       "      <td>Serge</td>\n",
       "      <td>Gnabry</td>\n",
       "      <td>Hoffenheim - RB Leipzig, 4 - 0</td>\n",
       "      <td>WIRSOL Rhein-Neckar-Arena</td>\n",
       "      <td>December 2, 2017 at 3:30:00 PM GMT+1</td>\n",
       "      <td>Simple pass</td>\n",
       "      <td>39.90</td>\n",
       "      <td>39.44</td>\n",
       "      <td>5.44</td>\n",
       "      <td>40.269140</td>\n",
       "      <td>0.179653</td>\n",
       "      <td>1</td>\n",
       "      <td>0</td>\n",
       "      <td>0</td>\n",
       "      <td>0</td>\n",
       "      <td>0</td>\n",
       "      <td>0</td>\n",
       "      <td>1</td>\n",
       "      <td>0</td>\n",
       "      <td>0</td>\n",
       "    </tr>\n",
       "    <tr>\n",
       "      <th>1133431</th>\n",
       "      <td>10</td>\n",
       "      <td>Shot</td>\n",
       "      <td>[{'id': 101}, {'id': 402}, {'id': 1401}, {'id'...</td>\n",
       "      <td>14734</td>\n",
       "      <td>[{'x': 60, 'y': 72}, {'x': 100, 'y': 100}]</td>\n",
       "      <td>2516911</td>\n",
       "      <td>Shot</td>\n",
       "      <td>2453</td>\n",
       "      <td>2H</td>\n",
       "      <td>1334.772942</td>\n",
       "      <td>100</td>\n",
       "      <td>223975587</td>\n",
       "      <td>Germany</td>\n",
       "      <td>right</td>\n",
       "      <td>Nils</td>\n",
       "      <td>Petersen</td>\n",
       "      <td>Borussia Dortmund - Freiburg, 2 - 2</td>\n",
       "      <td>Signal-Iduna-Park</td>\n",
       "      <td>January 27, 2018 at 3:30:00 PM GMT+1</td>\n",
       "      <td>Simple pass</td>\n",
       "      <td>42.00</td>\n",
       "      <td>48.96</td>\n",
       "      <td>14.96</td>\n",
       "      <td>44.584769</td>\n",
       "      <td>0.154472</td>\n",
       "      <td>1</td>\n",
       "      <td>0</td>\n",
       "      <td>0</td>\n",
       "      <td>0</td>\n",
       "      <td>0</td>\n",
       "      <td>0</td>\n",
       "      <td>1</td>\n",
       "      <td>0</td>\n",
       "      <td>0</td>\n",
       "    </tr>\n",
       "    <tr>\n",
       "      <th>2412858</th>\n",
       "      <td>10</td>\n",
       "      <td>Shot</td>\n",
       "      <td>[{'id': 101}, {'id': 401}, {'id': 201}, {'id':...</td>\n",
       "      <td>388267</td>\n",
       "      <td>[{'x': 71, 'y': 83}, {'x': 0, 'y': 0}]</td>\n",
       "      <td>2516916</td>\n",
       "      <td>Shot</td>\n",
       "      <td>2446</td>\n",
       "      <td>2H</td>\n",
       "      <td>158.471790</td>\n",
       "      <td>100</td>\n",
       "      <td>224291490</td>\n",
       "      <td>Germany</td>\n",
       "      <td>left</td>\n",
       "      <td>Leon</td>\n",
       "      <td>Bailey Butler</td>\n",
       "      <td>Bayer Leverkusen - Mainz 05, 2 - 0</td>\n",
       "      <td>BayArena</td>\n",
       "      <td>January 28, 2018 at 3:30:00 PM GMT+1</td>\n",
       "      <td>Simple pass</td>\n",
       "      <td>30.45</td>\n",
       "      <td>56.44</td>\n",
       "      <td>22.44</td>\n",
       "      <td>37.825337</td>\n",
       "      <td>0.155982</td>\n",
       "      <td>1</td>\n",
       "      <td>0</td>\n",
       "      <td>0</td>\n",
       "      <td>0</td>\n",
       "      <td>0</td>\n",
       "      <td>0</td>\n",
       "      <td>1</td>\n",
       "      <td>0</td>\n",
       "      <td>0</td>\n",
       "    </tr>\n",
       "    <tr>\n",
       "      <th>1756980</th>\n",
       "      <td>10</td>\n",
       "      <td>Shot</td>\n",
       "      <td>[{'id': 101}, {'id': 402}, {'id': 201}, {'id':...</td>\n",
       "      <td>224680</td>\n",
       "      <td>[{'x': 55, 'y': 100}, {'x': 0, 'y': 0}]</td>\n",
       "      <td>2516933</td>\n",
       "      <td>Shot</td>\n",
       "      <td>2462</td>\n",
       "      <td>2H</td>\n",
       "      <td>1263.092525</td>\n",
       "      <td>100</td>\n",
       "      <td>227230696</td>\n",
       "      <td>Germany</td>\n",
       "      <td>right</td>\n",
       "      <td>Marius</td>\n",
       "      <td>Wolf</td>\n",
       "      <td>Eintracht Frankfurt - K\\u00f6ln, 4 - 2</td>\n",
       "      <td>Commerzbank-Arena</td>\n",
       "      <td>February 10, 2018 at 3:30:00 PM GMT+1</td>\n",
       "      <td>Simple pass</td>\n",
       "      <td>47.25</td>\n",
       "      <td>68.00</td>\n",
       "      <td>34.00</td>\n",
       "      <td>58.211361</td>\n",
       "      <td>0.102118</td>\n",
       "      <td>1</td>\n",
       "      <td>0</td>\n",
       "      <td>0</td>\n",
       "      <td>0</td>\n",
       "      <td>0</td>\n",
       "      <td>0</td>\n",
       "      <td>1</td>\n",
       "      <td>0</td>\n",
       "      <td>0</td>\n",
       "    </tr>\n",
       "    <tr>\n",
       "      <th>2249707</th>\n",
       "      <td>10</td>\n",
       "      <td>Shot</td>\n",
       "      <td>[{'id': 101}, {'id': 403}, {'id': 201}, {'id':...</td>\n",
       "      <td>15069</td>\n",
       "      <td>[{'x': 8, 'y': 49}, {'x': 100, 'y': 100}]</td>\n",
       "      <td>2516989</td>\n",
       "      <td>Shot</td>\n",
       "      <td>2975</td>\n",
       "      <td>2H</td>\n",
       "      <td>482.920385</td>\n",
       "      <td>100</td>\n",
       "      <td>238892068</td>\n",
       "      <td>Germany</td>\n",
       "      <td>right</td>\n",
       "      <td>Willi</td>\n",
       "      <td>Orban</td>\n",
       "      <td>Hannover 96 - RB Leipzig, 2 - 3</td>\n",
       "      <td>HDI-Arena</td>\n",
       "      <td>March 31, 2018 at 3:30:00 PM GMT+2</td>\n",
       "      <td>Cross</td>\n",
       "      <td>96.60</td>\n",
       "      <td>33.32</td>\n",
       "      <td>0.68</td>\n",
       "      <td>96.602393</td>\n",
       "      <td>0.075736</td>\n",
       "      <td>1</td>\n",
       "      <td>0</td>\n",
       "      <td>0</td>\n",
       "      <td>0</td>\n",
       "      <td>1</td>\n",
       "      <td>0</td>\n",
       "      <td>0</td>\n",
       "      <td>0</td>\n",
       "      <td>0</td>\n",
       "    </tr>\n",
       "    <tr>\n",
       "      <th>2249732</th>\n",
       "      <td>10</td>\n",
       "      <td>Shot</td>\n",
       "      <td>[{'id': 101}, {'id': 1901}, {'id': 402}, {'id'...</td>\n",
       "      <td>56274</td>\n",
       "      <td>[{'x': 3, 'y': 49}, {'x': 100, 'y': 100}]</td>\n",
       "      <td>2516989</td>\n",
       "      <td>Shot</td>\n",
       "      <td>2975</td>\n",
       "      <td>2H</td>\n",
       "      <td>1858.745879</td>\n",
       "      <td>100</td>\n",
       "      <td>238892453</td>\n",
       "      <td>Germany</td>\n",
       "      <td>right</td>\n",
       "      <td>Yussuf</td>\n",
       "      <td>Yurary Poulsen</td>\n",
       "      <td>Hannover 96 - RB Leipzig, 2 - 3</td>\n",
       "      <td>HDI-Arena</td>\n",
       "      <td>March 31, 2018 at 3:30:00 PM GMT+2</td>\n",
       "      <td>Cross</td>\n",
       "      <td>101.85</td>\n",
       "      <td>33.32</td>\n",
       "      <td>0.68</td>\n",
       "      <td>101.852270</td>\n",
       "      <td>0.071836</td>\n",
       "      <td>1</td>\n",
       "      <td>0</td>\n",
       "      <td>1</td>\n",
       "      <td>0</td>\n",
       "      <td>1</td>\n",
       "      <td>0</td>\n",
       "      <td>0</td>\n",
       "      <td>0</td>\n",
       "      <td>0</td>\n",
       "    </tr>\n",
       "    <tr>\n",
       "      <th>519729</th>\n",
       "      <td>10</td>\n",
       "      <td>Shot</td>\n",
       "      <td>[{'id': 101}, {'id': 402}, {'id': 201}, {'id':...</td>\n",
       "      <td>391530</td>\n",
       "      <td>[{'x': 89, 'y': 88}, {'x': 0, 'y': 0}]</td>\n",
       "      <td>2516991</td>\n",
       "      <td>Shot</td>\n",
       "      <td>2447</td>\n",
       "      <td>1H</td>\n",
       "      <td>2254.132744</td>\n",
       "      <td>100</td>\n",
       "      <td>241349805</td>\n",
       "      <td>Germany</td>\n",
       "      <td>right</td>\n",
       "      <td>Christian</td>\n",
       "      <td>Pulisic</td>\n",
       "      <td>Borussia Dortmund - Stuttgart, 3 - 0</td>\n",
       "      <td>Signal-Iduna-Park</td>\n",
       "      <td>April 8, 2018 at 3:30:00 PM GMT+2</td>\n",
       "      <td>Smart pass</td>\n",
       "      <td>11.55</td>\n",
       "      <td>59.84</td>\n",
       "      <td>25.84</td>\n",
       "      <td>28.303853</td>\n",
       "      <td>0.106922</td>\n",
       "      <td>1</td>\n",
       "      <td>0</td>\n",
       "      <td>0</td>\n",
       "      <td>0</td>\n",
       "      <td>0</td>\n",
       "      <td>0</td>\n",
       "      <td>0</td>\n",
       "      <td>1</td>\n",
       "      <td>0</td>\n",
       "    </tr>\n",
       "    <tr>\n",
       "      <th>2943176</th>\n",
       "      <td>10</td>\n",
       "      <td>Shot</td>\n",
       "      <td>[{'id': 101}, {'id': 402}, {'id': 201}, {'id':...</td>\n",
       "      <td>3474</td>\n",
       "      <td>[{'x': 88, 'y': 84}, {'x': 0, 'y': 0}]</td>\n",
       "      <td>2565590</td>\n",
       "      <td>Shot</td>\n",
       "      <td>680</td>\n",
       "      <td>2H</td>\n",
       "      <td>2247.869820</td>\n",
       "      <td>100</td>\n",
       "      <td>189426518</td>\n",
       "      <td>Spain</td>\n",
       "      <td>right</td>\n",
       "      <td>Jes\\u00fas</td>\n",
       "      <td>Navas Gonz\\u00e1lez</td>\n",
       "      <td>Sevilla - Las Palmas, 1 - 0</td>\n",
       "      <td>Estadio Ram\\u00f3n S\\u00e1nchez Pizju\\u00e1n</td>\n",
       "      <td>September 20, 2017 at 10:00:00 PM GMT+2</td>\n",
       "      <td>Ground attacking duel</td>\n",
       "      <td>12.60</td>\n",
       "      <td>57.12</td>\n",
       "      <td>23.12</td>\n",
       "      <td>26.330484</td>\n",
       "      <td>0.134832</td>\n",
       "      <td>1</td>\n",
       "      <td>0</td>\n",
       "      <td>0</td>\n",
       "      <td>0</td>\n",
       "      <td>0</td>\n",
       "      <td>0</td>\n",
       "      <td>0</td>\n",
       "      <td>0</td>\n",
       "      <td>1</td>\n",
       "    </tr>\n",
       "    <tr>\n",
       "      <th>2251535</th>\n",
       "      <td>3</td>\n",
       "      <td>Free kick shot</td>\n",
       "      <td>[{'id': 101}, {'id': 402}, {'id': 1101}, {'id'...</td>\n",
       "      <td>241945</td>\n",
       "      <td>[{'x': 64, 'y': 10}, {'x': 100, 'y': 100}]</td>\n",
       "      <td>2565606</td>\n",
       "      <td>Free Kick</td>\n",
       "      <td>692</td>\n",
       "      <td>1H</td>\n",
       "      <td>1373.441882</td>\n",
       "      <td>33</td>\n",
       "      <td>190404737</td>\n",
       "      <td>Spain</td>\n",
       "      <td>right</td>\n",
       "      <td>Pione</td>\n",
       "      <td>Sisto Ifolo Emirmija</td>\n",
       "      <td>Eibar - Celta de Vigo, 0 - 4</td>\n",
       "      <td>Estadio Municipal de Ipur\\u00faa</td>\n",
       "      <td>September 24, 2017 at 6:30:00 PM GMT+2</td>\n",
       "      <td>Foul</td>\n",
       "      <td>37.80</td>\n",
       "      <td>6.80</td>\n",
       "      <td>27.20</td>\n",
       "      <td>46.569088</td>\n",
       "      <td>0.127682</td>\n",
       "      <td>1</td>\n",
       "      <td>1</td>\n",
       "      <td>0</td>\n",
       "      <td>0</td>\n",
       "      <td>0</td>\n",
       "      <td>0</td>\n",
       "      <td>0</td>\n",
       "      <td>0</td>\n",
       "      <td>0</td>\n",
       "    </tr>\n",
       "    <tr>\n",
       "      <th>2940608</th>\n",
       "      <td>10</td>\n",
       "      <td>Shot</td>\n",
       "      <td>[{'id': 101}, {'id': 401}, {'id': 201}, {'id':...</td>\n",
       "      <td>4015</td>\n",
       "      <td>[{'x': 1, 'y': 51}, {'x': 0, 'y': 0}]</td>\n",
       "      <td>2565775</td>\n",
       "      <td>Shot</td>\n",
       "      <td>680</td>\n",
       "      <td>2H</td>\n",
       "      <td>37.063761</td>\n",
       "      <td>100</td>\n",
       "      <td>227470407</td>\n",
       "      <td>Spain</td>\n",
       "      <td>left</td>\n",
       "      <td>Pablo</td>\n",
       "      <td>Sarabia Garc\\u00eda</td>\n",
       "      <td>Sevilla - Girona, 1 - 0</td>\n",
       "      <td>Estadio Ram\\u00f3n S\\u00e1nchez Pizju\\u00e1n</td>\n",
       "      <td>February 11, 2018 at 12:00:00 PM GMT+1</td>\n",
       "      <td>Reflexes</td>\n",
       "      <td>103.95</td>\n",
       "      <td>34.68</td>\n",
       "      <td>0.68</td>\n",
       "      <td>103.952224</td>\n",
       "      <td>0.070386</td>\n",
       "      <td>1</td>\n",
       "      <td>0</td>\n",
       "      <td>0</td>\n",
       "      <td>0</td>\n",
       "      <td>0</td>\n",
       "      <td>0</td>\n",
       "      <td>0</td>\n",
       "      <td>0</td>\n",
       "      <td>0</td>\n",
       "    </tr>\n",
       "    <tr>\n",
       "      <th>2909396</th>\n",
       "      <td>10</td>\n",
       "      <td>Shot</td>\n",
       "      <td>[{'id': 101}, {'id': 401}, {'id': 201}, {'id':...</td>\n",
       "      <td>3282</td>\n",
       "      <td>[{'x': 76, 'y': 81}, {'x': 0, 'y': 0}]</td>\n",
       "      <td>2565854</td>\n",
       "      <td>Shot</td>\n",
       "      <td>687</td>\n",
       "      <td>1H</td>\n",
       "      <td>657.854929</td>\n",
       "      <td>100</td>\n",
       "      <td>241160349</td>\n",
       "      <td>Spain</td>\n",
       "      <td>left</td>\n",
       "      <td>Sergio</td>\n",
       "      <td>Canales Madrazo</td>\n",
       "      <td>Real Sociedad - Girona, 5 - 0</td>\n",
       "      <td>Estadio Municipal de Anoeta</td>\n",
       "      <td>April 8, 2018 at 6:30:00 PM GMT+2</td>\n",
       "      <td>Simple pass</td>\n",
       "      <td>25.20</td>\n",
       "      <td>55.08</td>\n",
       "      <td>21.08</td>\n",
       "      <td>32.854321</td>\n",
       "      <td>0.171345</td>\n",
       "      <td>1</td>\n",
       "      <td>0</td>\n",
       "      <td>0</td>\n",
       "      <td>0</td>\n",
       "      <td>0</td>\n",
       "      <td>0</td>\n",
       "      <td>1</td>\n",
       "      <td>0</td>\n",
       "      <td>0</td>\n",
       "    </tr>\n",
       "    <tr>\n",
       "      <th>2305469</th>\n",
       "      <td>3</td>\n",
       "      <td>Free kick shot</td>\n",
       "      <td>[{'id': 101}, {'id': 402}, {'id': 1101}, {'id'...</td>\n",
       "      <td>302798</td>\n",
       "      <td>[{'x': 64, 'y': 12}, {'x': 100, 'y': 100}]</td>\n",
       "      <td>2576228</td>\n",
       "      <td>Free Kick</td>\n",
       "      <td>3315</td>\n",
       "      <td>2H</td>\n",
       "      <td>2952.656641</td>\n",
       "      <td>33</td>\n",
       "      <td>240196829</td>\n",
       "      <td>Italy</td>\n",
       "      <td>right</td>\n",
       "      <td>Francesco</td>\n",
       "      <td>Cassata</td>\n",
       "      <td>Chievo - Sassuolo, 1 - 1</td>\n",
       "      <td>Stadio Marc'Antonio Bentegodi</td>\n",
       "      <td>April 4, 2018 at 6:30:00 PM GMT+2</td>\n",
       "      <td>Foul</td>\n",
       "      <td>37.80</td>\n",
       "      <td>8.16</td>\n",
       "      <td>25.84</td>\n",
       "      <td>45.788051</td>\n",
       "      <td>0.132053</td>\n",
       "      <td>1</td>\n",
       "      <td>1</td>\n",
       "      <td>0</td>\n",
       "      <td>0</td>\n",
       "      <td>0</td>\n",
       "      <td>0</td>\n",
       "      <td>0</td>\n",
       "      <td>0</td>\n",
       "      <td>0</td>\n",
       "    </tr>\n",
       "    <tr>\n",
       "      <th>2306851</th>\n",
       "      <td>10</td>\n",
       "      <td>Shot</td>\n",
       "      <td>[{'id': 101}, {'id': 402}, {'id': 201}, {'id':...</td>\n",
       "      <td>20653</td>\n",
       "      <td>[{'x': 93, 'y': 5}, {'x': 0, 'y': 0}]</td>\n",
       "      <td>2576255</td>\n",
       "      <td>Shot</td>\n",
       "      <td>3165</td>\n",
       "      <td>2H</td>\n",
       "      <td>2029.545334</td>\n",
       "      <td>100</td>\n",
       "      <td>238901337</td>\n",
       "      <td>Italy</td>\n",
       "      <td>right</td>\n",
       "      <td>Perparim</td>\n",
       "      <td>Hetemaj</td>\n",
       "      <td>Chievo - Sampdoria, 2 - 1</td>\n",
       "      <td></td>\n",
       "      <td>March 31, 2018 at 6:00:00 PM GMT+2</td>\n",
       "      <td>Simple pass</td>\n",
       "      <td>7.35</td>\n",
       "      <td>3.40</td>\n",
       "      <td>30.60</td>\n",
       "      <td>31.470343</td>\n",
       "      <td>0.055014</td>\n",
       "      <td>1</td>\n",
       "      <td>0</td>\n",
       "      <td>0</td>\n",
       "      <td>0</td>\n",
       "      <td>0</td>\n",
       "      <td>0</td>\n",
       "      <td>1</td>\n",
       "      <td>0</td>\n",
       "      <td>0</td>\n",
       "    </tr>\n",
       "    <tr>\n",
       "      <th>1877492</th>\n",
       "      <td>3</td>\n",
       "      <td>Free kick shot</td>\n",
       "      <td>[{'id': 101}, {'id': 402}, {'id': 1101}, {'id'...</td>\n",
       "      <td>135903</td>\n",
       "      <td>[{'x': 93, 'y': 5}, {'x': 0, 'y': 0}]</td>\n",
       "      <td>2576281</td>\n",
       "      <td>Free Kick</td>\n",
       "      <td>3161</td>\n",
       "      <td>1H</td>\n",
       "      <td>151.267110</td>\n",
       "      <td>33</td>\n",
       "      <td>244018448</td>\n",
       "      <td>Italy</td>\n",
       "      <td>right</td>\n",
       "      <td>Jo\\u00e3o Pedro</td>\n",
       "      <td>Cavaco Cancelo</td>\n",
       "      <td>Internazionale - Cagliari, 4 - 0</td>\n",
       "      <td></td>\n",
       "      <td>April 17, 2018 at 8:45:00 PM GMT+2</td>\n",
       "      <td>Hand foul</td>\n",
       "      <td>7.35</td>\n",
       "      <td>3.40</td>\n",
       "      <td>30.60</td>\n",
       "      <td>31.470343</td>\n",
       "      <td>0.055014</td>\n",
       "      <td>1</td>\n",
       "      <td>1</td>\n",
       "      <td>0</td>\n",
       "      <td>0</td>\n",
       "      <td>0</td>\n",
       "      <td>0</td>\n",
       "      <td>0</td>\n",
       "      <td>0</td>\n",
       "      <td>0</td>\n",
       "    </tr>\n",
       "  </tbody>\n",
       "</table>\n",
       "</div>"
      ],
      "text/plain": [
       "         eventId    subEventName  \\\n",
       "595383        10            Shot   \n",
       "602589        10            Shot   \n",
       "376184        10            Shot   \n",
       "634602         3  Free kick shot   \n",
       "2479068       10            Shot   \n",
       "1276877       10            Shot   \n",
       "2486704       10            Shot   \n",
       "1107037        3  Free kick shot   \n",
       "2120298       10            Shot   \n",
       "1133431       10            Shot   \n",
       "2412858       10            Shot   \n",
       "1756980       10            Shot   \n",
       "2249707       10            Shot   \n",
       "2249732       10            Shot   \n",
       "519729        10            Shot   \n",
       "2943176       10            Shot   \n",
       "2251535        3  Free kick shot   \n",
       "2940608       10            Shot   \n",
       "2909396       10            Shot   \n",
       "2305469        3  Free kick shot   \n",
       "2306851       10            Shot   \n",
       "1877492        3  Free kick shot   \n",
       "\n",
       "                                                      tags  playerId  \\\n",
       "595383   [{'id': 101}, {'id': 402}, {'id': 201}, {'id':...      8717   \n",
       "602589   [{'id': 101}, {'id': 402}, {'id': 201}, {'id':...      7944   \n",
       "376184   [{'id': 101}, {'id': 402}, {'id': 201}, {'id':...     25785   \n",
       "634602   [{'id': 101}, {'id': 402}, {'id': 1101}, {'id'...        54   \n",
       "2479068  [{'id': 101}, {'id': 402}, {'id': 201}, {'id':...     28115   \n",
       "1276877  [{'id': 101}, {'id': 401}, {'id': 201}, {'id':...      3314   \n",
       "2486704  [{'id': 101}, {'id': 401}, {'id': 201}, {'id':...     25715   \n",
       "1107037  [{'id': 101}, {'id': 401}, {'id': 1101}, {'id'...    221411   \n",
       "2120298  [{'id': 101}, {'id': 402}, {'id': 201}, {'id':...    134397   \n",
       "1133431  [{'id': 101}, {'id': 402}, {'id': 1401}, {'id'...     14734   \n",
       "2412858  [{'id': 101}, {'id': 401}, {'id': 201}, {'id':...    388267   \n",
       "1756980  [{'id': 101}, {'id': 402}, {'id': 201}, {'id':...    224680   \n",
       "2249707  [{'id': 101}, {'id': 403}, {'id': 201}, {'id':...     15069   \n",
       "2249732  [{'id': 101}, {'id': 1901}, {'id': 402}, {'id'...     56274   \n",
       "519729   [{'id': 101}, {'id': 402}, {'id': 201}, {'id':...    391530   \n",
       "2943176  [{'id': 101}, {'id': 402}, {'id': 201}, {'id':...      3474   \n",
       "2251535  [{'id': 101}, {'id': 402}, {'id': 1101}, {'id'...    241945   \n",
       "2940608  [{'id': 101}, {'id': 401}, {'id': 201}, {'id':...      4015   \n",
       "2909396  [{'id': 101}, {'id': 401}, {'id': 201}, {'id':...      3282   \n",
       "2305469  [{'id': 101}, {'id': 402}, {'id': 1101}, {'id'...    302798   \n",
       "2306851  [{'id': 101}, {'id': 402}, {'id': 201}, {'id':...     20653   \n",
       "1877492  [{'id': 101}, {'id': 402}, {'id': 1101}, {'id'...    135903   \n",
       "\n",
       "                                          positions  matchId  eventName  \\\n",
       "595383   [{'x': 79, 'y': 85}, {'x': 100, 'y': 100}]  2499752       Shot   \n",
       "602589       [{'x': 44, 'y': 40}, {'x': 0, 'y': 0}]  2499856       Shot   \n",
       "376184       [{'x': 93, 'y': 89}, {'x': 0, 'y': 0}]  2499888       Shot   \n",
       "634602    [{'x': 71, 'y': 6}, {'x': 100, 'y': 100}]  2500046  Free Kick   \n",
       "2479068      [{'x': 53, 'y': 32}, {'x': 0, 'y': 0}]  2500707       Shot   \n",
       "1276877      [{'x': 87, 'y': 85}, {'x': 0, 'y': 0}]  2500813       Shot   \n",
       "2486704  [{'x': 51, 'y': 25}, {'x': 100, 'y': 100}]  2500888       Shot   \n",
       "1107037  [{'x': 92, 'y': 88}, {'x': 100, 'y': 100}]  2516771  Free Kick   \n",
       "2120298      [{'x': 62, 'y': 58}, {'x': 0, 'y': 0}]  2516857       Shot   \n",
       "1133431  [{'x': 60, 'y': 72}, {'x': 100, 'y': 100}]  2516911       Shot   \n",
       "2412858      [{'x': 71, 'y': 83}, {'x': 0, 'y': 0}]  2516916       Shot   \n",
       "1756980     [{'x': 55, 'y': 100}, {'x': 0, 'y': 0}]  2516933       Shot   \n",
       "2249707   [{'x': 8, 'y': 49}, {'x': 100, 'y': 100}]  2516989       Shot   \n",
       "2249732   [{'x': 3, 'y': 49}, {'x': 100, 'y': 100}]  2516989       Shot   \n",
       "519729       [{'x': 89, 'y': 88}, {'x': 0, 'y': 0}]  2516991       Shot   \n",
       "2943176      [{'x': 88, 'y': 84}, {'x': 0, 'y': 0}]  2565590       Shot   \n",
       "2251535  [{'x': 64, 'y': 10}, {'x': 100, 'y': 100}]  2565606  Free Kick   \n",
       "2940608       [{'x': 1, 'y': 51}, {'x': 0, 'y': 0}]  2565775       Shot   \n",
       "2909396      [{'x': 76, 'y': 81}, {'x': 0, 'y': 0}]  2565854       Shot   \n",
       "2305469  [{'x': 64, 'y': 12}, {'x': 100, 'y': 100}]  2576228  Free Kick   \n",
       "2306851       [{'x': 93, 'y': 5}, {'x': 0, 'y': 0}]  2576255       Shot   \n",
       "1877492       [{'x': 93, 'y': 5}, {'x': 0, 'y': 0}]  2576281  Free Kick   \n",
       "\n",
       "         teamId matchPeriod     eventSec  subEventId         id   league  \\\n",
       "595383     1624          1H  1664.160104         100  185820216  England   \n",
       "602589     1623          2H  1254.782389         100  210484394  England   \n",
       "376184     1624          1H  2373.032449         100  214471078  England   \n",
       "634602     1624          2H  1043.871993          33  240759185  England   \n",
       "2479068    3766          1H   559.297626         100  180038263   France   \n",
       "1276877    3767          1H  2464.755130         100  206726309   France   \n",
       "2486704    3783          2H  2893.810499         100  221554614   France   \n",
       "1107037    2481          1H  1194.796501          33  187907840  Germany   \n",
       "2120298    2482          2H   981.712318         100  211022059  Germany   \n",
       "1133431    2453          2H  1334.772942         100  223975587  Germany   \n",
       "2412858    2446          2H   158.471790         100  224291490  Germany   \n",
       "1756980    2462          2H  1263.092525         100  227230696  Germany   \n",
       "2249707    2975          2H   482.920385         100  238892068  Germany   \n",
       "2249732    2975          2H  1858.745879         100  238892453  Germany   \n",
       "519729     2447          1H  2254.132744         100  241349805  Germany   \n",
       "2943176     680          2H  2247.869820         100  189426518    Spain   \n",
       "2251535     692          1H  1373.441882          33  190404737    Spain   \n",
       "2940608     680          2H    37.063761         100  227470407    Spain   \n",
       "2909396     687          1H   657.854929         100  241160349    Spain   \n",
       "2305469    3315          2H  2952.656641          33  240196829    Italy   \n",
       "2306851    3165          2H  2029.545334         100  238901337    Italy   \n",
       "1877492    3161          1H   151.267110          33  244018448    Italy   \n",
       "\n",
       "          foot               firstName                      lastName  \\\n",
       "595383   right                   Harry                          Kane   \n",
       "602589   right                   Wayne                        Rooney   \n",
       "376184   right                   Serge                        Aurier   \n",
       "634602   right              Christian              Dannemann Eriksen   \n",
       "2479068   left                   Nabil                         Fekir   \n",
       "1276877   left  \\u00c1ngel Fabi\\u00e1n  di Mar\\u00eda Hern\\u00e1ndez   \n",
       "2486704  right                   Ronny                       Rodelin   \n",
       "1107037   left                 Philipp                           Max   \n",
       "2120298  right                  Serge                         Gnabry   \n",
       "1133431  right                    Nils                      Petersen   \n",
       "2412858   left                    Leon                 Bailey Butler   \n",
       "1756980  right                  Marius                          Wolf   \n",
       "2249707  right                   Willi                         Orban   \n",
       "2249732  right                  Yussuf                Yurary Poulsen   \n",
       "519729   right               Christian                       Pulisic   \n",
       "2943176  right              Jes\\u00fas           Navas Gonz\\u00e1lez   \n",
       "2251535  right                   Pione          Sisto Ifolo Emirmija   \n",
       "2940608   left                   Pablo           Sarabia Garc\\u00eda   \n",
       "2909396   left                  Sergio               Canales Madrazo   \n",
       "2305469  right               Francesco                       Cassata   \n",
       "2306851  right                Perparim                       Hetemaj   \n",
       "1877492  right         Jo\\u00e3o Pedro                Cavaco Cancelo   \n",
       "\n",
       "                                                     label  \\\n",
       "595383                  Everton - Tottenham Hotspur, 0 - 3   \n",
       "602589                    Everton - West Ham United, 4 - 0   \n",
       "376184   Tottenham Hotspur - Brighton & Hove Albion, 2 - 0   \n",
       "634602               Stoke City - Tottenham Hotspur, 1 - 2   \n",
       "2479068               Olympique Lyonnais - Bordeaux, 3 - 3   \n",
       "1276877                                PSG - Nantes, 4 - 1   \n",
       "2486704                             Bordeaux - Caen, 0 - 2   \n",
       "1107037              Eintracht Frankfurt - Augsburg, 1 - 2   \n",
       "2120298                     Hoffenheim - RB Leipzig, 4 - 0   \n",
       "1133431                Borussia Dortmund - Freiburg, 2 - 2   \n",
       "2412858                 Bayer Leverkusen - Mainz 05, 2 - 0   \n",
       "1756980             Eintracht Frankfurt - K\\u00f6ln, 4 - 2   \n",
       "2249707                    Hannover 96 - RB Leipzig, 2 - 3   \n",
       "2249732                    Hannover 96 - RB Leipzig, 2 - 3   \n",
       "519729                Borussia Dortmund - Stuttgart, 3 - 0   \n",
       "2943176                        Sevilla - Las Palmas, 1 - 0   \n",
       "2251535                       Eibar - Celta de Vigo, 0 - 4   \n",
       "2940608                            Sevilla - Girona, 1 - 0   \n",
       "2909396                      Real Sociedad - Girona, 5 - 0   \n",
       "2305469                           Chievo - Sassuolo, 1 - 1   \n",
       "2306851                          Chievo - Sampdoria, 2 - 1   \n",
       "1877492                   Internazionale - Cagliari, 4 - 0   \n",
       "\n",
       "                                                venue  \\\n",
       "595383                                  Goodison Park   \n",
       "602589                                  Goodison Park   \n",
       "376184                                Wembley Stadium   \n",
       "634602                                 Bet365 Stadium   \n",
       "2479068                              Groupama Stadium   \n",
       "1276877                              Parc des Princes   \n",
       "2486704                       Stade Matmut-Atlantique   \n",
       "1107037                             Commerzbank-Arena   \n",
       "2120298                     WIRSOL Rhein-Neckar-Arena   \n",
       "1133431                             Signal-Iduna-Park   \n",
       "2412858                                      BayArena   \n",
       "1756980                             Commerzbank-Arena   \n",
       "2249707                                     HDI-Arena   \n",
       "2249732                                     HDI-Arena   \n",
       "519729                              Signal-Iduna-Park   \n",
       "2943176  Estadio Ram\\u00f3n S\\u00e1nchez Pizju\\u00e1n   \n",
       "2251535              Estadio Municipal de Ipur\\u00faa   \n",
       "2940608  Estadio Ram\\u00f3n S\\u00e1nchez Pizju\\u00e1n   \n",
       "2909396                   Estadio Municipal de Anoeta   \n",
       "2305469                 Stadio Marc'Antonio Bentegodi   \n",
       "2306851                                                 \n",
       "1877492                                                 \n",
       "\n",
       "                                            date         previous_event  \\\n",
       "595383     September 9, 2017 at 4:00:00 PM GMT+2            Simple pass   \n",
       "602589     November 29, 2017 at 9:00:00 PM GMT+1            Simple pass   \n",
       "376184     December 13, 2017 at 9:00:00 PM GMT+1  Ground attacking duel   \n",
       "634602         April 7, 2018 at 4:00:00 PM GMT+2                   Foul   \n",
       "2479068      August 19, 2017 at 5:00:00 PM GMT+2                  Touch   \n",
       "1276877    November 18, 2017 at 5:00:00 PM GMT+1                  Touch   \n",
       "2486704     January 16, 2018 at 7:00:00 PM GMT+1            Simple pass   \n",
       "1107037   September 16, 2017 at 3:30:00 PM GMT+2                   Foul   \n",
       "2120298     December 2, 2017 at 3:30:00 PM GMT+1            Simple pass   \n",
       "1133431     January 27, 2018 at 3:30:00 PM GMT+1            Simple pass   \n",
       "2412858     January 28, 2018 at 3:30:00 PM GMT+1            Simple pass   \n",
       "1756980    February 10, 2018 at 3:30:00 PM GMT+1            Simple pass   \n",
       "2249707       March 31, 2018 at 3:30:00 PM GMT+2                  Cross   \n",
       "2249732       March 31, 2018 at 3:30:00 PM GMT+2                  Cross   \n",
       "519729         April 8, 2018 at 3:30:00 PM GMT+2             Smart pass   \n",
       "2943176  September 20, 2017 at 10:00:00 PM GMT+2  Ground attacking duel   \n",
       "2251535   September 24, 2017 at 6:30:00 PM GMT+2                   Foul   \n",
       "2940608   February 11, 2018 at 12:00:00 PM GMT+1               Reflexes   \n",
       "2909396        April 8, 2018 at 6:30:00 PM GMT+2            Simple pass   \n",
       "2305469        April 4, 2018 at 6:30:00 PM GMT+2                   Foul   \n",
       "2306851       March 31, 2018 at 6:00:00 PM GMT+2            Simple pass   \n",
       "1877492       April 17, 2018 at 8:45:00 PM GMT+2              Hand foul   \n",
       "\n",
       "              x      y      c    distance     angle  goal  free_kick  \\\n",
       "595383    22.05  57.80  23.80   32.444453  0.154080     1          0   \n",
       "602589    58.80  27.20   6.80   59.191891  0.122699     1          0   \n",
       "376184     7.35  60.52  26.52   27.519682  0.072195     1          0   \n",
       "634602    30.45   4.08  29.92   42.689681  0.122595     1          1   \n",
       "2479068   49.35  21.76  12.24   50.845256  0.139547     1          0   \n",
       "1276877   13.65  57.80  23.80   27.436518  0.134326     1          0   \n",
       "2486704   51.45  17.00  17.00   54.185815  0.128152     1          0   \n",
       "1107037    8.40  59.84  25.84   27.171043  0.084624     1          1   \n",
       "2120298   39.90  39.44   5.44   40.269140  0.179653     1          0   \n",
       "1133431   42.00  48.96  14.96   44.584769  0.154472     1          0   \n",
       "2412858   30.45  56.44  22.44   37.825337  0.155982     1          0   \n",
       "1756980   47.25  68.00  34.00   58.211361  0.102118     1          0   \n",
       "2249707   96.60  33.32   0.68   96.602393  0.075736     1          0   \n",
       "2249732  101.85  33.32   0.68  101.852270  0.071836     1          0   \n",
       "519729    11.55  59.84  25.84   28.303853  0.106922     1          0   \n",
       "2943176   12.60  57.12  23.12   26.330484  0.134832     1          0   \n",
       "2251535   37.80   6.80  27.20   46.569088  0.127682     1          1   \n",
       "2940608  103.95  34.68   0.68  103.952224  0.070386     1          0   \n",
       "2909396   25.20  55.08  21.08   32.854321  0.171345     1          0   \n",
       "2305469   37.80   8.16  25.84   45.788051  0.132053     1          1   \n",
       "2306851    7.35   3.40  30.60   31.470343  0.055014     1          0   \n",
       "1877492    7.35   3.40  30.60   31.470343  0.055014     1          1   \n",
       "\n",
       "         counter_attack  rebound  prev_cross  prev_touch  prev_pass  \\\n",
       "595383                0        0           0           0          1   \n",
       "602589                0        0           0           0          1   \n",
       "376184                0        0           0           0          0   \n",
       "634602                0        0           0           0          0   \n",
       "2479068               0        0           0           1          0   \n",
       "1276877               0        0           0           1          0   \n",
       "2486704               0        0           0           0          1   \n",
       "1107037               0        0           0           0          0   \n",
       "2120298               0        0           0           0          1   \n",
       "1133431               0        0           0           0          1   \n",
       "2412858               0        0           0           0          1   \n",
       "1756980               0        0           0           0          1   \n",
       "2249707               0        0           1           0          0   \n",
       "2249732               1        0           1           0          0   \n",
       "519729                0        0           0           0          0   \n",
       "2943176               0        0           0           0          0   \n",
       "2251535               0        0           0           0          0   \n",
       "2940608               0        0           0           0          0   \n",
       "2909396               0        0           0           0          1   \n",
       "2305469               0        0           0           0          0   \n",
       "2306851               0        0           0           0          1   \n",
       "1877492               0        0           0           0          0   \n",
       "\n",
       "         prev_smart_pass  prev_duel  \n",
       "595383                 0          0  \n",
       "602589                 0          0  \n",
       "376184                 0          1  \n",
       "634602                 0          0  \n",
       "2479068                0          0  \n",
       "1276877                0          0  \n",
       "2486704                0          0  \n",
       "1107037                0          0  \n",
       "2120298                0          0  \n",
       "1133431                0          0  \n",
       "2412858                0          0  \n",
       "1756980                0          0  \n",
       "2249707                0          0  \n",
       "2249732                0          0  \n",
       "519729                 1          0  \n",
       "2943176                0          1  \n",
       "2251535                0          0  \n",
       "2940608                0          0  \n",
       "2909396                0          0  \n",
       "2305469                0          0  \n",
       "2306851                0          0  \n",
       "1877492                0          0  "
      ]
     },
     "execution_count": 27,
     "metadata": {},
     "output_type": "execute_result"
    }
   ],
   "source": [
    "outliers = shots[((shots['x'] > 35 ) & shots['goal'] == 1) | ((shots['y'] > 55 ) & (shots['goal'] == 1)) | ((shots['y'] <5 ) & shots['goal'] == 1)] \n",
    "outliers"
   ]
  },
  {
   "attachments": {},
   "cell_type": "markdown",
   "id": "9b4e44fd",
   "metadata": {},
   "source": [
    "Usando os dados das informações da partida como label, venue e date foi possível encontrar alguns destes gols no youtube. E a conclusão foi que parece ter havido erro no registro de dados para estes gols, dados que vários deles ocorreram dentro da área adversária como o de Yussuf Poulsen pelo RB Leipzig e de Pablo Sarabia pelo Girona."
   ]
  },
  {
   "cell_type": "code",
   "execution_count": 28,
   "id": "83ee23c1",
   "metadata": {},
   "outputs": [
    {
     "name": "stderr",
     "output_type": "stream",
     "text": [
      "/Users/lucasmaretti/Documents/repos/football_analytics_master/aux_functions_plot.py:500: FutureWarning:\n",
      "\n",
      "In a future version of pandas all arguments of DataFrame.pivot will be keyword-only.\n",
      "\n"
     ]
    },
    {
     "data": {
      "application/vnd.plotly.v1+json": {
       "config": {
        "plotlyServerURL": "https://plot.ly"
       },
       "data": [
        {
         "hoverinfo": "text",
         "text": [
          [
           "Proporção de chutes (em %): 0.00<br />Número de chutes: 0<br />",
           "Proporção de chutes (em %): 9.09<br />Número de chutes: 2<br />",
           "Proporção de chutes (em %): 0.00<br />Número de chutes: 0<br />",
           "Proporção de chutes (em %): 0.00<br />Número de chutes: 0<br />",
           "Proporção de chutes (em %): 0.00<br />Número de chutes: 0<br />",
           "Proporção de chutes (em %): 0.00<br />Número de chutes: 0<br />",
           "Proporção de chutes (em %): 0.00<br />Número de chutes: 0<br />",
           "Proporção de chutes (em %): 0.00<br />Número de chutes: 0<br />",
           "Proporção de chutes (em %): 0.00<br />Número de chutes: 0<br />",
           "Proporção de chutes (em %): 0.00<br />Número de chutes: 0<br />",
           "Proporção de chutes (em %): 0.00<br />Número de chutes: 0<br />",
           "Proporção de chutes (em %): 0.00<br />Número de chutes: 0<br />",
           "Proporção de chutes (em %): 0.00<br />Número de chutes: 0<br />",
           "Proporção de chutes (em %): 0.00<br />Número de chutes: 0<br />",
           "Proporção de chutes (em %): 0.00<br />Número de chutes: 0<br />",
           "Proporção de chutes (em %): 0.00<br />Número de chutes: 0<br />",
           "Proporção de chutes (em %): 0.00<br />Número de chutes: 0<br />",
           "Proporção de chutes (em %): 0.00<br />Número de chutes: 0<br />",
           "Proporção de chutes (em %): 0.00<br />Número de chutes: 0<br />",
           "Proporção de chutes (em %): 0.00<br />Número de chutes: 0<br />",
           "Proporção de chutes (em %): 0.00<br />Número de chutes: 0<br />",
           "Proporção de chutes (em %): 0.00<br />Número de chutes: 0<br />",
           "Proporção de chutes (em %): 0.00<br />Número de chutes: 0<br />",
           "Proporção de chutes (em %): 0.00<br />Número de chutes: 0<br />"
          ],
          [
           "Proporção de chutes (em %): 0.00<br />Número de chutes: 0<br />",
           "Proporção de chutes (em %): 0.00<br />Número de chutes: 0<br />",
           "Proporção de chutes (em %): 0.00<br />Número de chutes: 0<br />",
           "Proporção de chutes (em %): 0.00<br />Número de chutes: 0<br />",
           "Proporção de chutes (em %): 0.00<br />Número de chutes: 0<br />",
           "Proporção de chutes (em %): 0.00<br />Número de chutes: 0<br />",
           "Proporção de chutes (em %): 4.55<br />Número de chutes: 1<br />",
           "Proporção de chutes (em %): 0.00<br />Número de chutes: 0<br />",
           "Proporção de chutes (em %): 4.55<br />Número de chutes: 1<br />",
           "Proporção de chutes (em %): 0.00<br />Número de chutes: 0<br />",
           "Proporção de chutes (em %): 0.00<br />Número de chutes: 0<br />",
           "Proporção de chutes (em %): 0.00<br />Número de chutes: 0<br />",
           "Proporção de chutes (em %): 0.00<br />Número de chutes: 0<br />",
           "Proporção de chutes (em %): 0.00<br />Número de chutes: 0<br />",
           "Proporção de chutes (em %): 0.00<br />Número de chutes: 0<br />",
           "Proporção de chutes (em %): 0.00<br />Número de chutes: 0<br />",
           "Proporção de chutes (em %): 0.00<br />Número de chutes: 0<br />",
           "Proporção de chutes (em %): 0.00<br />Número de chutes: 0<br />",
           "Proporção de chutes (em %): 0.00<br />Número de chutes: 0<br />",
           "Proporção de chutes (em %): 0.00<br />Número de chutes: 0<br />",
           "Proporção de chutes (em %): 0.00<br />Número de chutes: 0<br />",
           "Proporção de chutes (em %): 0.00<br />Número de chutes: 0<br />",
           "Proporção de chutes (em %): 0.00<br />Número de chutes: 0<br />",
           "Proporção de chutes (em %): 0.00<br />Número de chutes: 0<br />"
          ],
          [
           "Proporção de chutes (em %): 0.00<br />Número de chutes: 0<br />",
           "Proporção de chutes (em %): 0.00<br />Número de chutes: 0<br />",
           "Proporção de chutes (em %): 0.00<br />Número de chutes: 0<br />",
           "Proporção de chutes (em %): 0.00<br />Número de chutes: 0<br />",
           "Proporção de chutes (em %): 0.00<br />Número de chutes: 0<br />",
           "Proporção de chutes (em %): 0.00<br />Número de chutes: 0<br />",
           "Proporção de chutes (em %): 0.00<br />Número de chutes: 0<br />",
           "Proporção de chutes (em %): 0.00<br />Número de chutes: 0<br />",
           "Proporção de chutes (em %): 4.55<br />Número de chutes: 1<br />",
           "Proporção de chutes (em %): 0.00<br />Número de chutes: 0<br />",
           "Proporção de chutes (em %): 0.00<br />Número de chutes: 0<br />",
           "Proporção de chutes (em %): 0.00<br />Número de chutes: 0<br />",
           "Proporção de chutes (em %): 0.00<br />Número de chutes: 0<br />",
           "Proporção de chutes (em %): 0.00<br />Número de chutes: 0<br />",
           "Proporção de chutes (em %): 0.00<br />Número de chutes: 0<br />",
           "Proporção de chutes (em %): 0.00<br />Número de chutes: 0<br />",
           "Proporção de chutes (em %): 0.00<br />Número de chutes: 0<br />",
           "Proporção de chutes (em %): 0.00<br />Número de chutes: 0<br />",
           "Proporção de chutes (em %): 0.00<br />Número de chutes: 0<br />",
           "Proporção de chutes (em %): 0.00<br />Número de chutes: 0<br />",
           "Proporção de chutes (em %): 0.00<br />Número de chutes: 0<br />",
           "Proporção de chutes (em %): 0.00<br />Número de chutes: 0<br />",
           "Proporção de chutes (em %): 0.00<br />Número de chutes: 0<br />",
           "Proporção de chutes (em %): 0.00<br />Número de chutes: 0<br />"
          ],
          [
           "Proporção de chutes (em %): 0.00<br />Número de chutes: 0<br />",
           "Proporção de chutes (em %): 0.00<br />Número de chutes: 0<br />",
           "Proporção de chutes (em %): 0.00<br />Número de chutes: 0<br />",
           "Proporção de chutes (em %): 0.00<br />Número de chutes: 0<br />",
           "Proporção de chutes (em %): 0.00<br />Número de chutes: 0<br />",
           "Proporção de chutes (em %): 0.00<br />Número de chutes: 0<br />",
           "Proporção de chutes (em %): 0.00<br />Número de chutes: 0<br />",
           "Proporção de chutes (em %): 0.00<br />Número de chutes: 0<br />",
           "Proporção de chutes (em %): 0.00<br />Número de chutes: 0<br />",
           "Proporção de chutes (em %): 0.00<br />Número de chutes: 0<br />",
           "Proporção de chutes (em %): 0.00<br />Número de chutes: 0<br />",
           "Proporção de chutes (em %): 0.00<br />Número de chutes: 0<br />",
           "Proporção de chutes (em %): 0.00<br />Número de chutes: 0<br />",
           "Proporção de chutes (em %): 0.00<br />Número de chutes: 0<br />",
           "Proporção de chutes (em %): 0.00<br />Número de chutes: 0<br />",
           "Proporção de chutes (em %): 0.00<br />Número de chutes: 0<br />",
           "Proporção de chutes (em %): 0.00<br />Número de chutes: 0<br />",
           "Proporção de chutes (em %): 0.00<br />Número de chutes: 0<br />",
           "Proporção de chutes (em %): 0.00<br />Número de chutes: 0<br />",
           "Proporção de chutes (em %): 0.00<br />Número de chutes: 0<br />",
           "Proporção de chutes (em %): 0.00<br />Número de chutes: 0<br />",
           "Proporção de chutes (em %): 0.00<br />Número de chutes: 0<br />",
           "Proporção de chutes (em %): 0.00<br />Número de chutes: 0<br />",
           "Proporção de chutes (em %): 0.00<br />Número de chutes: 0<br />"
          ],
          [
           "Proporção de chutes (em %): 0.00<br />Número de chutes: 0<br />",
           "Proporção de chutes (em %): 0.00<br />Número de chutes: 0<br />",
           "Proporção de chutes (em %): 0.00<br />Número de chutes: 0<br />",
           "Proporção de chutes (em %): 0.00<br />Número de chutes: 0<br />",
           "Proporção de chutes (em %): 0.00<br />Número de chutes: 0<br />",
           "Proporção de chutes (em %): 0.00<br />Número de chutes: 0<br />",
           "Proporção de chutes (em %): 0.00<br />Número de chutes: 0<br />",
           "Proporção de chutes (em %): 0.00<br />Número de chutes: 0<br />",
           "Proporção de chutes (em %): 0.00<br />Número de chutes: 0<br />",
           "Proporção de chutes (em %): 0.00<br />Número de chutes: 0<br />",
           "Proporção de chutes (em %): 0.00<br />Número de chutes: 0<br />",
           "Proporção de chutes (em %): 4.55<br />Número de chutes: 1<br />",
           "Proporção de chutes (em %): 0.00<br />Número de chutes: 0<br />",
           "Proporção de chutes (em %): 0.00<br />Número de chutes: 0<br />",
           "Proporção de chutes (em %): 0.00<br />Número de chutes: 0<br />",
           "Proporção de chutes (em %): 0.00<br />Número de chutes: 0<br />",
           "Proporção de chutes (em %): 0.00<br />Número de chutes: 0<br />",
           "Proporção de chutes (em %): 0.00<br />Número de chutes: 0<br />",
           "Proporção de chutes (em %): 0.00<br />Número de chutes: 0<br />",
           "Proporção de chutes (em %): 0.00<br />Número de chutes: 0<br />",
           "Proporção de chutes (em %): 0.00<br />Número de chutes: 0<br />",
           "Proporção de chutes (em %): 0.00<br />Número de chutes: 0<br />",
           "Proporção de chutes (em %): 0.00<br />Número de chutes: 0<br />",
           "Proporção de chutes (em %): 0.00<br />Número de chutes: 0<br />"
          ],
          [
           "Proporção de chutes (em %): 0.00<br />Número de chutes: 0<br />",
           "Proporção de chutes (em %): 0.00<br />Número de chutes: 0<br />",
           "Proporção de chutes (em %): 0.00<br />Número de chutes: 0<br />",
           "Proporção de chutes (em %): 0.00<br />Número de chutes: 0<br />",
           "Proporção de chutes (em %): 0.00<br />Número de chutes: 0<br />",
           "Proporção de chutes (em %): 0.00<br />Número de chutes: 0<br />",
           "Proporção de chutes (em %): 0.00<br />Número de chutes: 0<br />",
           "Proporção de chutes (em %): 0.00<br />Número de chutes: 0<br />",
           "Proporção de chutes (em %): 0.00<br />Número de chutes: 0<br />",
           "Proporção de chutes (em %): 0.00<br />Número de chutes: 0<br />",
           "Proporção de chutes (em %): 0.00<br />Número de chutes: 0<br />",
           "Proporção de chutes (em %): 4.55<br />Número de chutes: 1<br />",
           "Proporção de chutes (em %): 0.00<br />Número de chutes: 0<br />",
           "Proporção de chutes (em %): 0.00<br />Número de chutes: 0<br />",
           "Proporção de chutes (em %): 0.00<br />Número de chutes: 0<br />",
           "Proporção de chutes (em %): 0.00<br />Número de chutes: 0<br />",
           "Proporção de chutes (em %): 0.00<br />Número de chutes: 0<br />",
           "Proporção de chutes (em %): 0.00<br />Número de chutes: 0<br />",
           "Proporção de chutes (em %): 0.00<br />Número de chutes: 0<br />",
           "Proporção de chutes (em %): 0.00<br />Número de chutes: 0<br />",
           "Proporção de chutes (em %): 0.00<br />Número de chutes: 0<br />",
           "Proporção de chutes (em %): 0.00<br />Número de chutes: 0<br />",
           "Proporção de chutes (em %): 0.00<br />Número de chutes: 0<br />",
           "Proporção de chutes (em %): 0.00<br />Número de chutes: 0<br />"
          ],
          [
           "Proporção de chutes (em %): 0.00<br />Número de chutes: 0<br />",
           "Proporção de chutes (em %): 0.00<br />Número de chutes: 0<br />",
           "Proporção de chutes (em %): 0.00<br />Número de chutes: 0<br />",
           "Proporção de chutes (em %): 0.00<br />Número de chutes: 0<br />",
           "Proporção de chutes (em %): 0.00<br />Número de chutes: 0<br />",
           "Proporção de chutes (em %): 0.00<br />Número de chutes: 0<br />",
           "Proporção de chutes (em %): 0.00<br />Número de chutes: 0<br />",
           "Proporção de chutes (em %): 0.00<br />Número de chutes: 0<br />",
           "Proporção de chutes (em %): 0.00<br />Número de chutes: 0<br />",
           "Proporção de chutes (em %): 0.00<br />Número de chutes: 0<br />",
           "Proporção de chutes (em %): 0.00<br />Número de chutes: 0<br />",
           "Proporção de chutes (em %): 0.00<br />Número de chutes: 0<br />",
           "Proporção de chutes (em %): 0.00<br />Número de chutes: 0<br />",
           "Proporção de chutes (em %): 4.55<br />Número de chutes: 1<br />",
           "Proporção de chutes (em %): 0.00<br />Número de chutes: 0<br />",
           "Proporção de chutes (em %): 0.00<br />Número de chutes: 0<br />",
           "Proporção de chutes (em %): 0.00<br />Número de chutes: 0<br />",
           "Proporção de chutes (em %): 0.00<br />Número de chutes: 0<br />",
           "Proporção de chutes (em %): 0.00<br />Número de chutes: 0<br />",
           "Proporção de chutes (em %): 0.00<br />Número de chutes: 0<br />",
           "Proporção de chutes (em %): 0.00<br />Número de chutes: 0<br />",
           "Proporção de chutes (em %): 0.00<br />Número de chutes: 0<br />",
           "Proporção de chutes (em %): 0.00<br />Número de chutes: 0<br />",
           "Proporção de chutes (em %): 0.00<br />Número de chutes: 0<br />"
          ],
          [
           "Proporção de chutes (em %): 0.00<br />Número de chutes: 0<br />",
           "Proporção de chutes (em %): 0.00<br />Número de chutes: 0<br />",
           "Proporção de chutes (em %): 0.00<br />Número de chutes: 0<br />",
           "Proporção de chutes (em %): 0.00<br />Número de chutes: 0<br />",
           "Proporção de chutes (em %): 0.00<br />Número de chutes: 0<br />",
           "Proporção de chutes (em %): 0.00<br />Número de chutes: 0<br />",
           "Proporção de chutes (em %): 0.00<br />Número de chutes: 0<br />",
           "Proporção de chutes (em %): 0.00<br />Número de chutes: 0<br />",
           "Proporção de chutes (em %): 0.00<br />Número de chutes: 0<br />",
           "Proporção de chutes (em %): 0.00<br />Número de chutes: 0<br />",
           "Proporção de chutes (em %): 0.00<br />Número de chutes: 0<br />",
           "Proporção de chutes (em %): 0.00<br />Número de chutes: 0<br />",
           "Proporção de chutes (em %): 0.00<br />Número de chutes: 0<br />",
           "Proporção de chutes (em %): 0.00<br />Número de chutes: 0<br />",
           "Proporção de chutes (em %): 0.00<br />Número de chutes: 0<br />",
           "Proporção de chutes (em %): 0.00<br />Número de chutes: 0<br />",
           "Proporção de chutes (em %): 0.00<br />Número de chutes: 0<br />",
           "Proporção de chutes (em %): 0.00<br />Número de chutes: 0<br />",
           "Proporção de chutes (em %): 0.00<br />Número de chutes: 0<br />",
           "Proporção de chutes (em %): 0.00<br />Número de chutes: 0<br />",
           "Proporção de chutes (em %): 0.00<br />Número de chutes: 0<br />",
           "Proporção de chutes (em %): 0.00<br />Número de chutes: 0<br />",
           "Proporção de chutes (em %): 0.00<br />Número de chutes: 0<br />",
           "Proporção de chutes (em %): 0.00<br />Número de chutes: 0<br />"
          ],
          [
           "Proporção de chutes (em %): 0.00<br />Número de chutes: 0<br />",
           "Proporção de chutes (em %): 0.00<br />Número de chutes: 0<br />",
           "Proporção de chutes (em %): 0.00<br />Número de chutes: 0<br />",
           "Proporção de chutes (em %): 0.00<br />Número de chutes: 0<br />",
           "Proporção de chutes (em %): 0.00<br />Número de chutes: 0<br />",
           "Proporção de chutes (em %): 0.00<br />Número de chutes: 0<br />",
           "Proporção de chutes (em %): 0.00<br />Número de chutes: 0<br />",
           "Proporção de chutes (em %): 0.00<br />Número de chutes: 0<br />",
           "Proporção de chutes (em %): 0.00<br />Número de chutes: 0<br />",
           "Proporção de chutes (em %): 0.00<br />Número de chutes: 0<br />",
           "Proporção de chutes (em %): 0.00<br />Número de chutes: 0<br />",
           "Proporção de chutes (em %): 0.00<br />Número de chutes: 0<br />",
           "Proporção de chutes (em %): 0.00<br />Número de chutes: 0<br />",
           "Proporção de chutes (em %): 0.00<br />Número de chutes: 0<br />",
           "Proporção de chutes (em %): 0.00<br />Número de chutes: 0<br />",
           "Proporção de chutes (em %): 0.00<br />Número de chutes: 0<br />",
           "Proporção de chutes (em %): 0.00<br />Número de chutes: 0<br />",
           "Proporção de chutes (em %): 0.00<br />Número de chutes: 0<br />",
           "Proporção de chutes (em %): 0.00<br />Número de chutes: 0<br />",
           "Proporção de chutes (em %): 0.00<br />Número de chutes: 0<br />",
           "Proporção de chutes (em %): 0.00<br />Número de chutes: 0<br />",
           "Proporção de chutes (em %): 0.00<br />Número de chutes: 0<br />",
           "Proporção de chutes (em %): 4.55<br />Número de chutes: 1<br />",
           "Proporção de chutes (em %): 9.09<br />Número de chutes: 2<br />"
          ],
          [
           "Proporção de chutes (em %): 0.00<br />Número de chutes: 0<br />",
           "Proporção de chutes (em %): 0.00<br />Número de chutes: 0<br />",
           "Proporção de chutes (em %): 0.00<br />Número de chutes: 0<br />",
           "Proporção de chutes (em %): 0.00<br />Número de chutes: 0<br />",
           "Proporção de chutes (em %): 0.00<br />Número de chutes: 0<br />",
           "Proporção de chutes (em %): 0.00<br />Número de chutes: 0<br />",
           "Proporção de chutes (em %): 0.00<br />Número de chutes: 0<br />",
           "Proporção de chutes (em %): 0.00<br />Número de chutes: 0<br />",
           "Proporção de chutes (em %): 0.00<br />Número de chutes: 0<br />",
           "Proporção de chutes (em %): 4.55<br />Número de chutes: 1<br />",
           "Proporção de chutes (em %): 0.00<br />Número de chutes: 0<br />",
           "Proporção de chutes (em %): 0.00<br />Número de chutes: 0<br />",
           "Proporção de chutes (em %): 0.00<br />Número de chutes: 0<br />",
           "Proporção de chutes (em %): 0.00<br />Número de chutes: 0<br />",
           "Proporção de chutes (em %): 0.00<br />Número de chutes: 0<br />",
           "Proporção de chutes (em %): 0.00<br />Número de chutes: 0<br />",
           "Proporção de chutes (em %): 0.00<br />Número de chutes: 0<br />",
           "Proporção de chutes (em %): 0.00<br />Número de chutes: 0<br />",
           "Proporção de chutes (em %): 0.00<br />Número de chutes: 0<br />",
           "Proporção de chutes (em %): 0.00<br />Número de chutes: 0<br />",
           "Proporção de chutes (em %): 0.00<br />Número de chutes: 0<br />",
           "Proporção de chutes (em %): 0.00<br />Número de chutes: 0<br />",
           "Proporção de chutes (em %): 0.00<br />Número de chutes: 0<br />",
           "Proporção de chutes (em %): 0.00<br />Número de chutes: 0<br />"
          ],
          [
           "Proporção de chutes (em %): 0.00<br />Número de chutes: 0<br />",
           "Proporção de chutes (em %): 0.00<br />Número de chutes: 0<br />",
           "Proporção de chutes (em %): 0.00<br />Número de chutes: 0<br />",
           "Proporção de chutes (em %): 0.00<br />Número de chutes: 0<br />",
           "Proporção de chutes (em %): 0.00<br />Número de chutes: 0<br />",
           "Proporção de chutes (em %): 0.00<br />Número de chutes: 0<br />",
           "Proporção de chutes (em %): 0.00<br />Número de chutes: 0<br />",
           "Proporção de chutes (em %): 0.00<br />Número de chutes: 0<br />",
           "Proporção de chutes (em %): 0.00<br />Número de chutes: 0<br />",
           "Proporção de chutes (em %): 0.00<br />Número de chutes: 0<br />",
           "Proporção de chutes (em %): 0.00<br />Número de chutes: 0<br />",
           "Proporção de chutes (em %): 0.00<br />Número de chutes: 0<br />",
           "Proporção de chutes (em %): 0.00<br />Número de chutes: 0<br />",
           "Proporção de chutes (em %): 0.00<br />Número de chutes: 0<br />",
           "Proporção de chutes (em %): 0.00<br />Número de chutes: 0<br />",
           "Proporção de chutes (em %): 0.00<br />Número de chutes: 0<br />",
           "Proporção de chutes (em %): 0.00<br />Número de chutes: 0<br />",
           "Proporção de chutes (em %): 0.00<br />Número de chutes: 0<br />",
           "Proporção de chutes (em %): 0.00<br />Número de chutes: 0<br />",
           "Proporção de chutes (em %): 0.00<br />Número de chutes: 0<br />",
           "Proporção de chutes (em %): 0.00<br />Número de chutes: 0<br />",
           "Proporção de chutes (em %): 0.00<br />Número de chutes: 0<br />",
           "Proporção de chutes (em %): 0.00<br />Número de chutes: 0<br />",
           "Proporção de chutes (em %): 0.00<br />Número de chutes: 0<br />"
          ],
          [
           "Proporção de chutes (em %): 0.00<br />Número de chutes: 0<br />",
           "Proporção de chutes (em %): 0.00<br />Número de chutes: 0<br />",
           "Proporção de chutes (em %): 0.00<br />Número de chutes: 0<br />",
           "Proporção de chutes (em %): 0.00<br />Número de chutes: 0<br />",
           "Proporção de chutes (em %): 0.00<br />Número de chutes: 0<br />",
           "Proporção de chutes (em %): 0.00<br />Número de chutes: 0<br />",
           "Proporção de chutes (em %): 0.00<br />Número de chutes: 0<br />",
           "Proporção de chutes (em %): 0.00<br />Número de chutes: 0<br />",
           "Proporção de chutes (em %): 0.00<br />Número de chutes: 0<br />",
           "Proporção de chutes (em %): 0.00<br />Número de chutes: 0<br />",
           "Proporção de chutes (em %): 0.00<br />Número de chutes: 0<br />",
           "Proporção de chutes (em %): 0.00<br />Número de chutes: 0<br />",
           "Proporção de chutes (em %): 0.00<br />Número de chutes: 0<br />",
           "Proporção de chutes (em %): 0.00<br />Número de chutes: 0<br />",
           "Proporção de chutes (em %): 0.00<br />Número de chutes: 0<br />",
           "Proporção de chutes (em %): 0.00<br />Número de chutes: 0<br />",
           "Proporção de chutes (em %): 0.00<br />Número de chutes: 0<br />",
           "Proporção de chutes (em %): 0.00<br />Número de chutes: 0<br />",
           "Proporção de chutes (em %): 0.00<br />Número de chutes: 0<br />",
           "Proporção de chutes (em %): 0.00<br />Número de chutes: 0<br />",
           "Proporção de chutes (em %): 0.00<br />Número de chutes: 0<br />",
           "Proporção de chutes (em %): 0.00<br />Número de chutes: 0<br />",
           "Proporção de chutes (em %): 0.00<br />Número de chutes: 0<br />",
           "Proporção de chutes (em %): 0.00<br />Número de chutes: 0<br />"
          ],
          [
           "Proporção de chutes (em %): 0.00<br />Número de chutes: 0<br />",
           "Proporção de chutes (em %): 0.00<br />Número de chutes: 0<br />",
           "Proporção de chutes (em %): 0.00<br />Número de chutes: 0<br />",
           "Proporção de chutes (em %): 0.00<br />Número de chutes: 0<br />",
           "Proporção de chutes (em %): 0.00<br />Número de chutes: 0<br />",
           "Proporção de chutes (em %): 0.00<br />Número de chutes: 0<br />",
           "Proporção de chutes (em %): 0.00<br />Número de chutes: 0<br />",
           "Proporção de chutes (em %): 0.00<br />Número de chutes: 0<br />",
           "Proporção de chutes (em %): 0.00<br />Número de chutes: 0<br />",
           "Proporção de chutes (em %): 4.55<br />Número de chutes: 1<br />",
           "Proporção de chutes (em %): 0.00<br />Número de chutes: 0<br />",
           "Proporção de chutes (em %): 0.00<br />Número de chutes: 0<br />",
           "Proporção de chutes (em %): 0.00<br />Número de chutes: 0<br />",
           "Proporção de chutes (em %): 0.00<br />Número de chutes: 0<br />",
           "Proporção de chutes (em %): 0.00<br />Número de chutes: 0<br />",
           "Proporção de chutes (em %): 0.00<br />Número de chutes: 0<br />",
           "Proporção de chutes (em %): 0.00<br />Número de chutes: 0<br />",
           "Proporção de chutes (em %): 0.00<br />Número de chutes: 0<br />",
           "Proporção de chutes (em %): 0.00<br />Número de chutes: 0<br />",
           "Proporção de chutes (em %): 0.00<br />Número de chutes: 0<br />",
           "Proporção de chutes (em %): 0.00<br />Número de chutes: 0<br />",
           "Proporção de chutes (em %): 0.00<br />Número de chutes: 0<br />",
           "Proporção de chutes (em %): 0.00<br />Número de chutes: 0<br />",
           "Proporção de chutes (em %): 0.00<br />Número de chutes: 0<br />"
          ],
          [
           "Proporção de chutes (em %): 0.00<br />Número de chutes: 0<br />",
           "Proporção de chutes (em %): 0.00<br />Número de chutes: 0<br />",
           "Proporção de chutes (em %): 0.00<br />Número de chutes: 0<br />",
           "Proporção de chutes (em %): 0.00<br />Número de chutes: 0<br />",
           "Proporção de chutes (em %): 0.00<br />Número de chutes: 0<br />",
           "Proporção de chutes (em %): 4.55<br />Número de chutes: 1<br />",
           "Proporção de chutes (em %): 0.00<br />Número de chutes: 0<br />",
           "Proporção de chutes (em %): 0.00<br />Número de chutes: 0<br />",
           "Proporção de chutes (em %): 0.00<br />Número de chutes: 0<br />",
           "Proporção de chutes (em %): 0.00<br />Número de chutes: 0<br />",
           "Proporção de chutes (em %): 0.00<br />Número de chutes: 0<br />",
           "Proporção de chutes (em %): 0.00<br />Número de chutes: 0<br />",
           "Proporção de chutes (em %): 0.00<br />Número de chutes: 0<br />",
           "Proporção de chutes (em %): 0.00<br />Número de chutes: 0<br />",
           "Proporção de chutes (em %): 0.00<br />Número de chutes: 0<br />",
           "Proporção de chutes (em %): 0.00<br />Número de chutes: 0<br />",
           "Proporção de chutes (em %): 0.00<br />Número de chutes: 0<br />",
           "Proporção de chutes (em %): 0.00<br />Número de chutes: 0<br />",
           "Proporção de chutes (em %): 0.00<br />Número de chutes: 0<br />",
           "Proporção de chutes (em %): 0.00<br />Número de chutes: 0<br />",
           "Proporção de chutes (em %): 0.00<br />Número de chutes: 0<br />",
           "Proporção de chutes (em %): 0.00<br />Número de chutes: 0<br />",
           "Proporção de chutes (em %): 0.00<br />Número de chutes: 0<br />",
           "Proporção de chutes (em %): 0.00<br />Número de chutes: 0<br />"
          ],
          [
           "Proporção de chutes (em %): 0.00<br />Número de chutes: 0<br />",
           "Proporção de chutes (em %): 4.55<br />Número de chutes: 1<br />",
           "Proporção de chutes (em %): 9.09<br />Número de chutes: 2<br />",
           "Proporção de chutes (em %): 4.55<br />Número de chutes: 1<br />",
           "Proporção de chutes (em %): 0.00<br />Número de chutes: 0<br />",
           "Proporção de chutes (em %): 4.55<br />Número de chutes: 1<br />",
           "Proporção de chutes (em %): 4.55<br />Número de chutes: 1<br />",
           "Proporção de chutes (em %): 0.00<br />Número de chutes: 0<br />",
           "Proporção de chutes (em %): 0.00<br />Número de chutes: 0<br />",
           "Proporção de chutes (em %): 0.00<br />Número de chutes: 0<br />",
           "Proporção de chutes (em %): 0.00<br />Número de chutes: 0<br />",
           "Proporção de chutes (em %): 0.00<br />Número de chutes: 0<br />",
           "Proporção de chutes (em %): 0.00<br />Número de chutes: 0<br />",
           "Proporção de chutes (em %): 0.00<br />Número de chutes: 0<br />",
           "Proporção de chutes (em %): 0.00<br />Número de chutes: 0<br />",
           "Proporção de chutes (em %): 0.00<br />Número de chutes: 0<br />",
           "Proporção de chutes (em %): 0.00<br />Número de chutes: 0<br />",
           "Proporção de chutes (em %): 0.00<br />Número de chutes: 0<br />",
           "Proporção de chutes (em %): 0.00<br />Número de chutes: 0<br />",
           "Proporção de chutes (em %): 0.00<br />Número de chutes: 0<br />",
           "Proporção de chutes (em %): 0.00<br />Número de chutes: 0<br />",
           "Proporção de chutes (em %): 0.00<br />Número de chutes: 0<br />",
           "Proporção de chutes (em %): 0.00<br />Número de chutes: 0<br />",
           "Proporção de chutes (em %): 0.00<br />Número de chutes: 0<br />"
          ],
          [
           "Proporção de chutes (em %): 0.00<br />Número de chutes: 0<br />",
           "Proporção de chutes (em %): 4.55<br />Número de chutes: 1<br />",
           "Proporção de chutes (em %): 0.00<br />Número de chutes: 0<br />",
           "Proporção de chutes (em %): 0.00<br />Número de chutes: 0<br />",
           "Proporção de chutes (em %): 0.00<br />Número de chutes: 0<br />",
           "Proporção de chutes (em %): 0.00<br />Número de chutes: 0<br />",
           "Proporção de chutes (em %): 0.00<br />Número de chutes: 0<br />",
           "Proporção de chutes (em %): 0.00<br />Número de chutes: 0<br />",
           "Proporção de chutes (em %): 0.00<br />Número de chutes: 0<br />",
           "Proporção de chutes (em %): 0.00<br />Número de chutes: 0<br />",
           "Proporção de chutes (em %): 0.00<br />Número de chutes: 0<br />",
           "Proporção de chutes (em %): 0.00<br />Número de chutes: 0<br />",
           "Proporção de chutes (em %): 0.00<br />Número de chutes: 0<br />",
           "Proporção de chutes (em %): 0.00<br />Número de chutes: 0<br />",
           "Proporção de chutes (em %): 0.00<br />Número de chutes: 0<br />",
           "Proporção de chutes (em %): 0.00<br />Número de chutes: 0<br />",
           "Proporção de chutes (em %): 0.00<br />Número de chutes: 0<br />",
           "Proporção de chutes (em %): 0.00<br />Número de chutes: 0<br />",
           "Proporção de chutes (em %): 0.00<br />Número de chutes: 0<br />",
           "Proporção de chutes (em %): 0.00<br />Número de chutes: 0<br />",
           "Proporção de chutes (em %): 0.00<br />Número de chutes: 0<br />",
           "Proporção de chutes (em %): 0.00<br />Número de chutes: 0<br />",
           "Proporção de chutes (em %): 0.00<br />Número de chutes: 0<br />",
           "Proporção de chutes (em %): 0.00<br />Número de chutes: 0<br />"
          ],
          [
           "Proporção de chutes (em %): 0.00<br />Número de chutes: 0<br />",
           "Proporção de chutes (em %): 0.00<br />Número de chutes: 0<br />",
           "Proporção de chutes (em %): 0.00<br />Número de chutes: 0<br />",
           "Proporção de chutes (em %): 0.00<br />Número de chutes: 0<br />",
           "Proporção de chutes (em %): 0.00<br />Número de chutes: 0<br />",
           "Proporção de chutes (em %): 0.00<br />Número de chutes: 0<br />",
           "Proporção de chutes (em %): 0.00<br />Número de chutes: 0<br />",
           "Proporção de chutes (em %): 0.00<br />Número de chutes: 0<br />",
           "Proporção de chutes (em %): 0.00<br />Número de chutes: 0<br />",
           "Proporção de chutes (em %): 0.00<br />Número de chutes: 0<br />",
           "Proporção de chutes (em %): 4.55<br />Número de chutes: 1<br />",
           "Proporção de chutes (em %): 0.00<br />Número de chutes: 0<br />",
           "Proporção de chutes (em %): 0.00<br />Número de chutes: 0<br />",
           "Proporção de chutes (em %): 0.00<br />Número de chutes: 0<br />",
           "Proporção de chutes (em %): 0.00<br />Número de chutes: 0<br />",
           "Proporção de chutes (em %): 0.00<br />Número de chutes: 0<br />",
           "Proporção de chutes (em %): 0.00<br />Número de chutes: 0<br />",
           "Proporção de chutes (em %): 0.00<br />Número de chutes: 0<br />",
           "Proporção de chutes (em %): 0.00<br />Número de chutes: 0<br />",
           "Proporção de chutes (em %): 0.00<br />Número de chutes: 0<br />",
           "Proporção de chutes (em %): 0.00<br />Número de chutes: 0<br />",
           "Proporção de chutes (em %): 0.00<br />Número de chutes: 0<br />",
           "Proporção de chutes (em %): 0.00<br />Número de chutes: 0<br />",
           "Proporção de chutes (em %): 0.00<br />Número de chutes: 0<br />"
          ]
         ],
         "type": "heatmap",
         "x": [
          2.1875,
          6.5625,
          10.9375,
          15.3125,
          19.6875,
          24.0625,
          28.4375,
          32.8125,
          37.1875,
          41.5625,
          45.9375,
          50.3125,
          54.6875,
          59.0625,
          63.4375,
          67.8125,
          72.1875,
          76.5625,
          80.9375,
          85.3125,
          89.6875,
          94.0625,
          98.4375,
          102.8125
         ],
         "y": [
          66,
          62,
          58,
          54,
          50,
          46,
          42,
          38,
          34,
          30,
          26,
          22,
          18,
          14,
          10,
          6,
          2
         ],
         "z": [
          [
           0,
           9.090909090909092,
           0,
           0,
           0,
           0,
           0,
           0,
           0,
           0,
           0,
           0,
           0,
           0,
           0,
           0,
           0,
           0,
           0,
           0,
           0,
           0,
           0,
           0
          ],
          [
           0,
           0,
           0,
           0,
           0,
           0,
           4.545454545454546,
           0,
           4.545454545454546,
           0,
           0,
           0,
           0,
           0,
           0,
           0,
           0,
           0,
           0,
           0,
           0,
           0,
           0,
           0
          ],
          [
           0,
           0,
           0,
           0,
           0,
           0,
           0,
           0,
           4.545454545454546,
           0,
           0,
           0,
           0,
           0,
           0,
           0,
           0,
           0,
           0,
           0,
           0,
           0,
           0,
           0
          ],
          [
           0,
           0,
           0,
           0,
           0,
           0,
           0,
           0,
           0,
           0,
           0,
           0,
           0,
           0,
           0,
           0,
           0,
           0,
           0,
           0,
           0,
           0,
           0,
           0
          ],
          [
           0,
           0,
           0,
           0,
           0,
           0,
           0,
           0,
           0,
           0,
           0,
           4.545454545454546,
           0,
           0,
           0,
           0,
           0,
           0,
           0,
           0,
           0,
           0,
           0,
           0
          ],
          [
           0,
           0,
           0,
           0,
           0,
           0,
           0,
           0,
           0,
           0,
           0,
           4.545454545454546,
           0,
           0,
           0,
           0,
           0,
           0,
           0,
           0,
           0,
           0,
           0,
           0
          ],
          [
           0,
           0,
           0,
           0,
           0,
           0,
           0,
           0,
           0,
           0,
           0,
           0,
           0,
           4.545454545454546,
           0,
           0,
           0,
           0,
           0,
           0,
           0,
           0,
           0,
           0
          ],
          [
           0,
           0,
           0,
           0,
           0,
           0,
           0,
           0,
           0,
           0,
           0,
           0,
           0,
           0,
           0,
           0,
           0,
           0,
           0,
           0,
           0,
           0,
           0,
           0
          ],
          [
           0,
           0,
           0,
           0,
           0,
           0,
           0,
           0,
           0,
           0,
           0,
           0,
           0,
           0,
           0,
           0,
           0,
           0,
           0,
           0,
           0,
           0,
           4.545454545454546,
           9.090909090909092
          ],
          [
           0,
           0,
           0,
           0,
           0,
           0,
           0,
           0,
           0,
           4.545454545454546,
           0,
           0,
           0,
           0,
           0,
           0,
           0,
           0,
           0,
           0,
           0,
           0,
           0,
           0
          ],
          [
           0,
           0,
           0,
           0,
           0,
           0,
           0,
           0,
           0,
           0,
           0,
           0,
           0,
           0,
           0,
           0,
           0,
           0,
           0,
           0,
           0,
           0,
           0,
           0
          ],
          [
           0,
           0,
           0,
           0,
           0,
           0,
           0,
           0,
           0,
           0,
           0,
           0,
           0,
           0,
           0,
           0,
           0,
           0,
           0,
           0,
           0,
           0,
           0,
           0
          ],
          [
           0,
           0,
           0,
           0,
           0,
           0,
           0,
           0,
           0,
           4.545454545454546,
           0,
           0,
           0,
           0,
           0,
           0,
           0,
           0,
           0,
           0,
           0,
           0,
           0,
           0
          ],
          [
           0,
           0,
           0,
           0,
           0,
           4.545454545454546,
           0,
           0,
           0,
           0,
           0,
           0,
           0,
           0,
           0,
           0,
           0,
           0,
           0,
           0,
           0,
           0,
           0,
           0
          ],
          [
           0,
           4.545454545454546,
           9.090909090909092,
           4.545454545454546,
           0,
           4.545454545454546,
           4.545454545454546,
           0,
           0,
           0,
           0,
           0,
           0,
           0,
           0,
           0,
           0,
           0,
           0,
           0,
           0,
           0,
           0,
           0
          ],
          [
           0,
           4.545454545454546,
           0,
           0,
           0,
           0,
           0,
           0,
           0,
           0,
           0,
           0,
           0,
           0,
           0,
           0,
           0,
           0,
           0,
           0,
           0,
           0,
           0,
           0
          ],
          [
           0,
           0,
           0,
           0,
           0,
           0,
           0,
           0,
           0,
           0,
           4.545454545454546,
           0,
           0,
           0,
           0,
           0,
           0,
           0,
           0,
           0,
           0,
           0,
           0,
           0
          ]
         ],
         "zsmooth": false
        }
       ],
       "layout": {
        "autosize": false,
        "height": 612,
        "plot_bgcolor": "white",
        "shapes": [
         {
          "line": {
           "color": "white",
           "width": 2
          },
          "type": "line",
          "x0": 52.5,
          "x1": 52.5,
          "y0": 0,
          "y1": 68
         },
         {
          "line": {
           "color": "white",
           "width": 2
          },
          "type": "line",
          "x0": 0,
          "x1": 16,
          "y0": 54.16,
          "y1": 54.16
         },
         {
          "line": {
           "color": "white",
           "width": 2
          },
          "type": "line",
          "x0": 16,
          "x1": 16,
          "y0": 54.16,
          "y1": 13.84
         },
         {
          "line": {
           "color": "white",
           "width": 2
          },
          "type": "line",
          "x0": 16,
          "x1": 0,
          "y0": 13.84,
          "y1": 13.84
         },
         {
          "line": {
           "color": "white",
           "width": 2
          },
          "type": "line",
          "x0": 0,
          "x1": 5.5,
          "y0": 24.84,
          "y1": 24.84
         },
         {
          "line": {
           "color": "white",
           "width": 2
          },
          "type": "line",
          "x0": 5.5,
          "x1": 5.5,
          "y0": 24.84,
          "y1": 43.16
         },
         {
          "line": {
           "color": "white",
           "width": 2
          },
          "type": "line",
          "x0": 5.5,
          "x1": 0,
          "y0": 43.16,
          "y1": 43.16
         },
         {
          "line": {
           "color": "white",
           "width": 2
          },
          "type": "line",
          "x0": 105,
          "x1": 89,
          "y0": 54.16,
          "y1": 54.16
         },
         {
          "line": {
           "color": "white",
           "width": 2
          },
          "type": "line",
          "x0": 89,
          "x1": 89,
          "y0": 54.16,
          "y1": 13.84
         },
         {
          "line": {
           "color": "white",
           "width": 2
          },
          "type": "line",
          "x0": 89,
          "x1": 105,
          "y0": 13.84,
          "y1": 13.84
         },
         {
          "line": {
           "color": "white",
           "width": 2
          },
          "type": "line",
          "x0": 105,
          "x1": 99.5,
          "y0": 24.84,
          "y1": 24.84
         },
         {
          "line": {
           "color": "white",
           "width": 2
          },
          "type": "line",
          "x0": 99.5,
          "x1": 99.5,
          "y0": 24.84,
          "y1": 43.16
         },
         {
          "line": {
           "color": "white",
           "width": 2
          },
          "type": "line",
          "x0": 99.5,
          "x1": 105,
          "y0": 43.16,
          "y1": 43.16
         },
         {
          "fillcolor": "white",
          "line": {
           "color": "white"
          },
          "type": "circle",
          "x0": 10.5,
          "x1": 11.5,
          "xref": "x",
          "y0": 33.5,
          "y1": 34.5,
          "yref": "y"
         },
         {
          "fillcolor": "white",
          "line": {
           "color": "white"
          },
          "type": "circle",
          "x0": 93.5,
          "x1": 94.5,
          "xref": "x",
          "y0": 33.5,
          "y1": 34.5,
          "yref": "y"
         },
         {
          "fillcolor": "white",
          "line": {
           "color": "white"
          },
          "type": "circle",
          "x0": 52,
          "x1": 53,
          "xref": "x",
          "y0": 33.5,
          "y1": 34.5,
          "yref": "y"
         },
         {
          "line": {
           "color": "white"
          },
          "type": "circle",
          "x0": 43.35,
          "x1": 61.65,
          "xref": "x",
          "y0": 24.85,
          "y1": 43.15,
          "yref": "y"
         },
         {
          "line": {
           "color": "white",
           "width": 2
          },
          "type": "line",
          "x0": 0,
          "x1": 105,
          "y0": 0,
          "y1": 0
         },
         {
          "line": {
           "color": "white",
           "width": 2
          },
          "type": "line",
          "x0": 0,
          "x1": 0,
          "y0": 0,
          "y1": 68
         },
         {
          "line": {
           "color": "white",
           "width": 2
          },
          "type": "line",
          "x0": 0,
          "x1": 105,
          "y0": 68,
          "y1": 68
         },
         {
          "line": {
           "color": "white",
           "width": 2
          },
          "type": "line",
          "x0": 105,
          "x1": 105,
          "y0": 0,
          "y1": 68
         },
         {
          "line": {
           "color": "white",
           "width": 2
          },
          "type": "line",
          "x0": 0,
          "x1": -2,
          "y0": 30.34,
          "y1": 30.34
         },
         {
          "line": {
           "color": "white",
           "width": 2
          },
          "type": "line",
          "x0": 0,
          "x1": -2,
          "y0": 37.66,
          "y1": 37.66
         },
         {
          "line": {
           "color": "white",
           "width": 2
          },
          "type": "line",
          "x0": -2,
          "x1": -2,
          "y0": 30.34,
          "y1": 37.66
         },
         {
          "line": {
           "color": "white",
           "width": 2
          },
          "type": "line",
          "x0": 105,
          "x1": 107,
          "y0": 30.34,
          "y1": 30.34
         },
         {
          "line": {
           "color": "white",
           "width": 2
          },
          "type": "line",
          "x0": 105,
          "x1": 107,
          "y0": 37.66,
          "y1": 37.66
         },
         {
          "line": {
           "color": "white",
           "width": 2
          },
          "type": "line",
          "x0": 107,
          "x1": 107,
          "y0": 30.34,
          "y1": 37.66
         }
        ],
        "template": {
         "data": {
          "bar": [
           {
            "error_x": {
             "color": "#2a3f5f"
            },
            "error_y": {
             "color": "#2a3f5f"
            },
            "marker": {
             "line": {
              "color": "#E5ECF6",
              "width": 0.5
             },
             "pattern": {
              "fillmode": "overlay",
              "size": 10,
              "solidity": 0.2
             }
            },
            "type": "bar"
           }
          ],
          "barpolar": [
           {
            "marker": {
             "line": {
              "color": "#E5ECF6",
              "width": 0.5
             },
             "pattern": {
              "fillmode": "overlay",
              "size": 10,
              "solidity": 0.2
             }
            },
            "type": "barpolar"
           }
          ],
          "carpet": [
           {
            "aaxis": {
             "endlinecolor": "#2a3f5f",
             "gridcolor": "white",
             "linecolor": "white",
             "minorgridcolor": "white",
             "startlinecolor": "#2a3f5f"
            },
            "baxis": {
             "endlinecolor": "#2a3f5f",
             "gridcolor": "white",
             "linecolor": "white",
             "minorgridcolor": "white",
             "startlinecolor": "#2a3f5f"
            },
            "type": "carpet"
           }
          ],
          "choropleth": [
           {
            "colorbar": {
             "outlinewidth": 0,
             "ticks": ""
            },
            "type": "choropleth"
           }
          ],
          "contour": [
           {
            "colorbar": {
             "outlinewidth": 0,
             "ticks": ""
            },
            "colorscale": [
             [
              0,
              "#0d0887"
             ],
             [
              0.1111111111111111,
              "#46039f"
             ],
             [
              0.2222222222222222,
              "#7201a8"
             ],
             [
              0.3333333333333333,
              "#9c179e"
             ],
             [
              0.4444444444444444,
              "#bd3786"
             ],
             [
              0.5555555555555556,
              "#d8576b"
             ],
             [
              0.6666666666666666,
              "#ed7953"
             ],
             [
              0.7777777777777778,
              "#fb9f3a"
             ],
             [
              0.8888888888888888,
              "#fdca26"
             ],
             [
              1,
              "#f0f921"
             ]
            ],
            "type": "contour"
           }
          ],
          "contourcarpet": [
           {
            "colorbar": {
             "outlinewidth": 0,
             "ticks": ""
            },
            "type": "contourcarpet"
           }
          ],
          "heatmap": [
           {
            "colorbar": {
             "outlinewidth": 0,
             "ticks": ""
            },
            "colorscale": [
             [
              0,
              "#0d0887"
             ],
             [
              0.1111111111111111,
              "#46039f"
             ],
             [
              0.2222222222222222,
              "#7201a8"
             ],
             [
              0.3333333333333333,
              "#9c179e"
             ],
             [
              0.4444444444444444,
              "#bd3786"
             ],
             [
              0.5555555555555556,
              "#d8576b"
             ],
             [
              0.6666666666666666,
              "#ed7953"
             ],
             [
              0.7777777777777778,
              "#fb9f3a"
             ],
             [
              0.8888888888888888,
              "#fdca26"
             ],
             [
              1,
              "#f0f921"
             ]
            ],
            "type": "heatmap"
           }
          ],
          "heatmapgl": [
           {
            "colorbar": {
             "outlinewidth": 0,
             "ticks": ""
            },
            "colorscale": [
             [
              0,
              "#0d0887"
             ],
             [
              0.1111111111111111,
              "#46039f"
             ],
             [
              0.2222222222222222,
              "#7201a8"
             ],
             [
              0.3333333333333333,
              "#9c179e"
             ],
             [
              0.4444444444444444,
              "#bd3786"
             ],
             [
              0.5555555555555556,
              "#d8576b"
             ],
             [
              0.6666666666666666,
              "#ed7953"
             ],
             [
              0.7777777777777778,
              "#fb9f3a"
             ],
             [
              0.8888888888888888,
              "#fdca26"
             ],
             [
              1,
              "#f0f921"
             ]
            ],
            "type": "heatmapgl"
           }
          ],
          "histogram": [
           {
            "marker": {
             "pattern": {
              "fillmode": "overlay",
              "size": 10,
              "solidity": 0.2
             }
            },
            "type": "histogram"
           }
          ],
          "histogram2d": [
           {
            "colorbar": {
             "outlinewidth": 0,
             "ticks": ""
            },
            "colorscale": [
             [
              0,
              "#0d0887"
             ],
             [
              0.1111111111111111,
              "#46039f"
             ],
             [
              0.2222222222222222,
              "#7201a8"
             ],
             [
              0.3333333333333333,
              "#9c179e"
             ],
             [
              0.4444444444444444,
              "#bd3786"
             ],
             [
              0.5555555555555556,
              "#d8576b"
             ],
             [
              0.6666666666666666,
              "#ed7953"
             ],
             [
              0.7777777777777778,
              "#fb9f3a"
             ],
             [
              0.8888888888888888,
              "#fdca26"
             ],
             [
              1,
              "#f0f921"
             ]
            ],
            "type": "histogram2d"
           }
          ],
          "histogram2dcontour": [
           {
            "colorbar": {
             "outlinewidth": 0,
             "ticks": ""
            },
            "colorscale": [
             [
              0,
              "#0d0887"
             ],
             [
              0.1111111111111111,
              "#46039f"
             ],
             [
              0.2222222222222222,
              "#7201a8"
             ],
             [
              0.3333333333333333,
              "#9c179e"
             ],
             [
              0.4444444444444444,
              "#bd3786"
             ],
             [
              0.5555555555555556,
              "#d8576b"
             ],
             [
              0.6666666666666666,
              "#ed7953"
             ],
             [
              0.7777777777777778,
              "#fb9f3a"
             ],
             [
              0.8888888888888888,
              "#fdca26"
             ],
             [
              1,
              "#f0f921"
             ]
            ],
            "type": "histogram2dcontour"
           }
          ],
          "mesh3d": [
           {
            "colorbar": {
             "outlinewidth": 0,
             "ticks": ""
            },
            "type": "mesh3d"
           }
          ],
          "parcoords": [
           {
            "line": {
             "colorbar": {
              "outlinewidth": 0,
              "ticks": ""
             }
            },
            "type": "parcoords"
           }
          ],
          "pie": [
           {
            "automargin": true,
            "type": "pie"
           }
          ],
          "scatter": [
           {
            "fillpattern": {
             "fillmode": "overlay",
             "size": 10,
             "solidity": 0.2
            },
            "type": "scatter"
           }
          ],
          "scatter3d": [
           {
            "line": {
             "colorbar": {
              "outlinewidth": 0,
              "ticks": ""
             }
            },
            "marker": {
             "colorbar": {
              "outlinewidth": 0,
              "ticks": ""
             }
            },
            "type": "scatter3d"
           }
          ],
          "scattercarpet": [
           {
            "marker": {
             "colorbar": {
              "outlinewidth": 0,
              "ticks": ""
             }
            },
            "type": "scattercarpet"
           }
          ],
          "scattergeo": [
           {
            "marker": {
             "colorbar": {
              "outlinewidth": 0,
              "ticks": ""
             }
            },
            "type": "scattergeo"
           }
          ],
          "scattergl": [
           {
            "marker": {
             "colorbar": {
              "outlinewidth": 0,
              "ticks": ""
             }
            },
            "type": "scattergl"
           }
          ],
          "scattermapbox": [
           {
            "marker": {
             "colorbar": {
              "outlinewidth": 0,
              "ticks": ""
             }
            },
            "type": "scattermapbox"
           }
          ],
          "scatterpolar": [
           {
            "marker": {
             "colorbar": {
              "outlinewidth": 0,
              "ticks": ""
             }
            },
            "type": "scatterpolar"
           }
          ],
          "scatterpolargl": [
           {
            "marker": {
             "colorbar": {
              "outlinewidth": 0,
              "ticks": ""
             }
            },
            "type": "scatterpolargl"
           }
          ],
          "scatterternary": [
           {
            "marker": {
             "colorbar": {
              "outlinewidth": 0,
              "ticks": ""
             }
            },
            "type": "scatterternary"
           }
          ],
          "surface": [
           {
            "colorbar": {
             "outlinewidth": 0,
             "ticks": ""
            },
            "colorscale": [
             [
              0,
              "#0d0887"
             ],
             [
              0.1111111111111111,
              "#46039f"
             ],
             [
              0.2222222222222222,
              "#7201a8"
             ],
             [
              0.3333333333333333,
              "#9c179e"
             ],
             [
              0.4444444444444444,
              "#bd3786"
             ],
             [
              0.5555555555555556,
              "#d8576b"
             ],
             [
              0.6666666666666666,
              "#ed7953"
             ],
             [
              0.7777777777777778,
              "#fb9f3a"
             ],
             [
              0.8888888888888888,
              "#fdca26"
             ],
             [
              1,
              "#f0f921"
             ]
            ],
            "type": "surface"
           }
          ],
          "table": [
           {
            "cells": {
             "fill": {
              "color": "#EBF0F8"
             },
             "line": {
              "color": "white"
             }
            },
            "header": {
             "fill": {
              "color": "#C8D4E3"
             },
             "line": {
              "color": "white"
             }
            },
            "type": "table"
           }
          ]
         },
         "layout": {
          "annotationdefaults": {
           "arrowcolor": "#2a3f5f",
           "arrowhead": 0,
           "arrowwidth": 1
          },
          "autotypenumbers": "strict",
          "coloraxis": {
           "colorbar": {
            "outlinewidth": 0,
            "ticks": ""
           }
          },
          "colorscale": {
           "diverging": [
            [
             0,
             "#8e0152"
            ],
            [
             0.1,
             "#c51b7d"
            ],
            [
             0.2,
             "#de77ae"
            ],
            [
             0.3,
             "#f1b6da"
            ],
            [
             0.4,
             "#fde0ef"
            ],
            [
             0.5,
             "#f7f7f7"
            ],
            [
             0.6,
             "#e6f5d0"
            ],
            [
             0.7,
             "#b8e186"
            ],
            [
             0.8,
             "#7fbc41"
            ],
            [
             0.9,
             "#4d9221"
            ],
            [
             1,
             "#276419"
            ]
           ],
           "sequential": [
            [
             0,
             "#0d0887"
            ],
            [
             0.1111111111111111,
             "#46039f"
            ],
            [
             0.2222222222222222,
             "#7201a8"
            ],
            [
             0.3333333333333333,
             "#9c179e"
            ],
            [
             0.4444444444444444,
             "#bd3786"
            ],
            [
             0.5555555555555556,
             "#d8576b"
            ],
            [
             0.6666666666666666,
             "#ed7953"
            ],
            [
             0.7777777777777778,
             "#fb9f3a"
            ],
            [
             0.8888888888888888,
             "#fdca26"
            ],
            [
             1,
             "#f0f921"
            ]
           ],
           "sequentialminus": [
            [
             0,
             "#0d0887"
            ],
            [
             0.1111111111111111,
             "#46039f"
            ],
            [
             0.2222222222222222,
             "#7201a8"
            ],
            [
             0.3333333333333333,
             "#9c179e"
            ],
            [
             0.4444444444444444,
             "#bd3786"
            ],
            [
             0.5555555555555556,
             "#d8576b"
            ],
            [
             0.6666666666666666,
             "#ed7953"
            ],
            [
             0.7777777777777778,
             "#fb9f3a"
            ],
            [
             0.8888888888888888,
             "#fdca26"
            ],
            [
             1,
             "#f0f921"
            ]
           ]
          },
          "colorway": [
           "#636efa",
           "#EF553B",
           "#00cc96",
           "#ab63fa",
           "#FFA15A",
           "#19d3f3",
           "#FF6692",
           "#B6E880",
           "#FF97FF",
           "#FECB52"
          ],
          "font": {
           "color": "#2a3f5f"
          },
          "geo": {
           "bgcolor": "white",
           "lakecolor": "white",
           "landcolor": "#E5ECF6",
           "showlakes": true,
           "showland": true,
           "subunitcolor": "white"
          },
          "hoverlabel": {
           "align": "left"
          },
          "hovermode": "closest",
          "mapbox": {
           "style": "light"
          },
          "paper_bgcolor": "white",
          "plot_bgcolor": "#E5ECF6",
          "polar": {
           "angularaxis": {
            "gridcolor": "white",
            "linecolor": "white",
            "ticks": ""
           },
           "bgcolor": "#E5ECF6",
           "radialaxis": {
            "gridcolor": "white",
            "linecolor": "white",
            "ticks": ""
           }
          },
          "scene": {
           "xaxis": {
            "backgroundcolor": "#E5ECF6",
            "gridcolor": "white",
            "gridwidth": 2,
            "linecolor": "white",
            "showbackground": true,
            "ticks": "",
            "zerolinecolor": "white"
           },
           "yaxis": {
            "backgroundcolor": "#E5ECF6",
            "gridcolor": "white",
            "gridwidth": 2,
            "linecolor": "white",
            "showbackground": true,
            "ticks": "",
            "zerolinecolor": "white"
           },
           "zaxis": {
            "backgroundcolor": "#E5ECF6",
            "gridcolor": "white",
            "gridwidth": 2,
            "linecolor": "white",
            "showbackground": true,
            "ticks": "",
            "zerolinecolor": "white"
           }
          },
          "shapedefaults": {
           "line": {
            "color": "#2a3f5f"
           }
          },
          "ternary": {
           "aaxis": {
            "gridcolor": "white",
            "linecolor": "white",
            "ticks": ""
           },
           "baxis": {
            "gridcolor": "white",
            "linecolor": "white",
            "ticks": ""
           },
           "bgcolor": "#E5ECF6",
           "caxis": {
            "gridcolor": "white",
            "linecolor": "white",
            "ticks": ""
           }
          },
          "title": {
           "x": 0.05
          },
          "xaxis": {
           "automargin": true,
           "gridcolor": "white",
           "linecolor": "white",
           "ticks": "",
           "title": {
            "standoff": 15
           },
           "zerolinecolor": "white",
           "zerolinewidth": 2
          },
          "yaxis": {
           "automargin": true,
           "gridcolor": "white",
           "linecolor": "white",
           "ticks": "",
           "title": {
            "standoff": 15
           },
           "zerolinecolor": "white",
           "zerolinewidth": 2
          }
         }
        },
        "title": {
         "text": "Posição dos chutes outliers",
         "x": 0.5,
         "xanchor": "center",
         "y": 0.9,
         "yanchor": "top"
        },
        "width": 840,
        "xaxis": {
         "range": [
          -5,
          110
         ],
         "showgrid": false,
         "showticklabels": false,
         "zeroline": false
        },
        "yaxis": {
         "range": [
          -5,
          73
         ],
         "showgrid": false,
         "showticklabels": false,
         "zeroline": false
        }
       }
      }
     },
     "metadata": {},
     "output_type": "display_data"
    }
   ],
   "source": [
    "nb_shots, x,y, df_shots = p.prepare_heatmap(outliers, 'x', 'y', 24,17, return_df = True)\n",
    "share_shots = nb_shots / nb_shots.sum() * 100\n",
    "\n",
    "# plot the heatmap\n",
    "dict_info = {\"Proporção de chutes (em %)\": {\"values\": share_shots, \"display_type\": \".2f\"},\n",
    "             \"Número de chutes\": {\"values\": nb_shots, \"display_type\": \".0f\"}}\n",
    "fig = p.create_heatmap(x, y, share_shots, dict_info, title_name=\"Posição dos chutes outliers\")\n",
    "fig.show()"
   ]
  },
  {
   "cell_type": "code",
   "execution_count": 29,
   "id": "bf3b16e0",
   "metadata": {},
   "outputs": [
    {
     "data": {
      "text/plain": [
       "0.47526463599049473"
      ]
     },
     "execution_count": 29,
     "metadata": {},
     "output_type": "execute_result"
    }
   ],
   "source": [
    "outliers.shape[0]/goals.shape[0] * 100"
   ]
  },
  {
   "attachments": {},
   "cell_type": "markdown",
   "id": "e20cfdd8",
   "metadata": {},
   "source": [
    "Os gols outliers representam uma fração irrisória do total de gols. Mesmo assim iremos filtrá-los usando o fato de que para considerarmos um gol como válido de uma determinada posição, precisa-se ser necessário ter pelo menos 10 chutes desta posição."
   ]
  },
  {
   "cell_type": "code",
   "execution_count": 33,
   "id": "ef4ce7fc",
   "metadata": {},
   "outputs": [],
   "source": [
    "### fazer o código para filtrar aqui\n",
    "\n",
    "rows_to_exclude = outliers.index.tolist()"
   ]
  },
  {
   "cell_type": "code",
   "execution_count": 34,
   "id": "0c96efcf",
   "metadata": {},
   "outputs": [
    {
     "data": {
      "text/plain": [
       "(45284, 34)"
      ]
     },
     "execution_count": 34,
     "metadata": {},
     "output_type": "execute_result"
    }
   ],
   "source": [
    "shots.shape"
   ]
  },
  {
   "cell_type": "code",
   "execution_count": 35,
   "id": "66e91894",
   "metadata": {},
   "outputs": [],
   "source": [
    "shots.drop(rows_to_exclude, axis = 0, inplace = True)"
   ]
  },
  {
   "cell_type": "code",
   "execution_count": 36,
   "id": "2d1ca87d",
   "metadata": {},
   "outputs": [
    {
     "name": "stderr",
     "output_type": "stream",
     "text": [
      "/Users/lucasmaretti/Documents/repos/football_analytics_master/aux_functions_plot.py:500: FutureWarning:\n",
      "\n",
      "In a future version of pandas all arguments of DataFrame.pivot will be keyword-only.\n",
      "\n",
      "/Users/lucasmaretti/Documents/repos/football_analytics_master/aux_functions_plot.py:500: FutureWarning:\n",
      "\n",
      "In a future version of pandas all arguments of DataFrame.pivot will be keyword-only.\n",
      "\n"
     ]
    },
    {
     "data": {
      "application/vnd.plotly.v1+json": {
       "config": {
        "plotlyServerURL": "https://plot.ly"
       },
       "data": [
        {
         "hoverinfo": "text",
         "text": [
          [
           "Probabilidade de marcar (em %): 0.0<br />Fração de chutes (em %): 0.00<br />Numero de chutes: 0<br />Numero de goals: 0<br />",
           "Probabilidade de marcar (em %): 0.0<br />Fração de chutes (em %): 0.00<br />Numero de chutes: 1<br />Numero de goals: 0<br />",
           "Probabilidade de marcar (em %): 0.0<br />Fração de chutes (em %): 0.00<br />Numero de chutes: 0<br />Numero de goals: 0<br />",
           "Probabilidade de marcar (em %): 0.0<br />Fração de chutes (em %): 0.00<br />Numero de chutes: 2<br />Numero de goals: 0<br />",
           "Probabilidade de marcar (em %): 0.0<br />Fração de chutes (em %): 0.00<br />Numero de chutes: 1<br />Numero de goals: 0<br />",
           "Probabilidade de marcar (em %): 0.0<br />Fração de chutes (em %): 0.00<br />Numero de chutes: 2<br />Numero de goals: 0<br />",
           "Probabilidade de marcar (em %): 0.0<br />Fração de chutes (em %): 0.00<br />Numero de chutes: 0<br />Numero de goals: 0<br />",
           "Probabilidade de marcar (em %): 0.0<br />Fração de chutes (em %): 0.00<br />Numero de chutes: 1<br />Numero de goals: 0<br />",
           "Probabilidade de marcar (em %): 0.0<br />Fração de chutes (em %): 0.00<br />Numero de chutes: 0<br />Numero de goals: 0<br />",
           "Probabilidade de marcar (em %): 0.0<br />Fração de chutes (em %): 0.00<br />Numero de chutes: 0<br />Numero de goals: 0<br />",
           "Probabilidade de marcar (em %): 0.0<br />Fração de chutes (em %): 0.00<br />Numero de chutes: 0<br />Numero de goals: 0<br />",
           "Probabilidade de marcar (em %): 0.0<br />Fração de chutes (em %): 0.00<br />Numero de chutes: 1<br />Numero de goals: 0<br />",
           "Probabilidade de marcar (em %): 0.0<br />Fração de chutes (em %): 0.00<br />Numero de chutes: 1<br />Numero de goals: 0<br />",
           "Probabilidade de marcar (em %): 0.0<br />Fração de chutes (em %): 0.01<br />Numero de chutes: 6<br />Numero de goals: 0<br />",
           "Probabilidade de marcar (em %): 0.0<br />Fração de chutes (em %): 0.00<br />Numero de chutes: 1<br />Numero de goals: 0<br />",
           "Probabilidade de marcar (em %): 0.0<br />Fração de chutes (em %): 0.00<br />Numero de chutes: 1<br />Numero de goals: 0<br />",
           "Probabilidade de marcar (em %): 0.0<br />Fração de chutes (em %): 0.00<br />Numero de chutes: 0<br />Numero de goals: 0<br />",
           "Probabilidade de marcar (em %): 0.0<br />Fração de chutes (em %): 0.00<br />Numero de chutes: 0<br />Numero de goals: 0<br />",
           "Probabilidade de marcar (em %): 0.0<br />Fração de chutes (em %): 0.00<br />Numero de chutes: 0<br />Numero de goals: 0<br />",
           "Probabilidade de marcar (em %): 0.0<br />Fração de chutes (em %): 0.00<br />Numero de chutes: 0<br />Numero de goals: 0<br />",
           "Probabilidade de marcar (em %): 0.0<br />Fração de chutes (em %): 0.00<br />Numero de chutes: 0<br />Numero de goals: 0<br />",
           "Probabilidade de marcar (em %): 0.0<br />Fração de chutes (em %): 0.00<br />Numero de chutes: 0<br />Numero de goals: 0<br />",
           "Probabilidade de marcar (em %): 0.0<br />Fração de chutes (em %): 0.00<br />Numero de chutes: 0<br />Numero de goals: 0<br />",
           "Probabilidade de marcar (em %): 0.0<br />Fração de chutes (em %): 0.00<br />Numero de chutes: 0<br />Numero de goals: 0<br />"
          ],
          [
           "Probabilidade de marcar (em %): 0.0<br />Fração de chutes (em %): 0.00<br />Numero de chutes: 0<br />Numero de goals: 0<br />",
           "Probabilidade de marcar (em %): 0.0<br />Fração de chutes (em %): 0.02<br />Numero de chutes: 7<br />Numero de goals: 0<br />",
           "Probabilidade de marcar (em %): 0.0<br />Fração de chutes (em %): 0.01<br />Numero de chutes: 5<br />Numero de goals: 0<br />",
           "Probabilidade de marcar (em %): 0.0<br />Fração de chutes (em %): 0.01<br />Numero de chutes: 6<br />Numero de goals: 0<br />",
           "Probabilidade de marcar (em %): 0.0<br />Fração de chutes (em %): 0.01<br />Numero de chutes: 6<br />Numero de goals: 0<br />",
           "Probabilidade de marcar (em %): 9.1<br />Fração de chutes (em %): 0.02<br />Numero de chutes: 11<br />Numero de goals: 1<br />",
           "Probabilidade de marcar (em %): 0.0<br />Fração de chutes (em %): 0.01<br />Numero de chutes: 5<br />Numero de goals: 0<br />",
           "Probabilidade de marcar (em %): 0.0<br />Fração de chutes (em %): 0.01<br />Numero de chutes: 4<br />Numero de goals: 0<br />",
           "Probabilidade de marcar (em %): 0.0<br />Fração de chutes (em %): 0.01<br />Numero de chutes: 3<br />Numero de goals: 0<br />",
           "Probabilidade de marcar (em %): 0.0<br />Fração de chutes (em %): 0.00<br />Numero de chutes: 2<br />Numero de goals: 0<br />",
           "Probabilidade de marcar (em %): 0.0<br />Fração de chutes (em %): 0.00<br />Numero de chutes: 0<br />Numero de goals: 0<br />",
           "Probabilidade de marcar (em %): 0.0<br />Fração de chutes (em %): 0.00<br />Numero de chutes: 0<br />Numero de goals: 0<br />",
           "Probabilidade de marcar (em %): 0.0<br />Fração de chutes (em %): 0.00<br />Numero de chutes: 1<br />Numero de goals: 0<br />",
           "Probabilidade de marcar (em %): 0.0<br />Fração de chutes (em %): 0.00<br />Numero de chutes: 0<br />Numero de goals: 0<br />",
           "Probabilidade de marcar (em %): 0.0<br />Fração de chutes (em %): 0.00<br />Numero de chutes: 1<br />Numero de goals: 0<br />",
           "Probabilidade de marcar (em %): 0.0<br />Fração de chutes (em %): 0.00<br />Numero de chutes: 0<br />Numero de goals: 0<br />",
           "Probabilidade de marcar (em %): 0.0<br />Fração de chutes (em %): 0.00<br />Numero de chutes: 0<br />Numero de goals: 0<br />",
           "Probabilidade de marcar (em %): 0.0<br />Fração de chutes (em %): 0.00<br />Numero de chutes: 0<br />Numero de goals: 0<br />",
           "Probabilidade de marcar (em %): 0.0<br />Fração de chutes (em %): 0.00<br />Numero de chutes: 0<br />Numero de goals: 0<br />",
           "Probabilidade de marcar (em %): 0.0<br />Fração de chutes (em %): 0.00<br />Numero de chutes: 0<br />Numero de goals: 0<br />",
           "Probabilidade de marcar (em %): 0.0<br />Fração de chutes (em %): 0.00<br />Numero de chutes: 0<br />Numero de goals: 0<br />",
           "Probabilidade de marcar (em %): 0.0<br />Fração de chutes (em %): 0.00<br />Numero de chutes: 0<br />Numero de goals: 0<br />",
           "Probabilidade de marcar (em %): 0.0<br />Fração de chutes (em %): 0.00<br />Numero de chutes: 0<br />Numero de goals: 0<br />",
           "Probabilidade de marcar (em %): 0.0<br />Fração de chutes (em %): 0.00<br />Numero de chutes: 0<br />Numero de goals: 0<br />"
          ],
          [
           "Probabilidade de marcar (em %): 0.0<br />Fração de chutes (em %): 0.01<br />Numero de chutes: 5<br />Numero de goals: 0<br />",
           "Probabilidade de marcar (em %): 0.0<br />Fração de chutes (em %): 0.04<br />Numero de chutes: 19<br />Numero de goals: 0<br />",
           "Probabilidade de marcar (em %): 12.5<br />Fração de chutes (em %): 0.09<br />Numero de chutes: 40<br />Numero de goals: 5<br />",
           "Probabilidade de marcar (em %): 16.7<br />Fração de chutes (em %): 0.05<br />Numero de chutes: 24<br />Numero de goals: 4<br />",
           "Probabilidade de marcar (em %): 4.5<br />Fração de chutes (em %): 0.05<br />Numero de chutes: 22<br />Numero de goals: 1<br />",
           "Probabilidade de marcar (em %): 0.0<br />Fração de chutes (em %): 0.09<br />Numero de chutes: 39<br />Numero de goals: 0<br />",
           "Probabilidade de marcar (em %): 0.0<br />Fração de chutes (em %): 0.07<br />Numero de chutes: 33<br />Numero de goals: 0<br />",
           "Probabilidade de marcar (em %): 10.0<br />Fração de chutes (em %): 0.02<br />Numero de chutes: 10<br />Numero de goals: 1<br />",
           "Probabilidade de marcar (em %): 0.0<br />Fração de chutes (em %): 0.01<br />Numero de chutes: 5<br />Numero de goals: 0<br />",
           "Probabilidade de marcar (em %): 0.0<br />Fração de chutes (em %): 0.00<br />Numero de chutes: 0<br />Numero de goals: 0<br />",
           "Probabilidade de marcar (em %): 0.0<br />Fração de chutes (em %): 0.00<br />Numero de chutes: 1<br />Numero de goals: 0<br />",
           "Probabilidade de marcar (em %): 0.0<br />Fração de chutes (em %): 0.00<br />Numero de chutes: 2<br />Numero de goals: 0<br />",
           "Probabilidade de marcar (em %): 0.0<br />Fração de chutes (em %): 0.00<br />Numero de chutes: 1<br />Numero de goals: 0<br />",
           "Probabilidade de marcar (em %): 0.0<br />Fração de chutes (em %): 0.00<br />Numero de chutes: 0<br />Numero de goals: 0<br />",
           "Probabilidade de marcar (em %): 0.0<br />Fração de chutes (em %): 0.00<br />Numero de chutes: 0<br />Numero de goals: 0<br />",
           "Probabilidade de marcar (em %): 0.0<br />Fração de chutes (em %): 0.00<br />Numero de chutes: 0<br />Numero de goals: 0<br />",
           "Probabilidade de marcar (em %): 0.0<br />Fração de chutes (em %): 0.00<br />Numero de chutes: 0<br />Numero de goals: 0<br />",
           "Probabilidade de marcar (em %): 0.0<br />Fração de chutes (em %): 0.00<br />Numero de chutes: 0<br />Numero de goals: 0<br />",
           "Probabilidade de marcar (em %): 0.0<br />Fração de chutes (em %): 0.00<br />Numero de chutes: 0<br />Numero de goals: 0<br />",
           "Probabilidade de marcar (em %): 0.0<br />Fração de chutes (em %): 0.00<br />Numero de chutes: 0<br />Numero de goals: 0<br />",
           "Probabilidade de marcar (em %): 0.0<br />Fração de chutes (em %): 0.00<br />Numero de chutes: 0<br />Numero de goals: 0<br />",
           "Probabilidade de marcar (em %): 0.0<br />Fração de chutes (em %): 0.00<br />Numero de chutes: 0<br />Numero de goals: 0<br />",
           "Probabilidade de marcar (em %): 0.0<br />Fração de chutes (em %): 0.00<br />Numero de chutes: 0<br />Numero de goals: 0<br />",
           "Probabilidade de marcar (em %): 0.0<br />Fração de chutes (em %): 0.00<br />Numero de chutes: 0<br />Numero de goals: 0<br />"
          ],
          [
           "Probabilidade de marcar (em %): 0.0<br />Fração de chutes (em %): 0.00<br />Numero de chutes: 2<br />Numero de goals: 0<br />",
           "Probabilidade de marcar (em %): 3.8<br />Fração de chutes (em %): 0.06<br />Numero de chutes: 26<br />Numero de goals: 1<br />",
           "Probabilidade de marcar (em %): 5.3<br />Fração de chutes (em %): 0.17<br />Numero de chutes: 76<br />Numero de goals: 4<br />",
           "Probabilidade de marcar (em %): 4.3<br />Fração de chutes (em %): 0.15<br />Numero de chutes: 70<br />Numero de goals: 3<br />",
           "Probabilidade de marcar (em %): 2.1<br />Fração de chutes (em %): 0.21<br />Numero de chutes: 96<br />Numero de goals: 2<br />",
           "Probabilidade de marcar (em %): 0.5<br />Fração de chutes (em %): 0.46<br />Numero de chutes: 207<br />Numero de goals: 1<br />",
           "Probabilidade de marcar (em %): 0.8<br />Fração de chutes (em %): 0.29<br />Numero de chutes: 130<br />Numero de goals: 1<br />",
           "Probabilidade de marcar (em %): 2.2<br />Fração de chutes (em %): 0.10<br />Numero de chutes: 46<br />Numero de goals: 1<br />",
           "Probabilidade de marcar (em %): 0.0<br />Fração de chutes (em %): 0.02<br />Numero de chutes: 7<br />Numero de goals: 0<br />",
           "Probabilidade de marcar (em %): 0.0<br />Fração de chutes (em %): 0.01<br />Numero de chutes: 3<br />Numero de goals: 0<br />",
           "Probabilidade de marcar (em %): 0.0<br />Fração de chutes (em %): 0.01<br />Numero de chutes: 3<br />Numero de goals: 0<br />",
           "Probabilidade de marcar (em %): 0.0<br />Fração de chutes (em %): 0.00<br />Numero de chutes: 1<br />Numero de goals: 0<br />",
           "Probabilidade de marcar (em %): 0.0<br />Fração de chutes (em %): 0.00<br />Numero de chutes: 1<br />Numero de goals: 0<br />",
           "Probabilidade de marcar (em %): 0.0<br />Fração de chutes (em %): 0.00<br />Numero de chutes: 0<br />Numero de goals: 0<br />",
           "Probabilidade de marcar (em %): 0.0<br />Fração de chutes (em %): 0.00<br />Numero de chutes: 1<br />Numero de goals: 0<br />",
           "Probabilidade de marcar (em %): 0.0<br />Fração de chutes (em %): 0.00<br />Numero de chutes: 0<br />Numero de goals: 0<br />",
           "Probabilidade de marcar (em %): 0.0<br />Fração de chutes (em %): 0.00<br />Numero de chutes: 0<br />Numero de goals: 0<br />",
           "Probabilidade de marcar (em %): 0.0<br />Fração de chutes (em %): 0.00<br />Numero de chutes: 0<br />Numero de goals: 0<br />",
           "Probabilidade de marcar (em %): 0.0<br />Fração de chutes (em %): 0.00<br />Numero de chutes: 0<br />Numero de goals: 0<br />",
           "Probabilidade de marcar (em %): 0.0<br />Fração de chutes (em %): 0.00<br />Numero de chutes: 0<br />Numero de goals: 0<br />",
           "Probabilidade de marcar (em %): 0.0<br />Fração de chutes (em %): 0.00<br />Numero de chutes: 0<br />Numero de goals: 0<br />",
           "Probabilidade de marcar (em %): 0.0<br />Fração de chutes (em %): 0.00<br />Numero de chutes: 0<br />Numero de goals: 0<br />",
           "Probabilidade de marcar (em %): 0.0<br />Fração de chutes (em %): 0.00<br />Numero de chutes: 0<br />Numero de goals: 0<br />",
           "Probabilidade de marcar (em %): 0.0<br />Fração de chutes (em %): 0.00<br />Numero de chutes: 0<br />Numero de goals: 0<br />"
          ],
          [
           "Probabilidade de marcar (em %): 2.0<br />Fração de chutes (em %): 0.11<br />Numero de chutes: 49<br />Numero de goals: 1<br />",
           "Probabilidade de marcar (em %): 1.3<br />Fração de chutes (em %): 0.53<br />Numero de chutes: 239<br />Numero de goals: 3<br />",
           "Probabilidade de marcar (em %): 6.0<br />Fração de chutes (em %): 1.33<br />Numero de chutes: 600<br />Numero de goals: 36<br />",
           "Probabilidade de marcar (em %): 3.9<br />Fração de chutes (em %): 0.86<br />Numero de chutes: 388<br />Numero de goals: 15<br />",
           "Probabilidade de marcar (em %): 2.5<br />Fração de chutes (em %): 0.87<br />Numero de chutes: 393<br />Numero de goals: 10<br />",
           "Probabilidade de marcar (em %): 2.1<br />Fração de chutes (em %): 1.35<br />Numero de chutes: 613<br />Numero de goals: 13<br />",
           "Probabilidade de marcar (em %): 1.9<br />Fração de chutes (em %): 0.69<br />Numero de chutes: 311<br />Numero de goals: 6<br />",
           "Probabilidade de marcar (em %): 0.0<br />Fração de chutes (em %): 0.21<br />Numero de chutes: 94<br />Numero de goals: 0<br />",
           "Probabilidade de marcar (em %): 0.0<br />Fração de chutes (em %): 0.02<br />Numero de chutes: 8<br />Numero de goals: 0<br />",
           "Probabilidade de marcar (em %): 0.0<br />Fração de chutes (em %): 0.01<br />Numero de chutes: 3<br />Numero de goals: 0<br />",
           "Probabilidade de marcar (em %): 0.0<br />Fração de chutes (em %): 0.00<br />Numero de chutes: 2<br />Numero de goals: 0<br />",
           "Probabilidade de marcar (em %): 0.0<br />Fração de chutes (em %): 0.01<br />Numero de chutes: 3<br />Numero de goals: 0<br />",
           "Probabilidade de marcar (em %): 0.0<br />Fração de chutes (em %): 0.00<br />Numero de chutes: 1<br />Numero de goals: 0<br />",
           "Probabilidade de marcar (em %): 0.0<br />Fração de chutes (em %): 0.01<br />Numero de chutes: 3<br />Numero de goals: 0<br />",
           "Probabilidade de marcar (em %): 0.0<br />Fração de chutes (em %): 0.01<br />Numero de chutes: 3<br />Numero de goals: 0<br />",
           "Probabilidade de marcar (em %): 0.0<br />Fração de chutes (em %): 0.00<br />Numero de chutes: 1<br />Numero de goals: 0<br />",
           "Probabilidade de marcar (em %): 0.0<br />Fração de chutes (em %): 0.00<br />Numero de chutes: 1<br />Numero de goals: 0<br />",
           "Probabilidade de marcar (em %): 0.0<br />Fração de chutes (em %): 0.00<br />Numero de chutes: 0<br />Numero de goals: 0<br />",
           "Probabilidade de marcar (em %): 0.0<br />Fração de chutes (em %): 0.00<br />Numero de chutes: 0<br />Numero de goals: 0<br />",
           "Probabilidade de marcar (em %): 0.0<br />Fração de chutes (em %): 0.00<br />Numero de chutes: 0<br />Numero de goals: 0<br />",
           "Probabilidade de marcar (em %): 0.0<br />Fração de chutes (em %): 0.00<br />Numero de chutes: 0<br />Numero de goals: 0<br />",
           "Probabilidade de marcar (em %): 0.0<br />Fração de chutes (em %): 0.00<br />Numero de chutes: 0<br />Numero de goals: 0<br />",
           "Probabilidade de marcar (em %): 0.0<br />Fração de chutes (em %): 0.00<br />Numero de chutes: 0<br />Numero de goals: 0<br />",
           "Probabilidade de marcar (em %): 0.0<br />Fração de chutes (em %): 0.00<br />Numero de chutes: 0<br />Numero de goals: 0<br />"
          ],
          [
           "Probabilidade de marcar (em %): 7.8<br />Fração de chutes (em %): 0.37<br />Numero de chutes: 167<br />Numero de goals: 13<br />",
           "Probabilidade de marcar (em %): 8.1<br />Fração de chutes (em %): 1.39<br />Numero de chutes: 628<br />Numero de goals: 51<br />",
           "Probabilidade de marcar (em %): 9.7<br />Fração de chutes (em %): 3.02<br />Numero de chutes: 1365<br />Numero de goals: 132<br />",
           "Probabilidade de marcar (em %): 5.5<br />Fração de chutes (em %): 1.63<br />Numero de chutes: 739<br />Numero de goals: 41<br />",
           "Probabilidade de marcar (em %): 3.4<br />Fração de chutes (em %): 1.43<br />Numero de chutes: 645<br />Numero de goals: 22<br />",
           "Probabilidade de marcar (em %): 2.9<br />Fração de chutes (em %): 1.98<br />Numero de chutes: 897<br />Numero de goals: 26<br />",
           "Probabilidade de marcar (em %): 1.3<br />Fração de chutes (em %): 1.05<br />Numero de chutes: 476<br />Numero de goals: 6<br />",
           "Probabilidade de marcar (em %): 1.5<br />Fração de chutes (em %): 0.29<br />Numero de chutes: 130<br />Numero de goals: 2<br />",
           "Probabilidade de marcar (em %): 0.0<br />Fração de chutes (em %): 0.04<br />Numero de chutes: 19<br />Numero de goals: 0<br />",
           "Probabilidade de marcar (em %): 0.0<br />Fração de chutes (em %): 0.01<br />Numero de chutes: 5<br />Numero de goals: 0<br />",
           "Probabilidade de marcar (em %): 0.0<br />Fração de chutes (em %): 0.01<br />Numero de chutes: 3<br />Numero de goals: 0<br />",
           "Probabilidade de marcar (em %): 0.0<br />Fração de chutes (em %): 0.00<br />Numero de chutes: 2<br />Numero de goals: 0<br />",
           "Probabilidade de marcar (em %): 0.0<br />Fração de chutes (em %): 0.00<br />Numero de chutes: 0<br />Numero de goals: 0<br />",
           "Probabilidade de marcar (em %): 0.0<br />Fração de chutes (em %): 0.01<br />Numero de chutes: 4<br />Numero de goals: 0<br />",
           "Probabilidade de marcar (em %): 0.0<br />Fração de chutes (em %): 0.01<br />Numero de chutes: 4<br />Numero de goals: 0<br />",
           "Probabilidade de marcar (em %): 0.0<br />Fração de chutes (em %): 0.00<br />Numero de chutes: 1<br />Numero de goals: 0<br />",
           "Probabilidade de marcar (em %): 0.0<br />Fração de chutes (em %): 0.00<br />Numero de chutes: 0<br />Numero de goals: 0<br />",
           "Probabilidade de marcar (em %): 0.0<br />Fração de chutes (em %): 0.00<br />Numero de chutes: 0<br />Numero de goals: 0<br />",
           "Probabilidade de marcar (em %): 0.0<br />Fração de chutes (em %): 0.00<br />Numero de chutes: 0<br />Numero de goals: 0<br />",
           "Probabilidade de marcar (em %): 0.0<br />Fração de chutes (em %): 0.00<br />Numero de chutes: 0<br />Numero de goals: 0<br />",
           "Probabilidade de marcar (em %): 0.0<br />Fração de chutes (em %): 0.00<br />Numero de chutes: 0<br />Numero de goals: 0<br />",
           "Probabilidade de marcar (em %): 0.0<br />Fração de chutes (em %): 0.00<br />Numero de chutes: 1<br />Numero de goals: 0<br />",
           "Probabilidade de marcar (em %): 0.0<br />Fração de chutes (em %): 0.00<br />Numero de chutes: 0<br />Numero de goals: 0<br />",
           "Probabilidade de marcar (em %): 0.0<br />Fração de chutes (em %): 0.00<br />Numero de chutes: 0<br />Numero de goals: 0<br />"
          ],
          [
           "Probabilidade de marcar (em %): 18.6<br />Fração de chutes (em %): 0.65<br />Numero de chutes: 296<br />Numero de goals: 55<br />",
           "Probabilidade de marcar (em %): 17.0<br />Fração de chutes (em %): 1.71<br />Numero de chutes: 776<br />Numero de goals: 132<br />",
           "Probabilidade de marcar (em %): 14.0<br />Fração de chutes (em %): 3.41<br />Numero de chutes: 1543<br />Numero de goals: 216<br />",
           "Probabilidade de marcar (em %): 8.9<br />Fração de chutes (em %): 1.67<br />Numero de chutes: 755<br />Numero de goals: 67<br />",
           "Probabilidade de marcar (em %): 5.5<br />Fração de chutes (em %): 1.29<br />Numero de chutes: 583<br />Numero de goals: 32<br />",
           "Probabilidade de marcar (em %): 3.3<br />Fração de chutes (em %): 2.08<br />Numero de chutes: 941<br />Numero de goals: 31<br />",
           "Probabilidade de marcar (em %): 2.5<br />Fração de chutes (em %): 1.15<br />Numero de chutes: 522<br />Numero de goals: 13<br />",
           "Probabilidade de marcar (em %): 3.4<br />Fração de chutes (em %): 0.39<br />Numero de chutes: 178<br />Numero de goals: 6<br />",
           "Probabilidade de marcar (em %): 0.0<br />Fração de chutes (em %): 0.05<br />Numero de chutes: 22<br />Numero de goals: 0<br />",
           "Probabilidade de marcar (em %): 0.0<br />Fração de chutes (em %): 0.01<br />Numero de chutes: 4<br />Numero de goals: 0<br />",
           "Probabilidade de marcar (em %): 0.0<br />Fração de chutes (em %): 0.00<br />Numero de chutes: 2<br />Numero de goals: 0<br />",
           "Probabilidade de marcar (em %): 0.0<br />Fração de chutes (em %): 0.00<br />Numero de chutes: 2<br />Numero de goals: 0<br />",
           "Probabilidade de marcar (em %): 0.0<br />Fração de chutes (em %): 0.00<br />Numero de chutes: 2<br />Numero de goals: 0<br />",
           "Probabilidade de marcar (em %): 0.0<br />Fração de chutes (em %): 0.00<br />Numero de chutes: 2<br />Numero de goals: 0<br />",
           "Probabilidade de marcar (em %): 0.0<br />Fração de chutes (em %): 0.00<br />Numero de chutes: 1<br />Numero de goals: 0<br />",
           "Probabilidade de marcar (em %): 0.0<br />Fração de chutes (em %): 0.00<br />Numero de chutes: 1<br />Numero de goals: 0<br />",
           "Probabilidade de marcar (em %): 0.0<br />Fração de chutes (em %): 0.00<br />Numero de chutes: 0<br />Numero de goals: 0<br />",
           "Probabilidade de marcar (em %): 0.0<br />Fração de chutes (em %): 0.00<br />Numero de chutes: 0<br />Numero de goals: 0<br />",
           "Probabilidade de marcar (em %): 0.0<br />Fração de chutes (em %): 0.00<br />Numero de chutes: 0<br />Numero de goals: 0<br />",
           "Probabilidade de marcar (em %): 0.0<br />Fração de chutes (em %): 0.00<br />Numero de chutes: 1<br />Numero de goals: 0<br />",
           "Probabilidade de marcar (em %): 0.0<br />Fração de chutes (em %): 0.00<br />Numero de chutes: 0<br />Numero de goals: 0<br />",
           "Probabilidade de marcar (em %): 0.0<br />Fração de chutes (em %): 0.00<br />Numero de chutes: 0<br />Numero de goals: 0<br />",
           "Probabilidade de marcar (em %): 0.0<br />Fração de chutes (em %): 0.00<br />Numero de chutes: 1<br />Numero de goals: 0<br />",
           "Probabilidade de marcar (em %): 0.0<br />Fração de chutes (em %): 0.00<br />Numero de chutes: 1<br />Numero de goals: 0<br />"
          ],
          [
           "Probabilidade de marcar (em %): 52.4<br />Fração de chutes (em %): 0.92<br />Numero de chutes: 418<br />Numero de goals: 219<br />",
           "Probabilidade de marcar (em %): 25.1<br />Fração de chutes (em %): 2.65<br />Numero de chutes: 1198<br />Numero de goals: 301<br />",
           "Probabilidade de marcar (em %): 14.6<br />Fração de chutes (em %): 3.84<br />Numero de chutes: 1736<br />Numero de goals: 253<br />",
           "Probabilidade de marcar (em %): 10.3<br />Fração de chutes (em %): 1.67<br />Numero de chutes: 757<br />Numero de goals: 78<br />",
           "Probabilidade de marcar (em %): 8.8<br />Fração de chutes (em %): 1.26<br />Numero de chutes: 571<br />Numero de goals: 50<br />",
           "Probabilidade de marcar (em %): 4.4<br />Fração de chutes (em %): 1.86<br />Numero de chutes: 841<br />Numero de goals: 37<br />",
           "Probabilidade de marcar (em %): 3.0<br />Fração de chutes (em %): 1.27<br />Numero de chutes: 576<br />Numero de goals: 17<br />",
           "Probabilidade de marcar (em %): 2.5<br />Fração de chutes (em %): 0.44<br />Numero de chutes: 199<br />Numero de goals: 5<br />",
           "Probabilidade de marcar (em %): 0.0<br />Fração de chutes (em %): 0.04<br />Numero de chutes: 16<br />Numero de goals: 0<br />",
           "Probabilidade de marcar (em %): 0.0<br />Fração de chutes (em %): 0.01<br />Numero de chutes: 5<br />Numero de goals: 0<br />",
           "Probabilidade de marcar (em %): 0.0<br />Fração de chutes (em %): 0.00<br />Numero de chutes: 0<br />Numero de goals: 0<br />",
           "Probabilidade de marcar (em %): 0.0<br />Fração de chutes (em %): 0.01<br />Numero de chutes: 4<br />Numero de goals: 0<br />",
           "Probabilidade de marcar (em %): 0.0<br />Fração de chutes (em %): 0.00<br />Numero de chutes: 1<br />Numero de goals: 0<br />",
           "Probabilidade de marcar (em %): 0.0<br />Fração de chutes (em %): 0.00<br />Numero de chutes: 1<br />Numero de goals: 0<br />",
           "Probabilidade de marcar (em %): 0.0<br />Fração de chutes (em %): 0.00<br />Numero de chutes: 1<br />Numero de goals: 0<br />",
           "Probabilidade de marcar (em %): 0.0<br />Fração de chutes (em %): 0.00<br />Numero de chutes: 0<br />Numero de goals: 0<br />",
           "Probabilidade de marcar (em %): 0.0<br />Fração de chutes (em %): 0.00<br />Numero de chutes: 1<br />Numero de goals: 0<br />",
           "Probabilidade de marcar (em %): 0.0<br />Fração de chutes (em %): 0.00<br />Numero de chutes: 0<br />Numero de goals: 0<br />",
           "Probabilidade de marcar (em %): 0.0<br />Fração de chutes (em %): 0.00<br />Numero de chutes: 1<br />Numero de goals: 0<br />",
           "Probabilidade de marcar (em %): 0.0<br />Fração de chutes (em %): 0.00<br />Numero de chutes: 0<br />Numero de goals: 0<br />",
           "Probabilidade de marcar (em %): 0.0<br />Fração de chutes (em %): 0.00<br />Numero de chutes: 0<br />Numero de goals: 0<br />",
           "Probabilidade de marcar (em %): 0.0<br />Fração de chutes (em %): 0.00<br />Numero de chutes: 0<br />Numero de goals: 0<br />",
           "Probabilidade de marcar (em %): 0.0<br />Fração de chutes (em %): 0.00<br />Numero de chutes: 1<br />Numero de goals: 0<br />",
           "Probabilidade de marcar (em %): 0.0<br />Fração de chutes (em %): 0.00<br />Numero de chutes: 0<br />Numero de goals: 0<br />"
          ],
          [
           "Probabilidade de marcar (em %): 61.4<br />Fração de chutes (em %): 0.82<br />Numero de chutes: 373<br />Numero de goals: 229<br />",
           "Probabilidade de marcar (em %): 29.7<br />Fração de chutes (em %): 2.56<br />Numero de chutes: 1160<br />Numero de goals: 345<br />",
           "Probabilidade de marcar (em %): 17.0<br />Fração de chutes (em %): 2.85<br />Numero de chutes: 1291<br />Numero de goals: 220<br />",
           "Probabilidade de marcar (em %): 11.2<br />Fração de chutes (em %): 1.61<br />Numero de chutes: 730<br />Numero de goals: 82<br />",
           "Probabilidade de marcar (em %): 8.7<br />Fração de chutes (em %): 1.61<br />Numero de chutes: 728<br />Numero de goals: 63<br />",
           "Probabilidade de marcar (em %): 2.7<br />Fração de chutes (em %): 1.57<br />Numero de chutes: 711<br />Numero de goals: 19<br />",
           "Probabilidade de marcar (em %): 2.9<br />Fração de chutes (em %): 1.30<br />Numero de chutes: 589<br />Numero de goals: 17<br />",
           "Probabilidade de marcar (em %): 2.6<br />Fração de chutes (em %): 0.42<br />Numero de chutes: 190<br />Numero de goals: 5<br />",
           "Probabilidade de marcar (em %): 0.0<br />Fração de chutes (em %): 0.02<br />Numero de chutes: 10<br />Numero de goals: 0<br />",
           "Probabilidade de marcar (em %): 0.0<br />Fração de chutes (em %): 0.00<br />Numero de chutes: 2<br />Numero de goals: 0<br />",
           "Probabilidade de marcar (em %): 0.0<br />Fração de chutes (em %): 0.00<br />Numero de chutes: 1<br />Numero de goals: 0<br />",
           "Probabilidade de marcar (em %): 0.0<br />Fração de chutes (em %): 0.02<br />Numero de chutes: 7<br />Numero de goals: 0<br />",
           "Probabilidade de marcar (em %): 0.0<br />Fração de chutes (em %): 0.01<br />Numero de chutes: 4<br />Numero de goals: 0<br />",
           "Probabilidade de marcar (em %): 0.0<br />Fração de chutes (em %): 0.02<br />Numero de chutes: 9<br />Numero de goals: 0<br />",
           "Probabilidade de marcar (em %): 0.0<br />Fração de chutes (em %): 0.00<br />Numero de chutes: 0<br />Numero de goals: 0<br />",
           "Probabilidade de marcar (em %): 0.0<br />Fração de chutes (em %): 0.00<br />Numero de chutes: 0<br />Numero de goals: 0<br />",
           "Probabilidade de marcar (em %): 0.0<br />Fração de chutes (em %): 0.00<br />Numero de chutes: 0<br />Numero de goals: 0<br />",
           "Probabilidade de marcar (em %): 0.0<br />Fração de chutes (em %): 0.00<br />Numero de chutes: 1<br />Numero de goals: 0<br />",
           "Probabilidade de marcar (em %): 0.0<br />Fração de chutes (em %): 0.00<br />Numero de chutes: 0<br />Numero de goals: 0<br />",
           "Probabilidade de marcar (em %): 0.0<br />Fração de chutes (em %): 0.00<br />Numero de chutes: 0<br />Numero de goals: 0<br />",
           "Probabilidade de marcar (em %): 0.0<br />Fração de chutes (em %): 0.00<br />Numero de chutes: 0<br />Numero de goals: 0<br />",
           "Probabilidade de marcar (em %): 0.0<br />Fração de chutes (em %): 0.00<br />Numero de chutes: 0<br />Numero de goals: 0<br />",
           "Probabilidade de marcar (em %): 0.0<br />Fração de chutes (em %): 0.00<br />Numero de chutes: 2<br />Numero de goals: 0<br />",
           "Probabilidade de marcar (em %): 0.0<br />Fração de chutes (em %): 0.00<br />Numero de chutes: 0<br />Numero de goals: 0<br />"
          ],
          [
           "Probabilidade de marcar (em %): 41.7<br />Fração de chutes (em %): 0.82<br />Numero de chutes: 369<br />Numero de goals: 154<br />",
           "Probabilidade de marcar (em %): 25.6<br />Fração de chutes (em %): 2.54<br />Numero de chutes: 1151<br />Numero de goals: 295<br />",
           "Probabilidade de marcar (em %): 15.7<br />Fração de chutes (em %): 3.65<br />Numero de chutes: 1653<br />Numero de goals: 259<br />",
           "Probabilidade de marcar (em %): 12.7<br />Fração de chutes (em %): 1.56<br />Numero de chutes: 708<br />Numero de goals: 90<br />",
           "Probabilidade de marcar (em %): 7.1<br />Fração de chutes (em %): 1.19<br />Numero de chutes: 537<br />Numero de goals: 38<br />",
           "Probabilidade de marcar (em %): 3.7<br />Fração de chutes (em %): 1.81<br />Numero de chutes: 821<br />Numero de goals: 30<br />",
           "Probabilidade de marcar (em %): 3.0<br />Fração de chutes (em %): 1.39<br />Numero de chutes: 627<br />Numero de goals: 19<br />",
           "Probabilidade de marcar (em %): 1.6<br />Fração de chutes (em %): 0.42<br />Numero de chutes: 190<br />Numero de goals: 3<br />",
           "Probabilidade de marcar (em %): 0.0<br />Fração de chutes (em %): 0.03<br />Numero de chutes: 13<br />Numero de goals: 0<br />",
           "Probabilidade de marcar (em %): 0.0<br />Fração de chutes (em %): 0.01<br />Numero de chutes: 3<br />Numero de goals: 0<br />",
           "Probabilidade de marcar (em %): 0.0<br />Fração de chutes (em %): 0.01<br />Numero de chutes: 3<br />Numero de goals: 0<br />",
           "Probabilidade de marcar (em %): 0.0<br />Fração de chutes (em %): 0.00<br />Numero de chutes: 0<br />Numero de goals: 0<br />",
           "Probabilidade de marcar (em %): 0.0<br />Fração de chutes (em %): 0.02<br />Numero de chutes: 8<br />Numero de goals: 0<br />",
           "Probabilidade de marcar (em %): 0.0<br />Fração de chutes (em %): 0.00<br />Numero de chutes: 2<br />Numero de goals: 0<br />",
           "Probabilidade de marcar (em %): 0.0<br />Fração de chutes (em %): 0.00<br />Numero de chutes: 0<br />Numero de goals: 0<br />",
           "Probabilidade de marcar (em %): 0.0<br />Fração de chutes (em %): 0.00<br />Numero de chutes: 2<br />Numero de goals: 0<br />",
           "Probabilidade de marcar (em %): 0.0<br />Fração de chutes (em %): 0.00<br />Numero de chutes: 1<br />Numero de goals: 0<br />",
           "Probabilidade de marcar (em %): 0.0<br />Fração de chutes (em %): 0.00<br />Numero de chutes: 0<br />Numero de goals: 0<br />",
           "Probabilidade de marcar (em %): 0.0<br />Fração de chutes (em %): 0.00<br />Numero de chutes: 0<br />Numero de goals: 0<br />",
           "Probabilidade de marcar (em %): 0.0<br />Fração de chutes (em %): 0.00<br />Numero de chutes: 0<br />Numero de goals: 0<br />",
           "Probabilidade de marcar (em %): 0.0<br />Fração de chutes (em %): 0.00<br />Numero de chutes: 0<br />Numero de goals: 0<br />",
           "Probabilidade de marcar (em %): 0.0<br />Fração de chutes (em %): 0.00<br />Numero de chutes: 2<br />Numero de goals: 0<br />",
           "Probabilidade de marcar (em %): 0.0<br />Fração de chutes (em %): 0.00<br />Numero de chutes: 1<br />Numero de goals: 0<br />",
           "Probabilidade de marcar (em %): 0.0<br />Fração de chutes (em %): 0.00<br />Numero de chutes: 0<br />Numero de goals: 0<br />"
          ],
          [
           "Probabilidade de marcar (em %): 16.4<br />Fração de chutes (em %): 0.65<br />Numero de chutes: 292<br />Numero de goals: 48<br />",
           "Probabilidade de marcar (em %): 16.1<br />Fração de chutes (em %): 1.64<br />Numero de chutes: 741<br />Numero de goals: 119<br />",
           "Probabilidade de marcar (em %): 12.8<br />Fração de chutes (em %): 3.25<br />Numero de chutes: 1473<br />Numero de goals: 189<br />",
           "Probabilidade de marcar (em %): 8.9<br />Fração de chutes (em %): 1.51<br />Numero de chutes: 682<br />Numero de goals: 61<br />",
           "Probabilidade de marcar (em %): 5.0<br />Fração de chutes (em %): 1.12<br />Numero de chutes: 505<br />Numero de goals: 25<br />",
           "Probabilidade de marcar (em %): 3.6<br />Fração de chutes (em %): 2.09<br />Numero de chutes: 946<br />Numero de goals: 34<br />",
           "Probabilidade de marcar (em %): 2.2<br />Fração de chutes (em %): 1.22<br />Numero de chutes: 552<br />Numero de goals: 12<br />",
           "Probabilidade de marcar (em %): 2.9<br />Fração de chutes (em %): 0.30<br />Numero de chutes: 138<br />Numero de goals: 4<br />",
           "Probabilidade de marcar (em %): 0.0<br />Fração de chutes (em %): 0.06<br />Numero de chutes: 26<br />Numero de goals: 0<br />",
           "Probabilidade de marcar (em %): 0.0<br />Fração de chutes (em %): 0.01<br />Numero de chutes: 4<br />Numero de goals: 0<br />",
           "Probabilidade de marcar (em %): 0.0<br />Fração de chutes (em %): 0.01<br />Numero de chutes: 3<br />Numero de goals: 0<br />",
           "Probabilidade de marcar (em %): 0.0<br />Fração de chutes (em %): 0.00<br />Numero de chutes: 2<br />Numero de goals: 0<br />",
           "Probabilidade de marcar (em %): 0.0<br />Fração de chutes (em %): 0.00<br />Numero de chutes: 2<br />Numero de goals: 0<br />",
           "Probabilidade de marcar (em %): 0.0<br />Fração de chutes (em %): 0.00<br />Numero de chutes: 2<br />Numero de goals: 0<br />",
           "Probabilidade de marcar (em %): 0.0<br />Fração de chutes (em %): 0.00<br />Numero de chutes: 0<br />Numero de goals: 0<br />",
           "Probabilidade de marcar (em %): 0.0<br />Fração de chutes (em %): 0.00<br />Numero de chutes: 0<br />Numero de goals: 0<br />",
           "Probabilidade de marcar (em %): 0.0<br />Fração de chutes (em %): 0.00<br />Numero de chutes: 0<br />Numero de goals: 0<br />",
           "Probabilidade de marcar (em %): 0.0<br />Fração de chutes (em %): 0.00<br />Numero de chutes: 0<br />Numero de goals: 0<br />",
           "Probabilidade de marcar (em %): 0.0<br />Fração de chutes (em %): 0.00<br />Numero de chutes: 0<br />Numero de goals: 0<br />",
           "Probabilidade de marcar (em %): 0.0<br />Fração de chutes (em %): 0.00<br />Numero de chutes: 0<br />Numero de goals: 0<br />",
           "Probabilidade de marcar (em %): 0.0<br />Fração de chutes (em %): 0.00<br />Numero de chutes: 1<br />Numero de goals: 0<br />",
           "Probabilidade de marcar (em %): 0.0<br />Fração de chutes (em %): 0.00<br />Numero de chutes: 2<br />Numero de goals: 0<br />",
           "Probabilidade de marcar (em %): 0.0<br />Fração de chutes (em %): 0.00<br />Numero de chutes: 0<br />Numero de goals: 0<br />",
           "Probabilidade de marcar (em %): 0.0<br />Fração de chutes (em %): 0.00<br />Numero de chutes: 1<br />Numero de goals: 0<br />"
          ],
          [
           "Probabilidade de marcar (em %): 3.4<br />Fração de chutes (em %): 0.39<br />Numero de chutes: 177<br />Numero de goals: 6<br />",
           "Probabilidade de marcar (em %): 8.6<br />Fração de chutes (em %): 1.37<br />Numero de chutes: 618<br />Numero de goals: 53<br />",
           "Probabilidade de marcar (em %): 8.6<br />Fração de chutes (em %): 2.53<br />Numero de chutes: 1147<br />Numero de goals: 99<br />",
           "Probabilidade de marcar (em %): 5.7<br />Fração de chutes (em %): 1.35<br />Numero de chutes: 613<br />Numero de goals: 35<br />",
           "Probabilidade de marcar (em %): 3.5<br />Fração de chutes (em %): 1.25<br />Numero de chutes: 568<br />Numero de goals: 20<br />",
           "Probabilidade de marcar (em %): 3.3<br />Fração de chutes (em %): 1.86<br />Numero de chutes: 842<br />Numero de goals: 28<br />",
           "Probabilidade de marcar (em %): 2.6<br />Fração de chutes (em %): 0.85<br />Numero de chutes: 385<br />Numero de goals: 10<br />",
           "Probabilidade de marcar (em %): 2.6<br />Fração de chutes (em %): 0.25<br />Numero de chutes: 114<br />Numero de goals: 3<br />",
           "Probabilidade de marcar (em %): 0.0<br />Fração de chutes (em %): 0.04<br />Numero de chutes: 16<br />Numero de goals: 0<br />",
           "Probabilidade de marcar (em %): 0.0<br />Fração de chutes (em %): 0.01<br />Numero de chutes: 3<br />Numero de goals: 0<br />",
           "Probabilidade de marcar (em %): 0.0<br />Fração de chutes (em %): 0.00<br />Numero de chutes: 2<br />Numero de goals: 0<br />",
           "Probabilidade de marcar (em %): 0.0<br />Fração de chutes (em %): 0.00<br />Numero de chutes: 1<br />Numero de goals: 0<br />",
           "Probabilidade de marcar (em %): 0.0<br />Fração de chutes (em %): 0.01<br />Numero de chutes: 4<br />Numero de goals: 0<br />",
           "Probabilidade de marcar (em %): 0.0<br />Fração de chutes (em %): 0.00<br />Numero de chutes: 1<br />Numero de goals: 0<br />",
           "Probabilidade de marcar (em %): 0.0<br />Fração de chutes (em %): 0.00<br />Numero de chutes: 0<br />Numero de goals: 0<br />",
           "Probabilidade de marcar (em %): 0.0<br />Fração de chutes (em %): 0.00<br />Numero de chutes: 0<br />Numero de goals: 0<br />",
           "Probabilidade de marcar (em %): 0.0<br />Fração de chutes (em %): 0.00<br />Numero de chutes: 1<br />Numero de goals: 0<br />",
           "Probabilidade de marcar (em %): 0.0<br />Fração de chutes (em %): 0.00<br />Numero de chutes: 0<br />Numero de goals: 0<br />",
           "Probabilidade de marcar (em %): 0.0<br />Fração de chutes (em %): 0.00<br />Numero de chutes: 0<br />Numero de goals: 0<br />",
           "Probabilidade de marcar (em %): 0.0<br />Fração de chutes (em %): 0.00<br />Numero de chutes: 1<br />Numero de goals: 0<br />",
           "Probabilidade de marcar (em %): 0.0<br />Fração de chutes (em %): 0.00<br />Numero de chutes: 1<br />Numero de goals: 0<br />",
           "Probabilidade de marcar (em %): 0.0<br />Fração de chutes (em %): 0.00<br />Numero de chutes: 2<br />Numero de goals: 0<br />",
           "Probabilidade de marcar (em %): 0.0<br />Fração de chutes (em %): 0.00<br />Numero de chutes: 0<br />Numero de goals: 0<br />",
           "Probabilidade de marcar (em %): 0.0<br />Fração de chutes (em %): 0.00<br />Numero de chutes: 0<br />Numero de goals: 0<br />"
          ],
          [
           "Probabilidade de marcar (em %): 2.4<br />Fração de chutes (em %): 0.09<br />Numero de chutes: 42<br />Numero de goals: 1<br />",
           "Probabilidade de marcar (em %): 5.1<br />Fração de chutes (em %): 0.52<br />Numero de chutes: 234<br />Numero de goals: 12<br />",
           "Probabilidade de marcar (em %): 5.4<br />Fração de chutes (em %): 0.99<br />Numero de chutes: 448<br />Numero de goals: 24<br />",
           "Probabilidade de marcar (em %): 3.8<br />Fração de chutes (em %): 0.64<br />Numero de chutes: 289<br />Numero de goals: 11<br />",
           "Probabilidade de marcar (em %): 4.7<br />Fração de chutes (em %): 0.79<br />Numero de chutes: 358<br />Numero de goals: 17<br />",
           "Probabilidade de marcar (em %): 1.1<br />Fração de chutes (em %): 1.02<br />Numero de chutes: 462<br />Numero de goals: 5<br />",
           "Probabilidade de marcar (em %): 2.1<br />Fração de chutes (em %): 0.52<br />Numero de chutes: 235<br />Numero de goals: 5<br />",
           "Probabilidade de marcar (em %): 3.4<br />Fração de chutes (em %): 0.13<br />Numero de chutes: 58<br />Numero de goals: 2<br />",
           "Probabilidade de marcar (em %): 0.0<br />Fração de chutes (em %): 0.02<br />Numero de chutes: 9<br />Numero de goals: 0<br />",
           "Probabilidade de marcar (em %): 0.0<br />Fração de chutes (em %): 0.02<br />Numero de chutes: 8<br />Numero de goals: 0<br />",
           "Probabilidade de marcar (em %): 0.0<br />Fração de chutes (em %): 0.00<br />Numero de chutes: 2<br />Numero de goals: 0<br />",
           "Probabilidade de marcar (em %): 0.0<br />Fração de chutes (em %): 0.00<br />Numero de chutes: 1<br />Numero de goals: 0<br />",
           "Probabilidade de marcar (em %): 0.0<br />Fração de chutes (em %): 0.00<br />Numero de chutes: 0<br />Numero de goals: 0<br />",
           "Probabilidade de marcar (em %): 0.0<br />Fração de chutes (em %): 0.00<br />Numero de chutes: 0<br />Numero de goals: 0<br />",
           "Probabilidade de marcar (em %): 0.0<br />Fração de chutes (em %): 0.00<br />Numero de chutes: 1<br />Numero de goals: 0<br />",
           "Probabilidade de marcar (em %): 0.0<br />Fração de chutes (em %): 0.00<br />Numero de chutes: 0<br />Numero de goals: 0<br />",
           "Probabilidade de marcar (em %): 0.0<br />Fração de chutes (em %): 0.00<br />Numero de chutes: 0<br />Numero de goals: 0<br />",
           "Probabilidade de marcar (em %): 0.0<br />Fração de chutes (em %): 0.00<br />Numero de chutes: 1<br />Numero de goals: 0<br />",
           "Probabilidade de marcar (em %): 0.0<br />Fração de chutes (em %): 0.00<br />Numero de chutes: 0<br />Numero de goals: 0<br />",
           "Probabilidade de marcar (em %): 0.0<br />Fração de chutes (em %): 0.00<br />Numero de chutes: 0<br />Numero de goals: 0<br />",
           "Probabilidade de marcar (em %): 0.0<br />Fração de chutes (em %): 0.00<br />Numero de chutes: 0<br />Numero de goals: 0<br />",
           "Probabilidade de marcar (em %): 0.0<br />Fração de chutes (em %): 0.00<br />Numero de chutes: 0<br />Numero de goals: 0<br />",
           "Probabilidade de marcar (em %): 0.0<br />Fração de chutes (em %): 0.00<br />Numero de chutes: 0<br />Numero de goals: 0<br />",
           "Probabilidade de marcar (em %): 0.0<br />Fração de chutes (em %): 0.00<br />Numero de chutes: 0<br />Numero de goals: 0<br />"
          ],
          [
           "Probabilidade de marcar (em %): 0.0<br />Fração de chutes (em %): 0.00<br />Numero de chutes: 2<br />Numero de goals: 0<br />",
           "Probabilidade de marcar (em %): 0.0<br />Fração de chutes (em %): 0.03<br />Numero de chutes: 15<br />Numero de goals: 0<br />",
           "Probabilidade de marcar (em %): 2.1<br />Fração de chutes (em %): 0.10<br />Numero de chutes: 47<br />Numero de goals: 1<br />",
           "Probabilidade de marcar (em %): 2.2<br />Fração de chutes (em %): 0.10<br />Numero de chutes: 46<br />Numero de goals: 1<br />",
           "Probabilidade de marcar (em %): 0.0<br />Fração de chutes (em %): 0.16<br />Numero de chutes: 71<br />Numero de goals: 0<br />",
           "Probabilidade de marcar (em %): 0.0<br />Fração de chutes (em %): 0.31<br />Numero de chutes: 139<br />Numero de goals: 0<br />",
           "Probabilidade de marcar (em %): 0.0<br />Fração de chutes (em %): 0.23<br />Numero de chutes: 104<br />Numero de goals: 0<br />",
           "Probabilidade de marcar (em %): 0.0<br />Fração de chutes (em %): 0.06<br />Numero de chutes: 25<br />Numero de goals: 0<br />",
           "Probabilidade de marcar (em %): 0.0<br />Fração de chutes (em %): 0.01<br />Numero de chutes: 5<br />Numero de goals: 0<br />",
           "Probabilidade de marcar (em %): 0.0<br />Fração de chutes (em %): 0.01<br />Numero de chutes: 5<br />Numero de goals: 0<br />",
           "Probabilidade de marcar (em %): 0.0<br />Fração de chutes (em %): 0.01<br />Numero de chutes: 5<br />Numero de goals: 0<br />",
           "Probabilidade de marcar (em %): 0.0<br />Fração de chutes (em %): 0.00<br />Numero de chutes: 2<br />Numero de goals: 0<br />",
           "Probabilidade de marcar (em %): 0.0<br />Fração de chutes (em %): 0.00<br />Numero de chutes: 0<br />Numero de goals: 0<br />",
           "Probabilidade de marcar (em %): 0.0<br />Fração de chutes (em %): 0.00<br />Numero de chutes: 1<br />Numero de goals: 0<br />",
           "Probabilidade de marcar (em %): 0.0<br />Fração de chutes (em %): 0.00<br />Numero de chutes: 0<br />Numero de goals: 0<br />",
           "Probabilidade de marcar (em %): 0.0<br />Fração de chutes (em %): 0.00<br />Numero de chutes: 0<br />Numero de goals: 0<br />",
           "Probabilidade de marcar (em %): 0.0<br />Fração de chutes (em %): 0.00<br />Numero de chutes: 0<br />Numero de goals: 0<br />",
           "Probabilidade de marcar (em %): 0.0<br />Fração de chutes (em %): 0.00<br />Numero de chutes: 0<br />Numero de goals: 0<br />",
           "Probabilidade de marcar (em %): 0.0<br />Fração de chutes (em %): 0.00<br />Numero de chutes: 0<br />Numero de goals: 0<br />",
           "Probabilidade de marcar (em %): 0.0<br />Fração de chutes (em %): 0.00<br />Numero de chutes: 0<br />Numero de goals: 0<br />",
           "Probabilidade de marcar (em %): 0.0<br />Fração de chutes (em %): 0.00<br />Numero de chutes: 0<br />Numero de goals: 0<br />",
           "Probabilidade de marcar (em %): 0.0<br />Fração de chutes (em %): 0.00<br />Numero de chutes: 0<br />Numero de goals: 0<br />",
           "Probabilidade de marcar (em %): 0.0<br />Fração de chutes (em %): 0.00<br />Numero de chutes: 1<br />Numero de goals: 0<br />",
           "Probabilidade de marcar (em %): 0.0<br />Fração de chutes (em %): 0.00<br />Numero de chutes: 0<br />Numero de goals: 0<br />"
          ],
          [
           "Probabilidade de marcar (em %): 0.0<br />Fração de chutes (em %): 0.00<br />Numero de chutes: 1<br />Numero de goals: 0<br />",
           "Probabilidade de marcar (em %): 0.0<br />Fração de chutes (em %): 0.02<br />Numero de chutes: 11<br />Numero de goals: 0<br />",
           "Probabilidade de marcar (em %): 0.0<br />Fração de chutes (em %): 0.04<br />Numero de chutes: 18<br />Numero de goals: 0<br />",
           "Probabilidade de marcar (em %): 0.0<br />Fração de chutes (em %): 0.04<br />Numero de chutes: 16<br />Numero de goals: 0<br />",
           "Probabilidade de marcar (em %): 0.0<br />Fração de chutes (em %): 0.03<br />Numero de chutes: 13<br />Numero de goals: 0<br />",
           "Probabilidade de marcar (em %): 0.0<br />Fração de chutes (em %): 0.07<br />Numero de chutes: 33<br />Numero de goals: 0<br />",
           "Probabilidade de marcar (em %): 0.0<br />Fração de chutes (em %): 0.04<br />Numero de chutes: 17<br />Numero de goals: 0<br />",
           "Probabilidade de marcar (em %): 0.0<br />Fração de chutes (em %): 0.01<br />Numero de chutes: 6<br />Numero de goals: 0<br />",
           "Probabilidade de marcar (em %): 0.0<br />Fração de chutes (em %): 0.00<br />Numero de chutes: 2<br />Numero de goals: 0<br />",
           "Probabilidade de marcar (em %): 0.0<br />Fração de chutes (em %): 0.00<br />Numero de chutes: 0<br />Numero de goals: 0<br />",
           "Probabilidade de marcar (em %): 0.0<br />Fração de chutes (em %): 0.00<br />Numero de chutes: 1<br />Numero de goals: 0<br />",
           "Probabilidade de marcar (em %): 0.0<br />Fração de chutes (em %): 0.00<br />Numero de chutes: 0<br />Numero de goals: 0<br />",
           "Probabilidade de marcar (em %): 0.0<br />Fração de chutes (em %): 0.00<br />Numero de chutes: 2<br />Numero de goals: 0<br />",
           "Probabilidade de marcar (em %): 0.0<br />Fração de chutes (em %): 0.00<br />Numero de chutes: 0<br />Numero de goals: 0<br />",
           "Probabilidade de marcar (em %): 0.0<br />Fração de chutes (em %): 0.00<br />Numero de chutes: 1<br />Numero de goals: 0<br />",
           "Probabilidade de marcar (em %): 0.0<br />Fração de chutes (em %): 0.00<br />Numero de chutes: 0<br />Numero de goals: 0<br />",
           "Probabilidade de marcar (em %): 0.0<br />Fração de chutes (em %): 0.00<br />Numero de chutes: 0<br />Numero de goals: 0<br />",
           "Probabilidade de marcar (em %): 0.0<br />Fração de chutes (em %): 0.00<br />Numero de chutes: 0<br />Numero de goals: 0<br />",
           "Probabilidade de marcar (em %): 0.0<br />Fração de chutes (em %): 0.00<br />Numero de chutes: 0<br />Numero de goals: 0<br />",
           "Probabilidade de marcar (em %): 0.0<br />Fração de chutes (em %): 0.00<br />Numero de chutes: 0<br />Numero de goals: 0<br />",
           "Probabilidade de marcar (em %): 0.0<br />Fração de chutes (em %): 0.00<br />Numero de chutes: 0<br />Numero de goals: 0<br />",
           "Probabilidade de marcar (em %): 0.0<br />Fração de chutes (em %): 0.00<br />Numero de chutes: 0<br />Numero de goals: 0<br />",
           "Probabilidade de marcar (em %): 0.0<br />Fração de chutes (em %): 0.00<br />Numero de chutes: 0<br />Numero de goals: 0<br />",
           "Probabilidade de marcar (em %): 0.0<br />Fração de chutes (em %): 0.00<br />Numero de chutes: 0<br />Numero de goals: 0<br />"
          ],
          [
           "Probabilidade de marcar (em %): 0.0<br />Fração de chutes (em %): 0.00<br />Numero de chutes: 1<br />Numero de goals: 0<br />",
           "Probabilidade de marcar (em %): 0.0<br />Fração de chutes (em %): 0.00<br />Numero de chutes: 2<br />Numero de goals: 0<br />",
           "Probabilidade de marcar (em %): 0.0<br />Fração de chutes (em %): 0.00<br />Numero de chutes: 2<br />Numero de goals: 0<br />",
           "Probabilidade de marcar (em %): 0.0<br />Fração de chutes (em %): 0.02<br />Numero de chutes: 9<br />Numero de goals: 0<br />",
           "Probabilidade de marcar (em %): 0.0<br />Fração de chutes (em %): 0.00<br />Numero de chutes: 2<br />Numero de goals: 0<br />",
           "Probabilidade de marcar (em %): 0.0<br />Fração de chutes (em %): 0.02<br />Numero de chutes: 10<br />Numero de goals: 0<br />",
           "Probabilidade de marcar (em %): 0.0<br />Fração de chutes (em %): 0.01<br />Numero de chutes: 6<br />Numero de goals: 0<br />",
           "Probabilidade de marcar (em %): 0.0<br />Fração de chutes (em %): 0.00<br />Numero de chutes: 1<br />Numero de goals: 0<br />",
           "Probabilidade de marcar (em %): 0.0<br />Fração de chutes (em %): 0.00<br />Numero de chutes: 0<br />Numero de goals: 0<br />",
           "Probabilidade de marcar (em %): 0.0<br />Fração de chutes (em %): 0.00<br />Numero de chutes: 2<br />Numero de goals: 0<br />",
           "Probabilidade de marcar (em %): 0.0<br />Fração de chutes (em %): 0.00<br />Numero de chutes: 1<br />Numero de goals: 0<br />",
           "Probabilidade de marcar (em %): 0.0<br />Fração de chutes (em %): 0.00<br />Numero de chutes: 2<br />Numero de goals: 0<br />",
           "Probabilidade de marcar (em %): 0.0<br />Fração de chutes (em %): 0.00<br />Numero de chutes: 1<br />Numero de goals: 0<br />",
           "Probabilidade de marcar (em %): 0.0<br />Fração de chutes (em %): 0.00<br />Numero de chutes: 1<br />Numero de goals: 0<br />",
           "Probabilidade de marcar (em %): 0.0<br />Fração de chutes (em %): 0.00<br />Numero de chutes: 0<br />Numero de goals: 0<br />",
           "Probabilidade de marcar (em %): 0.0<br />Fração de chutes (em %): 0.00<br />Numero de chutes: 0<br />Numero de goals: 0<br />",
           "Probabilidade de marcar (em %): 0.0<br />Fração de chutes (em %): 0.00<br />Numero de chutes: 0<br />Numero de goals: 0<br />",
           "Probabilidade de marcar (em %): 0.0<br />Fração de chutes (em %): 0.00<br />Numero de chutes: 0<br />Numero de goals: 0<br />",
           "Probabilidade de marcar (em %): 0.0<br />Fração de chutes (em %): 0.00<br />Numero de chutes: 0<br />Numero de goals: 0<br />",
           "Probabilidade de marcar (em %): 0.0<br />Fração de chutes (em %): 0.00<br />Numero de chutes: 0<br />Numero de goals: 0<br />",
           "Probabilidade de marcar (em %): 0.0<br />Fração de chutes (em %): 0.00<br />Numero de chutes: 0<br />Numero de goals: 0<br />",
           "Probabilidade de marcar (em %): 0.0<br />Fração de chutes (em %): 0.00<br />Numero de chutes: 0<br />Numero de goals: 0<br />",
           "Probabilidade de marcar (em %): 0.0<br />Fração de chutes (em %): 0.00<br />Numero de chutes: 0<br />Numero de goals: 0<br />",
           "Probabilidade de marcar (em %): 0.0<br />Fração de chutes (em %): 0.00<br />Numero de chutes: 0<br />Numero de goals: 0<br />"
          ],
          [
           "Probabilidade de marcar (em %): 0.0<br />Fração de chutes (em %): 0.00<br />Numero de chutes: 0<br />Numero de goals: 0<br />",
           "Probabilidade de marcar (em %): 0.0<br />Fração de chutes (em %): 0.00<br />Numero de chutes: 1<br />Numero de goals: 0<br />",
           "Probabilidade de marcar (em %): 0.0<br />Fração de chutes (em %): 0.00<br />Numero de chutes: 0<br />Numero de goals: 0<br />",
           "Probabilidade de marcar (em %): 0.0<br />Fração de chutes (em %): 0.00<br />Numero de chutes: 1<br />Numero de goals: 0<br />",
           "Probabilidade de marcar (em %): 0.0<br />Fração de chutes (em %): 0.00<br />Numero de chutes: 2<br />Numero de goals: 0<br />",
           "Probabilidade de marcar (em %): 0.0<br />Fração de chutes (em %): 0.00<br />Numero de chutes: 2<br />Numero de goals: 0<br />",
           "Probabilidade de marcar (em %): 0.0<br />Fração de chutes (em %): 0.00<br />Numero de chutes: 1<br />Numero de goals: 0<br />",
           "Probabilidade de marcar (em %): 0.0<br />Fração de chutes (em %): 0.00<br />Numero de chutes: 0<br />Numero de goals: 0<br />",
           "Probabilidade de marcar (em %): 0.0<br />Fração de chutes (em %): 0.01<br />Numero de chutes: 3<br />Numero de goals: 0<br />",
           "Probabilidade de marcar (em %): 0.0<br />Fração de chutes (em %): 0.00<br />Numero de chutes: 2<br />Numero de goals: 0<br />",
           "Probabilidade de marcar (em %): 0.0<br />Fração de chutes (em %): 0.00<br />Numero de chutes: 0<br />Numero de goals: 0<br />",
           "Probabilidade de marcar (em %): 0.0<br />Fração de chutes (em %): 0.01<br />Numero de chutes: 6<br />Numero de goals: 0<br />",
           "Probabilidade de marcar (em %): 0.0<br />Fração de chutes (em %): 0.01<br />Numero de chutes: 3<br />Numero de goals: 0<br />",
           "Probabilidade de marcar (em %): 0.0<br />Fração de chutes (em %): 0.00<br />Numero de chutes: 0<br />Numero de goals: 0<br />",
           "Probabilidade de marcar (em %): 0.0<br />Fração de chutes (em %): 0.00<br />Numero de chutes: 0<br />Numero de goals: 0<br />",
           "Probabilidade de marcar (em %): 0.0<br />Fração de chutes (em %): 0.00<br />Numero de chutes: 1<br />Numero de goals: 0<br />",
           "Probabilidade de marcar (em %): 0.0<br />Fração de chutes (em %): 0.00<br />Numero de chutes: 0<br />Numero de goals: 0<br />",
           "Probabilidade de marcar (em %): 0.0<br />Fração de chutes (em %): 0.00<br />Numero de chutes: 0<br />Numero de goals: 0<br />",
           "Probabilidade de marcar (em %): 0.0<br />Fração de chutes (em %): 0.00<br />Numero de chutes: 0<br />Numero de goals: 0<br />",
           "Probabilidade de marcar (em %): 0.0<br />Fração de chutes (em %): 0.00<br />Numero de chutes: 0<br />Numero de goals: 0<br />",
           "Probabilidade de marcar (em %): 0.0<br />Fração de chutes (em %): 0.00<br />Numero de chutes: 0<br />Numero de goals: 0<br />",
           "Probabilidade de marcar (em %): 0.0<br />Fração de chutes (em %): 0.00<br />Numero de chutes: 0<br />Numero de goals: 0<br />",
           "Probabilidade de marcar (em %): 0.0<br />Fração de chutes (em %): 0.00<br />Numero de chutes: 0<br />Numero de goals: 0<br />",
           "Probabilidade de marcar (em %): 0.0<br />Fração de chutes (em %): 0.00<br />Numero de chutes: 0<br />Numero de goals: 0<br />"
          ]
         ],
         "type": "heatmap",
         "x": [
          2.1875,
          6.5625,
          10.9375,
          15.3125,
          19.6875,
          24.0625,
          28.4375,
          32.8125,
          37.1875,
          41.5625,
          45.9375,
          50.3125,
          54.6875,
          59.0625,
          63.4375,
          67.8125,
          72.1875,
          76.5625,
          80.9375,
          85.3125,
          89.6875,
          94.0625,
          98.4375,
          102.8125
         ],
         "y": [
          66,
          62,
          58,
          54,
          50,
          46,
          42,
          38,
          34,
          30,
          26,
          22,
          18,
          14,
          10,
          6,
          2
         ],
         "z": [
          [
           0,
           0,
           0,
           0,
           0,
           0,
           0,
           0,
           0,
           0,
           0,
           0,
           0,
           0,
           0,
           0,
           0,
           0,
           0,
           0,
           0,
           0,
           0,
           0
          ],
          [
           0,
           0,
           0,
           0,
           0,
           9.090909090909092,
           0,
           0,
           0,
           0,
           0,
           0,
           0,
           0,
           0,
           0,
           0,
           0,
           0,
           0,
           0,
           0,
           0,
           0
          ],
          [
           0,
           0,
           12.5,
           16.666666666666664,
           4.545454545454546,
           0,
           0,
           10,
           0,
           0,
           0,
           0,
           0,
           0,
           0,
           0,
           0,
           0,
           0,
           0,
           0,
           0,
           0,
           0
          ],
          [
           0,
           3.8461538461538463,
           5.263157894736842,
           4.285714285714286,
           2.083333333333333,
           0.4830917874396135,
           0.7692307692307693,
           2.1739130434782608,
           0,
           0,
           0,
           0,
           0,
           0,
           0,
           0,
           0,
           0,
           0,
           0,
           0,
           0,
           0,
           0
          ],
          [
           2.0408163265306123,
           1.2552301255230125,
           6,
           3.865979381443299,
           2.5445292620865136,
           2.1207177814029365,
           1.929260450160772,
           0,
           0,
           0,
           0,
           0,
           0,
           0,
           0,
           0,
           0,
           0,
           0,
           0,
           0,
           0,
           0,
           0
          ],
          [
           7.784431137724551,
           8.121019108280255,
           9.670329670329672,
           5.548037889039242,
           3.4108527131782944,
           2.898550724637681,
           1.2605042016806722,
           1.5384615384615385,
           0,
           0,
           0,
           0,
           0,
           0,
           0,
           0,
           0,
           0,
           0,
           0,
           0,
           0,
           0,
           0
          ],
          [
           18.58108108108108,
           17.010309278350515,
           13.998703823720026,
           8.874172185430464,
           5.4888507718696395,
           3.294367693942614,
           2.490421455938697,
           3.3707865168539324,
           0,
           0,
           0,
           0,
           0,
           0,
           0,
           0,
           0,
           0,
           0,
           0,
           0,
           0,
           0,
           0
          ],
          [
           52.39234449760766,
           25.125208681135224,
           14.573732718894009,
           10.303830911492733,
           8.756567425569177,
           4.399524375743162,
           2.951388888888889,
           2.512562814070352,
           0,
           0,
           0,
           0,
           0,
           0,
           0,
           0,
           0,
           0,
           0,
           0,
           0,
           0,
           0,
           0
          ],
          [
           61.3941018766756,
           29.74137931034483,
           17.041053446940357,
           11.232876712328768,
           8.653846153846153,
           2.6722925457102673,
           2.886247877758913,
           2.631578947368421,
           0,
           0,
           0,
           0,
           0,
           0,
           0,
           0,
           0,
           0,
           0,
           0,
           0,
           0,
           0,
           0
          ],
          [
           41.734417344173444,
           25.62988705473501,
           15.668481548699335,
           12.711864406779661,
           7.076350093109869,
           3.6540803897685747,
           3.0303030303030303,
           1.5789473684210527,
           0,
           0,
           0,
           0,
           0,
           0,
           0,
           0,
           0,
           0,
           0,
           0,
           0,
           0,
           0,
           0
          ],
          [
           16.43835616438356,
           16.059379217273953,
           12.830957230142568,
           8.944281524926687,
           4.9504950495049505,
           3.5940803382663846,
           2.1739130434782608,
           2.898550724637681,
           0,
           0,
           0,
           0,
           0,
           0,
           0,
           0,
           0,
           0,
           0,
           0,
           0,
           0,
           0,
           0
          ],
          [
           3.389830508474576,
           8.576051779935275,
           8.63121185701831,
           5.709624796084829,
           3.5211267605633805,
           3.32541567695962,
           2.5974025974025974,
           2.631578947368421,
           0,
           0,
           0,
           0,
           0,
           0,
           0,
           0,
           0,
           0,
           0,
           0,
           0,
           0,
           0,
           0
          ],
          [
           2.380952380952381,
           5.128205128205128,
           5.357142857142857,
           3.8062283737024223,
           4.748603351955307,
           1.0822510822510822,
           2.127659574468085,
           3.4482758620689653,
           0,
           0,
           0,
           0,
           0,
           0,
           0,
           0,
           0,
           0,
           0,
           0,
           0,
           0,
           0,
           0
          ],
          [
           0,
           0,
           2.127659574468085,
           2.1739130434782608,
           0,
           0,
           0,
           0,
           0,
           0,
           0,
           0,
           0,
           0,
           0,
           0,
           0,
           0,
           0,
           0,
           0,
           0,
           0,
           0
          ],
          [
           0,
           0,
           0,
           0,
           0,
           0,
           0,
           0,
           0,
           0,
           0,
           0,
           0,
           0,
           0,
           0,
           0,
           0,
           0,
           0,
           0,
           0,
           0,
           0
          ],
          [
           0,
           0,
           0,
           0,
           0,
           0,
           0,
           0,
           0,
           0,
           0,
           0,
           0,
           0,
           0,
           0,
           0,
           0,
           0,
           0,
           0,
           0,
           0,
           0
          ],
          [
           0,
           0,
           0,
           0,
           0,
           0,
           0,
           0,
           0,
           0,
           0,
           0,
           0,
           0,
           0,
           0,
           0,
           0,
           0,
           0,
           0,
           0,
           0,
           0
          ]
         ],
         "zsmooth": false
        }
       ],
       "layout": {
        "autosize": false,
        "height": 612,
        "plot_bgcolor": "white",
        "shapes": [
         {
          "line": {
           "color": "white",
           "width": 2
          },
          "type": "line",
          "x0": 52.5,
          "x1": 52.5,
          "y0": 0,
          "y1": 68
         },
         {
          "line": {
           "color": "white",
           "width": 2
          },
          "type": "line",
          "x0": 0,
          "x1": 16,
          "y0": 54.16,
          "y1": 54.16
         },
         {
          "line": {
           "color": "white",
           "width": 2
          },
          "type": "line",
          "x0": 16,
          "x1": 16,
          "y0": 54.16,
          "y1": 13.84
         },
         {
          "line": {
           "color": "white",
           "width": 2
          },
          "type": "line",
          "x0": 16,
          "x1": 0,
          "y0": 13.84,
          "y1": 13.84
         },
         {
          "line": {
           "color": "white",
           "width": 2
          },
          "type": "line",
          "x0": 0,
          "x1": 5.5,
          "y0": 24.84,
          "y1": 24.84
         },
         {
          "line": {
           "color": "white",
           "width": 2
          },
          "type": "line",
          "x0": 5.5,
          "x1": 5.5,
          "y0": 24.84,
          "y1": 43.16
         },
         {
          "line": {
           "color": "white",
           "width": 2
          },
          "type": "line",
          "x0": 5.5,
          "x1": 0,
          "y0": 43.16,
          "y1": 43.16
         },
         {
          "line": {
           "color": "white",
           "width": 2
          },
          "type": "line",
          "x0": 105,
          "x1": 89,
          "y0": 54.16,
          "y1": 54.16
         },
         {
          "line": {
           "color": "white",
           "width": 2
          },
          "type": "line",
          "x0": 89,
          "x1": 89,
          "y0": 54.16,
          "y1": 13.84
         },
         {
          "line": {
           "color": "white",
           "width": 2
          },
          "type": "line",
          "x0": 89,
          "x1": 105,
          "y0": 13.84,
          "y1": 13.84
         },
         {
          "line": {
           "color": "white",
           "width": 2
          },
          "type": "line",
          "x0": 105,
          "x1": 99.5,
          "y0": 24.84,
          "y1": 24.84
         },
         {
          "line": {
           "color": "white",
           "width": 2
          },
          "type": "line",
          "x0": 99.5,
          "x1": 99.5,
          "y0": 24.84,
          "y1": 43.16
         },
         {
          "line": {
           "color": "white",
           "width": 2
          },
          "type": "line",
          "x0": 99.5,
          "x1": 105,
          "y0": 43.16,
          "y1": 43.16
         },
         {
          "fillcolor": "white",
          "line": {
           "color": "white"
          },
          "type": "circle",
          "x0": 10.5,
          "x1": 11.5,
          "xref": "x",
          "y0": 33.5,
          "y1": 34.5,
          "yref": "y"
         },
         {
          "fillcolor": "white",
          "line": {
           "color": "white"
          },
          "type": "circle",
          "x0": 93.5,
          "x1": 94.5,
          "xref": "x",
          "y0": 33.5,
          "y1": 34.5,
          "yref": "y"
         },
         {
          "fillcolor": "white",
          "line": {
           "color": "white"
          },
          "type": "circle",
          "x0": 52,
          "x1": 53,
          "xref": "x",
          "y0": 33.5,
          "y1": 34.5,
          "yref": "y"
         },
         {
          "line": {
           "color": "white"
          },
          "type": "circle",
          "x0": 43.35,
          "x1": 61.65,
          "xref": "x",
          "y0": 24.85,
          "y1": 43.15,
          "yref": "y"
         },
         {
          "line": {
           "color": "white",
           "width": 2
          },
          "type": "line",
          "x0": 0,
          "x1": 105,
          "y0": 0,
          "y1": 0
         },
         {
          "line": {
           "color": "white",
           "width": 2
          },
          "type": "line",
          "x0": 0,
          "x1": 0,
          "y0": 0,
          "y1": 68
         },
         {
          "line": {
           "color": "white",
           "width": 2
          },
          "type": "line",
          "x0": 0,
          "x1": 105,
          "y0": 68,
          "y1": 68
         },
         {
          "line": {
           "color": "white",
           "width": 2
          },
          "type": "line",
          "x0": 105,
          "x1": 105,
          "y0": 0,
          "y1": 68
         },
         {
          "line": {
           "color": "white",
           "width": 2
          },
          "type": "line",
          "x0": 0,
          "x1": -2,
          "y0": 30.34,
          "y1": 30.34
         },
         {
          "line": {
           "color": "white",
           "width": 2
          },
          "type": "line",
          "x0": 0,
          "x1": -2,
          "y0": 37.66,
          "y1": 37.66
         },
         {
          "line": {
           "color": "white",
           "width": 2
          },
          "type": "line",
          "x0": -2,
          "x1": -2,
          "y0": 30.34,
          "y1": 37.66
         },
         {
          "line": {
           "color": "white",
           "width": 2
          },
          "type": "line",
          "x0": 105,
          "x1": 107,
          "y0": 30.34,
          "y1": 30.34
         },
         {
          "line": {
           "color": "white",
           "width": 2
          },
          "type": "line",
          "x0": 105,
          "x1": 107,
          "y0": 37.66,
          "y1": 37.66
         },
         {
          "line": {
           "color": "white",
           "width": 2
          },
          "type": "line",
          "x0": 107,
          "x1": 107,
          "y0": 30.34,
          "y1": 37.66
         }
        ],
        "template": {
         "data": {
          "bar": [
           {
            "error_x": {
             "color": "#2a3f5f"
            },
            "error_y": {
             "color": "#2a3f5f"
            },
            "marker": {
             "line": {
              "color": "#E5ECF6",
              "width": 0.5
             },
             "pattern": {
              "fillmode": "overlay",
              "size": 10,
              "solidity": 0.2
             }
            },
            "type": "bar"
           }
          ],
          "barpolar": [
           {
            "marker": {
             "line": {
              "color": "#E5ECF6",
              "width": 0.5
             },
             "pattern": {
              "fillmode": "overlay",
              "size": 10,
              "solidity": 0.2
             }
            },
            "type": "barpolar"
           }
          ],
          "carpet": [
           {
            "aaxis": {
             "endlinecolor": "#2a3f5f",
             "gridcolor": "white",
             "linecolor": "white",
             "minorgridcolor": "white",
             "startlinecolor": "#2a3f5f"
            },
            "baxis": {
             "endlinecolor": "#2a3f5f",
             "gridcolor": "white",
             "linecolor": "white",
             "minorgridcolor": "white",
             "startlinecolor": "#2a3f5f"
            },
            "type": "carpet"
           }
          ],
          "choropleth": [
           {
            "colorbar": {
             "outlinewidth": 0,
             "ticks": ""
            },
            "type": "choropleth"
           }
          ],
          "contour": [
           {
            "colorbar": {
             "outlinewidth": 0,
             "ticks": ""
            },
            "colorscale": [
             [
              0,
              "#0d0887"
             ],
             [
              0.1111111111111111,
              "#46039f"
             ],
             [
              0.2222222222222222,
              "#7201a8"
             ],
             [
              0.3333333333333333,
              "#9c179e"
             ],
             [
              0.4444444444444444,
              "#bd3786"
             ],
             [
              0.5555555555555556,
              "#d8576b"
             ],
             [
              0.6666666666666666,
              "#ed7953"
             ],
             [
              0.7777777777777778,
              "#fb9f3a"
             ],
             [
              0.8888888888888888,
              "#fdca26"
             ],
             [
              1,
              "#f0f921"
             ]
            ],
            "type": "contour"
           }
          ],
          "contourcarpet": [
           {
            "colorbar": {
             "outlinewidth": 0,
             "ticks": ""
            },
            "type": "contourcarpet"
           }
          ],
          "heatmap": [
           {
            "colorbar": {
             "outlinewidth": 0,
             "ticks": ""
            },
            "colorscale": [
             [
              0,
              "#0d0887"
             ],
             [
              0.1111111111111111,
              "#46039f"
             ],
             [
              0.2222222222222222,
              "#7201a8"
             ],
             [
              0.3333333333333333,
              "#9c179e"
             ],
             [
              0.4444444444444444,
              "#bd3786"
             ],
             [
              0.5555555555555556,
              "#d8576b"
             ],
             [
              0.6666666666666666,
              "#ed7953"
             ],
             [
              0.7777777777777778,
              "#fb9f3a"
             ],
             [
              0.8888888888888888,
              "#fdca26"
             ],
             [
              1,
              "#f0f921"
             ]
            ],
            "type": "heatmap"
           }
          ],
          "heatmapgl": [
           {
            "colorbar": {
             "outlinewidth": 0,
             "ticks": ""
            },
            "colorscale": [
             [
              0,
              "#0d0887"
             ],
             [
              0.1111111111111111,
              "#46039f"
             ],
             [
              0.2222222222222222,
              "#7201a8"
             ],
             [
              0.3333333333333333,
              "#9c179e"
             ],
             [
              0.4444444444444444,
              "#bd3786"
             ],
             [
              0.5555555555555556,
              "#d8576b"
             ],
             [
              0.6666666666666666,
              "#ed7953"
             ],
             [
              0.7777777777777778,
              "#fb9f3a"
             ],
             [
              0.8888888888888888,
              "#fdca26"
             ],
             [
              1,
              "#f0f921"
             ]
            ],
            "type": "heatmapgl"
           }
          ],
          "histogram": [
           {
            "marker": {
             "pattern": {
              "fillmode": "overlay",
              "size": 10,
              "solidity": 0.2
             }
            },
            "type": "histogram"
           }
          ],
          "histogram2d": [
           {
            "colorbar": {
             "outlinewidth": 0,
             "ticks": ""
            },
            "colorscale": [
             [
              0,
              "#0d0887"
             ],
             [
              0.1111111111111111,
              "#46039f"
             ],
             [
              0.2222222222222222,
              "#7201a8"
             ],
             [
              0.3333333333333333,
              "#9c179e"
             ],
             [
              0.4444444444444444,
              "#bd3786"
             ],
             [
              0.5555555555555556,
              "#d8576b"
             ],
             [
              0.6666666666666666,
              "#ed7953"
             ],
             [
              0.7777777777777778,
              "#fb9f3a"
             ],
             [
              0.8888888888888888,
              "#fdca26"
             ],
             [
              1,
              "#f0f921"
             ]
            ],
            "type": "histogram2d"
           }
          ],
          "histogram2dcontour": [
           {
            "colorbar": {
             "outlinewidth": 0,
             "ticks": ""
            },
            "colorscale": [
             [
              0,
              "#0d0887"
             ],
             [
              0.1111111111111111,
              "#46039f"
             ],
             [
              0.2222222222222222,
              "#7201a8"
             ],
             [
              0.3333333333333333,
              "#9c179e"
             ],
             [
              0.4444444444444444,
              "#bd3786"
             ],
             [
              0.5555555555555556,
              "#d8576b"
             ],
             [
              0.6666666666666666,
              "#ed7953"
             ],
             [
              0.7777777777777778,
              "#fb9f3a"
             ],
             [
              0.8888888888888888,
              "#fdca26"
             ],
             [
              1,
              "#f0f921"
             ]
            ],
            "type": "histogram2dcontour"
           }
          ],
          "mesh3d": [
           {
            "colorbar": {
             "outlinewidth": 0,
             "ticks": ""
            },
            "type": "mesh3d"
           }
          ],
          "parcoords": [
           {
            "line": {
             "colorbar": {
              "outlinewidth": 0,
              "ticks": ""
             }
            },
            "type": "parcoords"
           }
          ],
          "pie": [
           {
            "automargin": true,
            "type": "pie"
           }
          ],
          "scatter": [
           {
            "fillpattern": {
             "fillmode": "overlay",
             "size": 10,
             "solidity": 0.2
            },
            "type": "scatter"
           }
          ],
          "scatter3d": [
           {
            "line": {
             "colorbar": {
              "outlinewidth": 0,
              "ticks": ""
             }
            },
            "marker": {
             "colorbar": {
              "outlinewidth": 0,
              "ticks": ""
             }
            },
            "type": "scatter3d"
           }
          ],
          "scattercarpet": [
           {
            "marker": {
             "colorbar": {
              "outlinewidth": 0,
              "ticks": ""
             }
            },
            "type": "scattercarpet"
           }
          ],
          "scattergeo": [
           {
            "marker": {
             "colorbar": {
              "outlinewidth": 0,
              "ticks": ""
             }
            },
            "type": "scattergeo"
           }
          ],
          "scattergl": [
           {
            "marker": {
             "colorbar": {
              "outlinewidth": 0,
              "ticks": ""
             }
            },
            "type": "scattergl"
           }
          ],
          "scattermapbox": [
           {
            "marker": {
             "colorbar": {
              "outlinewidth": 0,
              "ticks": ""
             }
            },
            "type": "scattermapbox"
           }
          ],
          "scatterpolar": [
           {
            "marker": {
             "colorbar": {
              "outlinewidth": 0,
              "ticks": ""
             }
            },
            "type": "scatterpolar"
           }
          ],
          "scatterpolargl": [
           {
            "marker": {
             "colorbar": {
              "outlinewidth": 0,
              "ticks": ""
             }
            },
            "type": "scatterpolargl"
           }
          ],
          "scatterternary": [
           {
            "marker": {
             "colorbar": {
              "outlinewidth": 0,
              "ticks": ""
             }
            },
            "type": "scatterternary"
           }
          ],
          "surface": [
           {
            "colorbar": {
             "outlinewidth": 0,
             "ticks": ""
            },
            "colorscale": [
             [
              0,
              "#0d0887"
             ],
             [
              0.1111111111111111,
              "#46039f"
             ],
             [
              0.2222222222222222,
              "#7201a8"
             ],
             [
              0.3333333333333333,
              "#9c179e"
             ],
             [
              0.4444444444444444,
              "#bd3786"
             ],
             [
              0.5555555555555556,
              "#d8576b"
             ],
             [
              0.6666666666666666,
              "#ed7953"
             ],
             [
              0.7777777777777778,
              "#fb9f3a"
             ],
             [
              0.8888888888888888,
              "#fdca26"
             ],
             [
              1,
              "#f0f921"
             ]
            ],
            "type": "surface"
           }
          ],
          "table": [
           {
            "cells": {
             "fill": {
              "color": "#EBF0F8"
             },
             "line": {
              "color": "white"
             }
            },
            "header": {
             "fill": {
              "color": "#C8D4E3"
             },
             "line": {
              "color": "white"
             }
            },
            "type": "table"
           }
          ]
         },
         "layout": {
          "annotationdefaults": {
           "arrowcolor": "#2a3f5f",
           "arrowhead": 0,
           "arrowwidth": 1
          },
          "autotypenumbers": "strict",
          "coloraxis": {
           "colorbar": {
            "outlinewidth": 0,
            "ticks": ""
           }
          },
          "colorscale": {
           "diverging": [
            [
             0,
             "#8e0152"
            ],
            [
             0.1,
             "#c51b7d"
            ],
            [
             0.2,
             "#de77ae"
            ],
            [
             0.3,
             "#f1b6da"
            ],
            [
             0.4,
             "#fde0ef"
            ],
            [
             0.5,
             "#f7f7f7"
            ],
            [
             0.6,
             "#e6f5d0"
            ],
            [
             0.7,
             "#b8e186"
            ],
            [
             0.8,
             "#7fbc41"
            ],
            [
             0.9,
             "#4d9221"
            ],
            [
             1,
             "#276419"
            ]
           ],
           "sequential": [
            [
             0,
             "#0d0887"
            ],
            [
             0.1111111111111111,
             "#46039f"
            ],
            [
             0.2222222222222222,
             "#7201a8"
            ],
            [
             0.3333333333333333,
             "#9c179e"
            ],
            [
             0.4444444444444444,
             "#bd3786"
            ],
            [
             0.5555555555555556,
             "#d8576b"
            ],
            [
             0.6666666666666666,
             "#ed7953"
            ],
            [
             0.7777777777777778,
             "#fb9f3a"
            ],
            [
             0.8888888888888888,
             "#fdca26"
            ],
            [
             1,
             "#f0f921"
            ]
           ],
           "sequentialminus": [
            [
             0,
             "#0d0887"
            ],
            [
             0.1111111111111111,
             "#46039f"
            ],
            [
             0.2222222222222222,
             "#7201a8"
            ],
            [
             0.3333333333333333,
             "#9c179e"
            ],
            [
             0.4444444444444444,
             "#bd3786"
            ],
            [
             0.5555555555555556,
             "#d8576b"
            ],
            [
             0.6666666666666666,
             "#ed7953"
            ],
            [
             0.7777777777777778,
             "#fb9f3a"
            ],
            [
             0.8888888888888888,
             "#fdca26"
            ],
            [
             1,
             "#f0f921"
            ]
           ]
          },
          "colorway": [
           "#636efa",
           "#EF553B",
           "#00cc96",
           "#ab63fa",
           "#FFA15A",
           "#19d3f3",
           "#FF6692",
           "#B6E880",
           "#FF97FF",
           "#FECB52"
          ],
          "font": {
           "color": "#2a3f5f"
          },
          "geo": {
           "bgcolor": "white",
           "lakecolor": "white",
           "landcolor": "#E5ECF6",
           "showlakes": true,
           "showland": true,
           "subunitcolor": "white"
          },
          "hoverlabel": {
           "align": "left"
          },
          "hovermode": "closest",
          "mapbox": {
           "style": "light"
          },
          "paper_bgcolor": "white",
          "plot_bgcolor": "#E5ECF6",
          "polar": {
           "angularaxis": {
            "gridcolor": "white",
            "linecolor": "white",
            "ticks": ""
           },
           "bgcolor": "#E5ECF6",
           "radialaxis": {
            "gridcolor": "white",
            "linecolor": "white",
            "ticks": ""
           }
          },
          "scene": {
           "xaxis": {
            "backgroundcolor": "#E5ECF6",
            "gridcolor": "white",
            "gridwidth": 2,
            "linecolor": "white",
            "showbackground": true,
            "ticks": "",
            "zerolinecolor": "white"
           },
           "yaxis": {
            "backgroundcolor": "#E5ECF6",
            "gridcolor": "white",
            "gridwidth": 2,
            "linecolor": "white",
            "showbackground": true,
            "ticks": "",
            "zerolinecolor": "white"
           },
           "zaxis": {
            "backgroundcolor": "#E5ECF6",
            "gridcolor": "white",
            "gridwidth": 2,
            "linecolor": "white",
            "showbackground": true,
            "ticks": "",
            "zerolinecolor": "white"
           }
          },
          "shapedefaults": {
           "line": {
            "color": "#2a3f5f"
           }
          },
          "ternary": {
           "aaxis": {
            "gridcolor": "white",
            "linecolor": "white",
            "ticks": ""
           },
           "baxis": {
            "gridcolor": "white",
            "linecolor": "white",
            "ticks": ""
           },
           "bgcolor": "#E5ECF6",
           "caxis": {
            "gridcolor": "white",
            "linecolor": "white",
            "ticks": ""
           }
          },
          "title": {
           "x": 0.05
          },
          "xaxis": {
           "automargin": true,
           "gridcolor": "white",
           "linecolor": "white",
           "ticks": "",
           "title": {
            "standoff": 15
           },
           "zerolinecolor": "white",
           "zerolinewidth": 2
          },
          "yaxis": {
           "automargin": true,
           "gridcolor": "white",
           "linecolor": "white",
           "ticks": "",
           "title": {
            "standoff": 15
           },
           "zerolinecolor": "white",
           "zerolinewidth": 2
          }
         }
        },
        "title": {
         "text": "Probabilidade de marcar",
         "x": 0.5,
         "xanchor": "center",
         "y": 0.9,
         "yanchor": "top"
        },
        "width": 840,
        "xaxis": {
         "range": [
          -5,
          110
         ],
         "showgrid": false,
         "showticklabels": false,
         "zeroline": false
        },
        "yaxis": {
         "range": [
          -5,
          73
         ],
         "showgrid": false,
         "showticklabels": false,
         "zeroline": false
        }
       }
      }
     },
     "metadata": {},
     "output_type": "display_data"
    }
   ],
   "source": [
    "goals = shots[shots[\"goal\"] == 1]\n",
    "\n",
    "nb_shots, x,y, df_shots = p.prepare_heatmap(shots, 'x', 'y', 24,17, return_df = True)\n",
    "share_shots = nb_shots / nb_shots.sum() * 100\n",
    "# numero de chutes por grid\n",
    "nb_goals, x, y = p.prepare_heatmap(goals, \"x\", \"y\", 24, 17)\n",
    "\n",
    "goal_proba = np.divide(nb_goals, nb_shots, out=np.zeros_like(nb_goals), where=nb_shots!=0) * 100\n",
    "\n",
    "\n",
    "# plotando o heatmap\n",
    "dict_info = {\"Probabilidade de marcar (em %)\": {\"values\": goal_proba, \"display_type\": \".1f\"},\n",
    "             \"Fração de chutes (em %)\": {\"values\": share_shots, \"display_type\": \".2f\"},\n",
    "             \"Numero de chutes\": {\"values\": nb_shots, \"display_type\": \".0f\"},\n",
    "             \"Numero de goals\": {\"values\": nb_goals, \"display_type\": \".0f\"}}\n",
    "fig = p.create_heatmap(x, y, goal_proba, dict_info, title_name=\"Probabilidade de marcar\")\n",
    "fig.show()"
   ]
  },
  {
   "cell_type": "code",
   "execution_count": 87,
   "id": "cb5c7bc8",
   "metadata": {},
   "outputs": [],
   "source": [
    "#shots.to_csv('shots_dataframe_modelling.csv')"
   ]
  },
  {
   "cell_type": "code",
   "execution_count": 37,
   "id": "c31a6db3",
   "metadata": {},
   "outputs": [
    {
     "name": "stdout",
     "output_type": "stream",
     "text": [
      "O nosso xG usando apenas o valor médio esperado é de: 0.10178516194600327\n"
     ]
    }
   ],
   "source": [
    "print(f\"O nosso xG usando apenas o valor médio esperado é de: {len(goals)/len(shots)}\")"
   ]
  },
  {
   "attachments": {},
   "cell_type": "markdown",
   "id": "f8ae6650",
   "metadata": {},
   "source": [
    "#### Hipótese 1) \n",
    "\n",
    "#### Existe alguma relação entre o ângulo do chute e gols?"
   ]
  },
  {
   "cell_type": "code",
   "execution_count": 38,
   "id": "5ca15119",
   "metadata": {},
   "outputs": [
    {
     "data": {
      "image/png": "[encoded data removed]",
      "text/plain": [
       "<Figure size 640x480 with 1 Axes>"
      ]
     },
     "metadata": {},
     "output_type": "display_data"
    }
   ],
   "source": [
    "plt.style.use('ggplot')\n",
    "# numero de chutes por angulo\n",
    "shotcount_dist = np.histogram(shots['angle']*180/np.pi, bins=40, range=[0, 150])\n",
    "# numero de gols por angulo\n",
    "goalcount_dist = np.histogram(goals['angle']*180/np.pi, bins=40, range=[0, 150])\n",
    "np.seterr(divide='ignore', invalid='ignore')\n",
    "# probabilidade de marcar um gol\n",
    "prob_goal = np.divide(goalcount_dist[0], shotcount_dist[0])\n",
    "angle = shotcount_dist[1]\n",
    "midangle = (angle[:-1] + angle[1:])/2\n",
    "\n",
    "# plot\n",
    "\n",
    "\n",
    "fig,ax = plt.subplots()\n",
    "#ax.plot(midangle, prob_goal, linestyle='none', marker= '.', markersize= 12, color='black')\n",
    "sns.scatterplot(x = midangle, y = prob_goal)\n",
    "ax.set_ylabel('Probabilidade de marcar gol')\n",
    "ax.set_xlabel(\"Angulo do chute (graus)\")\n",
    "ax.spines['top'].set_visible(False)\n",
    "ax.spines['right'].set_visible(False)\n",
    "plt.show()"
   ]
  },
  {
   "cell_type": "markdown",
   "id": "e8a5a5d8",
   "metadata": {},
   "source": [
    "#### Hipótese 2) \n",
    "\n",
    "#### Existe alguma relação entre a distância do chute e gols?"
   ]
  },
  {
   "cell_type": "code",
   "execution_count": 39,
   "id": "6c6d1971",
   "metadata": {},
   "outputs": [
    {
     "data": {
      "image/png": "[encoded data removed]",
      "text/plain": [
       "<Figure size 640x480 with 1 Axes>"
      ]
     },
     "metadata": {},
     "output_type": "display_data"
    }
   ],
   "source": [
    "# numero de chutes\n",
    "shotcount_dist = np.histogram(shots['distance'],bins=40,range=[0, 70])\n",
    "# numero de gols\n",
    "goalcount_dist = np.histogram(goals['distance'],bins=40,range=[0, 70])\n",
    "# probabilidade empirica de marcar\n",
    "prob_goal = np.divide(goalcount_dist[0],shotcount_dist[0])\n",
    "distance = shotcount_dist[1]\n",
    "middistance= (distance[:-1] + distance[1:])/2\n",
    "\n",
    "#plot\n",
    "fig, ax = plt.subplots()\n",
    "\n",
    "ax.plot(middistance, prob_goal, linestyle='none', marker= '.', color='black')\n",
    "\n",
    "ax.set_ylabel('Probabilidade de marcar')\n",
    "ax.set_xlabel(\"Distancia do gol em metros\")\n",
    "ax.spines['top'].set_visible(False)\n",
    "ax.spines['right'].set_visible(False)"
   ]
  },
  {
   "attachments": {},
   "cell_type": "markdown",
   "id": "42327dcf",
   "metadata": {},
   "source": [
    "A seguir iremos fitar um modelos de classificação e o ângulo do chute e a distância são 2 features candidatas para nosso modelo baseline"
   ]
  },
  {
   "attachments": {},
   "cell_type": "markdown",
   "id": "6036ba46",
   "metadata": {},
   "source": [
    "### Avaliando multicolinearidade"
   ]
  },
  {
   "cell_type": "code",
   "execution_count": 40,
   "id": "9bb49b80",
   "metadata": {},
   "outputs": [
    {
     "data": {
      "text/html": [
       "<div>\n",
       "<style scoped>\n",
       "    .dataframe tbody tr th:only-of-type {\n",
       "        vertical-align: middle;\n",
       "    }\n",
       "\n",
       "    .dataframe tbody tr th {\n",
       "        vertical-align: top;\n",
       "    }\n",
       "\n",
       "    .dataframe thead th {\n",
       "        text-align: right;\n",
       "    }\n",
       "</style>\n",
       "<table border=\"1\" class=\"dataframe\">\n",
       "  <thead>\n",
       "    <tr style=\"text-align: right;\">\n",
       "      <th></th>\n",
       "      <th>x</th>\n",
       "      <th>y</th>\n",
       "      <th>c</th>\n",
       "      <th>distance</th>\n",
       "      <th>angle</th>\n",
       "      <th>free_kick</th>\n",
       "      <th>counter_attack</th>\n",
       "      <th>rebound</th>\n",
       "      <th>prev_cross</th>\n",
       "      <th>prev_touch</th>\n",
       "      <th>prev_pass</th>\n",
       "      <th>prev_smart_pass</th>\n",
       "      <th>prev_duel</th>\n",
       "    </tr>\n",
       "  </thead>\n",
       "  <tbody>\n",
       "    <tr>\n",
       "      <th>x</th>\n",
       "      <td>1.000000</td>\n",
       "      <td>-0.013236</td>\n",
       "      <td>0.151850</td>\n",
       "      <td>0.948435</td>\n",
       "      <td>-0.585652</td>\n",
       "      <td>0.229542</td>\n",
       "      <td>-0.024412</td>\n",
       "      <td>-0.071077</td>\n",
       "      <td>-0.280504</td>\n",
       "      <td>0.010427</td>\n",
       "      <td>0.261487</td>\n",
       "      <td>-0.133517</td>\n",
       "      <td>-0.108524</td>\n",
       "    </tr>\n",
       "    <tr>\n",
       "      <th>y</th>\n",
       "      <td>-0.013236</td>\n",
       "      <td>1.000000</td>\n",
       "      <td>-0.076380</td>\n",
       "      <td>-0.035570</td>\n",
       "      <td>0.035862</td>\n",
       "      <td>-0.007580</td>\n",
       "      <td>0.000015</td>\n",
       "      <td>0.006143</td>\n",
       "      <td>0.007535</td>\n",
       "      <td>0.011746</td>\n",
       "      <td>0.007378</td>\n",
       "      <td>0.015842</td>\n",
       "      <td>-0.026218</td>\n",
       "    </tr>\n",
       "    <tr>\n",
       "      <th>c</th>\n",
       "      <td>0.151850</td>\n",
       "      <td>-0.076380</td>\n",
       "      <td>1.000000</td>\n",
       "      <td>0.434870</td>\n",
       "      <td>-0.569811</td>\n",
       "      <td>0.118247</td>\n",
       "      <td>0.032330</td>\n",
       "      <td>-0.035173</td>\n",
       "      <td>-0.179973</td>\n",
       "      <td>-0.016482</td>\n",
       "      <td>0.056701</td>\n",
       "      <td>0.027982</td>\n",
       "      <td>0.019376</td>\n",
       "    </tr>\n",
       "    <tr>\n",
       "      <th>distance</th>\n",
       "      <td>0.948435</td>\n",
       "      <td>-0.035570</td>\n",
       "      <td>0.434870</td>\n",
       "      <td>1.000000</td>\n",
       "      <td>-0.728582</td>\n",
       "      <td>0.249475</td>\n",
       "      <td>-0.011887</td>\n",
       "      <td>-0.074698</td>\n",
       "      <td>-0.314906</td>\n",
       "      <td>0.005065</td>\n",
       "      <td>0.253795</td>\n",
       "      <td>-0.107280</td>\n",
       "      <td>-0.094800</td>\n",
       "    </tr>\n",
       "    <tr>\n",
       "      <th>angle</th>\n",
       "      <td>-0.585652</td>\n",
       "      <td>0.035862</td>\n",
       "      <td>-0.569811</td>\n",
       "      <td>-0.728582</td>\n",
       "      <td>1.000000</td>\n",
       "      <td>-0.154591</td>\n",
       "      <td>-0.038091</td>\n",
       "      <td>0.086495</td>\n",
       "      <td>0.287598</td>\n",
       "      <td>0.007340</td>\n",
       "      <td>-0.182624</td>\n",
       "      <td>0.005648</td>\n",
       "      <td>0.024953</td>\n",
       "    </tr>\n",
       "    <tr>\n",
       "      <th>free_kick</th>\n",
       "      <td>0.229542</td>\n",
       "      <td>-0.007580</td>\n",
       "      <td>0.118247</td>\n",
       "      <td>0.249475</td>\n",
       "      <td>-0.154591</td>\n",
       "      <td>1.000000</td>\n",
       "      <td>-0.053560</td>\n",
       "      <td>-0.020873</td>\n",
       "      <td>-0.084388</td>\n",
       "      <td>-0.060290</td>\n",
       "      <td>-0.132535</td>\n",
       "      <td>-0.046149</td>\n",
       "      <td>-0.155527</td>\n",
       "    </tr>\n",
       "    <tr>\n",
       "      <th>counter_attack</th>\n",
       "      <td>-0.024412</td>\n",
       "      <td>0.000015</td>\n",
       "      <td>0.032330</td>\n",
       "      <td>-0.011887</td>\n",
       "      <td>-0.038091</td>\n",
       "      <td>-0.053560</td>\n",
       "      <td>1.000000</td>\n",
       "      <td>-0.013222</td>\n",
       "      <td>-0.037433</td>\n",
       "      <td>-0.034168</td>\n",
       "      <td>0.031707</td>\n",
       "      <td>0.062936</td>\n",
       "      <td>0.016082</td>\n",
       "    </tr>\n",
       "    <tr>\n",
       "      <th>rebound</th>\n",
       "      <td>-0.071077</td>\n",
       "      <td>0.006143</td>\n",
       "      <td>-0.035173</td>\n",
       "      <td>-0.074698</td>\n",
       "      <td>0.086495</td>\n",
       "      <td>-0.020873</td>\n",
       "      <td>-0.013222</td>\n",
       "      <td>1.000000</td>\n",
       "      <td>-0.034412</td>\n",
       "      <td>-0.024585</td>\n",
       "      <td>-0.054045</td>\n",
       "      <td>-0.018819</td>\n",
       "      <td>-0.063421</td>\n",
       "    </tr>\n",
       "    <tr>\n",
       "      <th>prev_cross</th>\n",
       "      <td>-0.280504</td>\n",
       "      <td>0.007535</td>\n",
       "      <td>-0.179973</td>\n",
       "      <td>-0.314906</td>\n",
       "      <td>0.287598</td>\n",
       "      <td>-0.084388</td>\n",
       "      <td>-0.037433</td>\n",
       "      <td>-0.034412</td>\n",
       "      <td>1.000000</td>\n",
       "      <td>-0.099395</td>\n",
       "      <td>-0.218502</td>\n",
       "      <td>-0.076083</td>\n",
       "      <td>-0.256407</td>\n",
       "    </tr>\n",
       "    <tr>\n",
       "      <th>prev_touch</th>\n",
       "      <td>0.010427</td>\n",
       "      <td>0.011746</td>\n",
       "      <td>-0.016482</td>\n",
       "      <td>0.005065</td>\n",
       "      <td>0.007340</td>\n",
       "      <td>-0.060290</td>\n",
       "      <td>-0.034168</td>\n",
       "      <td>-0.024585</td>\n",
       "      <td>-0.099395</td>\n",
       "      <td>1.000000</td>\n",
       "      <td>-0.156104</td>\n",
       "      <td>-0.054356</td>\n",
       "      <td>-0.183185</td>\n",
       "    </tr>\n",
       "    <tr>\n",
       "      <th>prev_pass</th>\n",
       "      <td>0.261487</td>\n",
       "      <td>0.007378</td>\n",
       "      <td>0.056701</td>\n",
       "      <td>0.253795</td>\n",
       "      <td>-0.182624</td>\n",
       "      <td>-0.132535</td>\n",
       "      <td>0.031707</td>\n",
       "      <td>-0.054045</td>\n",
       "      <td>-0.218502</td>\n",
       "      <td>-0.156104</td>\n",
       "      <td>1.000000</td>\n",
       "      <td>-0.119491</td>\n",
       "      <td>-0.402698</td>\n",
       "    </tr>\n",
       "    <tr>\n",
       "      <th>prev_smart_pass</th>\n",
       "      <td>-0.133517</td>\n",
       "      <td>0.015842</td>\n",
       "      <td>0.027982</td>\n",
       "      <td>-0.107280</td>\n",
       "      <td>0.005648</td>\n",
       "      <td>-0.046149</td>\n",
       "      <td>0.062936</td>\n",
       "      <td>-0.018819</td>\n",
       "      <td>-0.076083</td>\n",
       "      <td>-0.054356</td>\n",
       "      <td>-0.119491</td>\n",
       "      <td>1.000000</td>\n",
       "      <td>-0.140221</td>\n",
       "    </tr>\n",
       "    <tr>\n",
       "      <th>prev_duel</th>\n",
       "      <td>-0.108524</td>\n",
       "      <td>-0.026218</td>\n",
       "      <td>0.019376</td>\n",
       "      <td>-0.094800</td>\n",
       "      <td>0.024953</td>\n",
       "      <td>-0.155527</td>\n",
       "      <td>0.016082</td>\n",
       "      <td>-0.063421</td>\n",
       "      <td>-0.256407</td>\n",
       "      <td>-0.183185</td>\n",
       "      <td>-0.402698</td>\n",
       "      <td>-0.140221</td>\n",
       "      <td>1.000000</td>\n",
       "    </tr>\n",
       "  </tbody>\n",
       "</table>\n",
       "</div>"
      ],
      "text/plain": [
       "                        x         y         c  distance     angle  free_kick  \\\n",
       "x                1.000000 -0.013236  0.151850  0.948435 -0.585652   0.229542   \n",
       "y               -0.013236  1.000000 -0.076380 -0.035570  0.035862  -0.007580   \n",
       "c                0.151850 -0.076380  1.000000  0.434870 -0.569811   0.118247   \n",
       "distance         0.948435 -0.035570  0.434870  1.000000 -0.728582   0.249475   \n",
       "angle           -0.585652  0.035862 -0.569811 -0.728582  1.000000  -0.154591   \n",
       "free_kick        0.229542 -0.007580  0.118247  0.249475 -0.154591   1.000000   \n",
       "counter_attack  -0.024412  0.000015  0.032330 -0.011887 -0.038091  -0.053560   \n",
       "rebound         -0.071077  0.006143 -0.035173 -0.074698  0.086495  -0.020873   \n",
       "prev_cross      -0.280504  0.007535 -0.179973 -0.314906  0.287598  -0.084388   \n",
       "prev_touch       0.010427  0.011746 -0.016482  0.005065  0.007340  -0.060290   \n",
       "prev_pass        0.261487  0.007378  0.056701  0.253795 -0.182624  -0.132535   \n",
       "prev_smart_pass -0.133517  0.015842  0.027982 -0.107280  0.005648  -0.046149   \n",
       "prev_duel       -0.108524 -0.026218  0.019376 -0.094800  0.024953  -0.155527   \n",
       "\n",
       "                 counter_attack   rebound  prev_cross  prev_touch  prev_pass  \\\n",
       "x                     -0.024412 -0.071077   -0.280504    0.010427   0.261487   \n",
       "y                      0.000015  0.006143    0.007535    0.011746   0.007378   \n",
       "c                      0.032330 -0.035173   -0.179973   -0.016482   0.056701   \n",
       "distance              -0.011887 -0.074698   -0.314906    0.005065   0.253795   \n",
       "angle                 -0.038091  0.086495    0.287598    0.007340  -0.182624   \n",
       "free_kick             -0.053560 -0.020873   -0.084388   -0.060290  -0.132535   \n",
       "counter_attack         1.000000 -0.013222   -0.037433   -0.034168   0.031707   \n",
       "rebound               -0.013222  1.000000   -0.034412   -0.024585  -0.054045   \n",
       "prev_cross            -0.037433 -0.034412    1.000000   -0.099395  -0.218502   \n",
       "prev_touch            -0.034168 -0.024585   -0.099395    1.000000  -0.156104   \n",
       "prev_pass              0.031707 -0.054045   -0.218502   -0.156104   1.000000   \n",
       "prev_smart_pass        0.062936 -0.018819   -0.076083   -0.054356  -0.119491   \n",
       "prev_duel              0.016082 -0.063421   -0.256407   -0.183185  -0.402698   \n",
       "\n",
       "                 prev_smart_pass  prev_duel  \n",
       "x                      -0.133517  -0.108524  \n",
       "y                       0.015842  -0.026218  \n",
       "c                       0.027982   0.019376  \n",
       "distance               -0.107280  -0.094800  \n",
       "angle                   0.005648   0.024953  \n",
       "free_kick              -0.046149  -0.155527  \n",
       "counter_attack          0.062936   0.016082  \n",
       "rebound                -0.018819  -0.063421  \n",
       "prev_cross             -0.076083  -0.256407  \n",
       "prev_touch             -0.054356  -0.183185  \n",
       "prev_pass              -0.119491  -0.402698  \n",
       "prev_smart_pass         1.000000  -0.140221  \n",
       "prev_duel              -0.140221   1.000000  "
      ]
     },
     "execution_count": 40,
     "metadata": {},
     "output_type": "execute_result"
    }
   ],
   "source": [
    "features = ['x', 'y', 'c', 'distance', 'angle',\n",
    "       'free_kick', 'counter_attack', 'rebound', 'prev_cross', 'prev_touch',\n",
    "       'prev_pass', 'prev_smart_pass', 'prev_duel']\n",
    "\n",
    "shots[features].corr()"
   ]
  },
  {
   "cell_type": "code",
   "execution_count": 41,
   "id": "70d46894",
   "metadata": {},
   "outputs": [
    {
     "data": {
      "text/plain": [
       "<AxesSubplot: >"
      ]
     },
     "execution_count": 41,
     "metadata": {},
     "output_type": "execute_result"
    },
    {
     "data": {
      "image/png": "[encoded data removed]",
      "text/plain": [
       "<Figure size 640x480 with 2 Axes>"
      ]
     },
     "metadata": {},
     "output_type": "display_data"
    }
   ],
   "source": [
    "sns.heatmap(shots[features].corr())"
   ]
  },
  {
   "attachments": {},
   "cell_type": "markdown",
   "id": "3f994091",
   "metadata": {},
   "source": [
    "Conclusão: nós não iremos considerar as features 'x' e 'distance' juntas no modelo devido à elevada correlação entre elas"
   ]
  },
  {
   "attachments": {},
   "cell_type": "markdown",
   "id": "73a571a4",
   "metadata": {},
   "source": [
    "## Modelagem"
   ]
  },
  {
   "cell_type": "code",
   "execution_count": 42,
   "id": "093f774e",
   "metadata": {},
   "outputs": [],
   "source": [
    "#shots = pd.read_csv('./data/shots_dataframe_modelling.csv') caso queira começar deste ponto"
   ]
  },
  {
   "cell_type": "code",
   "execution_count": 43,
   "id": "67bd6e00",
   "metadata": {},
   "outputs": [],
   "source": [
    "features = ['y', 'c', 'distance', 'angle',\n",
    "       'free_kick', 'counter_attack', 'rebound', 'prev_cross', 'prev_touch',\n",
    "       'prev_pass', 'prev_smart_pass', 'prev_duel'] # removemos x da lista de features devido à análise de multicolinearidade feita anteriormente\n",
    "\n",
    "baseline_features = ['distance', 'angle']\n",
    "\n",
    "target = ['goal']"
   ]
  },
  {
   "cell_type": "code",
   "execution_count": 44,
   "id": "03bb0a72",
   "metadata": {},
   "outputs": [],
   "source": [
    "X = shots[features]\n",
    "X_baseline = shots[baseline_features]\n",
    "y = shots[target]"
   ]
  },
  {
   "attachments": {},
   "cell_type": "markdown",
   "id": "77267a0b",
   "metadata": {},
   "source": [
    "Separando os dados em treino / teste"
   ]
  },
  {
   "cell_type": "code",
   "execution_count": 45,
   "id": "d080ccc2",
   "metadata": {},
   "outputs": [],
   "source": [
    "#X_train, X_test, y_train, y_test = train_test_split(X, y, test_size=0.25, random_state=42)\n",
    "\n",
    "X_train, X_test, y_train, y_test = train_test_split(X_baseline, y, test_size=0.25, random_state=42)"
   ]
  },
  {
   "attachments": {},
   "cell_type": "markdown",
   "id": "fd274770",
   "metadata": {},
   "source": [
    "### Modelo baseline - Regressão Logística"
   ]
  },
  {
   "cell_type": "code",
   "execution_count": 46,
   "id": "24721fc6",
   "metadata": {},
   "outputs": [
    {
     "data": {
      "text/html": [
       "<style>#sk-container-id-1 {color: black;background-color: white;}#sk-container-id-1 pre{padding: 0;}#sk-container-id-1 div.sk-toggleable {background-color: white;}#sk-container-id-1 label.sk-toggleable__label {cursor: pointer;display: block;width: 100%;margin-bottom: 0;padding: 0.3em;box-sizing: border-box;text-align: center;}#sk-container-id-1 label.sk-toggleable__label-arrow:before {content: \"▸\";float: left;margin-right: 0.25em;color: #696969;}#sk-container-id-1 label.sk-toggleable__label-arrow:hover:before {color: black;}#sk-container-id-1 div.sk-estimator:hover label.sk-toggleable__label-arrow:before {color: black;}#sk-container-id-1 div.sk-toggleable__content {max-height: 0;max-width: 0;overflow: hidden;text-align: left;background-color: #f0f8ff;}#sk-container-id-1 div.sk-toggleable__content pre {margin: 0.2em;color: black;border-radius: 0.25em;background-color: #f0f8ff;}#sk-container-id-1 input.sk-toggleable__control:checked~div.sk-toggleable__content {max-height: 200px;max-width: 100%;overflow: auto;}#sk-container-id-1 input.sk-toggleable__control:checked~label.sk-toggleable__label-arrow:before {content: \"▾\";}#sk-container-id-1 div.sk-estimator input.sk-toggleable__control:checked~label.sk-toggleable__label {background-color: #d4ebff;}#sk-container-id-1 div.sk-label input.sk-toggleable__control:checked~label.sk-toggleable__label {background-color: #d4ebff;}#sk-container-id-1 input.sk-hidden--visually {border: 0;clip: rect(1px 1px 1px 1px);clip: rect(1px, 1px, 1px, 1px);height: 1px;margin: -1px;overflow: hidden;padding: 0;position: absolute;width: 1px;}#sk-container-id-1 div.sk-estimator {font-family: monospace;background-color: #f0f8ff;border: 1px dotted black;border-radius: 0.25em;box-sizing: border-box;margin-bottom: 0.5em;}#sk-container-id-1 div.sk-estimator:hover {background-color: #d4ebff;}#sk-container-id-1 div.sk-parallel-item::after {content: \"\";width: 100%;border-bottom: 1px solid gray;flex-grow: 1;}#sk-container-id-1 div.sk-label:hover label.sk-toggleable__label {background-color: #d4ebff;}#sk-container-id-1 div.sk-serial::before {content: \"\";position: absolute;border-left: 1px solid gray;box-sizing: border-box;top: 0;bottom: 0;left: 50%;z-index: 0;}#sk-container-id-1 div.sk-serial {display: flex;flex-direction: column;align-items: center;background-color: white;padding-right: 0.2em;padding-left: 0.2em;position: relative;}#sk-container-id-1 div.sk-item {position: relative;z-index: 1;}#sk-container-id-1 div.sk-parallel {display: flex;align-items: stretch;justify-content: center;background-color: white;position: relative;}#sk-container-id-1 div.sk-item::before, #sk-container-id-1 div.sk-parallel-item::before {content: \"\";position: absolute;border-left: 1px solid gray;box-sizing: border-box;top: 0;bottom: 0;left: 50%;z-index: -1;}#sk-container-id-1 div.sk-parallel-item {display: flex;flex-direction: column;z-index: 1;position: relative;background-color: white;}#sk-container-id-1 div.sk-parallel-item:first-child::after {align-self: flex-end;width: 50%;}#sk-container-id-1 div.sk-parallel-item:last-child::after {align-self: flex-start;width: 50%;}#sk-container-id-1 div.sk-parallel-item:only-child::after {width: 0;}#sk-container-id-1 div.sk-dashed-wrapped {border: 1px dashed gray;margin: 0 0.4em 0.5em 0.4em;box-sizing: border-box;padding-bottom: 0.4em;background-color: white;}#sk-container-id-1 div.sk-label label {font-family: monospace;font-weight: bold;display: inline-block;line-height: 1.2em;}#sk-container-id-1 div.sk-label-container {text-align: center;}#sk-container-id-1 div.sk-container {/* jupyter's `normalize.less` sets `[hidden] { display: none; }` but bootstrap.min.css set `[hidden] { display: none !important; }` so we also need the `!important` here to be able to override the default hidden behavior on the sphinx rendered scikit-learn.org. See: https://github.com/scikit-learn/scikit-learn/issues/21755 */display: inline-block !important;position: relative;}#sk-container-id-1 div.sk-text-repr-fallback {display: none;}</style><div id=\"sk-container-id-1\" class=\"sk-top-container\"><div class=\"sk-text-repr-fallback\"><pre>LogisticRegression(random_state=42)</pre><b>In a Jupyter environment, please rerun this cell to show the HTML representation or trust the notebook. <br />On GitHub, the HTML representation is unable to render, please try loading this page with nbviewer.org.</b></div><div class=\"sk-container\" hidden><div class=\"sk-item\"><div class=\"sk-estimator sk-toggleable\"><input class=\"sk-toggleable__control sk-hidden--visually\" id=\"sk-estimator-id-1\" type=\"checkbox\" checked><label for=\"sk-estimator-id-1\" class=\"sk-toggleable__label sk-toggleable__label-arrow\">LogisticRegression</label><div class=\"sk-toggleable__content\"><pre>LogisticRegression(random_state=42)</pre></div></div></div></div></div>"
      ],
      "text/plain": [
       "LogisticRegression(random_state=42)"
      ]
     },
     "execution_count": 46,
     "metadata": {},
     "output_type": "execute_result"
    }
   ],
   "source": [
    "lr_baseline = LogisticRegression(random_state=42)\n",
    "lr_baseline.fit(X_train, np.array(y_train).ravel())"
   ]
  },
  {
   "cell_type": "code",
   "execution_count": 47,
   "id": "e78c545e",
   "metadata": {},
   "outputs": [],
   "source": [
    "pred_vals_baseline = lr_baseline.predict(X_test)"
   ]
  },
  {
   "cell_type": "code",
   "execution_count": 48,
   "id": "8d29f3f9",
   "metadata": {},
   "outputs": [
    {
     "name": "stdout",
     "output_type": "stream",
     "text": [
      "Coeficiente da feature distance: -0.088\n",
      "Coeficiente da feature angle: 1.373\n"
     ]
    }
   ],
   "source": [
    "for i, col in enumerate(X_train.columns):\n",
    "    print(f\"Coeficiente da feature {col}: {lr_baseline.coef_[0][i]:.3f}\")"
   ]
  },
  {
   "cell_type": "code",
   "execution_count": 49,
   "id": "8b3badf6",
   "metadata": {},
   "outputs": [
    {
     "name": "stdout",
     "output_type": "stream",
     "text": [
      "Log loss do modelo: 0.28693\n",
      "AUC do modelo: 76.59%\n"
     ]
    }
   ],
   "source": [
    "pred_probs = lr_baseline.predict_proba(X_test)[:,1]\n",
    "print(f\"Log loss do modelo: {sk_metrics.log_loss(y_test, pred_probs):.5f}\")\n",
    "print(f\"AUC do modelo: {sk_metrics.roc_auc_score(y_test, pred_probs)*100:.2f}%\")"
   ]
  },
  {
   "cell_type": "code",
   "execution_count": 50,
   "id": "b4baa6a2",
   "metadata": {},
   "outputs": [
    {
     "name": "stdout",
     "output_type": "stream",
     "text": [
      "Log loss da média (0.1017, calculado anteriormente): 0.333\n"
     ]
    }
   ],
   "source": [
    "# A titulo de comparação, caso tenhamos usado apenas a média para fazer a predição, a log-loss seria:\n",
    "\n",
    "print(f\"Log loss da média (0.1017, calculado anteriormente): {sk_metrics.log_loss(y_test, [0.1017]*len(y_test)):.3f}\")"
   ]
  },
  {
   "attachments": {},
   "cell_type": "markdown",
   "id": "661ce1bf",
   "metadata": {},
   "source": [
    "Nosso baseline é melhor do que usar a média para prever, o que é bom. Vamos agora usar validação cruzada e todas as features"
   ]
  },
  {
   "attachments": {},
   "cell_type": "markdown",
   "id": "b27e6b98",
   "metadata": {},
   "source": [
    "### Regressão Logística - Testando todas as features + CV"
   ]
  },
  {
   "cell_type": "code",
   "execution_count": 51,
   "id": "907f3134",
   "metadata": {},
   "outputs": [
    {
     "name": "stdout",
     "output_type": "stream",
     "text": [
      "Média no treino da log-loss: 0.2787\n",
      "Média na validação da log-loss: 0.2791\n"
     ]
    }
   ],
   "source": [
    "\n",
    "X = shots[features]\n",
    "y = shots[target]\n",
    "X_train, X_test, y_train, y_test = train_test_split(X, y, test_size=0.25, random_state=42)\n",
    "\n",
    "lr = LogisticRegression(random_state=42)\n",
    "\n",
    "# Define the cross-validation scheme\n",
    "cv = KFold(n_splits=5, shuffle=True, random_state=42)\n",
    "\n",
    "train_losses = []\n",
    "valid_losses = []\n",
    "\n",
    "# Loop over the folds\n",
    "for train_idx, valid_idx in cv.split(X_train, y_train):\n",
    "    # Split the data into training and validation sets\n",
    "    X_t, y_t = X_train.iloc[train_idx], y_train.iloc[train_idx]\n",
    "    X_valid, y_valid = X_train.iloc[valid_idx], y_train.iloc[valid_idx]\n",
    "    \n",
    "    # Train the logistic regression model on the training set\n",
    "    lr.fit(X_t, np.array(y_t).ravel())\n",
    "    \n",
    "    # Compute the log-loss on the training set\n",
    "    train_pred = lr.predict_proba(X_t)[:,1]\n",
    "    train_loss = sk_metrics.log_loss(y_t, train_pred)\n",
    "    train_losses.append(train_loss)\n",
    "    \n",
    "    # Compute the log-loss on the validation set\n",
    "    valid_pred = lr.predict_proba(X_valid)[:,1]\n",
    "    valid_loss = sk_metrics.log_loss(y_valid, valid_pred)\n",
    "    valid_losses.append(valid_loss)\n",
    "\n",
    "# Compute the average training and validation losses over all folds\n",
    "avg_train_loss = np.mean(train_losses)\n",
    "avg_valid_loss = np.mean(valid_losses)\n",
    "\n",
    "print(f\"Média no treino da log-loss: {avg_train_loss:.4f}\")\n",
    "print(f\"Média na validação da log-loss: {avg_valid_loss:.4f}\")"
   ]
  },
  {
   "attachments": {},
   "cell_type": "markdown",
   "id": "3e6287a5",
   "metadata": {},
   "source": [
    "Não parece haver overfitting, dado que o resultado de treino e validação são similares. Vamos ver o desempenho no hold-out."
   ]
  },
  {
   "cell_type": "code",
   "execution_count": 52,
   "id": "0aa9c2ff",
   "metadata": {},
   "outputs": [
    {
     "data": {
      "text/html": [
       "<style>#sk-container-id-2 {color: black;background-color: white;}#sk-container-id-2 pre{padding: 0;}#sk-container-id-2 div.sk-toggleable {background-color: white;}#sk-container-id-2 label.sk-toggleable__label {cursor: pointer;display: block;width: 100%;margin-bottom: 0;padding: 0.3em;box-sizing: border-box;text-align: center;}#sk-container-id-2 label.sk-toggleable__label-arrow:before {content: \"▸\";float: left;margin-right: 0.25em;color: #696969;}#sk-container-id-2 label.sk-toggleable__label-arrow:hover:before {color: black;}#sk-container-id-2 div.sk-estimator:hover label.sk-toggleable__label-arrow:before {color: black;}#sk-container-id-2 div.sk-toggleable__content {max-height: 0;max-width: 0;overflow: hidden;text-align: left;background-color: #f0f8ff;}#sk-container-id-2 div.sk-toggleable__content pre {margin: 0.2em;color: black;border-radius: 0.25em;background-color: #f0f8ff;}#sk-container-id-2 input.sk-toggleable__control:checked~div.sk-toggleable__content {max-height: 200px;max-width: 100%;overflow: auto;}#sk-container-id-2 input.sk-toggleable__control:checked~label.sk-toggleable__label-arrow:before {content: \"▾\";}#sk-container-id-2 div.sk-estimator input.sk-toggleable__control:checked~label.sk-toggleable__label {background-color: #d4ebff;}#sk-container-id-2 div.sk-label input.sk-toggleable__control:checked~label.sk-toggleable__label {background-color: #d4ebff;}#sk-container-id-2 input.sk-hidden--visually {border: 0;clip: rect(1px 1px 1px 1px);clip: rect(1px, 1px, 1px, 1px);height: 1px;margin: -1px;overflow: hidden;padding: 0;position: absolute;width: 1px;}#sk-container-id-2 div.sk-estimator {font-family: monospace;background-color: #f0f8ff;border: 1px dotted black;border-radius: 0.25em;box-sizing: border-box;margin-bottom: 0.5em;}#sk-container-id-2 div.sk-estimator:hover {background-color: #d4ebff;}#sk-container-id-2 div.sk-parallel-item::after {content: \"\";width: 100%;border-bottom: 1px solid gray;flex-grow: 1;}#sk-container-id-2 div.sk-label:hover label.sk-toggleable__label {background-color: #d4ebff;}#sk-container-id-2 div.sk-serial::before {content: \"\";position: absolute;border-left: 1px solid gray;box-sizing: border-box;top: 0;bottom: 0;left: 50%;z-index: 0;}#sk-container-id-2 div.sk-serial {display: flex;flex-direction: column;align-items: center;background-color: white;padding-right: 0.2em;padding-left: 0.2em;position: relative;}#sk-container-id-2 div.sk-item {position: relative;z-index: 1;}#sk-container-id-2 div.sk-parallel {display: flex;align-items: stretch;justify-content: center;background-color: white;position: relative;}#sk-container-id-2 div.sk-item::before, #sk-container-id-2 div.sk-parallel-item::before {content: \"\";position: absolute;border-left: 1px solid gray;box-sizing: border-box;top: 0;bottom: 0;left: 50%;z-index: -1;}#sk-container-id-2 div.sk-parallel-item {display: flex;flex-direction: column;z-index: 1;position: relative;background-color: white;}#sk-container-id-2 div.sk-parallel-item:first-child::after {align-self: flex-end;width: 50%;}#sk-container-id-2 div.sk-parallel-item:last-child::after {align-self: flex-start;width: 50%;}#sk-container-id-2 div.sk-parallel-item:only-child::after {width: 0;}#sk-container-id-2 div.sk-dashed-wrapped {border: 1px dashed gray;margin: 0 0.4em 0.5em 0.4em;box-sizing: border-box;padding-bottom: 0.4em;background-color: white;}#sk-container-id-2 div.sk-label label {font-family: monospace;font-weight: bold;display: inline-block;line-height: 1.2em;}#sk-container-id-2 div.sk-label-container {text-align: center;}#sk-container-id-2 div.sk-container {/* jupyter's `normalize.less` sets `[hidden] { display: none; }` but bootstrap.min.css set `[hidden] { display: none !important; }` so we also need the `!important` here to be able to override the default hidden behavior on the sphinx rendered scikit-learn.org. See: https://github.com/scikit-learn/scikit-learn/issues/21755 */display: inline-block !important;position: relative;}#sk-container-id-2 div.sk-text-repr-fallback {display: none;}</style><div id=\"sk-container-id-2\" class=\"sk-top-container\"><div class=\"sk-text-repr-fallback\"><pre>LogisticRegression(random_state=42)</pre><b>In a Jupyter environment, please rerun this cell to show the HTML representation or trust the notebook. <br />On GitHub, the HTML representation is unable to render, please try loading this page with nbviewer.org.</b></div><div class=\"sk-container\" hidden><div class=\"sk-item\"><div class=\"sk-estimator sk-toggleable\"><input class=\"sk-toggleable__control sk-hidden--visually\" id=\"sk-estimator-id-2\" type=\"checkbox\" checked><label for=\"sk-estimator-id-2\" class=\"sk-toggleable__label sk-toggleable__label-arrow\">LogisticRegression</label><div class=\"sk-toggleable__content\"><pre>LogisticRegression(random_state=42)</pre></div></div></div></div></div>"
      ],
      "text/plain": [
       "LogisticRegression(random_state=42)"
      ]
     },
     "execution_count": 52,
     "metadata": {},
     "output_type": "execute_result"
    }
   ],
   "source": [
    "lr.fit(X_train, np.array(y_train).ravel())"
   ]
  },
  {
   "cell_type": "code",
   "execution_count": 53,
   "id": "4f55c9d3",
   "metadata": {},
   "outputs": [],
   "source": [
    "pred_vals_allfeatures = lr.predict(X_test)"
   ]
  },
  {
   "cell_type": "code",
   "execution_count": 54,
   "id": "40c9bc48",
   "metadata": {},
   "outputs": [
    {
     "name": "stdout",
     "output_type": "stream",
     "text": [
      "Log loss do modelo: 0.28113\n",
      "AUC do modelo: 77.85%\n"
     ]
    }
   ],
   "source": [
    "pred_probs = lr.predict_proba(X_test)[:,1]\n",
    "print(f\"Log loss do modelo: {sk_metrics.log_loss(y_test, pred_probs):.5f}\")\n",
    "print(f\"AUC do modelo: {sk_metrics.roc_auc_score(y_test, pred_probs)*100:.2f}%\")"
   ]
  },
  {
   "cell_type": "code",
   "execution_count": 55,
   "id": "31e7ad5f",
   "metadata": {},
   "outputs": [
    {
     "name": "stdout",
     "output_type": "stream",
     "text": [
      "Coeficiente da feature y: -0.005\n",
      "Coeficiente da feature c: -0.005\n",
      "Coeficiente da feature distance: -0.112\n",
      "Coeficiente da feature angle: 1.186\n",
      "Coeficiente da feature free_kick: 0.921\n",
      "Coeficiente da feature counter_attack: 0.581\n",
      "Coeficiente da feature rebound: 0.164\n",
      "Coeficiente da feature prev_cross: -0.451\n",
      "Coeficiente da feature prev_touch: -0.008\n",
      "Coeficiente da feature prev_pass: -0.020\n",
      "Coeficiente da feature prev_smart_pass: 0.249\n",
      "Coeficiente da feature prev_duel: -0.486\n"
     ]
    }
   ],
   "source": [
    "for i, col in enumerate(X_train.columns):\n",
    "    print(f\"Coeficiente da feature {col}: {lr.coef_[0][i]:.3f}\")"
   ]
  },
  {
   "attachments": {},
   "cell_type": "markdown",
   "id": "9aecd755",
   "metadata": {},
   "source": [
    "### Random Forest"
   ]
  },
  {
   "cell_type": "code",
   "execution_count": 56,
   "id": "2199ecce",
   "metadata": {},
   "outputs": [],
   "source": [
    "# Separando o dataset de treino em treino e validação para cross-validation\n",
    "X_t, X_val, y_t, y_val = train_test_split(X_train, y_train, test_size=0.3, random_state=42)"
   ]
  },
  {
   "cell_type": "code",
   "execution_count": 57,
   "id": "47a0e71e",
   "metadata": {},
   "outputs": [
    {
     "name": "stdout",
     "output_type": "stream",
     "text": [
      "Training log-loss:0.2652748645488553\n",
      "\n",
      "\n",
      "Validation log-loss: 0.28779839439772237\n",
      "\n",
      "\n",
      "Best parameters were:{'max_depth': 7, 'min_samples_split': 8, 'n_estimators': 60}\n"
     ]
    }
   ],
   "source": [
    "from sklearn.model_selection import cross_val_score\n",
    "from sklearn.model_selection import GridSearchCV\n",
    "\n",
    "\n",
    "rf = RandomForestClassifier(criterion=\"log_loss\")\n",
    "\n",
    "param_grid = {\n",
    "                 'n_estimators': [30,40,60],\n",
    "                 'max_depth': [4,5,6,7,8,9,10],\n",
    "                 'min_samples_split': [2,4,6,8]\n",
    "            }\n",
    "\n",
    "grid_rf = GridSearchCV(rf, param_grid, cv=5, n_jobs = -1, scoring = 'neg_log_loss')\n",
    "grid_rf.fit(X_t, np.array(y_t).ravel())\n",
    "\n",
    "print(f\"Training log-loss:{sk_metrics.log_loss(y_t, grid_rf.predict_proba(X_t))}\")\n",
    "\n",
    "print(\"\\n\")\n",
    "\n",
    "print(f\"Validation log-loss: {sk_metrics.log_loss(y_val, grid_rf.predict_proba(X_val))}\")\n",
    "\n",
    "print(\"\\n\")\n",
    "\n",
    "print(f\"Best parameters were:{grid_rf.best_params_}\")"
   ]
  },
  {
   "cell_type": "code",
   "execution_count": 58,
   "id": "7980b325",
   "metadata": {},
   "outputs": [
    {
     "data": {
      "text/html": [
       "<style>#sk-container-id-3 {color: black;background-color: white;}#sk-container-id-3 pre{padding: 0;}#sk-container-id-3 div.sk-toggleable {background-color: white;}#sk-container-id-3 label.sk-toggleable__label {cursor: pointer;display: block;width: 100%;margin-bottom: 0;padding: 0.3em;box-sizing: border-box;text-align: center;}#sk-container-id-3 label.sk-toggleable__label-arrow:before {content: \"▸\";float: left;margin-right: 0.25em;color: #696969;}#sk-container-id-3 label.sk-toggleable__label-arrow:hover:before {color: black;}#sk-container-id-3 div.sk-estimator:hover label.sk-toggleable__label-arrow:before {color: black;}#sk-container-id-3 div.sk-toggleable__content {max-height: 0;max-width: 0;overflow: hidden;text-align: left;background-color: #f0f8ff;}#sk-container-id-3 div.sk-toggleable__content pre {margin: 0.2em;color: black;border-radius: 0.25em;background-color: #f0f8ff;}#sk-container-id-3 input.sk-toggleable__control:checked~div.sk-toggleable__content {max-height: 200px;max-width: 100%;overflow: auto;}#sk-container-id-3 input.sk-toggleable__control:checked~label.sk-toggleable__label-arrow:before {content: \"▾\";}#sk-container-id-3 div.sk-estimator input.sk-toggleable__control:checked~label.sk-toggleable__label {background-color: #d4ebff;}#sk-container-id-3 div.sk-label input.sk-toggleable__control:checked~label.sk-toggleable__label {background-color: #d4ebff;}#sk-container-id-3 input.sk-hidden--visually {border: 0;clip: rect(1px 1px 1px 1px);clip: rect(1px, 1px, 1px, 1px);height: 1px;margin: -1px;overflow: hidden;padding: 0;position: absolute;width: 1px;}#sk-container-id-3 div.sk-estimator {font-family: monospace;background-color: #f0f8ff;border: 1px dotted black;border-radius: 0.25em;box-sizing: border-box;margin-bottom: 0.5em;}#sk-container-id-3 div.sk-estimator:hover {background-color: #d4ebff;}#sk-container-id-3 div.sk-parallel-item::after {content: \"\";width: 100%;border-bottom: 1px solid gray;flex-grow: 1;}#sk-container-id-3 div.sk-label:hover label.sk-toggleable__label {background-color: #d4ebff;}#sk-container-id-3 div.sk-serial::before {content: \"\";position: absolute;border-left: 1px solid gray;box-sizing: border-box;top: 0;bottom: 0;left: 50%;z-index: 0;}#sk-container-id-3 div.sk-serial {display: flex;flex-direction: column;align-items: center;background-color: white;padding-right: 0.2em;padding-left: 0.2em;position: relative;}#sk-container-id-3 div.sk-item {position: relative;z-index: 1;}#sk-container-id-3 div.sk-parallel {display: flex;align-items: stretch;justify-content: center;background-color: white;position: relative;}#sk-container-id-3 div.sk-item::before, #sk-container-id-3 div.sk-parallel-item::before {content: \"\";position: absolute;border-left: 1px solid gray;box-sizing: border-box;top: 0;bottom: 0;left: 50%;z-index: -1;}#sk-container-id-3 div.sk-parallel-item {display: flex;flex-direction: column;z-index: 1;position: relative;background-color: white;}#sk-container-id-3 div.sk-parallel-item:first-child::after {align-self: flex-end;width: 50%;}#sk-container-id-3 div.sk-parallel-item:last-child::after {align-self: flex-start;width: 50%;}#sk-container-id-3 div.sk-parallel-item:only-child::after {width: 0;}#sk-container-id-3 div.sk-dashed-wrapped {border: 1px dashed gray;margin: 0 0.4em 0.5em 0.4em;box-sizing: border-box;padding-bottom: 0.4em;background-color: white;}#sk-container-id-3 div.sk-label label {font-family: monospace;font-weight: bold;display: inline-block;line-height: 1.2em;}#sk-container-id-3 div.sk-label-container {text-align: center;}#sk-container-id-3 div.sk-container {/* jupyter's `normalize.less` sets `[hidden] { display: none; }` but bootstrap.min.css set `[hidden] { display: none !important; }` so we also need the `!important` here to be able to override the default hidden behavior on the sphinx rendered scikit-learn.org. See: https://github.com/scikit-learn/scikit-learn/issues/21755 */display: inline-block !important;position: relative;}#sk-container-id-3 div.sk-text-repr-fallback {display: none;}</style><div id=\"sk-container-id-3\" class=\"sk-top-container\"><div class=\"sk-text-repr-fallback\"><pre>RandomForestClassifier(criterion=&#x27;log_loss&#x27;, max_depth=7, min_samples_split=4,\n",
       "                       n_estimators=60)</pre><b>In a Jupyter environment, please rerun this cell to show the HTML representation or trust the notebook. <br />On GitHub, the HTML representation is unable to render, please try loading this page with nbviewer.org.</b></div><div class=\"sk-container\" hidden><div class=\"sk-item\"><div class=\"sk-estimator sk-toggleable\"><input class=\"sk-toggleable__control sk-hidden--visually\" id=\"sk-estimator-id-3\" type=\"checkbox\" checked><label for=\"sk-estimator-id-3\" class=\"sk-toggleable__label sk-toggleable__label-arrow\">RandomForestClassifier</label><div class=\"sk-toggleable__content\"><pre>RandomForestClassifier(criterion=&#x27;log_loss&#x27;, max_depth=7, min_samples_split=4,\n",
       "                       n_estimators=60)</pre></div></div></div></div></div>"
      ],
      "text/plain": [
       "RandomForestClassifier(criterion='log_loss', max_depth=7, min_samples_split=4,\n",
       "                       n_estimators=60)"
      ]
     },
     "execution_count": 58,
     "metadata": {},
     "output_type": "execute_result"
    }
   ],
   "source": [
    "rf = RandomForestClassifier(max_depth=7, min_samples_split=4, n_estimators=60, criterion=\"log_loss\")\n",
    "rf.fit(X_train, np.array(y_train).ravel())"
   ]
  },
  {
   "cell_type": "code",
   "execution_count": 59,
   "id": "60175e16",
   "metadata": {},
   "outputs": [
    {
     "name": "stdout",
     "output_type": "stream",
     "text": [
      "Log loss da Random Forest: 0.28084\n",
      "AUC da Random Forest: 78.21%\n"
     ]
    }
   ],
   "source": [
    "pred_probs_rf = rf.predict_proba(X_test)[:,1]\n",
    "print(f\"Log loss da Random Forest: {sk_metrics.log_loss(y_test, pred_probs_rf):.5f}\")\n",
    "print(f\"AUC da Random Forest: {sk_metrics.roc_auc_score(y_test, pred_probs_rf)*100:.2f}%\")"
   ]
  },
  {
   "cell_type": "code",
   "execution_count": 60,
   "id": "fc76f6f8",
   "metadata": {},
   "outputs": [
    {
     "name": "stdout",
     "output_type": "stream",
     "text": [
      "Tempo para computar as feature importances usando permutação: 1.886 segundos\n"
     ]
    }
   ],
   "source": [
    "from sklearn.inspection import permutation_importance\n",
    "import time\n",
    "\n",
    "start_time = time.time()\n",
    "result = permutation_importance(\n",
    "    rf, X_val, y_val, n_repeats=10, random_state=42, n_jobs=-1\n",
    ")\n",
    "elapsed_time = time.time() - start_time\n",
    "print(f\"Tempo para computar as feature importances usando permutação: {elapsed_time:.3f} segundos\")\n",
    "\n",
    "forest_importances = pd.Series(result.importances_mean, index=features)"
   ]
  },
  {
   "cell_type": "code",
   "execution_count": 61,
   "id": "4b642e11",
   "metadata": {},
   "outputs": [
    {
     "data": {
      "image/png": "[encoded data removed]",
      "text/plain": [
       "<Figure size 640x480 with 1 Axes>"
      ]
     },
     "metadata": {},
     "output_type": "display_data"
    }
   ],
   "source": [
    "start_time = time.time()\n",
    "importances = rf.feature_importances_\n",
    "std = np.std([tree.feature_importances_ for tree in rf.estimators_], axis=0)\n",
    "elapsed_time = time.time() - start_time\n",
    "\n",
    "fig, ax = plt.subplots()\n",
    "forest_importances.plot.bar(yerr=std, ax=ax)\n",
    "ax.set_title(\"Feature importances usando MDI\")\n",
    "ax.set_ylabel(\"Decréscimo médio na impureza\")\n",
    "fig.tight_layout()"
   ]
  }
 ],
 "metadata": {
  "hide_input": false,
  "kernelspec": {
   "display_name": "Python 3 (ipykernel)",
   "language": "python",
   "name": "python3"
  },
  "language_info": {
   "codemirror_mode": {
    "name": "ipython",
    "version": 3
   },
   "file_extension": ".py",
   "mimetype": "text/x-python",
   "name": "python",
   "nbconvert_exporter": "python",
   "pygments_lexer": "ipython3",
   "version": "3.9.13"
  },
  "varInspector": {
   "cols": {
    "lenName": 16,
    "lenType": 16,
    "lenVar": 40
   },
   "kernels_config": {
    "python": {
     "delete_cmd_postfix": "",
     "delete_cmd_prefix": "del ",
     "library": "var_list.py",
     "varRefreshCmd": "print(var_dic_list())"
    },
    "r": {
     "delete_cmd_postfix": ") ",
     "delete_cmd_prefix": "rm(",
     "library": "var_list.r",
     "varRefreshCmd": "cat(var_dic_list()) "
    }
   },
   "types_to_exclude": [
    "module",
    "function",
    "builtin_function_or_method",
    "instance",
    "_Feature"
   ],
   "window_display": false
  }
 },
 "nbformat": 4,
 "nbformat_minor": 5
}
