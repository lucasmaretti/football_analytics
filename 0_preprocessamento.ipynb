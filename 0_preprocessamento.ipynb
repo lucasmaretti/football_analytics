{
 "cells": [
  {
   "attachments": {},
   "cell_type": "markdown",
   "id": "e3fd2f28",
   "metadata": {},
   "source": [
    "Neste notebook faremos um pré-processamento dos dados da Wyscout, juntando os dados das 3 fontes diferentes fornecidas e realizando alguns cálculos iniciais básicos\n",
    "\n",
    "O objetivo ao final de todo este processo será obtermos um modelo de Expected Goals (xG)\n",
    "\n",
    "A definição de xG é a probabilidade de que em um dia típico de futebol um chute particular de uma determinada localização resultaria em um gol. Costuma ser baseado em medidas tomadas de muitos chutes dentro de uma mesma liga e temporada, ou agregando-se dados de diferentes ligas (estratégia usada neste projeto)"
   ]
  },
  {
   "cell_type": "code",
   "execution_count": 6,
   "id": "c506243d",
   "metadata": {
    "ExecuteTime": {
     "end_time": "2023-04-27T11:41:17.427089Z",
     "start_time": "2023-04-27T11:41:15.826728Z"
    }
   },
   "outputs": [],
   "source": [
    "import pandas as pd\n",
    "import numpy as np\n",
    "\n",
    "import aux_functions_data as aux\n"
   ]
  },
  {
   "attachments": {},
   "cell_type": "markdown",
   "id": "d0510942",
   "metadata": {},
   "source": [
    "### Carregando os dados da Wyscout\n",
    "\n",
    "fonte (artigo): https://www.nature.com/articles/s41597-019-0247-7 [1]\n",
    "\n",
    "fonte (dados): https://figshare.com/collections/Soccer_match_event_dataset/4415000/5 [2]\n"
   ]
  },
  {
   "attachments": {},
   "cell_type": "markdown",
   "id": "d1cc07c4",
   "metadata": {},
   "source": [
    "### Dados de eventos (events.json):\n",
    "\n",
    "Este dataset descreve todos os eventos que acontecem durante cada partida. Cada evento refere-se a uma ação feita na bola e contém as seguintes features (em inglês, da documentação original [2])\n",
    "\n",
    "- eventId: the identifier of the event's type. Each eventId is associated with an event name (see next point);\n",
    "- eventName: tteamIdhe name of the event's type. There are seven types of events: pass, foul, shot, duel, free kick, offside and touch;\n",
    "- subEventId: the identifier of the subevent's type. Each subEventId is associated with a subevent name (see next point);\n",
    "- subEventName: the name of the subevent's type. Each event type is associated with a different set of subevent types;\n",
    "- tags: a list of event tags, each one describes additional information about the event (e.g., accurate). Each event type is associated with a different set of tags;\n",
    "- eventSec: the time when the event occurs (in seconds since the beginning of the current half of the match);\n",
    "- id: a unique identifier of the event;\n",
    "- matchId: the identifier of the match the event refers to. The identifier refers to the field \"wyId\" in the match dataset;\n",
    "- matchPeriod: the period of the match. It can be \"1H\" (first half of the match), \"2H\" (second half of the match), \"E1\" (first extra time), \"E2\" (second extra time) or \"P\" (penalties time);\n",
    "- playerId: the identifier of the player who generated the event. The identifier refers to the field \"wyId\" in a player dataset;\n",
    "- positions: the origin and destination positions associated with the event. Each position is a pair of coordinates (x, y). The x and y coordinates are always in the range [0, 100] and indicate the percentage of the field from the perspective of the attacking team. In particular, the value of the x coordinate indicates the event's nearness (in percentage) to the opponent's goal, while the value of the y coordinates indicates the event's nearness (in percentage) to the right side of the field;\n",
    "- teamId: the identifier of the player's team. The identifier refers to the field \"wyId\" in the team dataset."
   ]
  },
  {
   "attachments": {},
   "cell_type": "markdown",
   "id": "34301cc5",
   "metadata": {},
   "source": [
    "### Dados de partidas (matches.json)\n",
    "\n",
    "\n",
    "- competitionId: the identifier of the competition to which the match belongs to. It is a integer and refers to the field \"wyId\" of the competition document;\n",
    "- date and dateutc: the former specifies date and time when the match starts in explicit format (e.g., May 20, 2018 at 8:45:00 PM GMT+2), the latter contains the same information but in the compact format YYYY-MM-DD hh:mm:ss;\n",
    "- duration: the duration of the match. It can be \"Regular\" (matches of regular duration of 90 minutes + stoppage time), \"ExtraTime\" (matches with supplementary times, as it may happen for matches in continental or international competitions), or \"Penalities\" (matches which end at penalty kicks, as it may happen for continental or international competitions);\n",
    "- gameweek: the week of the league, starting from the beginning of the league;\n",
    "- label: contains the name of the two clubs and the result of the match (e.g., \"Lazio - Internazionale, 2 - 3\");\n",
    "- roundID: indicates the match-day of the competition to which the match belongs to. During a competition for soccer clubs, each of the participating clubs plays against each of the other clubs twice, once at home and once away. The matches are organized in match-days: all the matches in match-day i are played before the matches in match-day i + 1, even tough some matches can be anticipated or postponed to facilitate players and clubs participating in Continental or Intercontinental competitions. During a competition for national teams, the \"roundID\" indicates the stage of the competition (eliminatory round, round of 16, quarter finals, semifinals, final);\n",
    "- seasonId: indicates the season of the match;\n",
    "- status: it can be \"Played\" (the match has officially finished), \"Cancelled\" (the match has been canceled for some reason), \"Postponed\" (the match has been postponed and no new date and time is available yet) or \"Suspended\" (the match has been suspended and no new date and time is available yet);\n",
    "- venue: the stadium where the match was held (e.g., \"Stadio Olimpico\");\n",
    "- winner: the identifier of the team which won the game, or 0 if the match ended with a draw;\n",
    "- wyId: the identifier of the match, assigned by Wyscout;\n",
    "- teamsData: it contains several subfields describing information about each team that is playing that match: such as lineup, bench composition, list of substitutions, coach and scores:\n",
    "- hasFormation: it has value 0 if no formation (lineups and benches) is present, and 1 otherwise;\n",
    "- score: the number of goals scored by the team during the match (not counting penalties);\n",
    "- scoreET: the number of goals scored by the team during the match, including the extra time (not counting penalties);\n",
    "- scoreHT: the number of goals scored by the team during the first half of the match;\n",
    "- scoreP: the total number of goals scored by the team after the penalties;\n",
    "- side: the team side in the match (it can be \"home\" or \"away\");\n",
    "- teamId: the identifier of the team;\n",
    "- coachId: the identifier of the team's coach;\n",
    "- bench: the list of the team's players that started the match in the bench and some basic statistics about their performance during the match (goals, own goals, cards);\n",
    "- lineup: the list of the team's players in the starting lineup and some basic statistics about their performance during the match (goals, own goals, cards);\n",
    "- substitutions: the list of team's substitutions during the match, describing the players involved and the minute of the substitution."
   ]
  },
  {
   "attachments": {},
   "cell_type": "markdown",
   "id": "7b8b995c",
   "metadata": {},
   "source": [
    "### Dados de jogadores (players.json)\n",
    "\n",
    "- birthArea: geographic information about the player's birth area;\n",
    "- birthDate: the birth date of the player, in the format \"YYYY-MM-DD\";\n",
    "- currentNationalTeamId: the identifier of the national team where the players currently plays;\n",
    "- currentTeamId: the identifier of the team where the player plays for. The identifier refers to the field \"wyId\" in a team document;\n",
    "- firstName: the first name of the player;\n",
    "- lastName: the last name of the player;\n",
    "- foot: the preferred foot of the player;\n",
    "- height: the height of the player (in centimeters);\n",
    "- middleName: the middle name (if any) of the player;\n",
    "- passportArea: the geographic area associated with the player's current passport;\n",
    "- role: the main role of the player. It is a subdocument containing the role's name and two abbreviations of it;\n",
    "- shortName2: the short name of the player;\n",
    "- weight: the weight of the player (in kilograms);\n",
    "- wyId: the identifier of the player, assigned by Wyscout."
   ]
  },
  {
   "attachments": {},
   "cell_type": "markdown",
   "id": "1ea47c3c",
   "metadata": {},
   "source": [
    "### Lendo os dados"
   ]
  },
  {
   "cell_type": "code",
   "execution_count": 2,
   "id": "e3df6b39",
   "metadata": {},
   "outputs": [
    {
     "name": "stderr",
     "output_type": "stream",
     "text": [
      "  0%|          | 0/7 [00:00<?, ?it/s]"
     ]
    },
    {
     "name": "stdout",
     "output_type": "stream",
     "text": [
      "Working on England file\n"
     ]
    },
    {
     "name": "stderr",
     "output_type": "stream",
     "text": [
      " 14%|█▍        | 1/7 [00:07<00:47,  7.92s/it]"
     ]
    },
    {
     "name": "stdout",
     "output_type": "stream",
     "text": [
      "Working on European_Championship file\n"
     ]
    },
    {
     "name": "stderr",
     "output_type": "stream",
     "text": [
      " 29%|██▊       | 2/7 [00:12<00:28,  5.72s/it]"
     ]
    },
    {
     "name": "stdout",
     "output_type": "stream",
     "text": [
      "Working on France file\n"
     ]
    },
    {
     "name": "stderr",
     "output_type": "stream",
     "text": [
      " 43%|████▎     | 3/7 [00:51<01:23, 20.94s/it]"
     ]
    },
    {
     "name": "stdout",
     "output_type": "stream",
     "text": [
      "Working on Germany file\n"
     ]
    },
    {
     "name": "stderr",
     "output_type": "stream",
     "text": [
      " 57%|█████▋    | 4/7 [01:09<01:00, 20.05s/it]"
     ]
    },
    {
     "name": "stdout",
     "output_type": "stream",
     "text": [
      "Working on Spain file\n"
     ]
    },
    {
     "name": "stderr",
     "output_type": "stream",
     "text": [
      " 71%|███████▏  | 5/7 [02:47<01:35, 47.97s/it]"
     ]
    },
    {
     "name": "stdout",
     "output_type": "stream",
     "text": [
      "Working on Italy file\n"
     ]
    },
    {
     "name": "stderr",
     "output_type": "stream",
     "text": [
      " 86%|████████▌ | 6/7 [03:40<00:49, 49.79s/it]"
     ]
    },
    {
     "name": "stdout",
     "output_type": "stream",
     "text": [
      "Working on World_Cup file\n"
     ]
    },
    {
     "name": "stderr",
     "output_type": "stream",
     "text": [
      "100%|██████████| 7/7 [03:49<00:00, 32.85s/it]\n"
     ]
    },
    {
     "name": "stdout",
     "output_type": "stream",
     "text": [
      "Concatenating dataframes\n"
     ]
    },
    {
     "data": {
      "text/html": [
       "<div>\n",
       "<style scoped>\n",
       "    .dataframe tbody tr th:only-of-type {\n",
       "        vertical-align: middle;\n",
       "    }\n",
       "\n",
       "    .dataframe tbody tr th {\n",
       "        vertical-align: top;\n",
       "    }\n",
       "\n",
       "    .dataframe thead th {\n",
       "        text-align: right;\n",
       "    }\n",
       "</style>\n",
       "<table border=\"1\" class=\"dataframe\">\n",
       "  <thead>\n",
       "    <tr style=\"text-align: right;\">\n",
       "      <th></th>\n",
       "      <th>eventId</th>\n",
       "      <th>subEventName</th>\n",
       "      <th>tags</th>\n",
       "      <th>playerId</th>\n",
       "      <th>positions</th>\n",
       "      <th>matchId</th>\n",
       "      <th>eventName</th>\n",
       "      <th>teamId</th>\n",
       "      <th>matchPeriod</th>\n",
       "      <th>eventSec</th>\n",
       "      <th>subEventId</th>\n",
       "      <th>id</th>\n",
       "      <th>league</th>\n",
       "    </tr>\n",
       "  </thead>\n",
       "  <tbody>\n",
       "    <tr>\n",
       "      <th>0</th>\n",
       "      <td>8</td>\n",
       "      <td>Simple pass</td>\n",
       "      <td>[{'id': 1801}]</td>\n",
       "      <td>25413</td>\n",
       "      <td>[{'y': 49, 'x': 49}, {'y': 78, 'x': 31}]</td>\n",
       "      <td>2499719</td>\n",
       "      <td>Pass</td>\n",
       "      <td>1609</td>\n",
       "      <td>1H</td>\n",
       "      <td>2.758649</td>\n",
       "      <td>85</td>\n",
       "      <td>177959171</td>\n",
       "      <td>England</td>\n",
       "    </tr>\n",
       "    <tr>\n",
       "      <th>1</th>\n",
       "      <td>8</td>\n",
       "      <td>High pass</td>\n",
       "      <td>[{'id': 1801}]</td>\n",
       "      <td>370224</td>\n",
       "      <td>[{'y': 78, 'x': 31}, {'y': 75, 'x': 51}]</td>\n",
       "      <td>2499719</td>\n",
       "      <td>Pass</td>\n",
       "      <td>1609</td>\n",
       "      <td>1H</td>\n",
       "      <td>4.946850</td>\n",
       "      <td>83</td>\n",
       "      <td>177959172</td>\n",
       "      <td>England</td>\n",
       "    </tr>\n",
       "    <tr>\n",
       "      <th>2</th>\n",
       "      <td>8</td>\n",
       "      <td>Head pass</td>\n",
       "      <td>[{'id': 1801}]</td>\n",
       "      <td>3319</td>\n",
       "      <td>[{'y': 75, 'x': 51}, {'y': 71, 'x': 35}]</td>\n",
       "      <td>2499719</td>\n",
       "      <td>Pass</td>\n",
       "      <td>1609</td>\n",
       "      <td>1H</td>\n",
       "      <td>6.542188</td>\n",
       "      <td>82</td>\n",
       "      <td>177959173</td>\n",
       "      <td>England</td>\n",
       "    </tr>\n",
       "    <tr>\n",
       "      <th>3</th>\n",
       "      <td>8</td>\n",
       "      <td>Head pass</td>\n",
       "      <td>[{'id': 1801}]</td>\n",
       "      <td>120339</td>\n",
       "      <td>[{'y': 71, 'x': 35}, {'y': 95, 'x': 41}]</td>\n",
       "      <td>2499719</td>\n",
       "      <td>Pass</td>\n",
       "      <td>1609</td>\n",
       "      <td>1H</td>\n",
       "      <td>8.143395</td>\n",
       "      <td>82</td>\n",
       "      <td>177959174</td>\n",
       "      <td>England</td>\n",
       "    </tr>\n",
       "    <tr>\n",
       "      <th>4</th>\n",
       "      <td>8</td>\n",
       "      <td>Simple pass</td>\n",
       "      <td>[{'id': 1801}]</td>\n",
       "      <td>167145</td>\n",
       "      <td>[{'y': 95, 'x': 41}, {'y': 88, 'x': 72}]</td>\n",
       "      <td>2499719</td>\n",
       "      <td>Pass</td>\n",
       "      <td>1609</td>\n",
       "      <td>1H</td>\n",
       "      <td>10.302366</td>\n",
       "      <td>85</td>\n",
       "      <td>177959175</td>\n",
       "      <td>England</td>\n",
       "    </tr>\n",
       "  </tbody>\n",
       "</table>\n",
       "</div>"
      ],
      "text/plain": [
       "   eventId subEventName            tags  playerId  \\\n",
       "0        8  Simple pass  [{'id': 1801}]     25413   \n",
       "1        8    High pass  [{'id': 1801}]    370224   \n",
       "2        8    Head pass  [{'id': 1801}]      3319   \n",
       "3        8    Head pass  [{'id': 1801}]    120339   \n",
       "4        8  Simple pass  [{'id': 1801}]    167145   \n",
       "\n",
       "                                  positions  matchId eventName  teamId  \\\n",
       "0  [{'y': 49, 'x': 49}, {'y': 78, 'x': 31}]  2499719      Pass    1609   \n",
       "1  [{'y': 78, 'x': 31}, {'y': 75, 'x': 51}]  2499719      Pass    1609   \n",
       "2  [{'y': 75, 'x': 51}, {'y': 71, 'x': 35}]  2499719      Pass    1609   \n",
       "3  [{'y': 71, 'x': 35}, {'y': 95, 'x': 41}]  2499719      Pass    1609   \n",
       "4  [{'y': 95, 'x': 41}, {'y': 88, 'x': 72}]  2499719      Pass    1609   \n",
       "\n",
       "  matchPeriod   eventSec subEventId         id   league  \n",
       "0          1H   2.758649         85  177959171  England  \n",
       "1          1H   4.946850         83  177959172  England  \n",
       "2          1H   6.542188         82  177959173  England  \n",
       "3          1H   8.143395         82  177959174  England  \n",
       "4          1H  10.302366         85  177959175  England  "
      ]
     },
     "execution_count": 2,
     "metadata": {},
     "output_type": "execute_result"
    }
   ],
   "source": [
    "events = aux.read_wyscout_event_data()\n",
    "events.head()"
   ]
  },
  {
   "cell_type": "code",
   "execution_count": 8,
   "id": "e0e7efdc",
   "metadata": {},
   "outputs": [
    {
     "name": "stderr",
     "output_type": "stream",
     "text": [
      "  0%|          | 0/7 [00:00<?, ?it/s]"
     ]
    },
    {
     "name": "stdout",
     "output_type": "stream",
     "text": [
      "Working on England file\n"
     ]
    },
    {
     "name": "stderr",
     "output_type": "stream",
     "text": [
      " 14%|█▍        | 1/7 [00:01<00:07,  1.32s/it]"
     ]
    },
    {
     "name": "stdout",
     "output_type": "stream",
     "text": [
      "Working on European_Championship file\n"
     ]
    },
    {
     "name": "stderr",
     "output_type": "stream",
     "text": [
      " 29%|██▊       | 2/7 [00:01<00:03,  1.42it/s]"
     ]
    },
    {
     "name": "stdout",
     "output_type": "stream",
     "text": [
      "Working on France file\n"
     ]
    },
    {
     "name": "stderr",
     "output_type": "stream",
     "text": [
      " 43%|████▎     | 3/7 [00:02<00:03,  1.12it/s]"
     ]
    },
    {
     "name": "stdout",
     "output_type": "stream",
     "text": [
      "Working on Germany file\n"
     ]
    },
    {
     "name": "stderr",
     "output_type": "stream",
     "text": [
      " 57%|█████▋    | 4/7 [00:03<00:02,  1.29it/s]"
     ]
    },
    {
     "name": "stdout",
     "output_type": "stream",
     "text": [
      "Working on Spain file\n"
     ]
    },
    {
     "name": "stderr",
     "output_type": "stream",
     "text": [
      " 71%|███████▏  | 5/7 [00:05<00:02,  1.33s/it]"
     ]
    },
    {
     "name": "stdout",
     "output_type": "stream",
     "text": [
      "Working on Italy file\n"
     ]
    },
    {
     "name": "stderr",
     "output_type": "stream",
     "text": [
      "100%|██████████| 7/7 [00:07<00:00,  1.06s/it]\n"
     ]
    },
    {
     "name": "stdout",
     "output_type": "stream",
     "text": [
      "Working on World_Cup file\n"
     ]
    },
    {
     "name": "stderr",
     "output_type": "stream",
     "text": [
      "  0%|          | 0/7 [00:00<?, ?it/s]"
     ]
    },
    {
     "name": "stdout",
     "output_type": "stream",
     "text": [
      "Concatenating dataframes\n"
     ]
    },
    {
     "name": "stderr",
     "output_type": "stream",
     "text": [
      "100%|██████████| 7/7 [00:00<00:00,  7.25it/s]"
     ]
    },
    {
     "name": "stdout",
     "output_type": "stream",
     "text": [
      "Concatenating dataframes\n",
      "Concatenating dataframes\n",
      "Concatenating dataframes\n",
      "Concatenating dataframes\n",
      "Concatenating dataframes\n",
      "Concatenating dataframes\n"
     ]
    },
    {
     "name": "stderr",
     "output_type": "stream",
     "text": [
      "\n"
     ]
    },
    {
     "data": {
      "text/html": [
       "<div>\n",
       "<style scoped>\n",
       "    .dataframe tbody tr th:only-of-type {\n",
       "        vertical-align: middle;\n",
       "    }\n",
       "\n",
       "    .dataframe tbody tr th {\n",
       "        vertical-align: top;\n",
       "    }\n",
       "\n",
       "    .dataframe thead th {\n",
       "        text-align: right;\n",
       "    }\n",
       "</style>\n",
       "<table border=\"1\" class=\"dataframe\">\n",
       "  <thead>\n",
       "    <tr style=\"text-align: right;\">\n",
       "      <th></th>\n",
       "      <th>status</th>\n",
       "      <th>roundId</th>\n",
       "      <th>gameweek</th>\n",
       "      <th>teamsData</th>\n",
       "      <th>seasonId</th>\n",
       "      <th>dateutc</th>\n",
       "      <th>winner</th>\n",
       "      <th>venue</th>\n",
       "      <th>wyId</th>\n",
       "      <th>label</th>\n",
       "      <th>date</th>\n",
       "      <th>referees</th>\n",
       "      <th>duration</th>\n",
       "      <th>competitionId</th>\n",
       "      <th>league</th>\n",
       "      <th>groupName</th>\n",
       "    </tr>\n",
       "  </thead>\n",
       "  <tbody>\n",
       "    <tr>\n",
       "      <th>0</th>\n",
       "      <td>Played</td>\n",
       "      <td>4405654</td>\n",
       "      <td>38</td>\n",
       "      <td>{'1646': {'scoreET': 0, 'coachId': 8880, 'side...</td>\n",
       "      <td>181150</td>\n",
       "      <td>2018-05-13 14:00:00</td>\n",
       "      <td>1659</td>\n",
       "      <td>Turf Moor</td>\n",
       "      <td>2500089</td>\n",
       "      <td>Burnley - AFC Bournemouth, 1 - 2</td>\n",
       "      <td>May 13, 2018 at 4:00:00 PM GMT+2</td>\n",
       "      <td>[{'refereeId': 385705, 'role': 'referee'}, {'r...</td>\n",
       "      <td>Regular</td>\n",
       "      <td>364</td>\n",
       "      <td>England</td>\n",
       "      <td>NaN</td>\n",
       "    </tr>\n",
       "    <tr>\n",
       "      <th>1</th>\n",
       "      <td>Played</td>\n",
       "      <td>4405654</td>\n",
       "      <td>38</td>\n",
       "      <td>{'1628': {'scoreET': 0, 'coachId': 8357, 'side...</td>\n",
       "      <td>181150</td>\n",
       "      <td>2018-05-13 14:00:00</td>\n",
       "      <td>1628</td>\n",
       "      <td>Selhurst Park</td>\n",
       "      <td>2500090</td>\n",
       "      <td>Crystal Palace - West Bromwich Albion, 2 - 0</td>\n",
       "      <td>May 13, 2018 at 4:00:00 PM GMT+2</td>\n",
       "      <td>[{'refereeId': 381851, 'role': 'referee'}, {'r...</td>\n",
       "      <td>Regular</td>\n",
       "      <td>364</td>\n",
       "      <td>England</td>\n",
       "      <td>NaN</td>\n",
       "    </tr>\n",
       "    <tr>\n",
       "      <th>2</th>\n",
       "      <td>Played</td>\n",
       "      <td>4405654</td>\n",
       "      <td>38</td>\n",
       "      <td>{'1609': {'scoreET': 0, 'coachId': 7845, 'side...</td>\n",
       "      <td>181150</td>\n",
       "      <td>2018-05-13 14:00:00</td>\n",
       "      <td>1609</td>\n",
       "      <td>The John Smith's Stadium</td>\n",
       "      <td>2500091</td>\n",
       "      <td>Huddersfield Town - Arsenal, 0 - 1</td>\n",
       "      <td>May 13, 2018 at 4:00:00 PM GMT+2</td>\n",
       "      <td>[{'refereeId': 384965, 'role': 'referee'}, {'r...</td>\n",
       "      <td>Regular</td>\n",
       "      <td>364</td>\n",
       "      <td>England</td>\n",
       "      <td>NaN</td>\n",
       "    </tr>\n",
       "    <tr>\n",
       "      <th>3</th>\n",
       "      <td>Played</td>\n",
       "      <td>4405654</td>\n",
       "      <td>38</td>\n",
       "      <td>{'1651': {'scoreET': 0, 'coachId': 8093, 'side...</td>\n",
       "      <td>181150</td>\n",
       "      <td>2018-05-13 14:00:00</td>\n",
       "      <td>1612</td>\n",
       "      <td>Anfield</td>\n",
       "      <td>2500092</td>\n",
       "      <td>Liverpool - Brighton &amp; Hove Albion, 4 - 0</td>\n",
       "      <td>May 13, 2018 at 4:00:00 PM GMT+2</td>\n",
       "      <td>[{'refereeId': 385704, 'role': 'referee'}, {'r...</td>\n",
       "      <td>Regular</td>\n",
       "      <td>364</td>\n",
       "      <td>England</td>\n",
       "      <td>NaN</td>\n",
       "    </tr>\n",
       "    <tr>\n",
       "      <th>4</th>\n",
       "      <td>Played</td>\n",
       "      <td>4405654</td>\n",
       "      <td>38</td>\n",
       "      <td>{'1644': {'scoreET': 0, 'coachId': 93112, 'sid...</td>\n",
       "      <td>181150</td>\n",
       "      <td>2018-05-13 14:00:00</td>\n",
       "      <td>1611</td>\n",
       "      <td>Old Trafford</td>\n",
       "      <td>2500093</td>\n",
       "      <td>Manchester United - Watford, 1 - 0</td>\n",
       "      <td>May 13, 2018 at 4:00:00 PM GMT+2</td>\n",
       "      <td>[{'refereeId': 381853, 'role': 'referee'}, {'r...</td>\n",
       "      <td>Regular</td>\n",
       "      <td>364</td>\n",
       "      <td>England</td>\n",
       "      <td>NaN</td>\n",
       "    </tr>\n",
       "  </tbody>\n",
       "</table>\n",
       "</div>"
      ],
      "text/plain": [
       "   status  roundId  gameweek  \\\n",
       "0  Played  4405654        38   \n",
       "1  Played  4405654        38   \n",
       "2  Played  4405654        38   \n",
       "3  Played  4405654        38   \n",
       "4  Played  4405654        38   \n",
       "\n",
       "                                           teamsData  seasonId  \\\n",
       "0  {'1646': {'scoreET': 0, 'coachId': 8880, 'side...    181150   \n",
       "1  {'1628': {'scoreET': 0, 'coachId': 8357, 'side...    181150   \n",
       "2  {'1609': {'scoreET': 0, 'coachId': 7845, 'side...    181150   \n",
       "3  {'1651': {'scoreET': 0, 'coachId': 8093, 'side...    181150   \n",
       "4  {'1644': {'scoreET': 0, 'coachId': 93112, 'sid...    181150   \n",
       "\n",
       "               dateutc  winner                     venue     wyId  \\\n",
       "0  2018-05-13 14:00:00    1659                 Turf Moor  2500089   \n",
       "1  2018-05-13 14:00:00    1628             Selhurst Park  2500090   \n",
       "2  2018-05-13 14:00:00    1609  The John Smith's Stadium  2500091   \n",
       "3  2018-05-13 14:00:00    1612                   Anfield  2500092   \n",
       "4  2018-05-13 14:00:00    1611              Old Trafford  2500093   \n",
       "\n",
       "                                          label  \\\n",
       "0              Burnley - AFC Bournemouth, 1 - 2   \n",
       "1  Crystal Palace - West Bromwich Albion, 2 - 0   \n",
       "2            Huddersfield Town - Arsenal, 0 - 1   \n",
       "3     Liverpool - Brighton & Hove Albion, 4 - 0   \n",
       "4            Manchester United - Watford, 1 - 0   \n",
       "\n",
       "                               date  \\\n",
       "0  May 13, 2018 at 4:00:00 PM GMT+2   \n",
       "1  May 13, 2018 at 4:00:00 PM GMT+2   \n",
       "2  May 13, 2018 at 4:00:00 PM GMT+2   \n",
       "3  May 13, 2018 at 4:00:00 PM GMT+2   \n",
       "4  May 13, 2018 at 4:00:00 PM GMT+2   \n",
       "\n",
       "                                            referees duration  competitionId  \\\n",
       "0  [{'refereeId': 385705, 'role': 'referee'}, {'r...  Regular            364   \n",
       "1  [{'refereeId': 381851, 'role': 'referee'}, {'r...  Regular            364   \n",
       "2  [{'refereeId': 384965, 'role': 'referee'}, {'r...  Regular            364   \n",
       "3  [{'refereeId': 385704, 'role': 'referee'}, {'r...  Regular            364   \n",
       "4  [{'refereeId': 381853, 'role': 'referee'}, {'r...  Regular            364   \n",
       "\n",
       "    league groupName  \n",
       "0  England       NaN  \n",
       "1  England       NaN  \n",
       "2  England       NaN  \n",
       "3  England       NaN  \n",
       "4  England       NaN  "
      ]
     },
     "execution_count": 8,
     "metadata": {},
     "output_type": "execute_result"
    }
   ],
   "source": [
    "matches = aux.read_wyscout_match_data(path = './data/wyscout/matches/')\n",
    "matches.head()"
   ]
  },
  {
   "cell_type": "code",
   "execution_count": 9,
   "id": "cdab021d",
   "metadata": {},
   "outputs": [
    {
     "data": {
      "text/html": [
       "<div>\n",
       "<style scoped>\n",
       "    .dataframe tbody tr th:only-of-type {\n",
       "        vertical-align: middle;\n",
       "    }\n",
       "\n",
       "    .dataframe tbody tr th {\n",
       "        vertical-align: top;\n",
       "    }\n",
       "\n",
       "    .dataframe thead th {\n",
       "        text-align: right;\n",
       "    }\n",
       "</style>\n",
       "<table border=\"1\" class=\"dataframe\">\n",
       "  <thead>\n",
       "    <tr style=\"text-align: right;\">\n",
       "      <th></th>\n",
       "      <th>passportArea</th>\n",
       "      <th>weight</th>\n",
       "      <th>firstName</th>\n",
       "      <th>middleName</th>\n",
       "      <th>lastName</th>\n",
       "      <th>currentTeamId</th>\n",
       "      <th>birthDate</th>\n",
       "      <th>height</th>\n",
       "      <th>role</th>\n",
       "      <th>birthArea</th>\n",
       "      <th>wyId</th>\n",
       "      <th>foot</th>\n",
       "      <th>shortName</th>\n",
       "      <th>currentNationalTeamId</th>\n",
       "    </tr>\n",
       "  </thead>\n",
       "  <tbody>\n",
       "    <tr>\n",
       "      <th>0</th>\n",
       "      <td>{'name': 'Turkey', 'id': '792', 'alpha3code': ...</td>\n",
       "      <td>78</td>\n",
       "      <td>Harun</td>\n",
       "      <td></td>\n",
       "      <td>Tekin</td>\n",
       "      <td>4502</td>\n",
       "      <td>1989-06-17</td>\n",
       "      <td>187</td>\n",
       "      <td>{'code2': 'GK', 'code3': 'GKP', 'name': 'Goalk...</td>\n",
       "      <td>{'name': 'Turkey', 'id': '792', 'alpha3code': ...</td>\n",
       "      <td>32777</td>\n",
       "      <td>right</td>\n",
       "      <td>H. Tekin</td>\n",
       "      <td>4687</td>\n",
       "    </tr>\n",
       "    <tr>\n",
       "      <th>1</th>\n",
       "      <td>{'name': 'Senegal', 'id': '686', 'alpha3code':...</td>\n",
       "      <td>73</td>\n",
       "      <td>Malang</td>\n",
       "      <td></td>\n",
       "      <td>Sarr</td>\n",
       "      <td>3775</td>\n",
       "      <td>1999-01-23</td>\n",
       "      <td>182</td>\n",
       "      <td>{'code2': 'DF', 'code3': 'DEF', 'name': 'Defen...</td>\n",
       "      <td>{'name': 'France', 'id': '250', 'alpha3code': ...</td>\n",
       "      <td>393228</td>\n",
       "      <td>left</td>\n",
       "      <td>M. Sarr</td>\n",
       "      <td>4423</td>\n",
       "    </tr>\n",
       "    <tr>\n",
       "      <th>2</th>\n",
       "      <td>{'name': 'France', 'id': '250', 'alpha3code': ...</td>\n",
       "      <td>72</td>\n",
       "      <td>Over</td>\n",
       "      <td></td>\n",
       "      <td>Mandanda</td>\n",
       "      <td>3772</td>\n",
       "      <td>1998-10-26</td>\n",
       "      <td>176</td>\n",
       "      <td>{'code2': 'GK', 'code3': 'GKP', 'name': 'Goalk...</td>\n",
       "      <td>{'name': 'France', 'id': '250', 'alpha3code': ...</td>\n",
       "      <td>393230</td>\n",
       "      <td></td>\n",
       "      <td>O. Mandanda</td>\n",
       "      <td>null</td>\n",
       "    </tr>\n",
       "    <tr>\n",
       "      <th>3</th>\n",
       "      <td>{'name': 'Senegal', 'id': '686', 'alpha3code':...</td>\n",
       "      <td>82</td>\n",
       "      <td>Alfred John Momar</td>\n",
       "      <td></td>\n",
       "      <td>N'Diaye</td>\n",
       "      <td>683</td>\n",
       "      <td>1990-03-06</td>\n",
       "      <td>187</td>\n",
       "      <td>{'code2': 'MD', 'code3': 'MID', 'name': 'Midfi...</td>\n",
       "      <td>{'name': 'France', 'id': '250', 'alpha3code': ...</td>\n",
       "      <td>32793</td>\n",
       "      <td>right</td>\n",
       "      <td>A. N'Diaye</td>\n",
       "      <td>19314</td>\n",
       "    </tr>\n",
       "    <tr>\n",
       "      <th>4</th>\n",
       "      <td>{'name': 'France', 'id': '250', 'alpha3code': ...</td>\n",
       "      <td>84</td>\n",
       "      <td>Ibrahima</td>\n",
       "      <td></td>\n",
       "      <td>Konat\\u00e9</td>\n",
       "      <td>2975</td>\n",
       "      <td>1999-05-25</td>\n",
       "      <td>192</td>\n",
       "      <td>{'code2': 'DF', 'code3': 'DEF', 'name': 'Defen...</td>\n",
       "      <td>{'name': 'France', 'id': '250', 'alpha3code': ...</td>\n",
       "      <td>393247</td>\n",
       "      <td>right</td>\n",
       "      <td>I. Konat\\u00e9</td>\n",
       "      <td>null</td>\n",
       "    </tr>\n",
       "  </tbody>\n",
       "</table>\n",
       "</div>"
      ],
      "text/plain": [
       "                                        passportArea  weight  \\\n",
       "0  {'name': 'Turkey', 'id': '792', 'alpha3code': ...      78   \n",
       "1  {'name': 'Senegal', 'id': '686', 'alpha3code':...      73   \n",
       "2  {'name': 'France', 'id': '250', 'alpha3code': ...      72   \n",
       "3  {'name': 'Senegal', 'id': '686', 'alpha3code':...      82   \n",
       "4  {'name': 'France', 'id': '250', 'alpha3code': ...      84   \n",
       "\n",
       "           firstName middleName     lastName currentTeamId   birthDate  \\\n",
       "0              Harun                   Tekin          4502  1989-06-17   \n",
       "1             Malang                    Sarr          3775  1999-01-23   \n",
       "2               Over                Mandanda          3772  1998-10-26   \n",
       "3  Alfred John Momar                 N'Diaye           683  1990-03-06   \n",
       "4           Ibrahima             Konat\\u00e9          2975  1999-05-25   \n",
       "\n",
       "   height                                               role  \\\n",
       "0     187  {'code2': 'GK', 'code3': 'GKP', 'name': 'Goalk...   \n",
       "1     182  {'code2': 'DF', 'code3': 'DEF', 'name': 'Defen...   \n",
       "2     176  {'code2': 'GK', 'code3': 'GKP', 'name': 'Goalk...   \n",
       "3     187  {'code2': 'MD', 'code3': 'MID', 'name': 'Midfi...   \n",
       "4     192  {'code2': 'DF', 'code3': 'DEF', 'name': 'Defen...   \n",
       "\n",
       "                                           birthArea    wyId   foot  \\\n",
       "0  {'name': 'Turkey', 'id': '792', 'alpha3code': ...   32777  right   \n",
       "1  {'name': 'France', 'id': '250', 'alpha3code': ...  393228   left   \n",
       "2  {'name': 'France', 'id': '250', 'alpha3code': ...  393230          \n",
       "3  {'name': 'France', 'id': '250', 'alpha3code': ...   32793  right   \n",
       "4  {'name': 'France', 'id': '250', 'alpha3code': ...  393247  right   \n",
       "\n",
       "        shortName currentNationalTeamId  \n",
       "0        H. Tekin                  4687  \n",
       "1         M. Sarr                  4423  \n",
       "2     O. Mandanda                  null  \n",
       "3      A. N'Diaye                 19314  \n",
       "4  I. Konat\\u00e9                  null  "
      ]
     },
     "execution_count": 9,
     "metadata": {},
     "output_type": "execute_result"
    }
   ],
   "source": [
    "players = aux.read_wyscout_player_data()\n",
    "players.head()"
   ]
  },
  {
   "cell_type": "code",
   "execution_count": 10,
   "id": "5d6dbc3a",
   "metadata": {},
   "outputs": [],
   "source": [
    "events_copy = events.copy()"
   ]
  },
  {
   "cell_type": "code",
   "execution_count": 11,
   "id": "f8d31fd9",
   "metadata": {},
   "outputs": [],
   "source": [
    "events=pd.merge(events, players[['wyId', 'foot', 'firstName', 'lastName']], \n",
    "                       left_on='playerId', right_on='wyId')\n",
    "events=pd.merge(events, matches[['wyId', 'label', 'venue', 'date']], left_on='matchId', right_on='wyId')\n",
    "events=events.drop(columns=['wyId_x', 'wyId_y'])\n",
    "events=events.sort_values(['matchId', 'matchPeriod', 'eventSec'])"
   ]
  },
  {
   "cell_type": "code",
   "execution_count": null,
   "id": "72504a71",
   "metadata": {},
   "outputs": [],
   "source": []
  },
  {
   "attachments": {},
   "cell_type": "markdown",
   "id": "d8edb762",
   "metadata": {},
   "source": [
    "### Criando algumas variáveis importantes relacionadas aos chutes\n",
    "\n",
    "fonte: Soccermatics - https://soccermatics.readthedocs.io/en/latest/"
   ]
  },
  {
   "cell_type": "code",
   "execution_count": 12,
   "id": "56229436",
   "metadata": {
    "ExecuteTime": {
     "end_time": "2023-04-27T11:40:09.927831Z",
     "start_time": "2023-04-27T11:40:09.817854Z"
    }
   },
   "outputs": [],
   "source": [
    "events['previous_event'] = events['subEventName'].shift(1) # qual foi o evento anterior ao chute\n",
    "events['x'] = events.positions.apply(lambda c: (100 - c[0]['x']) * 105/100)  # convertendo de percentual para metros (um campo tem 100 x 68 metros)\n",
    "events['y'] = events.positions.apply(lambda c: c[0]['y'] * 68/100)  # convertendo de percentual para metros\n",
    "events['c'] = events.positions.apply(lambda c: abs(c[0]['y'] - 50) * 68/100) # convertendo de percentual para metros - distância do centro do campo\n",
    "events[\"distance\"] = np.sqrt(events[\"x\"]**2 + events[\"c\"]**2)\n",
    "events[\"angle\"] = np.where(np.arctan(7.32 * events[\"x\"] / (events[\"x\"]**2 + events[\"c\"]**2 - (7.32/2)**2)) > 0, np.arctan(7.32 * events[\"x\"] /(events[\"x\"]**2 + events[\"c\"]**2 - (7.32/2)**2)), np.arctan(7.32 * events[\"x\"] /(events[\"x\"]**2 + events[\"c\"]**2 - (7.32/2)**2)) + np.pi)\n",
    "events[\"goal\"] = events.tags.apply(lambda x: 1 if {'id':101} in x else 0).astype(object)\n"
   ]
  },
  {
   "cell_type": "code",
   "execution_count": 13,
   "id": "cc1cd6e6",
   "metadata": {},
   "outputs": [],
   "source": [
    "all_shots = events[(events['subEventName'] == 'Shot') |(events['subEventName'] =='Free kick shot')].copy()\n",
    "\n",
    "all_shots['free_kick'] = 1*(all_shots['subEventName'] == 'Free kick shot')\n",
    "all_shots[\"counter_attack\"] = events.tags.apply(lambda x: 1 if {'id':1901} in x else 0).astype(object)"
   ]
  },
  {
   "cell_type": "code",
   "execution_count": 14,
   "id": "40a65c94",
   "metadata": {},
   "outputs": [],
   "source": [
    "all_shots['rebound']= 1*(all_shots['previous_event'] == 'Penalty') \\\n",
    "                    + 1*(all_shots['previous_event'] == 'Free kick shot') \\\n",
    "                    + 1*(all_shots['previous_event'] == 'Shot') \\\n",
    "                    + 1*(all_shots['previous_event'] == 'Save attempt') \n",
    "\n",
    "all_shots['prev_cross'] = 1*(all_shots['previous_event'] == 'Corner') \\\n",
    "                        + 1*(all_shots['previous_event'] == 'Free kick cross') \\\n",
    "                        + 1*(all_shots['previous_event'] == 'Cross') \n",
    "\n",
    "all_shots['prev_touch'] = 1*(all_shots['previous_event'] == 'Touch')\n",
    "\n",
    "all_shots['prev_pass'] = 1*(all_shots['previous_event'] == 'Simple pass') \\\n",
    "                       + 1*(all_shots['previous_event'] == 'Head pass') \\\n",
    "                       + 1*(all_shots['previous_event'] == 'Goal kick') \\\n",
    "\n",
    "all_shots['prev_smart_pass'] = 1*(all_shots['previous_event'] == 'Smart pass')\n",
    "\n",
    "all_shots['prev_duel'] = 1*(all_shots['previous_event'] == 'Air duel') \\\n",
    "                       + 1*(all_shots['previous_event'] == 'Ground defending duel')  \\\n",
    "                       + 1*(all_shots['previous_event'] == 'Ground attacking duel') \\\n",
    "                       + 1*(all_shots['previous_event'] == 'Ground loose ball duel duel') "
   ]
  },
  {
   "cell_type": "code",
   "execution_count": 15,
   "id": "a568ec7b",
   "metadata": {},
   "outputs": [
    {
     "data": {
      "text/html": [
       "<div>\n",
       "<style scoped>\n",
       "    .dataframe tbody tr th:only-of-type {\n",
       "        vertical-align: middle;\n",
       "    }\n",
       "\n",
       "    .dataframe tbody tr th {\n",
       "        vertical-align: top;\n",
       "    }\n",
       "\n",
       "    .dataframe thead th {\n",
       "        text-align: right;\n",
       "    }\n",
       "</style>\n",
       "<table border=\"1\" class=\"dataframe\">\n",
       "  <thead>\n",
       "    <tr style=\"text-align: right;\">\n",
       "      <th></th>\n",
       "      <th>eventId</th>\n",
       "      <th>subEventName</th>\n",
       "      <th>tags</th>\n",
       "      <th>playerId</th>\n",
       "      <th>positions</th>\n",
       "      <th>matchId</th>\n",
       "      <th>eventName</th>\n",
       "      <th>teamId</th>\n",
       "      <th>matchPeriod</th>\n",
       "      <th>eventSec</th>\n",
       "      <th>...</th>\n",
       "      <th>angle</th>\n",
       "      <th>goal</th>\n",
       "      <th>free_kick</th>\n",
       "      <th>counter_attack</th>\n",
       "      <th>rebound</th>\n",
       "      <th>prev_cross</th>\n",
       "      <th>prev_touch</th>\n",
       "      <th>prev_pass</th>\n",
       "      <th>prev_smart_pass</th>\n",
       "      <th>prev_duel</th>\n",
       "    </tr>\n",
       "  </thead>\n",
       "  <tbody>\n",
       "    <tr>\n",
       "      <th>257339</th>\n",
       "      <td>10</td>\n",
       "      <td>Shot</td>\n",
       "      <td>[{'id': 402}, {'id': 1401}, {'id': 1203}, {'id...</td>\n",
       "      <td>25437</td>\n",
       "      <td>[{'y': 29, 'x': 91}, {'y': 0, 'x': 0}]</td>\n",
       "      <td>1694390</td>\n",
       "      <td>Shot</td>\n",
       "      <td>4418</td>\n",
       "      <td>1H</td>\n",
       "      <td>31.226217</td>\n",
       "      <td>...</td>\n",
       "      <td>0.242346</td>\n",
       "      <td>0</td>\n",
       "      <td>0</td>\n",
       "      <td>0</td>\n",
       "      <td>0</td>\n",
       "      <td>0</td>\n",
       "      <td>0</td>\n",
       "      <td>1</td>\n",
       "      <td>0</td>\n",
       "      <td>0</td>\n",
       "    </tr>\n",
       "    <tr>\n",
       "      <th>257923</th>\n",
       "      <td>10</td>\n",
       "      <td>Shot</td>\n",
       "      <td>[{'id': 402}, {'id': 201}, {'id': 1216}, {'id'...</td>\n",
       "      <td>83824</td>\n",
       "      <td>[{'y': 29, 'x': 71}, {'y': 100, 'x': 100}]</td>\n",
       "      <td>1694390</td>\n",
       "      <td>Shot</td>\n",
       "      <td>11944</td>\n",
       "      <td>1H</td>\n",
       "      <td>143.119551</td>\n",
       "      <td>...</td>\n",
       "      <td>0.196835</td>\n",
       "      <td>0</td>\n",
       "      <td>0</td>\n",
       "      <td>0</td>\n",
       "      <td>0</td>\n",
       "      <td>0</td>\n",
       "      <td>0</td>\n",
       "      <td>1</td>\n",
       "      <td>0</td>\n",
       "      <td>0</td>\n",
       "    </tr>\n",
       "    <tr>\n",
       "      <th>258172</th>\n",
       "      <td>10</td>\n",
       "      <td>Shot</td>\n",
       "      <td>[{'id': 402}, {'id': 201}, {'id': 1201}, {'id'...</td>\n",
       "      <td>33235</td>\n",
       "      <td>[{'y': 57, 'x': 96}, {'y': 100, 'x': 100}]</td>\n",
       "      <td>1694390</td>\n",
       "      <td>Shot</td>\n",
       "      <td>11944</td>\n",
       "      <td>1H</td>\n",
       "      <td>219.576026</td>\n",
       "      <td>...</td>\n",
       "      <td>0.851948</td>\n",
       "      <td>0</td>\n",
       "      <td>0</td>\n",
       "      <td>0</td>\n",
       "      <td>0</td>\n",
       "      <td>0</td>\n",
       "      <td>0</td>\n",
       "      <td>0</td>\n",
       "      <td>0</td>\n",
       "      <td>1</td>\n",
       "    </tr>\n",
       "    <tr>\n",
       "      <th>257684</th>\n",
       "      <td>10</td>\n",
       "      <td>Shot</td>\n",
       "      <td>[{'id': 403}, {'id': 201}, {'id': 1215}, {'id'...</td>\n",
       "      <td>6165</td>\n",
       "      <td>[{'y': 61, 'x': 96}, {'y': 100, 'x': 100}]</td>\n",
       "      <td>1694390</td>\n",
       "      <td>Shot</td>\n",
       "      <td>11944</td>\n",
       "      <td>1H</td>\n",
       "      <td>247.532561</td>\n",
       "      <td>...</td>\n",
       "      <td>0.472204</td>\n",
       "      <td>0</td>\n",
       "      <td>0</td>\n",
       "      <td>0</td>\n",
       "      <td>0</td>\n",
       "      <td>0</td>\n",
       "      <td>0</td>\n",
       "      <td>0</td>\n",
       "      <td>0</td>\n",
       "      <td>1</td>\n",
       "    </tr>\n",
       "    <tr>\n",
       "      <th>257303</th>\n",
       "      <td>10</td>\n",
       "      <td>Shot</td>\n",
       "      <td>[{'id': 401}, {'id': 2101}, {'id': 1802}]</td>\n",
       "      <td>3682</td>\n",
       "      <td>[{'y': 33, 'x': 75}, {'y': 0, 'x': 0}]</td>\n",
       "      <td>1694390</td>\n",
       "      <td>Shot</td>\n",
       "      <td>4418</td>\n",
       "      <td>1H</td>\n",
       "      <td>557.319065</td>\n",
       "      <td>...</td>\n",
       "      <td>0.233111</td>\n",
       "      <td>0</td>\n",
       "      <td>0</td>\n",
       "      <td>0</td>\n",
       "      <td>0</td>\n",
       "      <td>0</td>\n",
       "      <td>0</td>\n",
       "      <td>1</td>\n",
       "      <td>0</td>\n",
       "      <td>0</td>\n",
       "    </tr>\n",
       "  </tbody>\n",
       "</table>\n",
       "<p>5 rows × 34 columns</p>\n",
       "</div>"
      ],
      "text/plain": [
       "        eventId subEventName  \\\n",
       "257339       10         Shot   \n",
       "257923       10         Shot   \n",
       "258172       10         Shot   \n",
       "257684       10         Shot   \n",
       "257303       10         Shot   \n",
       "\n",
       "                                                     tags  playerId  \\\n",
       "257339  [{'id': 402}, {'id': 1401}, {'id': 1203}, {'id...     25437   \n",
       "257923  [{'id': 402}, {'id': 201}, {'id': 1216}, {'id'...     83824   \n",
       "258172  [{'id': 402}, {'id': 201}, {'id': 1201}, {'id'...     33235   \n",
       "257684  [{'id': 403}, {'id': 201}, {'id': 1215}, {'id'...      6165   \n",
       "257303          [{'id': 401}, {'id': 2101}, {'id': 1802}]      3682   \n",
       "\n",
       "                                         positions  matchId eventName  teamId  \\\n",
       "257339      [{'y': 29, 'x': 91}, {'y': 0, 'x': 0}]  1694390      Shot    4418   \n",
       "257923  [{'y': 29, 'x': 71}, {'y': 100, 'x': 100}]  1694390      Shot   11944   \n",
       "258172  [{'y': 57, 'x': 96}, {'y': 100, 'x': 100}]  1694390      Shot   11944   \n",
       "257684  [{'y': 61, 'x': 96}, {'y': 100, 'x': 100}]  1694390      Shot   11944   \n",
       "257303      [{'y': 33, 'x': 75}, {'y': 0, 'x': 0}]  1694390      Shot    4418   \n",
       "\n",
       "       matchPeriod    eventSec  ...     angle  goal free_kick counter_attack  \\\n",
       "257339          1H   31.226217  ...  0.242346     0         0              0   \n",
       "257923          1H  143.119551  ...  0.196835     0         0              0   \n",
       "258172          1H  219.576026  ...  0.851948     0         0              0   \n",
       "257684          1H  247.532561  ...  0.472204     0         0              0   \n",
       "257303          1H  557.319065  ...  0.233111     0         0              0   \n",
       "\n",
       "       rebound prev_cross prev_touch prev_pass prev_smart_pass prev_duel  \n",
       "257339       0          0          0         1               0         0  \n",
       "257923       0          0          0         1               0         0  \n",
       "258172       0          0          0         0               0         1  \n",
       "257684       0          0          0         0               0         1  \n",
       "257303       0          0          0         1               0         0  \n",
       "\n",
       "[5 rows x 34 columns]"
      ]
     },
     "execution_count": 15,
     "metadata": {},
     "output_type": "execute_result"
    }
   ],
   "source": [
    "all_shots.head()"
   ]
  },
  {
   "cell_type": "code",
   "execution_count": 16,
   "id": "6cf31b42",
   "metadata": {},
   "outputs": [
    {
     "data": {
      "text/plain": [
       "Index(['eventId', 'subEventName', 'tags', 'playerId', 'positions', 'matchId',\n",
       "       'eventName', 'teamId', 'matchPeriod', 'eventSec', 'subEventId', 'id',\n",
       "       'league', 'foot', 'firstName', 'lastName', 'label', 'venue', 'date',\n",
       "       'previous_event', 'x', 'y', 'c', 'distance', 'angle', 'goal',\n",
       "       'free_kick', 'counter_attack', 'rebound', 'prev_cross', 'prev_touch',\n",
       "       'prev_pass', 'prev_smart_pass', 'prev_duel'],\n",
       "      dtype='object')"
      ]
     },
     "execution_count": 16,
     "metadata": {},
     "output_type": "execute_result"
    }
   ],
   "source": [
    "all_shots.columns"
   ]
  },
  {
   "cell_type": "code",
   "execution_count": 17,
   "id": "dbd415c0",
   "metadata": {},
   "outputs": [],
   "source": [
    "all_shots.to_parquet('shots_dataframe.parquet')"
   ]
  },
  {
   "cell_type": "code",
   "execution_count": null,
   "id": "7916f987",
   "metadata": {},
   "outputs": [],
   "source": []
  }
 ],
 "metadata": {
  "hide_input": false,
  "kernelspec": {
   "display_name": "Python 3 (ipykernel)",
   "language": "python",
   "name": "python3"
  },
  "language_info": {
   "codemirror_mode": {
    "name": "ipython",
    "version": 3
   },
   "file_extension": ".py",
   "mimetype": "text/x-python",
   "name": "python",
   "nbconvert_exporter": "python",
   "pygments_lexer": "ipython3",
   "version": "3.9.13"
  },
  "varInspector": {
   "cols": {
    "lenName": 16,
    "lenType": 16,
    "lenVar": 40
   },
   "kernels_config": {
    "python": {
     "delete_cmd_postfix": "",
     "delete_cmd_prefix": "del ",
     "library": "var_list.py",
     "varRefreshCmd": "print(var_dic_list())"
    },
    "r": {
     "delete_cmd_postfix": ") ",
     "delete_cmd_prefix": "rm(",
     "library": "var_list.r",
     "varRefreshCmd": "cat(var_dic_list()) "
    }
   },
   "types_to_exclude": [
    "module",
    "function",
    "builtin_function_or_method",
    "instance",
    "_Feature"
   ],
   "window_display": false
  }
 },
 "nbformat": 4,
 "nbformat_minor": 5
}
