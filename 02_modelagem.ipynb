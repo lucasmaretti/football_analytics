{
 "cells": [
  {
   "attachments": {},
   "cell_type": "markdown",
   "id": "9a9123e2",
   "metadata": {},
   "source": [
    "Neste notebook faremos uma análise exploratória dos dados pré-processados da Wyscout, em seguida treinaremos modelos de classificação para prever o xG."
   ]
  },
  {
   "cell_type": "code",
   "execution_count": 33,
   "id": "c506243d",
   "metadata": {
    "ExecuteTime": {
     "end_time": "2023-06-13T11:04:26.679673Z",
     "start_time": "2023-06-13T11:04:24.599462Z"
    }
   },
   "outputs": [],
   "source": [
    "import time\n",
    "import pandas as pd\n",
    "import matplotlib.pyplot as plt\n",
    "import seaborn as sns\n",
    "import numpy as np\n",
    "from mplsoccer import VerticalPitch\n",
    "%matplotlib inline\n",
    "\n",
    "pd.set_option('display.max_columns', None)\n",
    "pd.set_option('display.max_rows', None)\n",
    "\n",
    "#other\n",
    "import aux_functions_plot as p\n",
    "\n",
    "#ml / stats\n",
    "\n",
    "import sklearn.metrics as sk_metrics\n",
    "from sklearn.model_selection import GridSearchCV, train_test_split, cross_val_score\n",
    "from sklearn.inspection import permutation_importance\n",
    "from sklearn.linear_model import LogisticRegression\n",
    "from sklearn.preprocessing import MinMaxScaler\n",
    "from sklearn.ensemble import RandomForestClassifier\n",
    "import xgboost as xgb\n",
    "import lightgbm as lgb\n",
    "from keras.models import Sequential\n",
    "from keras.layers import LSTM, Dense\n",
    "from keras.layers import Dropout\n",
    "\n"
   ]
  },
  {
   "attachments": {},
   "cell_type": "markdown",
   "id": "73a571a4",
   "metadata": {},
   "source": [
    "## Modelagem"
   ]
  },
  {
   "cell_type": "code",
   "execution_count": 2,
   "id": "093f774e",
   "metadata": {},
   "outputs": [],
   "source": [
    "shots = pd.read_csv('./data/shots_dataframe_modelling.csv')"
   ]
  },
  {
   "cell_type": "code",
   "execution_count": 3,
   "id": "67bd6e00",
   "metadata": {},
   "outputs": [],
   "source": [
    "features = ['y', 'c', 'distance', 'angle',\n",
    "       'free_kick', 'counter_attack', 'rebound', 'prev_cross', 'prev_touch',\n",
    "       'prev_pass', 'prev_smart_pass', 'prev_duel'] # removemos x da lista de features devido à análise de multicolinearidade feita anteriormente\n",
    "\n",
    "baseline_features = ['distance', 'angle']\n",
    "\n",
    "target = ['goal']"
   ]
  },
  {
   "cell_type": "code",
   "execution_count": 4,
   "id": "03bb0a72",
   "metadata": {},
   "outputs": [],
   "source": [
    "X = shots[features]\n",
    "X_baseline = shots[baseline_features]\n",
    "y = shots[target]"
   ]
  },
  {
   "attachments": {},
   "cell_type": "markdown",
   "id": "77267a0b",
   "metadata": {},
   "source": [
    "Separando os dados em treino / teste"
   ]
  },
  {
   "cell_type": "code",
   "execution_count": 5,
   "id": "d080ccc2",
   "metadata": {},
   "outputs": [],
   "source": [
    "X_train, X_test, y_train, y_test = train_test_split(X, y, test_size=0.25, random_state=42)\n",
    "\n",
    "X_train_baseline, X_test_baseline, y_train_baseline, y_test_baseline = train_test_split(X_baseline, y, test_size=0.25, random_state=42)"
   ]
  },
  {
   "cell_type": "code",
   "execution_count": 6,
   "id": "8b2b55e1",
   "metadata": {},
   "outputs": [
    {
     "data": {
      "text/plain": [
       "11316"
      ]
     },
     "execution_count": 6,
     "metadata": {},
     "output_type": "execute_result"
    }
   ],
   "source": [
    "len(y_test_baseline['goal'])"
   ]
  },
  {
   "cell_type": "code",
   "execution_count": 7,
   "id": "b12d88f1",
   "metadata": {},
   "outputs": [
    {
     "data": {
      "text/plain": [
       "1172"
      ]
     },
     "execution_count": 7,
     "metadata": {},
     "output_type": "execute_result"
    }
   ],
   "source": [
    "y_test_baseline['goal'].sum()"
   ]
  },
  {
   "attachments": {},
   "cell_type": "markdown",
   "id": "fd274770",
   "metadata": {},
   "source": [
    "### Modelo baseline - Regressão Logística"
   ]
  },
  {
   "cell_type": "code",
   "execution_count": 8,
   "id": "24721fc6",
   "metadata": {},
   "outputs": [
    {
     "data": {
      "text/html": [
       "<style>#sk-container-id-1 {color: black;background-color: white;}#sk-container-id-1 pre{padding: 0;}#sk-container-id-1 div.sk-toggleable {background-color: white;}#sk-container-id-1 label.sk-toggleable__label {cursor: pointer;display: block;width: 100%;margin-bottom: 0;padding: 0.3em;box-sizing: border-box;text-align: center;}#sk-container-id-1 label.sk-toggleable__label-arrow:before {content: \"▸\";float: left;margin-right: 0.25em;color: #696969;}#sk-container-id-1 label.sk-toggleable__label-arrow:hover:before {color: black;}#sk-container-id-1 div.sk-estimator:hover label.sk-toggleable__label-arrow:before {color: black;}#sk-container-id-1 div.sk-toggleable__content {max-height: 0;max-width: 0;overflow: hidden;text-align: left;background-color: #f0f8ff;}#sk-container-id-1 div.sk-toggleable__content pre {margin: 0.2em;color: black;border-radius: 0.25em;background-color: #f0f8ff;}#sk-container-id-1 input.sk-toggleable__control:checked~div.sk-toggleable__content {max-height: 200px;max-width: 100%;overflow: auto;}#sk-container-id-1 input.sk-toggleable__control:checked~label.sk-toggleable__label-arrow:before {content: \"▾\";}#sk-container-id-1 div.sk-estimator input.sk-toggleable__control:checked~label.sk-toggleable__label {background-color: #d4ebff;}#sk-container-id-1 div.sk-label input.sk-toggleable__control:checked~label.sk-toggleable__label {background-color: #d4ebff;}#sk-container-id-1 input.sk-hidden--visually {border: 0;clip: rect(1px 1px 1px 1px);clip: rect(1px, 1px, 1px, 1px);height: 1px;margin: -1px;overflow: hidden;padding: 0;position: absolute;width: 1px;}#sk-container-id-1 div.sk-estimator {font-family: monospace;background-color: #f0f8ff;border: 1px dotted black;border-radius: 0.25em;box-sizing: border-box;margin-bottom: 0.5em;}#sk-container-id-1 div.sk-estimator:hover {background-color: #d4ebff;}#sk-container-id-1 div.sk-parallel-item::after {content: \"\";width: 100%;border-bottom: 1px solid gray;flex-grow: 1;}#sk-container-id-1 div.sk-label:hover label.sk-toggleable__label {background-color: #d4ebff;}#sk-container-id-1 div.sk-serial::before {content: \"\";position: absolute;border-left: 1px solid gray;box-sizing: border-box;top: 0;bottom: 0;left: 50%;z-index: 0;}#sk-container-id-1 div.sk-serial {display: flex;flex-direction: column;align-items: center;background-color: white;padding-right: 0.2em;padding-left: 0.2em;position: relative;}#sk-container-id-1 div.sk-item {position: relative;z-index: 1;}#sk-container-id-1 div.sk-parallel {display: flex;align-items: stretch;justify-content: center;background-color: white;position: relative;}#sk-container-id-1 div.sk-item::before, #sk-container-id-1 div.sk-parallel-item::before {content: \"\";position: absolute;border-left: 1px solid gray;box-sizing: border-box;top: 0;bottom: 0;left: 50%;z-index: -1;}#sk-container-id-1 div.sk-parallel-item {display: flex;flex-direction: column;z-index: 1;position: relative;background-color: white;}#sk-container-id-1 div.sk-parallel-item:first-child::after {align-self: flex-end;width: 50%;}#sk-container-id-1 div.sk-parallel-item:last-child::after {align-self: flex-start;width: 50%;}#sk-container-id-1 div.sk-parallel-item:only-child::after {width: 0;}#sk-container-id-1 div.sk-dashed-wrapped {border: 1px dashed gray;margin: 0 0.4em 0.5em 0.4em;box-sizing: border-box;padding-bottom: 0.4em;background-color: white;}#sk-container-id-1 div.sk-label label {font-family: monospace;font-weight: bold;display: inline-block;line-height: 1.2em;}#sk-container-id-1 div.sk-label-container {text-align: center;}#sk-container-id-1 div.sk-container {/* jupyter's `normalize.less` sets `[hidden] { display: none; }` but bootstrap.min.css set `[hidden] { display: none !important; }` so we also need the `!important` here to be able to override the default hidden behavior on the sphinx rendered scikit-learn.org. See: https://github.com/scikit-learn/scikit-learn/issues/21755 */display: inline-block !important;position: relative;}#sk-container-id-1 div.sk-text-repr-fallback {display: none;}</style><div id=\"sk-container-id-1\" class=\"sk-top-container\"><div class=\"sk-text-repr-fallback\"><pre>LogisticRegression(random_state=42)</pre><b>In a Jupyter environment, please rerun this cell to show the HTML representation or trust the notebook. <br />On GitHub, the HTML representation is unable to render, please try loading this page with nbviewer.org.</b></div><div class=\"sk-container\" hidden><div class=\"sk-item\"><div class=\"sk-estimator sk-toggleable\"><input class=\"sk-toggleable__control sk-hidden--visually\" id=\"sk-estimator-id-1\" type=\"checkbox\" checked><label for=\"sk-estimator-id-1\" class=\"sk-toggleable__label sk-toggleable__label-arrow\">LogisticRegression</label><div class=\"sk-toggleable__content\"><pre>LogisticRegression(random_state=42)</pre></div></div></div></div></div>"
      ],
      "text/plain": [
       "LogisticRegression(random_state=42)"
      ]
     },
     "execution_count": 8,
     "metadata": {},
     "output_type": "execute_result"
    }
   ],
   "source": [
    "lr_baseline = LogisticRegression(random_state=42)\n",
    "lr_baseline.fit(X_train_baseline, np.array(y_train_baseline).ravel())"
   ]
  },
  {
   "cell_type": "code",
   "execution_count": 9,
   "id": "e78c545e",
   "metadata": {},
   "outputs": [],
   "source": [
    "pred_vals_baseline = lr_baseline.predict(X_test_baseline)"
   ]
  },
  {
   "cell_type": "code",
   "execution_count": 10,
   "id": "8d29f3f9",
   "metadata": {},
   "outputs": [
    {
     "name": "stdout",
     "output_type": "stream",
     "text": [
      "Coeficiente da feature distance: -0.088\n",
      "Coeficiente da feature angle: 1.373\n"
     ]
    }
   ],
   "source": [
    "for i, col in enumerate(X_train_baseline.columns):\n",
    "    print(f\"Coeficiente da feature {col}: {lr_baseline.coef_[0][i]:.3f}\")"
   ]
  },
  {
   "cell_type": "code",
   "execution_count": 11,
   "id": "8b3badf6",
   "metadata": {},
   "outputs": [
    {
     "name": "stdout",
     "output_type": "stream",
     "text": [
      "Log loss do modelo: 0.28693\n",
      "AUC do modelo: 76.59%\n"
     ]
    }
   ],
   "source": [
    "pred_probs = lr_baseline.predict_proba(X_test_baseline)[:,1]\n",
    "print(f\"Log loss do modelo: {sk_metrics.log_loss(y_test_baseline, pred_probs):.5f}\")\n",
    "print(f\"AUC do modelo: {sk_metrics.roc_auc_score(y_test_baseline, pred_probs)*100:.2f}%\")"
   ]
  },
  {
   "cell_type": "code",
   "execution_count": 12,
   "id": "b4baa6a2",
   "metadata": {},
   "outputs": [
    {
     "name": "stdout",
     "output_type": "stream",
     "text": [
      "Log loss da média (0.1017, calculado anteriormente): 0.333\n"
     ]
    }
   ],
   "source": [
    "# A titulo de comparação, caso tenhamos usado apenas a média para fazer a predição, a log-loss seria:\n",
    "\n",
    "print(f\"Log loss da média (0.1017, calculado anteriormente): {sk_metrics.log_loss(y_test, [0.1017]*len(y_test_baseline)):.3f}\")"
   ]
  },
  {
   "attachments": {},
   "cell_type": "markdown",
   "id": "661ce1bf",
   "metadata": {},
   "source": [
    "Nosso baseline é melhor do que usar a média para prever, o que é bom. Vamos agora usar validação cruzada e todas as features"
   ]
  },
  {
   "attachments": {},
   "cell_type": "markdown",
   "id": "b27e6b98",
   "metadata": {},
   "source": [
    "### Regressão Logística - Testando todas as features + Scaling + CV"
   ]
  },
  {
   "cell_type": "code",
   "execution_count": 13,
   "id": "3e20e0c6",
   "metadata": {},
   "outputs": [],
   "source": [
    "# Separando o dataset de treino em treino e validação para cross-validation\n",
    "X_t, X_val, y_t, y_val = train_test_split(X_train, y_train, test_size=0.3, random_state=42)"
   ]
  },
  {
   "cell_type": "code",
   "execution_count": 15,
   "id": "376feaf0",
   "metadata": {},
   "outputs": [
    {
     "name": "stdout",
     "output_type": "stream",
     "text": [
      "Training log-loss:0.2751922742734204\n",
      "\n",
      "\n",
      "Validation log-loss: 0.2886638655357784\n",
      "\n",
      "\n",
      "Best parameters were:{'C': 1.0, 'solver': 'newton-cholesky'}\n"
     ]
    }
   ],
   "source": [
    "lr = LogisticRegression(max_iter = 1000, random_state=42)\n",
    "\n",
    "scaler = MinMaxScaler()\n",
    "\n",
    "X_t_scaled = scaler.fit_transform(X_t)\n",
    "X_val_scaled = scaler.fit_transform(X_val)\n",
    "\n",
    "param_grid = {\n",
    "                 'C': [0.3,0.5,0.8,1.0],\n",
    "                 'solver': ['newton-cholesky', 'lbfgs'],\n",
    "            }\n",
    "\n",
    "grid_rf = GridSearchCV(lr, param_grid, cv=5, n_jobs = -1, scoring = 'neg_log_loss')\n",
    "grid_rf.fit(X_t_scaled, np.array(y_t).ravel())\n",
    "\n",
    "print(f\"Training log-loss:{sk_metrics.log_loss(y_t, grid_rf.predict_proba(X_t_scaled))}\")\n",
    "\n",
    "print(\"\\n\")\n",
    "\n",
    "print(f\"Validation log-loss: {sk_metrics.log_loss(y_val, grid_rf.predict_proba(X_val_scaled))}\")\n",
    "\n",
    "print(\"\\n\")\n",
    "\n",
    "print(f\"Best parameters were:{grid_rf.best_params_}\")"
   ]
  },
  {
   "attachments": {},
   "cell_type": "markdown",
   "id": "3e6287a5",
   "metadata": {},
   "source": [
    "Não parece haver overfitting, dado que o resultado de treino e validação são similares. Vamos ver o desempenho no hold-out."
   ]
  },
  {
   "cell_type": "code",
   "execution_count": 16,
   "id": "0aa9c2ff",
   "metadata": {},
   "outputs": [
    {
     "data": {
      "text/html": [
       "<style>#sk-container-id-2 {color: black;background-color: white;}#sk-container-id-2 pre{padding: 0;}#sk-container-id-2 div.sk-toggleable {background-color: white;}#sk-container-id-2 label.sk-toggleable__label {cursor: pointer;display: block;width: 100%;margin-bottom: 0;padding: 0.3em;box-sizing: border-box;text-align: center;}#sk-container-id-2 label.sk-toggleable__label-arrow:before {content: \"▸\";float: left;margin-right: 0.25em;color: #696969;}#sk-container-id-2 label.sk-toggleable__label-arrow:hover:before {color: black;}#sk-container-id-2 div.sk-estimator:hover label.sk-toggleable__label-arrow:before {color: black;}#sk-container-id-2 div.sk-toggleable__content {max-height: 0;max-width: 0;overflow: hidden;text-align: left;background-color: #f0f8ff;}#sk-container-id-2 div.sk-toggleable__content pre {margin: 0.2em;color: black;border-radius: 0.25em;background-color: #f0f8ff;}#sk-container-id-2 input.sk-toggleable__control:checked~div.sk-toggleable__content {max-height: 200px;max-width: 100%;overflow: auto;}#sk-container-id-2 input.sk-toggleable__control:checked~label.sk-toggleable__label-arrow:before {content: \"▾\";}#sk-container-id-2 div.sk-estimator input.sk-toggleable__control:checked~label.sk-toggleable__label {background-color: #d4ebff;}#sk-container-id-2 div.sk-label input.sk-toggleable__control:checked~label.sk-toggleable__label {background-color: #d4ebff;}#sk-container-id-2 input.sk-hidden--visually {border: 0;clip: rect(1px 1px 1px 1px);clip: rect(1px, 1px, 1px, 1px);height: 1px;margin: -1px;overflow: hidden;padding: 0;position: absolute;width: 1px;}#sk-container-id-2 div.sk-estimator {font-family: monospace;background-color: #f0f8ff;border: 1px dotted black;border-radius: 0.25em;box-sizing: border-box;margin-bottom: 0.5em;}#sk-container-id-2 div.sk-estimator:hover {background-color: #d4ebff;}#sk-container-id-2 div.sk-parallel-item::after {content: \"\";width: 100%;border-bottom: 1px solid gray;flex-grow: 1;}#sk-container-id-2 div.sk-label:hover label.sk-toggleable__label {background-color: #d4ebff;}#sk-container-id-2 div.sk-serial::before {content: \"\";position: absolute;border-left: 1px solid gray;box-sizing: border-box;top: 0;bottom: 0;left: 50%;z-index: 0;}#sk-container-id-2 div.sk-serial {display: flex;flex-direction: column;align-items: center;background-color: white;padding-right: 0.2em;padding-left: 0.2em;position: relative;}#sk-container-id-2 div.sk-item {position: relative;z-index: 1;}#sk-container-id-2 div.sk-parallel {display: flex;align-items: stretch;justify-content: center;background-color: white;position: relative;}#sk-container-id-2 div.sk-item::before, #sk-container-id-2 div.sk-parallel-item::before {content: \"\";position: absolute;border-left: 1px solid gray;box-sizing: border-box;top: 0;bottom: 0;left: 50%;z-index: -1;}#sk-container-id-2 div.sk-parallel-item {display: flex;flex-direction: column;z-index: 1;position: relative;background-color: white;}#sk-container-id-2 div.sk-parallel-item:first-child::after {align-self: flex-end;width: 50%;}#sk-container-id-2 div.sk-parallel-item:last-child::after {align-self: flex-start;width: 50%;}#sk-container-id-2 div.sk-parallel-item:only-child::after {width: 0;}#sk-container-id-2 div.sk-dashed-wrapped {border: 1px dashed gray;margin: 0 0.4em 0.5em 0.4em;box-sizing: border-box;padding-bottom: 0.4em;background-color: white;}#sk-container-id-2 div.sk-label label {font-family: monospace;font-weight: bold;display: inline-block;line-height: 1.2em;}#sk-container-id-2 div.sk-label-container {text-align: center;}#sk-container-id-2 div.sk-container {/* jupyter's `normalize.less` sets `[hidden] { display: none; }` but bootstrap.min.css set `[hidden] { display: none !important; }` so we also need the `!important` here to be able to override the default hidden behavior on the sphinx rendered scikit-learn.org. See: https://github.com/scikit-learn/scikit-learn/issues/21755 */display: inline-block !important;position: relative;}#sk-container-id-2 div.sk-text-repr-fallback {display: none;}</style><div id=\"sk-container-id-2\" class=\"sk-top-container\"><div class=\"sk-text-repr-fallback\"><pre>LogisticRegression(max_iter=1000, random_state=42)</pre><b>In a Jupyter environment, please rerun this cell to show the HTML representation or trust the notebook. <br />On GitHub, the HTML representation is unable to render, please try loading this page with nbviewer.org.</b></div><div class=\"sk-container\" hidden><div class=\"sk-item\"><div class=\"sk-estimator sk-toggleable\"><input class=\"sk-toggleable__control sk-hidden--visually\" id=\"sk-estimator-id-2\" type=\"checkbox\" checked><label for=\"sk-estimator-id-2\" class=\"sk-toggleable__label sk-toggleable__label-arrow\">LogisticRegression</label><div class=\"sk-toggleable__content\"><pre>LogisticRegression(max_iter=1000, random_state=42)</pre></div></div></div></div></div>"
      ],
      "text/plain": [
       "LogisticRegression(max_iter=1000, random_state=42)"
      ]
     },
     "execution_count": 16,
     "metadata": {},
     "output_type": "execute_result"
    }
   ],
   "source": [
    "X_train_scaled = scaler.fit_transform(X_train)\n",
    "lr.fit(X_train_scaled, np.array(y_train).ravel())"
   ]
  },
  {
   "cell_type": "code",
   "execution_count": 17,
   "id": "4f55c9d3",
   "metadata": {},
   "outputs": [],
   "source": [
    "pred_vals_allfeatures = lr.predict(X_test)"
   ]
  },
  {
   "cell_type": "code",
   "execution_count": 18,
   "id": "40c9bc48",
   "metadata": {},
   "outputs": [
    {
     "name": "stdout",
     "output_type": "stream",
     "text": [
      "Log loss do modelo: 0.28120\n",
      "AUC do modelo: 77.93%\n"
     ]
    }
   ],
   "source": [
    "X_test_scaled = scaler.fit_transform(X_test)\n",
    "pred_probs = lr.predict_proba(X_test_scaled)[:,1]\n",
    "print(f\"Log loss do modelo: {sk_metrics.log_loss(y_test, pred_probs):.5f}\")\n",
    "print(f\"AUC do modelo: {sk_metrics.roc_auc_score(y_test, pred_probs)*100:.2f}%\")"
   ]
  },
  {
   "cell_type": "code",
   "execution_count": 19,
   "id": "31e7ad5f",
   "metadata": {},
   "outputs": [
    {
     "name": "stdout",
     "output_type": "stream",
     "text": [
      "Coeficiente da feature y: -0.221\n",
      "Coeficiente da feature c: -0.315\n",
      "Coeficiente da feature distance: -8.782\n",
      "Coeficiente da feature angle: 4.644\n",
      "Coeficiente da feature free_kick: 0.717\n",
      "Coeficiente da feature counter_attack: 0.641\n",
      "Coeficiente da feature rebound: 0.299\n",
      "Coeficiente da feature prev_cross: -0.378\n",
      "Coeficiente da feature prev_touch: 0.031\n",
      "Coeficiente da feature prev_pass: -0.024\n",
      "Coeficiente da feature prev_smart_pass: 0.403\n",
      "Coeficiente da feature prev_duel: -0.442\n"
     ]
    }
   ],
   "source": [
    "for i, col in enumerate(X_train.columns):\n",
    "    print(f\"Coeficiente da feature {col}: {lr.coef_[0][i]:.3f}\")"
   ]
  },
  {
   "attachments": {},
   "cell_type": "markdown",
   "id": "9aecd755",
   "metadata": {},
   "source": [
    "### Random Forest"
   ]
  },
  {
   "cell_type": "code",
   "execution_count": 57,
   "id": "47a0e71e",
   "metadata": {},
   "outputs": [
    {
     "name": "stdout",
     "output_type": "stream",
     "text": [
      "Training log-loss:0.2652748645488553\n",
      "\n",
      "\n",
      "Validation log-loss: 0.28779839439772237\n",
      "\n",
      "\n",
      "Best parameters were:{'max_depth': 7, 'min_samples_split': 8, 'n_estimators': 60}\n"
     ]
    }
   ],
   "source": [
    "rf = RandomForestClassifier(criterion=\"log_loss\")\n",
    "\n",
    "param_grid = {\n",
    "                 'n_estimators': [30,40,60],\n",
    "                 'max_depth': [4,5,6,7,8,9,10],\n",
    "                 'min_samples_split': [2,4,6,8]\n",
    "            }\n",
    "\n",
    "grid_rf = GridSearchCV(rf, param_grid, cv=5, n_jobs = -1, scoring = 'neg_log_loss')\n",
    "grid_rf.fit(X_t, np.array(y_t).ravel())\n",
    "\n",
    "print(f\"Training log-loss:{sk_metrics.log_loss(y_t, grid_rf.predict_proba(X_t))}\")\n",
    "\n",
    "print(\"\\n\")\n",
    "\n",
    "print(f\"Validation log-loss: {sk_metrics.log_loss(y_val, grid_rf.predict_proba(X_val))}\")\n",
    "\n",
    "print(\"\\n\")\n",
    "\n",
    "print(f\"Best parameters were:{grid_rf.best_params_}\")"
   ]
  },
  {
   "cell_type": "code",
   "execution_count": 58,
   "id": "7980b325",
   "metadata": {},
   "outputs": [
    {
     "data": {
      "text/html": [
       "<style>#sk-container-id-3 {color: black;background-color: white;}#sk-container-id-3 pre{padding: 0;}#sk-container-id-3 div.sk-toggleable {background-color: white;}#sk-container-id-3 label.sk-toggleable__label {cursor: pointer;display: block;width: 100%;margin-bottom: 0;padding: 0.3em;box-sizing: border-box;text-align: center;}#sk-container-id-3 label.sk-toggleable__label-arrow:before {content: \"▸\";float: left;margin-right: 0.25em;color: #696969;}#sk-container-id-3 label.sk-toggleable__label-arrow:hover:before {color: black;}#sk-container-id-3 div.sk-estimator:hover label.sk-toggleable__label-arrow:before {color: black;}#sk-container-id-3 div.sk-toggleable__content {max-height: 0;max-width: 0;overflow: hidden;text-align: left;background-color: #f0f8ff;}#sk-container-id-3 div.sk-toggleable__content pre {margin: 0.2em;color: black;border-radius: 0.25em;background-color: #f0f8ff;}#sk-container-id-3 input.sk-toggleable__control:checked~div.sk-toggleable__content {max-height: 200px;max-width: 100%;overflow: auto;}#sk-container-id-3 input.sk-toggleable__control:checked~label.sk-toggleable__label-arrow:before {content: \"▾\";}#sk-container-id-3 div.sk-estimator input.sk-toggleable__control:checked~label.sk-toggleable__label {background-color: #d4ebff;}#sk-container-id-3 div.sk-label input.sk-toggleable__control:checked~label.sk-toggleable__label {background-color: #d4ebff;}#sk-container-id-3 input.sk-hidden--visually {border: 0;clip: rect(1px 1px 1px 1px);clip: rect(1px, 1px, 1px, 1px);height: 1px;margin: -1px;overflow: hidden;padding: 0;position: absolute;width: 1px;}#sk-container-id-3 div.sk-estimator {font-family: monospace;background-color: #f0f8ff;border: 1px dotted black;border-radius: 0.25em;box-sizing: border-box;margin-bottom: 0.5em;}#sk-container-id-3 div.sk-estimator:hover {background-color: #d4ebff;}#sk-container-id-3 div.sk-parallel-item::after {content: \"\";width: 100%;border-bottom: 1px solid gray;flex-grow: 1;}#sk-container-id-3 div.sk-label:hover label.sk-toggleable__label {background-color: #d4ebff;}#sk-container-id-3 div.sk-serial::before {content: \"\";position: absolute;border-left: 1px solid gray;box-sizing: border-box;top: 0;bottom: 0;left: 50%;z-index: 0;}#sk-container-id-3 div.sk-serial {display: flex;flex-direction: column;align-items: center;background-color: white;padding-right: 0.2em;padding-left: 0.2em;position: relative;}#sk-container-id-3 div.sk-item {position: relative;z-index: 1;}#sk-container-id-3 div.sk-parallel {display: flex;align-items: stretch;justify-content: center;background-color: white;position: relative;}#sk-container-id-3 div.sk-item::before, #sk-container-id-3 div.sk-parallel-item::before {content: \"\";position: absolute;border-left: 1px solid gray;box-sizing: border-box;top: 0;bottom: 0;left: 50%;z-index: -1;}#sk-container-id-3 div.sk-parallel-item {display: flex;flex-direction: column;z-index: 1;position: relative;background-color: white;}#sk-container-id-3 div.sk-parallel-item:first-child::after {align-self: flex-end;width: 50%;}#sk-container-id-3 div.sk-parallel-item:last-child::after {align-self: flex-start;width: 50%;}#sk-container-id-3 div.sk-parallel-item:only-child::after {width: 0;}#sk-container-id-3 div.sk-dashed-wrapped {border: 1px dashed gray;margin: 0 0.4em 0.5em 0.4em;box-sizing: border-box;padding-bottom: 0.4em;background-color: white;}#sk-container-id-3 div.sk-label label {font-family: monospace;font-weight: bold;display: inline-block;line-height: 1.2em;}#sk-container-id-3 div.sk-label-container {text-align: center;}#sk-container-id-3 div.sk-container {/* jupyter's `normalize.less` sets `[hidden] { display: none; }` but bootstrap.min.css set `[hidden] { display: none !important; }` so we also need the `!important` here to be able to override the default hidden behavior on the sphinx rendered scikit-learn.org. See: https://github.com/scikit-learn/scikit-learn/issues/21755 */display: inline-block !important;position: relative;}#sk-container-id-3 div.sk-text-repr-fallback {display: none;}</style><div id=\"sk-container-id-3\" class=\"sk-top-container\"><div class=\"sk-text-repr-fallback\"><pre>RandomForestClassifier(criterion=&#x27;log_loss&#x27;, max_depth=7, min_samples_split=4,\n",
       "                       n_estimators=60)</pre><b>In a Jupyter environment, please rerun this cell to show the HTML representation or trust the notebook. <br />On GitHub, the HTML representation is unable to render, please try loading this page with nbviewer.org.</b></div><div class=\"sk-container\" hidden><div class=\"sk-item\"><div class=\"sk-estimator sk-toggleable\"><input class=\"sk-toggleable__control sk-hidden--visually\" id=\"sk-estimator-id-3\" type=\"checkbox\" checked><label for=\"sk-estimator-id-3\" class=\"sk-toggleable__label sk-toggleable__label-arrow\">RandomForestClassifier</label><div class=\"sk-toggleable__content\"><pre>RandomForestClassifier(criterion=&#x27;log_loss&#x27;, max_depth=7, min_samples_split=4,\n",
       "                       n_estimators=60)</pre></div></div></div></div></div>"
      ],
      "text/plain": [
       "RandomForestClassifier(criterion='log_loss', max_depth=7, min_samples_split=4,\n",
       "                       n_estimators=60)"
      ]
     },
     "execution_count": 58,
     "metadata": {},
     "output_type": "execute_result"
    }
   ],
   "source": [
    "rf = RandomForestClassifier(max_depth=7, min_samples_split=4, n_estimators=60, criterion=\"log_loss\")\n",
    "rf.fit(X_train, np.array(y_train).ravel())"
   ]
  },
  {
   "cell_type": "code",
   "execution_count": 59,
   "id": "60175e16",
   "metadata": {},
   "outputs": [
    {
     "name": "stdout",
     "output_type": "stream",
     "text": [
      "Log loss da Random Forest: 0.28084\n",
      "AUC da Random Forest: 78.21%\n"
     ]
    }
   ],
   "source": [
    "pred_probs_rf = rf.predict_proba(X_test)[:,1]\n",
    "print(f\"Log loss da Random Forest: {sk_metrics.log_loss(y_test, pred_probs_rf):.5f}\")\n",
    "print(f\"AUC da Random Forest: {sk_metrics.roc_auc_score(y_test, pred_probs_rf)*100:.2f}%\")"
   ]
  },
  {
   "cell_type": "code",
   "execution_count": 60,
   "id": "fc76f6f8",
   "metadata": {},
   "outputs": [
    {
     "name": "stdout",
     "output_type": "stream",
     "text": [
      "Tempo para computar as feature importances usando permutação: 1.886 segundos\n"
     ]
    }
   ],
   "source": [
    "start_time = time.time()\n",
    "result = permutation_importance(\n",
    "    rf, X_val, y_val, n_repeats=10, random_state=42, n_jobs=-1\n",
    ")\n",
    "elapsed_time = time.time() - start_time\n",
    "print(f\"Tempo para computar as feature importances usando permutação: {elapsed_time:.3f} segundos\")\n",
    "\n",
    "forest_importances = pd.Series(result.importances_mean, index=features)"
   ]
  },
  {
   "cell_type": "code",
   "execution_count": 61,
   "id": "4b642e11",
   "metadata": {},
   "outputs": [
    {
     "data": {
      "image/png": "[encoded data removed]",
      "text/plain": [
       "<Figure size 640x480 with 1 Axes>"
      ]
     },
     "metadata": {},
     "output_type": "display_data"
    }
   ],
   "source": [
    "start_time = time.time()\n",
    "importances = rf.feature_importances_\n",
    "std = np.std([tree.feature_importances_ for tree in rf.estimators_], axis=0)\n",
    "elapsed_time = time.time() - start_time\n",
    "\n",
    "fig, ax = plt.subplots()\n",
    "forest_importances.plot.bar(yerr=std, ax=ax)\n",
    "ax.set_title(\"Feature importances usando MDI\")\n",
    "ax.set_ylabel(\"Decréscimo médio na impureza\")\n",
    "fig.tight_layout()"
   ]
  },
  {
   "attachments": {},
   "cell_type": "markdown",
   "id": "77329573",
   "metadata": {},
   "source": [
    "### XGBoost Classifier"
   ]
  },
  {
   "cell_type": "code",
   "execution_count": 24,
   "id": "2ec6f4c1",
   "metadata": {},
   "outputs": [
    {
     "name": "stdout",
     "output_type": "stream",
     "text": [
      "Training log-loss:0.2689153770367763\n",
      "\n",
      "\n",
      "Validation log-loss: 0.2861990675224161\n",
      "\n",
      "\n",
      "Best parameters were:{'colsample_bytree': 1.0, 'learning_rate': 0.1, 'max_depth': 3, 'n_estimators': 100}\n"
     ]
    }
   ],
   "source": [
    "# Define the parameter grid for GridSearchCV\n",
    "param_grid = {\n",
    "    'n_estimators': [20,50,100, 200, 300],  \n",
    "    'learning_rate': [0.05, 0.1, 0.3],  \n",
    "    'max_depth': [3,6,9], \n",
    "    'colsample_bytree': [0.5, 1.0] \n",
    "}\n",
    "\n",
    "# Create the XGBoost classifier\n",
    "xgb_classifier = xgb.XGBClassifier()\n",
    "\n",
    "grid_xgb = GridSearchCV(xgb_classifier, param_grid, cv=5, n_jobs = -1, scoring = 'neg_log_loss')\n",
    "grid_xgb.fit(X_t, np.array(y_t).ravel())\n",
    "\n",
    "print(f\"Training log-loss:{sk_metrics.log_loss(y_t, grid_xgb.predict_proba(X_t))}\")\n",
    "\n",
    "print(\"\\n\")\n",
    "\n",
    "print(f\"Validation log-loss: {sk_metrics.log_loss(y_val, grid_xgb.predict_proba(X_val))}\")\n",
    "\n",
    "print(\"\\n\")\n",
    "\n",
    "print(f\"Best parameters were:{grid_xgb.best_params_}\")\n"
   ]
  },
  {
   "attachments": {},
   "cell_type": "markdown",
   "id": "eb48e408",
   "metadata": {},
   "source": [
    "### Light GBM"
   ]
  },
  {
   "cell_type": "code",
   "execution_count": 23,
   "id": "ee2fe800",
   "metadata": {},
   "outputs": [
    {
     "name": "stdout",
     "output_type": "stream",
     "text": [
      "Training log-loss:0.27084880392850735\n",
      "\n",
      "\n",
      "Validation log-loss: 0.2860316227405863\n",
      "\n",
      "\n",
      "Best parameters were:{'learning_rate': 0.1, 'max_depth': 3, 'n_estimators': 50, 'num_leaves': 14}\n"
     ]
    }
   ],
   "source": [
    "# Define the parameter grid for GridSearchCV\n",
    "param_grid = {\n",
    "    'learning_rate': [0.01, 0.1, 0.2],\n",
    "    'max_depth': [3, 5, 7],\n",
    "    'num_leaves': [14 ,31, 63, 127],\n",
    "    'n_estimators': [20,50,100, 200, 300]\n",
    "}\n",
    "\n",
    "# Create the XGBoost classifier\n",
    "lgb_classifier = lgb.LGBMClassifier()\n",
    "\n",
    "grid_lgb = GridSearchCV(lgb_classifier, param_grid, cv=5, n_jobs = -1, scoring = 'neg_log_loss')\n",
    "grid_lgb.fit(X_t, np.array(y_t).ravel())\n",
    "\n",
    "print(f\"Training log-loss:{sk_metrics.log_loss(y_t, grid_lgb.predict_proba(X_t))}\")\n",
    "\n",
    "print(\"\\n\")\n",
    "\n",
    "print(f\"Validation log-loss: {sk_metrics.log_loss(y_val, grid_lgb.predict_proba(X_val))}\")\n",
    "\n",
    "print(\"\\n\")\n",
    "\n",
    "print(f\"Best parameters were:{grid_lgb.best_params_}\")\n"
   ]
  },
  {
   "attachments": {},
   "cell_type": "markdown",
   "id": "71d16ca9",
   "metadata": {},
   "source": [
    "### LSTM"
   ]
  },
  {
   "cell_type": "code",
   "execution_count": 30,
   "id": "9945e575",
   "metadata": {},
   "outputs": [
    {
     "name": "stdout",
     "output_type": "stream",
     "text": [
      "Epoch 1/10\n",
      "743/743 [==============================] - 7s 4ms/step - loss: 0.3356 - binary_crossentropy: 0.3356 - val_loss: 0.2986 - val_binary_crossentropy: 0.2986\n",
      "Epoch 2/10\n",
      "743/743 [==============================] - 2s 3ms/step - loss: 0.2868 - binary_crossentropy: 0.2868 - val_loss: 0.3014 - val_binary_crossentropy: 0.3014\n",
      "Epoch 3/10\n",
      "743/743 [==============================] - 2s 3ms/step - loss: 0.2853 - binary_crossentropy: 0.2853 - val_loss: 0.2972 - val_binary_crossentropy: 0.2972\n",
      "Epoch 4/10\n",
      "743/743 [==============================] - 2s 3ms/step - loss: 0.2847 - binary_crossentropy: 0.2847 - val_loss: 0.2963 - val_binary_crossentropy: 0.2963\n",
      "Epoch 5/10\n",
      "743/743 [==============================] - 3s 4ms/step - loss: 0.2837 - binary_crossentropy: 0.2837 - val_loss: 0.2986 - val_binary_crossentropy: 0.2986\n",
      "Epoch 6/10\n",
      "743/743 [==============================] - 3s 4ms/step - loss: 0.2839 - binary_crossentropy: 0.2839 - val_loss: 0.2952 - val_binary_crossentropy: 0.2952\n",
      "Epoch 7/10\n",
      "743/743 [==============================] - 3s 4ms/step - loss: 0.2835 - binary_crossentropy: 0.2835 - val_loss: 0.3078 - val_binary_crossentropy: 0.3078\n",
      "Epoch 8/10\n",
      "743/743 [==============================] - 3s 3ms/step - loss: 0.2830 - binary_crossentropy: 0.2830 - val_loss: 0.2952 - val_binary_crossentropy: 0.2952\n",
      "Epoch 9/10\n",
      "743/743 [==============================] - 2s 3ms/step - loss: 0.2830 - binary_crossentropy: 0.2830 - val_loss: 0.2940 - val_binary_crossentropy: 0.2940\n",
      "Epoch 10/10\n",
      "743/743 [==============================] - 2s 3ms/step - loss: 0.2827 - binary_crossentropy: 0.2827 - val_loss: 0.2940 - val_binary_crossentropy: 0.2940\n",
      "354/354 [==============================] - 0s 937us/step - loss: 0.2887 - binary_crossentropy: 0.2887\n",
      "Log loss of the test dataset is: 0.2886558473110199\n"
     ]
    }
   ],
   "source": [
    "# Reshape and adjust data type\n",
    "X_t_lstm = X_t.values.reshape(X_t.shape[0], X_t.shape[1], 1).astype('float32')\n",
    "X_val_lstm = X_val.values.reshape(X_val.shape[0], X_val.shape[1], 1).astype('float32')\n",
    "X_test_lstm = X_test.values.reshape(X_test.shape[0], X_test.shape[1], 1).astype('float32')\n",
    "\n",
    "\n",
    "# Define the LSTM model\n",
    "model = Sequential()\n",
    "model.add(LSTM(units=4))  # Specify the number of LSTM units/neurons\n",
    "# Add any additional LSTM layers, if needed\n",
    "model.add(Dense(units=1))  # Specify the number of units in the dense layer\n",
    "# Add any additional dense layers, if needed\n",
    "model.add(Dense(units=1, activation='sigmoid'))  # Output layer\n",
    "\n",
    "# Compile the model\n",
    "model.compile(loss='binary_crossentropy', optimizer='adam', metrics=['binary_crossentropy'])\n",
    "\n",
    "# Train the model\n",
    "model.fit(X_t_lstm, y_t, epochs=10, batch_size=32, validation_data=(X_val_lstm, y_val))\n",
    "\n",
    "# Evaluate the model on test data\n",
    "loss, log_loss_test = model.evaluate(X_test_lstm, y_test)\n",
    "\n",
    "print(f\"Log loss of the test dataset is: {log_loss_test}\")\n"
   ]
  },
  {
   "cell_type": "code",
   "execution_count": 31,
   "id": "dc0c079b",
   "metadata": {},
   "outputs": [
    {
     "name": "stdout",
     "output_type": "stream",
     "text": [
      "Epoch 1/10\n",
      "743/743 [==============================] - 5s 4ms/step - loss: 0.3270 - binary_crossentropy: 0.3270 - val_loss: 0.2955 - val_binary_crossentropy: 0.2955\n",
      "Epoch 2/10\n",
      "743/743 [==============================] - 2s 3ms/step - loss: 0.2841 - binary_crossentropy: 0.2841 - val_loss: 0.2992 - val_binary_crossentropy: 0.2992\n",
      "Epoch 3/10\n",
      "743/743 [==============================] - 2s 3ms/step - loss: 0.2837 - binary_crossentropy: 0.2837 - val_loss: 0.2956 - val_binary_crossentropy: 0.2956\n",
      "Epoch 4/10\n",
      "743/743 [==============================] - 3s 3ms/step - loss: 0.2827 - binary_crossentropy: 0.2827 - val_loss: 0.2925 - val_binary_crossentropy: 0.2925\n",
      "Epoch 5/10\n",
      "743/743 [==============================] - 2s 3ms/step - loss: 0.2819 - binary_crossentropy: 0.2819 - val_loss: 0.2920 - val_binary_crossentropy: 0.2920\n",
      "Epoch 6/10\n",
      "743/743 [==============================] - 2s 3ms/step - loss: 0.2808 - binary_crossentropy: 0.2808 - val_loss: 0.2913 - val_binary_crossentropy: 0.2913\n",
      "Epoch 7/10\n",
      "743/743 [==============================] - 2s 3ms/step - loss: 0.2806 - binary_crossentropy: 0.2806 - val_loss: 0.2914 - val_binary_crossentropy: 0.2914\n",
      "Epoch 8/10\n",
      "743/743 [==============================] - 2s 3ms/step - loss: 0.2802 - binary_crossentropy: 0.2802 - val_loss: 0.2902 - val_binary_crossentropy: 0.2902\n",
      "Epoch 9/10\n",
      "743/743 [==============================] - 3s 3ms/step - loss: 0.2794 - binary_crossentropy: 0.2794 - val_loss: 0.2919 - val_binary_crossentropy: 0.2919\n",
      "Epoch 10/10\n",
      "743/743 [==============================] - 2s 3ms/step - loss: 0.2796 - binary_crossentropy: 0.2796 - val_loss: 0.2914 - val_binary_crossentropy: 0.2914\n",
      "354/354 [==============================] - 0s 1ms/step - loss: 0.2854 - binary_crossentropy: 0.2854\n",
      "Log loss of the test dataset is: 0.28539034724235535\n"
     ]
    }
   ],
   "source": [
    "# Reshape and adjust data type\n",
    "X_t_lstm = X_t.values.reshape(X_t.shape[0], X_t.shape[1], 1).astype('float32')\n",
    "X_val_lstm = X_val.values.reshape(X_val.shape[0], X_val.shape[1], 1).astype('float32')\n",
    "X_test_lstm = X_test.values.reshape(X_test.shape[0], X_test.shape[1], 1).astype('float32')\n",
    "\n",
    "\n",
    "# Define the LSTM model\n",
    "model = Sequential()\n",
    "model.add(LSTM(units=8))  # Specify the number of LSTM units/neurons\n",
    "# Add any additional LSTM layers, if needed\n",
    "model.add(Dense(units=2))  # Specify the number of units in the dense layer\n",
    "# Add any additional dense layers, if needed\n",
    "model.add(Dense(units=1, activation='sigmoid'))  # Output layer\n",
    "\n",
    "# Compile the model\n",
    "model.compile(loss='binary_crossentropy', optimizer='adam', metrics=['binary_crossentropy'])\n",
    "\n",
    "# Train the model\n",
    "model.fit(X_t_lstm, y_t, epochs=10, batch_size=32, validation_data=(X_val_lstm, y_val))\n",
    "\n",
    "# Evaluate the model on test data\n",
    "loss, log_loss_test = model.evaluate(X_test_lstm, y_test)\n",
    "\n",
    "print(f\"Log loss of the test dataset is: {log_loss_test}\")\n"
   ]
  },
  {
   "cell_type": "code",
   "execution_count": 35,
   "id": "9be1887a",
   "metadata": {},
   "outputs": [
    {
     "name": "stdout",
     "output_type": "stream",
     "text": [
      "Epoch 1/10\n",
      "743/743 [==============================] - 5s 5ms/step - loss: 0.3158 - binary_crossentropy: 0.3158 - val_loss: 0.2950 - val_binary_crossentropy: 0.2950\n",
      "Epoch 2/10\n",
      "743/743 [==============================] - 3s 3ms/step - loss: 0.2871 - binary_crossentropy: 0.2871 - val_loss: 0.2955 - val_binary_crossentropy: 0.2955\n",
      "Epoch 3/10\n",
      "743/743 [==============================] - 3s 3ms/step - loss: 0.2866 - binary_crossentropy: 0.2866 - val_loss: 0.2975 - val_binary_crossentropy: 0.2975\n",
      "Epoch 4/10\n",
      "743/743 [==============================] - 3s 4ms/step - loss: 0.2853 - binary_crossentropy: 0.2853 - val_loss: 0.2983 - val_binary_crossentropy: 0.2983\n",
      "Epoch 5/10\n",
      "743/743 [==============================] - 3s 4ms/step - loss: 0.2847 - binary_crossentropy: 0.2847 - val_loss: 0.2945 - val_binary_crossentropy: 0.2945\n",
      "Epoch 6/10\n",
      "743/743 [==============================] - 3s 3ms/step - loss: 0.2846 - binary_crossentropy: 0.2846 - val_loss: 0.2923 - val_binary_crossentropy: 0.2923\n",
      "Epoch 7/10\n",
      "743/743 [==============================] - 3s 4ms/step - loss: 0.2841 - binary_crossentropy: 0.2841 - val_loss: 0.2947 - val_binary_crossentropy: 0.2947\n",
      "Epoch 8/10\n",
      "743/743 [==============================] - 3s 3ms/step - loss: 0.2835 - binary_crossentropy: 0.2835 - val_loss: 0.2914 - val_binary_crossentropy: 0.2914\n",
      "Epoch 9/10\n",
      "743/743 [==============================] - 3s 4ms/step - loss: 0.2826 - binary_crossentropy: 0.2826 - val_loss: 0.2925 - val_binary_crossentropy: 0.2925\n",
      "Epoch 10/10\n",
      "743/743 [==============================] - 3s 3ms/step - loss: 0.2817 - binary_crossentropy: 0.2817 - val_loss: 0.2938 - val_binary_crossentropy: 0.2938\n",
      "354/354 [==============================] - 0s 980us/step - loss: 0.2872 - binary_crossentropy: 0.2872\n",
      "Log loss of the test dataset is: 0.2871516942977905\n"
     ]
    }
   ],
   "source": [
    "# Reshape and adjust data type\n",
    "X_t_lstm = X_t.values.reshape(X_t.shape[0], X_t.shape[1], 1).astype('float32')\n",
    "X_val_lstm = X_val.values.reshape(X_val.shape[0], X_val.shape[1], 1).astype('float32')\n",
    "X_test_lstm = X_test.values.reshape(X_test.shape[0], X_test.shape[1], 1).astype('float32')\n",
    "\n",
    "\n",
    "# Define the LSTM model\n",
    "model = Sequential()\n",
    "model.add(LSTM(units=12))  # Specify the number of LSTM units/neurons\n",
    "# Add any additional LSTM layers, if needed\n",
    "model.add(Dropout(0.2))\n",
    "model.add(Dense(units=4))  # Specify the number of units in the dense layer\n",
    "# Add any additional dense layers, if needed\n",
    "model.add(Dense(units=1, activation='sigmoid'))  # Output layer\n",
    "\n",
    "# Compile the model\n",
    "model.compile(loss='binary_crossentropy', optimizer='adam', metrics=['binary_crossentropy'])\n",
    "\n",
    "# Train the model\n",
    "model.fit(X_t_lstm, y_t, epochs=10, batch_size=32, validation_data=(X_val_lstm, y_val))\n",
    "\n",
    "# Evaluate the model on test data\n",
    "loss, log_loss_test = model.evaluate(X_test_lstm, y_test)\n",
    "\n",
    "print(f\"Log loss of the test dataset is: {log_loss_test}\")\n"
   ]
  },
  {
   "cell_type": "code",
   "execution_count": null,
   "id": "327903c7",
   "metadata": {},
   "outputs": [],
   "source": []
  }
 ],
 "metadata": {
  "hide_input": false,
  "kernelspec": {
   "display_name": "Python 3 (ipykernel)",
   "language": "python",
   "name": "python3"
  },
  "language_info": {
   "codemirror_mode": {
    "name": "ipython",
    "version": 3
   },
   "file_extension": ".py",
   "mimetype": "text/x-python",
   "name": "python",
   "nbconvert_exporter": "python",
   "pygments_lexer": "ipython3",
   "version": "3.9.13"
  },
  "varInspector": {
   "cols": {
    "lenName": 16,
    "lenType": 16,
    "lenVar": 40
   },
   "kernels_config": {
    "python": {
     "delete_cmd_postfix": "",
     "delete_cmd_prefix": "del ",
     "library": "var_list.py",
     "varRefreshCmd": "print(var_dic_list())"
    },
    "r": {
     "delete_cmd_postfix": ") ",
     "delete_cmd_prefix": "rm(",
     "library": "var_list.r",
     "varRefreshCmd": "cat(var_dic_list()) "
    }
   },
   "types_to_exclude": [
    "module",
    "function",
    "builtin_function_or_method",
    "instance",
    "_Feature"
   ],
   "window_display": false
  }
 },
 "nbformat": 4,
 "nbformat_minor": 5
}
