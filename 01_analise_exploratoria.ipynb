{
 "cells": [
  {
   "attachments": {},
   "cell_type": "markdown",
   "id": "9a9123e2",
   "metadata": {},
   "source": [
    "Neste notebook faremos uma análise exploratória dos dados pré-processados da Wyscout, com foco em preparar os dados para a modelagem no notebook seguinte"
   ]
  },
  {
   "cell_type": "code",
   "execution_count": 26,
   "id": "c506243d",
   "metadata": {
    "ExecuteTime": {
     "end_time": "2023-04-27T11:41:17.427089Z",
     "start_time": "2023-04-27T11:41:15.826728Z"
    }
   },
   "outputs": [],
   "source": [
    "import pandas as pd\n",
    "from ydata_profiling import ProfileReport\n",
    "import matplotlib.pyplot as plt\n",
    "import seaborn as sns\n",
    "import numpy as np\n",
    "from mplsoccer import VerticalPitch\n",
    "\n",
    "pd.set_option('display.max_columns', None)\n",
    "pd.set_option('display.max_rows', None)\n",
    "\n",
    "#other\n",
    "import aux_functions_plot as p"
   ]
  },
  {
   "attachments": {},
   "cell_type": "markdown",
   "id": "c9e666f9",
   "metadata": {},
   "source": [
    "## Leitura e análise exploratória inicial dos dados\n"
   ]
  },
  {
   "cell_type": "code",
   "execution_count": 28,
   "id": "a6e051f4",
   "metadata": {},
   "outputs": [],
   "source": [
    "shots = pd.read_parquet('./data/shots_dataframe.parquet')"
   ]
  },
  {
   "cell_type": "code",
   "execution_count": 29,
   "id": "a818cf41",
   "metadata": {},
   "outputs": [],
   "source": [
    "goals = shots[shots[\"goal\"] == 1]"
   ]
  },
  {
   "cell_type": "code",
   "execution_count": 4,
   "id": "5a5c9aa0",
   "metadata": {},
   "outputs": [
    {
     "data": {
      "text/html": [
       "<div>\n",
       "<style scoped>\n",
       "    .dataframe tbody tr th:only-of-type {\n",
       "        vertical-align: middle;\n",
       "    }\n",
       "\n",
       "    .dataframe tbody tr th {\n",
       "        vertical-align: top;\n",
       "    }\n",
       "\n",
       "    .dataframe thead th {\n",
       "        text-align: right;\n",
       "    }\n",
       "</style>\n",
       "<table border=\"1\" class=\"dataframe\">\n",
       "  <thead>\n",
       "    <tr style=\"text-align: right;\">\n",
       "      <th></th>\n",
       "      <th>eventId</th>\n",
       "      <th>subEventName</th>\n",
       "      <th>tags</th>\n",
       "      <th>playerId</th>\n",
       "      <th>positions</th>\n",
       "      <th>matchId</th>\n",
       "      <th>eventName</th>\n",
       "      <th>teamId</th>\n",
       "      <th>matchPeriod</th>\n",
       "      <th>eventSec</th>\n",
       "      <th>subEventId</th>\n",
       "      <th>id</th>\n",
       "      <th>wyId</th>\n",
       "      <th>foot</th>\n",
       "      <th>firstName</th>\n",
       "      <th>lastName</th>\n",
       "      <th>previous_event</th>\n",
       "      <th>x</th>\n",
       "      <th>y</th>\n",
       "      <th>c</th>\n",
       "      <th>distance</th>\n",
       "      <th>angle</th>\n",
       "      <th>goal</th>\n",
       "      <th>free_kick</th>\n",
       "      <th>counter_attack</th>\n",
       "      <th>rebound</th>\n",
       "      <th>prev_cross</th>\n",
       "      <th>prev_touch</th>\n",
       "      <th>prev_pass</th>\n",
       "      <th>prev_smart_pass</th>\n",
       "      <th>prev_duel</th>\n",
       "    </tr>\n",
       "  </thead>\n",
       "  <tbody>\n",
       "    <tr>\n",
       "      <th>653947</th>\n",
       "      <td>10</td>\n",
       "      <td>Shot</td>\n",
       "      <td>[{'id': 402}, {'id': 1401}, {'id': 1203}, {'id...</td>\n",
       "      <td>25437</td>\n",
       "      <td>[{'x': 91, 'y': 29}, {'x': 0, 'y': 0}]</td>\n",
       "      <td>1694390</td>\n",
       "      <td>Shot</td>\n",
       "      <td>4418</td>\n",
       "      <td>1H</td>\n",
       "      <td>31.226217</td>\n",
       "      <td>100</td>\n",
       "      <td>88178649</td>\n",
       "      <td>25437</td>\n",
       "      <td>left</td>\n",
       "      <td>Blaise</td>\n",
       "      <td>Matuidi</td>\n",
       "      <td>Head pass</td>\n",
       "      <td>9.45</td>\n",
       "      <td>19.72</td>\n",
       "      <td>14.28</td>\n",
       "      <td>17.123694</td>\n",
       "      <td>0.242346</td>\n",
       "      <td>0</td>\n",
       "      <td>0</td>\n",
       "      <td>0</td>\n",
       "      <td>0</td>\n",
       "      <td>0</td>\n",
       "      <td>0</td>\n",
       "      <td>1</td>\n",
       "      <td>0</td>\n",
       "      <td>0</td>\n",
       "    </tr>\n",
       "    <tr>\n",
       "      <th>663862</th>\n",
       "      <td>10</td>\n",
       "      <td>Shot</td>\n",
       "      <td>[{'id': 402}, {'id': 201}, {'id': 1216}, {'id'...</td>\n",
       "      <td>83824</td>\n",
       "      <td>[{'x': 71, 'y': 29}, {'x': 100, 'y': 100}]</td>\n",
       "      <td>1694390</td>\n",
       "      <td>Shot</td>\n",
       "      <td>11944</td>\n",
       "      <td>1H</td>\n",
       "      <td>143.119551</td>\n",
       "      <td>100</td>\n",
       "      <td>88178722</td>\n",
       "      <td>83824</td>\n",
       "      <td>right</td>\n",
       "      <td>Mihai Doru</td>\n",
       "      <td>Pintilii</td>\n",
       "      <td>Simple pass</td>\n",
       "      <td>30.45</td>\n",
       "      <td>19.72</td>\n",
       "      <td>14.28</td>\n",
       "      <td>33.632141</td>\n",
       "      <td>0.196835</td>\n",
       "      <td>0</td>\n",
       "      <td>0</td>\n",
       "      <td>0</td>\n",
       "      <td>0</td>\n",
       "      <td>0</td>\n",
       "      <td>0</td>\n",
       "      <td>1</td>\n",
       "      <td>0</td>\n",
       "      <td>0</td>\n",
       "    </tr>\n",
       "    <tr>\n",
       "      <th>666892</th>\n",
       "      <td>10</td>\n",
       "      <td>Shot</td>\n",
       "      <td>[{'id': 402}, {'id': 201}, {'id': 1201}, {'id'...</td>\n",
       "      <td>33235</td>\n",
       "      <td>[{'x': 96, 'y': 57}, {'x': 100, 'y': 100}]</td>\n",
       "      <td>1694390</td>\n",
       "      <td>Shot</td>\n",
       "      <td>11944</td>\n",
       "      <td>1H</td>\n",
       "      <td>219.576026</td>\n",
       "      <td>100</td>\n",
       "      <td>88178751</td>\n",
       "      <td>33235</td>\n",
       "      <td>right</td>\n",
       "      <td>Bogdan Sorin</td>\n",
       "      <td>Stancu</td>\n",
       "      <td>Air duel</td>\n",
       "      <td>4.20</td>\n",
       "      <td>38.76</td>\n",
       "      <td>4.76</td>\n",
       "      <td>6.348039</td>\n",
       "      <td>0.851948</td>\n",
       "      <td>0</td>\n",
       "      <td>0</td>\n",
       "      <td>0</td>\n",
       "      <td>0</td>\n",
       "      <td>0</td>\n",
       "      <td>0</td>\n",
       "      <td>0</td>\n",
       "      <td>0</td>\n",
       "      <td>1</td>\n",
       "    </tr>\n",
       "    <tr>\n",
       "      <th>659593</th>\n",
       "      <td>10</td>\n",
       "      <td>Shot</td>\n",
       "      <td>[{'id': 403}, {'id': 201}, {'id': 1215}, {'id'...</td>\n",
       "      <td>6165</td>\n",
       "      <td>[{'x': 96, 'y': 61}, {'x': 100, 'y': 100}]</td>\n",
       "      <td>1694390</td>\n",
       "      <td>Shot</td>\n",
       "      <td>11944</td>\n",
       "      <td>1H</td>\n",
       "      <td>247.532561</td>\n",
       "      <td>100</td>\n",
       "      <td>88373458</td>\n",
       "      <td>6165</td>\n",
       "      <td>right</td>\n",
       "      <td>Florin</td>\n",
       "      <td>Andone</td>\n",
       "      <td>Air duel</td>\n",
       "      <td>4.20</td>\n",
       "      <td>41.48</td>\n",
       "      <td>7.48</td>\n",
       "      <td>8.578485</td>\n",
       "      <td>0.472204</td>\n",
       "      <td>0</td>\n",
       "      <td>0</td>\n",
       "      <td>0</td>\n",
       "      <td>0</td>\n",
       "      <td>0</td>\n",
       "      <td>0</td>\n",
       "      <td>0</td>\n",
       "      <td>0</td>\n",
       "      <td>1</td>\n",
       "    </tr>\n",
       "    <tr>\n",
       "      <th>651342</th>\n",
       "      <td>10</td>\n",
       "      <td>Shot</td>\n",
       "      <td>[{'id': 401}, {'id': 2101}, {'id': 1802}]</td>\n",
       "      <td>3682</td>\n",
       "      <td>[{'x': 75, 'y': 33}, {'x': 0, 'y': 0}]</td>\n",
       "      <td>1694390</td>\n",
       "      <td>Shot</td>\n",
       "      <td>4418</td>\n",
       "      <td>1H</td>\n",
       "      <td>557.319065</td>\n",
       "      <td>100</td>\n",
       "      <td>88178811</td>\n",
       "      <td>3682</td>\n",
       "      <td>left</td>\n",
       "      <td>Antoine</td>\n",
       "      <td>Griezmann</td>\n",
       "      <td>Simple pass</td>\n",
       "      <td>26.25</td>\n",
       "      <td>22.44</td>\n",
       "      <td>11.56</td>\n",
       "      <td>28.682679</td>\n",
       "      <td>0.233111</td>\n",
       "      <td>0</td>\n",
       "      <td>0</td>\n",
       "      <td>0</td>\n",
       "      <td>0</td>\n",
       "      <td>0</td>\n",
       "      <td>0</td>\n",
       "      <td>1</td>\n",
       "      <td>0</td>\n",
       "      <td>0</td>\n",
       "    </tr>\n",
       "  </tbody>\n",
       "</table>\n",
       "</div>"
      ],
      "text/plain": [
       "        eventId subEventName  \\\n",
       "653947       10         Shot   \n",
       "663862       10         Shot   \n",
       "666892       10         Shot   \n",
       "659593       10         Shot   \n",
       "651342       10         Shot   \n",
       "\n",
       "                                                     tags  playerId  \\\n",
       "653947  [{'id': 402}, {'id': 1401}, {'id': 1203}, {'id...     25437   \n",
       "663862  [{'id': 402}, {'id': 201}, {'id': 1216}, {'id'...     83824   \n",
       "666892  [{'id': 402}, {'id': 201}, {'id': 1201}, {'id'...     33235   \n",
       "659593  [{'id': 403}, {'id': 201}, {'id': 1215}, {'id'...      6165   \n",
       "651342          [{'id': 401}, {'id': 2101}, {'id': 1802}]      3682   \n",
       "\n",
       "                                         positions  matchId eventName  teamId  \\\n",
       "653947      [{'x': 91, 'y': 29}, {'x': 0, 'y': 0}]  1694390      Shot    4418   \n",
       "663862  [{'x': 71, 'y': 29}, {'x': 100, 'y': 100}]  1694390      Shot   11944   \n",
       "666892  [{'x': 96, 'y': 57}, {'x': 100, 'y': 100}]  1694390      Shot   11944   \n",
       "659593  [{'x': 96, 'y': 61}, {'x': 100, 'y': 100}]  1694390      Shot   11944   \n",
       "651342      [{'x': 75, 'y': 33}, {'x': 0, 'y': 0}]  1694390      Shot    4418   \n",
       "\n",
       "       matchPeriod    eventSec  subEventId        id   wyId   foot  \\\n",
       "653947          1H   31.226217         100  88178649  25437   left   \n",
       "663862          1H  143.119551         100  88178722  83824  right   \n",
       "666892          1H  219.576026         100  88178751  33235  right   \n",
       "659593          1H  247.532561         100  88373458   6165  right   \n",
       "651342          1H  557.319065         100  88178811   3682   left   \n",
       "\n",
       "           firstName   lastName previous_event      x      y      c  \\\n",
       "653947        Blaise    Matuidi      Head pass   9.45  19.72  14.28   \n",
       "663862    Mihai Doru   Pintilii    Simple pass  30.45  19.72  14.28   \n",
       "666892  Bogdan Sorin     Stancu       Air duel   4.20  38.76   4.76   \n",
       "659593        Florin     Andone       Air duel   4.20  41.48   7.48   \n",
       "651342       Antoine  Griezmann    Simple pass  26.25  22.44  11.56   \n",
       "\n",
       "         distance     angle  goal  free_kick  counter_attack  rebound  \\\n",
       "653947  17.123694  0.242346     0          0               0        0   \n",
       "663862  33.632141  0.196835     0          0               0        0   \n",
       "666892   6.348039  0.851948     0          0               0        0   \n",
       "659593   8.578485  0.472204     0          0               0        0   \n",
       "651342  28.682679  0.233111     0          0               0        0   \n",
       "\n",
       "        prev_cross  prev_touch  prev_pass  prev_smart_pass  prev_duel  \n",
       "653947           0           0          1                0          0  \n",
       "663862           0           0          1                0          0  \n",
       "666892           0           0          0                0          1  \n",
       "659593           0           0          0                0          1  \n",
       "651342           0           0          1                0          0  "
      ]
     },
     "execution_count": 4,
     "metadata": {},
     "output_type": "execute_result"
    }
   ],
   "source": [
    "shots.head()"
   ]
  },
  {
   "cell_type": "code",
   "execution_count": 5,
   "id": "72d4f5a7",
   "metadata": {},
   "outputs": [
    {
     "name": "stdout",
     "output_type": "stream",
     "text": [
      "<class 'pandas.core.frame.DataFrame'>\n",
      "Int64Index: 45284 entries, 653947 to 2781052\n",
      "Data columns (total 31 columns):\n",
      " #   Column           Non-Null Count  Dtype  \n",
      "---  ------           --------------  -----  \n",
      " 0   eventId          45284 non-null  int64  \n",
      " 1   subEventName     45284 non-null  object \n",
      " 2   tags             45284 non-null  object \n",
      " 3   playerId         45284 non-null  int64  \n",
      " 4   positions        45284 non-null  object \n",
      " 5   matchId          45284 non-null  int64  \n",
      " 6   eventName        45284 non-null  object \n",
      " 7   teamId           45284 non-null  int64  \n",
      " 8   matchPeriod      45284 non-null  object \n",
      " 9   eventSec         45284 non-null  float64\n",
      " 10  subEventId       45284 non-null  int64  \n",
      " 11  id               45284 non-null  int64  \n",
      " 12  wyId             45284 non-null  int64  \n",
      " 13  foot             45284 non-null  object \n",
      " 14  firstName        45284 non-null  object \n",
      " 15  lastName         45284 non-null  object \n",
      " 16  previous_event   45284 non-null  object \n",
      " 17  x                45284 non-null  float64\n",
      " 18  y                45284 non-null  float64\n",
      " 19  c                45284 non-null  float64\n",
      " 20  distance         45284 non-null  float64\n",
      " 21  angle            45284 non-null  float64\n",
      " 22  goal             45284 non-null  int64  \n",
      " 23  free_kick        45284 non-null  int64  \n",
      " 24  counter_attack   45284 non-null  int64  \n",
      " 25  rebound          45284 non-null  int64  \n",
      " 26  prev_cross       45284 non-null  int64  \n",
      " 27  prev_touch       45284 non-null  int64  \n",
      " 28  prev_pass        45284 non-null  int64  \n",
      " 29  prev_smart_pass  45284 non-null  int64  \n",
      " 30  prev_duel        45284 non-null  int64  \n",
      "dtypes: float64(6), int64(16), object(9)\n",
      "memory usage: 11.1+ MB\n"
     ]
    }
   ],
   "source": [
    "shots.info()"
   ]
  },
  {
   "cell_type": "code",
   "execution_count": 6,
   "id": "d373b3ab",
   "metadata": {},
   "outputs": [
    {
     "data": {
      "text/plain": [
       "eventId            0.0\n",
       "subEventName       0.0\n",
       "tags               0.0\n",
       "playerId           0.0\n",
       "positions          0.0\n",
       "matchId            0.0\n",
       "eventName          0.0\n",
       "teamId             0.0\n",
       "matchPeriod        0.0\n",
       "eventSec           0.0\n",
       "subEventId         0.0\n",
       "id                 0.0\n",
       "wyId               0.0\n",
       "foot               0.0\n",
       "firstName          0.0\n",
       "lastName           0.0\n",
       "previous_event     0.0\n",
       "x                  0.0\n",
       "y                  0.0\n",
       "c                  0.0\n",
       "distance           0.0\n",
       "angle              0.0\n",
       "goal               0.0\n",
       "free_kick          0.0\n",
       "counter_attack     0.0\n",
       "rebound            0.0\n",
       "prev_cross         0.0\n",
       "prev_touch         0.0\n",
       "prev_pass          0.0\n",
       "prev_smart_pass    0.0\n",
       "prev_duel          0.0\n",
       "dtype: float64"
      ]
     },
     "execution_count": 6,
     "metadata": {},
     "output_type": "execute_result"
    }
   ],
   "source": [
    "shots.isna().mean()"
   ]
  },
  {
   "cell_type": "code",
   "execution_count": 14,
   "id": "8bd02317",
   "metadata": {},
   "outputs": [
    {
     "data": {
      "text/plain": [
       "Index(['eventId', 'subEventName', 'tags', 'playerId', 'positions', 'matchId',\n",
       "       'eventName', 'teamId', 'matchPeriod', 'eventSec', 'subEventId', 'id',\n",
       "       'wyId', 'foot', 'firstName', 'lastName', 'previous_event', 'x', 'y',\n",
       "       'c', 'distance', 'angle', 'goal', 'free_kick', 'counter_attack',\n",
       "       'rebound', 'prev_cross', 'prev_touch', 'prev_pass', 'prev_smart_pass',\n",
       "       'prev_duel'],\n",
       "      dtype='object')"
      ]
     },
     "execution_count": 14,
     "metadata": {},
     "output_type": "execute_result"
    }
   ],
   "source": [
    "shots.columns"
   ]
  },
  {
   "attachments": {},
   "cell_type": "markdown",
   "id": "6a45fd85",
   "metadata": {},
   "source": [
    "### Avaliando a distribuição de algumas features"
   ]
  },
  {
   "cell_type": "code",
   "execution_count": 16,
   "id": "a785bc7b",
   "metadata": {},
   "outputs": [
    {
     "data": {
      "text/plain": [
       "subEventName\n",
       "Free kick shot     2209\n",
       "Shot              43075\n",
       "dtype: int64"
      ]
     },
     "execution_count": 16,
     "metadata": {},
     "output_type": "execute_result"
    }
   ],
   "source": [
    "shots.groupby('subEventName').size().sort_values()"
   ]
  },
  {
   "cell_type": "code",
   "execution_count": 18,
   "id": "b76103e7",
   "metadata": {},
   "outputs": [
    {
     "data": {
      "text/plain": [
       "eventName\n",
       "Free Kick     2209\n",
       "Shot         43075\n",
       "dtype: int64"
      ]
     },
     "execution_count": 18,
     "metadata": {},
     "output_type": "execute_result"
    }
   ],
   "source": [
    "shots.groupby('eventName').size().sort_values()"
   ]
  },
  {
   "attachments": {},
   "cell_type": "markdown",
   "id": "8e6e5308",
   "metadata": {},
   "source": [
    "Estas 2 variáveis estão redundantes, poderemos excluir uma delas"
   ]
  },
  {
   "cell_type": "code",
   "execution_count": 19,
   "id": "b754fba0",
   "metadata": {},
   "outputs": [
    {
     "data": {
      "text/plain": [
       "previous_event\n",
       "                               1\n",
       "Time lost foul                 1\n",
       "Penalty                        3\n",
       "Violent Foul                   3\n",
       "Late card foul                 6\n",
       "Hand pass                      7\n",
       "Out of game foul              12\n",
       "Goal kick                     19\n",
       "Protest                       23\n",
       "Free kick shot                32\n",
       "Launch                        60\n",
       "Hand foul                     87\n",
       "Throw in                     126\n",
       "Save attempt                 131\n",
       "Free Kick                    150\n",
       "Goalkeeper leaving line      162\n",
       "Shot                         216\n",
       "Free kick cross              484\n",
       "Reflexes                     526\n",
       "Acceleration                 777\n",
       "High pass                    915\n",
       "Head pass                    939\n",
       "Corner                       989\n",
       "Ground loose ball duel      1446\n",
       "Smart pass                  1809\n",
       "Clearance                   2059\n",
       "Foul                        2099\n",
       "Touch                       3003\n",
       "Cross                       4057\n",
       "Ground defending duel       4553\n",
       "Ground attacking duel       4711\n",
       "Air duel                    5263\n",
       "Simple pass                10615\n",
       "dtype: int64"
      ]
     },
     "execution_count": 19,
     "metadata": {},
     "output_type": "execute_result"
    }
   ],
   "source": [
    "shots.groupby('previous_event').size().sort_values()"
   ]
  },
  {
   "attachments": {},
   "cell_type": "markdown",
   "id": "26e12450",
   "metadata": {},
   "source": [
    "### Avaliando o target "
   ]
  },
  {
   "cell_type": "code",
   "execution_count": 20,
   "id": "cae3cf50",
   "metadata": {},
   "outputs": [
    {
     "data": {
      "text/plain": [
       "goal\n",
       "1     4629\n",
       "0    40655\n",
       "dtype: int64"
      ]
     },
     "execution_count": 20,
     "metadata": {},
     "output_type": "execute_result"
    }
   ],
   "source": [
    "shots.groupby('goal').size().sort_values()"
   ]
  },
  {
   "cell_type": "code",
   "execution_count": 22,
   "id": "04d83bba",
   "metadata": {},
   "outputs": [
    {
     "data": {
      "text/plain": [
       "<AxesSubplot: xlabel='goal', ylabel='Count'>"
      ]
     },
     "execution_count": 22,
     "metadata": {},
     "output_type": "execute_result"
    },
    {
     "data": {
      "image/png": "[encoded data removed]",
      "text/plain": [
       "<Figure size 640x480 with 1 Axes>"
      ]
     },
     "metadata": {},
     "output_type": "display_data"
    }
   ],
   "source": [
    "sns.histplot(shots['goal'])"
   ]
  },
  {
   "attachments": {},
   "cell_type": "markdown",
   "id": "9941d84a",
   "metadata": {},
   "source": [
    "### Avaliando a posição de onde os chutes partem"
   ]
  },
  {
   "cell_type": "code",
   "execution_count": 7,
   "id": "ebdaf110",
   "metadata": {},
   "outputs": [
    {
     "name": "stderr",
     "output_type": "stream",
     "text": [
      "/Users/lucasmaretti/Documents/repos/football_analytics/aux_functions_plot.py:500: FutureWarning: In a future version of pandas all arguments of DataFrame.pivot will be keyword-only.\n",
      "  df_img = df_pos.pivot(col_y + \"ZoneMean\", col_x + \"ZoneMean\", \"aggVal\")\n"
     ]
    }
   ],
   "source": [
    "nb_shots, x,y, df_shots = p.prepare_heatmap(shots, 'x', 'y', 24,17, return_df = True)\n",
    "share_shots = nb_shots / nb_shots.sum() * 100"
   ]
  },
  {
   "cell_type": "code",
   "execution_count": 10,
   "id": "1c367770",
   "metadata": {},
   "outputs": [
    {
     "data": {
      "application/vnd.plotly.v1+json": {
       "config": {
        "plotlyServerURL": "https://plot.ly"
       },
       "data": [
        {
         "hoverinfo": "text",
         "text": [
          [
           "Proporção de chutes (em %): 0.00<br />Número de chutes: 0<br />",
           "Proporção de chutes (em %): 0.01<br />Número de chutes: 3<br />",
           "Proporção de chutes (em %): 0.00<br />Número de chutes: 0<br />",
           "Proporção de chutes (em %): 0.00<br />Número de chutes: 2<br />",
           "Proporção de chutes (em %): 0.00<br />Número de chutes: 1<br />",
           "Proporção de chutes (em %): 0.00<br />Número de chutes: 2<br />",
           "Proporção de chutes (em %): 0.00<br />Número de chutes: 0<br />",
           "Proporção de chutes (em %): 0.00<br />Número de chutes: 1<br />",
           "Proporção de chutes (em %): 0.00<br />Número de chutes: 0<br />",
           "Proporção de chutes (em %): 0.00<br />Número de chutes: 0<br />",
           "Proporção de chutes (em %): 0.00<br />Número de chutes: 0<br />",
           "Proporção de chutes (em %): 0.00<br />Número de chutes: 1<br />",
           "Proporção de chutes (em %): 0.00<br />Número de chutes: 1<br />",
           "Proporção de chutes (em %): 0.01<br />Número de chutes: 6<br />",
           "Proporção de chutes (em %): 0.00<br />Número de chutes: 1<br />",
           "Proporção de chutes (em %): 0.00<br />Número de chutes: 1<br />",
           "Proporção de chutes (em %): 0.00<br />Número de chutes: 0<br />",
           "Proporção de chutes (em %): 0.00<br />Número de chutes: 0<br />",
           "Proporção de chutes (em %): 0.00<br />Número de chutes: 0<br />",
           "Proporção de chutes (em %): 0.00<br />Número de chutes: 0<br />",
           "Proporção de chutes (em %): 0.00<br />Número de chutes: 0<br />",
           "Proporção de chutes (em %): 0.00<br />Número de chutes: 0<br />",
           "Proporção de chutes (em %): 0.00<br />Número de chutes: 0<br />",
           "Proporção de chutes (em %): 0.00<br />Número de chutes: 0<br />"
          ],
          [
           "Proporção de chutes (em %): 0.00<br />Número de chutes: 0<br />",
           "Proporção de chutes (em %): 0.02<br />Número de chutes: 7<br />",
           "Proporção de chutes (em %): 0.01<br />Número de chutes: 5<br />",
           "Proporção de chutes (em %): 0.01<br />Número de chutes: 6<br />",
           "Proporção de chutes (em %): 0.01<br />Número de chutes: 6<br />",
           "Proporção de chutes (em %): 0.02<br />Número de chutes: 11<br />",
           "Proporção de chutes (em %): 0.01<br />Número de chutes: 6<br />",
           "Proporção de chutes (em %): 0.01<br />Número de chutes: 4<br />",
           "Proporção de chutes (em %): 0.01<br />Número de chutes: 4<br />",
           "Proporção de chutes (em %): 0.00<br />Número de chutes: 2<br />",
           "Proporção de chutes (em %): 0.00<br />Número de chutes: 0<br />",
           "Proporção de chutes (em %): 0.00<br />Número de chutes: 0<br />",
           "Proporção de chutes (em %): 0.00<br />Número de chutes: 1<br />",
           "Proporção de chutes (em %): 0.00<br />Número de chutes: 0<br />",
           "Proporção de chutes (em %): 0.00<br />Número de chutes: 1<br />",
           "Proporção de chutes (em %): 0.00<br />Número de chutes: 0<br />",
           "Proporção de chutes (em %): 0.00<br />Número de chutes: 0<br />",
           "Proporção de chutes (em %): 0.00<br />Número de chutes: 0<br />",
           "Proporção de chutes (em %): 0.00<br />Número de chutes: 0<br />",
           "Proporção de chutes (em %): 0.00<br />Número de chutes: 0<br />",
           "Proporção de chutes (em %): 0.00<br />Número de chutes: 0<br />",
           "Proporção de chutes (em %): 0.00<br />Número de chutes: 0<br />",
           "Proporção de chutes (em %): 0.00<br />Número de chutes: 0<br />",
           "Proporção de chutes (em %): 0.00<br />Número de chutes: 0<br />"
          ],
          [
           "Proporção de chutes (em %): 0.01<br />Número de chutes: 5<br />",
           "Proporção de chutes (em %): 0.04<br />Número de chutes: 19<br />",
           "Proporção de chutes (em %): 0.09<br />Número de chutes: 40<br />",
           "Proporção de chutes (em %): 0.05<br />Número de chutes: 24<br />",
           "Proporção de chutes (em %): 0.05<br />Número de chutes: 22<br />",
           "Proporção de chutes (em %): 0.09<br />Número de chutes: 39<br />",
           "Proporção de chutes (em %): 0.07<br />Número de chutes: 33<br />",
           "Proporção de chutes (em %): 0.02<br />Número de chutes: 10<br />",
           "Proporção de chutes (em %): 0.01<br />Número de chutes: 6<br />",
           "Proporção de chutes (em %): 0.00<br />Número de chutes: 0<br />",
           "Proporção de chutes (em %): 0.00<br />Número de chutes: 1<br />",
           "Proporção de chutes (em %): 0.00<br />Número de chutes: 2<br />",
           "Proporção de chutes (em %): 0.00<br />Número de chutes: 1<br />",
           "Proporção de chutes (em %): 0.00<br />Número de chutes: 0<br />",
           "Proporção de chutes (em %): 0.00<br />Número de chutes: 0<br />",
           "Proporção de chutes (em %): 0.00<br />Número de chutes: 0<br />",
           "Proporção de chutes (em %): 0.00<br />Número de chutes: 0<br />",
           "Proporção de chutes (em %): 0.00<br />Número de chutes: 0<br />",
           "Proporção de chutes (em %): 0.00<br />Número de chutes: 0<br />",
           "Proporção de chutes (em %): 0.00<br />Número de chutes: 0<br />",
           "Proporção de chutes (em %): 0.00<br />Número de chutes: 0<br />",
           "Proporção de chutes (em %): 0.00<br />Número de chutes: 0<br />",
           "Proporção de chutes (em %): 0.00<br />Número de chutes: 0<br />",
           "Proporção de chutes (em %): 0.00<br />Número de chutes: 0<br />"
          ],
          [
           "Proporção de chutes (em %): 0.00<br />Número de chutes: 2<br />",
           "Proporção de chutes (em %): 0.06<br />Número de chutes: 26<br />",
           "Proporção de chutes (em %): 0.17<br />Número de chutes: 76<br />",
           "Proporção de chutes (em %): 0.15<br />Número de chutes: 70<br />",
           "Proporção de chutes (em %): 0.21<br />Número de chutes: 96<br />",
           "Proporção de chutes (em %): 0.46<br />Número de chutes: 207<br />",
           "Proporção de chutes (em %): 0.29<br />Número de chutes: 130<br />",
           "Proporção de chutes (em %): 0.10<br />Número de chutes: 46<br />",
           "Proporção de chutes (em %): 0.02<br />Número de chutes: 7<br />",
           "Proporção de chutes (em %): 0.01<br />Número de chutes: 3<br />",
           "Proporção de chutes (em %): 0.01<br />Número de chutes: 3<br />",
           "Proporção de chutes (em %): 0.00<br />Número de chutes: 1<br />",
           "Proporção de chutes (em %): 0.00<br />Número de chutes: 1<br />",
           "Proporção de chutes (em %): 0.00<br />Número de chutes: 0<br />",
           "Proporção de chutes (em %): 0.00<br />Número de chutes: 1<br />",
           "Proporção de chutes (em %): 0.00<br />Número de chutes: 0<br />",
           "Proporção de chutes (em %): 0.00<br />Número de chutes: 0<br />",
           "Proporção de chutes (em %): 0.00<br />Número de chutes: 0<br />",
           "Proporção de chutes (em %): 0.00<br />Número de chutes: 0<br />",
           "Proporção de chutes (em %): 0.00<br />Número de chutes: 0<br />",
           "Proporção de chutes (em %): 0.00<br />Número de chutes: 0<br />",
           "Proporção de chutes (em %): 0.00<br />Número de chutes: 0<br />",
           "Proporção de chutes (em %): 0.00<br />Número de chutes: 0<br />",
           "Proporção de chutes (em %): 0.00<br />Número de chutes: 0<br />"
          ],
          [
           "Proporção de chutes (em %): 0.11<br />Número de chutes: 49<br />",
           "Proporção de chutes (em %): 0.53<br />Número de chutes: 239<br />",
           "Proporção de chutes (em %): 1.32<br />Número de chutes: 600<br />",
           "Proporção de chutes (em %): 0.86<br />Número de chutes: 388<br />",
           "Proporção de chutes (em %): 0.87<br />Número de chutes: 393<br />",
           "Proporção de chutes (em %): 1.35<br />Número de chutes: 613<br />",
           "Proporção de chutes (em %): 0.69<br />Número de chutes: 311<br />",
           "Proporção de chutes (em %): 0.21<br />Número de chutes: 94<br />",
           "Proporção de chutes (em %): 0.02<br />Número de chutes: 8<br />",
           "Proporção de chutes (em %): 0.01<br />Número de chutes: 3<br />",
           "Proporção de chutes (em %): 0.00<br />Número de chutes: 2<br />",
           "Proporção de chutes (em %): 0.01<br />Número de chutes: 4<br />",
           "Proporção de chutes (em %): 0.00<br />Número de chutes: 1<br />",
           "Proporção de chutes (em %): 0.01<br />Número de chutes: 3<br />",
           "Proporção de chutes (em %): 0.01<br />Número de chutes: 3<br />",
           "Proporção de chutes (em %): 0.00<br />Número de chutes: 1<br />",
           "Proporção de chutes (em %): 0.00<br />Número de chutes: 1<br />",
           "Proporção de chutes (em %): 0.00<br />Número de chutes: 0<br />",
           "Proporção de chutes (em %): 0.00<br />Número de chutes: 0<br />",
           "Proporção de chutes (em %): 0.00<br />Número de chutes: 0<br />",
           "Proporção de chutes (em %): 0.00<br />Número de chutes: 0<br />",
           "Proporção de chutes (em %): 0.00<br />Número de chutes: 0<br />",
           "Proporção de chutes (em %): 0.00<br />Número de chutes: 0<br />",
           "Proporção de chutes (em %): 0.00<br />Número de chutes: 0<br />"
          ],
          [
           "Proporção de chutes (em %): 0.37<br />Número de chutes: 167<br />",
           "Proporção de chutes (em %): 1.39<br />Número de chutes: 628<br />",
           "Proporção de chutes (em %): 3.01<br />Número de chutes: 1365<br />",
           "Proporção de chutes (em %): 1.63<br />Número de chutes: 739<br />",
           "Proporção de chutes (em %): 1.42<br />Número de chutes: 645<br />",
           "Proporção de chutes (em %): 1.98<br />Número de chutes: 897<br />",
           "Proporção de chutes (em %): 1.05<br />Número de chutes: 476<br />",
           "Proporção de chutes (em %): 0.29<br />Número de chutes: 130<br />",
           "Proporção de chutes (em %): 0.04<br />Número de chutes: 19<br />",
           "Proporção de chutes (em %): 0.01<br />Número de chutes: 5<br />",
           "Proporção de chutes (em %): 0.01<br />Número de chutes: 3<br />",
           "Proporção de chutes (em %): 0.01<br />Número de chutes: 3<br />",
           "Proporção de chutes (em %): 0.00<br />Número de chutes: 0<br />",
           "Proporção de chutes (em %): 0.01<br />Número de chutes: 4<br />",
           "Proporção de chutes (em %): 0.01<br />Número de chutes: 4<br />",
           "Proporção de chutes (em %): 0.00<br />Número de chutes: 1<br />",
           "Proporção de chutes (em %): 0.00<br />Número de chutes: 0<br />",
           "Proporção de chutes (em %): 0.00<br />Número de chutes: 0<br />",
           "Proporção de chutes (em %): 0.00<br />Número de chutes: 0<br />",
           "Proporção de chutes (em %): 0.00<br />Número de chutes: 0<br />",
           "Proporção de chutes (em %): 0.00<br />Número de chutes: 0<br />",
           "Proporção de chutes (em %): 0.00<br />Número de chutes: 1<br />",
           "Proporção de chutes (em %): 0.00<br />Número de chutes: 0<br />",
           "Proporção de chutes (em %): 0.00<br />Número de chutes: 0<br />"
          ],
          [
           "Proporção de chutes (em %): 0.65<br />Número de chutes: 296<br />",
           "Proporção de chutes (em %): 1.71<br />Número de chutes: 776<br />",
           "Proporção de chutes (em %): 3.41<br />Número de chutes: 1543<br />",
           "Proporção de chutes (em %): 1.67<br />Número de chutes: 755<br />",
           "Proporção de chutes (em %): 1.29<br />Número de chutes: 583<br />",
           "Proporção de chutes (em %): 2.08<br />Número de chutes: 941<br />",
           "Proporção de chutes (em %): 1.15<br />Número de chutes: 522<br />",
           "Proporção de chutes (em %): 0.39<br />Número de chutes: 178<br />",
           "Proporção de chutes (em %): 0.05<br />Número de chutes: 22<br />",
           "Proporção de chutes (em %): 0.01<br />Número de chutes: 4<br />",
           "Proporção de chutes (em %): 0.00<br />Número de chutes: 2<br />",
           "Proporção de chutes (em %): 0.00<br />Número de chutes: 2<br />",
           "Proporção de chutes (em %): 0.00<br />Número de chutes: 2<br />",
           "Proporção de chutes (em %): 0.01<br />Número de chutes: 3<br />",
           "Proporção de chutes (em %): 0.00<br />Número de chutes: 1<br />",
           "Proporção de chutes (em %): 0.00<br />Número de chutes: 1<br />",
           "Proporção de chutes (em %): 0.00<br />Número de chutes: 0<br />",
           "Proporção de chutes (em %): 0.00<br />Número de chutes: 0<br />",
           "Proporção de chutes (em %): 0.00<br />Número de chutes: 0<br />",
           "Proporção de chutes (em %): 0.00<br />Número de chutes: 1<br />",
           "Proporção de chutes (em %): 0.00<br />Número de chutes: 0<br />",
           "Proporção de chutes (em %): 0.00<br />Número de chutes: 0<br />",
           "Proporção de chutes (em %): 0.00<br />Número de chutes: 1<br />",
           "Proporção de chutes (em %): 0.00<br />Número de chutes: 1<br />"
          ],
          [
           "Proporção de chutes (em %): 0.92<br />Número de chutes: 418<br />",
           "Proporção de chutes (em %): 2.65<br />Número de chutes: 1198<br />",
           "Proporção de chutes (em %): 3.83<br />Número de chutes: 1736<br />",
           "Proporção de chutes (em %): 1.67<br />Número de chutes: 757<br />",
           "Proporção de chutes (em %): 1.26<br />Número de chutes: 571<br />",
           "Proporção de chutes (em %): 1.86<br />Número de chutes: 841<br />",
           "Proporção de chutes (em %): 1.27<br />Número de chutes: 576<br />",
           "Proporção de chutes (em %): 0.44<br />Número de chutes: 199<br />",
           "Proporção de chutes (em %): 0.04<br />Número de chutes: 16<br />",
           "Proporção de chutes (em %): 0.01<br />Número de chutes: 5<br />",
           "Proporção de chutes (em %): 0.00<br />Número de chutes: 0<br />",
           "Proporção de chutes (em %): 0.01<br />Número de chutes: 4<br />",
           "Proporção de chutes (em %): 0.00<br />Número de chutes: 1<br />",
           "Proporção de chutes (em %): 0.00<br />Número de chutes: 1<br />",
           "Proporção de chutes (em %): 0.00<br />Número de chutes: 1<br />",
           "Proporção de chutes (em %): 0.00<br />Número de chutes: 0<br />",
           "Proporção de chutes (em %): 0.00<br />Número de chutes: 1<br />",
           "Proporção de chutes (em %): 0.00<br />Número de chutes: 0<br />",
           "Proporção de chutes (em %): 0.00<br />Número de chutes: 1<br />",
           "Proporção de chutes (em %): 0.00<br />Número de chutes: 0<br />",
           "Proporção de chutes (em %): 0.00<br />Número de chutes: 0<br />",
           "Proporção de chutes (em %): 0.00<br />Número de chutes: 0<br />",
           "Proporção de chutes (em %): 0.00<br />Número de chutes: 1<br />",
           "Proporção de chutes (em %): 0.00<br />Número de chutes: 0<br />"
          ],
          [
           "Proporção de chutes (em %): 0.82<br />Número de chutes: 373<br />",
           "Proporção de chutes (em %): 2.56<br />Número de chutes: 1160<br />",
           "Proporção de chutes (em %): 2.85<br />Número de chutes: 1291<br />",
           "Proporção de chutes (em %): 1.61<br />Número de chutes: 730<br />",
           "Proporção de chutes (em %): 1.61<br />Número de chutes: 728<br />",
           "Proporção de chutes (em %): 1.57<br />Número de chutes: 711<br />",
           "Proporção de chutes (em %): 1.30<br />Número de chutes: 589<br />",
           "Proporção de chutes (em %): 0.42<br />Número de chutes: 190<br />",
           "Proporção de chutes (em %): 0.02<br />Número de chutes: 10<br />",
           "Proporção de chutes (em %): 0.00<br />Número de chutes: 2<br />",
           "Proporção de chutes (em %): 0.00<br />Número de chutes: 1<br />",
           "Proporção de chutes (em %): 0.02<br />Número de chutes: 7<br />",
           "Proporção de chutes (em %): 0.01<br />Número de chutes: 4<br />",
           "Proporção de chutes (em %): 0.02<br />Número de chutes: 9<br />",
           "Proporção de chutes (em %): 0.00<br />Número de chutes: 0<br />",
           "Proporção de chutes (em %): 0.00<br />Número de chutes: 0<br />",
           "Proporção de chutes (em %): 0.00<br />Número de chutes: 0<br />",
           "Proporção de chutes (em %): 0.00<br />Número de chutes: 1<br />",
           "Proporção de chutes (em %): 0.00<br />Número de chutes: 0<br />",
           "Proporção de chutes (em %): 0.00<br />Número de chutes: 0<br />",
           "Proporção de chutes (em %): 0.00<br />Número de chutes: 0<br />",
           "Proporção de chutes (em %): 0.00<br />Número de chutes: 0<br />",
           "Proporção de chutes (em %): 0.01<br />Número de chutes: 3<br />",
           "Proporção de chutes (em %): 0.00<br />Número de chutes: 2<br />"
          ],
          [
           "Proporção de chutes (em %): 0.81<br />Número de chutes: 369<br />",
           "Proporção de chutes (em %): 2.54<br />Número de chutes: 1151<br />",
           "Proporção de chutes (em %): 3.65<br />Número de chutes: 1653<br />",
           "Proporção de chutes (em %): 1.56<br />Número de chutes: 708<br />",
           "Proporção de chutes (em %): 1.19<br />Número de chutes: 537<br />",
           "Proporção de chutes (em %): 1.81<br />Número de chutes: 821<br />",
           "Proporção de chutes (em %): 1.38<br />Número de chutes: 627<br />",
           "Proporção de chutes (em %): 0.42<br />Número de chutes: 190<br />",
           "Proporção de chutes (em %): 0.03<br />Número de chutes: 13<br />",
           "Proporção de chutes (em %): 0.01<br />Número de chutes: 4<br />",
           "Proporção de chutes (em %): 0.01<br />Número de chutes: 3<br />",
           "Proporção de chutes (em %): 0.00<br />Número de chutes: 0<br />",
           "Proporção de chutes (em %): 0.02<br />Número de chutes: 8<br />",
           "Proporção de chutes (em %): 0.00<br />Número de chutes: 2<br />",
           "Proporção de chutes (em %): 0.00<br />Número de chutes: 0<br />",
           "Proporção de chutes (em %): 0.00<br />Número de chutes: 2<br />",
           "Proporção de chutes (em %): 0.00<br />Número de chutes: 1<br />",
           "Proporção de chutes (em %): 0.00<br />Número de chutes: 0<br />",
           "Proporção de chutes (em %): 0.00<br />Número de chutes: 0<br />",
           "Proporção de chutes (em %): 0.00<br />Número de chutes: 0<br />",
           "Proporção de chutes (em %): 0.00<br />Número de chutes: 0<br />",
           "Proporção de chutes (em %): 0.00<br />Número de chutes: 2<br />",
           "Proporção de chutes (em %): 0.00<br />Número de chutes: 1<br />",
           "Proporção de chutes (em %): 0.00<br />Número de chutes: 0<br />"
          ],
          [
           "Proporção de chutes (em %): 0.64<br />Número de chutes: 292<br />",
           "Proporção de chutes (em %): 1.64<br />Número de chutes: 741<br />",
           "Proporção de chutes (em %): 3.25<br />Número de chutes: 1473<br />",
           "Proporção de chutes (em %): 1.51<br />Número de chutes: 682<br />",
           "Proporção de chutes (em %): 1.12<br />Número de chutes: 505<br />",
           "Proporção de chutes (em %): 2.09<br />Número de chutes: 946<br />",
           "Proporção de chutes (em %): 1.22<br />Número de chutes: 552<br />",
           "Proporção de chutes (em %): 0.30<br />Número de chutes: 138<br />",
           "Proporção de chutes (em %): 0.06<br />Número de chutes: 26<br />",
           "Proporção de chutes (em %): 0.01<br />Número de chutes: 4<br />",
           "Proporção de chutes (em %): 0.01<br />Número de chutes: 3<br />",
           "Proporção de chutes (em %): 0.00<br />Número de chutes: 2<br />",
           "Proporção de chutes (em %): 0.00<br />Número de chutes: 2<br />",
           "Proporção de chutes (em %): 0.00<br />Número de chutes: 2<br />",
           "Proporção de chutes (em %): 0.00<br />Número de chutes: 0<br />",
           "Proporção de chutes (em %): 0.00<br />Número de chutes: 0<br />",
           "Proporção de chutes (em %): 0.00<br />Número de chutes: 0<br />",
           "Proporção de chutes (em %): 0.00<br />Número de chutes: 0<br />",
           "Proporção de chutes (em %): 0.00<br />Número de chutes: 0<br />",
           "Proporção de chutes (em %): 0.00<br />Número de chutes: 0<br />",
           "Proporção de chutes (em %): 0.00<br />Número de chutes: 1<br />",
           "Proporção de chutes (em %): 0.00<br />Número de chutes: 2<br />",
           "Proporção de chutes (em %): 0.00<br />Número de chutes: 0<br />",
           "Proporção de chutes (em %): 0.00<br />Número de chutes: 1<br />"
          ],
          [
           "Proporção de chutes (em %): 0.39<br />Número de chutes: 177<br />",
           "Proporção de chutes (em %): 1.36<br />Número de chutes: 618<br />",
           "Proporção de chutes (em %): 2.53<br />Número de chutes: 1147<br />",
           "Proporção de chutes (em %): 1.35<br />Número de chutes: 613<br />",
           "Proporção de chutes (em %): 1.25<br />Número de chutes: 568<br />",
           "Proporção de chutes (em %): 1.86<br />Número de chutes: 842<br />",
           "Proporção de chutes (em %): 0.85<br />Número de chutes: 385<br />",
           "Proporção de chutes (em %): 0.25<br />Número de chutes: 114<br />",
           "Proporção de chutes (em %): 0.04<br />Número de chutes: 16<br />",
           "Proporção de chutes (em %): 0.01<br />Número de chutes: 3<br />",
           "Proporção de chutes (em %): 0.00<br />Número de chutes: 2<br />",
           "Proporção de chutes (em %): 0.00<br />Número de chutes: 1<br />",
           "Proporção de chutes (em %): 0.01<br />Número de chutes: 4<br />",
           "Proporção de chutes (em %): 0.00<br />Número de chutes: 1<br />",
           "Proporção de chutes (em %): 0.00<br />Número de chutes: 0<br />",
           "Proporção de chutes (em %): 0.00<br />Número de chutes: 0<br />",
           "Proporção de chutes (em %): 0.00<br />Número de chutes: 1<br />",
           "Proporção de chutes (em %): 0.00<br />Número de chutes: 0<br />",
           "Proporção de chutes (em %): 0.00<br />Número de chutes: 0<br />",
           "Proporção de chutes (em %): 0.00<br />Número de chutes: 1<br />",
           "Proporção de chutes (em %): 0.00<br />Número de chutes: 1<br />",
           "Proporção de chutes (em %): 0.00<br />Número de chutes: 2<br />",
           "Proporção de chutes (em %): 0.00<br />Número de chutes: 0<br />",
           "Proporção de chutes (em %): 0.00<br />Número de chutes: 0<br />"
          ],
          [
           "Proporção de chutes (em %): 0.09<br />Número de chutes: 42<br />",
           "Proporção de chutes (em %): 0.52<br />Número de chutes: 234<br />",
           "Proporção de chutes (em %): 0.99<br />Número de chutes: 448<br />",
           "Proporção de chutes (em %): 0.64<br />Número de chutes: 289<br />",
           "Proporção de chutes (em %): 0.79<br />Número de chutes: 358<br />",
           "Proporção de chutes (em %): 1.02<br />Número de chutes: 462<br />",
           "Proporção de chutes (em %): 0.52<br />Número de chutes: 235<br />",
           "Proporção de chutes (em %): 0.13<br />Número de chutes: 58<br />",
           "Proporção de chutes (em %): 0.02<br />Número de chutes: 9<br />",
           "Proporção de chutes (em %): 0.02<br />Número de chutes: 9<br />",
           "Proporção de chutes (em %): 0.00<br />Número de chutes: 2<br />",
           "Proporção de chutes (em %): 0.00<br />Número de chutes: 1<br />",
           "Proporção de chutes (em %): 0.00<br />Número de chutes: 0<br />",
           "Proporção de chutes (em %): 0.00<br />Número de chutes: 0<br />",
           "Proporção de chutes (em %): 0.00<br />Número de chutes: 1<br />",
           "Proporção de chutes (em %): 0.00<br />Número de chutes: 0<br />",
           "Proporção de chutes (em %): 0.00<br />Número de chutes: 0<br />",
           "Proporção de chutes (em %): 0.00<br />Número de chutes: 1<br />",
           "Proporção de chutes (em %): 0.00<br />Número de chutes: 0<br />",
           "Proporção de chutes (em %): 0.00<br />Número de chutes: 0<br />",
           "Proporção de chutes (em %): 0.00<br />Número de chutes: 0<br />",
           "Proporção de chutes (em %): 0.00<br />Número de chutes: 0<br />",
           "Proporção de chutes (em %): 0.00<br />Número de chutes: 0<br />",
           "Proporção de chutes (em %): 0.00<br />Número de chutes: 0<br />"
          ],
          [
           "Proporção de chutes (em %): 0.00<br />Número de chutes: 2<br />",
           "Proporção de chutes (em %): 0.03<br />Número de chutes: 15<br />",
           "Proporção de chutes (em %): 0.10<br />Número de chutes: 47<br />",
           "Proporção de chutes (em %): 0.10<br />Número de chutes: 46<br />",
           "Proporção de chutes (em %): 0.16<br />Número de chutes: 71<br />",
           "Proporção de chutes (em %): 0.31<br />Número de chutes: 140<br />",
           "Proporção de chutes (em %): 0.23<br />Número de chutes: 104<br />",
           "Proporção de chutes (em %): 0.06<br />Número de chutes: 25<br />",
           "Proporção de chutes (em %): 0.01<br />Número de chutes: 5<br />",
           "Proporção de chutes (em %): 0.01<br />Número de chutes: 5<br />",
           "Proporção de chutes (em %): 0.01<br />Número de chutes: 5<br />",
           "Proporção de chutes (em %): 0.00<br />Número de chutes: 2<br />",
           "Proporção de chutes (em %): 0.00<br />Número de chutes: 0<br />",
           "Proporção de chutes (em %): 0.00<br />Número de chutes: 1<br />",
           "Proporção de chutes (em %): 0.00<br />Número de chutes: 0<br />",
           "Proporção de chutes (em %): 0.00<br />Número de chutes: 0<br />",
           "Proporção de chutes (em %): 0.00<br />Número de chutes: 0<br />",
           "Proporção de chutes (em %): 0.00<br />Número de chutes: 0<br />",
           "Proporção de chutes (em %): 0.00<br />Número de chutes: 0<br />",
           "Proporção de chutes (em %): 0.00<br />Número de chutes: 0<br />",
           "Proporção de chutes (em %): 0.00<br />Número de chutes: 0<br />",
           "Proporção de chutes (em %): 0.00<br />Número de chutes: 0<br />",
           "Proporção de chutes (em %): 0.00<br />Número de chutes: 1<br />",
           "Proporção de chutes (em %): 0.00<br />Número de chutes: 0<br />"
          ],
          [
           "Proporção de chutes (em %): 0.00<br />Número de chutes: 1<br />",
           "Proporção de chutes (em %): 0.03<br />Número de chutes: 12<br />",
           "Proporção de chutes (em %): 0.04<br />Número de chutes: 20<br />",
           "Proporção de chutes (em %): 0.04<br />Número de chutes: 17<br />",
           "Proporção de chutes (em %): 0.03<br />Número de chutes: 13<br />",
           "Proporção de chutes (em %): 0.08<br />Número de chutes: 34<br />",
           "Proporção de chutes (em %): 0.04<br />Número de chutes: 18<br />",
           "Proporção de chutes (em %): 0.01<br />Número de chutes: 6<br />",
           "Proporção de chutes (em %): 0.00<br />Número de chutes: 2<br />",
           "Proporção de chutes (em %): 0.00<br />Número de chutes: 0<br />",
           "Proporção de chutes (em %): 0.00<br />Número de chutes: 1<br />",
           "Proporção de chutes (em %): 0.00<br />Número de chutes: 0<br />",
           "Proporção de chutes (em %): 0.00<br />Número de chutes: 2<br />",
           "Proporção de chutes (em %): 0.00<br />Número de chutes: 0<br />",
           "Proporção de chutes (em %): 0.00<br />Número de chutes: 1<br />",
           "Proporção de chutes (em %): 0.00<br />Número de chutes: 0<br />",
           "Proporção de chutes (em %): 0.00<br />Número de chutes: 0<br />",
           "Proporção de chutes (em %): 0.00<br />Número de chutes: 0<br />",
           "Proporção de chutes (em %): 0.00<br />Número de chutes: 0<br />",
           "Proporção de chutes (em %): 0.00<br />Número de chutes: 0<br />",
           "Proporção de chutes (em %): 0.00<br />Número de chutes: 0<br />",
           "Proporção de chutes (em %): 0.00<br />Número de chutes: 0<br />",
           "Proporção de chutes (em %): 0.00<br />Número de chutes: 0<br />",
           "Proporção de chutes (em %): 0.00<br />Número de chutes: 0<br />"
          ],
          [
           "Proporção de chutes (em %): 0.00<br />Número de chutes: 1<br />",
           "Proporção de chutes (em %): 0.01<br />Número de chutes: 3<br />",
           "Proporção de chutes (em %): 0.00<br />Número de chutes: 2<br />",
           "Proporção de chutes (em %): 0.02<br />Número de chutes: 9<br />",
           "Proporção de chutes (em %): 0.00<br />Número de chutes: 2<br />",
           "Proporção de chutes (em %): 0.02<br />Número de chutes: 10<br />",
           "Proporção de chutes (em %): 0.01<br />Número de chutes: 6<br />",
           "Proporção de chutes (em %): 0.00<br />Número de chutes: 1<br />",
           "Proporção de chutes (em %): 0.00<br />Número de chutes: 0<br />",
           "Proporção de chutes (em %): 0.00<br />Número de chutes: 2<br />",
           "Proporção de chutes (em %): 0.00<br />Número de chutes: 1<br />",
           "Proporção de chutes (em %): 0.00<br />Número de chutes: 2<br />",
           "Proporção de chutes (em %): 0.00<br />Número de chutes: 1<br />",
           "Proporção de chutes (em %): 0.00<br />Número de chutes: 1<br />",
           "Proporção de chutes (em %): 0.00<br />Número de chutes: 0<br />",
           "Proporção de chutes (em %): 0.00<br />Número de chutes: 0<br />",
           "Proporção de chutes (em %): 0.00<br />Número de chutes: 0<br />",
           "Proporção de chutes (em %): 0.00<br />Número de chutes: 0<br />",
           "Proporção de chutes (em %): 0.00<br />Número de chutes: 0<br />",
           "Proporção de chutes (em %): 0.00<br />Número de chutes: 0<br />",
           "Proporção de chutes (em %): 0.00<br />Número de chutes: 0<br />",
           "Proporção de chutes (em %): 0.00<br />Número de chutes: 0<br />",
           "Proporção de chutes (em %): 0.00<br />Número de chutes: 0<br />",
           "Proporção de chutes (em %): 0.00<br />Número de chutes: 0<br />"
          ],
          [
           "Proporção de chutes (em %): 0.00<br />Número de chutes: 0<br />",
           "Proporção de chutes (em %): 0.00<br />Número de chutes: 1<br />",
           "Proporção de chutes (em %): 0.00<br />Número de chutes: 0<br />",
           "Proporção de chutes (em %): 0.00<br />Número de chutes: 1<br />",
           "Proporção de chutes (em %): 0.00<br />Número de chutes: 2<br />",
           "Proporção de chutes (em %): 0.00<br />Número de chutes: 2<br />",
           "Proporção de chutes (em %): 0.00<br />Número de chutes: 1<br />",
           "Proporção de chutes (em %): 0.00<br />Número de chutes: 0<br />",
           "Proporção de chutes (em %): 0.01<br />Número de chutes: 3<br />",
           "Proporção de chutes (em %): 0.00<br />Número de chutes: 2<br />",
           "Proporção de chutes (em %): 0.00<br />Número de chutes: 1<br />",
           "Proporção de chutes (em %): 0.01<br />Número de chutes: 6<br />",
           "Proporção de chutes (em %): 0.01<br />Número de chutes: 3<br />",
           "Proporção de chutes (em %): 0.00<br />Número de chutes: 0<br />",
           "Proporção de chutes (em %): 0.00<br />Número de chutes: 0<br />",
           "Proporção de chutes (em %): 0.00<br />Número de chutes: 1<br />",
           "Proporção de chutes (em %): 0.00<br />Número de chutes: 0<br />",
           "Proporção de chutes (em %): 0.00<br />Número de chutes: 0<br />",
           "Proporção de chutes (em %): 0.00<br />Número de chutes: 0<br />",
           "Proporção de chutes (em %): 0.00<br />Número de chutes: 0<br />",
           "Proporção de chutes (em %): 0.00<br />Número de chutes: 0<br />",
           "Proporção de chutes (em %): 0.00<br />Número de chutes: 0<br />",
           "Proporção de chutes (em %): 0.00<br />Número de chutes: 0<br />",
           "Proporção de chutes (em %): 0.00<br />Número de chutes: 0<br />"
          ]
         ],
         "type": "heatmap",
         "x": [
          2.1875,
          6.5625,
          10.9375,
          15.3125,
          19.6875,
          24.0625,
          28.4375,
          32.8125,
          37.1875,
          41.5625,
          45.9375,
          50.3125,
          54.6875,
          59.0625,
          63.4375,
          67.8125,
          72.1875,
          76.5625,
          80.9375,
          85.3125,
          89.6875,
          94.0625,
          98.4375,
          102.8125
         ],
         "y": [
          66,
          62,
          58,
          54,
          50,
          46,
          42,
          38,
          34,
          30,
          26,
          22,
          18,
          14,
          10,
          6,
          2
         ],
         "z": [
          [
           0,
           0.006624856461443335,
           0,
           0.004416570974295557,
           0.0022082854871477786,
           0.004416570974295557,
           0,
           0.0022082854871477786,
           0,
           0,
           0,
           0.0022082854871477786,
           0.0022082854871477786,
           0.01324971292288667,
           0.0022082854871477786,
           0.0022082854871477786,
           0,
           0,
           0,
           0,
           0,
           0,
           0,
           0
          ],
          [
           0,
           0.01545799841003445,
           0.011041427435738892,
           0.01324971292288667,
           0.01324971292288667,
           0.024291140358625563,
           0.01324971292288667,
           0.008833141948591115,
           0.008833141948591115,
           0.004416570974295557,
           0,
           0,
           0.0022082854871477786,
           0,
           0.0022082854871477786,
           0,
           0,
           0,
           0,
           0,
           0,
           0,
           0,
           0
          ],
          [
           0.011041427435738892,
           0.04195742425580779,
           0.08833141948591114,
           0.05299885169154668,
           0.048582280717251125,
           0.08612313399876335,
           0.07287342107587669,
           0.022082854871477785,
           0.01324971292288667,
           0,
           0.0022082854871477786,
           0.004416570974295557,
           0.0022082854871477786,
           0,
           0,
           0,
           0,
           0,
           0,
           0,
           0,
           0,
           0,
           0
          ],
          [
           0.004416570974295557,
           0.057415422665842236,
           0.16782969702323117,
           0.1545799841003445,
           0.21199540676618672,
           0.45711509583959015,
           0.2870771133292112,
           0.10158113240879782,
           0.01545799841003445,
           0.006624856461443335,
           0.006624856461443335,
           0.0022082854871477786,
           0.0022082854871477786,
           0,
           0.0022082854871477786,
           0,
           0,
           0,
           0,
           0,
           0,
           0,
           0,
           0
          ],
          [
           0.10820598887024113,
           0.5277802314283191,
           1.324971292288667,
           0.8568147690133381,
           0.867856196449077,
           1.3536790036215882,
           0.686776786502959,
           0.20757883579189118,
           0.01766628389718223,
           0.006624856461443335,
           0.004416570974295557,
           0.008833141948591115,
           0.0022082854871477786,
           0.006624856461443335,
           0.006624856461443335,
           0.0022082854871477786,
           0.0022082854871477786,
           0,
           0,
           0,
           0,
           0,
           0,
           0
          ],
          [
           0.36878367635367904,
           1.3868032859288049,
           3.0143096899567174,
           1.6319229750022084,
           1.424344139210317,
           1.9808320819715575,
           1.0511438918823426,
           0.2870771133292112,
           0.04195742425580779,
           0.011041427435738892,
           0.006624856461443335,
           0.006624856461443335,
           0,
           0.008833141948591115,
           0.008833141948591115,
           0.0022082854871477786,
           0,
           0,
           0,
           0,
           0,
           0.0022082854871477786,
           0,
           0
          ],
          [
           0.6536525041957424,
           1.7136295380266762,
           3.4073845066690223,
           1.6672555427965727,
           1.2874304390071547,
           2.0779966434060597,
           1.1527250242911404,
           0.3930748167123046,
           0.048582280717251125,
           0.008833141948591115,
           0.004416570974295557,
           0.004416570974295557,
           0.004416570974295557,
           0.006624856461443335,
           0.0022082854871477786,
           0.0022082854871477786,
           0,
           0,
           0,
           0.0022082854871477786,
           0,
           0,
           0.0022082854871477786,
           0.0022082854871477786
          ],
          [
           0.9230633336277714,
           2.6455260136030385,
           3.8335836056885433,
           1.671672113770868,
           1.2609310131613816,
           1.8571680946912816,
           1.2719724405971204,
           0.4394488119424079,
           0.03533256779436446,
           0.011041427435738892,
           0,
           0.008833141948591115,
           0.0022082854871477786,
           0.0022082854871477786,
           0.0022082854871477786,
           0,
           0.0022082854871477786,
           0,
           0.0022082854871477786,
           0,
           0,
           0,
           0.0022082854871477786,
           0
          ],
          [
           0.8236904867061214,
           2.561611165091423,
           2.850896563907782,
           1.612048405617878,
           1.6076318346435827,
           1.5700909813620705,
           1.3006801519300415,
           0.41957424255807785,
           0.022082854871477785,
           0.004416570974295557,
           0.0022082854871477786,
           0.01545799841003445,
           0.008833141948591115,
           0.019874569384330007,
           0,
           0,
           0,
           0.0022082854871477786,
           0,
           0,
           0,
           0,
           0.006624856461443335,
           0.004416570974295557
          ],
          [
           0.8148573447575302,
           2.541736595707093,
           3.650295910255278,
           1.5634661249006272,
           1.185849306598357,
           1.813002384948326,
           1.384595000441657,
           0.41957424255807785,
           0.028707711332921118,
           0.008833141948591115,
           0.006624856461443335,
           0,
           0.01766628389718223,
           0.004416570974295557,
           0,
           0.004416570974295557,
           0.0022082854871477786,
           0,
           0,
           0,
           0,
           0.004416570974295557,
           0.0022082854871477786,
           0
          ],
          [
           0.6448193622471513,
           1.6363395459765038,
           3.252804522568678,
           1.5060507022347849,
           1.1151841710096282,
           2.0890380708417986,
           1.2189735889055737,
           0.30474339722639343,
           0.057415422665842236,
           0.008833141948591115,
           0.006624856461443335,
           0.004416570974295557,
           0.004416570974295557,
           0.004416570974295557,
           0,
           0,
           0,
           0,
           0,
           0,
           0.0022082854871477786,
           0.004416570974295557,
           0,
           0.0022082854871477786
          ],
          [
           0.3908665312251568,
           1.364720431057327,
           2.532903453758502,
           1.3536790036215882,
           1.254306156699938,
           1.8593763801784295,
           0.8501899125518948,
           0.2517445455348467,
           0.03533256779436446,
           0.006624856461443335,
           0.004416570974295557,
           0.0022082854871477786,
           0.008833141948591115,
           0.0022082854871477786,
           0,
           0,
           0.0022082854871477786,
           0,
           0,
           0.0022082854871477786,
           0.0022082854871477786,
           0.004416570974295557,
           0,
           0
          ],
          [
           0.0927479904602067,
           0.5167388039925802,
           0.9893118982422048,
           0.6381945057857079,
           0.7905662043989048,
           1.0202278950622736,
           0.5189470894797279,
           0.12808055825457115,
           0.019874569384330007,
           0.019874569384330007,
           0.004416570974295557,
           0.0022082854871477786,
           0,
           0,
           0.0022082854871477786,
           0,
           0,
           0.0022082854871477786,
           0,
           0,
           0,
           0,
           0,
           0
          ],
          [
           0.004416570974295557,
           0.03312428230721668,
           0.10378941789594559,
           0.10158113240879782,
           0.15678826958749226,
           0.309159968200689,
           0.22966169066336894,
           0.055207137178694465,
           0.011041427435738892,
           0.011041427435738892,
           0.011041427435738892,
           0.004416570974295557,
           0,
           0.0022082854871477786,
           0,
           0,
           0,
           0,
           0,
           0,
           0,
           0,
           0.0022082854871477786,
           0
          ],
          [
           0.0022082854871477786,
           0.02649942584577334,
           0.04416570974295557,
           0.037540853281512236,
           0.028707711332921118,
           0.07508170656302447,
           0.039749138768660014,
           0.01324971292288667,
           0.004416570974295557,
           0,
           0.0022082854871477786,
           0,
           0.004416570974295557,
           0,
           0.0022082854871477786,
           0,
           0,
           0,
           0,
           0,
           0,
           0,
           0,
           0
          ],
          [
           0.0022082854871477786,
           0.006624856461443335,
           0.004416570974295557,
           0.019874569384330007,
           0.004416570974295557,
           0.022082854871477785,
           0.01324971292288667,
           0.0022082854871477786,
           0,
           0.004416570974295557,
           0.0022082854871477786,
           0.004416570974295557,
           0.0022082854871477786,
           0.0022082854871477786,
           0,
           0,
           0,
           0,
           0,
           0,
           0,
           0,
           0,
           0
          ],
          [
           0,
           0.0022082854871477786,
           0,
           0.0022082854871477786,
           0.004416570974295557,
           0.004416570974295557,
           0.0022082854871477786,
           0,
           0.006624856461443335,
           0.004416570974295557,
           0.0022082854871477786,
           0.01324971292288667,
           0.006624856461443335,
           0,
           0,
           0.0022082854871477786,
           0,
           0,
           0,
           0,
           0,
           0,
           0,
           0
          ]
         ],
         "zsmooth": false
        }
       ],
       "layout": {
        "autosize": false,
        "height": 612,
        "plot_bgcolor": "white",
        "shapes": [
         {
          "line": {
           "color": "white",
           "width": 2
          },
          "type": "line",
          "x0": 52.5,
          "x1": 52.5,
          "y0": 0,
          "y1": 68
         },
         {
          "line": {
           "color": "white",
           "width": 2
          },
          "type": "line",
          "x0": 0,
          "x1": 16,
          "y0": 54.16,
          "y1": 54.16
         },
         {
          "line": {
           "color": "white",
           "width": 2
          },
          "type": "line",
          "x0": 16,
          "x1": 16,
          "y0": 54.16,
          "y1": 13.84
         },
         {
          "line": {
           "color": "white",
           "width": 2
          },
          "type": "line",
          "x0": 16,
          "x1": 0,
          "y0": 13.84,
          "y1": 13.84
         },
         {
          "line": {
           "color": "white",
           "width": 2
          },
          "type": "line",
          "x0": 0,
          "x1": 5.5,
          "y0": 24.84,
          "y1": 24.84
         },
         {
          "line": {
           "color": "white",
           "width": 2
          },
          "type": "line",
          "x0": 5.5,
          "x1": 5.5,
          "y0": 24.84,
          "y1": 43.16
         },
         {
          "line": {
           "color": "white",
           "width": 2
          },
          "type": "line",
          "x0": 5.5,
          "x1": 0,
          "y0": 43.16,
          "y1": 43.16
         },
         {
          "line": {
           "color": "white",
           "width": 2
          },
          "type": "line",
          "x0": 105,
          "x1": 89,
          "y0": 54.16,
          "y1": 54.16
         },
         {
          "line": {
           "color": "white",
           "width": 2
          },
          "type": "line",
          "x0": 89,
          "x1": 89,
          "y0": 54.16,
          "y1": 13.84
         },
         {
          "line": {
           "color": "white",
           "width": 2
          },
          "type": "line",
          "x0": 89,
          "x1": 105,
          "y0": 13.84,
          "y1": 13.84
         },
         {
          "line": {
           "color": "white",
           "width": 2
          },
          "type": "line",
          "x0": 105,
          "x1": 99.5,
          "y0": 24.84,
          "y1": 24.84
         },
         {
          "line": {
           "color": "white",
           "width": 2
          },
          "type": "line",
          "x0": 99.5,
          "x1": 99.5,
          "y0": 24.84,
          "y1": 43.16
         },
         {
          "line": {
           "color": "white",
           "width": 2
          },
          "type": "line",
          "x0": 99.5,
          "x1": 105,
          "y0": 43.16,
          "y1": 43.16
         },
         {
          "fillcolor": "white",
          "line": {
           "color": "white"
          },
          "type": "circle",
          "x0": 10.5,
          "x1": 11.5,
          "xref": "x",
          "y0": 33.5,
          "y1": 34.5,
          "yref": "y"
         },
         {
          "fillcolor": "white",
          "line": {
           "color": "white"
          },
          "type": "circle",
          "x0": 93.5,
          "x1": 94.5,
          "xref": "x",
          "y0": 33.5,
          "y1": 34.5,
          "yref": "y"
         },
         {
          "fillcolor": "white",
          "line": {
           "color": "white"
          },
          "type": "circle",
          "x0": 52,
          "x1": 53,
          "xref": "x",
          "y0": 33.5,
          "y1": 34.5,
          "yref": "y"
         },
         {
          "line": {
           "color": "white"
          },
          "type": "circle",
          "x0": 43.35,
          "x1": 61.65,
          "xref": "x",
          "y0": 24.85,
          "y1": 43.15,
          "yref": "y"
         },
         {
          "line": {
           "color": "white",
           "width": 2
          },
          "type": "line",
          "x0": 0,
          "x1": 105,
          "y0": 0,
          "y1": 0
         },
         {
          "line": {
           "color": "white",
           "width": 2
          },
          "type": "line",
          "x0": 0,
          "x1": 0,
          "y0": 0,
          "y1": 68
         },
         {
          "line": {
           "color": "white",
           "width": 2
          },
          "type": "line",
          "x0": 0,
          "x1": 105,
          "y0": 68,
          "y1": 68
         },
         {
          "line": {
           "color": "white",
           "width": 2
          },
          "type": "line",
          "x0": 105,
          "x1": 105,
          "y0": 0,
          "y1": 68
         },
         {
          "line": {
           "color": "white",
           "width": 2
          },
          "type": "line",
          "x0": 0,
          "x1": -2,
          "y0": 30.34,
          "y1": 30.34
         },
         {
          "line": {
           "color": "white",
           "width": 2
          },
          "type": "line",
          "x0": 0,
          "x1": -2,
          "y0": 37.66,
          "y1": 37.66
         },
         {
          "line": {
           "color": "white",
           "width": 2
          },
          "type": "line",
          "x0": -2,
          "x1": -2,
          "y0": 30.34,
          "y1": 37.66
         },
         {
          "line": {
           "color": "white",
           "width": 2
          },
          "type": "line",
          "x0": 105,
          "x1": 107,
          "y0": 30.34,
          "y1": 30.34
         },
         {
          "line": {
           "color": "white",
           "width": 2
          },
          "type": "line",
          "x0": 105,
          "x1": 107,
          "y0": 37.66,
          "y1": 37.66
         },
         {
          "line": {
           "color": "white",
           "width": 2
          },
          "type": "line",
          "x0": 107,
          "x1": 107,
          "y0": 30.34,
          "y1": 37.66
         }
        ],
        "template": {
         "data": {
          "bar": [
           {
            "error_x": {
             "color": "#2a3f5f"
            },
            "error_y": {
             "color": "#2a3f5f"
            },
            "marker": {
             "line": {
              "color": "#E5ECF6",
              "width": 0.5
             },
             "pattern": {
              "fillmode": "overlay",
              "size": 10,
              "solidity": 0.2
             }
            },
            "type": "bar"
           }
          ],
          "barpolar": [
           {
            "marker": {
             "line": {
              "color": "#E5ECF6",
              "width": 0.5
             },
             "pattern": {
              "fillmode": "overlay",
              "size": 10,
              "solidity": 0.2
             }
            },
            "type": "barpolar"
           }
          ],
          "carpet": [
           {
            "aaxis": {
             "endlinecolor": "#2a3f5f",
             "gridcolor": "white",
             "linecolor": "white",
             "minorgridcolor": "white",
             "startlinecolor": "#2a3f5f"
            },
            "baxis": {
             "endlinecolor": "#2a3f5f",
             "gridcolor": "white",
             "linecolor": "white",
             "minorgridcolor": "white",
             "startlinecolor": "#2a3f5f"
            },
            "type": "carpet"
           }
          ],
          "choropleth": [
           {
            "colorbar": {
             "outlinewidth": 0,
             "ticks": ""
            },
            "type": "choropleth"
           }
          ],
          "contour": [
           {
            "colorbar": {
             "outlinewidth": 0,
             "ticks": ""
            },
            "colorscale": [
             [
              0,
              "#0d0887"
             ],
             [
              0.1111111111111111,
              "#46039f"
             ],
             [
              0.2222222222222222,
              "#7201a8"
             ],
             [
              0.3333333333333333,
              "#9c179e"
             ],
             [
              0.4444444444444444,
              "#bd3786"
             ],
             [
              0.5555555555555556,
              "#d8576b"
             ],
             [
              0.6666666666666666,
              "#ed7953"
             ],
             [
              0.7777777777777778,
              "#fb9f3a"
             ],
             [
              0.8888888888888888,
              "#fdca26"
             ],
             [
              1,
              "#f0f921"
             ]
            ],
            "type": "contour"
           }
          ],
          "contourcarpet": [
           {
            "colorbar": {
             "outlinewidth": 0,
             "ticks": ""
            },
            "type": "contourcarpet"
           }
          ],
          "heatmap": [
           {
            "colorbar": {
             "outlinewidth": 0,
             "ticks": ""
            },
            "colorscale": [
             [
              0,
              "#0d0887"
             ],
             [
              0.1111111111111111,
              "#46039f"
             ],
             [
              0.2222222222222222,
              "#7201a8"
             ],
             [
              0.3333333333333333,
              "#9c179e"
             ],
             [
              0.4444444444444444,
              "#bd3786"
             ],
             [
              0.5555555555555556,
              "#d8576b"
             ],
             [
              0.6666666666666666,
              "#ed7953"
             ],
             [
              0.7777777777777778,
              "#fb9f3a"
             ],
             [
              0.8888888888888888,
              "#fdca26"
             ],
             [
              1,
              "#f0f921"
             ]
            ],
            "type": "heatmap"
           }
          ],
          "heatmapgl": [
           {
            "colorbar": {
             "outlinewidth": 0,
             "ticks": ""
            },
            "colorscale": [
             [
              0,
              "#0d0887"
             ],
             [
              0.1111111111111111,
              "#46039f"
             ],
             [
              0.2222222222222222,
              "#7201a8"
             ],
             [
              0.3333333333333333,
              "#9c179e"
             ],
             [
              0.4444444444444444,
              "#bd3786"
             ],
             [
              0.5555555555555556,
              "#d8576b"
             ],
             [
              0.6666666666666666,
              "#ed7953"
             ],
             [
              0.7777777777777778,
              "#fb9f3a"
             ],
             [
              0.8888888888888888,
              "#fdca26"
             ],
             [
              1,
              "#f0f921"
             ]
            ],
            "type": "heatmapgl"
           }
          ],
          "histogram": [
           {
            "marker": {
             "pattern": {
              "fillmode": "overlay",
              "size": 10,
              "solidity": 0.2
             }
            },
            "type": "histogram"
           }
          ],
          "histogram2d": [
           {
            "colorbar": {
             "outlinewidth": 0,
             "ticks": ""
            },
            "colorscale": [
             [
              0,
              "#0d0887"
             ],
             [
              0.1111111111111111,
              "#46039f"
             ],
             [
              0.2222222222222222,
              "#7201a8"
             ],
             [
              0.3333333333333333,
              "#9c179e"
             ],
             [
              0.4444444444444444,
              "#bd3786"
             ],
             [
              0.5555555555555556,
              "#d8576b"
             ],
             [
              0.6666666666666666,
              "#ed7953"
             ],
             [
              0.7777777777777778,
              "#fb9f3a"
             ],
             [
              0.8888888888888888,
              "#fdca26"
             ],
             [
              1,
              "#f0f921"
             ]
            ],
            "type": "histogram2d"
           }
          ],
          "histogram2dcontour": [
           {
            "colorbar": {
             "outlinewidth": 0,
             "ticks": ""
            },
            "colorscale": [
             [
              0,
              "#0d0887"
             ],
             [
              0.1111111111111111,
              "#46039f"
             ],
             [
              0.2222222222222222,
              "#7201a8"
             ],
             [
              0.3333333333333333,
              "#9c179e"
             ],
             [
              0.4444444444444444,
              "#bd3786"
             ],
             [
              0.5555555555555556,
              "#d8576b"
             ],
             [
              0.6666666666666666,
              "#ed7953"
             ],
             [
              0.7777777777777778,
              "#fb9f3a"
             ],
             [
              0.8888888888888888,
              "#fdca26"
             ],
             [
              1,
              "#f0f921"
             ]
            ],
            "type": "histogram2dcontour"
           }
          ],
          "mesh3d": [
           {
            "colorbar": {
             "outlinewidth": 0,
             "ticks": ""
            },
            "type": "mesh3d"
           }
          ],
          "parcoords": [
           {
            "line": {
             "colorbar": {
              "outlinewidth": 0,
              "ticks": ""
             }
            },
            "type": "parcoords"
           }
          ],
          "pie": [
           {
            "automargin": true,
            "type": "pie"
           }
          ],
          "scatter": [
           {
            "fillpattern": {
             "fillmode": "overlay",
             "size": 10,
             "solidity": 0.2
            },
            "type": "scatter"
           }
          ],
          "scatter3d": [
           {
            "line": {
             "colorbar": {
              "outlinewidth": 0,
              "ticks": ""
             }
            },
            "marker": {
             "colorbar": {
              "outlinewidth": 0,
              "ticks": ""
             }
            },
            "type": "scatter3d"
           }
          ],
          "scattercarpet": [
           {
            "marker": {
             "colorbar": {
              "outlinewidth": 0,
              "ticks": ""
             }
            },
            "type": "scattercarpet"
           }
          ],
          "scattergeo": [
           {
            "marker": {
             "colorbar": {
              "outlinewidth": 0,
              "ticks": ""
             }
            },
            "type": "scattergeo"
           }
          ],
          "scattergl": [
           {
            "marker": {
             "colorbar": {
              "outlinewidth": 0,
              "ticks": ""
             }
            },
            "type": "scattergl"
           }
          ],
          "scattermapbox": [
           {
            "marker": {
             "colorbar": {
              "outlinewidth": 0,
              "ticks": ""
             }
            },
            "type": "scattermapbox"
           }
          ],
          "scatterpolar": [
           {
            "marker": {
             "colorbar": {
              "outlinewidth": 0,
              "ticks": ""
             }
            },
            "type": "scatterpolar"
           }
          ],
          "scatterpolargl": [
           {
            "marker": {
             "colorbar": {
              "outlinewidth": 0,
              "ticks": ""
             }
            },
            "type": "scatterpolargl"
           }
          ],
          "scatterternary": [
           {
            "marker": {
             "colorbar": {
              "outlinewidth": 0,
              "ticks": ""
             }
            },
            "type": "scatterternary"
           }
          ],
          "surface": [
           {
            "colorbar": {
             "outlinewidth": 0,
             "ticks": ""
            },
            "colorscale": [
             [
              0,
              "#0d0887"
             ],
             [
              0.1111111111111111,
              "#46039f"
             ],
             [
              0.2222222222222222,
              "#7201a8"
             ],
             [
              0.3333333333333333,
              "#9c179e"
             ],
             [
              0.4444444444444444,
              "#bd3786"
             ],
             [
              0.5555555555555556,
              "#d8576b"
             ],
             [
              0.6666666666666666,
              "#ed7953"
             ],
             [
              0.7777777777777778,
              "#fb9f3a"
             ],
             [
              0.8888888888888888,
              "#fdca26"
             ],
             [
              1,
              "#f0f921"
             ]
            ],
            "type": "surface"
           }
          ],
          "table": [
           {
            "cells": {
             "fill": {
              "color": "#EBF0F8"
             },
             "line": {
              "color": "white"
             }
            },
            "header": {
             "fill": {
              "color": "#C8D4E3"
             },
             "line": {
              "color": "white"
             }
            },
            "type": "table"
           }
          ]
         },
         "layout": {
          "annotationdefaults": {
           "arrowcolor": "#2a3f5f",
           "arrowhead": 0,
           "arrowwidth": 1
          },
          "autotypenumbers": "strict",
          "coloraxis": {
           "colorbar": {
            "outlinewidth": 0,
            "ticks": ""
           }
          },
          "colorscale": {
           "diverging": [
            [
             0,
             "#8e0152"
            ],
            [
             0.1,
             "#c51b7d"
            ],
            [
             0.2,
             "#de77ae"
            ],
            [
             0.3,
             "#f1b6da"
            ],
            [
             0.4,
             "#fde0ef"
            ],
            [
             0.5,
             "#f7f7f7"
            ],
            [
             0.6,
             "#e6f5d0"
            ],
            [
             0.7,
             "#b8e186"
            ],
            [
             0.8,
             "#7fbc41"
            ],
            [
             0.9,
             "#4d9221"
            ],
            [
             1,
             "#276419"
            ]
           ],
           "sequential": [
            [
             0,
             "#0d0887"
            ],
            [
             0.1111111111111111,
             "#46039f"
            ],
            [
             0.2222222222222222,
             "#7201a8"
            ],
            [
             0.3333333333333333,
             "#9c179e"
            ],
            [
             0.4444444444444444,
             "#bd3786"
            ],
            [
             0.5555555555555556,
             "#d8576b"
            ],
            [
             0.6666666666666666,
             "#ed7953"
            ],
            [
             0.7777777777777778,
             "#fb9f3a"
            ],
            [
             0.8888888888888888,
             "#fdca26"
            ],
            [
             1,
             "#f0f921"
            ]
           ],
           "sequentialminus": [
            [
             0,
             "#0d0887"
            ],
            [
             0.1111111111111111,
             "#46039f"
            ],
            [
             0.2222222222222222,
             "#7201a8"
            ],
            [
             0.3333333333333333,
             "#9c179e"
            ],
            [
             0.4444444444444444,
             "#bd3786"
            ],
            [
             0.5555555555555556,
             "#d8576b"
            ],
            [
             0.6666666666666666,
             "#ed7953"
            ],
            [
             0.7777777777777778,
             "#fb9f3a"
            ],
            [
             0.8888888888888888,
             "#fdca26"
            ],
            [
             1,
             "#f0f921"
            ]
           ]
          },
          "colorway": [
           "#636efa",
           "#EF553B",
           "#00cc96",
           "#ab63fa",
           "#FFA15A",
           "#19d3f3",
           "#FF6692",
           "#B6E880",
           "#FF97FF",
           "#FECB52"
          ],
          "font": {
           "color": "#2a3f5f"
          },
          "geo": {
           "bgcolor": "white",
           "lakecolor": "white",
           "landcolor": "#E5ECF6",
           "showlakes": true,
           "showland": true,
           "subunitcolor": "white"
          },
          "hoverlabel": {
           "align": "left"
          },
          "hovermode": "closest",
          "mapbox": {
           "style": "light"
          },
          "paper_bgcolor": "white",
          "plot_bgcolor": "#E5ECF6",
          "polar": {
           "angularaxis": {
            "gridcolor": "white",
            "linecolor": "white",
            "ticks": ""
           },
           "bgcolor": "#E5ECF6",
           "radialaxis": {
            "gridcolor": "white",
            "linecolor": "white",
            "ticks": ""
           }
          },
          "scene": {
           "xaxis": {
            "backgroundcolor": "#E5ECF6",
            "gridcolor": "white",
            "gridwidth": 2,
            "linecolor": "white",
            "showbackground": true,
            "ticks": "",
            "zerolinecolor": "white"
           },
           "yaxis": {
            "backgroundcolor": "#E5ECF6",
            "gridcolor": "white",
            "gridwidth": 2,
            "linecolor": "white",
            "showbackground": true,
            "ticks": "",
            "zerolinecolor": "white"
           },
           "zaxis": {
            "backgroundcolor": "#E5ECF6",
            "gridcolor": "white",
            "gridwidth": 2,
            "linecolor": "white",
            "showbackground": true,
            "ticks": "",
            "zerolinecolor": "white"
           }
          },
          "shapedefaults": {
           "line": {
            "color": "#2a3f5f"
           }
          },
          "ternary": {
           "aaxis": {
            "gridcolor": "white",
            "linecolor": "white",
            "ticks": ""
           },
           "baxis": {
            "gridcolor": "white",
            "linecolor": "white",
            "ticks": ""
           },
           "bgcolor": "#E5ECF6",
           "caxis": {
            "gridcolor": "white",
            "linecolor": "white",
            "ticks": ""
           }
          },
          "title": {
           "x": 0.05
          },
          "xaxis": {
           "automargin": true,
           "gridcolor": "white",
           "linecolor": "white",
           "ticks": "",
           "title": {
            "standoff": 15
           },
           "zerolinecolor": "white",
           "zerolinewidth": 2
          },
          "yaxis": {
           "automargin": true,
           "gridcolor": "white",
           "linecolor": "white",
           "ticks": "",
           "title": {
            "standoff": 15
           },
           "zerolinecolor": "white",
           "zerolinewidth": 2
          }
         }
        },
        "title": {
         "text": "Posição dos chutes",
         "x": 0.5,
         "xanchor": "center",
         "y": 0.9,
         "yanchor": "top"
        },
        "width": 840,
        "xaxis": {
         "range": [
          -5,
          110
         ],
         "showgrid": false,
         "showticklabels": false,
         "zeroline": false
        },
        "yaxis": {
         "range": [
          -5,
          73
         ],
         "showgrid": false,
         "showticklabels": false,
         "zeroline": false
        }
       }
      }
     },
     "metadata": {},
     "output_type": "display_data"
    }
   ],
   "source": [
    "share_shots = nb_shots / nb_shots.sum() * 100\n",
    "# plot the heatmap\n",
    "dict_info = {\"Proporção de chutes (em %)\": {\"values\": share_shots, \"display_type\": \".2f\"},\n",
    "             \"Número de chutes\": {\"values\": nb_shots, \"display_type\": \".0f\"}}\n",
    "fig = p.create_heatmap(x, y, share_shots, dict_info, title_name=\"Posição dos chutes\")\n",
    "fig.show()"
   ]
  },
  {
   "attachments": {},
   "cell_type": "markdown",
   "id": "1f51cd10",
   "metadata": {},
   "source": [
    "Podemos observar que a maioria dos chutes parte de dentro da área adversária, o que faz sentido. Vamos plotar agora de onde saíra os chutes que de fato resultaram em gol"
   ]
  },
  {
   "cell_type": "code",
   "execution_count": 23,
   "id": "4f93e523",
   "metadata": {},
   "outputs": [
    {
     "name": "stderr",
     "output_type": "stream",
     "text": [
      "/Users/lucasmaretti/Documents/repos/football_analytics/aux_functions_plot.py:500: FutureWarning:\n",
      "\n",
      "In a future version of pandas all arguments of DataFrame.pivot will be keyword-only.\n",
      "\n"
     ]
    },
    {
     "data": {
      "application/vnd.plotly.v1+json": {
       "config": {
        "plotlyServerURL": "https://plot.ly"
       },
       "data": [
        {
         "hoverinfo": "text",
         "text": [
          [
           "Probabilidade de marcar (em %): 0.0<br />Fração de chutes (em %): 0.00<br />Numero de chutes: 0<br />Numero de goals: 0<br />",
           "Probabilidade de marcar (em %): 66.7<br />Fração de chutes (em %): 0.01<br />Numero de chutes: 3<br />Numero de goals: 2<br />",
           "Probabilidade de marcar (em %): 0.0<br />Fração de chutes (em %): 0.00<br />Numero de chutes: 0<br />Numero de goals: 0<br />",
           "Probabilidade de marcar (em %): 0.0<br />Fração de chutes (em %): 0.00<br />Numero de chutes: 2<br />Numero de goals: 0<br />",
           "Probabilidade de marcar (em %): 0.0<br />Fração de chutes (em %): 0.00<br />Numero de chutes: 1<br />Numero de goals: 0<br />",
           "Probabilidade de marcar (em %): 0.0<br />Fração de chutes (em %): 0.00<br />Numero de chutes: 2<br />Numero de goals: 0<br />",
           "Probabilidade de marcar (em %): 0.0<br />Fração de chutes (em %): 0.00<br />Numero de chutes: 0<br />Numero de goals: 0<br />",
           "Probabilidade de marcar (em %): 0.0<br />Fração de chutes (em %): 0.00<br />Numero de chutes: 1<br />Numero de goals: 0<br />",
           "Probabilidade de marcar (em %): 0.0<br />Fração de chutes (em %): 0.00<br />Numero de chutes: 0<br />Numero de goals: 0<br />",
           "Probabilidade de marcar (em %): 0.0<br />Fração de chutes (em %): 0.00<br />Numero de chutes: 0<br />Numero de goals: 0<br />",
           "Probabilidade de marcar (em %): 0.0<br />Fração de chutes (em %): 0.00<br />Numero de chutes: 0<br />Numero de goals: 0<br />",
           "Probabilidade de marcar (em %): 0.0<br />Fração de chutes (em %): 0.00<br />Numero de chutes: 1<br />Numero de goals: 0<br />",
           "Probabilidade de marcar (em %): 0.0<br />Fração de chutes (em %): 0.00<br />Numero de chutes: 1<br />Numero de goals: 0<br />",
           "Probabilidade de marcar (em %): 0.0<br />Fração de chutes (em %): 0.01<br />Numero de chutes: 6<br />Numero de goals: 0<br />",
           "Probabilidade de marcar (em %): 0.0<br />Fração de chutes (em %): 0.00<br />Numero de chutes: 1<br />Numero de goals: 0<br />",
           "Probabilidade de marcar (em %): 0.0<br />Fração de chutes (em %): 0.00<br />Numero de chutes: 1<br />Numero de goals: 0<br />",
           "Probabilidade de marcar (em %): 0.0<br />Fração de chutes (em %): 0.00<br />Numero de chutes: 0<br />Numero de goals: 0<br />",
           "Probabilidade de marcar (em %): 0.0<br />Fração de chutes (em %): 0.00<br />Numero de chutes: 0<br />Numero de goals: 0<br />",
           "Probabilidade de marcar (em %): 0.0<br />Fração de chutes (em %): 0.00<br />Numero de chutes: 0<br />Numero de goals: 0<br />",
           "Probabilidade de marcar (em %): 0.0<br />Fração de chutes (em %): 0.00<br />Numero de chutes: 0<br />Numero de goals: 0<br />",
           "Probabilidade de marcar (em %): 0.0<br />Fração de chutes (em %): 0.00<br />Numero de chutes: 0<br />Numero de goals: 0<br />",
           "Probabilidade de marcar (em %): 0.0<br />Fração de chutes (em %): 0.00<br />Numero de chutes: 0<br />Numero de goals: 0<br />",
           "Probabilidade de marcar (em %): 0.0<br />Fração de chutes (em %): 0.00<br />Numero de chutes: 0<br />Numero de goals: 0<br />",
           "Probabilidade de marcar (em %): 0.0<br />Fração de chutes (em %): 0.00<br />Numero de chutes: 0<br />Numero de goals: 0<br />"
          ],
          [
           "Probabilidade de marcar (em %): 0.0<br />Fração de chutes (em %): 0.00<br />Numero de chutes: 0<br />Numero de goals: 0<br />",
           "Probabilidade de marcar (em %): 0.0<br />Fração de chutes (em %): 0.02<br />Numero de chutes: 7<br />Numero de goals: 0<br />",
           "Probabilidade de marcar (em %): 0.0<br />Fração de chutes (em %): 0.01<br />Numero de chutes: 5<br />Numero de goals: 0<br />",
           "Probabilidade de marcar (em %): 0.0<br />Fração de chutes (em %): 0.01<br />Numero de chutes: 6<br />Numero de goals: 0<br />",
           "Probabilidade de marcar (em %): 0.0<br />Fração de chutes (em %): 0.01<br />Numero de chutes: 6<br />Numero de goals: 0<br />",
           "Probabilidade de marcar (em %): 9.1<br />Fração de chutes (em %): 0.02<br />Numero de chutes: 11<br />Numero de goals: 1<br />",
           "Probabilidade de marcar (em %): 16.7<br />Fração de chutes (em %): 0.01<br />Numero de chutes: 6<br />Numero de goals: 1<br />",
           "Probabilidade de marcar (em %): 0.0<br />Fração de chutes (em %): 0.01<br />Numero de chutes: 4<br />Numero de goals: 0<br />",
           "Probabilidade de marcar (em %): 25.0<br />Fração de chutes (em %): 0.01<br />Numero de chutes: 4<br />Numero de goals: 1<br />",
           "Probabilidade de marcar (em %): 0.0<br />Fração de chutes (em %): 0.00<br />Numero de chutes: 2<br />Numero de goals: 0<br />",
           "Probabilidade de marcar (em %): 0.0<br />Fração de chutes (em %): 0.00<br />Numero de chutes: 0<br />Numero de goals: 0<br />",
           "Probabilidade de marcar (em %): 0.0<br />Fração de chutes (em %): 0.00<br />Numero de chutes: 0<br />Numero de goals: 0<br />",
           "Probabilidade de marcar (em %): 0.0<br />Fração de chutes (em %): 0.00<br />Numero de chutes: 1<br />Numero de goals: 0<br />",
           "Probabilidade de marcar (em %): 0.0<br />Fração de chutes (em %): 0.00<br />Numero de chutes: 0<br />Numero de goals: 0<br />",
           "Probabilidade de marcar (em %): 0.0<br />Fração de chutes (em %): 0.00<br />Numero de chutes: 1<br />Numero de goals: 0<br />",
           "Probabilidade de marcar (em %): 0.0<br />Fração de chutes (em %): 0.00<br />Numero de chutes: 0<br />Numero de goals: 0<br />",
           "Probabilidade de marcar (em %): 0.0<br />Fração de chutes (em %): 0.00<br />Numero de chutes: 0<br />Numero de goals: 0<br />",
           "Probabilidade de marcar (em %): 0.0<br />Fração de chutes (em %): 0.00<br />Numero de chutes: 0<br />Numero de goals: 0<br />",
           "Probabilidade de marcar (em %): 0.0<br />Fração de chutes (em %): 0.00<br />Numero de chutes: 0<br />Numero de goals: 0<br />",
           "Probabilidade de marcar (em %): 0.0<br />Fração de chutes (em %): 0.00<br />Numero de chutes: 0<br />Numero de goals: 0<br />",
           "Probabilidade de marcar (em %): 0.0<br />Fração de chutes (em %): 0.00<br />Numero de chutes: 0<br />Numero de goals: 0<br />",
           "Probabilidade de marcar (em %): 0.0<br />Fração de chutes (em %): 0.00<br />Numero de chutes: 0<br />Numero de goals: 0<br />",
           "Probabilidade de marcar (em %): 0.0<br />Fração de chutes (em %): 0.00<br />Numero de chutes: 0<br />Numero de goals: 0<br />",
           "Probabilidade de marcar (em %): 0.0<br />Fração de chutes (em %): 0.00<br />Numero de chutes: 0<br />Numero de goals: 0<br />"
          ],
          [
           "Probabilidade de marcar (em %): 0.0<br />Fração de chutes (em %): 0.01<br />Numero de chutes: 5<br />Numero de goals: 0<br />",
           "Probabilidade de marcar (em %): 0.0<br />Fração de chutes (em %): 0.04<br />Numero de chutes: 19<br />Numero de goals: 0<br />",
           "Probabilidade de marcar (em %): 12.5<br />Fração de chutes (em %): 0.09<br />Numero de chutes: 40<br />Numero de goals: 5<br />",
           "Probabilidade de marcar (em %): 16.7<br />Fração de chutes (em %): 0.05<br />Numero de chutes: 24<br />Numero de goals: 4<br />",
           "Probabilidade de marcar (em %): 4.5<br />Fração de chutes (em %): 0.05<br />Numero de chutes: 22<br />Numero de goals: 1<br />",
           "Probabilidade de marcar (em %): 0.0<br />Fração de chutes (em %): 0.09<br />Numero de chutes: 39<br />Numero de goals: 0<br />",
           "Probabilidade de marcar (em %): 0.0<br />Fração de chutes (em %): 0.07<br />Numero de chutes: 33<br />Numero de goals: 0<br />",
           "Probabilidade de marcar (em %): 10.0<br />Fração de chutes (em %): 0.02<br />Numero de chutes: 10<br />Numero de goals: 1<br />",
           "Probabilidade de marcar (em %): 16.7<br />Fração de chutes (em %): 0.01<br />Numero de chutes: 6<br />Numero de goals: 1<br />",
           "Probabilidade de marcar (em %): 0.0<br />Fração de chutes (em %): 0.00<br />Numero de chutes: 0<br />Numero de goals: 0<br />",
           "Probabilidade de marcar (em %): 0.0<br />Fração de chutes (em %): 0.00<br />Numero de chutes: 1<br />Numero de goals: 0<br />",
           "Probabilidade de marcar (em %): 0.0<br />Fração de chutes (em %): 0.00<br />Numero de chutes: 2<br />Numero de goals: 0<br />",
           "Probabilidade de marcar (em %): 0.0<br />Fração de chutes (em %): 0.00<br />Numero de chutes: 1<br />Numero de goals: 0<br />",
           "Probabilidade de marcar (em %): 0.0<br />Fração de chutes (em %): 0.00<br />Numero de chutes: 0<br />Numero de goals: 0<br />",
           "Probabilidade de marcar (em %): 0.0<br />Fração de chutes (em %): 0.00<br />Numero de chutes: 0<br />Numero de goals: 0<br />",
           "Probabilidade de marcar (em %): 0.0<br />Fração de chutes (em %): 0.00<br />Numero de chutes: 0<br />Numero de goals: 0<br />",
           "Probabilidade de marcar (em %): 0.0<br />Fração de chutes (em %): 0.00<br />Numero de chutes: 0<br />Numero de goals: 0<br />",
           "Probabilidade de marcar (em %): 0.0<br />Fração de chutes (em %): 0.00<br />Numero de chutes: 0<br />Numero de goals: 0<br />",
           "Probabilidade de marcar (em %): 0.0<br />Fração de chutes (em %): 0.00<br />Numero de chutes: 0<br />Numero de goals: 0<br />",
           "Probabilidade de marcar (em %): 0.0<br />Fração de chutes (em %): 0.00<br />Numero de chutes: 0<br />Numero de goals: 0<br />",
           "Probabilidade de marcar (em %): 0.0<br />Fração de chutes (em %): 0.00<br />Numero de chutes: 0<br />Numero de goals: 0<br />",
           "Probabilidade de marcar (em %): 0.0<br />Fração de chutes (em %): 0.00<br />Numero de chutes: 0<br />Numero de goals: 0<br />",
           "Probabilidade de marcar (em %): 0.0<br />Fração de chutes (em %): 0.00<br />Numero de chutes: 0<br />Numero de goals: 0<br />",
           "Probabilidade de marcar (em %): 0.0<br />Fração de chutes (em %): 0.00<br />Numero de chutes: 0<br />Numero de goals: 0<br />"
          ],
          [
           "Probabilidade de marcar (em %): 0.0<br />Fração de chutes (em %): 0.00<br />Numero de chutes: 2<br />Numero de goals: 0<br />",
           "Probabilidade de marcar (em %): 3.8<br />Fração de chutes (em %): 0.06<br />Numero de chutes: 26<br />Numero de goals: 1<br />",
           "Probabilidade de marcar (em %): 5.3<br />Fração de chutes (em %): 0.17<br />Numero de chutes: 76<br />Numero de goals: 4<br />",
           "Probabilidade de marcar (em %): 4.3<br />Fração de chutes (em %): 0.15<br />Numero de chutes: 70<br />Numero de goals: 3<br />",
           "Probabilidade de marcar (em %): 2.1<br />Fração de chutes (em %): 0.21<br />Numero de chutes: 96<br />Numero de goals: 2<br />",
           "Probabilidade de marcar (em %): 0.5<br />Fração de chutes (em %): 0.46<br />Numero de chutes: 207<br />Numero de goals: 1<br />",
           "Probabilidade de marcar (em %): 0.8<br />Fração de chutes (em %): 0.29<br />Numero de chutes: 130<br />Numero de goals: 1<br />",
           "Probabilidade de marcar (em %): 2.2<br />Fração de chutes (em %): 0.10<br />Numero de chutes: 46<br />Numero de goals: 1<br />",
           "Probabilidade de marcar (em %): 0.0<br />Fração de chutes (em %): 0.02<br />Numero de chutes: 7<br />Numero de goals: 0<br />",
           "Probabilidade de marcar (em %): 0.0<br />Fração de chutes (em %): 0.01<br />Numero de chutes: 3<br />Numero de goals: 0<br />",
           "Probabilidade de marcar (em %): 0.0<br />Fração de chutes (em %): 0.01<br />Numero de chutes: 3<br />Numero de goals: 0<br />",
           "Probabilidade de marcar (em %): 0.0<br />Fração de chutes (em %): 0.00<br />Numero de chutes: 1<br />Numero de goals: 0<br />",
           "Probabilidade de marcar (em %): 0.0<br />Fração de chutes (em %): 0.00<br />Numero de chutes: 1<br />Numero de goals: 0<br />",
           "Probabilidade de marcar (em %): 0.0<br />Fração de chutes (em %): 0.00<br />Numero de chutes: 0<br />Numero de goals: 0<br />",
           "Probabilidade de marcar (em %): 0.0<br />Fração de chutes (em %): 0.00<br />Numero de chutes: 1<br />Numero de goals: 0<br />",
           "Probabilidade de marcar (em %): 0.0<br />Fração de chutes (em %): 0.00<br />Numero de chutes: 0<br />Numero de goals: 0<br />",
           "Probabilidade de marcar (em %): 0.0<br />Fração de chutes (em %): 0.00<br />Numero de chutes: 0<br />Numero de goals: 0<br />",
           "Probabilidade de marcar (em %): 0.0<br />Fração de chutes (em %): 0.00<br />Numero de chutes: 0<br />Numero de goals: 0<br />",
           "Probabilidade de marcar (em %): 0.0<br />Fração de chutes (em %): 0.00<br />Numero de chutes: 0<br />Numero de goals: 0<br />",
           "Probabilidade de marcar (em %): 0.0<br />Fração de chutes (em %): 0.00<br />Numero de chutes: 0<br />Numero de goals: 0<br />",
           "Probabilidade de marcar (em %): 0.0<br />Fração de chutes (em %): 0.00<br />Numero de chutes: 0<br />Numero de goals: 0<br />",
           "Probabilidade de marcar (em %): 0.0<br />Fração de chutes (em %): 0.00<br />Numero de chutes: 0<br />Numero de goals: 0<br />",
           "Probabilidade de marcar (em %): 0.0<br />Fração de chutes (em %): 0.00<br />Numero de chutes: 0<br />Numero de goals: 0<br />",
           "Probabilidade de marcar (em %): 0.0<br />Fração de chutes (em %): 0.00<br />Numero de chutes: 0<br />Numero de goals: 0<br />"
          ],
          [
           "Probabilidade de marcar (em %): 2.0<br />Fração de chutes (em %): 0.11<br />Numero de chutes: 49<br />Numero de goals: 1<br />",
           "Probabilidade de marcar (em %): 1.3<br />Fração de chutes (em %): 0.53<br />Numero de chutes: 239<br />Numero de goals: 3<br />",
           "Probabilidade de marcar (em %): 6.0<br />Fração de chutes (em %): 1.32<br />Numero de chutes: 600<br />Numero de goals: 36<br />",
           "Probabilidade de marcar (em %): 3.9<br />Fração de chutes (em %): 0.86<br />Numero de chutes: 388<br />Numero de goals: 15<br />",
           "Probabilidade de marcar (em %): 2.5<br />Fração de chutes (em %): 0.87<br />Numero de chutes: 393<br />Numero de goals: 10<br />",
           "Probabilidade de marcar (em %): 2.1<br />Fração de chutes (em %): 1.35<br />Numero de chutes: 613<br />Numero de goals: 13<br />",
           "Probabilidade de marcar (em %): 1.9<br />Fração de chutes (em %): 0.69<br />Numero de chutes: 311<br />Numero de goals: 6<br />",
           "Probabilidade de marcar (em %): 0.0<br />Fração de chutes (em %): 0.21<br />Numero de chutes: 94<br />Numero de goals: 0<br />",
           "Probabilidade de marcar (em %): 0.0<br />Fração de chutes (em %): 0.02<br />Numero de chutes: 8<br />Numero de goals: 0<br />",
           "Probabilidade de marcar (em %): 0.0<br />Fração de chutes (em %): 0.01<br />Numero de chutes: 3<br />Numero de goals: 0<br />",
           "Probabilidade de marcar (em %): 0.0<br />Fração de chutes (em %): 0.00<br />Numero de chutes: 2<br />Numero de goals: 0<br />",
           "Probabilidade de marcar (em %): 25.0<br />Fração de chutes (em %): 0.01<br />Numero de chutes: 4<br />Numero de goals: 1<br />",
           "Probabilidade de marcar (em %): 0.0<br />Fração de chutes (em %): 0.00<br />Numero de chutes: 1<br />Numero de goals: 0<br />",
           "Probabilidade de marcar (em %): 0.0<br />Fração de chutes (em %): 0.01<br />Numero de chutes: 3<br />Numero de goals: 0<br />",
           "Probabilidade de marcar (em %): 0.0<br />Fração de chutes (em %): 0.01<br />Numero de chutes: 3<br />Numero de goals: 0<br />",
           "Probabilidade de marcar (em %): 0.0<br />Fração de chutes (em %): 0.00<br />Numero de chutes: 1<br />Numero de goals: 0<br />",
           "Probabilidade de marcar (em %): 0.0<br />Fração de chutes (em %): 0.00<br />Numero de chutes: 1<br />Numero de goals: 0<br />",
           "Probabilidade de marcar (em %): 0.0<br />Fração de chutes (em %): 0.00<br />Numero de chutes: 0<br />Numero de goals: 0<br />",
           "Probabilidade de marcar (em %): 0.0<br />Fração de chutes (em %): 0.00<br />Numero de chutes: 0<br />Numero de goals: 0<br />",
           "Probabilidade de marcar (em %): 0.0<br />Fração de chutes (em %): 0.00<br />Numero de chutes: 0<br />Numero de goals: 0<br />",
           "Probabilidade de marcar (em %): 0.0<br />Fração de chutes (em %): 0.00<br />Numero de chutes: 0<br />Numero de goals: 0<br />",
           "Probabilidade de marcar (em %): 0.0<br />Fração de chutes (em %): 0.00<br />Numero de chutes: 0<br />Numero de goals: 0<br />",
           "Probabilidade de marcar (em %): 0.0<br />Fração de chutes (em %): 0.00<br />Numero de chutes: 0<br />Numero de goals: 0<br />",
           "Probabilidade de marcar (em %): 0.0<br />Fração de chutes (em %): 0.00<br />Numero de chutes: 0<br />Numero de goals: 0<br />"
          ],
          [
           "Probabilidade de marcar (em %): 7.8<br />Fração de chutes (em %): 0.37<br />Numero de chutes: 167<br />Numero de goals: 13<br />",
           "Probabilidade de marcar (em %): 8.1<br />Fração de chutes (em %): 1.39<br />Numero de chutes: 628<br />Numero de goals: 51<br />",
           "Probabilidade de marcar (em %): 9.7<br />Fração de chutes (em %): 3.01<br />Numero de chutes: 1365<br />Numero de goals: 132<br />",
           "Probabilidade de marcar (em %): 5.5<br />Fração de chutes (em %): 1.63<br />Numero de chutes: 739<br />Numero de goals: 41<br />",
           "Probabilidade de marcar (em %): 3.4<br />Fração de chutes (em %): 1.42<br />Numero de chutes: 645<br />Numero de goals: 22<br />",
           "Probabilidade de marcar (em %): 2.9<br />Fração de chutes (em %): 1.98<br />Numero de chutes: 897<br />Numero de goals: 26<br />",
           "Probabilidade de marcar (em %): 1.3<br />Fração de chutes (em %): 1.05<br />Numero de chutes: 476<br />Numero de goals: 6<br />",
           "Probabilidade de marcar (em %): 1.5<br />Fração de chutes (em %): 0.29<br />Numero de chutes: 130<br />Numero de goals: 2<br />",
           "Probabilidade de marcar (em %): 0.0<br />Fração de chutes (em %): 0.04<br />Numero de chutes: 19<br />Numero de goals: 0<br />",
           "Probabilidade de marcar (em %): 0.0<br />Fração de chutes (em %): 0.01<br />Numero de chutes: 5<br />Numero de goals: 0<br />",
           "Probabilidade de marcar (em %): 0.0<br />Fração de chutes (em %): 0.01<br />Numero de chutes: 3<br />Numero de goals: 0<br />",
           "Probabilidade de marcar (em %): 33.3<br />Fração de chutes (em %): 0.01<br />Numero de chutes: 3<br />Numero de goals: 1<br />",
           "Probabilidade de marcar (em %): 0.0<br />Fração de chutes (em %): 0.00<br />Numero de chutes: 0<br />Numero de goals: 0<br />",
           "Probabilidade de marcar (em %): 0.0<br />Fração de chutes (em %): 0.01<br />Numero de chutes: 4<br />Numero de goals: 0<br />",
           "Probabilidade de marcar (em %): 0.0<br />Fração de chutes (em %): 0.01<br />Numero de chutes: 4<br />Numero de goals: 0<br />",
           "Probabilidade de marcar (em %): 0.0<br />Fração de chutes (em %): 0.00<br />Numero de chutes: 1<br />Numero de goals: 0<br />",
           "Probabilidade de marcar (em %): 0.0<br />Fração de chutes (em %): 0.00<br />Numero de chutes: 0<br />Numero de goals: 0<br />",
           "Probabilidade de marcar (em %): 0.0<br />Fração de chutes (em %): 0.00<br />Numero de chutes: 0<br />Numero de goals: 0<br />",
           "Probabilidade de marcar (em %): 0.0<br />Fração de chutes (em %): 0.00<br />Numero de chutes: 0<br />Numero de goals: 0<br />",
           "Probabilidade de marcar (em %): 0.0<br />Fração de chutes (em %): 0.00<br />Numero de chutes: 0<br />Numero de goals: 0<br />",
           "Probabilidade de marcar (em %): 0.0<br />Fração de chutes (em %): 0.00<br />Numero de chutes: 0<br />Numero de goals: 0<br />",
           "Probabilidade de marcar (em %): 0.0<br />Fração de chutes (em %): 0.00<br />Numero de chutes: 1<br />Numero de goals: 0<br />",
           "Probabilidade de marcar (em %): 0.0<br />Fração de chutes (em %): 0.00<br />Numero de chutes: 0<br />Numero de goals: 0<br />",
           "Probabilidade de marcar (em %): 0.0<br />Fração de chutes (em %): 0.00<br />Numero de chutes: 0<br />Numero de goals: 0<br />"
          ],
          [
           "Probabilidade de marcar (em %): 18.6<br />Fração de chutes (em %): 0.65<br />Numero de chutes: 296<br />Numero de goals: 55<br />",
           "Probabilidade de marcar (em %): 17.0<br />Fração de chutes (em %): 1.71<br />Numero de chutes: 776<br />Numero de goals: 132<br />",
           "Probabilidade de marcar (em %): 14.0<br />Fração de chutes (em %): 3.41<br />Numero de chutes: 1543<br />Numero de goals: 216<br />",
           "Probabilidade de marcar (em %): 8.9<br />Fração de chutes (em %): 1.67<br />Numero de chutes: 755<br />Numero de goals: 67<br />",
           "Probabilidade de marcar (em %): 5.5<br />Fração de chutes (em %): 1.29<br />Numero de chutes: 583<br />Numero de goals: 32<br />",
           "Probabilidade de marcar (em %): 3.3<br />Fração de chutes (em %): 2.08<br />Numero de chutes: 941<br />Numero de goals: 31<br />",
           "Probabilidade de marcar (em %): 2.5<br />Fração de chutes (em %): 1.15<br />Numero de chutes: 522<br />Numero de goals: 13<br />",
           "Probabilidade de marcar (em %): 3.4<br />Fração de chutes (em %): 0.39<br />Numero de chutes: 178<br />Numero de goals: 6<br />",
           "Probabilidade de marcar (em %): 0.0<br />Fração de chutes (em %): 0.05<br />Numero de chutes: 22<br />Numero de goals: 0<br />",
           "Probabilidade de marcar (em %): 0.0<br />Fração de chutes (em %): 0.01<br />Numero de chutes: 4<br />Numero de goals: 0<br />",
           "Probabilidade de marcar (em %): 0.0<br />Fração de chutes (em %): 0.00<br />Numero de chutes: 2<br />Numero de goals: 0<br />",
           "Probabilidade de marcar (em %): 0.0<br />Fração de chutes (em %): 0.00<br />Numero de chutes: 2<br />Numero de goals: 0<br />",
           "Probabilidade de marcar (em %): 0.0<br />Fração de chutes (em %): 0.00<br />Numero de chutes: 2<br />Numero de goals: 0<br />",
           "Probabilidade de marcar (em %): 33.3<br />Fração de chutes (em %): 0.01<br />Numero de chutes: 3<br />Numero de goals: 1<br />",
           "Probabilidade de marcar (em %): 0.0<br />Fração de chutes (em %): 0.00<br />Numero de chutes: 1<br />Numero de goals: 0<br />",
           "Probabilidade de marcar (em %): 0.0<br />Fração de chutes (em %): 0.00<br />Numero de chutes: 1<br />Numero de goals: 0<br />",
           "Probabilidade de marcar (em %): 0.0<br />Fração de chutes (em %): 0.00<br />Numero de chutes: 0<br />Numero de goals: 0<br />",
           "Probabilidade de marcar (em %): 0.0<br />Fração de chutes (em %): 0.00<br />Numero de chutes: 0<br />Numero de goals: 0<br />",
           "Probabilidade de marcar (em %): 0.0<br />Fração de chutes (em %): 0.00<br />Numero de chutes: 0<br />Numero de goals: 0<br />",
           "Probabilidade de marcar (em %): 0.0<br />Fração de chutes (em %): 0.00<br />Numero de chutes: 1<br />Numero de goals: 0<br />",
           "Probabilidade de marcar (em %): 0.0<br />Fração de chutes (em %): 0.00<br />Numero de chutes: 0<br />Numero de goals: 0<br />",
           "Probabilidade de marcar (em %): 0.0<br />Fração de chutes (em %): 0.00<br />Numero de chutes: 0<br />Numero de goals: 0<br />",
           "Probabilidade de marcar (em %): 0.0<br />Fração de chutes (em %): 0.00<br />Numero de chutes: 1<br />Numero de goals: 0<br />",
           "Probabilidade de marcar (em %): 0.0<br />Fração de chutes (em %): 0.00<br />Numero de chutes: 1<br />Numero de goals: 0<br />"
          ],
          [
           "Probabilidade de marcar (em %): 52.4<br />Fração de chutes (em %): 0.92<br />Numero de chutes: 418<br />Numero de goals: 219<br />",
           "Probabilidade de marcar (em %): 25.1<br />Fração de chutes (em %): 2.65<br />Numero de chutes: 1198<br />Numero de goals: 301<br />",
           "Probabilidade de marcar (em %): 14.6<br />Fração de chutes (em %): 3.83<br />Numero de chutes: 1736<br />Numero de goals: 253<br />",
           "Probabilidade de marcar (em %): 10.3<br />Fração de chutes (em %): 1.67<br />Numero de chutes: 757<br />Numero de goals: 78<br />",
           "Probabilidade de marcar (em %): 8.8<br />Fração de chutes (em %): 1.26<br />Numero de chutes: 571<br />Numero de goals: 50<br />",
           "Probabilidade de marcar (em %): 4.4<br />Fração de chutes (em %): 1.86<br />Numero de chutes: 841<br />Numero de goals: 37<br />",
           "Probabilidade de marcar (em %): 3.0<br />Fração de chutes (em %): 1.27<br />Numero de chutes: 576<br />Numero de goals: 17<br />",
           "Probabilidade de marcar (em %): 2.5<br />Fração de chutes (em %): 0.44<br />Numero de chutes: 199<br />Numero de goals: 5<br />",
           "Probabilidade de marcar (em %): 0.0<br />Fração de chutes (em %): 0.04<br />Numero de chutes: 16<br />Numero de goals: 0<br />",
           "Probabilidade de marcar (em %): 0.0<br />Fração de chutes (em %): 0.01<br />Numero de chutes: 5<br />Numero de goals: 0<br />",
           "Probabilidade de marcar (em %): 0.0<br />Fração de chutes (em %): 0.00<br />Numero de chutes: 0<br />Numero de goals: 0<br />",
           "Probabilidade de marcar (em %): 0.0<br />Fração de chutes (em %): 0.01<br />Numero de chutes: 4<br />Numero de goals: 0<br />",
           "Probabilidade de marcar (em %): 0.0<br />Fração de chutes (em %): 0.00<br />Numero de chutes: 1<br />Numero de goals: 0<br />",
           "Probabilidade de marcar (em %): 0.0<br />Fração de chutes (em %): 0.00<br />Numero de chutes: 1<br />Numero de goals: 0<br />",
           "Probabilidade de marcar (em %): 0.0<br />Fração de chutes (em %): 0.00<br />Numero de chutes: 1<br />Numero de goals: 0<br />",
           "Probabilidade de marcar (em %): 0.0<br />Fração de chutes (em %): 0.00<br />Numero de chutes: 0<br />Numero de goals: 0<br />",
           "Probabilidade de marcar (em %): 0.0<br />Fração de chutes (em %): 0.00<br />Numero de chutes: 1<br />Numero de goals: 0<br />",
           "Probabilidade de marcar (em %): 0.0<br />Fração de chutes (em %): 0.00<br />Numero de chutes: 0<br />Numero de goals: 0<br />",
           "Probabilidade de marcar (em %): 0.0<br />Fração de chutes (em %): 0.00<br />Numero de chutes: 1<br />Numero de goals: 0<br />",
           "Probabilidade de marcar (em %): 0.0<br />Fração de chutes (em %): 0.00<br />Numero de chutes: 0<br />Numero de goals: 0<br />",
           "Probabilidade de marcar (em %): 0.0<br />Fração de chutes (em %): 0.00<br />Numero de chutes: 0<br />Numero de goals: 0<br />",
           "Probabilidade de marcar (em %): 0.0<br />Fração de chutes (em %): 0.00<br />Numero de chutes: 0<br />Numero de goals: 0<br />",
           "Probabilidade de marcar (em %): 0.0<br />Fração de chutes (em %): 0.00<br />Numero de chutes: 1<br />Numero de goals: 0<br />",
           "Probabilidade de marcar (em %): 0.0<br />Fração de chutes (em %): 0.00<br />Numero de chutes: 0<br />Numero de goals: 0<br />"
          ],
          [
           "Probabilidade de marcar (em %): 61.4<br />Fração de chutes (em %): 0.82<br />Numero de chutes: 373<br />Numero de goals: 229<br />",
           "Probabilidade de marcar (em %): 29.7<br />Fração de chutes (em %): 2.56<br />Numero de chutes: 1160<br />Numero de goals: 345<br />",
           "Probabilidade de marcar (em %): 17.0<br />Fração de chutes (em %): 2.85<br />Numero de chutes: 1291<br />Numero de goals: 220<br />",
           "Probabilidade de marcar (em %): 11.2<br />Fração de chutes (em %): 1.61<br />Numero de chutes: 730<br />Numero de goals: 82<br />",
           "Probabilidade de marcar (em %): 8.7<br />Fração de chutes (em %): 1.61<br />Numero de chutes: 728<br />Numero de goals: 63<br />",
           "Probabilidade de marcar (em %): 2.7<br />Fração de chutes (em %): 1.57<br />Numero de chutes: 711<br />Numero de goals: 19<br />",
           "Probabilidade de marcar (em %): 2.9<br />Fração de chutes (em %): 1.30<br />Numero de chutes: 589<br />Numero de goals: 17<br />",
           "Probabilidade de marcar (em %): 2.6<br />Fração de chutes (em %): 0.42<br />Numero de chutes: 190<br />Numero de goals: 5<br />",
           "Probabilidade de marcar (em %): 0.0<br />Fração de chutes (em %): 0.02<br />Numero de chutes: 10<br />Numero de goals: 0<br />",
           "Probabilidade de marcar (em %): 0.0<br />Fração de chutes (em %): 0.00<br />Numero de chutes: 2<br />Numero de goals: 0<br />",
           "Probabilidade de marcar (em %): 0.0<br />Fração de chutes (em %): 0.00<br />Numero de chutes: 1<br />Numero de goals: 0<br />",
           "Probabilidade de marcar (em %): 0.0<br />Fração de chutes (em %): 0.02<br />Numero de chutes: 7<br />Numero de goals: 0<br />",
           "Probabilidade de marcar (em %): 0.0<br />Fração de chutes (em %): 0.01<br />Numero de chutes: 4<br />Numero de goals: 0<br />",
           "Probabilidade de marcar (em %): 0.0<br />Fração de chutes (em %): 0.02<br />Numero de chutes: 9<br />Numero de goals: 0<br />",
           "Probabilidade de marcar (em %): 0.0<br />Fração de chutes (em %): 0.00<br />Numero de chutes: 0<br />Numero de goals: 0<br />",
           "Probabilidade de marcar (em %): 0.0<br />Fração de chutes (em %): 0.00<br />Numero de chutes: 0<br />Numero de goals: 0<br />",
           "Probabilidade de marcar (em %): 0.0<br />Fração de chutes (em %): 0.00<br />Numero de chutes: 0<br />Numero de goals: 0<br />",
           "Probabilidade de marcar (em %): 0.0<br />Fração de chutes (em %): 0.00<br />Numero de chutes: 1<br />Numero de goals: 0<br />",
           "Probabilidade de marcar (em %): 0.0<br />Fração de chutes (em %): 0.00<br />Numero de chutes: 0<br />Numero de goals: 0<br />",
           "Probabilidade de marcar (em %): 0.0<br />Fração de chutes (em %): 0.00<br />Numero de chutes: 0<br />Numero de goals: 0<br />",
           "Probabilidade de marcar (em %): 0.0<br />Fração de chutes (em %): 0.00<br />Numero de chutes: 0<br />Numero de goals: 0<br />",
           "Probabilidade de marcar (em %): 0.0<br />Fração de chutes (em %): 0.00<br />Numero de chutes: 0<br />Numero de goals: 0<br />",
           "Probabilidade de marcar (em %): 33.3<br />Fração de chutes (em %): 0.01<br />Numero de chutes: 3<br />Numero de goals: 1<br />",
           "Probabilidade de marcar (em %): 100.0<br />Fração de chutes (em %): 0.00<br />Numero de chutes: 2<br />Numero de goals: 2<br />"
          ],
          [
           "Probabilidade de marcar (em %): 41.7<br />Fração de chutes (em %): 0.81<br />Numero de chutes: 369<br />Numero de goals: 154<br />",
           "Probabilidade de marcar (em %): 25.6<br />Fração de chutes (em %): 2.54<br />Numero de chutes: 1151<br />Numero de goals: 295<br />",
           "Probabilidade de marcar (em %): 15.7<br />Fração de chutes (em %): 3.65<br />Numero de chutes: 1653<br />Numero de goals: 259<br />",
           "Probabilidade de marcar (em %): 12.7<br />Fração de chutes (em %): 1.56<br />Numero de chutes: 708<br />Numero de goals: 90<br />",
           "Probabilidade de marcar (em %): 7.1<br />Fração de chutes (em %): 1.19<br />Numero de chutes: 537<br />Numero de goals: 38<br />",
           "Probabilidade de marcar (em %): 3.7<br />Fração de chutes (em %): 1.81<br />Numero de chutes: 821<br />Numero de goals: 30<br />",
           "Probabilidade de marcar (em %): 3.0<br />Fração de chutes (em %): 1.38<br />Numero de chutes: 627<br />Numero de goals: 19<br />",
           "Probabilidade de marcar (em %): 1.6<br />Fração de chutes (em %): 0.42<br />Numero de chutes: 190<br />Numero de goals: 3<br />",
           "Probabilidade de marcar (em %): 0.0<br />Fração de chutes (em %): 0.03<br />Numero de chutes: 13<br />Numero de goals: 0<br />",
           "Probabilidade de marcar (em %): 25.0<br />Fração de chutes (em %): 0.01<br />Numero de chutes: 4<br />Numero de goals: 1<br />",
           "Probabilidade de marcar (em %): 0.0<br />Fração de chutes (em %): 0.01<br />Numero de chutes: 3<br />Numero de goals: 0<br />",
           "Probabilidade de marcar (em %): 0.0<br />Fração de chutes (em %): 0.00<br />Numero de chutes: 0<br />Numero de goals: 0<br />",
           "Probabilidade de marcar (em %): 0.0<br />Fração de chutes (em %): 0.02<br />Numero de chutes: 8<br />Numero de goals: 0<br />",
           "Probabilidade de marcar (em %): 0.0<br />Fração de chutes (em %): 0.00<br />Numero de chutes: 2<br />Numero de goals: 0<br />",
           "Probabilidade de marcar (em %): 0.0<br />Fração de chutes (em %): 0.00<br />Numero de chutes: 0<br />Numero de goals: 0<br />",
           "Probabilidade de marcar (em %): 0.0<br />Fração de chutes (em %): 0.00<br />Numero de chutes: 2<br />Numero de goals: 0<br />",
           "Probabilidade de marcar (em %): 0.0<br />Fração de chutes (em %): 0.00<br />Numero de chutes: 1<br />Numero de goals: 0<br />",
           "Probabilidade de marcar (em %): 0.0<br />Fração de chutes (em %): 0.00<br />Numero de chutes: 0<br />Numero de goals: 0<br />",
           "Probabilidade de marcar (em %): 0.0<br />Fração de chutes (em %): 0.00<br />Numero de chutes: 0<br />Numero de goals: 0<br />",
           "Probabilidade de marcar (em %): 0.0<br />Fração de chutes (em %): 0.00<br />Numero de chutes: 0<br />Numero de goals: 0<br />",
           "Probabilidade de marcar (em %): 0.0<br />Fração de chutes (em %): 0.00<br />Numero de chutes: 0<br />Numero de goals: 0<br />",
           "Probabilidade de marcar (em %): 0.0<br />Fração de chutes (em %): 0.00<br />Numero de chutes: 2<br />Numero de goals: 0<br />",
           "Probabilidade de marcar (em %): 0.0<br />Fração de chutes (em %): 0.00<br />Numero de chutes: 1<br />Numero de goals: 0<br />",
           "Probabilidade de marcar (em %): 0.0<br />Fração de chutes (em %): 0.00<br />Numero de chutes: 0<br />Numero de goals: 0<br />"
          ],
          [
           "Probabilidade de marcar (em %): 16.4<br />Fração de chutes (em %): 0.64<br />Numero de chutes: 292<br />Numero de goals: 48<br />",
           "Probabilidade de marcar (em %): 16.1<br />Fração de chutes (em %): 1.64<br />Numero de chutes: 741<br />Numero de goals: 119<br />",
           "Probabilidade de marcar (em %): 12.8<br />Fração de chutes (em %): 3.25<br />Numero de chutes: 1473<br />Numero de goals: 189<br />",
           "Probabilidade de marcar (em %): 8.9<br />Fração de chutes (em %): 1.51<br />Numero de chutes: 682<br />Numero de goals: 61<br />",
           "Probabilidade de marcar (em %): 5.0<br />Fração de chutes (em %): 1.12<br />Numero de chutes: 505<br />Numero de goals: 25<br />",
           "Probabilidade de marcar (em %): 3.6<br />Fração de chutes (em %): 2.09<br />Numero de chutes: 946<br />Numero de goals: 34<br />",
           "Probabilidade de marcar (em %): 2.2<br />Fração de chutes (em %): 1.22<br />Numero de chutes: 552<br />Numero de goals: 12<br />",
           "Probabilidade de marcar (em %): 2.9<br />Fração de chutes (em %): 0.30<br />Numero de chutes: 138<br />Numero de goals: 4<br />",
           "Probabilidade de marcar (em %): 0.0<br />Fração de chutes (em %): 0.06<br />Numero de chutes: 26<br />Numero de goals: 0<br />",
           "Probabilidade de marcar (em %): 0.0<br />Fração de chutes (em %): 0.01<br />Numero de chutes: 4<br />Numero de goals: 0<br />",
           "Probabilidade de marcar (em %): 0.0<br />Fração de chutes (em %): 0.01<br />Numero de chutes: 3<br />Numero de goals: 0<br />",
           "Probabilidade de marcar (em %): 0.0<br />Fração de chutes (em %): 0.00<br />Numero de chutes: 2<br />Numero de goals: 0<br />",
           "Probabilidade de marcar (em %): 0.0<br />Fração de chutes (em %): 0.00<br />Numero de chutes: 2<br />Numero de goals: 0<br />",
           "Probabilidade de marcar (em %): 0.0<br />Fração de chutes (em %): 0.00<br />Numero de chutes: 2<br />Numero de goals: 0<br />",
           "Probabilidade de marcar (em %): 0.0<br />Fração de chutes (em %): 0.00<br />Numero de chutes: 0<br />Numero de goals: 0<br />",
           "Probabilidade de marcar (em %): 0.0<br />Fração de chutes (em %): 0.00<br />Numero de chutes: 0<br />Numero de goals: 0<br />",
           "Probabilidade de marcar (em %): 0.0<br />Fração de chutes (em %): 0.00<br />Numero de chutes: 0<br />Numero de goals: 0<br />",
           "Probabilidade de marcar (em %): 0.0<br />Fração de chutes (em %): 0.00<br />Numero de chutes: 0<br />Numero de goals: 0<br />",
           "Probabilidade de marcar (em %): 0.0<br />Fração de chutes (em %): 0.00<br />Numero de chutes: 0<br />Numero de goals: 0<br />",
           "Probabilidade de marcar (em %): 0.0<br />Fração de chutes (em %): 0.00<br />Numero de chutes: 0<br />Numero de goals: 0<br />",
           "Probabilidade de marcar (em %): 0.0<br />Fração de chutes (em %): 0.00<br />Numero de chutes: 1<br />Numero de goals: 0<br />",
           "Probabilidade de marcar (em %): 0.0<br />Fração de chutes (em %): 0.00<br />Numero de chutes: 2<br />Numero de goals: 0<br />",
           "Probabilidade de marcar (em %): 0.0<br />Fração de chutes (em %): 0.00<br />Numero de chutes: 0<br />Numero de goals: 0<br />",
           "Probabilidade de marcar (em %): 0.0<br />Fração de chutes (em %): 0.00<br />Numero de chutes: 1<br />Numero de goals: 0<br />"
          ],
          [
           "Probabilidade de marcar (em %): 3.4<br />Fração de chutes (em %): 0.39<br />Numero de chutes: 177<br />Numero de goals: 6<br />",
           "Probabilidade de marcar (em %): 8.6<br />Fração de chutes (em %): 1.36<br />Numero de chutes: 618<br />Numero de goals: 53<br />",
           "Probabilidade de marcar (em %): 8.6<br />Fração de chutes (em %): 2.53<br />Numero de chutes: 1147<br />Numero de goals: 99<br />",
           "Probabilidade de marcar (em %): 5.7<br />Fração de chutes (em %): 1.35<br />Numero de chutes: 613<br />Numero de goals: 35<br />",
           "Probabilidade de marcar (em %): 3.5<br />Fração de chutes (em %): 1.25<br />Numero de chutes: 568<br />Numero de goals: 20<br />",
           "Probabilidade de marcar (em %): 3.3<br />Fração de chutes (em %): 1.86<br />Numero de chutes: 842<br />Numero de goals: 28<br />",
           "Probabilidade de marcar (em %): 2.6<br />Fração de chutes (em %): 0.85<br />Numero de chutes: 385<br />Numero de goals: 10<br />",
           "Probabilidade de marcar (em %): 2.6<br />Fração de chutes (em %): 0.25<br />Numero de chutes: 114<br />Numero de goals: 3<br />",
           "Probabilidade de marcar (em %): 0.0<br />Fração de chutes (em %): 0.04<br />Numero de chutes: 16<br />Numero de goals: 0<br />",
           "Probabilidade de marcar (em %): 0.0<br />Fração de chutes (em %): 0.01<br />Numero de chutes: 3<br />Numero de goals: 0<br />",
           "Probabilidade de marcar (em %): 0.0<br />Fração de chutes (em %): 0.00<br />Numero de chutes: 2<br />Numero de goals: 0<br />",
           "Probabilidade de marcar (em %): 0.0<br />Fração de chutes (em %): 0.00<br />Numero de chutes: 1<br />Numero de goals: 0<br />",
           "Probabilidade de marcar (em %): 0.0<br />Fração de chutes (em %): 0.01<br />Numero de chutes: 4<br />Numero de goals: 0<br />",
           "Probabilidade de marcar (em %): 0.0<br />Fração de chutes (em %): 0.00<br />Numero de chutes: 1<br />Numero de goals: 0<br />",
           "Probabilidade de marcar (em %): 0.0<br />Fração de chutes (em %): 0.00<br />Numero de chutes: 0<br />Numero de goals: 0<br />",
           "Probabilidade de marcar (em %): 0.0<br />Fração de chutes (em %): 0.00<br />Numero de chutes: 0<br />Numero de goals: 0<br />",
           "Probabilidade de marcar (em %): 0.0<br />Fração de chutes (em %): 0.00<br />Numero de chutes: 1<br />Numero de goals: 0<br />",
           "Probabilidade de marcar (em %): 0.0<br />Fração de chutes (em %): 0.00<br />Numero de chutes: 0<br />Numero de goals: 0<br />",
           "Probabilidade de marcar (em %): 0.0<br />Fração de chutes (em %): 0.00<br />Numero de chutes: 0<br />Numero de goals: 0<br />",
           "Probabilidade de marcar (em %): 0.0<br />Fração de chutes (em %): 0.00<br />Numero de chutes: 1<br />Numero de goals: 0<br />",
           "Probabilidade de marcar (em %): 0.0<br />Fração de chutes (em %): 0.00<br />Numero de chutes: 1<br />Numero de goals: 0<br />",
           "Probabilidade de marcar (em %): 0.0<br />Fração de chutes (em %): 0.00<br />Numero de chutes: 2<br />Numero de goals: 0<br />",
           "Probabilidade de marcar (em %): 0.0<br />Fração de chutes (em %): 0.00<br />Numero de chutes: 0<br />Numero de goals: 0<br />",
           "Probabilidade de marcar (em %): 0.0<br />Fração de chutes (em %): 0.00<br />Numero de chutes: 0<br />Numero de goals: 0<br />"
          ],
          [
           "Probabilidade de marcar (em %): 2.4<br />Fração de chutes (em %): 0.09<br />Numero de chutes: 42<br />Numero de goals: 1<br />",
           "Probabilidade de marcar (em %): 5.1<br />Fração de chutes (em %): 0.52<br />Numero de chutes: 234<br />Numero de goals: 12<br />",
           "Probabilidade de marcar (em %): 5.4<br />Fração de chutes (em %): 0.99<br />Numero de chutes: 448<br />Numero de goals: 24<br />",
           "Probabilidade de marcar (em %): 3.8<br />Fração de chutes (em %): 0.64<br />Numero de chutes: 289<br />Numero de goals: 11<br />",
           "Probabilidade de marcar (em %): 4.7<br />Fração de chutes (em %): 0.79<br />Numero de chutes: 358<br />Numero de goals: 17<br />",
           "Probabilidade de marcar (em %): 1.1<br />Fração de chutes (em %): 1.02<br />Numero de chutes: 462<br />Numero de goals: 5<br />",
           "Probabilidade de marcar (em %): 2.1<br />Fração de chutes (em %): 0.52<br />Numero de chutes: 235<br />Numero de goals: 5<br />",
           "Probabilidade de marcar (em %): 3.4<br />Fração de chutes (em %): 0.13<br />Numero de chutes: 58<br />Numero de goals: 2<br />",
           "Probabilidade de marcar (em %): 0.0<br />Fração de chutes (em %): 0.02<br />Numero de chutes: 9<br />Numero de goals: 0<br />",
           "Probabilidade de marcar (em %): 11.1<br />Fração de chutes (em %): 0.02<br />Numero de chutes: 9<br />Numero de goals: 1<br />",
           "Probabilidade de marcar (em %): 0.0<br />Fração de chutes (em %): 0.00<br />Numero de chutes: 2<br />Numero de goals: 0<br />",
           "Probabilidade de marcar (em %): 0.0<br />Fração de chutes (em %): 0.00<br />Numero de chutes: 1<br />Numero de goals: 0<br />",
           "Probabilidade de marcar (em %): 0.0<br />Fração de chutes (em %): 0.00<br />Numero de chutes: 0<br />Numero de goals: 0<br />",
           "Probabilidade de marcar (em %): 0.0<br />Fração de chutes (em %): 0.00<br />Numero de chutes: 0<br />Numero de goals: 0<br />",
           "Probabilidade de marcar (em %): 0.0<br />Fração de chutes (em %): 0.00<br />Numero de chutes: 1<br />Numero de goals: 0<br />",
           "Probabilidade de marcar (em %): 0.0<br />Fração de chutes (em %): 0.00<br />Numero de chutes: 0<br />Numero de goals: 0<br />",
           "Probabilidade de marcar (em %): 0.0<br />Fração de chutes (em %): 0.00<br />Numero de chutes: 0<br />Numero de goals: 0<br />",
           "Probabilidade de marcar (em %): 0.0<br />Fração de chutes (em %): 0.00<br />Numero de chutes: 1<br />Numero de goals: 0<br />",
           "Probabilidade de marcar (em %): 0.0<br />Fração de chutes (em %): 0.00<br />Numero de chutes: 0<br />Numero de goals: 0<br />",
           "Probabilidade de marcar (em %): 0.0<br />Fração de chutes (em %): 0.00<br />Numero de chutes: 0<br />Numero de goals: 0<br />",
           "Probabilidade de marcar (em %): 0.0<br />Fração de chutes (em %): 0.00<br />Numero de chutes: 0<br />Numero de goals: 0<br />",
           "Probabilidade de marcar (em %): 0.0<br />Fração de chutes (em %): 0.00<br />Numero de chutes: 0<br />Numero de goals: 0<br />",
           "Probabilidade de marcar (em %): 0.0<br />Fração de chutes (em %): 0.00<br />Numero de chutes: 0<br />Numero de goals: 0<br />",
           "Probabilidade de marcar (em %): 0.0<br />Fração de chutes (em %): 0.00<br />Numero de chutes: 0<br />Numero de goals: 0<br />"
          ],
          [
           "Probabilidade de marcar (em %): 0.0<br />Fração de chutes (em %): 0.00<br />Numero de chutes: 2<br />Numero de goals: 0<br />",
           "Probabilidade de marcar (em %): 0.0<br />Fração de chutes (em %): 0.03<br />Numero de chutes: 15<br />Numero de goals: 0<br />",
           "Probabilidade de marcar (em %): 2.1<br />Fração de chutes (em %): 0.10<br />Numero de chutes: 47<br />Numero de goals: 1<br />",
           "Probabilidade de marcar (em %): 2.2<br />Fração de chutes (em %): 0.10<br />Numero de chutes: 46<br />Numero de goals: 1<br />",
           "Probabilidade de marcar (em %): 0.0<br />Fração de chutes (em %): 0.16<br />Numero de chutes: 71<br />Numero de goals: 0<br />",
           "Probabilidade de marcar (em %): 0.7<br />Fração de chutes (em %): 0.31<br />Numero de chutes: 140<br />Numero de goals: 1<br />",
           "Probabilidade de marcar (em %): 0.0<br />Fração de chutes (em %): 0.23<br />Numero de chutes: 104<br />Numero de goals: 0<br />",
           "Probabilidade de marcar (em %): 0.0<br />Fração de chutes (em %): 0.06<br />Numero de chutes: 25<br />Numero de goals: 0<br />",
           "Probabilidade de marcar (em %): 0.0<br />Fração de chutes (em %): 0.01<br />Numero de chutes: 5<br />Numero de goals: 0<br />",
           "Probabilidade de marcar (em %): 0.0<br />Fração de chutes (em %): 0.01<br />Numero de chutes: 5<br />Numero de goals: 0<br />",
           "Probabilidade de marcar (em %): 0.0<br />Fração de chutes (em %): 0.01<br />Numero de chutes: 5<br />Numero de goals: 0<br />",
           "Probabilidade de marcar (em %): 0.0<br />Fração de chutes (em %): 0.00<br />Numero de chutes: 2<br />Numero de goals: 0<br />",
           "Probabilidade de marcar (em %): 0.0<br />Fração de chutes (em %): 0.00<br />Numero de chutes: 0<br />Numero de goals: 0<br />",
           "Probabilidade de marcar (em %): 0.0<br />Fração de chutes (em %): 0.00<br />Numero de chutes: 1<br />Numero de goals: 0<br />",
           "Probabilidade de marcar (em %): 0.0<br />Fração de chutes (em %): 0.00<br />Numero de chutes: 0<br />Numero de goals: 0<br />",
           "Probabilidade de marcar (em %): 0.0<br />Fração de chutes (em %): 0.00<br />Numero de chutes: 0<br />Numero de goals: 0<br />",
           "Probabilidade de marcar (em %): 0.0<br />Fração de chutes (em %): 0.00<br />Numero de chutes: 0<br />Numero de goals: 0<br />",
           "Probabilidade de marcar (em %): 0.0<br />Fração de chutes (em %): 0.00<br />Numero de chutes: 0<br />Numero de goals: 0<br />",
           "Probabilidade de marcar (em %): 0.0<br />Fração de chutes (em %): 0.00<br />Numero de chutes: 0<br />Numero de goals: 0<br />",
           "Probabilidade de marcar (em %): 0.0<br />Fração de chutes (em %): 0.00<br />Numero de chutes: 0<br />Numero de goals: 0<br />",
           "Probabilidade de marcar (em %): 0.0<br />Fração de chutes (em %): 0.00<br />Numero de chutes: 0<br />Numero de goals: 0<br />",
           "Probabilidade de marcar (em %): 0.0<br />Fração de chutes (em %): 0.00<br />Numero de chutes: 0<br />Numero de goals: 0<br />",
           "Probabilidade de marcar (em %): 0.0<br />Fração de chutes (em %): 0.00<br />Numero de chutes: 1<br />Numero de goals: 0<br />",
           "Probabilidade de marcar (em %): 0.0<br />Fração de chutes (em %): 0.00<br />Numero de chutes: 0<br />Numero de goals: 0<br />"
          ],
          [
           "Probabilidade de marcar (em %): 0.0<br />Fração de chutes (em %): 0.00<br />Numero de chutes: 1<br />Numero de goals: 0<br />",
           "Probabilidade de marcar (em %): 8.3<br />Fração de chutes (em %): 0.03<br />Numero de chutes: 12<br />Numero de goals: 1<br />",
           "Probabilidade de marcar (em %): 10.0<br />Fração de chutes (em %): 0.04<br />Numero de chutes: 20<br />Numero de goals: 2<br />",
           "Probabilidade de marcar (em %): 5.9<br />Fração de chutes (em %): 0.04<br />Numero de chutes: 17<br />Numero de goals: 1<br />",
           "Probabilidade de marcar (em %): 0.0<br />Fração de chutes (em %): 0.03<br />Numero de chutes: 13<br />Numero de goals: 0<br />",
           "Probabilidade de marcar (em %): 2.9<br />Fração de chutes (em %): 0.08<br />Numero de chutes: 34<br />Numero de goals: 1<br />",
           "Probabilidade de marcar (em %): 5.6<br />Fração de chutes (em %): 0.04<br />Numero de chutes: 18<br />Numero de goals: 1<br />",
           "Probabilidade de marcar (em %): 0.0<br />Fração de chutes (em %): 0.01<br />Numero de chutes: 6<br />Numero de goals: 0<br />",
           "Probabilidade de marcar (em %): 0.0<br />Fração de chutes (em %): 0.00<br />Numero de chutes: 2<br />Numero de goals: 0<br />",
           "Probabilidade de marcar (em %): 0.0<br />Fração de chutes (em %): 0.00<br />Numero de chutes: 0<br />Numero de goals: 0<br />",
           "Probabilidade de marcar (em %): 0.0<br />Fração de chutes (em %): 0.00<br />Numero de chutes: 1<br />Numero de goals: 0<br />",
           "Probabilidade de marcar (em %): 0.0<br />Fração de chutes (em %): 0.00<br />Numero de chutes: 0<br />Numero de goals: 0<br />",
           "Probabilidade de marcar (em %): 0.0<br />Fração de chutes (em %): 0.00<br />Numero de chutes: 2<br />Numero de goals: 0<br />",
           "Probabilidade de marcar (em %): 0.0<br />Fração de chutes (em %): 0.00<br />Numero de chutes: 0<br />Numero de goals: 0<br />",
           "Probabilidade de marcar (em %): 0.0<br />Fração de chutes (em %): 0.00<br />Numero de chutes: 1<br />Numero de goals: 0<br />",
           "Probabilidade de marcar (em %): 0.0<br />Fração de chutes (em %): 0.00<br />Numero de chutes: 0<br />Numero de goals: 0<br />",
           "Probabilidade de marcar (em %): 0.0<br />Fração de chutes (em %): 0.00<br />Numero de chutes: 0<br />Numero de goals: 0<br />",
           "Probabilidade de marcar (em %): 0.0<br />Fração de chutes (em %): 0.00<br />Numero de chutes: 0<br />Numero de goals: 0<br />",
           "Probabilidade de marcar (em %): 0.0<br />Fração de chutes (em %): 0.00<br />Numero de chutes: 0<br />Numero de goals: 0<br />",
           "Probabilidade de marcar (em %): 0.0<br />Fração de chutes (em %): 0.00<br />Numero de chutes: 0<br />Numero de goals: 0<br />",
           "Probabilidade de marcar (em %): 0.0<br />Fração de chutes (em %): 0.00<br />Numero de chutes: 0<br />Numero de goals: 0<br />",
           "Probabilidade de marcar (em %): 0.0<br />Fração de chutes (em %): 0.00<br />Numero de chutes: 0<br />Numero de goals: 0<br />",
           "Probabilidade de marcar (em %): 0.0<br />Fração de chutes (em %): 0.00<br />Numero de chutes: 0<br />Numero de goals: 0<br />",
           "Probabilidade de marcar (em %): 0.0<br />Fração de chutes (em %): 0.00<br />Numero de chutes: 0<br />Numero de goals: 0<br />"
          ],
          [
           "Probabilidade de marcar (em %): 0.0<br />Fração de chutes (em %): 0.00<br />Numero de chutes: 1<br />Numero de goals: 0<br />",
           "Probabilidade de marcar (em %): 33.3<br />Fração de chutes (em %): 0.01<br />Numero de chutes: 3<br />Numero de goals: 1<br />",
           "Probabilidade de marcar (em %): 0.0<br />Fração de chutes (em %): 0.00<br />Numero de chutes: 2<br />Numero de goals: 0<br />",
           "Probabilidade de marcar (em %): 0.0<br />Fração de chutes (em %): 0.02<br />Numero de chutes: 9<br />Numero de goals: 0<br />",
           "Probabilidade de marcar (em %): 0.0<br />Fração de chutes (em %): 0.00<br />Numero de chutes: 2<br />Numero de goals: 0<br />",
           "Probabilidade de marcar (em %): 0.0<br />Fração de chutes (em %): 0.02<br />Numero de chutes: 10<br />Numero de goals: 0<br />",
           "Probabilidade de marcar (em %): 0.0<br />Fração de chutes (em %): 0.01<br />Numero de chutes: 6<br />Numero de goals: 0<br />",
           "Probabilidade de marcar (em %): 0.0<br />Fração de chutes (em %): 0.00<br />Numero de chutes: 1<br />Numero de goals: 0<br />",
           "Probabilidade de marcar (em %): 0.0<br />Fração de chutes (em %): 0.00<br />Numero de chutes: 0<br />Numero de goals: 0<br />",
           "Probabilidade de marcar (em %): 0.0<br />Fração de chutes (em %): 0.00<br />Numero de chutes: 2<br />Numero de goals: 0<br />",
           "Probabilidade de marcar (em %): 0.0<br />Fração de chutes (em %): 0.00<br />Numero de chutes: 1<br />Numero de goals: 0<br />",
           "Probabilidade de marcar (em %): 0.0<br />Fração de chutes (em %): 0.00<br />Numero de chutes: 2<br />Numero de goals: 0<br />",
           "Probabilidade de marcar (em %): 0.0<br />Fração de chutes (em %): 0.00<br />Numero de chutes: 1<br />Numero de goals: 0<br />",
           "Probabilidade de marcar (em %): 0.0<br />Fração de chutes (em %): 0.00<br />Numero de chutes: 1<br />Numero de goals: 0<br />",
           "Probabilidade de marcar (em %): 0.0<br />Fração de chutes (em %): 0.00<br />Numero de chutes: 0<br />Numero de goals: 0<br />",
           "Probabilidade de marcar (em %): 0.0<br />Fração de chutes (em %): 0.00<br />Numero de chutes: 0<br />Numero de goals: 0<br />",
           "Probabilidade de marcar (em %): 0.0<br />Fração de chutes (em %): 0.00<br />Numero de chutes: 0<br />Numero de goals: 0<br />",
           "Probabilidade de marcar (em %): 0.0<br />Fração de chutes (em %): 0.00<br />Numero de chutes: 0<br />Numero de goals: 0<br />",
           "Probabilidade de marcar (em %): 0.0<br />Fração de chutes (em %): 0.00<br />Numero de chutes: 0<br />Numero de goals: 0<br />",
           "Probabilidade de marcar (em %): 0.0<br />Fração de chutes (em %): 0.00<br />Numero de chutes: 0<br />Numero de goals: 0<br />",
           "Probabilidade de marcar (em %): 0.0<br />Fração de chutes (em %): 0.00<br />Numero de chutes: 0<br />Numero de goals: 0<br />",
           "Probabilidade de marcar (em %): 0.0<br />Fração de chutes (em %): 0.00<br />Numero de chutes: 0<br />Numero de goals: 0<br />",
           "Probabilidade de marcar (em %): 0.0<br />Fração de chutes (em %): 0.00<br />Numero de chutes: 0<br />Numero de goals: 0<br />",
           "Probabilidade de marcar (em %): 0.0<br />Fração de chutes (em %): 0.00<br />Numero de chutes: 0<br />Numero de goals: 0<br />"
          ],
          [
           "Probabilidade de marcar (em %): 0.0<br />Fração de chutes (em %): 0.00<br />Numero de chutes: 0<br />Numero de goals: 0<br />",
           "Probabilidade de marcar (em %): 0.0<br />Fração de chutes (em %): 0.00<br />Numero de chutes: 1<br />Numero de goals: 0<br />",
           "Probabilidade de marcar (em %): 0.0<br />Fração de chutes (em %): 0.00<br />Numero de chutes: 0<br />Numero de goals: 0<br />",
           "Probabilidade de marcar (em %): 0.0<br />Fração de chutes (em %): 0.00<br />Numero de chutes: 1<br />Numero de goals: 0<br />",
           "Probabilidade de marcar (em %): 0.0<br />Fração de chutes (em %): 0.00<br />Numero de chutes: 2<br />Numero de goals: 0<br />",
           "Probabilidade de marcar (em %): 0.0<br />Fração de chutes (em %): 0.00<br />Numero de chutes: 2<br />Numero de goals: 0<br />",
           "Probabilidade de marcar (em %): 0.0<br />Fração de chutes (em %): 0.00<br />Numero de chutes: 1<br />Numero de goals: 0<br />",
           "Probabilidade de marcar (em %): 0.0<br />Fração de chutes (em %): 0.00<br />Numero de chutes: 0<br />Numero de goals: 0<br />",
           "Probabilidade de marcar (em %): 0.0<br />Fração de chutes (em %): 0.01<br />Numero de chutes: 3<br />Numero de goals: 0<br />",
           "Probabilidade de marcar (em %): 0.0<br />Fração de chutes (em %): 0.00<br />Numero de chutes: 2<br />Numero de goals: 0<br />",
           "Probabilidade de marcar (em %): 100.0<br />Fração de chutes (em %): 0.00<br />Numero de chutes: 1<br />Numero de goals: 1<br />",
           "Probabilidade de marcar (em %): 0.0<br />Fração de chutes (em %): 0.01<br />Numero de chutes: 6<br />Numero de goals: 0<br />",
           "Probabilidade de marcar (em %): 0.0<br />Fração de chutes (em %): 0.01<br />Numero de chutes: 3<br />Numero de goals: 0<br />",
           "Probabilidade de marcar (em %): 0.0<br />Fração de chutes (em %): 0.00<br />Numero de chutes: 0<br />Numero de goals: 0<br />",
           "Probabilidade de marcar (em %): 0.0<br />Fração de chutes (em %): 0.00<br />Numero de chutes: 0<br />Numero de goals: 0<br />",
           "Probabilidade de marcar (em %): 0.0<br />Fração de chutes (em %): 0.00<br />Numero de chutes: 1<br />Numero de goals: 0<br />",
           "Probabilidade de marcar (em %): 0.0<br />Fração de chutes (em %): 0.00<br />Numero de chutes: 0<br />Numero de goals: 0<br />",
           "Probabilidade de marcar (em %): 0.0<br />Fração de chutes (em %): 0.00<br />Numero de chutes: 0<br />Numero de goals: 0<br />",
           "Probabilidade de marcar (em %): 0.0<br />Fração de chutes (em %): 0.00<br />Numero de chutes: 0<br />Numero de goals: 0<br />",
           "Probabilidade de marcar (em %): 0.0<br />Fração de chutes (em %): 0.00<br />Numero de chutes: 0<br />Numero de goals: 0<br />",
           "Probabilidade de marcar (em %): 0.0<br />Fração de chutes (em %): 0.00<br />Numero de chutes: 0<br />Numero de goals: 0<br />",
           "Probabilidade de marcar (em %): 0.0<br />Fração de chutes (em %): 0.00<br />Numero de chutes: 0<br />Numero de goals: 0<br />",
           "Probabilidade de marcar (em %): 0.0<br />Fração de chutes (em %): 0.00<br />Numero de chutes: 0<br />Numero de goals: 0<br />",
           "Probabilidade de marcar (em %): 0.0<br />Fração de chutes (em %): 0.00<br />Numero de chutes: 0<br />Numero de goals: 0<br />"
          ]
         ],
         "type": "heatmap",
         "x": [
          2.1875,
          6.5625,
          10.9375,
          15.3125,
          19.6875,
          24.0625,
          28.4375,
          32.8125,
          37.1875,
          41.5625,
          45.9375,
          50.3125,
          54.6875,
          59.0625,
          63.4375,
          67.8125,
          72.1875,
          76.5625,
          80.9375,
          85.3125,
          89.6875,
          94.0625,
          98.4375,
          102.8125
         ],
         "y": [
          66,
          62,
          58,
          54,
          50,
          46,
          42,
          38,
          34,
          30,
          26,
          22,
          18,
          14,
          10,
          6,
          2
         ],
         "z": [
          [
           0,
           66.66666666666666,
           0,
           0,
           0,
           0,
           0,
           0,
           0,
           0,
           0,
           0,
           0,
           0,
           0,
           0,
           0,
           0,
           0,
           0,
           0,
           0,
           0,
           0
          ],
          [
           0,
           0,
           0,
           0,
           0,
           9.090909090909092,
           16.666666666666664,
           0,
           25,
           0,
           0,
           0,
           0,
           0,
           0,
           0,
           0,
           0,
           0,
           0,
           0,
           0,
           0,
           0
          ],
          [
           0,
           0,
           12.5,
           16.666666666666664,
           4.545454545454546,
           0,
           0,
           10,
           16.666666666666664,
           0,
           0,
           0,
           0,
           0,
           0,
           0,
           0,
           0,
           0,
           0,
           0,
           0,
           0,
           0
          ],
          [
           0,
           3.8461538461538463,
           5.263157894736842,
           4.285714285714286,
           2.083333333333333,
           0.4830917874396135,
           0.7692307692307693,
           2.1739130434782608,
           0,
           0,
           0,
           0,
           0,
           0,
           0,
           0,
           0,
           0,
           0,
           0,
           0,
           0,
           0,
           0
          ],
          [
           2.0408163265306123,
           1.2552301255230125,
           6,
           3.865979381443299,
           2.5445292620865136,
           2.1207177814029365,
           1.929260450160772,
           0,
           0,
           0,
           0,
           25,
           0,
           0,
           0,
           0,
           0,
           0,
           0,
           0,
           0,
           0,
           0,
           0
          ],
          [
           7.784431137724551,
           8.121019108280255,
           9.670329670329672,
           5.548037889039242,
           3.4108527131782944,
           2.898550724637681,
           1.2605042016806722,
           1.5384615384615385,
           0,
           0,
           0,
           33.33333333333333,
           0,
           0,
           0,
           0,
           0,
           0,
           0,
           0,
           0,
           0,
           0,
           0
          ],
          [
           18.58108108108108,
           17.010309278350515,
           13.998703823720026,
           8.874172185430464,
           5.4888507718696395,
           3.294367693942614,
           2.490421455938697,
           3.3707865168539324,
           0,
           0,
           0,
           0,
           0,
           33.33333333333333,
           0,
           0,
           0,
           0,
           0,
           0,
           0,
           0,
           0,
           0
          ],
          [
           52.39234449760766,
           25.125208681135224,
           14.573732718894009,
           10.303830911492733,
           8.756567425569177,
           4.399524375743162,
           2.951388888888889,
           2.512562814070352,
           0,
           0,
           0,
           0,
           0,
           0,
           0,
           0,
           0,
           0,
           0,
           0,
           0,
           0,
           0,
           0
          ],
          [
           61.3941018766756,
           29.74137931034483,
           17.041053446940357,
           11.232876712328768,
           8.653846153846153,
           2.6722925457102673,
           2.886247877758913,
           2.631578947368421,
           0,
           0,
           0,
           0,
           0,
           0,
           0,
           0,
           0,
           0,
           0,
           0,
           0,
           0,
           33.33333333333333,
           100
          ],
          [
           41.734417344173444,
           25.62988705473501,
           15.668481548699335,
           12.711864406779661,
           7.076350093109869,
           3.6540803897685747,
           3.0303030303030303,
           1.5789473684210527,
           0,
           25,
           0,
           0,
           0,
           0,
           0,
           0,
           0,
           0,
           0,
           0,
           0,
           0,
           0,
           0
          ],
          [
           16.43835616438356,
           16.059379217273953,
           12.830957230142568,
           8.944281524926687,
           4.9504950495049505,
           3.5940803382663846,
           2.1739130434782608,
           2.898550724637681,
           0,
           0,
           0,
           0,
           0,
           0,
           0,
           0,
           0,
           0,
           0,
           0,
           0,
           0,
           0,
           0
          ],
          [
           3.389830508474576,
           8.576051779935275,
           8.63121185701831,
           5.709624796084829,
           3.5211267605633805,
           3.32541567695962,
           2.5974025974025974,
           2.631578947368421,
           0,
           0,
           0,
           0,
           0,
           0,
           0,
           0,
           0,
           0,
           0,
           0,
           0,
           0,
           0,
           0
          ],
          [
           2.380952380952381,
           5.128205128205128,
           5.357142857142857,
           3.8062283737024223,
           4.748603351955307,
           1.0822510822510822,
           2.127659574468085,
           3.4482758620689653,
           0,
           11.11111111111111,
           0,
           0,
           0,
           0,
           0,
           0,
           0,
           0,
           0,
           0,
           0,
           0,
           0,
           0
          ],
          [
           0,
           0,
           2.127659574468085,
           2.1739130434782608,
           0,
           0.7142857142857143,
           0,
           0,
           0,
           0,
           0,
           0,
           0,
           0,
           0,
           0,
           0,
           0,
           0,
           0,
           0,
           0,
           0,
           0
          ],
          [
           0,
           8.333333333333332,
           10,
           5.88235294117647,
           0,
           2.941176470588235,
           5.555555555555555,
           0,
           0,
           0,
           0,
           0,
           0,
           0,
           0,
           0,
           0,
           0,
           0,
           0,
           0,
           0,
           0,
           0
          ],
          [
           0,
           33.33333333333333,
           0,
           0,
           0,
           0,
           0,
           0,
           0,
           0,
           0,
           0,
           0,
           0,
           0,
           0,
           0,
           0,
           0,
           0,
           0,
           0,
           0,
           0
          ],
          [
           0,
           0,
           0,
           0,
           0,
           0,
           0,
           0,
           0,
           0,
           100,
           0,
           0,
           0,
           0,
           0,
           0,
           0,
           0,
           0,
           0,
           0,
           0,
           0
          ]
         ],
         "zsmooth": false
        }
       ],
       "layout": {
        "autosize": false,
        "height": 612,
        "plot_bgcolor": "white",
        "shapes": [
         {
          "line": {
           "color": "white",
           "width": 2
          },
          "type": "line",
          "x0": 52.5,
          "x1": 52.5,
          "y0": 0,
          "y1": 68
         },
         {
          "line": {
           "color": "white",
           "width": 2
          },
          "type": "line",
          "x0": 0,
          "x1": 16,
          "y0": 54.16,
          "y1": 54.16
         },
         {
          "line": {
           "color": "white",
           "width": 2
          },
          "type": "line",
          "x0": 16,
          "x1": 16,
          "y0": 54.16,
          "y1": 13.84
         },
         {
          "line": {
           "color": "white",
           "width": 2
          },
          "type": "line",
          "x0": 16,
          "x1": 0,
          "y0": 13.84,
          "y1": 13.84
         },
         {
          "line": {
           "color": "white",
           "width": 2
          },
          "type": "line",
          "x0": 0,
          "x1": 5.5,
          "y0": 24.84,
          "y1": 24.84
         },
         {
          "line": {
           "color": "white",
           "width": 2
          },
          "type": "line",
          "x0": 5.5,
          "x1": 5.5,
          "y0": 24.84,
          "y1": 43.16
         },
         {
          "line": {
           "color": "white",
           "width": 2
          },
          "type": "line",
          "x0": 5.5,
          "x1": 0,
          "y0": 43.16,
          "y1": 43.16
         },
         {
          "line": {
           "color": "white",
           "width": 2
          },
          "type": "line",
          "x0": 105,
          "x1": 89,
          "y0": 54.16,
          "y1": 54.16
         },
         {
          "line": {
           "color": "white",
           "width": 2
          },
          "type": "line",
          "x0": 89,
          "x1": 89,
          "y0": 54.16,
          "y1": 13.84
         },
         {
          "line": {
           "color": "white",
           "width": 2
          },
          "type": "line",
          "x0": 89,
          "x1": 105,
          "y0": 13.84,
          "y1": 13.84
         },
         {
          "line": {
           "color": "white",
           "width": 2
          },
          "type": "line",
          "x0": 105,
          "x1": 99.5,
          "y0": 24.84,
          "y1": 24.84
         },
         {
          "line": {
           "color": "white",
           "width": 2
          },
          "type": "line",
          "x0": 99.5,
          "x1": 99.5,
          "y0": 24.84,
          "y1": 43.16
         },
         {
          "line": {
           "color": "white",
           "width": 2
          },
          "type": "line",
          "x0": 99.5,
          "x1": 105,
          "y0": 43.16,
          "y1": 43.16
         },
         {
          "fillcolor": "white",
          "line": {
           "color": "white"
          },
          "type": "circle",
          "x0": 10.5,
          "x1": 11.5,
          "xref": "x",
          "y0": 33.5,
          "y1": 34.5,
          "yref": "y"
         },
         {
          "fillcolor": "white",
          "line": {
           "color": "white"
          },
          "type": "circle",
          "x0": 93.5,
          "x1": 94.5,
          "xref": "x",
          "y0": 33.5,
          "y1": 34.5,
          "yref": "y"
         },
         {
          "fillcolor": "white",
          "line": {
           "color": "white"
          },
          "type": "circle",
          "x0": 52,
          "x1": 53,
          "xref": "x",
          "y0": 33.5,
          "y1": 34.5,
          "yref": "y"
         },
         {
          "line": {
           "color": "white"
          },
          "type": "circle",
          "x0": 43.35,
          "x1": 61.65,
          "xref": "x",
          "y0": 24.85,
          "y1": 43.15,
          "yref": "y"
         },
         {
          "line": {
           "color": "white",
           "width": 2
          },
          "type": "line",
          "x0": 0,
          "x1": 105,
          "y0": 0,
          "y1": 0
         },
         {
          "line": {
           "color": "white",
           "width": 2
          },
          "type": "line",
          "x0": 0,
          "x1": 0,
          "y0": 0,
          "y1": 68
         },
         {
          "line": {
           "color": "white",
           "width": 2
          },
          "type": "line",
          "x0": 0,
          "x1": 105,
          "y0": 68,
          "y1": 68
         },
         {
          "line": {
           "color": "white",
           "width": 2
          },
          "type": "line",
          "x0": 105,
          "x1": 105,
          "y0": 0,
          "y1": 68
         },
         {
          "line": {
           "color": "white",
           "width": 2
          },
          "type": "line",
          "x0": 0,
          "x1": -2,
          "y0": 30.34,
          "y1": 30.34
         },
         {
          "line": {
           "color": "white",
           "width": 2
          },
          "type": "line",
          "x0": 0,
          "x1": -2,
          "y0": 37.66,
          "y1": 37.66
         },
         {
          "line": {
           "color": "white",
           "width": 2
          },
          "type": "line",
          "x0": -2,
          "x1": -2,
          "y0": 30.34,
          "y1": 37.66
         },
         {
          "line": {
           "color": "white",
           "width": 2
          },
          "type": "line",
          "x0": 105,
          "x1": 107,
          "y0": 30.34,
          "y1": 30.34
         },
         {
          "line": {
           "color": "white",
           "width": 2
          },
          "type": "line",
          "x0": 105,
          "x1": 107,
          "y0": 37.66,
          "y1": 37.66
         },
         {
          "line": {
           "color": "white",
           "width": 2
          },
          "type": "line",
          "x0": 107,
          "x1": 107,
          "y0": 30.34,
          "y1": 37.66
         }
        ],
        "template": {
         "data": {
          "bar": [
           {
            "error_x": {
             "color": "#2a3f5f"
            },
            "error_y": {
             "color": "#2a3f5f"
            },
            "marker": {
             "line": {
              "color": "#E5ECF6",
              "width": 0.5
             },
             "pattern": {
              "fillmode": "overlay",
              "size": 10,
              "solidity": 0.2
             }
            },
            "type": "bar"
           }
          ],
          "barpolar": [
           {
            "marker": {
             "line": {
              "color": "#E5ECF6",
              "width": 0.5
             },
             "pattern": {
              "fillmode": "overlay",
              "size": 10,
              "solidity": 0.2
             }
            },
            "type": "barpolar"
           }
          ],
          "carpet": [
           {
            "aaxis": {
             "endlinecolor": "#2a3f5f",
             "gridcolor": "white",
             "linecolor": "white",
             "minorgridcolor": "white",
             "startlinecolor": "#2a3f5f"
            },
            "baxis": {
             "endlinecolor": "#2a3f5f",
             "gridcolor": "white",
             "linecolor": "white",
             "minorgridcolor": "white",
             "startlinecolor": "#2a3f5f"
            },
            "type": "carpet"
           }
          ],
          "choropleth": [
           {
            "colorbar": {
             "outlinewidth": 0,
             "ticks": ""
            },
            "type": "choropleth"
           }
          ],
          "contour": [
           {
            "colorbar": {
             "outlinewidth": 0,
             "ticks": ""
            },
            "colorscale": [
             [
              0,
              "#0d0887"
             ],
             [
              0.1111111111111111,
              "#46039f"
             ],
             [
              0.2222222222222222,
              "#7201a8"
             ],
             [
              0.3333333333333333,
              "#9c179e"
             ],
             [
              0.4444444444444444,
              "#bd3786"
             ],
             [
              0.5555555555555556,
              "#d8576b"
             ],
             [
              0.6666666666666666,
              "#ed7953"
             ],
             [
              0.7777777777777778,
              "#fb9f3a"
             ],
             [
              0.8888888888888888,
              "#fdca26"
             ],
             [
              1,
              "#f0f921"
             ]
            ],
            "type": "contour"
           }
          ],
          "contourcarpet": [
           {
            "colorbar": {
             "outlinewidth": 0,
             "ticks": ""
            },
            "type": "contourcarpet"
           }
          ],
          "heatmap": [
           {
            "colorbar": {
             "outlinewidth": 0,
             "ticks": ""
            },
            "colorscale": [
             [
              0,
              "#0d0887"
             ],
             [
              0.1111111111111111,
              "#46039f"
             ],
             [
              0.2222222222222222,
              "#7201a8"
             ],
             [
              0.3333333333333333,
              "#9c179e"
             ],
             [
              0.4444444444444444,
              "#bd3786"
             ],
             [
              0.5555555555555556,
              "#d8576b"
             ],
             [
              0.6666666666666666,
              "#ed7953"
             ],
             [
              0.7777777777777778,
              "#fb9f3a"
             ],
             [
              0.8888888888888888,
              "#fdca26"
             ],
             [
              1,
              "#f0f921"
             ]
            ],
            "type": "heatmap"
           }
          ],
          "heatmapgl": [
           {
            "colorbar": {
             "outlinewidth": 0,
             "ticks": ""
            },
            "colorscale": [
             [
              0,
              "#0d0887"
             ],
             [
              0.1111111111111111,
              "#46039f"
             ],
             [
              0.2222222222222222,
              "#7201a8"
             ],
             [
              0.3333333333333333,
              "#9c179e"
             ],
             [
              0.4444444444444444,
              "#bd3786"
             ],
             [
              0.5555555555555556,
              "#d8576b"
             ],
             [
              0.6666666666666666,
              "#ed7953"
             ],
             [
              0.7777777777777778,
              "#fb9f3a"
             ],
             [
              0.8888888888888888,
              "#fdca26"
             ],
             [
              1,
              "#f0f921"
             ]
            ],
            "type": "heatmapgl"
           }
          ],
          "histogram": [
           {
            "marker": {
             "pattern": {
              "fillmode": "overlay",
              "size": 10,
              "solidity": 0.2
             }
            },
            "type": "histogram"
           }
          ],
          "histogram2d": [
           {
            "colorbar": {
             "outlinewidth": 0,
             "ticks": ""
            },
            "colorscale": [
             [
              0,
              "#0d0887"
             ],
             [
              0.1111111111111111,
              "#46039f"
             ],
             [
              0.2222222222222222,
              "#7201a8"
             ],
             [
              0.3333333333333333,
              "#9c179e"
             ],
             [
              0.4444444444444444,
              "#bd3786"
             ],
             [
              0.5555555555555556,
              "#d8576b"
             ],
             [
              0.6666666666666666,
              "#ed7953"
             ],
             [
              0.7777777777777778,
              "#fb9f3a"
             ],
             [
              0.8888888888888888,
              "#fdca26"
             ],
             [
              1,
              "#f0f921"
             ]
            ],
            "type": "histogram2d"
           }
          ],
          "histogram2dcontour": [
           {
            "colorbar": {
             "outlinewidth": 0,
             "ticks": ""
            },
            "colorscale": [
             [
              0,
              "#0d0887"
             ],
             [
              0.1111111111111111,
              "#46039f"
             ],
             [
              0.2222222222222222,
              "#7201a8"
             ],
             [
              0.3333333333333333,
              "#9c179e"
             ],
             [
              0.4444444444444444,
              "#bd3786"
             ],
             [
              0.5555555555555556,
              "#d8576b"
             ],
             [
              0.6666666666666666,
              "#ed7953"
             ],
             [
              0.7777777777777778,
              "#fb9f3a"
             ],
             [
              0.8888888888888888,
              "#fdca26"
             ],
             [
              1,
              "#f0f921"
             ]
            ],
            "type": "histogram2dcontour"
           }
          ],
          "mesh3d": [
           {
            "colorbar": {
             "outlinewidth": 0,
             "ticks": ""
            },
            "type": "mesh3d"
           }
          ],
          "parcoords": [
           {
            "line": {
             "colorbar": {
              "outlinewidth": 0,
              "ticks": ""
             }
            },
            "type": "parcoords"
           }
          ],
          "pie": [
           {
            "automargin": true,
            "type": "pie"
           }
          ],
          "scatter": [
           {
            "fillpattern": {
             "fillmode": "overlay",
             "size": 10,
             "solidity": 0.2
            },
            "type": "scatter"
           }
          ],
          "scatter3d": [
           {
            "line": {
             "colorbar": {
              "outlinewidth": 0,
              "ticks": ""
             }
            },
            "marker": {
             "colorbar": {
              "outlinewidth": 0,
              "ticks": ""
             }
            },
            "type": "scatter3d"
           }
          ],
          "scattercarpet": [
           {
            "marker": {
             "colorbar": {
              "outlinewidth": 0,
              "ticks": ""
             }
            },
            "type": "scattercarpet"
           }
          ],
          "scattergeo": [
           {
            "marker": {
             "colorbar": {
              "outlinewidth": 0,
              "ticks": ""
             }
            },
            "type": "scattergeo"
           }
          ],
          "scattergl": [
           {
            "marker": {
             "colorbar": {
              "outlinewidth": 0,
              "ticks": ""
             }
            },
            "type": "scattergl"
           }
          ],
          "scattermapbox": [
           {
            "marker": {
             "colorbar": {
              "outlinewidth": 0,
              "ticks": ""
             }
            },
            "type": "scattermapbox"
           }
          ],
          "scatterpolar": [
           {
            "marker": {
             "colorbar": {
              "outlinewidth": 0,
              "ticks": ""
             }
            },
            "type": "scatterpolar"
           }
          ],
          "scatterpolargl": [
           {
            "marker": {
             "colorbar": {
              "outlinewidth": 0,
              "ticks": ""
             }
            },
            "type": "scatterpolargl"
           }
          ],
          "scatterternary": [
           {
            "marker": {
             "colorbar": {
              "outlinewidth": 0,
              "ticks": ""
             }
            },
            "type": "scatterternary"
           }
          ],
          "surface": [
           {
            "colorbar": {
             "outlinewidth": 0,
             "ticks": ""
            },
            "colorscale": [
             [
              0,
              "#0d0887"
             ],
             [
              0.1111111111111111,
              "#46039f"
             ],
             [
              0.2222222222222222,
              "#7201a8"
             ],
             [
              0.3333333333333333,
              "#9c179e"
             ],
             [
              0.4444444444444444,
              "#bd3786"
             ],
             [
              0.5555555555555556,
              "#d8576b"
             ],
             [
              0.6666666666666666,
              "#ed7953"
             ],
             [
              0.7777777777777778,
              "#fb9f3a"
             ],
             [
              0.8888888888888888,
              "#fdca26"
             ],
             [
              1,
              "#f0f921"
             ]
            ],
            "type": "surface"
           }
          ],
          "table": [
           {
            "cells": {
             "fill": {
              "color": "#EBF0F8"
             },
             "line": {
              "color": "white"
             }
            },
            "header": {
             "fill": {
              "color": "#C8D4E3"
             },
             "line": {
              "color": "white"
             }
            },
            "type": "table"
           }
          ]
         },
         "layout": {
          "annotationdefaults": {
           "arrowcolor": "#2a3f5f",
           "arrowhead": 0,
           "arrowwidth": 1
          },
          "autotypenumbers": "strict",
          "coloraxis": {
           "colorbar": {
            "outlinewidth": 0,
            "ticks": ""
           }
          },
          "colorscale": {
           "diverging": [
            [
             0,
             "#8e0152"
            ],
            [
             0.1,
             "#c51b7d"
            ],
            [
             0.2,
             "#de77ae"
            ],
            [
             0.3,
             "#f1b6da"
            ],
            [
             0.4,
             "#fde0ef"
            ],
            [
             0.5,
             "#f7f7f7"
            ],
            [
             0.6,
             "#e6f5d0"
            ],
            [
             0.7,
             "#b8e186"
            ],
            [
             0.8,
             "#7fbc41"
            ],
            [
             0.9,
             "#4d9221"
            ],
            [
             1,
             "#276419"
            ]
           ],
           "sequential": [
            [
             0,
             "#0d0887"
            ],
            [
             0.1111111111111111,
             "#46039f"
            ],
            [
             0.2222222222222222,
             "#7201a8"
            ],
            [
             0.3333333333333333,
             "#9c179e"
            ],
            [
             0.4444444444444444,
             "#bd3786"
            ],
            [
             0.5555555555555556,
             "#d8576b"
            ],
            [
             0.6666666666666666,
             "#ed7953"
            ],
            [
             0.7777777777777778,
             "#fb9f3a"
            ],
            [
             0.8888888888888888,
             "#fdca26"
            ],
            [
             1,
             "#f0f921"
            ]
           ],
           "sequentialminus": [
            [
             0,
             "#0d0887"
            ],
            [
             0.1111111111111111,
             "#46039f"
            ],
            [
             0.2222222222222222,
             "#7201a8"
            ],
            [
             0.3333333333333333,
             "#9c179e"
            ],
            [
             0.4444444444444444,
             "#bd3786"
            ],
            [
             0.5555555555555556,
             "#d8576b"
            ],
            [
             0.6666666666666666,
             "#ed7953"
            ],
            [
             0.7777777777777778,
             "#fb9f3a"
            ],
            [
             0.8888888888888888,
             "#fdca26"
            ],
            [
             1,
             "#f0f921"
            ]
           ]
          },
          "colorway": [
           "#636efa",
           "#EF553B",
           "#00cc96",
           "#ab63fa",
           "#FFA15A",
           "#19d3f3",
           "#FF6692",
           "#B6E880",
           "#FF97FF",
           "#FECB52"
          ],
          "font": {
           "color": "#2a3f5f"
          },
          "geo": {
           "bgcolor": "white",
           "lakecolor": "white",
           "landcolor": "#E5ECF6",
           "showlakes": true,
           "showland": true,
           "subunitcolor": "white"
          },
          "hoverlabel": {
           "align": "left"
          },
          "hovermode": "closest",
          "mapbox": {
           "style": "light"
          },
          "paper_bgcolor": "white",
          "plot_bgcolor": "#E5ECF6",
          "polar": {
           "angularaxis": {
            "gridcolor": "white",
            "linecolor": "white",
            "ticks": ""
           },
           "bgcolor": "#E5ECF6",
           "radialaxis": {
            "gridcolor": "white",
            "linecolor": "white",
            "ticks": ""
           }
          },
          "scene": {
           "xaxis": {
            "backgroundcolor": "#E5ECF6",
            "gridcolor": "white",
            "gridwidth": 2,
            "linecolor": "white",
            "showbackground": true,
            "ticks": "",
            "zerolinecolor": "white"
           },
           "yaxis": {
            "backgroundcolor": "#E5ECF6",
            "gridcolor": "white",
            "gridwidth": 2,
            "linecolor": "white",
            "showbackground": true,
            "ticks": "",
            "zerolinecolor": "white"
           },
           "zaxis": {
            "backgroundcolor": "#E5ECF6",
            "gridcolor": "white",
            "gridwidth": 2,
            "linecolor": "white",
            "showbackground": true,
            "ticks": "",
            "zerolinecolor": "white"
           }
          },
          "shapedefaults": {
           "line": {
            "color": "#2a3f5f"
           }
          },
          "ternary": {
           "aaxis": {
            "gridcolor": "white",
            "linecolor": "white",
            "ticks": ""
           },
           "baxis": {
            "gridcolor": "white",
            "linecolor": "white",
            "ticks": ""
           },
           "bgcolor": "#E5ECF6",
           "caxis": {
            "gridcolor": "white",
            "linecolor": "white",
            "ticks": ""
           }
          },
          "title": {
           "x": 0.05
          },
          "xaxis": {
           "automargin": true,
           "gridcolor": "white",
           "linecolor": "white",
           "ticks": "",
           "title": {
            "standoff": 15
           },
           "zerolinecolor": "white",
           "zerolinewidth": 2
          },
          "yaxis": {
           "automargin": true,
           "gridcolor": "white",
           "linecolor": "white",
           "ticks": "",
           "title": {
            "standoff": 15
           },
           "zerolinecolor": "white",
           "zerolinewidth": 2
          }
         }
        },
        "title": {
         "text": "Probabilidade de marcar",
         "x": 0.5,
         "xanchor": "center",
         "y": 0.9,
         "yanchor": "top"
        },
        "width": 840,
        "xaxis": {
         "range": [
          -5,
          110
         ],
         "showgrid": false,
         "showticklabels": false,
         "zeroline": false
        },
        "yaxis": {
         "range": [
          -5,
          73
         ],
         "showgrid": false,
         "showticklabels": false,
         "zeroline": false
        }
       }
      }
     },
     "metadata": {},
     "output_type": "display_data"
    }
   ],
   "source": [
    "\n",
    "# numero de chutes por grid\n",
    "nb_goals, x, y = p.prepare_heatmap(goals, \"x\", \"y\", 24, 17)\n",
    "\n",
    "goal_proba = np.divide(nb_goals, nb_shots, out=np.zeros_like(nb_goals), where=nb_shots!=0) * 100\n",
    "\n",
    "\n",
    "# plotando o heatmap\n",
    "dict_info = {\"Probabilidade de marcar (em %)\": {\"values\": goal_proba, \"display_type\": \".1f\"},\n",
    "             \"Fração de chutes (em %)\": {\"values\": share_shots, \"display_type\": \".2f\"},\n",
    "             \"Numero de chutes\": {\"values\": nb_shots, \"display_type\": \".0f\"},\n",
    "             \"Numero de goals\": {\"values\": nb_goals, \"display_type\": \".0f\"}}\n",
    "fig = p.create_heatmap(x, y, goal_proba, dict_info, title_name=\"Probabilidade de marcar\")\n",
    "fig.show()"
   ]
  },
  {
   "attachments": {},
   "cell_type": "markdown",
   "id": "ffe6a853",
   "metadata": {},
   "source": [
    "É possível notar que a probabilidade marcar é maior quando se está na área adversária. Curioso notar também que existem alguns outliers no dataset, que são gols que são marcados de muito longe, incluindo um caso que o chute partiu da área adversária e outro da lateral do campo na altura do círculo central. Vamos olhar mais de perto dentro da área no próximo plot"
   ]
  },
  {
   "cell_type": "code",
   "execution_count": 32,
   "id": "4fe63851",
   "metadata": {},
   "outputs": [
    {
     "data": {
      "image/png": "[encoded data removed]",
      "text/plain": [
       "<Figure size 1071.07x900 with 4 Axes>"
      ]
     },
     "metadata": {},
     "output_type": "display_data"
    }
   ],
   "source": [
    "#plot pitch\n",
    "pitch = VerticalPitch(line_color='black', half = True, pitch_type='custom', pitch_length=105, pitch_width=68, line_zorder = 2)\n",
    "fig, ax = pitch.grid(grid_height=0.9, title_height=0.06, axis=False,\n",
    "                     endnote_height=0.04, title_space=0, endnote_space=0)\n",
    "bin_statistic = pitch.bin_statistic(105 - shots['x'], shots['y'], bins = 50)\n",
    "#normalize number of goals by number of shots\n",
    "bin_statistic_goals = pitch.bin_statistic(105 - goals['x'], goals['y'], bins=50)\n",
    "bin_statistic[\"statistic\"] = bin_statistic_goals[\"statistic\"]/bin_statistic[\"statistic\"]\n",
    "#plot heatmap\n",
    "pcm = pitch.heatmap(bin_statistic, ax=ax[\"pitch\"], cmap='Reds', edgecolor='white', vmin = 0, vmax = 0.6)\n",
    "#make legend\n",
    "ax_cbar = fig.add_axes((0.95, 0.05, 0.04, 0.8))\n",
    "cbar = plt.colorbar(pcm, cax=ax_cbar)\n",
    "fig.suptitle('Probabilidade de marcar' , fontsize = 30)\n",
    "plt.show()"
   ]
  },
  {
   "cell_type": "code",
   "execution_count": 35,
   "id": "517d9df4",
   "metadata": {},
   "outputs": [
    {
     "data": {
      "text/plain": [
       "<AxesSubplot: xlabel='x', ylabel='Count'>"
      ]
     },
     "execution_count": 35,
     "metadata": {},
     "output_type": "execute_result"
    },
    {
     "data": {
      "image/png": "[encoded data removed]",
      "text/plain": [
       "<Figure size 640x480 with 1 Axes>"
      ]
     },
     "metadata": {},
     "output_type": "display_data"
    }
   ],
   "source": [
    "sns.histplot(shots['x'])"
   ]
  },
  {
   "cell_type": "code",
   "execution_count": 43,
   "id": "5aa2c36e",
   "metadata": {},
   "outputs": [
    {
     "data": {
      "text/plain": [
       "<AxesSubplot: xlabel='angle', ylabel='Count'>"
      ]
     },
     "execution_count": 43,
     "metadata": {},
     "output_type": "execute_result"
    },
    {
     "data": {
      "image/png": "[encoded data removed]",
      "text/plain": [
       "<Figure size 640x480 with 1 Axes>"
      ]
     },
     "metadata": {},
     "output_type": "display_data"
    }
   ],
   "source": [
    "sns.histplot(shots['angle'])"
   ]
  },
  {
   "cell_type": "code",
   "execution_count": 42,
   "id": "6e20f281",
   "metadata": {},
   "outputs": [
    {
     "data": {
      "text/html": [
       "<div>\n",
       "<style scoped>\n",
       "    .dataframe tbody tr th:only-of-type {\n",
       "        vertical-align: middle;\n",
       "    }\n",
       "\n",
       "    .dataframe tbody tr th {\n",
       "        vertical-align: top;\n",
       "    }\n",
       "\n",
       "    .dataframe thead th {\n",
       "        text-align: right;\n",
       "    }\n",
       "</style>\n",
       "<table border=\"1\" class=\"dataframe\">\n",
       "  <thead>\n",
       "    <tr style=\"text-align: right;\">\n",
       "      <th></th>\n",
       "      <th>eventId</th>\n",
       "      <th>subEventName</th>\n",
       "      <th>tags</th>\n",
       "      <th>playerId</th>\n",
       "      <th>positions</th>\n",
       "      <th>matchId</th>\n",
       "      <th>eventName</th>\n",
       "      <th>teamId</th>\n",
       "      <th>matchPeriod</th>\n",
       "      <th>eventSec</th>\n",
       "      <th>subEventId</th>\n",
       "      <th>id</th>\n",
       "      <th>wyId</th>\n",
       "      <th>foot</th>\n",
       "      <th>firstName</th>\n",
       "      <th>lastName</th>\n",
       "      <th>previous_event</th>\n",
       "      <th>x</th>\n",
       "      <th>y</th>\n",
       "      <th>c</th>\n",
       "      <th>distance</th>\n",
       "      <th>angle</th>\n",
       "      <th>goal</th>\n",
       "      <th>free_kick</th>\n",
       "      <th>counter_attack</th>\n",
       "      <th>rebound</th>\n",
       "      <th>prev_cross</th>\n",
       "      <th>prev_touch</th>\n",
       "      <th>prev_pass</th>\n",
       "      <th>prev_smart_pass</th>\n",
       "      <th>prev_duel</th>\n",
       "    </tr>\n",
       "  </thead>\n",
       "  <tbody>\n",
       "    <tr>\n",
       "      <th>209489</th>\n",
       "      <td>10</td>\n",
       "      <td>Shot</td>\n",
       "      <td>[{'id': 101}, {'id': 402}, {'id': 201}, {'id':...</td>\n",
       "      <td>7944</td>\n",
       "      <td>[{'x': 44, 'y': 40}, {'x': 0, 'y': 0}]</td>\n",
       "      <td>2499856</td>\n",
       "      <td>Shot</td>\n",
       "      <td>1623</td>\n",
       "      <td>2H</td>\n",
       "      <td>1254.782389</td>\n",
       "      <td>100</td>\n",
       "      <td>210484394</td>\n",
       "      <td>7944</td>\n",
       "      <td>right</td>\n",
       "      <td>Wayne</td>\n",
       "      <td>Rooney</td>\n",
       "      <td>Simple pass</td>\n",
       "      <td>58.80</td>\n",
       "      <td>27.20</td>\n",
       "      <td>6.80</td>\n",
       "      <td>59.191891</td>\n",
       "      <td>0.122699</td>\n",
       "      <td>1</td>\n",
       "      <td>0</td>\n",
       "      <td>0</td>\n",
       "      <td>0</td>\n",
       "      <td>0</td>\n",
       "      <td>0</td>\n",
       "      <td>1</td>\n",
       "      <td>0</td>\n",
       "      <td>0</td>\n",
       "    </tr>\n",
       "    <tr>\n",
       "      <th>1034573</th>\n",
       "      <td>10</td>\n",
       "      <td>Shot</td>\n",
       "      <td>[{'id': 101}, {'id': 402}, {'id': 201}, {'id':...</td>\n",
       "      <td>28115</td>\n",
       "      <td>[{'x': 53, 'y': 32}, {'x': 0, 'y': 0}]</td>\n",
       "      <td>2500707</td>\n",
       "      <td>Shot</td>\n",
       "      <td>3766</td>\n",
       "      <td>1H</td>\n",
       "      <td>559.297626</td>\n",
       "      <td>100</td>\n",
       "      <td>180038263</td>\n",
       "      <td>28115</td>\n",
       "      <td>left</td>\n",
       "      <td>Nabil</td>\n",
       "      <td>Fekir</td>\n",
       "      <td>Touch</td>\n",
       "      <td>49.35</td>\n",
       "      <td>21.76</td>\n",
       "      <td>12.24</td>\n",
       "      <td>50.845256</td>\n",
       "      <td>0.139547</td>\n",
       "      <td>1</td>\n",
       "      <td>0</td>\n",
       "      <td>0</td>\n",
       "      <td>0</td>\n",
       "      <td>0</td>\n",
       "      <td>1</td>\n",
       "      <td>0</td>\n",
       "      <td>0</td>\n",
       "      <td>0</td>\n",
       "    </tr>\n",
       "    <tr>\n",
       "      <th>1200748</th>\n",
       "      <td>10</td>\n",
       "      <td>Shot</td>\n",
       "      <td>[{'id': 101}, {'id': 401}, {'id': 201}, {'id':...</td>\n",
       "      <td>25715</td>\n",
       "      <td>[{'x': 51, 'y': 25}, {'x': 100, 'y': 100}]</td>\n",
       "      <td>2500888</td>\n",
       "      <td>Shot</td>\n",
       "      <td>3783</td>\n",
       "      <td>2H</td>\n",
       "      <td>2893.810499</td>\n",
       "      <td>100</td>\n",
       "      <td>221554614</td>\n",
       "      <td>25715</td>\n",
       "      <td>right</td>\n",
       "      <td>Ronny</td>\n",
       "      <td>Rodelin</td>\n",
       "      <td>Simple pass</td>\n",
       "      <td>51.45</td>\n",
       "      <td>17.00</td>\n",
       "      <td>17.00</td>\n",
       "      <td>54.185815</td>\n",
       "      <td>0.128152</td>\n",
       "      <td>1</td>\n",
       "      <td>0</td>\n",
       "      <td>0</td>\n",
       "      <td>0</td>\n",
       "      <td>0</td>\n",
       "      <td>0</td>\n",
       "      <td>1</td>\n",
       "      <td>0</td>\n",
       "      <td>0</td>\n",
       "    </tr>\n",
       "    <tr>\n",
       "      <th>1643009</th>\n",
       "      <td>10</td>\n",
       "      <td>Shot</td>\n",
       "      <td>[{'id': 101}, {'id': 402}, {'id': 1401}, {'id'...</td>\n",
       "      <td>14734</td>\n",
       "      <td>[{'x': 60, 'y': 72}, {'x': 100, 'y': 100}]</td>\n",
       "      <td>2516911</td>\n",
       "      <td>Shot</td>\n",
       "      <td>2453</td>\n",
       "      <td>2H</td>\n",
       "      <td>1334.772942</td>\n",
       "      <td>100</td>\n",
       "      <td>223975587</td>\n",
       "      <td>14734</td>\n",
       "      <td>right</td>\n",
       "      <td>Nils</td>\n",
       "      <td>Petersen</td>\n",
       "      <td>Simple pass</td>\n",
       "      <td>42.00</td>\n",
       "      <td>48.96</td>\n",
       "      <td>14.96</td>\n",
       "      <td>44.584769</td>\n",
       "      <td>0.154472</td>\n",
       "      <td>1</td>\n",
       "      <td>0</td>\n",
       "      <td>0</td>\n",
       "      <td>0</td>\n",
       "      <td>0</td>\n",
       "      <td>0</td>\n",
       "      <td>1</td>\n",
       "      <td>0</td>\n",
       "      <td>0</td>\n",
       "    </tr>\n",
       "    <tr>\n",
       "      <th>1890845</th>\n",
       "      <td>10</td>\n",
       "      <td>Shot</td>\n",
       "      <td>[{'id': 101}, {'id': 402}, {'id': 201}, {'id':...</td>\n",
       "      <td>224680</td>\n",
       "      <td>[{'x': 55, 'y': 100}, {'x': 0, 'y': 0}]</td>\n",
       "      <td>2516933</td>\n",
       "      <td>Shot</td>\n",
       "      <td>2462</td>\n",
       "      <td>2H</td>\n",
       "      <td>1263.092525</td>\n",
       "      <td>100</td>\n",
       "      <td>227230696</td>\n",
       "      <td>224680</td>\n",
       "      <td>right</td>\n",
       "      <td>Marius</td>\n",
       "      <td>Wolf</td>\n",
       "      <td>Simple pass</td>\n",
       "      <td>47.25</td>\n",
       "      <td>68.00</td>\n",
       "      <td>34.00</td>\n",
       "      <td>58.211361</td>\n",
       "      <td>0.102118</td>\n",
       "      <td>1</td>\n",
       "      <td>0</td>\n",
       "      <td>0</td>\n",
       "      <td>0</td>\n",
       "      <td>0</td>\n",
       "      <td>0</td>\n",
       "      <td>1</td>\n",
       "      <td>0</td>\n",
       "      <td>0</td>\n",
       "    </tr>\n",
       "    <tr>\n",
       "      <th>1689948</th>\n",
       "      <td>10</td>\n",
       "      <td>Shot</td>\n",
       "      <td>[{'id': 101}, {'id': 403}, {'id': 201}, {'id':...</td>\n",
       "      <td>15069</td>\n",
       "      <td>[{'x': 8, 'y': 49}, {'x': 100, 'y': 100}]</td>\n",
       "      <td>2516989</td>\n",
       "      <td>Shot</td>\n",
       "      <td>2975</td>\n",
       "      <td>2H</td>\n",
       "      <td>482.920385</td>\n",
       "      <td>100</td>\n",
       "      <td>238892068</td>\n",
       "      <td>15069</td>\n",
       "      <td>right</td>\n",
       "      <td>Willi</td>\n",
       "      <td>Orban</td>\n",
       "      <td>Cross</td>\n",
       "      <td>96.60</td>\n",
       "      <td>33.32</td>\n",
       "      <td>0.68</td>\n",
       "      <td>96.602393</td>\n",
       "      <td>0.075736</td>\n",
       "      <td>1</td>\n",
       "      <td>0</td>\n",
       "      <td>0</td>\n",
       "      <td>0</td>\n",
       "      <td>1</td>\n",
       "      <td>0</td>\n",
       "      <td>0</td>\n",
       "      <td>0</td>\n",
       "      <td>0</td>\n",
       "    </tr>\n",
       "    <tr>\n",
       "      <th>1693108</th>\n",
       "      <td>10</td>\n",
       "      <td>Shot</td>\n",
       "      <td>[{'id': 101}, {'id': 1901}, {'id': 402}, {'id'...</td>\n",
       "      <td>56274</td>\n",
       "      <td>[{'x': 3, 'y': 49}, {'x': 100, 'y': 100}]</td>\n",
       "      <td>2516989</td>\n",
       "      <td>Shot</td>\n",
       "      <td>2975</td>\n",
       "      <td>2H</td>\n",
       "      <td>1858.745879</td>\n",
       "      <td>100</td>\n",
       "      <td>238892453</td>\n",
       "      <td>56274</td>\n",
       "      <td>right</td>\n",
       "      <td>Yussuf</td>\n",
       "      <td>Yurary Poulsen</td>\n",
       "      <td>Cross</td>\n",
       "      <td>101.85</td>\n",
       "      <td>33.32</td>\n",
       "      <td>0.68</td>\n",
       "      <td>101.852270</td>\n",
       "      <td>0.071836</td>\n",
       "      <td>1</td>\n",
       "      <td>0</td>\n",
       "      <td>1</td>\n",
       "      <td>0</td>\n",
       "      <td>1</td>\n",
       "      <td>0</td>\n",
       "      <td>0</td>\n",
       "      <td>0</td>\n",
       "      <td>0</td>\n",
       "    </tr>\n",
       "    <tr>\n",
       "      <th>2119524</th>\n",
       "      <td>10</td>\n",
       "      <td>Shot</td>\n",
       "      <td>[{'id': 101}, {'id': 401}, {'id': 201}, {'id':...</td>\n",
       "      <td>4015</td>\n",
       "      <td>[{'x': 1, 'y': 51}, {'x': 0, 'y': 0}]</td>\n",
       "      <td>2565775</td>\n",
       "      <td>Shot</td>\n",
       "      <td>680</td>\n",
       "      <td>2H</td>\n",
       "      <td>37.063761</td>\n",
       "      <td>100</td>\n",
       "      <td>227470407</td>\n",
       "      <td>4015</td>\n",
       "      <td>left</td>\n",
       "      <td>Pablo</td>\n",
       "      <td>Sarabia Garc\\u00eda</td>\n",
       "      <td>Reflexes</td>\n",
       "      <td>103.95</td>\n",
       "      <td>34.68</td>\n",
       "      <td>0.68</td>\n",
       "      <td>103.952224</td>\n",
       "      <td>0.070386</td>\n",
       "      <td>1</td>\n",
       "      <td>0</td>\n",
       "      <td>0</td>\n",
       "      <td>0</td>\n",
       "      <td>0</td>\n",
       "      <td>0</td>\n",
       "      <td>0</td>\n",
       "      <td>0</td>\n",
       "      <td>0</td>\n",
       "    </tr>\n",
       "  </tbody>\n",
       "</table>\n",
       "</div>"
      ],
      "text/plain": [
       "         eventId subEventName  \\\n",
       "209489        10         Shot   \n",
       "1034573       10         Shot   \n",
       "1200748       10         Shot   \n",
       "1643009       10         Shot   \n",
       "1890845       10         Shot   \n",
       "1689948       10         Shot   \n",
       "1693108       10         Shot   \n",
       "2119524       10         Shot   \n",
       "\n",
       "                                                      tags  playerId  \\\n",
       "209489   [{'id': 101}, {'id': 402}, {'id': 201}, {'id':...      7944   \n",
       "1034573  [{'id': 101}, {'id': 402}, {'id': 201}, {'id':...     28115   \n",
       "1200748  [{'id': 101}, {'id': 401}, {'id': 201}, {'id':...     25715   \n",
       "1643009  [{'id': 101}, {'id': 402}, {'id': 1401}, {'id'...     14734   \n",
       "1890845  [{'id': 101}, {'id': 402}, {'id': 201}, {'id':...    224680   \n",
       "1689948  [{'id': 101}, {'id': 403}, {'id': 201}, {'id':...     15069   \n",
       "1693108  [{'id': 101}, {'id': 1901}, {'id': 402}, {'id'...     56274   \n",
       "2119524  [{'id': 101}, {'id': 401}, {'id': 201}, {'id':...      4015   \n",
       "\n",
       "                                          positions  matchId eventName  \\\n",
       "209489       [{'x': 44, 'y': 40}, {'x': 0, 'y': 0}]  2499856      Shot   \n",
       "1034573      [{'x': 53, 'y': 32}, {'x': 0, 'y': 0}]  2500707      Shot   \n",
       "1200748  [{'x': 51, 'y': 25}, {'x': 100, 'y': 100}]  2500888      Shot   \n",
       "1643009  [{'x': 60, 'y': 72}, {'x': 100, 'y': 100}]  2516911      Shot   \n",
       "1890845     [{'x': 55, 'y': 100}, {'x': 0, 'y': 0}]  2516933      Shot   \n",
       "1689948   [{'x': 8, 'y': 49}, {'x': 100, 'y': 100}]  2516989      Shot   \n",
       "1693108   [{'x': 3, 'y': 49}, {'x': 100, 'y': 100}]  2516989      Shot   \n",
       "2119524       [{'x': 1, 'y': 51}, {'x': 0, 'y': 0}]  2565775      Shot   \n",
       "\n",
       "         teamId matchPeriod     eventSec  subEventId         id    wyId  \\\n",
       "209489     1623          2H  1254.782389         100  210484394    7944   \n",
       "1034573    3766          1H   559.297626         100  180038263   28115   \n",
       "1200748    3783          2H  2893.810499         100  221554614   25715   \n",
       "1643009    2453          2H  1334.772942         100  223975587   14734   \n",
       "1890845    2462          2H  1263.092525         100  227230696  224680   \n",
       "1689948    2975          2H   482.920385         100  238892068   15069   \n",
       "1693108    2975          2H  1858.745879         100  238892453   56274   \n",
       "2119524     680          2H    37.063761         100  227470407    4015   \n",
       "\n",
       "          foot firstName             lastName previous_event       x      y  \\\n",
       "209489   right     Wayne               Rooney    Simple pass   58.80  27.20   \n",
       "1034573   left     Nabil                Fekir          Touch   49.35  21.76   \n",
       "1200748  right     Ronny              Rodelin    Simple pass   51.45  17.00   \n",
       "1643009  right      Nils             Petersen    Simple pass   42.00  48.96   \n",
       "1890845  right    Marius                 Wolf    Simple pass   47.25  68.00   \n",
       "1689948  right     Willi                Orban          Cross   96.60  33.32   \n",
       "1693108  right    Yussuf       Yurary Poulsen          Cross  101.85  33.32   \n",
       "2119524   left     Pablo  Sarabia Garc\\u00eda       Reflexes  103.95  34.68   \n",
       "\n",
       "             c    distance     angle  goal  free_kick  counter_attack  \\\n",
       "209489    6.80   59.191891  0.122699     1          0               0   \n",
       "1034573  12.24   50.845256  0.139547     1          0               0   \n",
       "1200748  17.00   54.185815  0.128152     1          0               0   \n",
       "1643009  14.96   44.584769  0.154472     1          0               0   \n",
       "1890845  34.00   58.211361  0.102118     1          0               0   \n",
       "1689948   0.68   96.602393  0.075736     1          0               0   \n",
       "1693108   0.68  101.852270  0.071836     1          0               1   \n",
       "2119524   0.68  103.952224  0.070386     1          0               0   \n",
       "\n",
       "         rebound  prev_cross  prev_touch  prev_pass  prev_smart_pass  \\\n",
       "209489         0           0           0          1                0   \n",
       "1034573        0           0           1          0                0   \n",
       "1200748        0           0           0          1                0   \n",
       "1643009        0           0           0          1                0   \n",
       "1890845        0           0           0          1                0   \n",
       "1689948        0           1           0          0                0   \n",
       "1693108        0           1           0          0                0   \n",
       "2119524        0           0           0          0                0   \n",
       "\n",
       "         prev_duel  \n",
       "209489           0  \n",
       "1034573          0  \n",
       "1200748          0  \n",
       "1643009          0  \n",
       "1890845          0  \n",
       "1689948          0  \n",
       "1693108          0  \n",
       "2119524          0  "
      ]
     },
     "execution_count": 42,
     "metadata": {},
     "output_type": "execute_result"
    }
   ],
   "source": [
    "outliers = shots[(shots['x'] > 40) & shots['goal'] == 1]\n",
    "outliers"
   ]
  },
  {
   "cell_type": "code",
   "execution_count": 40,
   "id": "83ee23c1",
   "metadata": {},
   "outputs": [
    {
     "name": "stderr",
     "output_type": "stream",
     "text": [
      "/Users/lucasmaretti/Documents/repos/football_analytics/aux_functions_plot.py:500: FutureWarning:\n",
      "\n",
      "In a future version of pandas all arguments of DataFrame.pivot will be keyword-only.\n",
      "\n"
     ]
    },
    {
     "data": {
      "application/vnd.plotly.v1+json": {
       "config": {
        "plotlyServerURL": "https://plot.ly"
       },
       "data": [
        {
         "hoverinfo": "text",
         "text": [
          [
           "Proporção de chutes (em %): 0.00<br />Número de chutes: 0<br />",
           "Proporção de chutes (em %): 0.00<br />Número de chutes: 0<br />",
           "Proporção de chutes (em %): 0.00<br />Número de chutes: 0<br />",
           "Proporção de chutes (em %): 0.00<br />Número de chutes: 0<br />",
           "Proporção de chutes (em %): 0.00<br />Número de chutes: 0<br />",
           "Proporção de chutes (em %): 0.00<br />Número de chutes: 0<br />",
           "Proporção de chutes (em %): 0.00<br />Número de chutes: 0<br />",
           "Proporção de chutes (em %): 0.00<br />Número de chutes: 0<br />",
           "Proporção de chutes (em %): 0.00<br />Número de chutes: 0<br />",
           "Proporção de chutes (em %): 0.00<br />Número de chutes: 0<br />",
           "Proporção de chutes (em %): 0.00<br />Número de chutes: 0<br />",
           "Proporção de chutes (em %): 0.00<br />Número de chutes: 0<br />",
           "Proporção de chutes (em %): 0.00<br />Número de chutes: 0<br />",
           "Proporção de chutes (em %): 0.00<br />Número de chutes: 0<br />",
           "Proporção de chutes (em %): 0.00<br />Número de chutes: 0<br />",
           "Proporção de chutes (em %): 0.00<br />Número de chutes: 0<br />",
           "Proporção de chutes (em %): 0.00<br />Número de chutes: 0<br />",
           "Proporção de chutes (em %): 0.00<br />Número de chutes: 0<br />",
           "Proporção de chutes (em %): 0.00<br />Número de chutes: 0<br />",
           "Proporção de chutes (em %): 0.00<br />Número de chutes: 0<br />",
           "Proporção de chutes (em %): 0.00<br />Número de chutes: 0<br />",
           "Proporção de chutes (em %): 0.00<br />Número de chutes: 0<br />",
           "Proporção de chutes (em %): 0.00<br />Número de chutes: 0<br />",
           "Proporção de chutes (em %): 0.00<br />Número de chutes: 0<br />"
          ],
          [
           "Proporção de chutes (em %): 0.00<br />Número de chutes: 0<br />",
           "Proporção de chutes (em %): 0.00<br />Número de chutes: 0<br />",
           "Proporção de chutes (em %): 0.00<br />Número de chutes: 0<br />",
           "Proporção de chutes (em %): 0.00<br />Número de chutes: 0<br />",
           "Proporção de chutes (em %): 0.00<br />Número de chutes: 0<br />",
           "Proporção de chutes (em %): 0.00<br />Número de chutes: 0<br />",
           "Proporção de chutes (em %): 0.00<br />Número de chutes: 0<br />",
           "Proporção de chutes (em %): 0.00<br />Número de chutes: 0<br />",
           "Proporção de chutes (em %): 0.00<br />Número de chutes: 0<br />",
           "Proporção de chutes (em %): 0.00<br />Número de chutes: 0<br />",
           "Proporção de chutes (em %): 0.00<br />Número de chutes: 0<br />",
           "Proporção de chutes (em %): 0.00<br />Número de chutes: 0<br />",
           "Proporção de chutes (em %): 0.00<br />Número de chutes: 0<br />",
           "Proporção de chutes (em %): 0.00<br />Número de chutes: 0<br />",
           "Proporção de chutes (em %): 0.00<br />Número de chutes: 0<br />",
           "Proporção de chutes (em %): 0.00<br />Número de chutes: 0<br />",
           "Proporção de chutes (em %): 0.00<br />Número de chutes: 0<br />",
           "Proporção de chutes (em %): 0.00<br />Número de chutes: 0<br />",
           "Proporção de chutes (em %): 0.00<br />Número de chutes: 0<br />",
           "Proporção de chutes (em %): 0.00<br />Número de chutes: 0<br />",
           "Proporção de chutes (em %): 0.00<br />Número de chutes: 0<br />",
           "Proporção de chutes (em %): 0.00<br />Número de chutes: 0<br />",
           "Proporção de chutes (em %): 0.00<br />Número de chutes: 0<br />",
           "Proporção de chutes (em %): 0.00<br />Número de chutes: 0<br />"
          ],
          [
           "Proporção de chutes (em %): 0.00<br />Número de chutes: 0<br />",
           "Proporção de chutes (em %): 0.00<br />Número de chutes: 0<br />",
           "Proporção de chutes (em %): 0.00<br />Número de chutes: 0<br />",
           "Proporção de chutes (em %): 0.00<br />Número de chutes: 0<br />",
           "Proporção de chutes (em %): 0.00<br />Número de chutes: 0<br />",
           "Proporção de chutes (em %): 0.00<br />Número de chutes: 0<br />",
           "Proporção de chutes (em %): 0.00<br />Número de chutes: 0<br />",
           "Proporção de chutes (em %): 0.00<br />Número de chutes: 0<br />",
           "Proporção de chutes (em %): 0.00<br />Número de chutes: 0<br />",
           "Proporção de chutes (em %): 0.00<br />Número de chutes: 0<br />",
           "Proporção de chutes (em %): 0.00<br />Número de chutes: 0<br />",
           "Proporção de chutes (em %): 0.00<br />Número de chutes: 0<br />",
           "Proporção de chutes (em %): 0.00<br />Número de chutes: 0<br />",
           "Proporção de chutes (em %): 0.00<br />Número de chutes: 0<br />",
           "Proporção de chutes (em %): 0.00<br />Número de chutes: 0<br />",
           "Proporção de chutes (em %): 0.00<br />Número de chutes: 0<br />",
           "Proporção de chutes (em %): 0.00<br />Número de chutes: 0<br />",
           "Proporção de chutes (em %): 0.00<br />Número de chutes: 0<br />",
           "Proporção de chutes (em %): 0.00<br />Número de chutes: 0<br />",
           "Proporção de chutes (em %): 0.00<br />Número de chutes: 0<br />",
           "Proporção de chutes (em %): 0.00<br />Número de chutes: 0<br />",
           "Proporção de chutes (em %): 0.00<br />Número de chutes: 0<br />",
           "Proporção de chutes (em %): 0.00<br />Número de chutes: 0<br />",
           "Proporção de chutes (em %): 0.00<br />Número de chutes: 0<br />"
          ],
          [
           "Proporção de chutes (em %): 0.00<br />Número de chutes: 0<br />",
           "Proporção de chutes (em %): 0.00<br />Número de chutes: 0<br />",
           "Proporção de chutes (em %): 0.00<br />Número de chutes: 0<br />",
           "Proporção de chutes (em %): 0.00<br />Número de chutes: 0<br />",
           "Proporção de chutes (em %): 0.00<br />Número de chutes: 0<br />",
           "Proporção de chutes (em %): 0.00<br />Número de chutes: 0<br />",
           "Proporção de chutes (em %): 0.00<br />Número de chutes: 0<br />",
           "Proporção de chutes (em %): 0.00<br />Número de chutes: 0<br />",
           "Proporção de chutes (em %): 0.00<br />Número de chutes: 0<br />",
           "Proporção de chutes (em %): 0.00<br />Número de chutes: 0<br />",
           "Proporção de chutes (em %): 0.00<br />Número de chutes: 0<br />",
           "Proporção de chutes (em %): 0.00<br />Número de chutes: 0<br />",
           "Proporção de chutes (em %): 0.00<br />Número de chutes: 0<br />",
           "Proporção de chutes (em %): 0.00<br />Número de chutes: 0<br />",
           "Proporção de chutes (em %): 0.00<br />Número de chutes: 0<br />",
           "Proporção de chutes (em %): 0.00<br />Número de chutes: 0<br />",
           "Proporção de chutes (em %): 0.00<br />Número de chutes: 0<br />",
           "Proporção de chutes (em %): 0.00<br />Número de chutes: 0<br />",
           "Proporção de chutes (em %): 0.00<br />Número de chutes: 0<br />",
           "Proporção de chutes (em %): 0.00<br />Número de chutes: 0<br />",
           "Proporção de chutes (em %): 0.00<br />Número de chutes: 0<br />",
           "Proporção de chutes (em %): 0.00<br />Número de chutes: 0<br />",
           "Proporção de chutes (em %): 0.00<br />Número de chutes: 0<br />",
           "Proporção de chutes (em %): 0.00<br />Número de chutes: 0<br />"
          ],
          [
           "Proporção de chutes (em %): 0.00<br />Número de chutes: 0<br />",
           "Proporção de chutes (em %): 0.00<br />Número de chutes: 0<br />",
           "Proporção de chutes (em %): 0.00<br />Número de chutes: 0<br />",
           "Proporção de chutes (em %): 0.00<br />Número de chutes: 0<br />",
           "Proporção de chutes (em %): 0.00<br />Número de chutes: 0<br />",
           "Proporção de chutes (em %): 0.00<br />Número de chutes: 0<br />",
           "Proporção de chutes (em %): 0.00<br />Número de chutes: 0<br />",
           "Proporção de chutes (em %): 0.00<br />Número de chutes: 0<br />",
           "Proporção de chutes (em %): 0.00<br />Número de chutes: 0<br />",
           "Proporção de chutes (em %): 0.00<br />Número de chutes: 0<br />",
           "Proporção de chutes (em %): 0.00<br />Número de chutes: 0<br />",
           "Proporção de chutes (em %): 12.50<br />Número de chutes: 1<br />",
           "Proporção de chutes (em %): 0.00<br />Número de chutes: 0<br />",
           "Proporção de chutes (em %): 0.00<br />Número de chutes: 0<br />",
           "Proporção de chutes (em %): 0.00<br />Número de chutes: 0<br />",
           "Proporção de chutes (em %): 0.00<br />Número de chutes: 0<br />",
           "Proporção de chutes (em %): 0.00<br />Número de chutes: 0<br />",
           "Proporção de chutes (em %): 0.00<br />Número de chutes: 0<br />",
           "Proporção de chutes (em %): 0.00<br />Número de chutes: 0<br />",
           "Proporção de chutes (em %): 0.00<br />Número de chutes: 0<br />",
           "Proporção de chutes (em %): 0.00<br />Número de chutes: 0<br />",
           "Proporção de chutes (em %): 0.00<br />Número de chutes: 0<br />",
           "Proporção de chutes (em %): 0.00<br />Número de chutes: 0<br />",
           "Proporção de chutes (em %): 0.00<br />Número de chutes: 0<br />"
          ],
          [
           "Proporção de chutes (em %): 0.00<br />Número de chutes: 0<br />",
           "Proporção de chutes (em %): 0.00<br />Número de chutes: 0<br />",
           "Proporção de chutes (em %): 0.00<br />Número de chutes: 0<br />",
           "Proporção de chutes (em %): 0.00<br />Número de chutes: 0<br />",
           "Proporção de chutes (em %): 0.00<br />Número de chutes: 0<br />",
           "Proporção de chutes (em %): 0.00<br />Número de chutes: 0<br />",
           "Proporção de chutes (em %): 0.00<br />Número de chutes: 0<br />",
           "Proporção de chutes (em %): 0.00<br />Número de chutes: 0<br />",
           "Proporção de chutes (em %): 0.00<br />Número de chutes: 0<br />",
           "Proporção de chutes (em %): 0.00<br />Número de chutes: 0<br />",
           "Proporção de chutes (em %): 0.00<br />Número de chutes: 0<br />",
           "Proporção de chutes (em %): 12.50<br />Número de chutes: 1<br />",
           "Proporção de chutes (em %): 0.00<br />Número de chutes: 0<br />",
           "Proporção de chutes (em %): 0.00<br />Número de chutes: 0<br />",
           "Proporção de chutes (em %): 0.00<br />Número de chutes: 0<br />",
           "Proporção de chutes (em %): 0.00<br />Número de chutes: 0<br />",
           "Proporção de chutes (em %): 0.00<br />Número de chutes: 0<br />",
           "Proporção de chutes (em %): 0.00<br />Número de chutes: 0<br />",
           "Proporção de chutes (em %): 0.00<br />Número de chutes: 0<br />",
           "Proporção de chutes (em %): 0.00<br />Número de chutes: 0<br />",
           "Proporção de chutes (em %): 0.00<br />Número de chutes: 0<br />",
           "Proporção de chutes (em %): 0.00<br />Número de chutes: 0<br />",
           "Proporção de chutes (em %): 0.00<br />Número de chutes: 0<br />",
           "Proporção de chutes (em %): 0.00<br />Número de chutes: 0<br />"
          ],
          [
           "Proporção de chutes (em %): 0.00<br />Número de chutes: 0<br />",
           "Proporção de chutes (em %): 0.00<br />Número de chutes: 0<br />",
           "Proporção de chutes (em %): 0.00<br />Número de chutes: 0<br />",
           "Proporção de chutes (em %): 0.00<br />Número de chutes: 0<br />",
           "Proporção de chutes (em %): 0.00<br />Número de chutes: 0<br />",
           "Proporção de chutes (em %): 0.00<br />Número de chutes: 0<br />",
           "Proporção de chutes (em %): 0.00<br />Número de chutes: 0<br />",
           "Proporção de chutes (em %): 0.00<br />Número de chutes: 0<br />",
           "Proporção de chutes (em %): 0.00<br />Número de chutes: 0<br />",
           "Proporção de chutes (em %): 0.00<br />Número de chutes: 0<br />",
           "Proporção de chutes (em %): 0.00<br />Número de chutes: 0<br />",
           "Proporção de chutes (em %): 0.00<br />Número de chutes: 0<br />",
           "Proporção de chutes (em %): 0.00<br />Número de chutes: 0<br />",
           "Proporção de chutes (em %): 12.50<br />Número de chutes: 1<br />",
           "Proporção de chutes (em %): 0.00<br />Número de chutes: 0<br />",
           "Proporção de chutes (em %): 0.00<br />Número de chutes: 0<br />",
           "Proporção de chutes (em %): 0.00<br />Número de chutes: 0<br />",
           "Proporção de chutes (em %): 0.00<br />Número de chutes: 0<br />",
           "Proporção de chutes (em %): 0.00<br />Número de chutes: 0<br />",
           "Proporção de chutes (em %): 0.00<br />Número de chutes: 0<br />",
           "Proporção de chutes (em %): 0.00<br />Número de chutes: 0<br />",
           "Proporção de chutes (em %): 0.00<br />Número de chutes: 0<br />",
           "Proporção de chutes (em %): 0.00<br />Número de chutes: 0<br />",
           "Proporção de chutes (em %): 0.00<br />Número de chutes: 0<br />"
          ],
          [
           "Proporção de chutes (em %): 0.00<br />Número de chutes: 0<br />",
           "Proporção de chutes (em %): 0.00<br />Número de chutes: 0<br />",
           "Proporção de chutes (em %): 0.00<br />Número de chutes: 0<br />",
           "Proporção de chutes (em %): 0.00<br />Número de chutes: 0<br />",
           "Proporção de chutes (em %): 0.00<br />Número de chutes: 0<br />",
           "Proporção de chutes (em %): 0.00<br />Número de chutes: 0<br />",
           "Proporção de chutes (em %): 0.00<br />Número de chutes: 0<br />",
           "Proporção de chutes (em %): 0.00<br />Número de chutes: 0<br />",
           "Proporção de chutes (em %): 0.00<br />Número de chutes: 0<br />",
           "Proporção de chutes (em %): 0.00<br />Número de chutes: 0<br />",
           "Proporção de chutes (em %): 0.00<br />Número de chutes: 0<br />",
           "Proporção de chutes (em %): 0.00<br />Número de chutes: 0<br />",
           "Proporção de chutes (em %): 0.00<br />Número de chutes: 0<br />",
           "Proporção de chutes (em %): 0.00<br />Número de chutes: 0<br />",
           "Proporção de chutes (em %): 0.00<br />Número de chutes: 0<br />",
           "Proporção de chutes (em %): 0.00<br />Número de chutes: 0<br />",
           "Proporção de chutes (em %): 0.00<br />Número de chutes: 0<br />",
           "Proporção de chutes (em %): 0.00<br />Número de chutes: 0<br />",
           "Proporção de chutes (em %): 0.00<br />Número de chutes: 0<br />",
           "Proporção de chutes (em %): 0.00<br />Número de chutes: 0<br />",
           "Proporção de chutes (em %): 0.00<br />Número de chutes: 0<br />",
           "Proporção de chutes (em %): 0.00<br />Número de chutes: 0<br />",
           "Proporção de chutes (em %): 0.00<br />Número de chutes: 0<br />",
           "Proporção de chutes (em %): 0.00<br />Número de chutes: 0<br />"
          ],
          [
           "Proporção de chutes (em %): 0.00<br />Número de chutes: 0<br />",
           "Proporção de chutes (em %): 0.00<br />Número de chutes: 0<br />",
           "Proporção de chutes (em %): 0.00<br />Número de chutes: 0<br />",
           "Proporção de chutes (em %): 0.00<br />Número de chutes: 0<br />",
           "Proporção de chutes (em %): 0.00<br />Número de chutes: 0<br />",
           "Proporção de chutes (em %): 0.00<br />Número de chutes: 0<br />",
           "Proporção de chutes (em %): 0.00<br />Número de chutes: 0<br />",
           "Proporção de chutes (em %): 0.00<br />Número de chutes: 0<br />",
           "Proporção de chutes (em %): 0.00<br />Número de chutes: 0<br />",
           "Proporção de chutes (em %): 0.00<br />Número de chutes: 0<br />",
           "Proporção de chutes (em %): 0.00<br />Número de chutes: 0<br />",
           "Proporção de chutes (em %): 0.00<br />Número de chutes: 0<br />",
           "Proporção de chutes (em %): 0.00<br />Número de chutes: 0<br />",
           "Proporção de chutes (em %): 0.00<br />Número de chutes: 0<br />",
           "Proporção de chutes (em %): 0.00<br />Número de chutes: 0<br />",
           "Proporção de chutes (em %): 0.00<br />Número de chutes: 0<br />",
           "Proporção de chutes (em %): 0.00<br />Número de chutes: 0<br />",
           "Proporção de chutes (em %): 0.00<br />Número de chutes: 0<br />",
           "Proporção de chutes (em %): 0.00<br />Número de chutes: 0<br />",
           "Proporção de chutes (em %): 0.00<br />Número de chutes: 0<br />",
           "Proporção de chutes (em %): 0.00<br />Número de chutes: 0<br />",
           "Proporção de chutes (em %): 0.00<br />Número de chutes: 0<br />",
           "Proporção de chutes (em %): 12.50<br />Número de chutes: 1<br />",
           "Proporção de chutes (em %): 25.00<br />Número de chutes: 2<br />"
          ],
          [
           "Proporção de chutes (em %): 0.00<br />Número de chutes: 0<br />",
           "Proporção de chutes (em %): 0.00<br />Número de chutes: 0<br />",
           "Proporção de chutes (em %): 0.00<br />Número de chutes: 0<br />",
           "Proporção de chutes (em %): 0.00<br />Número de chutes: 0<br />",
           "Proporção de chutes (em %): 0.00<br />Número de chutes: 0<br />",
           "Proporção de chutes (em %): 0.00<br />Número de chutes: 0<br />",
           "Proporção de chutes (em %): 0.00<br />Número de chutes: 0<br />",
           "Proporção de chutes (em %): 0.00<br />Número de chutes: 0<br />",
           "Proporção de chutes (em %): 0.00<br />Número de chutes: 0<br />",
           "Proporção de chutes (em %): 0.00<br />Número de chutes: 0<br />",
           "Proporção de chutes (em %): 0.00<br />Número de chutes: 0<br />",
           "Proporção de chutes (em %): 0.00<br />Número de chutes: 0<br />",
           "Proporção de chutes (em %): 0.00<br />Número de chutes: 0<br />",
           "Proporção de chutes (em %): 0.00<br />Número de chutes: 0<br />",
           "Proporção de chutes (em %): 0.00<br />Número de chutes: 0<br />",
           "Proporção de chutes (em %): 0.00<br />Número de chutes: 0<br />",
           "Proporção de chutes (em %): 0.00<br />Número de chutes: 0<br />",
           "Proporção de chutes (em %): 0.00<br />Número de chutes: 0<br />",
           "Proporção de chutes (em %): 0.00<br />Número de chutes: 0<br />",
           "Proporção de chutes (em %): 0.00<br />Número de chutes: 0<br />",
           "Proporção de chutes (em %): 0.00<br />Número de chutes: 0<br />",
           "Proporção de chutes (em %): 0.00<br />Número de chutes: 0<br />",
           "Proporção de chutes (em %): 0.00<br />Número de chutes: 0<br />",
           "Proporção de chutes (em %): 0.00<br />Número de chutes: 0<br />"
          ],
          [
           "Proporção de chutes (em %): 0.00<br />Número de chutes: 0<br />",
           "Proporção de chutes (em %): 0.00<br />Número de chutes: 0<br />",
           "Proporção de chutes (em %): 0.00<br />Número de chutes: 0<br />",
           "Proporção de chutes (em %): 0.00<br />Número de chutes: 0<br />",
           "Proporção de chutes (em %): 0.00<br />Número de chutes: 0<br />",
           "Proporção de chutes (em %): 0.00<br />Número de chutes: 0<br />",
           "Proporção de chutes (em %): 0.00<br />Número de chutes: 0<br />",
           "Proporção de chutes (em %): 0.00<br />Número de chutes: 0<br />",
           "Proporção de chutes (em %): 0.00<br />Número de chutes: 0<br />",
           "Proporção de chutes (em %): 0.00<br />Número de chutes: 0<br />",
           "Proporção de chutes (em %): 0.00<br />Número de chutes: 0<br />",
           "Proporção de chutes (em %): 0.00<br />Número de chutes: 0<br />",
           "Proporção de chutes (em %): 0.00<br />Número de chutes: 0<br />",
           "Proporção de chutes (em %): 0.00<br />Número de chutes: 0<br />",
           "Proporção de chutes (em %): 0.00<br />Número de chutes: 0<br />",
           "Proporção de chutes (em %): 0.00<br />Número de chutes: 0<br />",
           "Proporção de chutes (em %): 0.00<br />Número de chutes: 0<br />",
           "Proporção de chutes (em %): 0.00<br />Número de chutes: 0<br />",
           "Proporção de chutes (em %): 0.00<br />Número de chutes: 0<br />",
           "Proporção de chutes (em %): 0.00<br />Número de chutes: 0<br />",
           "Proporção de chutes (em %): 0.00<br />Número de chutes: 0<br />",
           "Proporção de chutes (em %): 0.00<br />Número de chutes: 0<br />",
           "Proporção de chutes (em %): 0.00<br />Número de chutes: 0<br />",
           "Proporção de chutes (em %): 0.00<br />Número de chutes: 0<br />"
          ],
          [
           "Proporção de chutes (em %): 0.00<br />Número de chutes: 0<br />",
           "Proporção de chutes (em %): 0.00<br />Número de chutes: 0<br />",
           "Proporção de chutes (em %): 0.00<br />Número de chutes: 0<br />",
           "Proporção de chutes (em %): 0.00<br />Número de chutes: 0<br />",
           "Proporção de chutes (em %): 0.00<br />Número de chutes: 0<br />",
           "Proporção de chutes (em %): 0.00<br />Número de chutes: 0<br />",
           "Proporção de chutes (em %): 0.00<br />Número de chutes: 0<br />",
           "Proporção de chutes (em %): 0.00<br />Número de chutes: 0<br />",
           "Proporção de chutes (em %): 0.00<br />Número de chutes: 0<br />",
           "Proporção de chutes (em %): 0.00<br />Número de chutes: 0<br />",
           "Proporção de chutes (em %): 0.00<br />Número de chutes: 0<br />",
           "Proporção de chutes (em %): 0.00<br />Número de chutes: 0<br />",
           "Proporção de chutes (em %): 0.00<br />Número de chutes: 0<br />",
           "Proporção de chutes (em %): 0.00<br />Número de chutes: 0<br />",
           "Proporção de chutes (em %): 0.00<br />Número de chutes: 0<br />",
           "Proporção de chutes (em %): 0.00<br />Número de chutes: 0<br />",
           "Proporção de chutes (em %): 0.00<br />Número de chutes: 0<br />",
           "Proporção de chutes (em %): 0.00<br />Número de chutes: 0<br />",
           "Proporção de chutes (em %): 0.00<br />Número de chutes: 0<br />",
           "Proporção de chutes (em %): 0.00<br />Número de chutes: 0<br />",
           "Proporção de chutes (em %): 0.00<br />Número de chutes: 0<br />",
           "Proporção de chutes (em %): 0.00<br />Número de chutes: 0<br />",
           "Proporção de chutes (em %): 0.00<br />Número de chutes: 0<br />",
           "Proporção de chutes (em %): 0.00<br />Número de chutes: 0<br />"
          ],
          [
           "Proporção de chutes (em %): 0.00<br />Número de chutes: 0<br />",
           "Proporção de chutes (em %): 0.00<br />Número de chutes: 0<br />",
           "Proporção de chutes (em %): 0.00<br />Número de chutes: 0<br />",
           "Proporção de chutes (em %): 0.00<br />Número de chutes: 0<br />",
           "Proporção de chutes (em %): 0.00<br />Número de chutes: 0<br />",
           "Proporção de chutes (em %): 0.00<br />Número de chutes: 0<br />",
           "Proporção de chutes (em %): 0.00<br />Número de chutes: 0<br />",
           "Proporção de chutes (em %): 0.00<br />Número de chutes: 0<br />",
           "Proporção de chutes (em %): 0.00<br />Número de chutes: 0<br />",
           "Proporção de chutes (em %): 12.50<br />Número de chutes: 1<br />",
           "Proporção de chutes (em %): 0.00<br />Número de chutes: 0<br />",
           "Proporção de chutes (em %): 0.00<br />Número de chutes: 0<br />",
           "Proporção de chutes (em %): 0.00<br />Número de chutes: 0<br />",
           "Proporção de chutes (em %): 0.00<br />Número de chutes: 0<br />",
           "Proporção de chutes (em %): 0.00<br />Número de chutes: 0<br />",
           "Proporção de chutes (em %): 0.00<br />Número de chutes: 0<br />",
           "Proporção de chutes (em %): 0.00<br />Número de chutes: 0<br />",
           "Proporção de chutes (em %): 0.00<br />Número de chutes: 0<br />",
           "Proporção de chutes (em %): 0.00<br />Número de chutes: 0<br />",
           "Proporção de chutes (em %): 0.00<br />Número de chutes: 0<br />",
           "Proporção de chutes (em %): 0.00<br />Número de chutes: 0<br />",
           "Proporção de chutes (em %): 0.00<br />Número de chutes: 0<br />",
           "Proporção de chutes (em %): 0.00<br />Número de chutes: 0<br />",
           "Proporção de chutes (em %): 0.00<br />Número de chutes: 0<br />"
          ],
          [
           "Proporção de chutes (em %): 0.00<br />Número de chutes: 0<br />",
           "Proporção de chutes (em %): 0.00<br />Número de chutes: 0<br />",
           "Proporção de chutes (em %): 0.00<br />Número de chutes: 0<br />",
           "Proporção de chutes (em %): 0.00<br />Número de chutes: 0<br />",
           "Proporção de chutes (em %): 0.00<br />Número de chutes: 0<br />",
           "Proporção de chutes (em %): 0.00<br />Número de chutes: 0<br />",
           "Proporção de chutes (em %): 0.00<br />Número de chutes: 0<br />",
           "Proporção de chutes (em %): 0.00<br />Número de chutes: 0<br />",
           "Proporção de chutes (em %): 0.00<br />Número de chutes: 0<br />",
           "Proporção de chutes (em %): 0.00<br />Número de chutes: 0<br />",
           "Proporção de chutes (em %): 0.00<br />Número de chutes: 0<br />",
           "Proporção de chutes (em %): 0.00<br />Número de chutes: 0<br />",
           "Proporção de chutes (em %): 0.00<br />Número de chutes: 0<br />",
           "Proporção de chutes (em %): 0.00<br />Número de chutes: 0<br />",
           "Proporção de chutes (em %): 0.00<br />Número de chutes: 0<br />",
           "Proporção de chutes (em %): 0.00<br />Número de chutes: 0<br />",
           "Proporção de chutes (em %): 0.00<br />Número de chutes: 0<br />",
           "Proporção de chutes (em %): 0.00<br />Número de chutes: 0<br />",
           "Proporção de chutes (em %): 0.00<br />Número de chutes: 0<br />",
           "Proporção de chutes (em %): 0.00<br />Número de chutes: 0<br />",
           "Proporção de chutes (em %): 0.00<br />Número de chutes: 0<br />",
           "Proporção de chutes (em %): 0.00<br />Número de chutes: 0<br />",
           "Proporção de chutes (em %): 0.00<br />Número de chutes: 0<br />",
           "Proporção de chutes (em %): 0.00<br />Número de chutes: 0<br />"
          ],
          [
           "Proporção de chutes (em %): 0.00<br />Número de chutes: 0<br />",
           "Proporção de chutes (em %): 0.00<br />Número de chutes: 0<br />",
           "Proporção de chutes (em %): 0.00<br />Número de chutes: 0<br />",
           "Proporção de chutes (em %): 0.00<br />Número de chutes: 0<br />",
           "Proporção de chutes (em %): 0.00<br />Número de chutes: 0<br />",
           "Proporção de chutes (em %): 0.00<br />Número de chutes: 0<br />",
           "Proporção de chutes (em %): 0.00<br />Número de chutes: 0<br />",
           "Proporção de chutes (em %): 0.00<br />Número de chutes: 0<br />",
           "Proporção de chutes (em %): 0.00<br />Número de chutes: 0<br />",
           "Proporção de chutes (em %): 0.00<br />Número de chutes: 0<br />",
           "Proporção de chutes (em %): 0.00<br />Número de chutes: 0<br />",
           "Proporção de chutes (em %): 0.00<br />Número de chutes: 0<br />",
           "Proporção de chutes (em %): 0.00<br />Número de chutes: 0<br />",
           "Proporção de chutes (em %): 0.00<br />Número de chutes: 0<br />",
           "Proporção de chutes (em %): 0.00<br />Número de chutes: 0<br />",
           "Proporção de chutes (em %): 0.00<br />Número de chutes: 0<br />",
           "Proporção de chutes (em %): 0.00<br />Número de chutes: 0<br />",
           "Proporção de chutes (em %): 0.00<br />Número de chutes: 0<br />",
           "Proporção de chutes (em %): 0.00<br />Número de chutes: 0<br />",
           "Proporção de chutes (em %): 0.00<br />Número de chutes: 0<br />",
           "Proporção de chutes (em %): 0.00<br />Número de chutes: 0<br />",
           "Proporção de chutes (em %): 0.00<br />Número de chutes: 0<br />",
           "Proporção de chutes (em %): 0.00<br />Número de chutes: 0<br />",
           "Proporção de chutes (em %): 0.00<br />Número de chutes: 0<br />"
          ],
          [
           "Proporção de chutes (em %): 0.00<br />Número de chutes: 0<br />",
           "Proporção de chutes (em %): 0.00<br />Número de chutes: 0<br />",
           "Proporção de chutes (em %): 0.00<br />Número de chutes: 0<br />",
           "Proporção de chutes (em %): 0.00<br />Número de chutes: 0<br />",
           "Proporção de chutes (em %): 0.00<br />Número de chutes: 0<br />",
           "Proporção de chutes (em %): 0.00<br />Número de chutes: 0<br />",
           "Proporção de chutes (em %): 0.00<br />Número de chutes: 0<br />",
           "Proporção de chutes (em %): 0.00<br />Número de chutes: 0<br />",
           "Proporção de chutes (em %): 0.00<br />Número de chutes: 0<br />",
           "Proporção de chutes (em %): 0.00<br />Número de chutes: 0<br />",
           "Proporção de chutes (em %): 0.00<br />Número de chutes: 0<br />",
           "Proporção de chutes (em %): 0.00<br />Número de chutes: 0<br />",
           "Proporção de chutes (em %): 0.00<br />Número de chutes: 0<br />",
           "Proporção de chutes (em %): 0.00<br />Número de chutes: 0<br />",
           "Proporção de chutes (em %): 0.00<br />Número de chutes: 0<br />",
           "Proporção de chutes (em %): 0.00<br />Número de chutes: 0<br />",
           "Proporção de chutes (em %): 0.00<br />Número de chutes: 0<br />",
           "Proporção de chutes (em %): 0.00<br />Número de chutes: 0<br />",
           "Proporção de chutes (em %): 0.00<br />Número de chutes: 0<br />",
           "Proporção de chutes (em %): 0.00<br />Número de chutes: 0<br />",
           "Proporção de chutes (em %): 0.00<br />Número de chutes: 0<br />",
           "Proporção de chutes (em %): 0.00<br />Número de chutes: 0<br />",
           "Proporção de chutes (em %): 0.00<br />Número de chutes: 0<br />",
           "Proporção de chutes (em %): 0.00<br />Número de chutes: 0<br />"
          ],
          [
           "Proporção de chutes (em %): 0.00<br />Número de chutes: 0<br />",
           "Proporção de chutes (em %): 0.00<br />Número de chutes: 0<br />",
           "Proporção de chutes (em %): 0.00<br />Número de chutes: 0<br />",
           "Proporção de chutes (em %): 0.00<br />Número de chutes: 0<br />",
           "Proporção de chutes (em %): 0.00<br />Número de chutes: 0<br />",
           "Proporção de chutes (em %): 0.00<br />Número de chutes: 0<br />",
           "Proporção de chutes (em %): 0.00<br />Número de chutes: 0<br />",
           "Proporção de chutes (em %): 0.00<br />Número de chutes: 0<br />",
           "Proporção de chutes (em %): 0.00<br />Número de chutes: 0<br />",
           "Proporção de chutes (em %): 0.00<br />Número de chutes: 0<br />",
           "Proporção de chutes (em %): 12.50<br />Número de chutes: 1<br />",
           "Proporção de chutes (em %): 0.00<br />Número de chutes: 0<br />",
           "Proporção de chutes (em %): 0.00<br />Número de chutes: 0<br />",
           "Proporção de chutes (em %): 0.00<br />Número de chutes: 0<br />",
           "Proporção de chutes (em %): 0.00<br />Número de chutes: 0<br />",
           "Proporção de chutes (em %): 0.00<br />Número de chutes: 0<br />",
           "Proporção de chutes (em %): 0.00<br />Número de chutes: 0<br />",
           "Proporção de chutes (em %): 0.00<br />Número de chutes: 0<br />",
           "Proporção de chutes (em %): 0.00<br />Número de chutes: 0<br />",
           "Proporção de chutes (em %): 0.00<br />Número de chutes: 0<br />",
           "Proporção de chutes (em %): 0.00<br />Número de chutes: 0<br />",
           "Proporção de chutes (em %): 0.00<br />Número de chutes: 0<br />",
           "Proporção de chutes (em %): 0.00<br />Número de chutes: 0<br />",
           "Proporção de chutes (em %): 0.00<br />Número de chutes: 0<br />"
          ]
         ],
         "type": "heatmap",
         "x": [
          2.1875,
          6.5625,
          10.9375,
          15.3125,
          19.6875,
          24.0625,
          28.4375,
          32.8125,
          37.1875,
          41.5625,
          45.9375,
          50.3125,
          54.6875,
          59.0625,
          63.4375,
          67.8125,
          72.1875,
          76.5625,
          80.9375,
          85.3125,
          89.6875,
          94.0625,
          98.4375,
          102.8125
         ],
         "y": [
          66,
          62,
          58,
          54,
          50,
          46,
          42,
          38,
          34,
          30,
          26,
          22,
          18,
          14,
          10,
          6,
          2
         ],
         "z": [
          [
           0,
           0,
           0,
           0,
           0,
           0,
           0,
           0,
           0,
           0,
           0,
           0,
           0,
           0,
           0,
           0,
           0,
           0,
           0,
           0,
           0,
           0,
           0,
           0
          ],
          [
           0,
           0,
           0,
           0,
           0,
           0,
           0,
           0,
           0,
           0,
           0,
           0,
           0,
           0,
           0,
           0,
           0,
           0,
           0,
           0,
           0,
           0,
           0,
           0
          ],
          [
           0,
           0,
           0,
           0,
           0,
           0,
           0,
           0,
           0,
           0,
           0,
           0,
           0,
           0,
           0,
           0,
           0,
           0,
           0,
           0,
           0,
           0,
           0,
           0
          ],
          [
           0,
           0,
           0,
           0,
           0,
           0,
           0,
           0,
           0,
           0,
           0,
           0,
           0,
           0,
           0,
           0,
           0,
           0,
           0,
           0,
           0,
           0,
           0,
           0
          ],
          [
           0,
           0,
           0,
           0,
           0,
           0,
           0,
           0,
           0,
           0,
           0,
           12.5,
           0,
           0,
           0,
           0,
           0,
           0,
           0,
           0,
           0,
           0,
           0,
           0
          ],
          [
           0,
           0,
           0,
           0,
           0,
           0,
           0,
           0,
           0,
           0,
           0,
           12.5,
           0,
           0,
           0,
           0,
           0,
           0,
           0,
           0,
           0,
           0,
           0,
           0
          ],
          [
           0,
           0,
           0,
           0,
           0,
           0,
           0,
           0,
           0,
           0,
           0,
           0,
           0,
           12.5,
           0,
           0,
           0,
           0,
           0,
           0,
           0,
           0,
           0,
           0
          ],
          [
           0,
           0,
           0,
           0,
           0,
           0,
           0,
           0,
           0,
           0,
           0,
           0,
           0,
           0,
           0,
           0,
           0,
           0,
           0,
           0,
           0,
           0,
           0,
           0
          ],
          [
           0,
           0,
           0,
           0,
           0,
           0,
           0,
           0,
           0,
           0,
           0,
           0,
           0,
           0,
           0,
           0,
           0,
           0,
           0,
           0,
           0,
           0,
           12.5,
           25
          ],
          [
           0,
           0,
           0,
           0,
           0,
           0,
           0,
           0,
           0,
           0,
           0,
           0,
           0,
           0,
           0,
           0,
           0,
           0,
           0,
           0,
           0,
           0,
           0,
           0
          ],
          [
           0,
           0,
           0,
           0,
           0,
           0,
           0,
           0,
           0,
           0,
           0,
           0,
           0,
           0,
           0,
           0,
           0,
           0,
           0,
           0,
           0,
           0,
           0,
           0
          ],
          [
           0,
           0,
           0,
           0,
           0,
           0,
           0,
           0,
           0,
           0,
           0,
           0,
           0,
           0,
           0,
           0,
           0,
           0,
           0,
           0,
           0,
           0,
           0,
           0
          ],
          [
           0,
           0,
           0,
           0,
           0,
           0,
           0,
           0,
           0,
           12.5,
           0,
           0,
           0,
           0,
           0,
           0,
           0,
           0,
           0,
           0,
           0,
           0,
           0,
           0
          ],
          [
           0,
           0,
           0,
           0,
           0,
           0,
           0,
           0,
           0,
           0,
           0,
           0,
           0,
           0,
           0,
           0,
           0,
           0,
           0,
           0,
           0,
           0,
           0,
           0
          ],
          [
           0,
           0,
           0,
           0,
           0,
           0,
           0,
           0,
           0,
           0,
           0,
           0,
           0,
           0,
           0,
           0,
           0,
           0,
           0,
           0,
           0,
           0,
           0,
           0
          ],
          [
           0,
           0,
           0,
           0,
           0,
           0,
           0,
           0,
           0,
           0,
           0,
           0,
           0,
           0,
           0,
           0,
           0,
           0,
           0,
           0,
           0,
           0,
           0,
           0
          ],
          [
           0,
           0,
           0,
           0,
           0,
           0,
           0,
           0,
           0,
           0,
           12.5,
           0,
           0,
           0,
           0,
           0,
           0,
           0,
           0,
           0,
           0,
           0,
           0,
           0
          ]
         ],
         "zsmooth": false
        }
       ],
       "layout": {
        "autosize": false,
        "height": 612,
        "plot_bgcolor": "white",
        "shapes": [
         {
          "line": {
           "color": "white",
           "width": 2
          },
          "type": "line",
          "x0": 52.5,
          "x1": 52.5,
          "y0": 0,
          "y1": 68
         },
         {
          "line": {
           "color": "white",
           "width": 2
          },
          "type": "line",
          "x0": 0,
          "x1": 16,
          "y0": 54.16,
          "y1": 54.16
         },
         {
          "line": {
           "color": "white",
           "width": 2
          },
          "type": "line",
          "x0": 16,
          "x1": 16,
          "y0": 54.16,
          "y1": 13.84
         },
         {
          "line": {
           "color": "white",
           "width": 2
          },
          "type": "line",
          "x0": 16,
          "x1": 0,
          "y0": 13.84,
          "y1": 13.84
         },
         {
          "line": {
           "color": "white",
           "width": 2
          },
          "type": "line",
          "x0": 0,
          "x1": 5.5,
          "y0": 24.84,
          "y1": 24.84
         },
         {
          "line": {
           "color": "white",
           "width": 2
          },
          "type": "line",
          "x0": 5.5,
          "x1": 5.5,
          "y0": 24.84,
          "y1": 43.16
         },
         {
          "line": {
           "color": "white",
           "width": 2
          },
          "type": "line",
          "x0": 5.5,
          "x1": 0,
          "y0": 43.16,
          "y1": 43.16
         },
         {
          "line": {
           "color": "white",
           "width": 2
          },
          "type": "line",
          "x0": 105,
          "x1": 89,
          "y0": 54.16,
          "y1": 54.16
         },
         {
          "line": {
           "color": "white",
           "width": 2
          },
          "type": "line",
          "x0": 89,
          "x1": 89,
          "y0": 54.16,
          "y1": 13.84
         },
         {
          "line": {
           "color": "white",
           "width": 2
          },
          "type": "line",
          "x0": 89,
          "x1": 105,
          "y0": 13.84,
          "y1": 13.84
         },
         {
          "line": {
           "color": "white",
           "width": 2
          },
          "type": "line",
          "x0": 105,
          "x1": 99.5,
          "y0": 24.84,
          "y1": 24.84
         },
         {
          "line": {
           "color": "white",
           "width": 2
          },
          "type": "line",
          "x0": 99.5,
          "x1": 99.5,
          "y0": 24.84,
          "y1": 43.16
         },
         {
          "line": {
           "color": "white",
           "width": 2
          },
          "type": "line",
          "x0": 99.5,
          "x1": 105,
          "y0": 43.16,
          "y1": 43.16
         },
         {
          "fillcolor": "white",
          "line": {
           "color": "white"
          },
          "type": "circle",
          "x0": 10.5,
          "x1": 11.5,
          "xref": "x",
          "y0": 33.5,
          "y1": 34.5,
          "yref": "y"
         },
         {
          "fillcolor": "white",
          "line": {
           "color": "white"
          },
          "type": "circle",
          "x0": 93.5,
          "x1": 94.5,
          "xref": "x",
          "y0": 33.5,
          "y1": 34.5,
          "yref": "y"
         },
         {
          "fillcolor": "white",
          "line": {
           "color": "white"
          },
          "type": "circle",
          "x0": 52,
          "x1": 53,
          "xref": "x",
          "y0": 33.5,
          "y1": 34.5,
          "yref": "y"
         },
         {
          "line": {
           "color": "white"
          },
          "type": "circle",
          "x0": 43.35,
          "x1": 61.65,
          "xref": "x",
          "y0": 24.85,
          "y1": 43.15,
          "yref": "y"
         },
         {
          "line": {
           "color": "white",
           "width": 2
          },
          "type": "line",
          "x0": 0,
          "x1": 105,
          "y0": 0,
          "y1": 0
         },
         {
          "line": {
           "color": "white",
           "width": 2
          },
          "type": "line",
          "x0": 0,
          "x1": 0,
          "y0": 0,
          "y1": 68
         },
         {
          "line": {
           "color": "white",
           "width": 2
          },
          "type": "line",
          "x0": 0,
          "x1": 105,
          "y0": 68,
          "y1": 68
         },
         {
          "line": {
           "color": "white",
           "width": 2
          },
          "type": "line",
          "x0": 105,
          "x1": 105,
          "y0": 0,
          "y1": 68
         },
         {
          "line": {
           "color": "white",
           "width": 2
          },
          "type": "line",
          "x0": 0,
          "x1": -2,
          "y0": 30.34,
          "y1": 30.34
         },
         {
          "line": {
           "color": "white",
           "width": 2
          },
          "type": "line",
          "x0": 0,
          "x1": -2,
          "y0": 37.66,
          "y1": 37.66
         },
         {
          "line": {
           "color": "white",
           "width": 2
          },
          "type": "line",
          "x0": -2,
          "x1": -2,
          "y0": 30.34,
          "y1": 37.66
         },
         {
          "line": {
           "color": "white",
           "width": 2
          },
          "type": "line",
          "x0": 105,
          "x1": 107,
          "y0": 30.34,
          "y1": 30.34
         },
         {
          "line": {
           "color": "white",
           "width": 2
          },
          "type": "line",
          "x0": 105,
          "x1": 107,
          "y0": 37.66,
          "y1": 37.66
         },
         {
          "line": {
           "color": "white",
           "width": 2
          },
          "type": "line",
          "x0": 107,
          "x1": 107,
          "y0": 30.34,
          "y1": 37.66
         }
        ],
        "template": {
         "data": {
          "bar": [
           {
            "error_x": {
             "color": "#2a3f5f"
            },
            "error_y": {
             "color": "#2a3f5f"
            },
            "marker": {
             "line": {
              "color": "#E5ECF6",
              "width": 0.5
             },
             "pattern": {
              "fillmode": "overlay",
              "size": 10,
              "solidity": 0.2
             }
            },
            "type": "bar"
           }
          ],
          "barpolar": [
           {
            "marker": {
             "line": {
              "color": "#E5ECF6",
              "width": 0.5
             },
             "pattern": {
              "fillmode": "overlay",
              "size": 10,
              "solidity": 0.2
             }
            },
            "type": "barpolar"
           }
          ],
          "carpet": [
           {
            "aaxis": {
             "endlinecolor": "#2a3f5f",
             "gridcolor": "white",
             "linecolor": "white",
             "minorgridcolor": "white",
             "startlinecolor": "#2a3f5f"
            },
            "baxis": {
             "endlinecolor": "#2a3f5f",
             "gridcolor": "white",
             "linecolor": "white",
             "minorgridcolor": "white",
             "startlinecolor": "#2a3f5f"
            },
            "type": "carpet"
           }
          ],
          "choropleth": [
           {
            "colorbar": {
             "outlinewidth": 0,
             "ticks": ""
            },
            "type": "choropleth"
           }
          ],
          "contour": [
           {
            "colorbar": {
             "outlinewidth": 0,
             "ticks": ""
            },
            "colorscale": [
             [
              0,
              "#0d0887"
             ],
             [
              0.1111111111111111,
              "#46039f"
             ],
             [
              0.2222222222222222,
              "#7201a8"
             ],
             [
              0.3333333333333333,
              "#9c179e"
             ],
             [
              0.4444444444444444,
              "#bd3786"
             ],
             [
              0.5555555555555556,
              "#d8576b"
             ],
             [
              0.6666666666666666,
              "#ed7953"
             ],
             [
              0.7777777777777778,
              "#fb9f3a"
             ],
             [
              0.8888888888888888,
              "#fdca26"
             ],
             [
              1,
              "#f0f921"
             ]
            ],
            "type": "contour"
           }
          ],
          "contourcarpet": [
           {
            "colorbar": {
             "outlinewidth": 0,
             "ticks": ""
            },
            "type": "contourcarpet"
           }
          ],
          "heatmap": [
           {
            "colorbar": {
             "outlinewidth": 0,
             "ticks": ""
            },
            "colorscale": [
             [
              0,
              "#0d0887"
             ],
             [
              0.1111111111111111,
              "#46039f"
             ],
             [
              0.2222222222222222,
              "#7201a8"
             ],
             [
              0.3333333333333333,
              "#9c179e"
             ],
             [
              0.4444444444444444,
              "#bd3786"
             ],
             [
              0.5555555555555556,
              "#d8576b"
             ],
             [
              0.6666666666666666,
              "#ed7953"
             ],
             [
              0.7777777777777778,
              "#fb9f3a"
             ],
             [
              0.8888888888888888,
              "#fdca26"
             ],
             [
              1,
              "#f0f921"
             ]
            ],
            "type": "heatmap"
           }
          ],
          "heatmapgl": [
           {
            "colorbar": {
             "outlinewidth": 0,
             "ticks": ""
            },
            "colorscale": [
             [
              0,
              "#0d0887"
             ],
             [
              0.1111111111111111,
              "#46039f"
             ],
             [
              0.2222222222222222,
              "#7201a8"
             ],
             [
              0.3333333333333333,
              "#9c179e"
             ],
             [
              0.4444444444444444,
              "#bd3786"
             ],
             [
              0.5555555555555556,
              "#d8576b"
             ],
             [
              0.6666666666666666,
              "#ed7953"
             ],
             [
              0.7777777777777778,
              "#fb9f3a"
             ],
             [
              0.8888888888888888,
              "#fdca26"
             ],
             [
              1,
              "#f0f921"
             ]
            ],
            "type": "heatmapgl"
           }
          ],
          "histogram": [
           {
            "marker": {
             "pattern": {
              "fillmode": "overlay",
              "size": 10,
              "solidity": 0.2
             }
            },
            "type": "histogram"
           }
          ],
          "histogram2d": [
           {
            "colorbar": {
             "outlinewidth": 0,
             "ticks": ""
            },
            "colorscale": [
             [
              0,
              "#0d0887"
             ],
             [
              0.1111111111111111,
              "#46039f"
             ],
             [
              0.2222222222222222,
              "#7201a8"
             ],
             [
              0.3333333333333333,
              "#9c179e"
             ],
             [
              0.4444444444444444,
              "#bd3786"
             ],
             [
              0.5555555555555556,
              "#d8576b"
             ],
             [
              0.6666666666666666,
              "#ed7953"
             ],
             [
              0.7777777777777778,
              "#fb9f3a"
             ],
             [
              0.8888888888888888,
              "#fdca26"
             ],
             [
              1,
              "#f0f921"
             ]
            ],
            "type": "histogram2d"
           }
          ],
          "histogram2dcontour": [
           {
            "colorbar": {
             "outlinewidth": 0,
             "ticks": ""
            },
            "colorscale": [
             [
              0,
              "#0d0887"
             ],
             [
              0.1111111111111111,
              "#46039f"
             ],
             [
              0.2222222222222222,
              "#7201a8"
             ],
             [
              0.3333333333333333,
              "#9c179e"
             ],
             [
              0.4444444444444444,
              "#bd3786"
             ],
             [
              0.5555555555555556,
              "#d8576b"
             ],
             [
              0.6666666666666666,
              "#ed7953"
             ],
             [
              0.7777777777777778,
              "#fb9f3a"
             ],
             [
              0.8888888888888888,
              "#fdca26"
             ],
             [
              1,
              "#f0f921"
             ]
            ],
            "type": "histogram2dcontour"
           }
          ],
          "mesh3d": [
           {
            "colorbar": {
             "outlinewidth": 0,
             "ticks": ""
            },
            "type": "mesh3d"
           }
          ],
          "parcoords": [
           {
            "line": {
             "colorbar": {
              "outlinewidth": 0,
              "ticks": ""
             }
            },
            "type": "parcoords"
           }
          ],
          "pie": [
           {
            "automargin": true,
            "type": "pie"
           }
          ],
          "scatter": [
           {
            "fillpattern": {
             "fillmode": "overlay",
             "size": 10,
             "solidity": 0.2
            },
            "type": "scatter"
           }
          ],
          "scatter3d": [
           {
            "line": {
             "colorbar": {
              "outlinewidth": 0,
              "ticks": ""
             }
            },
            "marker": {
             "colorbar": {
              "outlinewidth": 0,
              "ticks": ""
             }
            },
            "type": "scatter3d"
           }
          ],
          "scattercarpet": [
           {
            "marker": {
             "colorbar": {
              "outlinewidth": 0,
              "ticks": ""
             }
            },
            "type": "scattercarpet"
           }
          ],
          "scattergeo": [
           {
            "marker": {
             "colorbar": {
              "outlinewidth": 0,
              "ticks": ""
             }
            },
            "type": "scattergeo"
           }
          ],
          "scattergl": [
           {
            "marker": {
             "colorbar": {
              "outlinewidth": 0,
              "ticks": ""
             }
            },
            "type": "scattergl"
           }
          ],
          "scattermapbox": [
           {
            "marker": {
             "colorbar": {
              "outlinewidth": 0,
              "ticks": ""
             }
            },
            "type": "scattermapbox"
           }
          ],
          "scatterpolar": [
           {
            "marker": {
             "colorbar": {
              "outlinewidth": 0,
              "ticks": ""
             }
            },
            "type": "scatterpolar"
           }
          ],
          "scatterpolargl": [
           {
            "marker": {
             "colorbar": {
              "outlinewidth": 0,
              "ticks": ""
             }
            },
            "type": "scatterpolargl"
           }
          ],
          "scatterternary": [
           {
            "marker": {
             "colorbar": {
              "outlinewidth": 0,
              "ticks": ""
             }
            },
            "type": "scatterternary"
           }
          ],
          "surface": [
           {
            "colorbar": {
             "outlinewidth": 0,
             "ticks": ""
            },
            "colorscale": [
             [
              0,
              "#0d0887"
             ],
             [
              0.1111111111111111,
              "#46039f"
             ],
             [
              0.2222222222222222,
              "#7201a8"
             ],
             [
              0.3333333333333333,
              "#9c179e"
             ],
             [
              0.4444444444444444,
              "#bd3786"
             ],
             [
              0.5555555555555556,
              "#d8576b"
             ],
             [
              0.6666666666666666,
              "#ed7953"
             ],
             [
              0.7777777777777778,
              "#fb9f3a"
             ],
             [
              0.8888888888888888,
              "#fdca26"
             ],
             [
              1,
              "#f0f921"
             ]
            ],
            "type": "surface"
           }
          ],
          "table": [
           {
            "cells": {
             "fill": {
              "color": "#EBF0F8"
             },
             "line": {
              "color": "white"
             }
            },
            "header": {
             "fill": {
              "color": "#C8D4E3"
             },
             "line": {
              "color": "white"
             }
            },
            "type": "table"
           }
          ]
         },
         "layout": {
          "annotationdefaults": {
           "arrowcolor": "#2a3f5f",
           "arrowhead": 0,
           "arrowwidth": 1
          },
          "autotypenumbers": "strict",
          "coloraxis": {
           "colorbar": {
            "outlinewidth": 0,
            "ticks": ""
           }
          },
          "colorscale": {
           "diverging": [
            [
             0,
             "#8e0152"
            ],
            [
             0.1,
             "#c51b7d"
            ],
            [
             0.2,
             "#de77ae"
            ],
            [
             0.3,
             "#f1b6da"
            ],
            [
             0.4,
             "#fde0ef"
            ],
            [
             0.5,
             "#f7f7f7"
            ],
            [
             0.6,
             "#e6f5d0"
            ],
            [
             0.7,
             "#b8e186"
            ],
            [
             0.8,
             "#7fbc41"
            ],
            [
             0.9,
             "#4d9221"
            ],
            [
             1,
             "#276419"
            ]
           ],
           "sequential": [
            [
             0,
             "#0d0887"
            ],
            [
             0.1111111111111111,
             "#46039f"
            ],
            [
             0.2222222222222222,
             "#7201a8"
            ],
            [
             0.3333333333333333,
             "#9c179e"
            ],
            [
             0.4444444444444444,
             "#bd3786"
            ],
            [
             0.5555555555555556,
             "#d8576b"
            ],
            [
             0.6666666666666666,
             "#ed7953"
            ],
            [
             0.7777777777777778,
             "#fb9f3a"
            ],
            [
             0.8888888888888888,
             "#fdca26"
            ],
            [
             1,
             "#f0f921"
            ]
           ],
           "sequentialminus": [
            [
             0,
             "#0d0887"
            ],
            [
             0.1111111111111111,
             "#46039f"
            ],
            [
             0.2222222222222222,
             "#7201a8"
            ],
            [
             0.3333333333333333,
             "#9c179e"
            ],
            [
             0.4444444444444444,
             "#bd3786"
            ],
            [
             0.5555555555555556,
             "#d8576b"
            ],
            [
             0.6666666666666666,
             "#ed7953"
            ],
            [
             0.7777777777777778,
             "#fb9f3a"
            ],
            [
             0.8888888888888888,
             "#fdca26"
            ],
            [
             1,
             "#f0f921"
            ]
           ]
          },
          "colorway": [
           "#636efa",
           "#EF553B",
           "#00cc96",
           "#ab63fa",
           "#FFA15A",
           "#19d3f3",
           "#FF6692",
           "#B6E880",
           "#FF97FF",
           "#FECB52"
          ],
          "font": {
           "color": "#2a3f5f"
          },
          "geo": {
           "bgcolor": "white",
           "lakecolor": "white",
           "landcolor": "#E5ECF6",
           "showlakes": true,
           "showland": true,
           "subunitcolor": "white"
          },
          "hoverlabel": {
           "align": "left"
          },
          "hovermode": "closest",
          "mapbox": {
           "style": "light"
          },
          "paper_bgcolor": "white",
          "plot_bgcolor": "#E5ECF6",
          "polar": {
           "angularaxis": {
            "gridcolor": "white",
            "linecolor": "white",
            "ticks": ""
           },
           "bgcolor": "#E5ECF6",
           "radialaxis": {
            "gridcolor": "white",
            "linecolor": "white",
            "ticks": ""
           }
          },
          "scene": {
           "xaxis": {
            "backgroundcolor": "#E5ECF6",
            "gridcolor": "white",
            "gridwidth": 2,
            "linecolor": "white",
            "showbackground": true,
            "ticks": "",
            "zerolinecolor": "white"
           },
           "yaxis": {
            "backgroundcolor": "#E5ECF6",
            "gridcolor": "white",
            "gridwidth": 2,
            "linecolor": "white",
            "showbackground": true,
            "ticks": "",
            "zerolinecolor": "white"
           },
           "zaxis": {
            "backgroundcolor": "#E5ECF6",
            "gridcolor": "white",
            "gridwidth": 2,
            "linecolor": "white",
            "showbackground": true,
            "ticks": "",
            "zerolinecolor": "white"
           }
          },
          "shapedefaults": {
           "line": {
            "color": "#2a3f5f"
           }
          },
          "ternary": {
           "aaxis": {
            "gridcolor": "white",
            "linecolor": "white",
            "ticks": ""
           },
           "baxis": {
            "gridcolor": "white",
            "linecolor": "white",
            "ticks": ""
           },
           "bgcolor": "#E5ECF6",
           "caxis": {
            "gridcolor": "white",
            "linecolor": "white",
            "ticks": ""
           }
          },
          "title": {
           "x": 0.05
          },
          "xaxis": {
           "automargin": true,
           "gridcolor": "white",
           "linecolor": "white",
           "ticks": "",
           "title": {
            "standoff": 15
           },
           "zerolinecolor": "white",
           "zerolinewidth": 2
          },
          "yaxis": {
           "automargin": true,
           "gridcolor": "white",
           "linecolor": "white",
           "ticks": "",
           "title": {
            "standoff": 15
           },
           "zerolinecolor": "white",
           "zerolinewidth": 2
          }
         }
        },
        "title": {
         "text": "Posição dos chutes outliers",
         "x": 0.5,
         "xanchor": "center",
         "y": 0.9,
         "yanchor": "top"
        },
        "width": 840,
        "xaxis": {
         "range": [
          -5,
          110
         ],
         "showgrid": false,
         "showticklabels": false,
         "zeroline": false
        },
        "yaxis": {
         "range": [
          -5,
          73
         ],
         "showgrid": false,
         "showticklabels": false,
         "zeroline": false
        }
       }
      }
     },
     "metadata": {},
     "output_type": "display_data"
    }
   ],
   "source": [
    "nb_shots, x,y, df_shots = p.prepare_heatmap(outliers, 'x', 'y', 24,17, return_df = True)\n",
    "share_shots = nb_shots / nb_shots.sum() * 100\n",
    "\n",
    "# plot the heatmap\n",
    "dict_info = {\"Proporção de chutes (em %)\": {\"values\": share_shots, \"display_type\": \".2f\"},\n",
    "             \"Número de chutes\": {\"values\": nb_shots, \"display_type\": \".0f\"}}\n",
    "fig = p.create_heatmap(x, y, share_shots, dict_info, title_name=\"Posição dos chutes outliers\")\n",
    "fig.show()"
   ]
  },
  {
   "cell_type": "code",
   "execution_count": 41,
   "id": "bf3b16e0",
   "metadata": {},
   "outputs": [
    {
     "data": {
      "text/plain": [
       "0.17282350399654353"
      ]
     },
     "execution_count": 41,
     "metadata": {},
     "output_type": "execute_result"
    }
   ],
   "source": [
    "outliers.shape[0]/goals.shape[0] * 100"
   ]
  },
  {
   "attachments": {},
   "cell_type": "markdown",
   "id": "e20cfdd8",
   "metadata": {},
   "source": [
    "Os gols outliers representam uma fração irrisória do total de gols. Como o futebol é um jogo sujeito a aleatoriedades"
   ]
  },
  {
   "attachments": {},
   "cell_type": "markdown",
   "id": "f8ae6650",
   "metadata": {},
   "source": [
    "### Hipótese 1) Existe alguma relação entre o ângulo do chute e gols?"
   ]
  },
  {
   "cell_type": "code",
   "execution_count": 25,
   "id": "5ca15119",
   "metadata": {},
   "outputs": [
    {
     "data": {
      "image/png": "[encoded data removed]",
      "text/plain": [
       "<Figure size 640x480 with 1 Axes>"
      ]
     },
     "metadata": {},
     "output_type": "display_data"
    }
   ],
   "source": [
    "#number of shots from angle\n",
    "shotcount_dist = np.histogram(data['angle']*180/np.pi, bins=40, range=[0, 150])\n",
    "#number of goals from angle\n",
    "goalcount_dist = np.histogram(goals['angle']*180/np.pi, bins=40, range=[0, 150])\n",
    "np.seterr(divide='ignore', invalid='ignore')\n",
    "#probability of scoring goal\n",
    "prob_goal = np.divide(goalcount_dist[0], shotcount_dist[0])\n",
    "angle = shotcount_dist[1]\n",
    "midangle = (angle[:-1] + angle[1:])/2\n",
    "#make plot\n",
    "fig,ax = plt.subplots()\n",
    "ax.plot(midangle, prob_goal, linestyle='none', marker= '.', markersize= 12, color='black')\n",
    "ax.set_ylabel('Probability chance scored')\n",
    "ax.set_xlabel(\"Shot angle (degrees)\")\n",
    "ax.spines['top'].set_visible(False)\n",
    "ax.spines['right'].set_visible(False)\n",
    "plt.show()"
   ]
  },
  {
   "cell_type": "code",
   "execution_count": null,
   "id": "e8a5a5d8",
   "metadata": {},
   "outputs": [],
   "source": []
  }
 ],
 "metadata": {
  "hide_input": false,
  "kernelspec": {
   "display_name": "Python 3 (ipykernel)",
   "language": "python",
   "name": "python3"
  },
  "language_info": {
   "codemirror_mode": {
    "name": "ipython",
    "version": 3
   },
   "file_extension": ".py",
   "mimetype": "text/x-python",
   "name": "python",
   "nbconvert_exporter": "python",
   "pygments_lexer": "ipython3",
   "version": "3.9.13"
  },
  "varInspector": {
   "cols": {
    "lenName": 16,
    "lenType": 16,
    "lenVar": 40
   },
   "kernels_config": {
    "python": {
     "delete_cmd_postfix": "",
     "delete_cmd_prefix": "del ",
     "library": "var_list.py",
     "varRefreshCmd": "print(var_dic_list())"
    },
    "r": {
     "delete_cmd_postfix": ") ",
     "delete_cmd_prefix": "rm(",
     "library": "var_list.r",
     "varRefreshCmd": "cat(var_dic_list()) "
    }
   },
   "types_to_exclude": [
    "module",
    "function",
    "builtin_function_or_method",
    "instance",
    "_Feature"
   ],
   "window_display": false
  }
 },
 "nbformat": 4,
 "nbformat_minor": 5
}
